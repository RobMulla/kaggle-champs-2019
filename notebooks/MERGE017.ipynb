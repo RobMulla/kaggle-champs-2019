{
 "cells": [
  {
   "cell_type": "markdown",
   "metadata": {},
   "source": [
    "# MERGE016\n",
    "Best of Each Type as of July 24"
   ]
  },
  {
   "cell_type": "code",
   "execution_count": 1,
   "metadata": {},
   "outputs": [],
   "source": [
    "import pandas as pd\n",
    "import numpy as np\n",
    "import matplotlib.pylab as plt\n",
    "import os\n",
    "from sklearn.metrics import mean_absolute_error\n",
    "\n",
    "def group_mean_log_mae(y_true, y_pred, groups, floor=1e-9):\n",
    "    maes = (y_true-y_pred).abs().groupby(groups).mean()\n",
    "    return np.log(maes.map(lambda x: max(x, floor))).mean()"
   ]
  },
  {
   "cell_type": "code",
   "execution_count": 2,
   "metadata": {},
   "outputs": [
    {
     "name": "stdout",
     "output_type": "stream",
     "text": [
      "====== Running for type 1JHC ========\n",
      "M053_0725_0821_1JHC_sub_0.4215MAE_-0.8639LMAE_catboost_3folds_500000iter_0.1lr.parquet\n",
      "M048_0718_1745_1JHC_sub_0.4379MAE_-0.8258LMAE_catboost_3folds_500000iter_0.1lr.parquet\n",
      "M055_0726_2356_1JHC_sub_0.4214MAE_-0.8641LMAE_catboost_3folds_500000iter_0.1lr.parquet\n",
      "====== Running for type 2JHH ========\n",
      "M052_0723_1745_2JHH_sub_0.1001MAE_-2.301LMAE_catboost_3folds_500000iter_0.01lr.parquet\n",
      "M054_0726_1820_2JHH_sub_0.1199MAE_-2.121LMAE_catboost_3folds_10000iter_0.1lr.parquet\n",
      "M048_0717_2239_2JHH_sub_0.1020MAE_-2.282LMAE_catboost_3folds_500000iter_0.1lr.parquet\n",
      "====== Running for type 1JHN ========\n",
      "M049_0719_2005_1JHN_sub_0.2565MAE_-1.361LMAE_xgboost_3folds_100000iter_0.005lr.parquet\n",
      "M053_0725_0821_1JHN_sub_0.2821MAE_-1.265LMAE_catboost_3folds_500000iter_0.1lr.parquet\n",
      "M047_0714_2226_1JHN_submission_0.3276MAE_-1.116LMAE_catboost_3folds_500000iter_0.1lr.parquet\n",
      "====== Running for type 2JHN ========\n",
      "M053_0725_0821_2JHN_sub_0.1202MAE_-2.118LMAE_catboost_3folds_500000iter_0.1lr.parquet\n",
      "M047_0714_2226_2JHN_submission_0.1200MAE_-2.12LMAE_catboost_3folds_500000iter_0.1lr.parquet\n",
      "M049_0720_0044_2JHN_sub_0.1204MAE_-2.117LMAE_xgboost_3folds_50000iter_0.01lr.parquet\n",
      "====== Running for type 2JHC ========\n",
      "M047_0714_2226_2JHC_submission_0.1737MAE_-1.75LMAE_catboost_3folds_500000iter_0.1lr.parquet\n",
      "M049_0721_0838_2JHC_sub_0.1785MAE_-1.723LMAE_xgboost_3folds_500000iter_0.05lr.parquet\n",
      "M048_0720_0646_2JHC_sub_0.1761MAE_-1.737LMAE_catboost_3folds_500000iter_0.1lr.parquet\n",
      "====== Running for type 3JHH ========\n",
      "M047_0714_2226_3JHH_submission_0.1225MAE_-2.1LMAE_catboost_3folds_500000iter_0.1lr.parquet\n",
      "M053_0725_0821_3JHH_sub_0.1225MAE_-2.1LMAE_catboost_3folds_500000iter_0.1lr.parquet\n",
      "M055_0726_2356_3JHH_sub_0.1099MAE_-2.208LMAE_catboost_3folds_500000iter_0.1lr.parquet\n",
      "====== Running for type 3JHC ========\n",
      "M049_0721_2030_3JHC_sub_0.2007MAE_-1.606LMAE_xgboost_3folds_500000iter_0.05lr.parquet\n",
      "M047_0714_2226_3JHC_submission_0.1995MAE_-1.612LMAE_catboost_3folds_500000iter_0.1lr.parquet\n",
      "====== Running for type 3JHN ========\n",
      "M047_0714_2226_3JHN_submission_0.0948MAE_-2.356LMAE_catboost_3folds_500000iter_0.1lr.parquet\n",
      "M050_0721_2252_3JHN_sub_0.0923MAE_-2.383LMAE_xgboost_3folds_500000iter_0.005lr.parquet\n",
      "M052_0723_1745_3JHN_sub_0.0916MAE_-2.39LMAE_catboost_3folds_500000iter_0.01lr.parquet\n"
     ]
    }
   ],
   "source": [
    "types = ['1JHC', '2JHH', '1JHN', '2JHN', '2JHC','3JHH','3JHC', '3JHN']\n",
    "oof = pd.read_csv('../input/train.csv')\n",
    "sub = pd.read_csv('../input/test.csv')\n",
    "sub_final = pd.DataFrame()\n",
    "oof_final = pd.DataFrame()\n",
    "sub = sub.drop(['molecule_name','atom_index_0','atom_index_1'], axis=1)\n",
    "oof = oof.drop(['molecule_name','atom_index_0','atom_index_1'], axis=1)\n",
    "\n",
    "for t in types:\n",
    "    subt = sub.loc[sub['type'] == t].copy()\n",
    "    ooft = oof.loc[oof['type'] == t].copy()\n",
    "    print(f'====== Running for type {t} ========')\n",
    "    for file in os.listdir(f'../type_results/{t}/'):\n",
    "        if '3folds' in file:\n",
    "    #        print(file)\n",
    "            if 'oof' in file:\n",
    "                df = pd.read_parquet(f'../type_results/{t}/{file}')\n",
    "                ooft = ooft.merge(df[['id','oof_preds']] \\\n",
    "                              .rename(columns={'oof_preds': file[:4]}),\n",
    "                          on='id')\n",
    "            if 'sub' in file:\n",
    "                df = pd.read_parquet(f'../type_results/{t}/{file}')\n",
    "                subt = subt.merge(df[['id','scalar_coupling_constant']] \\\n",
    "                              .rename(columns={'scalar_coupling_constant': file[:4]}),\n",
    "                          on='id')\n",
    "                print(file)\n",
    "    #             df = pd.read_parquet(f'../type_results/{t}/{file}')\n",
    "    #             sub = pd.concat([sub, df])\n",
    "    sub_final = pd.concat([subt, sub_final], sort=False)\n",
    "    oof_final = pd.concat([ooft, oof_final], sort=False)"
   ]
  },
  {
   "cell_type": "code",
   "execution_count": 3,
   "metadata": {},
   "outputs": [
    {
     "data": {
      "text/html": [
       "<div>\n",
       "<style scoped>\n",
       "    .dataframe tbody tr th:only-of-type {\n",
       "        vertical-align: middle;\n",
       "    }\n",
       "\n",
       "    .dataframe tbody tr th {\n",
       "        vertical-align: top;\n",
       "    }\n",
       "\n",
       "    .dataframe thead th {\n",
       "        text-align: right;\n",
       "    }\n",
       "</style>\n",
       "<table border=\"1\" class=\"dataframe\">\n",
       "  <thead>\n",
       "    <tr style=\"text-align: right;\">\n",
       "      <th></th>\n",
       "      <th>id</th>\n",
       "      <th>type</th>\n",
       "      <th>scalar_coupling_constant</th>\n",
       "      <th>M047</th>\n",
       "      <th>M052</th>\n",
       "      <th>M050</th>\n",
       "      <th>M049</th>\n",
       "      <th>M055</th>\n",
       "      <th>M053</th>\n",
       "      <th>M048</th>\n",
       "      <th>M054</th>\n",
       "    </tr>\n",
       "  </thead>\n",
       "  <tbody>\n",
       "    <tr>\n",
       "      <th>0</th>\n",
       "      <td>73</td>\n",
       "      <td>3JHN</td>\n",
       "      <td>0.880802</td>\n",
       "      <td>1.217714</td>\n",
       "      <td>0.907007</td>\n",
       "      <td>0.871911</td>\n",
       "      <td>NaN</td>\n",
       "      <td>NaN</td>\n",
       "      <td>NaN</td>\n",
       "      <td>NaN</td>\n",
       "      <td>NaN</td>\n",
       "    </tr>\n",
       "    <tr>\n",
       "      <th>1</th>\n",
       "      <td>78</td>\n",
       "      <td>3JHN</td>\n",
       "      <td>0.880957</td>\n",
       "      <td>1.199598</td>\n",
       "      <td>0.908139</td>\n",
       "      <td>0.873156</td>\n",
       "      <td>NaN</td>\n",
       "      <td>NaN</td>\n",
       "      <td>NaN</td>\n",
       "      <td>NaN</td>\n",
       "      <td>NaN</td>\n",
       "    </tr>\n",
       "    <tr>\n",
       "      <th>2</th>\n",
       "      <td>82</td>\n",
       "      <td>3JHN</td>\n",
       "      <td>0.880871</td>\n",
       "      <td>1.196354</td>\n",
       "      <td>0.863326</td>\n",
       "      <td>0.876223</td>\n",
       "      <td>NaN</td>\n",
       "      <td>NaN</td>\n",
       "      <td>NaN</td>\n",
       "      <td>NaN</td>\n",
       "      <td>NaN</td>\n",
       "    </tr>\n",
       "    <tr>\n",
       "      <th>3</th>\n",
       "      <td>213</td>\n",
       "      <td>3JHN</td>\n",
       "      <td>-0.052074</td>\n",
       "      <td>0.028468</td>\n",
       "      <td>0.037855</td>\n",
       "      <td>-0.135423</td>\n",
       "      <td>NaN</td>\n",
       "      <td>NaN</td>\n",
       "      <td>NaN</td>\n",
       "      <td>NaN</td>\n",
       "      <td>NaN</td>\n",
       "    </tr>\n",
       "    <tr>\n",
       "      <th>4</th>\n",
       "      <td>218</td>\n",
       "      <td>3JHN</td>\n",
       "      <td>1.611320</td>\n",
       "      <td>2.005109</td>\n",
       "      <td>1.819162</td>\n",
       "      <td>2.285958</td>\n",
       "      <td>NaN</td>\n",
       "      <td>NaN</td>\n",
       "      <td>NaN</td>\n",
       "      <td>NaN</td>\n",
       "      <td>NaN</td>\n",
       "    </tr>\n",
       "  </tbody>\n",
       "</table>\n",
       "</div>"
      ],
      "text/plain": [
       "    id  type  scalar_coupling_constant      M047      M052      M050  M049  \\\n",
       "0   73  3JHN                  0.880802  1.217714  0.907007  0.871911   NaN   \n",
       "1   78  3JHN                  0.880957  1.199598  0.908139  0.873156   NaN   \n",
       "2   82  3JHN                  0.880871  1.196354  0.863326  0.876223   NaN   \n",
       "3  213  3JHN                 -0.052074  0.028468  0.037855 -0.135423   NaN   \n",
       "4  218  3JHN                  1.611320  2.005109  1.819162  2.285958   NaN   \n",
       "\n",
       "   M055  M053  M048  M054  \n",
       "0   NaN   NaN   NaN   NaN  \n",
       "1   NaN   NaN   NaN   NaN  \n",
       "2   NaN   NaN   NaN   NaN  \n",
       "3   NaN   NaN   NaN   NaN  \n",
       "4   NaN   NaN   NaN   NaN  "
      ]
     },
     "execution_count": 3,
     "metadata": {},
     "output_type": "execute_result"
    }
   ],
   "source": [
    "oof_final.head()"
   ]
  },
  {
   "cell_type": "code",
   "execution_count": 11,
   "metadata": {},
   "outputs": [
    {
     "data": {
      "text/plain": [
       "0.4503699367015481"
      ]
     },
     "execution_count": 11,
     "metadata": {},
     "output_type": "execute_result"
    }
   ],
   "source": [
    "mean_absolute_error(d['scalar_coupling_constant'],d[col])"
   ]
  },
  {
   "cell_type": "code",
   "execution_count": 18,
   "metadata": {},
   "outputs": [
    {
     "data": {
      "text/plain": [
       "True"
      ]
     },
     "execution_count": 18,
     "metadata": {},
     "output_type": "execute_result"
    }
   ],
   "source": []
  },
  {
   "cell_type": "code",
   "execution_count": 23,
   "metadata": {},
   "outputs": [
    {
     "name": "stdout",
     "output_type": "stream",
     "text": [
      "M047    -0.79769\n",
      "M049    -0.79101\n",
      "M048    -0.82582\n",
      "M047    -1.11607\n",
      "M049    -1.36075\n",
      "M050    -1.09335\n",
      "M048    -1.08867\n",
      "M047    -1.75030\n",
      "M049    -1.72309\n",
      "M048    -1.73679\n",
      "M047    -2.20947\n",
      "M049    -2.15493\n",
      "M050    -2.12851\n",
      "M048    -2.28249\n",
      "M047    -2.12040\n",
      "M049    -2.11730\n",
      "M050    -2.08998\n",
      "M048    -2.08225\n",
      "M047    -1.61178\n",
      "M049    -1.60615\n",
      "M047    -2.09955\n",
      "M049    -2.09766\n",
      "M050    -2.02550\n",
      "M048    -2.08565\n",
      "M047    -2.35605\n",
      "M049    -2.15576\n",
      "M052    -2.39002\n",
      "M050    -2.38316\n",
      "M048    -2.32126\n"
     ]
    }
   ],
   "source": [
    "for i, d in oof_final.groupby('type'):\n",
    "    best_lmae = 0\n",
    "    for col in [x for x in oof_final.columns if 'M' in x]:\n",
    "        if d[col].isna().any():\n",
    "            continue\n",
    "        lmae = np.log(mean_absolute_error(d['scalar_coupling_constant'],d[col]))\n",
    "        print(f'{col}    {lmae:0.5f}')\n",
    "        if lmae < best_lmae:\n",
    "            oof_final.loc[oof_final['type'] == i, 'oof_final'] = d[col]\n",
    "            sub_final.loc[sub_final['type'] == i, 'sub_final'] = sub_final.loc[sub_final['type'] == i][col]"
   ]
  },
  {
   "cell_type": "code",
   "execution_count": 22,
   "metadata": {},
   "outputs": [
    {
     "data": {
      "text/plain": [
       "-1.7536361788922883"
      ]
     },
     "execution_count": 22,
     "metadata": {},
     "output_type": "execute_result"
    }
   ],
   "source": [
    "group_mean_log_mae(oof_final['scalar_coupling_constant'],\n",
    "                   oof_final['oof_final'],\n",
    "                   oof_final['type'])"
   ]
  },
  {
   "cell_type": "markdown",
   "metadata": {},
   "source": [
    "# Compare with Good Sub"
   ]
  },
  {
   "cell_type": "code",
   "execution_count": 18,
   "metadata": {},
   "outputs": [],
   "source": [
    "sub_good = pd.read_csv('../submissions/BLEND008_submission_-1.7087CV_Jul14best.csv')"
   ]
  },
  {
   "cell_type": "code",
   "execution_count": 19,
   "metadata": {},
   "outputs": [],
   "source": [
    "sub['good_scc'] = sub_good['scalar_coupling_constant']"
   ]
  },
  {
   "cell_type": "code",
   "execution_count": 20,
   "metadata": {},
   "outputs": [
    {
     "data": {
      "text/html": [
       "<div>\n",
       "<style scoped>\n",
       "    .dataframe tbody tr th:only-of-type {\n",
       "        vertical-align: middle;\n",
       "    }\n",
       "\n",
       "    .dataframe tbody tr th {\n",
       "        vertical-align: top;\n",
       "    }\n",
       "\n",
       "    .dataframe thead th {\n",
       "        text-align: right;\n",
       "    }\n",
       "</style>\n",
       "<table border=\"1\" class=\"dataframe\">\n",
       "  <thead>\n",
       "    <tr style=\"text-align: right;\">\n",
       "      <th></th>\n",
       "      <th>scalar_coupling_constant</th>\n",
       "      <th>good_scc</th>\n",
       "    </tr>\n",
       "  </thead>\n",
       "  <tbody>\n",
       "    <tr>\n",
       "      <th>scalar_coupling_constant</th>\n",
       "      <td>1.000000</td>\n",
       "      <td>0.999987</td>\n",
       "    </tr>\n",
       "    <tr>\n",
       "      <th>good_scc</th>\n",
       "      <td>0.999987</td>\n",
       "      <td>1.000000</td>\n",
       "    </tr>\n",
       "  </tbody>\n",
       "</table>\n",
       "</div>"
      ],
      "text/plain": [
       "                          scalar_coupling_constant  good_scc\n",
       "scalar_coupling_constant                  1.000000  0.999987\n",
       "good_scc                                  0.999987  1.000000"
      ]
     },
     "execution_count": 20,
     "metadata": {},
     "output_type": "execute_result"
    }
   ],
   "source": [
    "sub[['scalar_coupling_constant','good_scc']].corr()"
   ]
  },
  {
   "cell_type": "code",
   "execution_count": 21,
   "metadata": {},
   "outputs": [],
   "source": [
    "sub = sub.sort_values('id').reset_index(drop=True)\n",
    "oof = oof.sort_values('id').reset_index(drop=True)"
   ]
  },
  {
   "cell_type": "code",
   "execution_count": 22,
   "metadata": {},
   "outputs": [],
   "source": [
    "# Save Results\n",
    "sub[['id','scalar_coupling_constant']].to_csv('../submissions/MERGE014_sub_M046_M047_-1.7313CV.csv', index=False)\n",
    "oof.to_csv('../oof/MERGE014_oof_M046_M047_-1.7313CV.csv', index=False)"
   ]
  },
  {
   "cell_type": "code",
   "execution_count": null,
   "metadata": {},
   "outputs": [],
   "source": []
  }
 ],
 "metadata": {
  "kernelspec": {
   "display_name": "Python 3",
   "language": "python",
   "name": "python3"
  },
  "language_info": {
   "codemirror_mode": {
    "name": "ipython",
    "version": 3
   },
   "file_extension": ".py",
   "mimetype": "text/x-python",
   "name": "python",
   "nbconvert_exporter": "python",
   "pygments_lexer": "ipython3",
   "version": "3.6.8"
  }
 },
 "nbformat": 4,
 "nbformat_minor": 4
}
