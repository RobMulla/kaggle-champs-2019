{
 "cells": [
  {
   "cell_type": "code",
   "execution_count": 1,
   "metadata": {},
   "outputs": [],
   "source": [
    "import pandas as pd\n",
    "import matplotlib.pylab as plt"
   ]
  },
  {
   "cell_type": "code",
   "execution_count": 2,
   "metadata": {},
   "outputs": [],
   "source": [
    "train = pd.read_csv('../input/train.csv')\n",
    "test = pd.read_csv('../input/test.csv')"
   ]
  },
  {
   "cell_type": "code",
   "execution_count": 3,
   "metadata": {},
   "outputs": [],
   "source": [
    "angle_details = pd.read_csv('../data/openbabel/angle_details.csv')\n",
    "atom_details = pd.read_csv('../data/openbabel/atom_details.csv')\n",
    "bond_details = pd.read_csv('../data/openbabel/bond_details.csv')\n",
    "closest = pd.read_csv('../data/openbabel/closest.csv')\n",
    "distances = pd.read_csv('../data/openbabel/distances.csv')\n",
    "molecule_details = pd.read_csv('../data/openbabel/molecule_details.csv')\n",
    "torsion_details = pd.read_csv('../data/openbabel/torsion_details.csv')"
   ]
  },
  {
   "cell_type": "code",
   "execution_count": 4,
   "metadata": {},
   "outputs": [],
   "source": [
    "tt = pd.concat([train, test], axis=0, sort=False)"
   ]
  },
  {
   "cell_type": "code",
   "execution_count": 5,
   "metadata": {},
   "outputs": [
    {
     "data": {
      "text/plain": [
       "(7163689, 6)"
      ]
     },
     "execution_count": 5,
     "metadata": {},
     "output_type": "execute_result"
    }
   ],
   "source": [
    "tt.shape"
   ]
  },
  {
   "cell_type": "code",
   "execution_count": 6,
   "metadata": {},
   "outputs": [
    {
     "data": {
      "text/html": [
       "<div>\n",
       "<style scoped>\n",
       "    .dataframe tbody tr th:only-of-type {\n",
       "        vertical-align: middle;\n",
       "    }\n",
       "\n",
       "    .dataframe tbody tr th {\n",
       "        vertical-align: top;\n",
       "    }\n",
       "\n",
       "    .dataframe thead th {\n",
       "        text-align: right;\n",
       "    }\n",
       "</style>\n",
       "<table border=\"1\" class=\"dataframe\">\n",
       "  <thead>\n",
       "    <tr style=\"text-align: right;\">\n",
       "      <th></th>\n",
       "      <th>id</th>\n",
       "      <th>molecule_name</th>\n",
       "      <th>atom_index_0</th>\n",
       "      <th>atom_index_1</th>\n",
       "      <th>type</th>\n",
       "      <th>scalar_coupling_constant</th>\n",
       "    </tr>\n",
       "  </thead>\n",
       "  <tbody>\n",
       "    <tr>\n",
       "      <th>0</th>\n",
       "      <td>0</td>\n",
       "      <td>dsgdb9nsd_000001</td>\n",
       "      <td>1</td>\n",
       "      <td>0</td>\n",
       "      <td>1JHC</td>\n",
       "      <td>84.8076</td>\n",
       "    </tr>\n",
       "    <tr>\n",
       "      <th>1</th>\n",
       "      <td>1</td>\n",
       "      <td>dsgdb9nsd_000001</td>\n",
       "      <td>1</td>\n",
       "      <td>2</td>\n",
       "      <td>2JHH</td>\n",
       "      <td>-11.2570</td>\n",
       "    </tr>\n",
       "    <tr>\n",
       "      <th>2</th>\n",
       "      <td>2</td>\n",
       "      <td>dsgdb9nsd_000001</td>\n",
       "      <td>1</td>\n",
       "      <td>3</td>\n",
       "      <td>2JHH</td>\n",
       "      <td>-11.2548</td>\n",
       "    </tr>\n",
       "    <tr>\n",
       "      <th>3</th>\n",
       "      <td>3</td>\n",
       "      <td>dsgdb9nsd_000001</td>\n",
       "      <td>1</td>\n",
       "      <td>4</td>\n",
       "      <td>2JHH</td>\n",
       "      <td>-11.2543</td>\n",
       "    </tr>\n",
       "    <tr>\n",
       "      <th>4</th>\n",
       "      <td>4</td>\n",
       "      <td>dsgdb9nsd_000001</td>\n",
       "      <td>2</td>\n",
       "      <td>0</td>\n",
       "      <td>1JHC</td>\n",
       "      <td>84.8074</td>\n",
       "    </tr>\n",
       "  </tbody>\n",
       "</table>\n",
       "</div>"
      ],
      "text/plain": [
       "   id     molecule_name  atom_index_0  atom_index_1  type  scalar_coupling_constant\n",
       "0   0  dsgdb9nsd_000001             1             0  1JHC                   84.8076\n",
       "1   1  dsgdb9nsd_000001             1             2  2JHH                  -11.2570\n",
       "2   2  dsgdb9nsd_000001             1             3  2JHH                  -11.2548\n",
       "3   3  dsgdb9nsd_000001             1             4  2JHH                  -11.2543\n",
       "4   4  dsgdb9nsd_000001             2             0  1JHC                   84.8074"
      ]
     },
     "execution_count": 6,
     "metadata": {},
     "output_type": "execute_result"
    }
   ],
   "source": [
    "tt.head()"
   ]
  },
  {
   "cell_type": "code",
   "execution_count": 7,
   "metadata": {},
   "outputs": [],
   "source": [
    "tt = pd.merge(tt,\n",
    "         angle_details.groupby(['molecule_name','left_atom_idx','middle_atom_idx']).mean().reset_index(drop=False),\n",
    "         left_on=['molecule_name','atom_index_0','atom_index_1'],\n",
    "         right_on=['molecule_name','left_atom_idx','middle_atom_idx'],\n",
    "         how='left') \\\n",
    "    .drop(['left_atom_idx','middle_atom_idx','right_atom_idx'], axis=1) \\\n",
    "    .rename(columns={'angle':'left_middle_average_angle'})"
   ]
  },
  {
   "cell_type": "code",
   "execution_count": 8,
   "metadata": {},
   "outputs": [
    {
     "data": {
      "text/plain": [
       "(7163689, 7)"
      ]
     },
     "execution_count": 8,
     "metadata": {},
     "output_type": "execute_result"
    }
   ],
   "source": [
    "tt.shape"
   ]
  },
  {
   "cell_type": "code",
   "execution_count": 9,
   "metadata": {},
   "outputs": [],
   "source": [
    "tt = pd.merge(tt,\n",
    "         angle_details.groupby(['molecule_name','right_atom_idx','middle_atom_idx']).mean().reset_index(drop=False),\n",
    "         left_on=['molecule_name','atom_index_0','atom_index_1'],\n",
    "         right_on=['molecule_name','right_atom_idx','middle_atom_idx'],\n",
    "         how='left') \\\n",
    "    .drop(['left_atom_idx','middle_atom_idx','right_atom_idx'], axis=1) \\\n",
    "    .rename(columns={'angle':'right_middle_average_angle'})"
   ]
  },
  {
   "cell_type": "code",
   "execution_count": 10,
   "metadata": {},
   "outputs": [
    {
     "data": {
      "text/plain": [
       "(7163689, 8)"
      ]
     },
     "execution_count": 10,
     "metadata": {},
     "output_type": "execute_result"
    }
   ],
   "source": [
    "tt.shape"
   ]
  },
  {
   "cell_type": "code",
   "execution_count": 11,
   "metadata": {},
   "outputs": [],
   "source": [
    "tt = pd.merge(tt,\n",
    "         distances,\n",
    "         left_on=['molecule_name','atom_index_0','atom_index_1'],\n",
    "         right_on=['molecule_name','left_atom_idx','right_atom_idx'],\n",
    "         how='left')\\\n",
    "    .drop(['left_atom_idx','right_atom_idx'], axis=1)"
   ]
  },
  {
   "cell_type": "code",
   "execution_count": 12,
   "metadata": {},
   "outputs": [
    {
     "data": {
      "text/plain": [
       "(7163689, 10)"
      ]
     },
     "execution_count": 12,
     "metadata": {},
     "output_type": "execute_result"
    }
   ],
   "source": [
    "tt.shape"
   ]
  },
  {
   "cell_type": "code",
   "execution_count": 13,
   "metadata": {},
   "outputs": [
    {
     "data": {
      "text/html": [
       "<div>\n",
       "<style scoped>\n",
       "    .dataframe tbody tr th:only-of-type {\n",
       "        vertical-align: middle;\n",
       "    }\n",
       "\n",
       "    .dataframe tbody tr th {\n",
       "        vertical-align: top;\n",
       "    }\n",
       "\n",
       "    .dataframe thead th {\n",
       "        text-align: right;\n",
       "    }\n",
       "</style>\n",
       "<table border=\"1\" class=\"dataframe\">\n",
       "  <thead>\n",
       "    <tr style=\"text-align: right;\">\n",
       "      <th></th>\n",
       "      <th>molecule_name</th>\n",
       "      <th>atom_index</th>\n",
       "      <th>closest</th>\n",
       "      <th>2nd_closest</th>\n",
       "      <th>3rd_closest</th>\n",
       "      <th>4th_closest</th>\n",
       "      <th>5th_closest</th>\n",
       "      <th>6th_closest</th>\n",
       "      <th>7th_closest</th>\n",
       "      <th>8th_closest</th>\n",
       "      <th>9th_closest</th>\n",
       "      <th>10th_closest</th>\n",
       "      <th>11th_closest</th>\n",
       "      <th>12th_closest</th>\n",
       "      <th>13th_closest</th>\n",
       "      <th>14th_closest</th>\n",
       "      <th>15th_closest</th>\n",
       "      <th>16th_closest</th>\n",
       "      <th>17th_closest</th>\n",
       "      <th>18th_closest</th>\n",
       "      <th>19th_closest</th>\n",
       "      <th>20th_closest</th>\n",
       "      <th>21st_closest</th>\n",
       "      <th>22nd_closest</th>\n",
       "      <th>23rd_closest</th>\n",
       "      <th>24th_closest</th>\n",
       "      <th>25th_closest</th>\n",
       "      <th>26th_closest</th>\n",
       "      <th>27th_closest</th>\n",
       "      <th>28th_closest</th>\n",
       "    </tr>\n",
       "  </thead>\n",
       "  <tbody>\n",
       "    <tr>\n",
       "      <th>0</th>\n",
       "      <td>dsgdb9nsd_033805</td>\n",
       "      <td>1</td>\n",
       "      <td>2</td>\n",
       "      <td>3</td>\n",
       "      <td>7.0</td>\n",
       "      <td>9.0</td>\n",
       "      <td>4.0</td>\n",
       "      <td>14.0</td>\n",
       "      <td>16.0</td>\n",
       "      <td>11.0</td>\n",
       "      <td>10.0</td>\n",
       "      <td>6.0</td>\n",
       "      <td>8.0</td>\n",
       "      <td>5.0</td>\n",
       "      <td>13.0</td>\n",
       "      <td>15.0</td>\n",
       "      <td>12.0</td>\n",
       "      <td>NaN</td>\n",
       "      <td>NaN</td>\n",
       "      <td>NaN</td>\n",
       "      <td>NaN</td>\n",
       "      <td>NaN</td>\n",
       "      <td>NaN</td>\n",
       "      <td>NaN</td>\n",
       "      <td>NaN</td>\n",
       "      <td>NaN</td>\n",
       "      <td>NaN</td>\n",
       "      <td>NaN</td>\n",
       "      <td>NaN</td>\n",
       "      <td>NaN</td>\n",
       "    </tr>\n",
       "    <tr>\n",
       "      <th>1</th>\n",
       "      <td>dsgdb9nsd_033805</td>\n",
       "      <td>2</td>\n",
       "      <td>1</td>\n",
       "      <td>3</td>\n",
       "      <td>9.0</td>\n",
       "      <td>7.0</td>\n",
       "      <td>4.0</td>\n",
       "      <td>16.0</td>\n",
       "      <td>14.0</td>\n",
       "      <td>11.0</td>\n",
       "      <td>10.0</td>\n",
       "      <td>8.0</td>\n",
       "      <td>6.0</td>\n",
       "      <td>5.0</td>\n",
       "      <td>15.0</td>\n",
       "      <td>13.0</td>\n",
       "      <td>12.0</td>\n",
       "      <td>NaN</td>\n",
       "      <td>NaN</td>\n",
       "      <td>NaN</td>\n",
       "      <td>NaN</td>\n",
       "      <td>NaN</td>\n",
       "      <td>NaN</td>\n",
       "      <td>NaN</td>\n",
       "      <td>NaN</td>\n",
       "      <td>NaN</td>\n",
       "      <td>NaN</td>\n",
       "      <td>NaN</td>\n",
       "      <td>NaN</td>\n",
       "      <td>NaN</td>\n",
       "    </tr>\n",
       "    <tr>\n",
       "      <th>2</th>\n",
       "      <td>dsgdb9nsd_033805</td>\n",
       "      <td>3</td>\n",
       "      <td>2</td>\n",
       "      <td>9</td>\n",
       "      <td>7.0</td>\n",
       "      <td>4.0</td>\n",
       "      <td>10.0</td>\n",
       "      <td>11.0</td>\n",
       "      <td>5.0</td>\n",
       "      <td>8.0</td>\n",
       "      <td>6.0</td>\n",
       "      <td>16.0</td>\n",
       "      <td>14.0</td>\n",
       "      <td>1.0</td>\n",
       "      <td>12.0</td>\n",
       "      <td>15.0</td>\n",
       "      <td>13.0</td>\n",
       "      <td>NaN</td>\n",
       "      <td>NaN</td>\n",
       "      <td>NaN</td>\n",
       "      <td>NaN</td>\n",
       "      <td>NaN</td>\n",
       "      <td>NaN</td>\n",
       "      <td>NaN</td>\n",
       "      <td>NaN</td>\n",
       "      <td>NaN</td>\n",
       "      <td>NaN</td>\n",
       "      <td>NaN</td>\n",
       "      <td>NaN</td>\n",
       "      <td>NaN</td>\n",
       "    </tr>\n",
       "    <tr>\n",
       "      <th>3</th>\n",
       "      <td>dsgdb9nsd_033805</td>\n",
       "      <td>4</td>\n",
       "      <td>11</td>\n",
       "      <td>10</td>\n",
       "      <td>5.0</td>\n",
       "      <td>3.0</td>\n",
       "      <td>12.0</td>\n",
       "      <td>6.0</td>\n",
       "      <td>8.0</td>\n",
       "      <td>9.0</td>\n",
       "      <td>7.0</td>\n",
       "      <td>2.0</td>\n",
       "      <td>13.0</td>\n",
       "      <td>15.0</td>\n",
       "      <td>16.0</td>\n",
       "      <td>14.0</td>\n",
       "      <td>1.0</td>\n",
       "      <td>NaN</td>\n",
       "      <td>NaN</td>\n",
       "      <td>NaN</td>\n",
       "      <td>NaN</td>\n",
       "      <td>NaN</td>\n",
       "      <td>NaN</td>\n",
       "      <td>NaN</td>\n",
       "      <td>NaN</td>\n",
       "      <td>NaN</td>\n",
       "      <td>NaN</td>\n",
       "      <td>NaN</td>\n",
       "      <td>NaN</td>\n",
       "      <td>NaN</td>\n",
       "    </tr>\n",
       "    <tr>\n",
       "      <th>4</th>\n",
       "      <td>dsgdb9nsd_033805</td>\n",
       "      <td>5</td>\n",
       "      <td>12</td>\n",
       "      <td>6</td>\n",
       "      <td>8.0</td>\n",
       "      <td>4.0</td>\n",
       "      <td>10.0</td>\n",
       "      <td>11.0</td>\n",
       "      <td>3.0</td>\n",
       "      <td>7.0</td>\n",
       "      <td>9.0</td>\n",
       "      <td>13.0</td>\n",
       "      <td>15.0</td>\n",
       "      <td>14.0</td>\n",
       "      <td>16.0</td>\n",
       "      <td>2.0</td>\n",
       "      <td>1.0</td>\n",
       "      <td>NaN</td>\n",
       "      <td>NaN</td>\n",
       "      <td>NaN</td>\n",
       "      <td>NaN</td>\n",
       "      <td>NaN</td>\n",
       "      <td>NaN</td>\n",
       "      <td>NaN</td>\n",
       "      <td>NaN</td>\n",
       "      <td>NaN</td>\n",
       "      <td>NaN</td>\n",
       "      <td>NaN</td>\n",
       "      <td>NaN</td>\n",
       "      <td>NaN</td>\n",
       "    </tr>\n",
       "  </tbody>\n",
       "</table>\n",
       "</div>"
      ],
      "text/plain": [
       "      molecule_name  atom_index  closest  2nd_closest  3rd_closest  4th_closest  5th_closest      ...       22nd_closest  23rd_closest  24th_closest  25th_closest  26th_closest  27th_closest  28th_closest\n",
       "0  dsgdb9nsd_033805           1        2            3          7.0          9.0          4.0      ...                NaN           NaN           NaN           NaN           NaN           NaN           NaN\n",
       "1  dsgdb9nsd_033805           2        1            3          9.0          7.0          4.0      ...                NaN           NaN           NaN           NaN           NaN           NaN           NaN\n",
       "2  dsgdb9nsd_033805           3        2            9          7.0          4.0         10.0      ...                NaN           NaN           NaN           NaN           NaN           NaN           NaN\n",
       "3  dsgdb9nsd_033805           4       11           10          5.0          3.0         12.0      ...                NaN           NaN           NaN           NaN           NaN           NaN           NaN\n",
       "4  dsgdb9nsd_033805           5       12            6          8.0          4.0         10.0      ...                NaN           NaN           NaN           NaN           NaN           NaN           NaN\n",
       "\n",
       "[5 rows x 30 columns]"
      ]
     },
     "execution_count": 13,
     "metadata": {},
     "output_type": "execute_result"
    }
   ],
   "source": [
    "closest.head()"
   ]
  },
  {
   "cell_type": "code",
   "execution_count": 14,
   "metadata": {},
   "outputs": [],
   "source": [
    "# Fix bug with the indexes being off by one\n",
    "if closest['closest'].min() == 1:\n",
    "    closest['atom_index'] = closest['atom_index'] - 1\n",
    "    for col in closest.columns:\n",
    "        if 'close' in col:\n",
    "            closest[col] = closest[col] - 1"
   ]
  },
  {
   "cell_type": "code",
   "execution_count": 15,
   "metadata": {},
   "outputs": [],
   "source": [
    "tt = pd.merge(tt,\n",
    "         closest[['molecule_name','atom_index','closest','2nd_closest','3rd_closest','4th_closest']],\n",
    "        left_on=['molecule_name','atom_index_0'],\n",
    "        right_on=['molecule_name','atom_index'],\n",
    "        how='left') \\\n",
    "    .drop(['atom_index'], axis=1) \\\n",
    "    .rename(columns={'closest':'closest_to_0',\n",
    "                     '2nd_closest':'2nd_closest_to_0',\n",
    "                     '3rd_closest':'3rd_closest_to_0',\n",
    "                     '4th_closest':'4th_closest_to_0'})"
   ]
  },
  {
   "cell_type": "code",
   "execution_count": 16,
   "metadata": {},
   "outputs": [],
   "source": [
    "tt = pd.merge(tt,\n",
    "         closest[['molecule_name','atom_index','closest','2nd_closest','3rd_closest','4th_closest']],\n",
    "        left_on=['molecule_name','atom_index_1'],\n",
    "        right_on=['molecule_name','atom_index'],\n",
    "        how='left') \\\n",
    "    .drop(['atom_index'], axis=1) \\\n",
    "    .rename(columns={'closest':'closest_to_1',\n",
    "                     '2nd_closest':'2nd_closest_to_1',\n",
    "                     '3rd_closest':'3rd_closest_to_1',\n",
    "                     '4th_closest':'4th_closest_to_1'})"
   ]
  },
  {
   "cell_type": "code",
   "execution_count": 17,
   "metadata": {},
   "outputs": [
    {
     "data": {
      "text/plain": [
       "(7163689, 18)"
      ]
     },
     "execution_count": 17,
     "metadata": {},
     "output_type": "execute_result"
    }
   ],
   "source": [
    "tt.shape"
   ]
  },
  {
   "cell_type": "code",
   "execution_count": 18,
   "metadata": {},
   "outputs": [],
   "source": [
    "tt['is_closest_pair'] = tt['closest_to_0'] == tt['atom_index_1']"
   ]
  },
  {
   "cell_type": "code",
   "execution_count": 19,
   "metadata": {},
   "outputs": [
    {
     "data": {
      "text/plain": [
       "(7163689, 19)"
      ]
     },
     "execution_count": 19,
     "metadata": {},
     "output_type": "execute_result"
    }
   ],
   "source": [
    "tt.shape"
   ]
  },
  {
   "cell_type": "code",
   "execution_count": 20,
   "metadata": {},
   "outputs": [
    {
     "data": {
      "text/html": [
       "<div>\n",
       "<style scoped>\n",
       "    .dataframe tbody tr th:only-of-type {\n",
       "        vertical-align: middle;\n",
       "    }\n",
       "\n",
       "    .dataframe tbody tr th {\n",
       "        vertical-align: top;\n",
       "    }\n",
       "\n",
       "    .dataframe thead th {\n",
       "        text-align: right;\n",
       "    }\n",
       "</style>\n",
       "<table border=\"1\" class=\"dataframe\">\n",
       "  <thead>\n",
       "    <tr style=\"text-align: right;\">\n",
       "      <th></th>\n",
       "      <th>id</th>\n",
       "      <th>molecule_name</th>\n",
       "      <th>atom_index_0</th>\n",
       "      <th>atom_index_1</th>\n",
       "      <th>type</th>\n",
       "      <th>scalar_coupling_constant</th>\n",
       "      <th>left_middle_average_angle</th>\n",
       "      <th>right_middle_average_angle</th>\n",
       "      <th>distance</th>\n",
       "      <th>is_bond</th>\n",
       "      <th>closest_to_0</th>\n",
       "      <th>2nd_closest_to_0</th>\n",
       "      <th>3rd_closest_to_0</th>\n",
       "      <th>4th_closest_to_0</th>\n",
       "      <th>closest_to_1</th>\n",
       "      <th>2nd_closest_to_1</th>\n",
       "      <th>3rd_closest_to_1</th>\n",
       "      <th>4th_closest_to_1</th>\n",
       "      <th>is_closest_pair</th>\n",
       "    </tr>\n",
       "  </thead>\n",
       "  <tbody>\n",
       "    <tr>\n",
       "      <th>0</th>\n",
       "      <td>0</td>\n",
       "      <td>dsgdb9nsd_000001</td>\n",
       "      <td>1</td>\n",
       "      <td>0</td>\n",
       "      <td>1JHC</td>\n",
       "      <td>84.8076</td>\n",
       "      <td>NaN</td>\n",
       "      <td>NaN</td>\n",
       "      <td>1.091953</td>\n",
       "      <td>True</td>\n",
       "      <td>0</td>\n",
       "      <td>2</td>\n",
       "      <td>3.0</td>\n",
       "      <td>4.0</td>\n",
       "      <td>3</td>\n",
       "      <td>4</td>\n",
       "      <td>2.0</td>\n",
       "      <td>1.0</td>\n",
       "      <td>True</td>\n",
       "    </tr>\n",
       "    <tr>\n",
       "      <th>1</th>\n",
       "      <td>1</td>\n",
       "      <td>dsgdb9nsd_000001</td>\n",
       "      <td>1</td>\n",
       "      <td>2</td>\n",
       "      <td>2JHH</td>\n",
       "      <td>-11.2570</td>\n",
       "      <td>NaN</td>\n",
       "      <td>NaN</td>\n",
       "      <td>1.783120</td>\n",
       "      <td>False</td>\n",
       "      <td>0</td>\n",
       "      <td>2</td>\n",
       "      <td>3.0</td>\n",
       "      <td>4.0</td>\n",
       "      <td>0</td>\n",
       "      <td>1</td>\n",
       "      <td>4.0</td>\n",
       "      <td>3.0</td>\n",
       "      <td>False</td>\n",
       "    </tr>\n",
       "    <tr>\n",
       "      <th>2</th>\n",
       "      <td>2</td>\n",
       "      <td>dsgdb9nsd_000001</td>\n",
       "      <td>1</td>\n",
       "      <td>3</td>\n",
       "      <td>2JHH</td>\n",
       "      <td>-11.2548</td>\n",
       "      <td>NaN</td>\n",
       "      <td>NaN</td>\n",
       "      <td>1.783147</td>\n",
       "      <td>False</td>\n",
       "      <td>0</td>\n",
       "      <td>2</td>\n",
       "      <td>3.0</td>\n",
       "      <td>4.0</td>\n",
       "      <td>0</td>\n",
       "      <td>1</td>\n",
       "      <td>4.0</td>\n",
       "      <td>2.0</td>\n",
       "      <td>False</td>\n",
       "    </tr>\n",
       "    <tr>\n",
       "      <th>3</th>\n",
       "      <td>3</td>\n",
       "      <td>dsgdb9nsd_000001</td>\n",
       "      <td>1</td>\n",
       "      <td>4</td>\n",
       "      <td>2JHH</td>\n",
       "      <td>-11.2543</td>\n",
       "      <td>NaN</td>\n",
       "      <td>NaN</td>\n",
       "      <td>1.783157</td>\n",
       "      <td>False</td>\n",
       "      <td>0</td>\n",
       "      <td>2</td>\n",
       "      <td>3.0</td>\n",
       "      <td>4.0</td>\n",
       "      <td>0</td>\n",
       "      <td>3</td>\n",
       "      <td>2.0</td>\n",
       "      <td>1.0</td>\n",
       "      <td>False</td>\n",
       "    </tr>\n",
       "    <tr>\n",
       "      <th>4</th>\n",
       "      <td>4</td>\n",
       "      <td>dsgdb9nsd_000001</td>\n",
       "      <td>2</td>\n",
       "      <td>0</td>\n",
       "      <td>1JHC</td>\n",
       "      <td>84.8074</td>\n",
       "      <td>NaN</td>\n",
       "      <td>NaN</td>\n",
       "      <td>1.091952</td>\n",
       "      <td>True</td>\n",
       "      <td>0</td>\n",
       "      <td>1</td>\n",
       "      <td>4.0</td>\n",
       "      <td>3.0</td>\n",
       "      <td>3</td>\n",
       "      <td>4</td>\n",
       "      <td>2.0</td>\n",
       "      <td>1.0</td>\n",
       "      <td>True</td>\n",
       "    </tr>\n",
       "    <tr>\n",
       "      <th>5</th>\n",
       "      <td>5</td>\n",
       "      <td>dsgdb9nsd_000001</td>\n",
       "      <td>2</td>\n",
       "      <td>3</td>\n",
       "      <td>2JHH</td>\n",
       "      <td>-11.2541</td>\n",
       "      <td>NaN</td>\n",
       "      <td>NaN</td>\n",
       "      <td>1.783158</td>\n",
       "      <td>False</td>\n",
       "      <td>0</td>\n",
       "      <td>1</td>\n",
       "      <td>4.0</td>\n",
       "      <td>3.0</td>\n",
       "      <td>0</td>\n",
       "      <td>1</td>\n",
       "      <td>4.0</td>\n",
       "      <td>2.0</td>\n",
       "      <td>False</td>\n",
       "    </tr>\n",
       "    <tr>\n",
       "      <th>6</th>\n",
       "      <td>6</td>\n",
       "      <td>dsgdb9nsd_000001</td>\n",
       "      <td>2</td>\n",
       "      <td>4</td>\n",
       "      <td>2JHH</td>\n",
       "      <td>-11.2548</td>\n",
       "      <td>NaN</td>\n",
       "      <td>NaN</td>\n",
       "      <td>1.783148</td>\n",
       "      <td>False</td>\n",
       "      <td>0</td>\n",
       "      <td>1</td>\n",
       "      <td>4.0</td>\n",
       "      <td>3.0</td>\n",
       "      <td>0</td>\n",
       "      <td>3</td>\n",
       "      <td>2.0</td>\n",
       "      <td>1.0</td>\n",
       "      <td>False</td>\n",
       "    </tr>\n",
       "    <tr>\n",
       "      <th>7</th>\n",
       "      <td>7</td>\n",
       "      <td>dsgdb9nsd_000001</td>\n",
       "      <td>3</td>\n",
       "      <td>0</td>\n",
       "      <td>1JHC</td>\n",
       "      <td>84.8093</td>\n",
       "      <td>NaN</td>\n",
       "      <td>NaN</td>\n",
       "      <td>1.091946</td>\n",
       "      <td>True</td>\n",
       "      <td>0</td>\n",
       "      <td>1</td>\n",
       "      <td>4.0</td>\n",
       "      <td>2.0</td>\n",
       "      <td>3</td>\n",
       "      <td>4</td>\n",
       "      <td>2.0</td>\n",
       "      <td>1.0</td>\n",
       "      <td>True</td>\n",
       "    </tr>\n",
       "    <tr>\n",
       "      <th>8</th>\n",
       "      <td>8</td>\n",
       "      <td>dsgdb9nsd_000001</td>\n",
       "      <td>3</td>\n",
       "      <td>4</td>\n",
       "      <td>2JHH</td>\n",
       "      <td>-11.2543</td>\n",
       "      <td>NaN</td>\n",
       "      <td>NaN</td>\n",
       "      <td>1.783148</td>\n",
       "      <td>False</td>\n",
       "      <td>0</td>\n",
       "      <td>1</td>\n",
       "      <td>4.0</td>\n",
       "      <td>2.0</td>\n",
       "      <td>0</td>\n",
       "      <td>3</td>\n",
       "      <td>2.0</td>\n",
       "      <td>1.0</td>\n",
       "      <td>False</td>\n",
       "    </tr>\n",
       "    <tr>\n",
       "      <th>9</th>\n",
       "      <td>9</td>\n",
       "      <td>dsgdb9nsd_000001</td>\n",
       "      <td>4</td>\n",
       "      <td>0</td>\n",
       "      <td>1JHC</td>\n",
       "      <td>84.8095</td>\n",
       "      <td>NaN</td>\n",
       "      <td>NaN</td>\n",
       "      <td>1.091948</td>\n",
       "      <td>True</td>\n",
       "      <td>0</td>\n",
       "      <td>3</td>\n",
       "      <td>2.0</td>\n",
       "      <td>1.0</td>\n",
       "      <td>3</td>\n",
       "      <td>4</td>\n",
       "      <td>2.0</td>\n",
       "      <td>1.0</td>\n",
       "      <td>True</td>\n",
       "    </tr>\n",
       "  </tbody>\n",
       "</table>\n",
       "</div>"
      ],
      "text/plain": [
       "   id     molecule_name  atom_index_0  atom_index_1  type  scalar_coupling_constant       ...         4th_closest_to_0  closest_to_1  2nd_closest_to_1  3rd_closest_to_1  4th_closest_to_1  is_closest_pair\n",
       "0   0  dsgdb9nsd_000001             1             0  1JHC                   84.8076       ...                      4.0             3                 4               2.0               1.0             True\n",
       "1   1  dsgdb9nsd_000001             1             2  2JHH                  -11.2570       ...                      4.0             0                 1               4.0               3.0            False\n",
       "2   2  dsgdb9nsd_000001             1             3  2JHH                  -11.2548       ...                      4.0             0                 1               4.0               2.0            False\n",
       "3   3  dsgdb9nsd_000001             1             4  2JHH                  -11.2543       ...                      4.0             0                 3               2.0               1.0            False\n",
       "4   4  dsgdb9nsd_000001             2             0  1JHC                   84.8074       ...                      3.0             3                 4               2.0               1.0             True\n",
       "5   5  dsgdb9nsd_000001             2             3  2JHH                  -11.2541       ...                      3.0             0                 1               4.0               2.0            False\n",
       "6   6  dsgdb9nsd_000001             2             4  2JHH                  -11.2548       ...                      3.0             0                 3               2.0               1.0            False\n",
       "7   7  dsgdb9nsd_000001             3             0  1JHC                   84.8093       ...                      2.0             3                 4               2.0               1.0             True\n",
       "8   8  dsgdb9nsd_000001             3             4  2JHH                  -11.2543       ...                      2.0             0                 3               2.0               1.0            False\n",
       "9   9  dsgdb9nsd_000001             4             0  1JHC                   84.8095       ...                      1.0             3                 4               2.0               1.0             True\n",
       "\n",
       "[10 rows x 19 columns]"
      ]
     },
     "execution_count": 20,
     "metadata": {},
     "output_type": "execute_result"
    }
   ],
   "source": [
    "tt.head(10)"
   ]
  },
  {
   "cell_type": "code",
   "execution_count": 21,
   "metadata": {},
   "outputs": [
    {
     "data": {
      "text/plain": [
       "(7163689, 21)"
      ]
     },
     "execution_count": 21,
     "metadata": {},
     "output_type": "execute_result"
    }
   ],
   "source": [
    "tt = pd.merge(tt,\n",
    "        distances,\n",
    "        left_on=['molecule_name','atom_index_0','closest_to_0'],\n",
    "        right_on=['molecule_name','left_atom_idx','right_atom_idx'],\n",
    "        suffixes=('','_closest_to_0'),\n",
    "             how='left') \\\n",
    "    .drop(['left_atom_idx','right_atom_idx'], axis=1)\n",
    "tt.shape"
   ]
  },
  {
   "cell_type": "code",
   "execution_count": 22,
   "metadata": {},
   "outputs": [
    {
     "data": {
      "text/plain": [
       "(7163689, 23)"
      ]
     },
     "execution_count": 22,
     "metadata": {},
     "output_type": "execute_result"
    }
   ],
   "source": [
    "tt = pd.merge(tt,\n",
    "        distances,\n",
    "        left_on=['molecule_name','atom_index_0','2nd_closest_to_0'],\n",
    "        right_on=['molecule_name','left_atom_idx','right_atom_idx'],\n",
    "        suffixes=('','_2nd_closest_to_0'),\n",
    "             how='left') \\\n",
    "    .drop(['left_atom_idx','right_atom_idx'], axis=1)\n",
    "tt.shape"
   ]
  },
  {
   "cell_type": "code",
   "execution_count": 23,
   "metadata": {},
   "outputs": [
    {
     "data": {
      "text/plain": [
       "(7163689, 25)"
      ]
     },
     "execution_count": 23,
     "metadata": {},
     "output_type": "execute_result"
    }
   ],
   "source": [
    "tt = pd.merge(tt,\n",
    "        distances,\n",
    "        left_on=['molecule_name','atom_index_0','3rd_closest_to_0'],\n",
    "        right_on=['molecule_name','left_atom_idx','right_atom_idx'],\n",
    "        suffixes=('','_3rd_closest_to_0'),\n",
    "             how='left') \\\n",
    "    .drop(['left_atom_idx','right_atom_idx'], axis=1)\n",
    "tt.shape"
   ]
  },
  {
   "cell_type": "code",
   "execution_count": 24,
   "metadata": {},
   "outputs": [
    {
     "data": {
      "text/plain": [
       "(7163689, 27)"
      ]
     },
     "execution_count": 24,
     "metadata": {},
     "output_type": "execute_result"
    }
   ],
   "source": [
    "tt = pd.merge(tt,\n",
    "        distances,\n",
    "        left_on=['molecule_name','atom_index_0','4th_closest_to_0'],\n",
    "        right_on=['molecule_name','left_atom_idx','right_atom_idx'],\n",
    "        suffixes=('','_4th_closest_to_0'),\n",
    "             how='left') \\\n",
    "    .drop(['left_atom_idx','right_atom_idx'], axis=1)\n",
    "tt.shape"
   ]
  },
  {
   "cell_type": "code",
   "execution_count": 25,
   "metadata": {},
   "outputs": [
    {
     "data": {
      "text/plain": [
       "(7163689, 35)"
      ]
     },
     "execution_count": 25,
     "metadata": {},
     "output_type": "execute_result"
    }
   ],
   "source": [
    "tt = pd.merge(tt,\n",
    "              distances,\n",
    "              left_on=['molecule_name', 'atom_index_1', 'closest_to_1'],\n",
    "              right_on=['molecule_name', 'left_atom_idx', 'right_atom_idx'],\n",
    "              suffixes=('', '_closest_to_1'),\n",
    "              how='left') \\\n",
    "    .drop(['left_atom_idx', 'right_atom_idx'], axis=1)\n",
    "tt = pd.merge(tt,\n",
    "              distances,\n",
    "              left_on=['molecule_name', 'atom_index_1', '2nd_closest_to_1'],\n",
    "              right_on=['molecule_name', 'left_atom_idx', 'right_atom_idx'],\n",
    "              suffixes=('', '_2nd_closest_to_1'),\n",
    "              how='left') \\\n",
    "    .drop(['left_atom_idx', 'right_atom_idx'], axis=1)\n",
    "tt = pd.merge(tt,\n",
    "              distances,\n",
    "              left_on=['molecule_name', 'atom_index_1', '3rd_closest_to_1'],\n",
    "              right_on=['molecule_name', 'left_atom_idx', 'right_atom_idx'],\n",
    "              suffixes=('', '_3rd_closest_to_1'),\n",
    "              how='left') \\\n",
    "    .drop(['left_atom_idx', 'right_atom_idx'], axis=1)\n",
    "tt = pd.merge(tt,\n",
    "              distances,\n",
    "              left_on=['molecule_name', 'atom_index_1', '4th_closest_to_1'],\n",
    "              right_on=['molecule_name', 'left_atom_idx', 'right_atom_idx'],\n",
    "              suffixes=('', '_4th_closest_to_1'),\n",
    "              how='left') \\\n",
    "    .drop(['left_atom_idx', 'right_atom_idx'], axis=1)\n",
    "tt.shape"
   ]
  },
  {
   "cell_type": "code",
   "execution_count": 26,
   "metadata": {},
   "outputs": [
    {
     "data": {
      "text/html": [
       "<div>\n",
       "<style scoped>\n",
       "    .dataframe tbody tr th:only-of-type {\n",
       "        vertical-align: middle;\n",
       "    }\n",
       "\n",
       "    .dataframe tbody tr th {\n",
       "        vertical-align: top;\n",
       "    }\n",
       "\n",
       "    .dataframe thead th {\n",
       "        text-align: right;\n",
       "    }\n",
       "</style>\n",
       "<table border=\"1\" class=\"dataframe\">\n",
       "  <thead>\n",
       "    <tr style=\"text-align: right;\">\n",
       "      <th></th>\n",
       "      <th>molecule_name</th>\n",
       "      <th>2left_atom_idx</th>\n",
       "      <th>left_atom_idx</th>\n",
       "      <th>right_atom_idx</th>\n",
       "      <th>2right_atom_idx</th>\n",
       "      <th>torsion_angle</th>\n",
       "    </tr>\n",
       "  </thead>\n",
       "  <tbody>\n",
       "    <tr>\n",
       "      <th>0</th>\n",
       "      <td>dsgdb9nsd_033805</td>\n",
       "      <td>15</td>\n",
       "      <td>8</td>\n",
       "      <td>7</td>\n",
       "      <td>14</td>\n",
       "      <td>-0.113968</td>\n",
       "    </tr>\n",
       "    <tr>\n",
       "      <th>1</th>\n",
       "      <td>dsgdb9nsd_033805</td>\n",
       "      <td>14</td>\n",
       "      <td>7</td>\n",
       "      <td>8</td>\n",
       "      <td>15</td>\n",
       "      <td>-0.113968</td>\n",
       "    </tr>\n",
       "    <tr>\n",
       "      <th>2</th>\n",
       "      <td>dsgdb9nsd_033805</td>\n",
       "      <td>15</td>\n",
       "      <td>8</td>\n",
       "      <td>7</td>\n",
       "      <td>4</td>\n",
       "      <td>-176.941197</td>\n",
       "    </tr>\n",
       "    <tr>\n",
       "      <th>3</th>\n",
       "      <td>dsgdb9nsd_033805</td>\n",
       "      <td>4</td>\n",
       "      <td>7</td>\n",
       "      <td>8</td>\n",
       "      <td>15</td>\n",
       "      <td>-176.941197</td>\n",
       "    </tr>\n",
       "    <tr>\n",
       "      <th>4</th>\n",
       "      <td>dsgdb9nsd_033805</td>\n",
       "      <td>2</td>\n",
       "      <td>8</td>\n",
       "      <td>7</td>\n",
       "      <td>14</td>\n",
       "      <td>176.753908</td>\n",
       "    </tr>\n",
       "  </tbody>\n",
       "</table>\n",
       "</div>"
      ],
      "text/plain": [
       "      molecule_name  2left_atom_idx  left_atom_idx  right_atom_idx  2right_atom_idx  torsion_angle\n",
       "0  dsgdb9nsd_033805              15              8               7               14      -0.113968\n",
       "1  dsgdb9nsd_033805              14              7               8               15      -0.113968\n",
       "2  dsgdb9nsd_033805              15              8               7                4    -176.941197\n",
       "3  dsgdb9nsd_033805               4              7               8               15    -176.941197\n",
       "4  dsgdb9nsd_033805               2              8               7               14     176.753908"
      ]
     },
     "execution_count": 26,
     "metadata": {},
     "output_type": "execute_result"
    }
   ],
   "source": [
    "torsion_details.head()"
   ]
  },
  {
   "cell_type": "code",
   "execution_count": 27,
   "metadata": {},
   "outputs": [
    {
     "data": {
      "text/plain": [
       "(7163689, 39)"
      ]
     },
     "execution_count": 27,
     "metadata": {},
     "output_type": "execute_result"
    }
   ],
   "source": [
    "tt = pd.merge(tt,\n",
    "        torsion_details.groupby(['molecule_name','2left_atom_idx','left_atom_idx'])['torsion_angle'] \\\n",
    "                  .agg(['mean','min','max','count'])\\\n",
    "                  .reset_index(),\n",
    "        left_on=['molecule_name','atom_index_0','atom_index_1'],\n",
    "         right_on=['molecule_name','2left_atom_idx','left_atom_idx'],\n",
    "         how='left') \\\n",
    "    .drop(['2left_atom_idx','left_atom_idx'], axis=1) \\\n",
    "    .rename(columns={'mean': 'tor_ang_2leftleft_mean',\n",
    "                     'min': 'tor_ang_2leftleft_min',\n",
    "                    'max': 'tor_ang_2leftleft_max',\n",
    "                    'count': 'tor_ang_2leftleft_count'})\n",
    "tt.shape"
   ]
  },
  {
   "cell_type": "code",
   "execution_count": 28,
   "metadata": {},
   "outputs": [
    {
     "data": {
      "text/plain": [
       "(7163689, 43)"
      ]
     },
     "execution_count": 28,
     "metadata": {},
     "output_type": "execute_result"
    }
   ],
   "source": [
    "tt = pd.merge(tt,\n",
    "         torsion_details.groupby(['molecule_name','2left_atom_idx','right_atom_idx'])['torsion_angle'] \\\n",
    "                  .agg(['mean','min','max','count'])\\\n",
    "                  .reset_index(),\n",
    "         left_on=['molecule_name','atom_index_0','atom_index_1'],\n",
    "         right_on=['molecule_name','2left_atom_idx','right_atom_idx'],\n",
    "         how='left') \\\n",
    "    .drop(['2left_atom_idx','right_atom_idx'], axis=1) \\\n",
    "    .rename(columns={'mean': 'tor_ang_2leftright_mean',\n",
    "                     'min': 'tor_ang_2leftright_min',\n",
    "                     'max': 'tor_ang_2leftright_max',\n",
    "                     'count': 'tor_ang_2leftright_count'})\n",
    "tt.shape"
   ]
  },
  {
   "cell_type": "code",
   "execution_count": 29,
   "metadata": {},
   "outputs": [
    {
     "data": {
      "text/html": [
       "<div>\n",
       "<style scoped>\n",
       "    .dataframe tbody tr th:only-of-type {\n",
       "        vertical-align: middle;\n",
       "    }\n",
       "\n",
       "    .dataframe tbody tr th {\n",
       "        vertical-align: top;\n",
       "    }\n",
       "\n",
       "    .dataframe thead th {\n",
       "        text-align: right;\n",
       "    }\n",
       "</style>\n",
       "<table border=\"1\" class=\"dataframe\">\n",
       "  <thead>\n",
       "    <tr style=\"text-align: right;\">\n",
       "      <th></th>\n",
       "      <th>molecule_name</th>\n",
       "      <th>mol_wt</th>\n",
       "      <th>num_atoms</th>\n",
       "      <th>num_bonds</th>\n",
       "      <th>num_residues</th>\n",
       "    </tr>\n",
       "  </thead>\n",
       "  <tbody>\n",
       "    <tr>\n",
       "      <th>0</th>\n",
       "      <td>dsgdb9nsd_033805</td>\n",
       "      <td>117.14788</td>\n",
       "      <td>16</td>\n",
       "      <td>17</td>\n",
       "      <td>0</td>\n",
       "    </tr>\n",
       "    <tr>\n",
       "      <th>1</th>\n",
       "      <td>dsgdb9nsd_018833</td>\n",
       "      <td>110.15370</td>\n",
       "      <td>18</td>\n",
       "      <td>20</td>\n",
       "      <td>0</td>\n",
       "    </tr>\n",
       "    <tr>\n",
       "      <th>2</th>\n",
       "      <td>dsgdb9nsd_013391</td>\n",
       "      <td>115.13046</td>\n",
       "      <td>17</td>\n",
       "      <td>17</td>\n",
       "      <td>0</td>\n",
       "    </tr>\n",
       "    <tr>\n",
       "      <th>3</th>\n",
       "      <td>dsgdb9nsd_063427</td>\n",
       "      <td>123.19552</td>\n",
       "      <td>22</td>\n",
       "      <td>22</td>\n",
       "      <td>0</td>\n",
       "    </tr>\n",
       "    <tr>\n",
       "      <th>4</th>\n",
       "      <td>dsgdb9nsd_106472</td>\n",
       "      <td>125.16834</td>\n",
       "      <td>20</td>\n",
       "      <td>21</td>\n",
       "      <td>0</td>\n",
       "    </tr>\n",
       "  </tbody>\n",
       "</table>\n",
       "</div>"
      ],
      "text/plain": [
       "      molecule_name     mol_wt  num_atoms  num_bonds  num_residues\n",
       "0  dsgdb9nsd_033805  117.14788         16         17             0\n",
       "1  dsgdb9nsd_018833  110.15370         18         20             0\n",
       "2  dsgdb9nsd_013391  115.13046         17         17             0\n",
       "3  dsgdb9nsd_063427  123.19552         22         22             0\n",
       "4  dsgdb9nsd_106472  125.16834         20         21             0"
      ]
     },
     "execution_count": 29,
     "metadata": {},
     "output_type": "execute_result"
    }
   ],
   "source": [
    "molecule_details.head()"
   ]
  },
  {
   "cell_type": "code",
   "execution_count": 30,
   "metadata": {},
   "outputs": [],
   "source": [
    "tt = pd.merge(tt,\n",
    "        molecule_details.drop('num_residues', axis=1),\n",
    "         left_on=['molecule_name'],\n",
    "         right_on=['molecule_name'],\n",
    "         how='left')"
   ]
  },
  {
   "cell_type": "code",
   "execution_count": 31,
   "metadata": {},
   "outputs": [
    {
     "data": {
      "text/html": [
       "<div>\n",
       "<style scoped>\n",
       "    .dataframe tbody tr th:only-of-type {\n",
       "        vertical-align: middle;\n",
       "    }\n",
       "\n",
       "    .dataframe tbody tr th {\n",
       "        vertical-align: top;\n",
       "    }\n",
       "\n",
       "    .dataframe thead th {\n",
       "        text-align: right;\n",
       "    }\n",
       "</style>\n",
       "<table border=\"1\" class=\"dataframe\">\n",
       "  <thead>\n",
       "    <tr style=\"text-align: right;\">\n",
       "      <th></th>\n",
       "      <th>id</th>\n",
       "      <th>molecule_name</th>\n",
       "      <th>atom_index_0</th>\n",
       "      <th>atom_index_1</th>\n",
       "      <th>type</th>\n",
       "    </tr>\n",
       "  </thead>\n",
       "  <tbody>\n",
       "    <tr>\n",
       "      <th>0</th>\n",
       "      <td>4658147</td>\n",
       "      <td>dsgdb9nsd_000004</td>\n",
       "      <td>2</td>\n",
       "      <td>0</td>\n",
       "      <td>2JHC</td>\n",
       "    </tr>\n",
       "    <tr>\n",
       "      <th>1</th>\n",
       "      <td>4658148</td>\n",
       "      <td>dsgdb9nsd_000004</td>\n",
       "      <td>2</td>\n",
       "      <td>1</td>\n",
       "      <td>1JHC</td>\n",
       "    </tr>\n",
       "    <tr>\n",
       "      <th>2</th>\n",
       "      <td>4658149</td>\n",
       "      <td>dsgdb9nsd_000004</td>\n",
       "      <td>2</td>\n",
       "      <td>3</td>\n",
       "      <td>3JHH</td>\n",
       "    </tr>\n",
       "    <tr>\n",
       "      <th>3</th>\n",
       "      <td>4658150</td>\n",
       "      <td>dsgdb9nsd_000004</td>\n",
       "      <td>3</td>\n",
       "      <td>0</td>\n",
       "      <td>1JHC</td>\n",
       "    </tr>\n",
       "    <tr>\n",
       "      <th>4</th>\n",
       "      <td>4658151</td>\n",
       "      <td>dsgdb9nsd_000004</td>\n",
       "      <td>3</td>\n",
       "      <td>1</td>\n",
       "      <td>2JHC</td>\n",
       "    </tr>\n",
       "  </tbody>\n",
       "</table>\n",
       "</div>"
      ],
      "text/plain": [
       "        id     molecule_name  atom_index_0  atom_index_1  type\n",
       "0  4658147  dsgdb9nsd_000004             2             0  2JHC\n",
       "1  4658148  dsgdb9nsd_000004             2             1  1JHC\n",
       "2  4658149  dsgdb9nsd_000004             2             3  3JHH\n",
       "3  4658150  dsgdb9nsd_000004             3             0  1JHC\n",
       "4  4658151  dsgdb9nsd_000004             3             1  2JHC"
      ]
     },
     "execution_count": 31,
     "metadata": {},
     "output_type": "execute_result"
    }
   ],
   "source": [
    "test.head()"
   ]
  },
  {
   "cell_type": "code",
   "execution_count": 32,
   "metadata": {},
   "outputs": [],
   "source": [
    "test_FE008 = tt.sort_values('id').loc[tt['scalar_coupling_constant'].isnull()].reset_index()\n",
    "train_FE008 = tt.sort_values('id').loc[~tt['scalar_coupling_constant'].isnull()].reset_index()"
   ]
  },
  {
   "cell_type": "code",
   "execution_count": 33,
   "metadata": {},
   "outputs": [
    {
     "data": {
      "text/plain": [
       "(2505542, 47)"
      ]
     },
     "execution_count": 33,
     "metadata": {},
     "output_type": "execute_result"
    }
   ],
   "source": [
    "test_FE008.shape"
   ]
  },
  {
   "cell_type": "code",
   "execution_count": 34,
   "metadata": {},
   "outputs": [
    {
     "data": {
      "text/plain": [
       "(2505542, 5)"
      ]
     },
     "execution_count": 34,
     "metadata": {},
     "output_type": "execute_result"
    }
   ],
   "source": [
    "test.shape"
   ]
  },
  {
   "cell_type": "code",
   "execution_count": 35,
   "metadata": {},
   "outputs": [
    {
     "data": {
      "text/plain": [
       "(4658147, 47)"
      ]
     },
     "execution_count": 35,
     "metadata": {},
     "output_type": "execute_result"
    }
   ],
   "source": [
    "train_FE008.shape"
   ]
  },
  {
   "cell_type": "code",
   "execution_count": 36,
   "metadata": {},
   "outputs": [
    {
     "data": {
      "text/plain": [
       "(4658147, 6)"
      ]
     },
     "execution_count": 36,
     "metadata": {},
     "output_type": "execute_result"
    }
   ],
   "source": [
    "train.shape"
   ]
  },
  {
   "cell_type": "code",
   "execution_count": 53,
   "metadata": {},
   "outputs": [],
   "source": [
    "bool_cols = [col for col in train_FE008.columns if 'is_bond_' in col]\n",
    "test_FE008[bool_cols] = test_FE008[bool_cols].fillna(False)\n",
    "train_FE008[bool_cols] = train_FE008[bool_cols].fillna(False)"
   ]
  },
  {
   "cell_type": "code",
   "execution_count": 54,
   "metadata": {},
   "outputs": [],
   "source": [
    "test_FE008.to_parquet('../data/FE008_test.parquet')"
   ]
  },
  {
   "cell_type": "code",
   "execution_count": 55,
   "metadata": {},
   "outputs": [],
   "source": [
    "train_FE008.to_parquet('../data/FE008_train.parquet')"
   ]
  },
  {
   "cell_type": "code",
   "execution_count": 56,
   "metadata": {},
   "outputs": [
    {
     "data": {
      "text/plain": [
       "['index',\n",
       " 'id',\n",
       " 'molecule_name',\n",
       " 'atom_index_0',\n",
       " 'atom_index_1',\n",
       " 'type',\n",
       " 'scalar_coupling_constant',\n",
       " 'left_middle_average_angle',\n",
       " 'right_middle_average_angle',\n",
       " 'distance',\n",
       " 'is_bond',\n",
       " 'closest_to_0',\n",
       " '2nd_closest_to_0',\n",
       " '3rd_closest_to_0',\n",
       " '4th_closest_to_0',\n",
       " 'closest_to_1',\n",
       " '2nd_closest_to_1',\n",
       " '3rd_closest_to_1',\n",
       " '4th_closest_to_1',\n",
       " 'is_closest_pair',\n",
       " 'distance_closest_to_0',\n",
       " 'is_bond_closest_to_0',\n",
       " 'distance_2nd_closest_to_0',\n",
       " 'is_bond_2nd_closest_to_0',\n",
       " 'distance_3rd_closest_to_0',\n",
       " 'is_bond_3rd_closest_to_0',\n",
       " 'distance_4th_closest_to_0',\n",
       " 'is_bond_4th_closest_to_0',\n",
       " 'distance_closest_to_1',\n",
       " 'is_bond_closest_to_1',\n",
       " 'distance_2nd_closest_to_1',\n",
       " 'is_bond_2nd_closest_to_1',\n",
       " 'distance_3rd_closest_to_1',\n",
       " 'is_bond_3rd_closest_to_1',\n",
       " 'distance_4th_closest_to_1',\n",
       " 'is_bond_4th_closest_to_1',\n",
       " 'tor_ang_2leftleft_mean',\n",
       " 'tor_ang_2leftleft_min',\n",
       " 'tor_ang_2leftleft_max',\n",
       " 'tor_ang_2leftleft_count',\n",
       " 'tor_ang_2leftright_mean',\n",
       " 'tor_ang_2leftright_min',\n",
       " 'tor_ang_2leftright_max',\n",
       " 'tor_ang_2leftright_count',\n",
       " 'mol_wt',\n",
       " 'num_atoms',\n",
       " 'num_bonds']"
      ]
     },
     "execution_count": 56,
     "metadata": {},
     "output_type": "execute_result"
    }
   ],
   "source": [
    "[col for col in test_FE008.columns]"
   ]
  }
 ],
 "metadata": {
  "kernelspec": {
   "display_name": "Python 3",
   "language": "python",
   "name": "python3"
  },
  "language_info": {
   "codemirror_mode": {
    "name": "ipython",
    "version": 3
   },
   "file_extension": ".py",
   "mimetype": "text/x-python",
   "name": "python",
   "nbconvert_exporter": "python",
   "pygments_lexer": "ipython3",
   "version": "3.6.6"
  }
 },
 "nbformat": 4,
 "nbformat_minor": 2
}
