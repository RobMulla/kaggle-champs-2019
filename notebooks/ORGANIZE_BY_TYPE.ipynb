{
 "cells": [
  {
   "cell_type": "markdown",
   "metadata": {},
   "source": [
    "# Create Tracking Sheet by Type from Master"
   ]
  },
  {
   "cell_type": "code",
   "execution_count": 28,
   "metadata": {},
   "outputs": [],
   "source": [
    "import numpy as np\n",
    "import pandas as pd"
   ]
  },
  {
   "cell_type": "code",
   "execution_count": 29,
   "metadata": {},
   "outputs": [],
   "source": [
    "tracking = pd.read_csv('../tracking/tracking.csv')"
   ]
  },
  {
   "cell_type": "code",
   "execution_count": 30,
   "metadata": {},
   "outputs": [
    {
     "data": {
      "text/html": [
       "<div>\n",
       "<style scoped>\n",
       "    .dataframe tbody tr th:only-of-type {\n",
       "        vertical-align: middle;\n",
       "    }\n",
       "\n",
       "    .dataframe tbody tr th {\n",
       "        vertical-align: top;\n",
       "    }\n",
       "\n",
       "    .dataframe thead th {\n",
       "        text-align: right;\n",
       "    }\n",
       "</style>\n",
       "<table border=\"1\" class=\"dataframe\">\n",
       "  <thead>\n",
       "    <tr style=\"text-align: right;\">\n",
       "      <th></th>\n",
       "    </tr>\n",
       "  </thead>\n",
       "  <tbody>\n",
       "    <tr>\n",
       "      <th>46</th>\n",
       "    </tr>\n",
       "    <tr>\n",
       "      <th>47</th>\n",
       "    </tr>\n",
       "    <tr>\n",
       "      <th>48</th>\n",
       "    </tr>\n",
       "    <tr>\n",
       "      <th>49</th>\n",
       "    </tr>\n",
       "    <tr>\n",
       "      <th>50</th>\n",
       "    </tr>\n",
       "  </tbody>\n",
       "</table>\n",
       "</div>"
      ],
      "text/plain": [
       "Empty DataFrame\n",
       "Columns: []\n",
       "Index: [46, 47, 48, 49, 50]"
      ]
     },
     "execution_count": 30,
     "metadata": {},
     "output_type": "execute_result"
    }
   ],
   "source": [
    "tracking[[]].tail()"
   ]
  },
  {
   "cell_type": "code",
   "execution_count": 31,
   "metadata": {},
   "outputs": [
    {
     "name": "stdout",
     "output_type": "stream",
     "text": [
      "3JHC\n",
      "['3JHC_mae_cv', '3JHC_std_mae_cv', '3JHC_tr_sec_f1', '3JHC_pred_sec_f1', '3JHC_tr_sec_f2', '3JHC_pred_sec_f2', '3JHC_csv_save_sec', '3JHC_tr_sec_f3', '3JHC_pred_sec_f3', '3JHC_f1_best_iter', '3JHC_f2_best_iter', '3JHCcv_f1', '3JHCcv_f2', '3JHC_meta_fc_est', '3JHC_meta_fc_metafolds', '3JHC_meta_fc_mae_cv_f1', '3JHC_meta_fc_mae_cv_f2', '3JHC_features', '3JHC_meta_fc_mae_cv_f3', '3JHC_f3_best_iter', '3JHCcv_f3']\n"
     ]
    }
   ],
   "source": [
    "#types = ['2JHN', '3JHN', '2JHC', '3JHC', '2JHH', '1JHN', '3JHH', '1JHC']\n",
    "types = ['3JHC']\n",
    "for t in types:\n",
    "    print(t)\n",
    "    base_cols = ['run_id',\n",
    "                 'model_number',\n",
    "                 'eval_metric',\n",
    "                 'n_estimators',\n",
    "                 'early_stopping_rounds',\n",
    "                 'random_state',\n",
    "                 'n_threads',\n",
    "                 'learning_rate',\n",
    "                 'n_fold',\n",
    "                 'model_type',\n",
    "                 'training_time',\n",
    "                 'n_features',\n",
    "                 'depth',\n",
    "                 'gml_oof_score',\n",
    "                 'oof_score',\n",
    "                 'lb_score',]\n",
    "    t_cols = [x for x in tracking.columns if t in x]\n",
    "    print(t_cols)\n",
    "    t_filtered = tracking[base_cols + t_cols]\n",
    "    t_filtered = t_filtered.dropna(subset=[f'{t}_mae_cv']).sort_values(f'{t}_mae_cv')\n",
    "    sec_cols = [x for x in t_filtered.columns if 'sec' in x]\n",
    "    for s in sec_cols:\n",
    "        t_filtered[s.replace('sec','hour')] = (t_filtered[s] / 60 / 60).round(4)\n",
    "    t_filtered = t_filtered.drop(sec_cols, axis=1)\n",
    "    t_filtered[f'{t}_logmae_cv'] = t_filtered[f'{t}_mae_cv'].apply(np.log).round(5)\n",
    "    t_filtered = t_filtered.round(5)\n",
    "    hour_cols = [x for x in t_filtered if 'hour' in x]\n",
    "    t_filtered['hours_total'] = t_filtered[hour_cols].sum(axis=1)\n",
    "    collist = [x for x in t_filtered.columns]\n",
    "    first_cols = ['run_id','model_number','learning_rate','n_fold','eval_metric','n_features','random_state','hours_total',f'{t}_mae_cv',f'{t}_logmae_cv','oof_score','gml_oof_score','lb_score']\n",
    "\n",
    "    _ = [collist.remove(x) for x in first_cols]\n",
    "    new_collist = first_cols + collist\n",
    "    t_filtered = t_filtered[new_collist]\n",
    "    \n",
    "    t_filtered['n_estimators'] = t_filtered['n_estimators'].astype(int)\n",
    "    t_filtered['early_stopping_rounds'] = t_filtered['early_stopping_rounds'].astype(int)\n",
    "    t_filtered['n_threads'] = t_filtered['n_threads'].astype(int)\n",
    "    try:\n",
    "        t_filtered['n_features'] = t_filtered['n_features'].astype(int)\n",
    "    except:\n",
    "        pass\n",
    "    t_filtered['random_state'] = t_filtered['random_state'].astype(int)\n",
    "    t_filtered['n_fold'] = t_filtered['n_fold'].astype(int)\n",
    "\n",
    "    t_filtered.to_csv(f'../tracking/tracking_{t}.csv', index=False, float_format='%.4f')"
   ]
  },
  {
   "cell_type": "code",
   "execution_count": 13,
   "metadata": {},
   "outputs": [],
   "source": [
    "train = pd.read_csv('../input/train.csv')"
   ]
  },
  {
   "cell_type": "code",
   "execution_count": 14,
   "metadata": {},
   "outputs": [
    {
     "data": {
      "text/plain": [
       "<matplotlib.axes._subplots.AxesSubplot at 0x7fae51f82278>"
      ]
     },
     "execution_count": 14,
     "metadata": {},
     "output_type": "execute_result"
    }
   ],
   "source": [
    "test = pd.read_csv('../input/test.csv')\n",
    "test.groupby('type')['id'].count().sort_values().plot(kind='barh', title='Count of observations in test by type', figsize=(15, 5), color='grey')"
   ]
  },
  {
   "cell_type": "code",
   "execution_count": null,
   "metadata": {},
   "outputs": [],
   "source": []
  }
 ],
 "metadata": {
  "kernelspec": {
   "display_name": "Python 3",
   "language": "python",
   "name": "python3"
  },
  "language_info": {
   "codemirror_mode": {
    "name": "ipython",
    "version": 3
   },
   "file_extension": ".py",
   "mimetype": "text/x-python",
   "name": "python",
   "nbconvert_exporter": "python",
   "pygments_lexer": "ipython3",
   "version": "3.6.8"
  }
 },
 "nbformat": 4,
 "nbformat_minor": 4
}
