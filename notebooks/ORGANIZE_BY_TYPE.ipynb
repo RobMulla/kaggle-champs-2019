{
 "cells": [
  {
   "cell_type": "markdown",
   "metadata": {},
   "source": [
    "# Create Tracking Sheet by Type from Master\n",
    "This notebook updates the individual, type level tracking CSV files from the main tracking CSV."
   ]
  },
  {
   "cell_type": "code",
   "execution_count": 1,
   "metadata": {},
   "outputs": [],
   "source": [
    "import numpy as np\n",
    "import pandas as pd"
   ]
  },
  {
   "cell_type": "code",
   "execution_count": 2,
   "metadata": {},
   "outputs": [],
   "source": [
    "tracking = pd.read_csv('../tracking/tracking.csv')"
   ]
  },
  {
   "cell_type": "code",
   "execution_count": 3,
   "metadata": {},
   "outputs": [
    {
     "name": "stdout",
     "output_type": "stream",
     "text": [
      "2JHN\n",
      "['2JHN_mae_cv', '2JHN_std_mae_cv', '2JHN_tr_sec_f1', '2JHN_pred_sec_f1', '2JHN_tr_sec_f2', '2JHN_pred_sec_f2', '2JHN_csv_save_sec', '2JHN_tr_sec_f3', '2JHN_pred_sec_f3', '2JHN_f1_best_iter', '2JHN_f2_best_iter', '2JHNcv_f1', '2JHNcv_f2', '2JHN_meta_fc_est', '2JHN_meta_fc_metafolds', '2JHN_meta_fc_mae_cv_f1', '2JHN_meta_fc_mae_cv_f2', '2JHN_features', '2JHN_meta_fc_mae_cv_f3', '2JHN_f3_best_iter', '2JHNcv_f3', '2JHN_meta_fc_lmae_cv_f1', '2JHN_meta_fc_lmae_cv_f2', '2JHN_meta_fc_lmae_cv_f3']\n",
      "3JHN\n",
      "['3JHN_mae_cv', '3JHN_std_mae_cv', '3JHN_tr_sec_f1', '3JHN_pred_sec_f1', '3JHN_tr_sec_f2', '3JHN_pred_sec_f2', '3JHN_csv_save_sec', '3JHN_tr_sec_f3', '3JHN_pred_sec_f3', '3JHN_f1_best_iter', '3JHN_f2_best_iter', '3JHNcv_f1', '3JHNcv_f2', '3JHN_meta_fc_est', '3JHN_meta_fc_metafolds', '3JHN_meta_fc_mae_cv_f1', '3JHN_meta_fc_mae_cv_f2', '3JHN_features', '3JHN_meta_fc_mae_cv_f3', '3JHN_f3_best_iter', '3JHNcv_f3', '3JHN_meta_fc_lmae_cv_f1', '3JHN_meta_fc_lmae_cv_f2', '3JHN_meta_fc_lmae_cv_f3']\n",
      "2JHC\n",
      "['2JHC_mae_cv', '2JHC_std_mae_cv', '2JHC_tr_sec_f1', '2JHC_pred_sec_f1', '2JHC_tr_sec_f2', '2JHC_pred_sec_f2', '2JHC_csv_save_sec', '2JHC_tr_sec_f3', '2JHC_pred_sec_f3', '2JHC_f1_best_iter', '2JHC_f2_best_iter', '2JHCcv_f1', '2JHCcv_f2', '2JHC_meta_fc_est', '2JHC_meta_fc_metafolds', '2JHC_meta_fc_mae_cv_f1', '2JHC_meta_fc_mae_cv_f2', '2JHC_features', '2JHC_meta_fc_mae_cv_f3', '2JHC_f3_best_iter', '2JHCcv_f3', '2JHC_meta_fc_lmae_cv_f1', '2JHC_meta_fc_lmae_cv_f2', '2JHC_meta_fc_lmae_cv_f3']\n",
      "3JHC\n",
      "['3JHC_mae_cv', '3JHC_std_mae_cv', '3JHC_tr_sec_f1', '3JHC_pred_sec_f1', '3JHC_tr_sec_f2', '3JHC_pred_sec_f2', '3JHC_csv_save_sec', '3JHC_tr_sec_f3', '3JHC_pred_sec_f3', '3JHC_f1_best_iter', '3JHC_f2_best_iter', '3JHCcv_f1', '3JHCcv_f2', '3JHC_meta_fc_est', '3JHC_meta_fc_metafolds', '3JHC_meta_fc_mae_cv_f1', '3JHC_meta_fc_mae_cv_f2', '3JHC_features', '3JHC_meta_fc_mae_cv_f3', '3JHC_f3_best_iter', '3JHCcv_f3', '3JHC_meta_fc_lmae_cv_f1', '3JHC_meta_fc_lmae_cv_f2', '3JHC_meta_fc_lmae_cv_f3']\n",
      "2JHH\n",
      "['2JHH_mae_cv', '2JHH_std_mae_cv', '2JHH_tr_sec_f1', '2JHH_pred_sec_f1', '2JHH_tr_sec_f2', '2JHH_pred_sec_f2', '2JHH_csv_save_sec', '2JHH_tr_sec_f3', '2JHH_pred_sec_f3', '2JHH_f1_best_iter', '2JHH_f2_best_iter', '2JHHcv_f1', '2JHHcv_f2', '2JHH_meta_fc_est', '2JHH_meta_fc_metafolds', '2JHH_meta_fc_mae_cv_f1', '2JHH_meta_fc_mae_cv_f2', '2JHH_features', '2JHH_meta_fc_mae_cv_f3', '2JHH_f3_best_iter', '2JHHcv_f3', '2JHH_meta_fc_lmae_cv_f1', '2JHH_meta_fc_lmae_cv_f2', '2JHH_meta_fc_lmae_cv_f3']\n",
      "1JHN\n",
      "['1JHN_mae_cv', '1JHN_std_mae_cv', '1JHN_tr_sec_f1', '1JHN_pred_sec_f1', '1JHN_tr_sec_f2', '1JHN_pred_sec_f2', '1JHN_csv_save_sec', '1JHN_tr_sec_f3', '1JHN_pred_sec_f3', '1JHN_f1_best_iter', '1JHN_f2_best_iter', '1JHNcv_f1', '1JHNcv_f2', '1JHN_meta_fc_est', '1JHN_meta_fc_metafolds', '1JHN_meta_fc_mae_cv_f1', '1JHN_meta_fc_mae_cv_f2', '1JHN_features', '1JHN_meta_fc_mae_cv_f3', '1JHN_f3_best_iter', '1JHNcv_f3', '1JHN_meta_fc_lmae_cv_f1', '1JHN_meta_fc_lmae_cv_f2', '1JHN_meta_fc_lmae_cv_f3']\n",
      "3JHH\n",
      "['3JHH_mae_cv', '3JHH_std_mae_cv', '3JHH_tr_sec_f1', '3JHH_pred_sec_f1', '3JHH_tr_sec_f2', '3JHH_pred_sec_f2', '3JHH_csv_save_sec', '3JHH_tr_sec_f3', '3JHH_pred_sec_f3', '3JHH_f1_best_iter', '3JHH_f2_best_iter', '3JHHcv_f1', '3JHHcv_f2', '3JHH_meta_fc_est', '3JHH_meta_fc_metafolds', '3JHH_meta_fc_mae_cv_f1', '3JHH_meta_fc_mae_cv_f2', '3JHH_features', '3JHH_meta_fc_mae_cv_f3', '3JHH_f3_best_iter', '3JHHcv_f3', '3JHH_meta_fc_lmae_cv_f1', '3JHH_meta_fc_lmae_cv_f2', '3JHH_meta_fc_lmae_cv_f3']\n",
      "1JHC\n",
      "['1JHC_mae_cv', '1JHC_std_mae_cv', '1JHC_tr_sec_f1', '1JHC_pred_sec_f1', '1JHC_tr_sec_f2', '1JHC_pred_sec_f2', '1JHC_csv_save_sec', '1JHC_tr_sec_f3', '1JHC_pred_sec_f3', '1JHC_f1_best_iter', '1JHC_f2_best_iter', '1JHCcv_f1', '1JHCcv_f2', '1JHC_meta_fc_est', '1JHC_meta_fc_mae_cv', '1JHC_meta_fc_metafolds', '1JHC_meta_fc_mae_cv_f1', '1JHC_meta_sd_est', '1JHC_meta_sd_metafolds', '1JHC_meta_sd_mae_cv_f1', '1JHC_meta_pso_est', '1JHC_meta_pso_metafolds', '1JHC_meta_pso_mae_cv_f1', '1JHC_meta_dso_est', '1JHC_meta_dso_metafolds', '1JHC_meta_dso_mae_cv_f1', '1JHC_meta_fc_mae_cv_f2', '1JHC_meta_sd_mae_cv_f2', '1JHC_meta_pso_mae_cv_f2', '1JHC_meta_dso_mae_cv_f2', '1JHC_features', '1JHC_meta_fc_mae_cv_f3', '1JHC_f3_best_iter', '1JHCcv_f3', '1JHC_meta_fc_lmae_cv_f1', '1JHC_meta_fc_lmae_cv_f2', '1JHC_meta_fc_lmae_cv_f3']\n"
     ]
    }
   ],
   "source": [
    "types = ['2JHN', '3JHN', '2JHC', '3JHC', '2JHH', '1JHN', '3JHH', '1JHC']\n",
    "# types = ['3JHN', '2JHH'] #, '1JHN', '3JHH', '1JHC', '2JHN', '2JHC', '3JHC']\n",
    "\n",
    "#types = ['3JHC']\n",
    "for t in types:\n",
    "    print(t)\n",
    "    base_cols = ['run_id',\n",
    "                 'model_number',\n",
    "                 'eval_metric',\n",
    "                 'n_estimators',\n",
    "                 'model_type',\n",
    "                 'early_stopping_rounds',\n",
    "                 'random_state',\n",
    "                 'n_threads',\n",
    "                 'learning_rate',\n",
    "                 'n_fold',\n",
    "                 'training_time',\n",
    "                 'n_features',\n",
    "                 'depth',\n",
    "                 'gml_oof_score',\n",
    "                 'oof_score',\n",
    "                 'lb_score',]\n",
    "    t_cols = [x for x in tracking.columns if t in x]\n",
    "    print(t_cols)\n",
    "    t_filtered = tracking[base_cols + t_cols]\n",
    "    t_filtered = t_filtered.dropna(subset=[f'{t}_mae_cv']).sort_values(f'{t}_mae_cv')\n",
    "    sec_cols = [x for x in t_filtered.columns if 'sec' in x]\n",
    "    for s in sec_cols:\n",
    "        t_filtered[s.replace('sec','hour')] = (t_filtered[s] / 60 / 60).round(4)\n",
    "    t_filtered = t_filtered.drop(sec_cols, axis=1)\n",
    "    t_filtered[f'{t}_logmae_cv'] = t_filtered[f'{t}_mae_cv'].apply(np.log).round(5)\n",
    "    t_filtered = t_filtered.round(5)\n",
    "    hour_cols = [x for x in t_filtered if 'hour' in x]\n",
    "    t_filtered['hours_total'] = t_filtered[hour_cols].sum(axis=1)\n",
    "    collist = [x for x in t_filtered.columns]\n",
    "    first_cols = ['run_id','model_number',f'{t}_mae_cv',f'{t}_logmae_cv','depth',\n",
    "                  'learning_rate','model_type','n_fold','eval_metric','n_features', f'{t}_features',\n",
    "                  'random_state','hours_total',\n",
    "                  f'{t}_meta_fc_mae_cv_f1', f'{t}_meta_fc_mae_cv_f2', f'{t}_meta_fc_mae_cv_f3']\n",
    "\n",
    "    _ = [collist.remove(x) for x in first_cols]\n",
    "    new_collist = first_cols + collist\n",
    "    t_filtered = t_filtered[new_collist]\n",
    "    \n",
    "    t_filtered['n_estimators'] = t_filtered['n_estimators'].astype(int)\n",
    "    t_filtered['early_stopping_rounds'] = t_filtered['early_stopping_rounds'].astype(int)\n",
    "    t_filtered['n_threads'] = t_filtered['n_threads'].astype(int)\n",
    "    try:\n",
    "        t_filtered['n_features'] = t_filtered['n_features'].astype(int)\n",
    "    except:\n",
    "        pass\n",
    "    try:\n",
    "        t_filtered[f'{t}_features'] = t_filtered[f'{t}_features'].astype(int)\n",
    "    except:\n",
    "        pass\n",
    "    t_filtered['random_state'] = t_filtered['random_state'].astype(int)\n",
    "    t_filtered['n_fold'] = t_filtered['n_fold'].astype(int)\n",
    "\n",
    "    t_filtered.to_csv(f'../tracking/tracking_{t}.csv', index=False, float_format='%.4f')"
   ]
  },
  {
   "cell_type": "code",
   "execution_count": null,
   "metadata": {},
   "outputs": [],
   "source": []
  }
 ],
 "metadata": {
  "kernelspec": {
   "display_name": "Python 3",
   "language": "python",
   "name": "python3"
  },
  "language_info": {
   "codemirror_mode": {
    "name": "ipython",
    "version": 3
   },
   "file_extension": ".py",
   "mimetype": "text/x-python",
   "name": "python",
   "nbconvert_exporter": "python",
   "pygments_lexer": "ipython3",
   "version": "3.6.8"
  }
 },
 "nbformat": 4,
 "nbformat_minor": 4
}
