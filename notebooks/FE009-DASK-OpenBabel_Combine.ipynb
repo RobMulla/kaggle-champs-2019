{
 "cells": [
  {
   "cell_type": "markdown",
   "metadata": {},
   "source": [
    "# FE009 - More OpenBabel Features\n",
    "- Add more neighbors\n",
    "- Add weight of neightbor atoms"
   ]
  },
  {
   "cell_type": "code",
   "execution_count": null,
   "metadata": {},
   "outputs": [],
   "source": [
    "import dask.dataframe as dd\n",
    "import pandas as pd\n",
    "import matplotlib.pylab as plt"
   ]
  },
  {
   "cell_type": "code",
   "execution_count": null,
   "metadata": {},
   "outputs": [],
   "source": [
    "train = dd.read_csv('../input/train.csv')\n",
    "test = dd.read_csv('../input/test.csv')"
   ]
  },
  {
   "cell_type": "code",
   "execution_count": null,
   "metadata": {},
   "outputs": [],
   "source": [
    "%%time\n",
    "angle_details = dd.read_csv('../data/openbabel/angle_details.csv')\n",
    "atom_details = dd.read_csv('../data/openbabel/atom_details.csv')\n",
    "bond_details = dd.read_csv('../data/openbabel/bond_details.csv')\n",
    "closest = dd.read_csv('../data/openbabel/closest.csv',\n",
    "                         dtype={'atom_index':'float64',\n",
    "                                '10th_closest': 'float64',\n",
    "                               '7th_closest': 'float64',\n",
    "                               '8th_closest': 'float64',\n",
    "                               '9th_closest': 'float64',\n",
    "                               '10th_closest': 'float64',\n",
    "                               '6th_closest': 'float64',\n",
    "                               '5th_closest': 'float64',\n",
    "                               '4th_closest': 'float64',\n",
    "                               '3rd_closest': 'float64',\n",
    "                               '2nd_closest': 'float64',\n",
    "                               'closest': 'float64',\n",
    "})\n",
    "distances = dd.read_csv('../data/openbabel/distances.csv')\n",
    "molecule_details = dd.read_csv('../data/openbabel/molecule_details.csv')\n",
    "torsion_details = dd.read_csv('../data/openbabel/torsion_details.csv')"
   ]
  },
  {
   "cell_type": "code",
   "execution_count": null,
   "metadata": {},
   "outputs": [],
   "source": [
    "tt = dd.concat([train, test], axis=0)"
   ]
  },
  {
   "cell_type": "code",
   "execution_count": null,
   "metadata": {},
   "outputs": [],
   "source": [
    "tt.shape"
   ]
  },
  {
   "cell_type": "code",
   "execution_count": null,
   "metadata": {},
   "outputs": [],
   "source": [
    "tt.head()"
   ]
  },
  {
   "cell_type": "markdown",
   "metadata": {},
   "source": [
    "# Atom Details"
   ]
  },
  {
   "cell_type": "code",
   "execution_count": null,
   "metadata": {},
   "outputs": [],
   "source": [
    "atom_details.head()"
   ]
  },
  {
   "cell_type": "code",
   "execution_count": null,
   "metadata": {},
   "outputs": [],
   "source": [
    "%%time\n",
    "tt = dd.merge(tt,\n",
    "         atom_details,\n",
    "         left_on=['molecule_name','atom_index_0'],\n",
    "         right_on=['molecule_name','atom_idx'],\n",
    "         how='left') \\\n",
    "    .drop(['atom_idx'], axis=1) \\\n",
    "    .rename(columns={'atomic_number':'atom0_atomic_number',\n",
    "                     'atomic_mass':'atom0_atomic_mass',\n",
    "                     'valence':'atom0_valence',\n",
    "                     'spin_multiplicity':'atom0_spin_multiplicity'})\n",
    "tt = dd.merge(tt,\n",
    "         atom_details,\n",
    "         left_on=['molecule_name','atom_index_1'],\n",
    "         right_on=['molecule_name','atom_idx'],\n",
    "         how='left') \\\n",
    "    .drop(['atom_idx'], axis=1) \\\n",
    "    .rename(columns={'atomic_number':'atom1_atomic_number',\n",
    "                     'atomic_mass':'atom1_atomic_mass',\n",
    "                     'valence':'atom1_valence',\n",
    "                     'spin_multiplicity':'atom1_spin_multiplicity'})"
   ]
  },
  {
   "cell_type": "code",
   "execution_count": null,
   "metadata": {},
   "outputs": [],
   "source": [
    "# print(len(tt))"
   ]
  },
  {
   "cell_type": "markdown",
   "metadata": {},
   "source": [
    "# Angles"
   ]
  },
  {
   "cell_type": "code",
   "execution_count": null,
   "metadata": {},
   "outputs": [],
   "source": [
    "%%time\n",
    "tt = dd.merge(tt,\n",
    "         angle_details.groupby(['molecule_name','left_atom_idx','middle_atom_idx']).mean() \\\n",
    "              .reset_index(drop=False),\n",
    "         left_on=['molecule_name','atom_index_0','atom_index_1'],\n",
    "         right_on=['molecule_name','left_atom_idx','middle_atom_idx'],\n",
    "         how='left') \\\n",
    "    .drop(['left_atom_idx','middle_atom_idx','right_atom_idx'], axis=1) \\\n",
    "    .rename(columns={'angle':'left_middle_average_angle'})"
   ]
  },
  {
   "cell_type": "code",
   "execution_count": null,
   "metadata": {},
   "outputs": [],
   "source": [
    "%%time\n",
    "tt = dd.merge(tt,\n",
    "         angle_details.groupby(['molecule_name','right_atom_idx','middle_atom_idx']).mean() \\\n",
    "              .reset_index(drop=False),\n",
    "         left_on=['molecule_name','atom_index_0','atom_index_1'],\n",
    "         right_on=['molecule_name','right_atom_idx','middle_atom_idx'],\n",
    "         how='left') \\\n",
    "    .drop(['left_atom_idx','middle_atom_idx','right_atom_idx'], axis=1) \\\n",
    "    .rename(columns={'angle':'right_middle_average_angle'})"
   ]
  },
  {
   "cell_type": "code",
   "execution_count": null,
   "metadata": {},
   "outputs": [],
   "source": [
    "%%time\n",
    "tt = dd.merge(tt,\n",
    "         distances,\n",
    "         left_on=['molecule_name','atom_index_0','atom_index_1'],\n",
    "         right_on=['molecule_name','left_atom_idx','right_atom_idx'],\n",
    "         how='left')\\\n",
    "    .drop(['left_atom_idx','right_atom_idx'], axis=1)"
   ]
  },
  {
   "cell_type": "markdown",
   "metadata": {},
   "source": [
    "# Closest Neighbors"
   ]
  },
  {
   "cell_type": "code",
   "execution_count": null,
   "metadata": {},
   "outputs": [],
   "source": [
    "# Fix bug with the indexes being off by one\n",
    "if closest['closest'].min() == 1:\n",
    "    closest['atom_index'] = closest['atom_index'] - 1\n",
    "    for col in closest.columns:\n",
    "        if 'close' in col:\n",
    "            closest[col] = closest[col] - 1"
   ]
  },
  {
   "cell_type": "code",
   "execution_count": null,
   "metadata": {},
   "outputs": [],
   "source": [
    "%%time\n",
    "tt = dd.merge(tt,\n",
    "         closest[['molecule_name','atom_index','closest','2nd_closest','3rd_closest','4th_closest',\n",
    "                  '5th_closest', '6th_closest','7th_closest','8th_closest','9th_closest','10th_closest']],\n",
    "        left_on=['molecule_name','atom_index_0'],\n",
    "        right_on=['molecule_name','atom_index'],\n",
    "        how='left') \\\n",
    "    .drop(['atom_index'], axis=1) \\\n",
    "    .rename(columns={'closest':'closest_to_0',\n",
    "                     '2nd_closest':'2nd_closest_to_0',\n",
    "                     '3rd_closest':'3rd_closest_to_0',\n",
    "                     '4th_closest':'4th_closest_to_0',\n",
    "                     '5th_closest':'5th_closest_to_0',\n",
    "                     '6th_closest':'6th_closest_to_0',\n",
    "                     '7th_closest':'7th_closest_to_0',\n",
    "                     '8th_closest':'8th_closest_to_0',\n",
    "                     '9th_closest':'9th_closest_to_0',\n",
    "                     '10th_closest':'10th_closest_to_0'})"
   ]
  },
  {
   "cell_type": "code",
   "execution_count": null,
   "metadata": {},
   "outputs": [],
   "source": [
    "%%time\n",
    "tt = dd.merge(tt,\n",
    "         closest[['molecule_name','atom_index','closest','2nd_closest','3rd_closest','4th_closest',\n",
    "                  '5th_closest', '6th_closest','7th_closest','8th_closest','9th_closest','10th_closest']],\n",
    "        left_on=['molecule_name','atom_index_1'],\n",
    "        right_on=['molecule_name','atom_index'],\n",
    "        how='left') \\\n",
    "    .drop(['atom_index'], axis=1) \\\n",
    "    .rename(columns={'closest':'closest_to_1',\n",
    "                     '2nd_closest':'2nd_closest_to_1',\n",
    "                     '3rd_closest':'3rd_closest_to_1',\n",
    "                     '4th_closest':'4th_closest_to_1',\n",
    "                     '5th_closest':'5th_closest_to_1',\n",
    "                     '6th_closest':'6th_closest_to_1',\n",
    "                     '7th_closest':'7th_closest_to_1',\n",
    "                     '8th_closest':'8th_closest_to_1',\n",
    "                     '9th_closest':'9th_closest_to_1',\n",
    "                     '10th_closest':'10th_closest_to_1'})"
   ]
  },
  {
   "cell_type": "code",
   "execution_count": null,
   "metadata": {},
   "outputs": [],
   "source": [
    "tt['is_closest_pair'] = tt['closest_to_0'] == tt['atom_index_1']"
   ]
  },
  {
   "cell_type": "markdown",
   "metadata": {},
   "source": [
    "# Distance to neighbors"
   ]
  },
  {
   "cell_type": "markdown",
   "metadata": {},
   "source": [
    "## To atom0"
   ]
  },
  {
   "cell_type": "code",
   "execution_count": null,
   "metadata": {},
   "outputs": [],
   "source": [
    "%%time\n",
    "tt = dd.merge(tt,\n",
    "        distances,\n",
    "        left_on=['molecule_name','atom_index_0','closest_to_0'],\n",
    "        right_on=['molecule_name','left_atom_idx','right_atom_idx'],\n",
    "        suffixes=('','_closest_to_0'),\n",
    "             how='left') \\\n",
    "    .drop(['left_atom_idx','right_atom_idx'], axis=1)"
   ]
  },
  {
   "cell_type": "code",
   "execution_count": null,
   "metadata": {},
   "outputs": [],
   "source": [
    "%%time\n",
    "tt = dd.merge(tt,\n",
    "        distances,\n",
    "        left_on=['molecule_name','atom_index_0','2nd_closest_to_0'],\n",
    "        right_on=['molecule_name','left_atom_idx','right_atom_idx'],\n",
    "        suffixes=('','_2nd_closest_to_0'),\n",
    "             how='left') \\\n",
    "    .drop(['left_atom_idx','right_atom_idx'], axis=1)"
   ]
  },
  {
   "cell_type": "code",
   "execution_count": null,
   "metadata": {},
   "outputs": [],
   "source": [
    "%%time\n",
    "tt = dd.merge(tt,\n",
    "        distances,\n",
    "        left_on=['molecule_name','atom_index_0','3rd_closest_to_0'],\n",
    "        right_on=['molecule_name','left_atom_idx','right_atom_idx'],\n",
    "        suffixes=('','_3rd_closest_to_0'),\n",
    "             how='left') \\\n",
    "    .drop(['left_atom_idx','right_atom_idx'], axis=1)\n",
    "tt = dd.merge(tt,\n",
    "        distances,\n",
    "        left_on=['molecule_name','atom_index_0','4th_closest_to_0'],\n",
    "        right_on=['molecule_name','left_atom_idx','right_atom_idx'],\n",
    "        suffixes=('','_4th_closest_to_0'),\n",
    "             how='left') \\\n",
    "    .drop(['left_atom_idx','right_atom_idx'], axis=1)\n",
    "tt = dd.merge(tt,\n",
    "        distances,\n",
    "        left_on=['molecule_name','atom_index_0','5th_closest_to_0'],\n",
    "        right_on=['molecule_name','left_atom_idx','right_atom_idx'],\n",
    "        suffixes=('','_5th_closest_to_0'),\n",
    "             how='left') \\\n",
    "    .drop(['left_atom_idx','right_atom_idx'], axis=1)\n",
    "tt = dd.merge(tt,\n",
    "        distances,\n",
    "        left_on=['molecule_name','atom_index_0','6th_closest_to_0'],\n",
    "        right_on=['molecule_name','left_atom_idx','right_atom_idx'],\n",
    "        suffixes=('','_6th_closest_to_0'),\n",
    "             how='left') \\\n",
    "    .drop(['left_atom_idx','right_atom_idx'], axis=1)\n",
    "tt = dd.merge(tt,\n",
    "        distances,\n",
    "        left_on=['molecule_name','atom_index_0','7th_closest_to_0'],\n",
    "        right_on=['molecule_name','left_atom_idx','right_atom_idx'],\n",
    "        suffixes=('','_7th_closest_to_0'),\n",
    "             how='left') \\\n",
    "    .drop(['left_atom_idx','right_atom_idx'], axis=1)"
   ]
  },
  {
   "cell_type": "code",
   "execution_count": null,
   "metadata": {},
   "outputs": [],
   "source": [
    "%%time\n",
    "tt = dd.merge(tt,\n",
    "        distances,\n",
    "        left_on=['molecule_name','atom_index_0','8th_closest_to_0'],\n",
    "        right_on=['molecule_name','left_atom_idx','right_atom_idx'],\n",
    "        suffixes=('','_8th_closest_to_0'),\n",
    "             how='left') \\\n",
    "    .drop(['left_atom_idx','right_atom_idx'], axis=1)\n",
    "tt = dd.merge(tt,\n",
    "        distances,\n",
    "        left_on=['molecule_name','atom_index_0','9th_closest_to_0'],\n",
    "        right_on=['molecule_name','left_atom_idx','right_atom_idx'],\n",
    "        suffixes=('','_9th_closest_to_0'),\n",
    "             how='left') \\\n",
    "    .drop(['left_atom_idx','right_atom_idx'], axis=1)\n",
    "tt = dd.merge(tt,\n",
    "        distances,\n",
    "        left_on=['molecule_name','atom_index_0','10th_closest_to_0'],\n",
    "        right_on=['molecule_name','left_atom_idx','right_atom_idx'],\n",
    "        suffixes=('','_10th_closest_to_0'),\n",
    "             how='left') \\\n",
    "    .drop(['left_atom_idx','right_atom_idx'], axis=1)\n",
    "tt.shape"
   ]
  },
  {
   "cell_type": "markdown",
   "metadata": {},
   "source": [
    "## To atom1"
   ]
  },
  {
   "cell_type": "code",
   "execution_count": null,
   "metadata": {},
   "outputs": [],
   "source": [
    "%%time\n",
    "tt = dd.merge(tt,\n",
    "              distances,\n",
    "              left_on=['molecule_name', 'atom_index_1', 'closest_to_1'],\n",
    "              right_on=['molecule_name', 'left_atom_idx', 'right_atom_idx'],\n",
    "              suffixes=('', '_closest_to_1'),\n",
    "              how='left') \\\n",
    "    .drop(['left_atom_idx', 'right_atom_idx'], axis=1)\n",
    "tt = dd.merge(tt,\n",
    "              distances,\n",
    "              left_on=['molecule_name', 'atom_index_1', '2nd_closest_to_1'],\n",
    "              right_on=['molecule_name', 'left_atom_idx', 'right_atom_idx'],\n",
    "              suffixes=('', '_2nd_closest_to_1'),\n",
    "              how='left') \\\n",
    "    .drop(['left_atom_idx', 'right_atom_idx'], axis=1)\n",
    "tt = dd.merge(tt,\n",
    "              distances,\n",
    "              left_on=['molecule_name', 'atom_index_1', '3rd_closest_to_1'],\n",
    "              right_on=['molecule_name', 'left_atom_idx', 'right_atom_idx'],\n",
    "              suffixes=('', '_3rd_closest_to_1'),\n",
    "              how='left') \\\n",
    "    .drop(['left_atom_idx', 'right_atom_idx'], axis=1)\n",
    "tt = dd.merge(tt,\n",
    "              distances,\n",
    "              left_on=['molecule_name', 'atom_index_1', '4th_closest_to_1'],\n",
    "              right_on=['molecule_name', 'left_atom_idx', 'right_atom_idx'],\n",
    "              suffixes=('', '_4th_closest_to_1'),\n",
    "              how='left') \\\n",
    "    .drop(['left_atom_idx', 'right_atom_idx'], axis=1)"
   ]
  },
  {
   "cell_type": "code",
   "execution_count": null,
   "metadata": {},
   "outputs": [],
   "source": [
    "%%time\n",
    "tt = dd.merge(tt,\n",
    "              distances,\n",
    "              left_on=['molecule_name', 'atom_index_1', '5th_closest_to_1'],\n",
    "              right_on=['molecule_name', 'left_atom_idx', 'right_atom_idx'],\n",
    "              suffixes=('', '_5th_closest_to_1'),\n",
    "              how='left') \\\n",
    "    .drop(['left_atom_idx', 'right_atom_idx'], axis=1)\n",
    "tt = dd.merge(tt,\n",
    "              distances,\n",
    "              left_on=['molecule_name', 'atom_index_1', '6th_closest_to_1'],\n",
    "              right_on=['molecule_name', 'left_atom_idx', 'right_atom_idx'],\n",
    "              suffixes=('', '_6th_closest_to_1'),\n",
    "              how='left') \\\n",
    "    .drop(['left_atom_idx', 'right_atom_idx'], axis=1)\n",
    "tt = dd.merge(tt,\n",
    "              distances,\n",
    "              left_on=['molecule_name', 'atom_index_1', '7th_closest_to_1'],\n",
    "              right_on=['molecule_name', 'left_atom_idx', 'right_atom_idx'],\n",
    "              suffixes=('', '_7th_closest_to_1'),\n",
    "              how='left') \\\n",
    "    .drop(['left_atom_idx', 'right_atom_idx'], axis=1)"
   ]
  },
  {
   "cell_type": "code",
   "execution_count": null,
   "metadata": {},
   "outputs": [],
   "source": [
    "%%time\n",
    "tt = dd.merge(tt,\n",
    "              distances,\n",
    "              left_on=['molecule_name', 'atom_index_1', '8th_closest_to_1'],\n",
    "              right_on=['molecule_name', 'left_atom_idx', 'right_atom_idx'],\n",
    "              suffixes=('', '_8th_closest_to_1'),\n",
    "              how='left') \\\n",
    "    .drop(['left_atom_idx', 'right_atom_idx'], axis=1)\n",
    "tt = dd.merge(tt,\n",
    "              distances,\n",
    "              left_on=['molecule_name', 'atom_index_1', '9th_closest_to_1'],\n",
    "              right_on=['molecule_name', 'left_atom_idx', 'right_atom_idx'],\n",
    "              suffixes=('', '_9th_closest_to_1'),\n",
    "              how='left') \\\n",
    "    .drop(['left_atom_idx', 'right_atom_idx'], axis=1)\n",
    "tt = dd.merge(tt,\n",
    "              distances,\n",
    "              left_on=['molecule_name', 'atom_index_1', '10th_closest_to_1'],\n",
    "              right_on=['molecule_name', 'left_atom_idx', 'right_atom_idx'],\n",
    "              suffixes=('', '_10th_closest_to_1'),\n",
    "              how='left') \\\n",
    "    .drop(['left_atom_idx', 'right_atom_idx'], axis=1)\n",
    "tt.shape"
   ]
  },
  {
   "cell_type": "markdown",
   "metadata": {},
   "source": [
    "# Atom Details of Neighbors"
   ]
  },
  {
   "cell_type": "code",
   "execution_count": null,
   "metadata": {},
   "outputs": [],
   "source": [
    "%%time\n",
    "tt = dd.merge(tt,\n",
    "         atom_details,\n",
    "         left_on=['molecule_name','closest_to_0'],\n",
    "         right_on=['molecule_name','atom_idx'],\n",
    "         how='left') \\\n",
    "    .drop(['atom_idx'], axis=1) \\\n",
    "    .rename(columns={'atomic_number':'closest_to_0_atomic_number',\n",
    "                     'atomic_mass':'closest_to_0_atomic_mass',\n",
    "                     'valence':'closest_to_0_valence',\n",
    "                     'spin_multiplicity':'closest_to_0_spin_multiplicity',\n",
    "                     'exact_mass': 'closest_to_0_exact_mass'})\n",
    "tt.shape"
   ]
  },
  {
   "cell_type": "code",
   "execution_count": null,
   "metadata": {},
   "outputs": [],
   "source": [
    "%%time\n",
    "tt = dd.merge(tt,\n",
    "         atom_details,\n",
    "         left_on=['molecule_name','2nd_closest_to_0'],\n",
    "         right_on=['molecule_name','atom_idx'],\n",
    "         how='left') \\\n",
    "    .drop(['atom_idx'], axis=1) \\\n",
    "    .rename(columns={'atomic_number':'2nd_closest_to_0_atomic_number',\n",
    "                     'atomic_mass':'2nd_closest_to_0_atomic_mass',\n",
    "                     'valence':'2nd_closest_to_0_valence',\n",
    "                     'spin_multiplicity':'2nd_closest_to_0_spin_multiplicity',\n",
    "                     'exact_mass': '2nd_closest_to_0_exact_mass'})\n",
    "tt.shape"
   ]
  },
  {
   "cell_type": "code",
   "execution_count": null,
   "metadata": {},
   "outputs": [],
   "source": [
    "%%time\n",
    "tt = dd.merge(tt,\n",
    "         atom_details,\n",
    "         left_on=['molecule_name','3rd_closest_to_0'],\n",
    "         right_on=['molecule_name','atom_idx'],\n",
    "         how='left') \\\n",
    "    .drop(['atom_idx'], axis=1) \\\n",
    "    .rename(columns={'atomic_number':'3rd_closest_to_0_atomic_number',\n",
    "                     'atomic_mass':'3rd_closest_to_0_atomic_mass',\n",
    "                     'valence':'3rd_closest_to_0_valence',\n",
    "                     'spin_multiplicity':'3rd_closest_to_0_spin_multiplicity',\n",
    "                     'exact_mass': '3rd_closest_to_0_exact_mass'})\n",
    "tt.shape"
   ]
  },
  {
   "cell_type": "code",
   "execution_count": null,
   "metadata": {},
   "outputs": [],
   "source": [
    "%%time\n",
    "tt = dd.merge(tt,\n",
    "         atom_details,\n",
    "         left_on=['molecule_name','4th_closest_to_0'],\n",
    "         right_on=['molecule_name','atom_idx'],\n",
    "         how='left') \\\n",
    "    .drop(['atom_idx'], axis=1) \\\n",
    "    .rename(columns={'atomic_number':'4th_closest_to_0_atomic_number',\n",
    "                     'atomic_mass':'4th_closest_to_0_atomic_mass',\n",
    "                     'valence':'4th_closest_to_0_valence',\n",
    "                     'spin_multiplicity':'4th_closest_to_0_spin_multiplicity',\n",
    "                     'exact_mass': '4th_closest_to_0_exact_mass'})\n",
    "tt.shape"
   ]
  },
  {
   "cell_type": "code",
   "execution_count": null,
   "metadata": {},
   "outputs": [],
   "source": [
    "%%time\n",
    "tt = dd.merge(tt,\n",
    "         atom_details,\n",
    "         left_on=['molecule_name','5th_closest_to_0'],\n",
    "         right_on=['molecule_name','atom_idx'],\n",
    "         how='left') \\\n",
    "    .drop(['atom_idx'], axis=1) \\\n",
    "    .rename(columns={'atomic_number':'5th_closest_to_0_atomic_number',\n",
    "                     'atomic_mass':'5th_closest_to_0_atomic_mass',\n",
    "                     'valence':'5th_closest_to_0_valence',\n",
    "                     'spin_multiplicity':'5th_closest_to_0_spin_multiplicity',\n",
    "                     'exact_mass': '5th_closest_to_0_exact_mass'})"
   ]
  },
  {
   "cell_type": "code",
   "execution_count": null,
   "metadata": {},
   "outputs": [],
   "source": [
    "%%time\n",
    "tt = dd.merge(tt,\n",
    "         atom_details,\n",
    "         left_on=['molecule_name','6th_closest_to_0'],\n",
    "         right_on=['molecule_name','atom_idx'],\n",
    "         how='left') \\\n",
    "    .drop(['atom_idx'], axis=1) \\\n",
    "    .rename(columns={'atomic_number':'6th_closest_to_0_atomic_number',\n",
    "                     'atomic_mass':'6th_closest_to_0_atomic_mass',\n",
    "                     'valence':'6th_closest_to_0_valence',\n",
    "                     'spin_multiplicity':'6th_closest_to_0_spin_multiplicity',\n",
    "                     'exact_mass': '6th_closest_to_0_exact_mass'})\n",
    "tt = dd.merge(tt,\n",
    "         atom_details,\n",
    "         left_on=['molecule_name','7th_closest_to_0'],\n",
    "         right_on=['molecule_name','atom_idx'],\n",
    "         how='left') \\\n",
    "    .drop(['atom_idx'], axis=1) \\\n",
    "    .rename(columns={'atomic_number':'7th_closest_to_0_atomic_number',\n",
    "                     'atomic_mass':'7th_closest_to_0_atomic_mass',\n",
    "                     'valence':'7th_closest_to_0_valence',\n",
    "                     'spin_multiplicity':'7th_closest_to_0_spin_multiplicity',\n",
    "                     'exact_mass': '7th_closest_to_0_exact_mass'})\n",
    "tt = dd.merge(tt,\n",
    "         atom_details,\n",
    "         left_on=['molecule_name','8th_closest_to_0'],\n",
    "         right_on=['molecule_name','atom_idx'],\n",
    "         how='left') \\\n",
    "    .drop(['atom_idx'], axis=1) \\\n",
    "    .rename(columns={'atomic_number':'8th_closest_to_0_atomic_number',\n",
    "                     'atomic_mass':'8th_closest_to_0_atomic_mass',\n",
    "                     'valence':'8th_closest_to_0_valence',\n",
    "                     'spin_multiplicity':'8th_closest_to_0_spin_multiplicity',\n",
    "                     'exact_mass': '8th_closest_to_0_exact_mass'})\n",
    "tt = dd.merge(tt,\n",
    "         atom_details,\n",
    "         left_on=['molecule_name','9th_closest_to_0'],\n",
    "         right_on=['molecule_name','atom_idx'],\n",
    "         how='left') \\\n",
    "    .drop(['atom_idx'], axis=1) \\\n",
    "    .rename(columns={'atomic_number':'9th_closest_to_0_atomic_number',\n",
    "                     'atomic_mass':'9th_closest_to_0_atomic_mass',\n",
    "                     'valence':'9th_closest_to_0_valence',\n",
    "                     'spin_multiplicity':'9th_closest_to_0_spin_multiplicity',\n",
    "                     'exact_mass': '9th_closest_to_0_exact_mass'})\n",
    "tt = dd.merge(tt,\n",
    "         atom_details,\n",
    "         left_on=['molecule_name','10th_closest_to_0'],\n",
    "         right_on=['molecule_name','atom_idx'],\n",
    "         how='left') \\\n",
    "    .drop(['atom_idx'], axis=1) \\\n",
    "    .rename(columns={'atomic_number':'10th_closest_to_0_atomic_number',\n",
    "                     'atomic_mass':'10th_closest_to_0_atomic_mass',\n",
    "                     'valence':'10th_closest_to_0_valence',\n",
    "                     'spin_multiplicity':'10th_closest_to_0_spin_multiplicity',\n",
    "                     'exact_mass': '10th_closest_to_0_exact_mass'})"
   ]
  },
  {
   "cell_type": "code",
   "execution_count": null,
   "metadata": {},
   "outputs": [],
   "source": [
    "%%time\n",
    "tt = dd.merge(tt,\n",
    "         atom_details,\n",
    "         left_on=['molecule_name','closest_to_1'],\n",
    "         right_on=['molecule_name','atom_idx'],\n",
    "         how='left') \\\n",
    "    .drop(['atom_idx'], axis=1) \\\n",
    "    .rename(columns={'atomic_number':'closest_to_1_atomic_number',\n",
    "                     'atomic_mass':'closest_to_1_atomic_mass',\n",
    "                     'valence':'closest_to_1_valence',\n",
    "                     'spin_multiplicity':'closest_to_1_spin_multiplicity',\n",
    "                     'exact_mass': 'closest_to_1_exact_mass'})\n",
    "tt = dd.merge(tt,\n",
    "         atom_details,\n",
    "         left_on=['molecule_name','2nd_closest_to_1'],\n",
    "         right_on=['molecule_name','atom_idx'],\n",
    "         how='left') \\\n",
    "    .drop(['atom_idx'], axis=1) \\\n",
    "    .rename(columns={'atomic_number':'2nd_closest_to_1_atomic_number',\n",
    "                     'atomic_mass':'2nd_closest_to_1_atomic_mass',\n",
    "                     'valence':'2nd_closest_to_1_valence',\n",
    "                     'spin_multiplicity':'2nd_closest_to_1_spin_multiplicity',\n",
    "                     'exact_mass': '2nd_closest_to_1_exact_mass'})\n",
    "tt = dd.merge(tt,\n",
    "         atom_details,\n",
    "         left_on=['molecule_name','3rd_closest_to_1'],\n",
    "         right_on=['molecule_name','atom_idx'],\n",
    "         how='left') \\\n",
    "    .drop(['atom_idx'], axis=1) \\\n",
    "    .rename(columns={'atomic_number':'3rd_closest_to_1_atomic_number',\n",
    "                     'atomic_mass':'3rd_closest_to_1_atomic_mass',\n",
    "                     'valence':'3rd_closest_to_1_valence',\n",
    "                     'spin_multiplicity':'3rd_closest_to_1_spin_multiplicity',\n",
    "                     'exact_mass': '3rd_closest_to_1_exact_mass'})\n",
    "tt = dd.merge(tt,\n",
    "         atom_details,\n",
    "         left_on=['molecule_name','4th_closest_to_1'],\n",
    "         right_on=['molecule_name','atom_idx'],\n",
    "         how='left') \\\n",
    "    .drop(['atom_idx'], axis=1) \\\n",
    "    .rename(columns={'atomic_number':'4th_closest_to_1_atomic_number',\n",
    "                     'atomic_mass':'4th_closest_to_1_atomic_mass',\n",
    "                     'valence':'4th_closest_to_1_valence',\n",
    "                     'spin_multiplicity':'4th_closest_to_1_spin_multiplicity',\n",
    "                     'exact_mass': '4th_closest_to_1_exact_mass'})\n",
    "tt = dd.merge(tt,\n",
    "         atom_details,\n",
    "         left_on=['molecule_name','5th_closest_to_1'],\n",
    "         right_on=['molecule_name','atom_idx'],\n",
    "         how='left') \\\n",
    "    .drop(['atom_idx'], axis=1) \\\n",
    "    .rename(columns={'atomic_number':'5th_closest_to_1_atomic_number',\n",
    "                     'atomic_mass':'5th_closest_to_1_atomic_mass',\n",
    "                     'valence':'5th_closest_to_1_valence',\n",
    "                     'spin_multiplicity':'5th_closest_to_1_spin_multiplicity',\n",
    "                     'exact_mass': '5th_closest_to_1_exact_mass'})\n",
    "tt = dd.merge(tt,\n",
    "         atom_details,\n",
    "         left_on=['molecule_name','6th_closest_to_1'],\n",
    "         right_on=['molecule_name','atom_idx'],\n",
    "         how='left') \\\n",
    "    .drop(['atom_idx'], axis=1) \\\n",
    "    .rename(columns={'atomic_number':'6th_closest_to_1_atomic_number',\n",
    "                     'atomic_mass':'6th_closest_to_1_atomic_mass',\n",
    "                     'valence':'6th_closest_to_1_valence',\n",
    "                     'spin_multiplicity':'6th_closest_to_1_spin_multiplicity',\n",
    "                     'exact_mass': '6th_closest_to_1_exact_mass'})\n",
    "tt = dd.merge(tt,\n",
    "         atom_details,\n",
    "         left_on=['molecule_name','7th_closest_to_1'],\n",
    "         right_on=['molecule_name','atom_idx'],\n",
    "         how='left') \\\n",
    "    .drop(['atom_idx'], axis=1) \\\n",
    "    .rename(columns={'atomic_number':'7th_closest_to_1_atomic_number',\n",
    "                     'atomic_mass':'7th_closest_to_1_atomic_mass',\n",
    "                     'valence':'7th_closest_to_1_valence',\n",
    "                     'spin_multiplicity':'7th_closest_to_1_spin_multiplicity',\n",
    "                     'exact_mass': '7th_closest_to_1_exact_mass'})\n",
    "tt = dd.merge(tt,\n",
    "         atom_details,\n",
    "         left_on=['molecule_name','8th_closest_to_1'],\n",
    "         right_on=['molecule_name','atom_idx'],\n",
    "         how='left') \\\n",
    "    .drop(['atom_idx'], axis=1) \\\n",
    "    .rename(columns={'atomic_number':'8th_closest_to_1_atomic_number',\n",
    "                     'atomic_mass':'8th_closest_to_1_atomic_mass',\n",
    "                     'valence':'8th_closest_to_1_valence',\n",
    "                     'spin_multiplicity':'8th_closest_to_1_spin_multiplicity',\n",
    "                     'exact_mass': '8th_closest_to_1_exact_mass'})\n",
    "tt = dd.merge(tt,\n",
    "         atom_details,\n",
    "         left_on=['molecule_name','9th_closest_to_1'],\n",
    "         right_on=['molecule_name','atom_idx'],\n",
    "         how='left') \\\n",
    "    .drop(['atom_idx'], axis=1) \\\n",
    "    .rename(columns={'atomic_number':'9th_closest_to_1_atomic_number',\n",
    "                     'atomic_mass':'9th_closest_to_1_atomic_mass',\n",
    "                     'valence':'9th_closest_to_1_valence',\n",
    "                     'spin_multiplicity':'9th_closest_to_1_spin_multiplicity',\n",
    "                     'exact_mass': '9th_closest_to_1_exact_mass'})\n",
    "tt = dd.merge(tt,\n",
    "         atom_details,\n",
    "         left_on=['molecule_name','10th_closest_to_1'],\n",
    "         right_on=['molecule_name','atom_idx'],\n",
    "         how='left') \\\n",
    "    .drop(['atom_idx'], axis=1) \\\n",
    "    .rename(columns={'atomic_number':'10th_closest_to_1_atomic_number',\n",
    "                     'atomic_mass':'10th_closest_to_1_atomic_mass',\n",
    "                     'valence':'10th_closest_to_1_valence',\n",
    "                     'spin_multiplicity':'10th_closest_to_1_spin_multiplicity',\n",
    "                     'exact_mass': '10th_closest_to_1_exact_mass'})"
   ]
  },
  {
   "cell_type": "markdown",
   "metadata": {},
   "source": [
    "## Torsion Details"
   ]
  },
  {
   "cell_type": "code",
   "execution_count": null,
   "metadata": {},
   "outputs": [],
   "source": [
    "%%time\n",
    "tt = dd.merge(tt,\n",
    "        torsion_details.groupby(['molecule_name','2left_atom_idx','left_atom_idx'])['torsion_angle'] \\\n",
    "                  .agg(['mean','min','max','count'])\\\n",
    "                  .reset_index(),\n",
    "        left_on=['molecule_name','atom_index_0','atom_index_1'],\n",
    "         right_on=['molecule_name','2left_atom_idx','left_atom_idx'],\n",
    "         how='left') \\\n",
    "    .drop(['2left_atom_idx','left_atom_idx'], axis=1) \\\n",
    "    .rename(columns={'mean': 'tor_ang_2leftleft_mean',\n",
    "                     'min': 'tor_ang_2leftleft_min',\n",
    "                    'max': 'tor_ang_2leftleft_max',\n",
    "                    'count': 'tor_ang_2leftleft_count'})"
   ]
  },
  {
   "cell_type": "code",
   "execution_count": null,
   "metadata": {},
   "outputs": [],
   "source": [
    "%%time\n",
    "tt = dd.merge(tt,\n",
    "         torsion_details.groupby(['molecule_name','2left_atom_idx','right_atom_idx'])['torsion_angle'] \\\n",
    "                  .agg(['mean','min','max','count'])\\\n",
    "                  .reset_index(),\n",
    "         left_on=['molecule_name','atom_index_0','atom_index_1'],\n",
    "         right_on=['molecule_name','2left_atom_idx','right_atom_idx'],\n",
    "         how='left') \\\n",
    "    .drop(['2left_atom_idx','right_atom_idx'], axis=1) \\\n",
    "    .rename(columns={'mean': 'tor_ang_2leftright_mean',\n",
    "                     'min': 'tor_ang_2leftright_min',\n",
    "                     'max': 'tor_ang_2leftright_max',\n",
    "                     'count': 'tor_ang_2leftright_count'})"
   ]
  },
  {
   "cell_type": "code",
   "execution_count": null,
   "metadata": {},
   "outputs": [],
   "source": [
    "molecule_details.head()"
   ]
  },
  {
   "cell_type": "code",
   "execution_count": null,
   "metadata": {},
   "outputs": [],
   "source": [
    "%%time\n",
    "tt = dd.merge(tt,\n",
    "        molecule_details.drop('num_residues', axis=1),\n",
    "         left_on=['molecule_name'],\n",
    "         right_on=['molecule_name'],\n",
    "         how='left')"
   ]
  },
  {
   "cell_type": "code",
   "execution_count": null,
   "metadata": {},
   "outputs": [],
   "source": [
    "test.head()"
   ]
  },
  {
   "cell_type": "code",
   "execution_count": null,
   "metadata": {},
   "outputs": [],
   "source": [
    "%%time\n",
    "from dask.diagnostics import ProgressBar\n",
    "with ProgressBar():\n",
    "    tt2 = tt.compute()\n"
   ]
  },
  {
   "cell_type": "code",
   "execution_count": null,
   "metadata": {},
   "outputs": [],
   "source": [
    "tt2.to_parquet('../data/FE009_tt.parquet')"
   ]
  },
  {
   "cell_type": "code",
   "execution_count": null,
   "metadata": {},
   "outputs": [],
   "source": [
    "test_FE009 = tt.sort_values('id').loc[tt['scalar_coupling_constant'].isnull()].reset_index(drop=True)\n",
    "train_FE009 = tt.sort_values('id').loc[~tt['scalar_coupling_constant'].isnull()].reset_index(drop=True)"
   ]
  },
  {
   "cell_type": "code",
   "execution_count": null,
   "metadata": {},
   "outputs": [],
   "source": [
    "test_FE009.shape"
   ]
  },
  {
   "cell_type": "code",
   "execution_count": null,
   "metadata": {},
   "outputs": [],
   "source": [
    "test.shape"
   ]
  },
  {
   "cell_type": "code",
   "execution_count": null,
   "metadata": {},
   "outputs": [],
   "source": [
    "train_FE009.shape"
   ]
  },
  {
   "cell_type": "code",
   "execution_count": null,
   "metadata": {},
   "outputs": [],
   "source": [
    "train.shape"
   ]
  },
  {
   "cell_type": "code",
   "execution_count": null,
   "metadata": {},
   "outputs": [],
   "source": [
    "bool_cols = [col for col in train_FE009.columns if 'is_bond_' in col]\n",
    "test_FE009[bool_cols] = test_FE009[bool_cols].fillna(False)\n",
    "train_FE009[bool_cols] = train_FE009[bool_cols].fillna(False)"
   ]
  },
  {
   "cell_type": "code",
   "execution_count": null,
   "metadata": {},
   "outputs": [],
   "source": [
    "test_FE009.to_parquet('../data/FE009_test.parquet')"
   ]
  },
  {
   "cell_type": "code",
   "execution_count": null,
   "metadata": {},
   "outputs": [],
   "source": [
    "train_FE009.to_parquet('../data/FE009_train.parquet')"
   ]
  },
  {
   "cell_type": "code",
   "execution_count": null,
   "metadata": {},
   "outputs": [],
   "source": [
    "[col for col in test_FE009.columns]"
   ]
  },
  {
   "cell_type": "code",
   "execution_count": null,
   "metadata": {},
   "outputs": [],
   "source": []
  }
 ],
 "metadata": {
  "kernelspec": {
   "display_name": "Python 3",
   "language": "python",
   "name": "python3"
  },
  "language_info": {
   "codemirror_mode": {
    "name": "ipython",
    "version": 3
   },
   "file_extension": ".py",
   "mimetype": "text/x-python",
   "name": "python",
   "nbconvert_exporter": "python",
   "pygments_lexer": "ipython3",
   "version": "3.6.6"
  }
 },
 "nbformat": 4,
 "nbformat_minor": 2
}
