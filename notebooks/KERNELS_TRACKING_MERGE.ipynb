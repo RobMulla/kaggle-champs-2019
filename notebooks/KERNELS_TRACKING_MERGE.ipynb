{
 "cells": [
  {
   "cell_type": "code",
   "execution_count": 54,
   "metadata": {},
   "outputs": [],
   "source": [
    "import pandas as pd"
   ]
  },
  {
   "cell_type": "code",
   "execution_count": 47,
   "metadata": {},
   "outputs": [],
   "source": [
    "tk = pd.read_csv('../tracking/tracking.csv')"
   ]
  },
  {
   "cell_type": "code",
   "execution_count": 40,
   "metadata": {},
   "outputs": [],
   "source": [
    "t1 = pd.read_csv('../tracking/kernels/M049-1JHN-Kernel.csv')\n",
    "t2 = pd.read_csv('../tracking/kernels/M049-2JHH-Kernel.csv')\n",
    "t3 = pd.read_csv('../tracking/kernels/M049-3JHN-Kernel.csv')"
   ]
  },
  {
   "cell_type": "code",
   "execution_count": 41,
   "metadata": {},
   "outputs": [],
   "source": [
    "t1 = t1.rename(columns={'Unnamed: 0':'run_id'})\n",
    "t2 = t2.rename(columns={'Unnamed: 0':'run_id'})\n",
    "t3 = t3.rename(columns={'Unnamed: 0':'run_id'})"
   ]
  },
  {
   "cell_type": "code",
   "execution_count": 42,
   "metadata": {},
   "outputs": [],
   "source": [
    "tk = pd.concat([tk, t1], sort=False, axis=0)\n",
    "tk = pd.concat([tk, t2], sort=False, axis=0)\n",
    "tk = pd.concat([tk, t3], sort=False, axis=0)"
   ]
  },
  {
   "cell_type": "code",
   "execution_count": 44,
   "metadata": {},
   "outputs": [],
   "source": [
    "tk.to_csv('../tracking/tracking.csv')"
   ]
  },
  {
   "cell_type": "code",
   "execution_count": 50,
   "metadata": {},
   "outputs": [],
   "source": [
    "tk = tk.drop('Unnamed: 0', axis=1)"
   ]
  },
  {
   "cell_type": "code",
   "execution_count": 52,
   "metadata": {},
   "outputs": [],
   "source": [
    "tk = tk.set_index('run_id')"
   ]
  },
  {
   "cell_type": "code",
   "execution_count": 53,
   "metadata": {},
   "outputs": [],
   "source": [
    "tk.to_csv('../tracking/tracking.csv')"
   ]
  },
  {
   "cell_type": "code",
   "execution_count": 55,
   "metadata": {},
   "outputs": [],
   "source": [
    "tk = pd.read_csv('../tracking/tracking.csv')\n",
    "t1 = pd.read_csv('../tracking/kernels/tracking_M049_2JHN.csv')\n",
    "t1 = t1.rename(columns={'Unnamed: 0':'run_id'})\n",
    "tk = pd.concat([tk, t1], sort=False, axis=0)\n",
    "tk = tk.set_index('run_id')\n",
    "tk.to_csv('../tracking/tracking.csv')"
   ]
  },
  {
   "cell_type": "code",
   "execution_count": null,
   "metadata": {},
   "outputs": [],
   "source": []
  }
 ],
 "metadata": {
  "kernelspec": {
   "display_name": "Python 3",
   "language": "python",
   "name": "python3"
  },
  "language_info": {
   "codemirror_mode": {
    "name": "ipython",
    "version": 3
   },
   "file_extension": ".py",
   "mimetype": "text/x-python",
   "name": "python",
   "nbconvert_exporter": "python",
   "pygments_lexer": "ipython3",
   "version": "3.6.8"
  }
 },
 "nbformat": 4,
 "nbformat_minor": 4
}
