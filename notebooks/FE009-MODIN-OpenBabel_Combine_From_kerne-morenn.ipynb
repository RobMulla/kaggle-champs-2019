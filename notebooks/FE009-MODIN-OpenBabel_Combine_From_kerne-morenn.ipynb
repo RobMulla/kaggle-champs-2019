{
 "cells": [
  {
   "cell_type": "markdown",
   "metadata": {},
   "source": [
    "# FE009 - More OpenBabel Features\n",
    "- Add more neighbors\n",
    "- Add weight of neightbor atoms"
   ]
  },
  {
   "cell_type": "code",
   "execution_count": 1,
   "metadata": {},
   "outputs": [
    {
     "name": "stdout",
     "output_type": "stream",
     "text": [
      "Requirement already satisfied: modin in /opt/conda/lib/python3.6/site-packages (0.5.3)\n",
      "Requirement already satisfied: pandas==0.24.2 in /opt/conda/lib/python3.6/site-packages (from modin) (0.24.2)\n",
      "Requirement already satisfied: ray==0.7 in /opt/conda/lib/python3.6/site-packages (from modin) (0.7.0)\n",
      "Requirement already satisfied: numpy>=1.12.0 in /opt/conda/lib/python3.6/site-packages (from pandas==0.24.2->modin) (1.16.3)\n",
      "Requirement already satisfied: python-dateutil>=2.5.0 in /opt/conda/lib/python3.6/site-packages (from pandas==0.24.2->modin) (2.6.0)\n",
      "Requirement already satisfied: pytz>=2011k in /opt/conda/lib/python3.6/site-packages (from pandas==0.24.2->modin) (2018.4)\n",
      "Requirement already satisfied: pytest in /opt/conda/lib/python3.6/site-packages (from ray==0.7->modin) (3.5.1)\n",
      "Requirement already satisfied: flatbuffers in /opt/conda/lib/python3.6/site-packages (from ray==0.7->modin) (1.10)\n",
      "Requirement already satisfied: funcsigs in /opt/conda/lib/python3.6/site-packages (from ray==0.7->modin) (1.0.2)\n",
      "Requirement already satisfied: pyyaml in /opt/conda/lib/python3.6/site-packages (from ray==0.7->modin) (3.12)\n",
      "Requirement already satisfied: click in /opt/conda/lib/python3.6/site-packages (from ray==0.7->modin) (7.0)\n",
      "Requirement already satisfied: redis in /opt/conda/lib/python3.6/site-packages (from ray==0.7->modin) (3.2.1)\n",
      "Requirement already satisfied: colorama in /opt/conda/lib/python3.6/site-packages (from ray==0.7->modin) (0.3.9)\n",
      "Requirement already satisfied: filelock in /opt/conda/lib/python3.6/site-packages (from ray==0.7->modin) (3.0.4)\n",
      "Requirement already satisfied: six>=1.0.0 in /opt/conda/lib/python3.6/site-packages (from ray==0.7->modin) (1.12.0)\n",
      "Requirement already satisfied: typing in /opt/conda/lib/python3.6/site-packages (from ray==0.7->modin) (3.6.4)\n",
      "Requirement already satisfied: py>=1.5.0 in /opt/conda/lib/python3.6/site-packages (from pytest->ray==0.7->modin) (1.5.3)\n",
      "Requirement already satisfied: setuptools in /opt/conda/lib/python3.6/site-packages (from pytest->ray==0.7->modin) (39.1.0)\n",
      "Requirement already satisfied: attrs>=17.4.0 in /opt/conda/lib/python3.6/site-packages (from pytest->ray==0.7->modin) (18.1.0)\n",
      "Requirement already satisfied: more-itertools>=4.0.0 in /opt/conda/lib/python3.6/site-packages (from pytest->ray==0.7->modin) (4.1.0)\n",
      "Requirement already satisfied: pluggy<0.7,>=0.5 in /opt/conda/lib/python3.6/site-packages (from pytest->ray==0.7->modin) (0.6.0)\n",
      "\u001b[33mYou are using pip version 19.0.3, however version 19.1.1 is available.\n",
      "You should consider upgrading via the 'pip install --upgrade pip' command.\u001b[0m\n"
     ]
    }
   ],
   "source": [
    "!pip install modin"
   ]
  },
  {
   "cell_type": "code",
   "execution_count": 2,
   "metadata": {},
   "outputs": [
    {
     "name": "stdout",
     "output_type": "stream",
     "text": [
      "Requirement already satisfied: pandas==0.24.2 in /opt/conda/lib/python3.6/site-packages (0.24.2)\n",
      "Requirement already satisfied: pytz>=2011k in /opt/conda/lib/python3.6/site-packages (from pandas==0.24.2) (2018.4)\n",
      "Requirement already satisfied: numpy>=1.12.0 in /opt/conda/lib/python3.6/site-packages (from pandas==0.24.2) (1.16.3)\n",
      "Requirement already satisfied: python-dateutil>=2.5.0 in /opt/conda/lib/python3.6/site-packages (from pandas==0.24.2) (2.6.0)\n",
      "Requirement already satisfied: six>=1.5 in /opt/conda/lib/python3.6/site-packages (from python-dateutil>=2.5.0->pandas==0.24.2) (1.12.0)\n",
      "\u001b[33mYou are using pip version 19.0.3, however version 19.1.1 is available.\n",
      "You should consider upgrading via the 'pip install --upgrade pip' command.\u001b[0m\n"
     ]
    }
   ],
   "source": [
    "!pip install pandas==0.24.2"
   ]
  },
  {
   "cell_type": "code",
   "execution_count": 3,
   "metadata": {},
   "outputs": [
    {
     "name": "stderr",
     "output_type": "stream",
     "text": [
      "2019-06-26 12:45:02,650\tWARNING worker.py:1341 -- WARNING: Not updating worker name since `setproctitle` is not installed. Install this with `pip install setproctitle` (or ray[debug]) to enable monitoring of worker processes.\n",
      "2019-06-26 12:45:02,652\tINFO node.py:497 -- Process STDOUT and STDERR is being redirected to /tmp/ray/session_2019-06-26_12-45-02_651565_2801/logs.\n",
      "2019-06-26 12:45:02,760\tINFO services.py:409 -- Waiting for redis server at 127.0.0.1:10924 to respond...\n",
      "2019-06-26 12:45:02,886\tINFO services.py:409 -- Waiting for redis server at 127.0.0.1:15459 to respond...\n",
      "2019-06-26 12:45:02,888\tINFO services.py:806 -- Starting Redis shard with 10.0 GB max memory.\n",
      "2019-06-26 12:45:02,917\tINFO node.py:511 -- Process STDOUT and STDERR is being redirected to /tmp/ray/session_2019-06-26_12-45-02_651565_2801/logs.\n",
      "2019-06-26 12:45:02,919\tWARNING services.py:1318 -- WARNING: The object store is using /tmp instead of /dev/shm because /dev/shm has only 67108864 bytes available. This may slow down performance! You may be able to free up space by deleting files in /dev/shm or terminating any running plasma_store_server processes. If you are inside a Docker container, you may need to pass an argument with the flag '--shm-size' to 'docker run'.\n",
      "2019-06-26 12:45:02,920\tINFO services.py:1441 -- Starting the Plasma object store with 40.0 GB memory using /tmp.\n"
     ]
    }
   ],
   "source": [
    "import modin.pandas as pd"
   ]
  },
  {
   "cell_type": "code",
   "execution_count": 4,
   "metadata": {},
   "outputs": [],
   "source": [
    "# import pandas as pd\n",
    "import matplotlib.pylab as plt"
   ]
  },
  {
   "cell_type": "code",
   "execution_count": 13,
   "metadata": {},
   "outputs": [],
   "source": [
    "import dask.dataframe as dd"
   ]
  },
  {
   "cell_type": "code",
   "execution_count": 5,
   "metadata": {},
   "outputs": [],
   "source": [
    "train = pd.read_csv('../input/train.csv')\n",
    "test = pd.read_csv('../input/test.csv')"
   ]
  },
  {
   "cell_type": "code",
   "execution_count": 6,
   "metadata": {},
   "outputs": [
    {
     "name": "stdout",
     "output_type": "stream",
     "text": [
      "CPU times: user 686 ms, sys: 153 ms, total: 840 ms\n",
      "Wall time: 4.96 s\n"
     ]
    }
   ],
   "source": [
    "%%time\n",
    "angle_details = pd.read_csv('../data/openbabel/angle_details.csv')\n",
    "atom_details = pd.read_csv('../data/openbabel/atom_details.csv')\n",
    "bond_details = pd.read_csv('../data/openbabel/bond_details.csv')\n",
    "closest = pd.read_csv('../data/openbabel/closest.csv')\n",
    "distances = pd.read_csv('../data/openbabel/distances.csv')\n",
    "molecule_details = pd.read_csv('../data/openbabel/molecule_details.csv')\n",
    "torsion_details = pd.read_csv('../data/openbabel/torsion_details.csv')"
   ]
  },
  {
   "cell_type": "code",
   "execution_count": 7,
   "metadata": {},
   "outputs": [],
   "source": [
    "tt = pd.concat([train, test], axis=0, sort=False)"
   ]
  },
  {
   "cell_type": "code",
   "execution_count": 8,
   "metadata": {},
   "outputs": [
    {
     "data": {
      "text/plain": [
       "(7163689, 6)"
      ]
     },
     "execution_count": 8,
     "metadata": {},
     "output_type": "execute_result"
    }
   ],
   "source": [
    "tt.shape"
   ]
  },
  {
   "cell_type": "code",
   "execution_count": 9,
   "metadata": {},
   "outputs": [
    {
     "data": {
      "text/html": [
       "<div>\n",
       "<style scoped>\n",
       "    .dataframe tbody tr th:only-of-type {\n",
       "        vertical-align: middle;\n",
       "    }\n",
       "\n",
       "    .dataframe tbody tr th {\n",
       "        vertical-align: top;\n",
       "    }\n",
       "\n",
       "    .dataframe thead th {\n",
       "        text-align: right;\n",
       "    }\n",
       "</style>\n",
       "<table border=\"1\" class=\"dataframe\">\n",
       "  <thead>\n",
       "    <tr style=\"text-align: right;\">\n",
       "      <th></th>\n",
       "      <th>atom_index_0</th>\n",
       "      <th>atom_index_1</th>\n",
       "      <th>id</th>\n",
       "      <th>molecule_name</th>\n",
       "      <th>scalar_coupling_constant</th>\n",
       "      <th>type</th>\n",
       "    </tr>\n",
       "  </thead>\n",
       "  <tbody>\n",
       "    <tr>\n",
       "      <th>0</th>\n",
       "      <td>1</td>\n",
       "      <td>0</td>\n",
       "      <td>0</td>\n",
       "      <td>dsgdb9nsd_000001</td>\n",
       "      <td>84.8076</td>\n",
       "      <td>1JHC</td>\n",
       "    </tr>\n",
       "    <tr>\n",
       "      <th>1</th>\n",
       "      <td>1</td>\n",
       "      <td>2</td>\n",
       "      <td>1</td>\n",
       "      <td>dsgdb9nsd_000001</td>\n",
       "      <td>-11.2570</td>\n",
       "      <td>2JHH</td>\n",
       "    </tr>\n",
       "    <tr>\n",
       "      <th>2</th>\n",
       "      <td>1</td>\n",
       "      <td>3</td>\n",
       "      <td>2</td>\n",
       "      <td>dsgdb9nsd_000001</td>\n",
       "      <td>-11.2548</td>\n",
       "      <td>2JHH</td>\n",
       "    </tr>\n",
       "    <tr>\n",
       "      <th>3</th>\n",
       "      <td>1</td>\n",
       "      <td>4</td>\n",
       "      <td>3</td>\n",
       "      <td>dsgdb9nsd_000001</td>\n",
       "      <td>-11.2543</td>\n",
       "      <td>2JHH</td>\n",
       "    </tr>\n",
       "    <tr>\n",
       "      <th>4</th>\n",
       "      <td>2</td>\n",
       "      <td>0</td>\n",
       "      <td>4</td>\n",
       "      <td>dsgdb9nsd_000001</td>\n",
       "      <td>84.8074</td>\n",
       "      <td>1JHC</td>\n",
       "    </tr>\n",
       "  </tbody>\n",
       "</table>\n",
       "</div>"
      ],
      "text/plain": [
       "   atom_index_0  atom_index_1  id     molecule_name  scalar_coupling_constant  type\n",
       "0             1             0   0  dsgdb9nsd_000001                   84.8076  1JHC\n",
       "1             1             2   1  dsgdb9nsd_000001                  -11.2570  2JHH\n",
       "2             1             3   2  dsgdb9nsd_000001                  -11.2548  2JHH\n",
       "3             1             4   3  dsgdb9nsd_000001                  -11.2543  2JHH\n",
       "4             2             0   4  dsgdb9nsd_000001                   84.8074  1JHC"
      ]
     },
     "execution_count": 9,
     "metadata": {},
     "output_type": "execute_result"
    }
   ],
   "source": [
    "tt.head()"
   ]
  },
  {
   "cell_type": "markdown",
   "metadata": {},
   "source": [
    "# Atom Details"
   ]
  },
  {
   "cell_type": "code",
   "execution_count": 10,
   "metadata": {},
   "outputs": [
    {
     "data": {
      "text/html": [
       "<div>\n",
       "<style scoped>\n",
       "    .dataframe tbody tr th:only-of-type {\n",
       "        vertical-align: middle;\n",
       "    }\n",
       "\n",
       "    .dataframe tbody tr th {\n",
       "        vertical-align: top;\n",
       "    }\n",
       "\n",
       "    .dataframe thead th {\n",
       "        text-align: right;\n",
       "    }\n",
       "</style>\n",
       "<table border=\"1\" class=\"dataframe\">\n",
       "  <thead>\n",
       "    <tr style=\"text-align: right;\">\n",
       "      <th></th>\n",
       "      <th>molecule_name</th>\n",
       "      <th>atom_idx</th>\n",
       "      <th>atomic_mass</th>\n",
       "      <th>atomic_number</th>\n",
       "      <th>exact_mass</th>\n",
       "      <th>valence</th>\n",
       "      <th>spin_multiplicity</th>\n",
       "    </tr>\n",
       "  </thead>\n",
       "  <tbody>\n",
       "    <tr>\n",
       "      <th>0</th>\n",
       "      <td>dsgdb9nsd_033805</td>\n",
       "      <td>0</td>\n",
       "      <td>14.0067</td>\n",
       "      <td>7</td>\n",
       "      <td>14.003074</td>\n",
       "      <td>1</td>\n",
       "      <td>0</td>\n",
       "    </tr>\n",
       "    <tr>\n",
       "      <th>1</th>\n",
       "      <td>dsgdb9nsd_033805</td>\n",
       "      <td>1</td>\n",
       "      <td>12.0107</td>\n",
       "      <td>6</td>\n",
       "      <td>12.000000</td>\n",
       "      <td>2</td>\n",
       "      <td>0</td>\n",
       "    </tr>\n",
       "    <tr>\n",
       "      <th>2</th>\n",
       "      <td>dsgdb9nsd_033805</td>\n",
       "      <td>2</td>\n",
       "      <td>12.0107</td>\n",
       "      <td>6</td>\n",
       "      <td>12.000000</td>\n",
       "      <td>4</td>\n",
       "      <td>0</td>\n",
       "    </tr>\n",
       "    <tr>\n",
       "      <th>3</th>\n",
       "      <td>dsgdb9nsd_033805</td>\n",
       "      <td>3</td>\n",
       "      <td>12.0107</td>\n",
       "      <td>6</td>\n",
       "      <td>12.000000</td>\n",
       "      <td>4</td>\n",
       "      <td>0</td>\n",
       "    </tr>\n",
       "    <tr>\n",
       "      <th>4</th>\n",
       "      <td>dsgdb9nsd_033805</td>\n",
       "      <td>4</td>\n",
       "      <td>12.0107</td>\n",
       "      <td>6</td>\n",
       "      <td>12.000000</td>\n",
       "      <td>4</td>\n",
       "      <td>0</td>\n",
       "    </tr>\n",
       "  </tbody>\n",
       "</table>\n",
       "</div>"
      ],
      "text/plain": [
       "      molecule_name  atom_idx  atomic_mass  atomic_number  exact_mass  valence  spin_multiplicity\n",
       "0  dsgdb9nsd_033805         0      14.0067              7   14.003074        1                  0\n",
       "1  dsgdb9nsd_033805         1      12.0107              6   12.000000        2                  0\n",
       "2  dsgdb9nsd_033805         2      12.0107              6   12.000000        4                  0\n",
       "3  dsgdb9nsd_033805         3      12.0107              6   12.000000        4                  0\n",
       "4  dsgdb9nsd_033805         4      12.0107              6   12.000000        4                  0"
      ]
     },
     "execution_count": 10,
     "metadata": {},
     "output_type": "execute_result"
    }
   ],
   "source": [
    "atom_details.head()"
   ]
  },
  {
   "cell_type": "code",
   "execution_count": 11,
   "metadata": {},
   "outputs": [
    {
     "name": "stderr",
     "output_type": "stream",
     "text": [
      "UserWarning: `DataFrame.merge` defaulting to pandas implementation.\n",
      "To request implementation, send an email to feature_requests@modin.org.\n",
      "UserWarning: Distributing <class 'pandas.core.frame.DataFrame'> object. This may take some time.\n",
      "UserWarning: `DataFrame.merge` defaulting to pandas implementation.\n"
     ]
    },
    {
     "name": "stdout",
     "output_type": "stream",
     "text": [
      "CPU times: user 12.5 s, sys: 3.5 s, total: 16 s\n",
      "Wall time: 20.1 s\n"
     ]
    }
   ],
   "source": [
    "%%time\n",
    "tt = pd.merge(tt,\n",
    "         atom_details,\n",
    "         left_on=['molecule_name','atom_index_0'],\n",
    "         right_on=['molecule_name','atom_idx'],\n",
    "         how='left') \\\n",
    "    .drop(['atom_idx'], axis=1) \\\n",
    "    .rename(columns={'atomic_number':'atom0_atomic_number',\n",
    "                     'atomic_mass':'atom0_atomic_mass',\n",
    "                     'valence':'atom0_valence',\n",
    "                     'spin_multiplicity':'atom0_spin_multiplicity'})\n",
    "tt = pd.merge(tt,\n",
    "         atom_details,\n",
    "         left_on=['molecule_name','atom_index_1'],\n",
    "         right_on=['molecule_name','atom_idx'],\n",
    "         how='left') \\\n",
    "    .drop(['atom_idx'], axis=1) \\\n",
    "    .rename(columns={'atomic_number':'atom1_atomic_number',\n",
    "                     'atomic_mass':'atom1_atomic_mass',\n",
    "                     'valence':'atom1_valence',\n",
    "                     'spin_multiplicity':'atom1_spin_multiplicity'})\n",
    "tt.shape"
   ]
  },
  {
   "cell_type": "markdown",
   "metadata": {},
   "source": [
    "# Angles"
   ]
  },
  {
   "cell_type": "code",
   "execution_count": 14,
   "metadata": {},
   "outputs": [
    {
     "name": "stderr",
     "output_type": "stream",
     "text": [
      "UserWarning: `DataFrame.<lambda>` defaulting to pandas implementation.\n",
      "UserWarning: Distributing <class 'pandas.core.frame.DataFrame'> object. This may take some time.\n",
      "UserWarning: `DataFrame.merge` defaulting to pandas implementation.\n"
     ]
    },
    {
     "name": "stdout",
     "output_type": "stream",
     "text": [
      "CPU times: user 12min 14s, sys: 17.3 s, total: 12min 31s\n",
      "Wall time: 12min 31s\n"
     ]
    }
   ],
   "source": [
    "%%time\n",
    "tt = pd.merge(tt,\n",
    "         angle_details.groupby(['molecule_name','left_atom_idx','middle_atom_idx']).mean() \\\n",
    "              .reset_index(drop=False),\n",
    "         left_on=['molecule_name','atom_index_0','atom_index_1'],\n",
    "         right_on=['molecule_name','left_atom_idx','middle_atom_idx'],\n",
    "         how='left') \\\n",
    "    .drop(['left_atom_idx','middle_atom_idx','right_atom_idx'], axis=1) \\\n",
    "    .rename(columns={'angle':'left_middle_average_angle'})"
   ]
  },
  {
   "cell_type": "code",
   "execution_count": 15,
   "metadata": {},
   "outputs": [
    {
     "name": "stderr",
     "output_type": "stream",
     "text": [
      "UserWarning: `DataFrame.<lambda>` defaulting to pandas implementation.\n",
      "UserWarning: Distributing <class 'pandas.core.frame.DataFrame'> object. This may take some time.\n",
      "UserWarning: `DataFrame.merge` defaulting to pandas implementation.\n"
     ]
    },
    {
     "name": "stdout",
     "output_type": "stream",
     "text": [
      "CPU times: user 12min 33s, sys: 18.7 s, total: 12min 51s\n",
      "Wall time: 12min 55s\n"
     ]
    }
   ],
   "source": [
    "%%time\n",
    "tt = pd.merge(tt,\n",
    "         angle_details.groupby(['molecule_name','right_atom_idx','middle_atom_idx']).mean() \\\n",
    "              .reset_index(drop=False),\n",
    "         left_on=['molecule_name','atom_index_0','atom_index_1'],\n",
    "         right_on=['molecule_name','right_atom_idx','middle_atom_idx'],\n",
    "         how='left') \\\n",
    "    .drop(['left_atom_idx','middle_atom_idx','right_atom_idx'], axis=1) \\\n",
    "    .rename(columns={'angle':'right_middle_average_angle'})"
   ]
  },
  {
   "cell_type": "code",
   "execution_count": 16,
   "metadata": {},
   "outputs": [
    {
     "name": "stderr",
     "output_type": "stream",
     "text": [
      "UserWarning: `DataFrame.merge` defaulting to pandas implementation.\n"
     ]
    },
    {
     "ename": "RayTaskError",
     "evalue": "\u001b[36mray_worker\u001b[39m (pid=3100, host=092c89ff919c)\n  File \"/opt/conda/lib/python3.6/site-packages/ray/memory_monitor.py\", line 77, in raise_if_low_memory\n    self.error_threshold))\nray.memory_monitor.RayOutOfMemoryError: More than 95% of the memory on node 092c89ff919c is used (65.35 / 67.48 GB). The top 5 memory consumers are:\n\nPID\tMEM\tCOMMAND\n4291\t37.24GB\t/opt/conda/bin/python -m ipykernel_launcher -f /root/.local/share/jupyter/runtime/kernel-e58544bc-8f\n4206\t12.18GB\t/opt/conda/bin/python -m ipykernel_launcher -f /root/.local/share/jupyter/runtime/kernel-80f8b511-28\n2801\t4.89GB\t/opt/conda/bin/python -m ipykernel_launcher -f /root/.local/share/jupyter/runtime/kernel-5c36ebca-24\n3100\t1.15GB\t/opt/conda/bin/python /opt/conda/lib/python3.6/site-packages/ray/workers/default_worker.py --node-ip\n3093\t0.94GB\t/opt/conda/bin/python /opt/conda/lib/python3.6/site-packages/ray/workers/default_worker.py --node-ip\n\nIn addition, ~0.13 GB of shared memory is currently being used by the Ray object store. You can set the object store size with the `object_store_memory` parameter when starting Ray, and the max Redis size with `redis_max_memory`.\n",
     "output_type": "error",
     "traceback": [
      "\u001b[0;31m---------------------------------------------------------------------------\u001b[0m",
      "\u001b[0;31mRayTaskError\u001b[0m                              Traceback (most recent call last)",
      "\u001b[0;32m<timed exec>\u001b[0m in \u001b[0;36m<module>\u001b[0;34m()\u001b[0m\n",
      "\u001b[0;32m/opt/conda/lib/python3.6/site-packages/modin/pandas/general.py\u001b[0m in \u001b[0;36mmerge\u001b[0;34m(left, right, how, on, left_on, right_on, left_index, right_index, sort, suffixes, copy, indicator, validate)\u001b[0m\n\u001b[1;32m     94\u001b[0m         \u001b[0mcopy\u001b[0m\u001b[0;34m=\u001b[0m\u001b[0mcopy\u001b[0m\u001b[0;34m,\u001b[0m\u001b[0;34m\u001b[0m\u001b[0m\n\u001b[1;32m     95\u001b[0m         \u001b[0mindicator\u001b[0m\u001b[0;34m=\u001b[0m\u001b[0mindicator\u001b[0m\u001b[0;34m,\u001b[0m\u001b[0;34m\u001b[0m\u001b[0m\n\u001b[0;32m---> 96\u001b[0;31m         \u001b[0mvalidate\u001b[0m\u001b[0;34m=\u001b[0m\u001b[0mvalidate\u001b[0m\u001b[0;34m,\u001b[0m\u001b[0;34m\u001b[0m\u001b[0m\n\u001b[0m\u001b[1;32m     97\u001b[0m     )\n\u001b[1;32m     98\u001b[0m \u001b[0;34m\u001b[0m\u001b[0m\n",
      "\u001b[0;32m/opt/conda/lib/python3.6/site-packages/modin/pandas/dataframe.py\u001b[0m in \u001b[0;36mmerge\u001b[0;34m(self, right, how, on, left_on, right_on, left_index, right_index, sort, suffixes, copy, indicator, validate)\u001b[0m\n\u001b[1;32m   1113\u001b[0m                 \u001b[0mcopy\u001b[0m\u001b[0;34m=\u001b[0m\u001b[0mcopy\u001b[0m\u001b[0;34m,\u001b[0m\u001b[0;34m\u001b[0m\u001b[0m\n\u001b[1;32m   1114\u001b[0m                 \u001b[0mindicator\u001b[0m\u001b[0;34m=\u001b[0m\u001b[0mindicator\u001b[0m\u001b[0;34m,\u001b[0m\u001b[0;34m\u001b[0m\u001b[0m\n\u001b[0;32m-> 1115\u001b[0;31m                 \u001b[0mvalidate\u001b[0m\u001b[0;34m=\u001b[0m\u001b[0mvalidate\u001b[0m\u001b[0;34m,\u001b[0m\u001b[0;34m\u001b[0m\u001b[0m\n\u001b[0m\u001b[1;32m   1116\u001b[0m             )\n\u001b[1;32m   1117\u001b[0m         \u001b[0;32mif\u001b[0m \u001b[0mleft_index\u001b[0m \u001b[0;32mand\u001b[0m \u001b[0mright_index\u001b[0m\u001b[0;34m:\u001b[0m\u001b[0;34m\u001b[0m\u001b[0m\n",
      "\u001b[0;32m/opt/conda/lib/python3.6/site-packages/modin/pandas/base.py\u001b[0m in \u001b[0;36m_default_to_pandas\u001b[0;34m(self, op, *args, **kwargs)\u001b[0m\n\u001b[1;32m    206\u001b[0m         )\n\u001b[1;32m    207\u001b[0m         \u001b[0;32mif\u001b[0m \u001b[0mcallable\u001b[0m\u001b[0;34m(\u001b[0m\u001b[0mop\u001b[0m\u001b[0;34m)\u001b[0m\u001b[0;34m:\u001b[0m\u001b[0;34m\u001b[0m\u001b[0m\n\u001b[0;32m--> 208\u001b[0;31m             \u001b[0mresult\u001b[0m \u001b[0;34m=\u001b[0m \u001b[0mop\u001b[0m\u001b[0;34m(\u001b[0m\u001b[0mself\u001b[0m\u001b[0;34m.\u001b[0m\u001b[0m_to_pandas\u001b[0m\u001b[0;34m(\u001b[0m\u001b[0;34m)\u001b[0m\u001b[0;34m,\u001b[0m \u001b[0;34m*\u001b[0m\u001b[0margs\u001b[0m\u001b[0;34m,\u001b[0m \u001b[0;34m**\u001b[0m\u001b[0mkwargs\u001b[0m\u001b[0;34m)\u001b[0m\u001b[0;34m\u001b[0m\u001b[0m\n\u001b[0m\u001b[1;32m    209\u001b[0m         \u001b[0;32melif\u001b[0m \u001b[0misinstance\u001b[0m\u001b[0;34m(\u001b[0m\u001b[0mop\u001b[0m\u001b[0;34m,\u001b[0m \u001b[0mstr\u001b[0m\u001b[0;34m)\u001b[0m\u001b[0;34m:\u001b[0m\u001b[0;34m\u001b[0m\u001b[0m\n\u001b[1;32m    210\u001b[0m             \u001b[0;31m# The inner `getattr` is ensuring that we are treating this object (whether\u001b[0m\u001b[0;34m\u001b[0m\u001b[0;34m\u001b[0m\u001b[0m\n",
      "\u001b[0;32m/opt/conda/lib/python3.6/site-packages/modin/pandas/dataframe.py\u001b[0m in \u001b[0;36m_to_pandas\u001b[0;34m(self)\u001b[0m\n\u001b[1;32m   2196\u001b[0m \u001b[0;34m\u001b[0m\u001b[0m\n\u001b[1;32m   2197\u001b[0m     \u001b[0;32mdef\u001b[0m \u001b[0m_to_pandas\u001b[0m\u001b[0;34m(\u001b[0m\u001b[0mself\u001b[0m\u001b[0;34m)\u001b[0m\u001b[0;34m:\u001b[0m\u001b[0;34m\u001b[0m\u001b[0m\n\u001b[0;32m-> 2198\u001b[0;31m         \u001b[0;32mreturn\u001b[0m \u001b[0mself\u001b[0m\u001b[0;34m.\u001b[0m\u001b[0m_query_compiler\u001b[0m\u001b[0;34m.\u001b[0m\u001b[0mto_pandas\u001b[0m\u001b[0;34m(\u001b[0m\u001b[0;34m)\u001b[0m\u001b[0;34m\u001b[0m\u001b[0m\n\u001b[0m",
      "\u001b[0;32m/opt/conda/lib/python3.6/site-packages/modin/backends/pandas/query_compiler.py\u001b[0m in \u001b[0;36mto_pandas\u001b[0;34m(self)\u001b[0m\n\u001b[1;32m    491\u001b[0m             \u001b[0mPandas\u001b[0m \u001b[0mDataFrame\u001b[0m \u001b[0mof\u001b[0m \u001b[0mthe\u001b[0m \u001b[0mDataManager\u001b[0m\u001b[0;34m.\u001b[0m\u001b[0;34m\u001b[0m\u001b[0m\n\u001b[1;32m    492\u001b[0m         \"\"\"\n\u001b[0;32m--> 493\u001b[0;31m         \u001b[0mdf\u001b[0m \u001b[0;34m=\u001b[0m \u001b[0mself\u001b[0m\u001b[0;34m.\u001b[0m\u001b[0mdata\u001b[0m\u001b[0;34m.\u001b[0m\u001b[0mto_pandas\u001b[0m\u001b[0;34m(\u001b[0m\u001b[0mis_transposed\u001b[0m\u001b[0;34m=\u001b[0m\u001b[0mself\u001b[0m\u001b[0;34m.\u001b[0m\u001b[0m_is_transposed\u001b[0m\u001b[0;34m)\u001b[0m\u001b[0;34m\u001b[0m\u001b[0m\n\u001b[0m\u001b[1;32m    494\u001b[0m         \u001b[0;32mif\u001b[0m \u001b[0mdf\u001b[0m\u001b[0;34m.\u001b[0m\u001b[0mempty\u001b[0m\u001b[0;34m:\u001b[0m\u001b[0;34m\u001b[0m\u001b[0m\n\u001b[1;32m    495\u001b[0m             \u001b[0;32mif\u001b[0m \u001b[0mlen\u001b[0m\u001b[0;34m(\u001b[0m\u001b[0mself\u001b[0m\u001b[0;34m.\u001b[0m\u001b[0mcolumns\u001b[0m\u001b[0;34m)\u001b[0m \u001b[0;34m!=\u001b[0m \u001b[0;36m0\u001b[0m\u001b[0;34m:\u001b[0m\u001b[0;34m\u001b[0m\u001b[0m\n",
      "\u001b[0;32m/opt/conda/lib/python3.6/site-packages/modin/engines/base/frame/partition_manager.py\u001b[0m in \u001b[0;36mto_pandas\u001b[0;34m(self, is_transposed)\u001b[0m\n\u001b[1;32m    475\u001b[0m         \u001b[0;32melse\u001b[0m\u001b[0;34m:\u001b[0m\u001b[0;34m\u001b[0m\u001b[0m\n\u001b[1;32m    476\u001b[0m             retrieved_objects = [\n\u001b[0;32m--> 477\u001b[0;31m                 \u001b[0;34m[\u001b[0m\u001b[0mobj\u001b[0m\u001b[0;34m.\u001b[0m\u001b[0mto_pandas\u001b[0m\u001b[0;34m(\u001b[0m\u001b[0;34m)\u001b[0m \u001b[0;32mfor\u001b[0m \u001b[0mobj\u001b[0m \u001b[0;32min\u001b[0m \u001b[0mpart\u001b[0m\u001b[0;34m]\u001b[0m \u001b[0;32mfor\u001b[0m \u001b[0mpart\u001b[0m \u001b[0;32min\u001b[0m \u001b[0mself\u001b[0m\u001b[0;34m.\u001b[0m\u001b[0mpartitions\u001b[0m\u001b[0;34m\u001b[0m\u001b[0m\n\u001b[0m\u001b[1;32m    478\u001b[0m             ]\n\u001b[1;32m    479\u001b[0m             if all(\n",
      "\u001b[0;32m/opt/conda/lib/python3.6/site-packages/modin/engines/base/frame/partition_manager.py\u001b[0m in \u001b[0;36m<listcomp>\u001b[0;34m(.0)\u001b[0m\n\u001b[1;32m    475\u001b[0m         \u001b[0;32melse\u001b[0m\u001b[0;34m:\u001b[0m\u001b[0;34m\u001b[0m\u001b[0m\n\u001b[1;32m    476\u001b[0m             retrieved_objects = [\n\u001b[0;32m--> 477\u001b[0;31m                 \u001b[0;34m[\u001b[0m\u001b[0mobj\u001b[0m\u001b[0;34m.\u001b[0m\u001b[0mto_pandas\u001b[0m\u001b[0;34m(\u001b[0m\u001b[0;34m)\u001b[0m \u001b[0;32mfor\u001b[0m \u001b[0mobj\u001b[0m \u001b[0;32min\u001b[0m \u001b[0mpart\u001b[0m\u001b[0;34m]\u001b[0m \u001b[0;32mfor\u001b[0m \u001b[0mpart\u001b[0m \u001b[0;32min\u001b[0m \u001b[0mself\u001b[0m\u001b[0;34m.\u001b[0m\u001b[0mpartitions\u001b[0m\u001b[0;34m\u001b[0m\u001b[0m\n\u001b[0m\u001b[1;32m    478\u001b[0m             ]\n\u001b[1;32m    479\u001b[0m             if all(\n",
      "\u001b[0;32m/opt/conda/lib/python3.6/site-packages/modin/engines/base/frame/partition_manager.py\u001b[0m in \u001b[0;36m<listcomp>\u001b[0;34m(.0)\u001b[0m\n\u001b[1;32m    475\u001b[0m         \u001b[0;32melse\u001b[0m\u001b[0;34m:\u001b[0m\u001b[0;34m\u001b[0m\u001b[0m\n\u001b[1;32m    476\u001b[0m             retrieved_objects = [\n\u001b[0;32m--> 477\u001b[0;31m                 \u001b[0;34m[\u001b[0m\u001b[0mobj\u001b[0m\u001b[0;34m.\u001b[0m\u001b[0mto_pandas\u001b[0m\u001b[0;34m(\u001b[0m\u001b[0;34m)\u001b[0m \u001b[0;32mfor\u001b[0m \u001b[0mobj\u001b[0m \u001b[0;32min\u001b[0m \u001b[0mpart\u001b[0m\u001b[0;34m]\u001b[0m \u001b[0;32mfor\u001b[0m \u001b[0mpart\u001b[0m \u001b[0;32min\u001b[0m \u001b[0mself\u001b[0m\u001b[0;34m.\u001b[0m\u001b[0mpartitions\u001b[0m\u001b[0;34m\u001b[0m\u001b[0m\n\u001b[0m\u001b[1;32m    478\u001b[0m             ]\n\u001b[1;32m    479\u001b[0m             if all(\n",
      "\u001b[0;32m/opt/conda/lib/python3.6/site-packages/modin/engines/ray/pandas_on_ray/frame/partition.py\u001b[0m in \u001b[0;36mto_pandas\u001b[0;34m(self)\u001b[0m\n\u001b[1;32m     85\u001b[0m             \u001b[0mA\u001b[0m \u001b[0mPandas\u001b[0m \u001b[0mDataFrame\u001b[0m\u001b[0;34m.\u001b[0m\u001b[0;34m\u001b[0m\u001b[0m\n\u001b[1;32m     86\u001b[0m         \"\"\"\n\u001b[0;32m---> 87\u001b[0;31m         \u001b[0mdataframe\u001b[0m \u001b[0;34m=\u001b[0m \u001b[0mself\u001b[0m\u001b[0;34m.\u001b[0m\u001b[0mget\u001b[0m\u001b[0;34m(\u001b[0m\u001b[0;34m)\u001b[0m\u001b[0;34m\u001b[0m\u001b[0m\n\u001b[0m\u001b[1;32m     88\u001b[0m         \u001b[0;32massert\u001b[0m \u001b[0mtype\u001b[0m\u001b[0;34m(\u001b[0m\u001b[0mdataframe\u001b[0m\u001b[0;34m)\u001b[0m \u001b[0;32mis\u001b[0m \u001b[0mpandas\u001b[0m\u001b[0;34m.\u001b[0m\u001b[0mDataFrame\u001b[0m \u001b[0;32mor\u001b[0m \u001b[0mtype\u001b[0m\u001b[0;34m(\u001b[0m\u001b[0mdataframe\u001b[0m\u001b[0;34m)\u001b[0m \u001b[0;32mis\u001b[0m \u001b[0mpandas\u001b[0m\u001b[0;34m.\u001b[0m\u001b[0mSeries\u001b[0m\u001b[0;34m\u001b[0m\u001b[0m\n\u001b[1;32m     89\u001b[0m         \u001b[0;32mreturn\u001b[0m \u001b[0mdataframe\u001b[0m\u001b[0;34m\u001b[0m\u001b[0m\n",
      "\u001b[0;32m/opt/conda/lib/python3.6/site-packages/modin/engines/ray/pandas_on_ray/frame/partition.py\u001b[0m in \u001b[0;36mget\u001b[0;34m(self)\u001b[0m\n\u001b[1;32m     32\u001b[0m             \u001b[0;32mreturn\u001b[0m \u001b[0mray\u001b[0m\u001b[0;34m.\u001b[0m\u001b[0mget\u001b[0m\u001b[0;34m(\u001b[0m\u001b[0mself\u001b[0m\u001b[0;34m.\u001b[0m\u001b[0moid\u001b[0m\u001b[0;34m)\u001b[0m\u001b[0;34m\u001b[0m\u001b[0m\n\u001b[1;32m     33\u001b[0m         \u001b[0;32mexcept\u001b[0m \u001b[0mRayTaskError\u001b[0m \u001b[0;32mas\u001b[0m \u001b[0me\u001b[0m\u001b[0;34m:\u001b[0m\u001b[0;34m\u001b[0m\u001b[0m\n\u001b[0;32m---> 34\u001b[0;31m             \u001b[0mhandle_ray_task_error\u001b[0m\u001b[0;34m(\u001b[0m\u001b[0me\u001b[0m\u001b[0;34m)\u001b[0m\u001b[0;34m\u001b[0m\u001b[0m\n\u001b[0m\u001b[1;32m     35\u001b[0m \u001b[0;34m\u001b[0m\u001b[0m\n\u001b[1;32m     36\u001b[0m     \u001b[0;32mdef\u001b[0m \u001b[0mapply\u001b[0m\u001b[0;34m(\u001b[0m\u001b[0mself\u001b[0m\u001b[0;34m,\u001b[0m \u001b[0mfunc\u001b[0m\u001b[0;34m,\u001b[0m \u001b[0;34m**\u001b[0m\u001b[0mkwargs\u001b[0m\u001b[0;34m)\u001b[0m\u001b[0;34m:\u001b[0m\u001b[0;34m\u001b[0m\u001b[0m\n",
      "\u001b[0;32m/opt/conda/lib/python3.6/site-packages/modin/engines/ray/utils.py\u001b[0m in \u001b[0;36mhandle_ray_task_error\u001b[0;34m(e)\u001b[0m\n\u001b[1;32m     17\u001b[0m                 \u001b[0;32melse\u001b[0m\u001b[0;34m:\u001b[0m\u001b[0;34m\u001b[0m\u001b[0m\n\u001b[1;32m     18\u001b[0m                     \u001b[0;32mraise\u001b[0m \u001b[0matt_err\u001b[0m\u001b[0;34m\u001b[0m\u001b[0m\n\u001b[0;32m---> 19\u001b[0;31m     \u001b[0;32mraise\u001b[0m \u001b[0me\u001b[0m\u001b[0;34m\u001b[0m\u001b[0m\n\u001b[0m",
      "\u001b[0;32m/opt/conda/lib/python3.6/site-packages/modin/engines/ray/pandas_on_ray/frame/partition.py\u001b[0m in \u001b[0;36mget\u001b[0;34m(self)\u001b[0m\n\u001b[1;32m     30\u001b[0m             \u001b[0mself\u001b[0m\u001b[0;34m.\u001b[0m\u001b[0mdrain_call_queue\u001b[0m\u001b[0;34m(\u001b[0m\u001b[0;34m)\u001b[0m\u001b[0;34m\u001b[0m\u001b[0m\n\u001b[1;32m     31\u001b[0m         \u001b[0;32mtry\u001b[0m\u001b[0;34m:\u001b[0m\u001b[0;34m\u001b[0m\u001b[0m\n\u001b[0;32m---> 32\u001b[0;31m             \u001b[0;32mreturn\u001b[0m \u001b[0mray\u001b[0m\u001b[0;34m.\u001b[0m\u001b[0mget\u001b[0m\u001b[0;34m(\u001b[0m\u001b[0mself\u001b[0m\u001b[0;34m.\u001b[0m\u001b[0moid\u001b[0m\u001b[0;34m)\u001b[0m\u001b[0;34m\u001b[0m\u001b[0m\n\u001b[0m\u001b[1;32m     33\u001b[0m         \u001b[0;32mexcept\u001b[0m \u001b[0mRayTaskError\u001b[0m \u001b[0;32mas\u001b[0m \u001b[0me\u001b[0m\u001b[0;34m:\u001b[0m\u001b[0;34m\u001b[0m\u001b[0m\n\u001b[1;32m     34\u001b[0m             \u001b[0mhandle_ray_task_error\u001b[0m\u001b[0;34m(\u001b[0m\u001b[0me\u001b[0m\u001b[0;34m)\u001b[0m\u001b[0;34m\u001b[0m\u001b[0m\n",
      "\u001b[0;32m/opt/conda/lib/python3.6/site-packages/ray/worker.py\u001b[0m in \u001b[0;36mget\u001b[0;34m(object_ids)\u001b[0m\n\u001b[1;32m   2195\u001b[0m             \u001b[0;32mif\u001b[0m \u001b[0misinstance\u001b[0m\u001b[0;34m(\u001b[0m\u001b[0mvalue\u001b[0m\u001b[0;34m,\u001b[0m \u001b[0mRayError\u001b[0m\u001b[0;34m)\u001b[0m\u001b[0;34m:\u001b[0m\u001b[0;34m\u001b[0m\u001b[0m\n\u001b[1;32m   2196\u001b[0m                 \u001b[0mlast_task_error_raise_time\u001b[0m \u001b[0;34m=\u001b[0m \u001b[0mtime\u001b[0m\u001b[0;34m.\u001b[0m\u001b[0mtime\u001b[0m\u001b[0;34m(\u001b[0m\u001b[0;34m)\u001b[0m\u001b[0;34m\u001b[0m\u001b[0m\n\u001b[0;32m-> 2197\u001b[0;31m                 \u001b[0;32mraise\u001b[0m \u001b[0mvalue\u001b[0m\u001b[0;34m\u001b[0m\u001b[0m\n\u001b[0m\u001b[1;32m   2198\u001b[0m \u001b[0;34m\u001b[0m\u001b[0m\n\u001b[1;32m   2199\u001b[0m         \u001b[0;31m# Run post processors.\u001b[0m\u001b[0;34m\u001b[0m\u001b[0;34m\u001b[0m\u001b[0m\n",
      "\u001b[0;31mRayTaskError\u001b[0m: \u001b[36mray_worker\u001b[39m (pid=3100, host=092c89ff919c)\n  File \"/opt/conda/lib/python3.6/site-packages/ray/memory_monitor.py\", line 77, in raise_if_low_memory\n    self.error_threshold))\nray.memory_monitor.RayOutOfMemoryError: More than 95% of the memory on node 092c89ff919c is used (65.35 / 67.48 GB). The top 5 memory consumers are:\n\nPID\tMEM\tCOMMAND\n4291\t37.24GB\t/opt/conda/bin/python -m ipykernel_launcher -f /root/.local/share/jupyter/runtime/kernel-e58544bc-8f\n4206\t12.18GB\t/opt/conda/bin/python -m ipykernel_launcher -f /root/.local/share/jupyter/runtime/kernel-80f8b511-28\n2801\t4.89GB\t/opt/conda/bin/python -m ipykernel_launcher -f /root/.local/share/jupyter/runtime/kernel-5c36ebca-24\n3100\t1.15GB\t/opt/conda/bin/python /opt/conda/lib/python3.6/site-packages/ray/workers/default_worker.py --node-ip\n3093\t0.94GB\t/opt/conda/bin/python /opt/conda/lib/python3.6/site-packages/ray/workers/default_worker.py --node-ip\n\nIn addition, ~0.13 GB of shared memory is currently being used by the Ray object store. You can set the object store size with the `object_store_memory` parameter when starting Ray, and the max Redis size with `redis_max_memory`.\n"
     ]
    }
   ],
   "source": [
    "%%time\n",
    "tt = pd.merge(tt,\n",
    "         distances,\n",
    "         left_on=['molecule_name','atom_index_0','atom_index_1'],\n",
    "         right_on=['molecule_name','left_atom_idx','right_atom_idx'],\n",
    "         how='left')\\\n",
    "    .drop(['left_atom_idx','right_atom_idx'], axis=1)\n",
    "tt.shape"
   ]
  },
  {
   "cell_type": "markdown",
   "metadata": {},
   "source": [
    "# Closest Neighbors"
   ]
  },
  {
   "cell_type": "code",
   "execution_count": 17,
   "metadata": {},
   "outputs": [
    {
     "name": "stderr",
     "output_type": "stream",
     "text": [
      "UserWarning: `Series.__array__` defaulting to pandas implementation.\n"
     ]
    }
   ],
   "source": [
    "# Fix bug with the indexes being off by one\n",
    "if closest['closest'].min() == 1:\n",
    "    closest['atom_index'] = closest['atom_index'] - 1\n",
    "    for col in closest.columns:\n",
    "        if 'close' in col:\n",
    "            closest[col] = closest[col] - 1"
   ]
  },
  {
   "cell_type": "code",
   "execution_count": 18,
   "metadata": {},
   "outputs": [
    {
     "name": "stderr",
     "output_type": "stream",
     "text": [
      "UserWarning: `DataFrame.merge` defaulting to pandas implementation.\n"
     ]
    },
    {
     "ename": "RayTaskError",
     "evalue": "\u001b[36mray_worker\u001b[39m (pid=3100, host=092c89ff919c)\n  File \"/opt/conda/lib/python3.6/site-packages/ray/memory_monitor.py\", line 77, in raise_if_low_memory\n    self.error_threshold))\nray.memory_monitor.RayOutOfMemoryError: More than 95% of the memory on node 092c89ff919c is used (65.35 / 67.48 GB). The top 5 memory consumers are:\n\nPID\tMEM\tCOMMAND\n4291\t37.24GB\t/opt/conda/bin/python -m ipykernel_launcher -f /root/.local/share/jupyter/runtime/kernel-e58544bc-8f\n4206\t12.18GB\t/opt/conda/bin/python -m ipykernel_launcher -f /root/.local/share/jupyter/runtime/kernel-80f8b511-28\n2801\t4.89GB\t/opt/conda/bin/python -m ipykernel_launcher -f /root/.local/share/jupyter/runtime/kernel-5c36ebca-24\n3100\t1.15GB\t/opt/conda/bin/python /opt/conda/lib/python3.6/site-packages/ray/workers/default_worker.py --node-ip\n3093\t0.94GB\t/opt/conda/bin/python /opt/conda/lib/python3.6/site-packages/ray/workers/default_worker.py --node-ip\n\nIn addition, ~0.13 GB of shared memory is currently being used by the Ray object store. You can set the object store size with the `object_store_memory` parameter when starting Ray, and the max Redis size with `redis_max_memory`.\n",
     "output_type": "error",
     "traceback": [
      "\u001b[0;31m---------------------------------------------------------------------------\u001b[0m",
      "\u001b[0;31mRayTaskError\u001b[0m                              Traceback (most recent call last)",
      "\u001b[0;32m<timed exec>\u001b[0m in \u001b[0;36m<module>\u001b[0;34m()\u001b[0m\n",
      "\u001b[0;32m/opt/conda/lib/python3.6/site-packages/modin/pandas/general.py\u001b[0m in \u001b[0;36mmerge\u001b[0;34m(left, right, how, on, left_on, right_on, left_index, right_index, sort, suffixes, copy, indicator, validate)\u001b[0m\n\u001b[1;32m     94\u001b[0m         \u001b[0mcopy\u001b[0m\u001b[0;34m=\u001b[0m\u001b[0mcopy\u001b[0m\u001b[0;34m,\u001b[0m\u001b[0;34m\u001b[0m\u001b[0m\n\u001b[1;32m     95\u001b[0m         \u001b[0mindicator\u001b[0m\u001b[0;34m=\u001b[0m\u001b[0mindicator\u001b[0m\u001b[0;34m,\u001b[0m\u001b[0;34m\u001b[0m\u001b[0m\n\u001b[0;32m---> 96\u001b[0;31m         \u001b[0mvalidate\u001b[0m\u001b[0;34m=\u001b[0m\u001b[0mvalidate\u001b[0m\u001b[0;34m,\u001b[0m\u001b[0;34m\u001b[0m\u001b[0m\n\u001b[0m\u001b[1;32m     97\u001b[0m     )\n\u001b[1;32m     98\u001b[0m \u001b[0;34m\u001b[0m\u001b[0m\n",
      "\u001b[0;32m/opt/conda/lib/python3.6/site-packages/modin/pandas/dataframe.py\u001b[0m in \u001b[0;36mmerge\u001b[0;34m(self, right, how, on, left_on, right_on, left_index, right_index, sort, suffixes, copy, indicator, validate)\u001b[0m\n\u001b[1;32m   1113\u001b[0m                 \u001b[0mcopy\u001b[0m\u001b[0;34m=\u001b[0m\u001b[0mcopy\u001b[0m\u001b[0;34m,\u001b[0m\u001b[0;34m\u001b[0m\u001b[0m\n\u001b[1;32m   1114\u001b[0m                 \u001b[0mindicator\u001b[0m\u001b[0;34m=\u001b[0m\u001b[0mindicator\u001b[0m\u001b[0;34m,\u001b[0m\u001b[0;34m\u001b[0m\u001b[0m\n\u001b[0;32m-> 1115\u001b[0;31m                 \u001b[0mvalidate\u001b[0m\u001b[0;34m=\u001b[0m\u001b[0mvalidate\u001b[0m\u001b[0;34m,\u001b[0m\u001b[0;34m\u001b[0m\u001b[0m\n\u001b[0m\u001b[1;32m   1116\u001b[0m             )\n\u001b[1;32m   1117\u001b[0m         \u001b[0;32mif\u001b[0m \u001b[0mleft_index\u001b[0m \u001b[0;32mand\u001b[0m \u001b[0mright_index\u001b[0m\u001b[0;34m:\u001b[0m\u001b[0;34m\u001b[0m\u001b[0m\n",
      "\u001b[0;32m/opt/conda/lib/python3.6/site-packages/modin/pandas/base.py\u001b[0m in \u001b[0;36m_default_to_pandas\u001b[0;34m(self, op, *args, **kwargs)\u001b[0m\n\u001b[1;32m    206\u001b[0m         )\n\u001b[1;32m    207\u001b[0m         \u001b[0;32mif\u001b[0m \u001b[0mcallable\u001b[0m\u001b[0;34m(\u001b[0m\u001b[0mop\u001b[0m\u001b[0;34m)\u001b[0m\u001b[0;34m:\u001b[0m\u001b[0;34m\u001b[0m\u001b[0m\n\u001b[0;32m--> 208\u001b[0;31m             \u001b[0mresult\u001b[0m \u001b[0;34m=\u001b[0m \u001b[0mop\u001b[0m\u001b[0;34m(\u001b[0m\u001b[0mself\u001b[0m\u001b[0;34m.\u001b[0m\u001b[0m_to_pandas\u001b[0m\u001b[0;34m(\u001b[0m\u001b[0;34m)\u001b[0m\u001b[0;34m,\u001b[0m \u001b[0;34m*\u001b[0m\u001b[0margs\u001b[0m\u001b[0;34m,\u001b[0m \u001b[0;34m**\u001b[0m\u001b[0mkwargs\u001b[0m\u001b[0;34m)\u001b[0m\u001b[0;34m\u001b[0m\u001b[0m\n\u001b[0m\u001b[1;32m    209\u001b[0m         \u001b[0;32melif\u001b[0m \u001b[0misinstance\u001b[0m\u001b[0;34m(\u001b[0m\u001b[0mop\u001b[0m\u001b[0;34m,\u001b[0m \u001b[0mstr\u001b[0m\u001b[0;34m)\u001b[0m\u001b[0;34m:\u001b[0m\u001b[0;34m\u001b[0m\u001b[0m\n\u001b[1;32m    210\u001b[0m             \u001b[0;31m# The inner `getattr` is ensuring that we are treating this object (whether\u001b[0m\u001b[0;34m\u001b[0m\u001b[0;34m\u001b[0m\u001b[0m\n",
      "\u001b[0;32m/opt/conda/lib/python3.6/site-packages/modin/pandas/dataframe.py\u001b[0m in \u001b[0;36m_to_pandas\u001b[0;34m(self)\u001b[0m\n\u001b[1;32m   2196\u001b[0m \u001b[0;34m\u001b[0m\u001b[0m\n\u001b[1;32m   2197\u001b[0m     \u001b[0;32mdef\u001b[0m \u001b[0m_to_pandas\u001b[0m\u001b[0;34m(\u001b[0m\u001b[0mself\u001b[0m\u001b[0;34m)\u001b[0m\u001b[0;34m:\u001b[0m\u001b[0;34m\u001b[0m\u001b[0m\n\u001b[0;32m-> 2198\u001b[0;31m         \u001b[0;32mreturn\u001b[0m \u001b[0mself\u001b[0m\u001b[0;34m.\u001b[0m\u001b[0m_query_compiler\u001b[0m\u001b[0;34m.\u001b[0m\u001b[0mto_pandas\u001b[0m\u001b[0;34m(\u001b[0m\u001b[0;34m)\u001b[0m\u001b[0;34m\u001b[0m\u001b[0m\n\u001b[0m",
      "\u001b[0;32m/opt/conda/lib/python3.6/site-packages/modin/backends/pandas/query_compiler.py\u001b[0m in \u001b[0;36mto_pandas\u001b[0;34m(self)\u001b[0m\n\u001b[1;32m    491\u001b[0m             \u001b[0mPandas\u001b[0m \u001b[0mDataFrame\u001b[0m \u001b[0mof\u001b[0m \u001b[0mthe\u001b[0m \u001b[0mDataManager\u001b[0m\u001b[0;34m.\u001b[0m\u001b[0;34m\u001b[0m\u001b[0m\n\u001b[1;32m    492\u001b[0m         \"\"\"\n\u001b[0;32m--> 493\u001b[0;31m         \u001b[0mdf\u001b[0m \u001b[0;34m=\u001b[0m \u001b[0mself\u001b[0m\u001b[0;34m.\u001b[0m\u001b[0mdata\u001b[0m\u001b[0;34m.\u001b[0m\u001b[0mto_pandas\u001b[0m\u001b[0;34m(\u001b[0m\u001b[0mis_transposed\u001b[0m\u001b[0;34m=\u001b[0m\u001b[0mself\u001b[0m\u001b[0;34m.\u001b[0m\u001b[0m_is_transposed\u001b[0m\u001b[0;34m)\u001b[0m\u001b[0;34m\u001b[0m\u001b[0m\n\u001b[0m\u001b[1;32m    494\u001b[0m         \u001b[0;32mif\u001b[0m \u001b[0mdf\u001b[0m\u001b[0;34m.\u001b[0m\u001b[0mempty\u001b[0m\u001b[0;34m:\u001b[0m\u001b[0;34m\u001b[0m\u001b[0m\n\u001b[1;32m    495\u001b[0m             \u001b[0;32mif\u001b[0m \u001b[0mlen\u001b[0m\u001b[0;34m(\u001b[0m\u001b[0mself\u001b[0m\u001b[0;34m.\u001b[0m\u001b[0mcolumns\u001b[0m\u001b[0;34m)\u001b[0m \u001b[0;34m!=\u001b[0m \u001b[0;36m0\u001b[0m\u001b[0;34m:\u001b[0m\u001b[0;34m\u001b[0m\u001b[0m\n",
      "\u001b[0;32m/opt/conda/lib/python3.6/site-packages/modin/engines/base/frame/partition_manager.py\u001b[0m in \u001b[0;36mto_pandas\u001b[0;34m(self, is_transposed)\u001b[0m\n\u001b[1;32m    475\u001b[0m         \u001b[0;32melse\u001b[0m\u001b[0;34m:\u001b[0m\u001b[0;34m\u001b[0m\u001b[0m\n\u001b[1;32m    476\u001b[0m             retrieved_objects = [\n\u001b[0;32m--> 477\u001b[0;31m                 \u001b[0;34m[\u001b[0m\u001b[0mobj\u001b[0m\u001b[0;34m.\u001b[0m\u001b[0mto_pandas\u001b[0m\u001b[0;34m(\u001b[0m\u001b[0;34m)\u001b[0m \u001b[0;32mfor\u001b[0m \u001b[0mobj\u001b[0m \u001b[0;32min\u001b[0m \u001b[0mpart\u001b[0m\u001b[0;34m]\u001b[0m \u001b[0;32mfor\u001b[0m \u001b[0mpart\u001b[0m \u001b[0;32min\u001b[0m \u001b[0mself\u001b[0m\u001b[0;34m.\u001b[0m\u001b[0mpartitions\u001b[0m\u001b[0;34m\u001b[0m\u001b[0m\n\u001b[0m\u001b[1;32m    478\u001b[0m             ]\n\u001b[1;32m    479\u001b[0m             if all(\n",
      "\u001b[0;32m/opt/conda/lib/python3.6/site-packages/modin/engines/base/frame/partition_manager.py\u001b[0m in \u001b[0;36m<listcomp>\u001b[0;34m(.0)\u001b[0m\n\u001b[1;32m    475\u001b[0m         \u001b[0;32melse\u001b[0m\u001b[0;34m:\u001b[0m\u001b[0;34m\u001b[0m\u001b[0m\n\u001b[1;32m    476\u001b[0m             retrieved_objects = [\n\u001b[0;32m--> 477\u001b[0;31m                 \u001b[0;34m[\u001b[0m\u001b[0mobj\u001b[0m\u001b[0;34m.\u001b[0m\u001b[0mto_pandas\u001b[0m\u001b[0;34m(\u001b[0m\u001b[0;34m)\u001b[0m \u001b[0;32mfor\u001b[0m \u001b[0mobj\u001b[0m \u001b[0;32min\u001b[0m \u001b[0mpart\u001b[0m\u001b[0;34m]\u001b[0m \u001b[0;32mfor\u001b[0m \u001b[0mpart\u001b[0m \u001b[0;32min\u001b[0m \u001b[0mself\u001b[0m\u001b[0;34m.\u001b[0m\u001b[0mpartitions\u001b[0m\u001b[0;34m\u001b[0m\u001b[0m\n\u001b[0m\u001b[1;32m    478\u001b[0m             ]\n\u001b[1;32m    479\u001b[0m             if all(\n",
      "\u001b[0;32m/opt/conda/lib/python3.6/site-packages/modin/engines/base/frame/partition_manager.py\u001b[0m in \u001b[0;36m<listcomp>\u001b[0;34m(.0)\u001b[0m\n\u001b[1;32m    475\u001b[0m         \u001b[0;32melse\u001b[0m\u001b[0;34m:\u001b[0m\u001b[0;34m\u001b[0m\u001b[0m\n\u001b[1;32m    476\u001b[0m             retrieved_objects = [\n\u001b[0;32m--> 477\u001b[0;31m                 \u001b[0;34m[\u001b[0m\u001b[0mobj\u001b[0m\u001b[0;34m.\u001b[0m\u001b[0mto_pandas\u001b[0m\u001b[0;34m(\u001b[0m\u001b[0;34m)\u001b[0m \u001b[0;32mfor\u001b[0m \u001b[0mobj\u001b[0m \u001b[0;32min\u001b[0m \u001b[0mpart\u001b[0m\u001b[0;34m]\u001b[0m \u001b[0;32mfor\u001b[0m \u001b[0mpart\u001b[0m \u001b[0;32min\u001b[0m \u001b[0mself\u001b[0m\u001b[0;34m.\u001b[0m\u001b[0mpartitions\u001b[0m\u001b[0;34m\u001b[0m\u001b[0m\n\u001b[0m\u001b[1;32m    478\u001b[0m             ]\n\u001b[1;32m    479\u001b[0m             if all(\n",
      "\u001b[0;32m/opt/conda/lib/python3.6/site-packages/modin/engines/ray/pandas_on_ray/frame/partition.py\u001b[0m in \u001b[0;36mto_pandas\u001b[0;34m(self)\u001b[0m\n\u001b[1;32m     85\u001b[0m             \u001b[0mA\u001b[0m \u001b[0mPandas\u001b[0m \u001b[0mDataFrame\u001b[0m\u001b[0;34m.\u001b[0m\u001b[0;34m\u001b[0m\u001b[0m\n\u001b[1;32m     86\u001b[0m         \"\"\"\n\u001b[0;32m---> 87\u001b[0;31m         \u001b[0mdataframe\u001b[0m \u001b[0;34m=\u001b[0m \u001b[0mself\u001b[0m\u001b[0;34m.\u001b[0m\u001b[0mget\u001b[0m\u001b[0;34m(\u001b[0m\u001b[0;34m)\u001b[0m\u001b[0;34m\u001b[0m\u001b[0m\n\u001b[0m\u001b[1;32m     88\u001b[0m         \u001b[0;32massert\u001b[0m \u001b[0mtype\u001b[0m\u001b[0;34m(\u001b[0m\u001b[0mdataframe\u001b[0m\u001b[0;34m)\u001b[0m \u001b[0;32mis\u001b[0m \u001b[0mpandas\u001b[0m\u001b[0;34m.\u001b[0m\u001b[0mDataFrame\u001b[0m \u001b[0;32mor\u001b[0m \u001b[0mtype\u001b[0m\u001b[0;34m(\u001b[0m\u001b[0mdataframe\u001b[0m\u001b[0;34m)\u001b[0m \u001b[0;32mis\u001b[0m \u001b[0mpandas\u001b[0m\u001b[0;34m.\u001b[0m\u001b[0mSeries\u001b[0m\u001b[0;34m\u001b[0m\u001b[0m\n\u001b[1;32m     89\u001b[0m         \u001b[0;32mreturn\u001b[0m \u001b[0mdataframe\u001b[0m\u001b[0;34m\u001b[0m\u001b[0m\n",
      "\u001b[0;32m/opt/conda/lib/python3.6/site-packages/modin/engines/ray/pandas_on_ray/frame/partition.py\u001b[0m in \u001b[0;36mget\u001b[0;34m(self)\u001b[0m\n\u001b[1;32m     32\u001b[0m             \u001b[0;32mreturn\u001b[0m \u001b[0mray\u001b[0m\u001b[0;34m.\u001b[0m\u001b[0mget\u001b[0m\u001b[0;34m(\u001b[0m\u001b[0mself\u001b[0m\u001b[0;34m.\u001b[0m\u001b[0moid\u001b[0m\u001b[0;34m)\u001b[0m\u001b[0;34m\u001b[0m\u001b[0m\n\u001b[1;32m     33\u001b[0m         \u001b[0;32mexcept\u001b[0m \u001b[0mRayTaskError\u001b[0m \u001b[0;32mas\u001b[0m \u001b[0me\u001b[0m\u001b[0;34m:\u001b[0m\u001b[0;34m\u001b[0m\u001b[0m\n\u001b[0;32m---> 34\u001b[0;31m             \u001b[0mhandle_ray_task_error\u001b[0m\u001b[0;34m(\u001b[0m\u001b[0me\u001b[0m\u001b[0;34m)\u001b[0m\u001b[0;34m\u001b[0m\u001b[0m\n\u001b[0m\u001b[1;32m     35\u001b[0m \u001b[0;34m\u001b[0m\u001b[0m\n\u001b[1;32m     36\u001b[0m     \u001b[0;32mdef\u001b[0m \u001b[0mapply\u001b[0m\u001b[0;34m(\u001b[0m\u001b[0mself\u001b[0m\u001b[0;34m,\u001b[0m \u001b[0mfunc\u001b[0m\u001b[0;34m,\u001b[0m \u001b[0;34m**\u001b[0m\u001b[0mkwargs\u001b[0m\u001b[0;34m)\u001b[0m\u001b[0;34m:\u001b[0m\u001b[0;34m\u001b[0m\u001b[0m\n",
      "\u001b[0;32m/opt/conda/lib/python3.6/site-packages/modin/engines/ray/utils.py\u001b[0m in \u001b[0;36mhandle_ray_task_error\u001b[0;34m(e)\u001b[0m\n\u001b[1;32m     17\u001b[0m                 \u001b[0;32melse\u001b[0m\u001b[0;34m:\u001b[0m\u001b[0;34m\u001b[0m\u001b[0m\n\u001b[1;32m     18\u001b[0m                     \u001b[0;32mraise\u001b[0m \u001b[0matt_err\u001b[0m\u001b[0;34m\u001b[0m\u001b[0m\n\u001b[0;32m---> 19\u001b[0;31m     \u001b[0;32mraise\u001b[0m \u001b[0me\u001b[0m\u001b[0;34m\u001b[0m\u001b[0m\n\u001b[0m",
      "\u001b[0;32m/opt/conda/lib/python3.6/site-packages/modin/engines/ray/pandas_on_ray/frame/partition.py\u001b[0m in \u001b[0;36mget\u001b[0;34m(self)\u001b[0m\n\u001b[1;32m     30\u001b[0m             \u001b[0mself\u001b[0m\u001b[0;34m.\u001b[0m\u001b[0mdrain_call_queue\u001b[0m\u001b[0;34m(\u001b[0m\u001b[0;34m)\u001b[0m\u001b[0;34m\u001b[0m\u001b[0m\n\u001b[1;32m     31\u001b[0m         \u001b[0;32mtry\u001b[0m\u001b[0;34m:\u001b[0m\u001b[0;34m\u001b[0m\u001b[0m\n\u001b[0;32m---> 32\u001b[0;31m             \u001b[0;32mreturn\u001b[0m \u001b[0mray\u001b[0m\u001b[0;34m.\u001b[0m\u001b[0mget\u001b[0m\u001b[0;34m(\u001b[0m\u001b[0mself\u001b[0m\u001b[0;34m.\u001b[0m\u001b[0moid\u001b[0m\u001b[0;34m)\u001b[0m\u001b[0;34m\u001b[0m\u001b[0m\n\u001b[0m\u001b[1;32m     33\u001b[0m         \u001b[0;32mexcept\u001b[0m \u001b[0mRayTaskError\u001b[0m \u001b[0;32mas\u001b[0m \u001b[0me\u001b[0m\u001b[0;34m:\u001b[0m\u001b[0;34m\u001b[0m\u001b[0m\n\u001b[1;32m     34\u001b[0m             \u001b[0mhandle_ray_task_error\u001b[0m\u001b[0;34m(\u001b[0m\u001b[0me\u001b[0m\u001b[0;34m)\u001b[0m\u001b[0;34m\u001b[0m\u001b[0m\n",
      "\u001b[0;32m/opt/conda/lib/python3.6/site-packages/ray/worker.py\u001b[0m in \u001b[0;36mget\u001b[0;34m(object_ids)\u001b[0m\n\u001b[1;32m   2195\u001b[0m             \u001b[0;32mif\u001b[0m \u001b[0misinstance\u001b[0m\u001b[0;34m(\u001b[0m\u001b[0mvalue\u001b[0m\u001b[0;34m,\u001b[0m \u001b[0mRayError\u001b[0m\u001b[0;34m)\u001b[0m\u001b[0;34m:\u001b[0m\u001b[0;34m\u001b[0m\u001b[0m\n\u001b[1;32m   2196\u001b[0m                 \u001b[0mlast_task_error_raise_time\u001b[0m \u001b[0;34m=\u001b[0m \u001b[0mtime\u001b[0m\u001b[0;34m.\u001b[0m\u001b[0mtime\u001b[0m\u001b[0;34m(\u001b[0m\u001b[0;34m)\u001b[0m\u001b[0;34m\u001b[0m\u001b[0m\n\u001b[0;32m-> 2197\u001b[0;31m                 \u001b[0;32mraise\u001b[0m \u001b[0mvalue\u001b[0m\u001b[0;34m\u001b[0m\u001b[0m\n\u001b[0m\u001b[1;32m   2198\u001b[0m \u001b[0;34m\u001b[0m\u001b[0m\n\u001b[1;32m   2199\u001b[0m         \u001b[0;31m# Run post processors.\u001b[0m\u001b[0;34m\u001b[0m\u001b[0;34m\u001b[0m\u001b[0m\n",
      "\u001b[0;31mRayTaskError\u001b[0m: \u001b[36mray_worker\u001b[39m (pid=3100, host=092c89ff919c)\n  File \"/opt/conda/lib/python3.6/site-packages/ray/memory_monitor.py\", line 77, in raise_if_low_memory\n    self.error_threshold))\nray.memory_monitor.RayOutOfMemoryError: More than 95% of the memory on node 092c89ff919c is used (65.35 / 67.48 GB). The top 5 memory consumers are:\n\nPID\tMEM\tCOMMAND\n4291\t37.24GB\t/opt/conda/bin/python -m ipykernel_launcher -f /root/.local/share/jupyter/runtime/kernel-e58544bc-8f\n4206\t12.18GB\t/opt/conda/bin/python -m ipykernel_launcher -f /root/.local/share/jupyter/runtime/kernel-80f8b511-28\n2801\t4.89GB\t/opt/conda/bin/python -m ipykernel_launcher -f /root/.local/share/jupyter/runtime/kernel-5c36ebca-24\n3100\t1.15GB\t/opt/conda/bin/python /opt/conda/lib/python3.6/site-packages/ray/workers/default_worker.py --node-ip\n3093\t0.94GB\t/opt/conda/bin/python /opt/conda/lib/python3.6/site-packages/ray/workers/default_worker.py --node-ip\n\nIn addition, ~0.13 GB of shared memory is currently being used by the Ray object store. You can set the object store size with the `object_store_memory` parameter when starting Ray, and the max Redis size with `redis_max_memory`.\n"
     ]
    }
   ],
   "source": [
    "%%time\n",
    "tt = pd.merge(tt,\n",
    "         closest[['molecule_name','atom_index','closest','2nd_closest','3rd_closest','4th_closest',\n",
    "                  '5th_closest', '6th_closest','7th_closest','8th_closest','9th_closest','10th_closest']],\n",
    "        left_on=['molecule_name','atom_index_0'],\n",
    "        right_on=['molecule_name','atom_index'],\n",
    "        how='left') \\\n",
    "    .drop(['atom_index'], axis=1) \\\n",
    "    .rename(columns={'closest':'closest_to_0',\n",
    "                     '2nd_closest':'2nd_closest_to_0',\n",
    "                     '3rd_closest':'3rd_closest_to_0',\n",
    "                     '4th_closest':'4th_closest_to_0',\n",
    "                     '5th_closest':'5th_closest_to_0',\n",
    "                     '6th_closest':'6th_closest_to_0',\n",
    "                     '7th_closest':'7th_closest_to_0',\n",
    "                     '8th_closest':'8th_closest_to_0',\n",
    "                     '9th_closest':'9th_closest_to_0',\n",
    "                     '10th_closest':'10th_closest_to_0'})"
   ]
  },
  {
   "cell_type": "code",
   "execution_count": 19,
   "metadata": {},
   "outputs": [
    {
     "name": "stderr",
     "output_type": "stream",
     "text": [
      "UserWarning: `DataFrame.merge` defaulting to pandas implementation.\n"
     ]
    },
    {
     "ename": "RayTaskError",
     "evalue": "\u001b[36mray_worker\u001b[39m (pid=3100, host=092c89ff919c)\n  File \"/opt/conda/lib/python3.6/site-packages/ray/memory_monitor.py\", line 77, in raise_if_low_memory\n    self.error_threshold))\nray.memory_monitor.RayOutOfMemoryError: More than 95% of the memory on node 092c89ff919c is used (65.35 / 67.48 GB). The top 5 memory consumers are:\n\nPID\tMEM\tCOMMAND\n4291\t37.24GB\t/opt/conda/bin/python -m ipykernel_launcher -f /root/.local/share/jupyter/runtime/kernel-e58544bc-8f\n4206\t12.18GB\t/opt/conda/bin/python -m ipykernel_launcher -f /root/.local/share/jupyter/runtime/kernel-80f8b511-28\n2801\t4.89GB\t/opt/conda/bin/python -m ipykernel_launcher -f /root/.local/share/jupyter/runtime/kernel-5c36ebca-24\n3100\t1.15GB\t/opt/conda/bin/python /opt/conda/lib/python3.6/site-packages/ray/workers/default_worker.py --node-ip\n3093\t0.94GB\t/opt/conda/bin/python /opt/conda/lib/python3.6/site-packages/ray/workers/default_worker.py --node-ip\n\nIn addition, ~0.13 GB of shared memory is currently being used by the Ray object store. You can set the object store size with the `object_store_memory` parameter when starting Ray, and the max Redis size with `redis_max_memory`.\n",
     "output_type": "error",
     "traceback": [
      "\u001b[0;31m---------------------------------------------------------------------------\u001b[0m",
      "\u001b[0;31mRayTaskError\u001b[0m                              Traceback (most recent call last)",
      "\u001b[0;32m<timed exec>\u001b[0m in \u001b[0;36m<module>\u001b[0;34m()\u001b[0m\n",
      "\u001b[0;32m/opt/conda/lib/python3.6/site-packages/modin/pandas/general.py\u001b[0m in \u001b[0;36mmerge\u001b[0;34m(left, right, how, on, left_on, right_on, left_index, right_index, sort, suffixes, copy, indicator, validate)\u001b[0m\n\u001b[1;32m     94\u001b[0m         \u001b[0mcopy\u001b[0m\u001b[0;34m=\u001b[0m\u001b[0mcopy\u001b[0m\u001b[0;34m,\u001b[0m\u001b[0;34m\u001b[0m\u001b[0m\n\u001b[1;32m     95\u001b[0m         \u001b[0mindicator\u001b[0m\u001b[0;34m=\u001b[0m\u001b[0mindicator\u001b[0m\u001b[0;34m,\u001b[0m\u001b[0;34m\u001b[0m\u001b[0m\n\u001b[0;32m---> 96\u001b[0;31m         \u001b[0mvalidate\u001b[0m\u001b[0;34m=\u001b[0m\u001b[0mvalidate\u001b[0m\u001b[0;34m,\u001b[0m\u001b[0;34m\u001b[0m\u001b[0m\n\u001b[0m\u001b[1;32m     97\u001b[0m     )\n\u001b[1;32m     98\u001b[0m \u001b[0;34m\u001b[0m\u001b[0m\n",
      "\u001b[0;32m/opt/conda/lib/python3.6/site-packages/modin/pandas/dataframe.py\u001b[0m in \u001b[0;36mmerge\u001b[0;34m(self, right, how, on, left_on, right_on, left_index, right_index, sort, suffixes, copy, indicator, validate)\u001b[0m\n\u001b[1;32m   1113\u001b[0m                 \u001b[0mcopy\u001b[0m\u001b[0;34m=\u001b[0m\u001b[0mcopy\u001b[0m\u001b[0;34m,\u001b[0m\u001b[0;34m\u001b[0m\u001b[0m\n\u001b[1;32m   1114\u001b[0m                 \u001b[0mindicator\u001b[0m\u001b[0;34m=\u001b[0m\u001b[0mindicator\u001b[0m\u001b[0;34m,\u001b[0m\u001b[0;34m\u001b[0m\u001b[0m\n\u001b[0;32m-> 1115\u001b[0;31m                 \u001b[0mvalidate\u001b[0m\u001b[0;34m=\u001b[0m\u001b[0mvalidate\u001b[0m\u001b[0;34m,\u001b[0m\u001b[0;34m\u001b[0m\u001b[0m\n\u001b[0m\u001b[1;32m   1116\u001b[0m             )\n\u001b[1;32m   1117\u001b[0m         \u001b[0;32mif\u001b[0m \u001b[0mleft_index\u001b[0m \u001b[0;32mand\u001b[0m \u001b[0mright_index\u001b[0m\u001b[0;34m:\u001b[0m\u001b[0;34m\u001b[0m\u001b[0m\n",
      "\u001b[0;32m/opt/conda/lib/python3.6/site-packages/modin/pandas/base.py\u001b[0m in \u001b[0;36m_default_to_pandas\u001b[0;34m(self, op, *args, **kwargs)\u001b[0m\n\u001b[1;32m    206\u001b[0m         )\n\u001b[1;32m    207\u001b[0m         \u001b[0;32mif\u001b[0m \u001b[0mcallable\u001b[0m\u001b[0;34m(\u001b[0m\u001b[0mop\u001b[0m\u001b[0;34m)\u001b[0m\u001b[0;34m:\u001b[0m\u001b[0;34m\u001b[0m\u001b[0m\n\u001b[0;32m--> 208\u001b[0;31m             \u001b[0mresult\u001b[0m \u001b[0;34m=\u001b[0m \u001b[0mop\u001b[0m\u001b[0;34m(\u001b[0m\u001b[0mself\u001b[0m\u001b[0;34m.\u001b[0m\u001b[0m_to_pandas\u001b[0m\u001b[0;34m(\u001b[0m\u001b[0;34m)\u001b[0m\u001b[0;34m,\u001b[0m \u001b[0;34m*\u001b[0m\u001b[0margs\u001b[0m\u001b[0;34m,\u001b[0m \u001b[0;34m**\u001b[0m\u001b[0mkwargs\u001b[0m\u001b[0;34m)\u001b[0m\u001b[0;34m\u001b[0m\u001b[0m\n\u001b[0m\u001b[1;32m    209\u001b[0m         \u001b[0;32melif\u001b[0m \u001b[0misinstance\u001b[0m\u001b[0;34m(\u001b[0m\u001b[0mop\u001b[0m\u001b[0;34m,\u001b[0m \u001b[0mstr\u001b[0m\u001b[0;34m)\u001b[0m\u001b[0;34m:\u001b[0m\u001b[0;34m\u001b[0m\u001b[0m\n\u001b[1;32m    210\u001b[0m             \u001b[0;31m# The inner `getattr` is ensuring that we are treating this object (whether\u001b[0m\u001b[0;34m\u001b[0m\u001b[0;34m\u001b[0m\u001b[0m\n",
      "\u001b[0;32m/opt/conda/lib/python3.6/site-packages/modin/pandas/dataframe.py\u001b[0m in \u001b[0;36m_to_pandas\u001b[0;34m(self)\u001b[0m\n\u001b[1;32m   2196\u001b[0m \u001b[0;34m\u001b[0m\u001b[0m\n\u001b[1;32m   2197\u001b[0m     \u001b[0;32mdef\u001b[0m \u001b[0m_to_pandas\u001b[0m\u001b[0;34m(\u001b[0m\u001b[0mself\u001b[0m\u001b[0;34m)\u001b[0m\u001b[0;34m:\u001b[0m\u001b[0;34m\u001b[0m\u001b[0m\n\u001b[0;32m-> 2198\u001b[0;31m         \u001b[0;32mreturn\u001b[0m \u001b[0mself\u001b[0m\u001b[0;34m.\u001b[0m\u001b[0m_query_compiler\u001b[0m\u001b[0;34m.\u001b[0m\u001b[0mto_pandas\u001b[0m\u001b[0;34m(\u001b[0m\u001b[0;34m)\u001b[0m\u001b[0;34m\u001b[0m\u001b[0m\n\u001b[0m",
      "\u001b[0;32m/opt/conda/lib/python3.6/site-packages/modin/backends/pandas/query_compiler.py\u001b[0m in \u001b[0;36mto_pandas\u001b[0;34m(self)\u001b[0m\n\u001b[1;32m    491\u001b[0m             \u001b[0mPandas\u001b[0m \u001b[0mDataFrame\u001b[0m \u001b[0mof\u001b[0m \u001b[0mthe\u001b[0m \u001b[0mDataManager\u001b[0m\u001b[0;34m.\u001b[0m\u001b[0;34m\u001b[0m\u001b[0m\n\u001b[1;32m    492\u001b[0m         \"\"\"\n\u001b[0;32m--> 493\u001b[0;31m         \u001b[0mdf\u001b[0m \u001b[0;34m=\u001b[0m \u001b[0mself\u001b[0m\u001b[0;34m.\u001b[0m\u001b[0mdata\u001b[0m\u001b[0;34m.\u001b[0m\u001b[0mto_pandas\u001b[0m\u001b[0;34m(\u001b[0m\u001b[0mis_transposed\u001b[0m\u001b[0;34m=\u001b[0m\u001b[0mself\u001b[0m\u001b[0;34m.\u001b[0m\u001b[0m_is_transposed\u001b[0m\u001b[0;34m)\u001b[0m\u001b[0;34m\u001b[0m\u001b[0m\n\u001b[0m\u001b[1;32m    494\u001b[0m         \u001b[0;32mif\u001b[0m \u001b[0mdf\u001b[0m\u001b[0;34m.\u001b[0m\u001b[0mempty\u001b[0m\u001b[0;34m:\u001b[0m\u001b[0;34m\u001b[0m\u001b[0m\n\u001b[1;32m    495\u001b[0m             \u001b[0;32mif\u001b[0m \u001b[0mlen\u001b[0m\u001b[0;34m(\u001b[0m\u001b[0mself\u001b[0m\u001b[0;34m.\u001b[0m\u001b[0mcolumns\u001b[0m\u001b[0;34m)\u001b[0m \u001b[0;34m!=\u001b[0m \u001b[0;36m0\u001b[0m\u001b[0;34m:\u001b[0m\u001b[0;34m\u001b[0m\u001b[0m\n",
      "\u001b[0;32m/opt/conda/lib/python3.6/site-packages/modin/engines/base/frame/partition_manager.py\u001b[0m in \u001b[0;36mto_pandas\u001b[0;34m(self, is_transposed)\u001b[0m\n\u001b[1;32m    475\u001b[0m         \u001b[0;32melse\u001b[0m\u001b[0;34m:\u001b[0m\u001b[0;34m\u001b[0m\u001b[0m\n\u001b[1;32m    476\u001b[0m             retrieved_objects = [\n\u001b[0;32m--> 477\u001b[0;31m                 \u001b[0;34m[\u001b[0m\u001b[0mobj\u001b[0m\u001b[0;34m.\u001b[0m\u001b[0mto_pandas\u001b[0m\u001b[0;34m(\u001b[0m\u001b[0;34m)\u001b[0m \u001b[0;32mfor\u001b[0m \u001b[0mobj\u001b[0m \u001b[0;32min\u001b[0m \u001b[0mpart\u001b[0m\u001b[0;34m]\u001b[0m \u001b[0;32mfor\u001b[0m \u001b[0mpart\u001b[0m \u001b[0;32min\u001b[0m \u001b[0mself\u001b[0m\u001b[0;34m.\u001b[0m\u001b[0mpartitions\u001b[0m\u001b[0;34m\u001b[0m\u001b[0m\n\u001b[0m\u001b[1;32m    478\u001b[0m             ]\n\u001b[1;32m    479\u001b[0m             if all(\n",
      "\u001b[0;32m/opt/conda/lib/python3.6/site-packages/modin/engines/base/frame/partition_manager.py\u001b[0m in \u001b[0;36m<listcomp>\u001b[0;34m(.0)\u001b[0m\n\u001b[1;32m    475\u001b[0m         \u001b[0;32melse\u001b[0m\u001b[0;34m:\u001b[0m\u001b[0;34m\u001b[0m\u001b[0m\n\u001b[1;32m    476\u001b[0m             retrieved_objects = [\n\u001b[0;32m--> 477\u001b[0;31m                 \u001b[0;34m[\u001b[0m\u001b[0mobj\u001b[0m\u001b[0;34m.\u001b[0m\u001b[0mto_pandas\u001b[0m\u001b[0;34m(\u001b[0m\u001b[0;34m)\u001b[0m \u001b[0;32mfor\u001b[0m \u001b[0mobj\u001b[0m \u001b[0;32min\u001b[0m \u001b[0mpart\u001b[0m\u001b[0;34m]\u001b[0m \u001b[0;32mfor\u001b[0m \u001b[0mpart\u001b[0m \u001b[0;32min\u001b[0m \u001b[0mself\u001b[0m\u001b[0;34m.\u001b[0m\u001b[0mpartitions\u001b[0m\u001b[0;34m\u001b[0m\u001b[0m\n\u001b[0m\u001b[1;32m    478\u001b[0m             ]\n\u001b[1;32m    479\u001b[0m             if all(\n",
      "\u001b[0;32m/opt/conda/lib/python3.6/site-packages/modin/engines/base/frame/partition_manager.py\u001b[0m in \u001b[0;36m<listcomp>\u001b[0;34m(.0)\u001b[0m\n\u001b[1;32m    475\u001b[0m         \u001b[0;32melse\u001b[0m\u001b[0;34m:\u001b[0m\u001b[0;34m\u001b[0m\u001b[0m\n\u001b[1;32m    476\u001b[0m             retrieved_objects = [\n\u001b[0;32m--> 477\u001b[0;31m                 \u001b[0;34m[\u001b[0m\u001b[0mobj\u001b[0m\u001b[0;34m.\u001b[0m\u001b[0mto_pandas\u001b[0m\u001b[0;34m(\u001b[0m\u001b[0;34m)\u001b[0m \u001b[0;32mfor\u001b[0m \u001b[0mobj\u001b[0m \u001b[0;32min\u001b[0m \u001b[0mpart\u001b[0m\u001b[0;34m]\u001b[0m \u001b[0;32mfor\u001b[0m \u001b[0mpart\u001b[0m \u001b[0;32min\u001b[0m \u001b[0mself\u001b[0m\u001b[0;34m.\u001b[0m\u001b[0mpartitions\u001b[0m\u001b[0;34m\u001b[0m\u001b[0m\n\u001b[0m\u001b[1;32m    478\u001b[0m             ]\n\u001b[1;32m    479\u001b[0m             if all(\n",
      "\u001b[0;32m/opt/conda/lib/python3.6/site-packages/modin/engines/ray/pandas_on_ray/frame/partition.py\u001b[0m in \u001b[0;36mto_pandas\u001b[0;34m(self)\u001b[0m\n\u001b[1;32m     85\u001b[0m             \u001b[0mA\u001b[0m \u001b[0mPandas\u001b[0m \u001b[0mDataFrame\u001b[0m\u001b[0;34m.\u001b[0m\u001b[0;34m\u001b[0m\u001b[0m\n\u001b[1;32m     86\u001b[0m         \"\"\"\n\u001b[0;32m---> 87\u001b[0;31m         \u001b[0mdataframe\u001b[0m \u001b[0;34m=\u001b[0m \u001b[0mself\u001b[0m\u001b[0;34m.\u001b[0m\u001b[0mget\u001b[0m\u001b[0;34m(\u001b[0m\u001b[0;34m)\u001b[0m\u001b[0;34m\u001b[0m\u001b[0m\n\u001b[0m\u001b[1;32m     88\u001b[0m         \u001b[0;32massert\u001b[0m \u001b[0mtype\u001b[0m\u001b[0;34m(\u001b[0m\u001b[0mdataframe\u001b[0m\u001b[0;34m)\u001b[0m \u001b[0;32mis\u001b[0m \u001b[0mpandas\u001b[0m\u001b[0;34m.\u001b[0m\u001b[0mDataFrame\u001b[0m \u001b[0;32mor\u001b[0m \u001b[0mtype\u001b[0m\u001b[0;34m(\u001b[0m\u001b[0mdataframe\u001b[0m\u001b[0;34m)\u001b[0m \u001b[0;32mis\u001b[0m \u001b[0mpandas\u001b[0m\u001b[0;34m.\u001b[0m\u001b[0mSeries\u001b[0m\u001b[0;34m\u001b[0m\u001b[0m\n\u001b[1;32m     89\u001b[0m         \u001b[0;32mreturn\u001b[0m \u001b[0mdataframe\u001b[0m\u001b[0;34m\u001b[0m\u001b[0m\n",
      "\u001b[0;32m/opt/conda/lib/python3.6/site-packages/modin/engines/ray/pandas_on_ray/frame/partition.py\u001b[0m in \u001b[0;36mget\u001b[0;34m(self)\u001b[0m\n\u001b[1;32m     32\u001b[0m             \u001b[0;32mreturn\u001b[0m \u001b[0mray\u001b[0m\u001b[0;34m.\u001b[0m\u001b[0mget\u001b[0m\u001b[0;34m(\u001b[0m\u001b[0mself\u001b[0m\u001b[0;34m.\u001b[0m\u001b[0moid\u001b[0m\u001b[0;34m)\u001b[0m\u001b[0;34m\u001b[0m\u001b[0m\n\u001b[1;32m     33\u001b[0m         \u001b[0;32mexcept\u001b[0m \u001b[0mRayTaskError\u001b[0m \u001b[0;32mas\u001b[0m \u001b[0me\u001b[0m\u001b[0;34m:\u001b[0m\u001b[0;34m\u001b[0m\u001b[0m\n\u001b[0;32m---> 34\u001b[0;31m             \u001b[0mhandle_ray_task_error\u001b[0m\u001b[0;34m(\u001b[0m\u001b[0me\u001b[0m\u001b[0;34m)\u001b[0m\u001b[0;34m\u001b[0m\u001b[0m\n\u001b[0m\u001b[1;32m     35\u001b[0m \u001b[0;34m\u001b[0m\u001b[0m\n\u001b[1;32m     36\u001b[0m     \u001b[0;32mdef\u001b[0m \u001b[0mapply\u001b[0m\u001b[0;34m(\u001b[0m\u001b[0mself\u001b[0m\u001b[0;34m,\u001b[0m \u001b[0mfunc\u001b[0m\u001b[0;34m,\u001b[0m \u001b[0;34m**\u001b[0m\u001b[0mkwargs\u001b[0m\u001b[0;34m)\u001b[0m\u001b[0;34m:\u001b[0m\u001b[0;34m\u001b[0m\u001b[0m\n",
      "\u001b[0;32m/opt/conda/lib/python3.6/site-packages/modin/engines/ray/utils.py\u001b[0m in \u001b[0;36mhandle_ray_task_error\u001b[0;34m(e)\u001b[0m\n\u001b[1;32m     17\u001b[0m                 \u001b[0;32melse\u001b[0m\u001b[0;34m:\u001b[0m\u001b[0;34m\u001b[0m\u001b[0m\n\u001b[1;32m     18\u001b[0m                     \u001b[0;32mraise\u001b[0m \u001b[0matt_err\u001b[0m\u001b[0;34m\u001b[0m\u001b[0m\n\u001b[0;32m---> 19\u001b[0;31m     \u001b[0;32mraise\u001b[0m \u001b[0me\u001b[0m\u001b[0;34m\u001b[0m\u001b[0m\n\u001b[0m",
      "\u001b[0;32m/opt/conda/lib/python3.6/site-packages/modin/engines/ray/pandas_on_ray/frame/partition.py\u001b[0m in \u001b[0;36mget\u001b[0;34m(self)\u001b[0m\n\u001b[1;32m     30\u001b[0m             \u001b[0mself\u001b[0m\u001b[0;34m.\u001b[0m\u001b[0mdrain_call_queue\u001b[0m\u001b[0;34m(\u001b[0m\u001b[0;34m)\u001b[0m\u001b[0;34m\u001b[0m\u001b[0m\n\u001b[1;32m     31\u001b[0m         \u001b[0;32mtry\u001b[0m\u001b[0;34m:\u001b[0m\u001b[0;34m\u001b[0m\u001b[0m\n\u001b[0;32m---> 32\u001b[0;31m             \u001b[0;32mreturn\u001b[0m \u001b[0mray\u001b[0m\u001b[0;34m.\u001b[0m\u001b[0mget\u001b[0m\u001b[0;34m(\u001b[0m\u001b[0mself\u001b[0m\u001b[0;34m.\u001b[0m\u001b[0moid\u001b[0m\u001b[0;34m)\u001b[0m\u001b[0;34m\u001b[0m\u001b[0m\n\u001b[0m\u001b[1;32m     33\u001b[0m         \u001b[0;32mexcept\u001b[0m \u001b[0mRayTaskError\u001b[0m \u001b[0;32mas\u001b[0m \u001b[0me\u001b[0m\u001b[0;34m:\u001b[0m\u001b[0;34m\u001b[0m\u001b[0m\n\u001b[1;32m     34\u001b[0m             \u001b[0mhandle_ray_task_error\u001b[0m\u001b[0;34m(\u001b[0m\u001b[0me\u001b[0m\u001b[0;34m)\u001b[0m\u001b[0;34m\u001b[0m\u001b[0m\n",
      "\u001b[0;32m/opt/conda/lib/python3.6/site-packages/ray/worker.py\u001b[0m in \u001b[0;36mget\u001b[0;34m(object_ids)\u001b[0m\n\u001b[1;32m   2195\u001b[0m             \u001b[0;32mif\u001b[0m \u001b[0misinstance\u001b[0m\u001b[0;34m(\u001b[0m\u001b[0mvalue\u001b[0m\u001b[0;34m,\u001b[0m \u001b[0mRayError\u001b[0m\u001b[0;34m)\u001b[0m\u001b[0;34m:\u001b[0m\u001b[0;34m\u001b[0m\u001b[0m\n\u001b[1;32m   2196\u001b[0m                 \u001b[0mlast_task_error_raise_time\u001b[0m \u001b[0;34m=\u001b[0m \u001b[0mtime\u001b[0m\u001b[0;34m.\u001b[0m\u001b[0mtime\u001b[0m\u001b[0;34m(\u001b[0m\u001b[0;34m)\u001b[0m\u001b[0;34m\u001b[0m\u001b[0m\n\u001b[0;32m-> 2197\u001b[0;31m                 \u001b[0;32mraise\u001b[0m \u001b[0mvalue\u001b[0m\u001b[0;34m\u001b[0m\u001b[0m\n\u001b[0m\u001b[1;32m   2198\u001b[0m \u001b[0;34m\u001b[0m\u001b[0m\n\u001b[1;32m   2199\u001b[0m         \u001b[0;31m# Run post processors.\u001b[0m\u001b[0;34m\u001b[0m\u001b[0;34m\u001b[0m\u001b[0m\n",
      "\u001b[0;31mRayTaskError\u001b[0m: \u001b[36mray_worker\u001b[39m (pid=3100, host=092c89ff919c)\n  File \"/opt/conda/lib/python3.6/site-packages/ray/memory_monitor.py\", line 77, in raise_if_low_memory\n    self.error_threshold))\nray.memory_monitor.RayOutOfMemoryError: More than 95% of the memory on node 092c89ff919c is used (65.35 / 67.48 GB). The top 5 memory consumers are:\n\nPID\tMEM\tCOMMAND\n4291\t37.24GB\t/opt/conda/bin/python -m ipykernel_launcher -f /root/.local/share/jupyter/runtime/kernel-e58544bc-8f\n4206\t12.18GB\t/opt/conda/bin/python -m ipykernel_launcher -f /root/.local/share/jupyter/runtime/kernel-80f8b511-28\n2801\t4.89GB\t/opt/conda/bin/python -m ipykernel_launcher -f /root/.local/share/jupyter/runtime/kernel-5c36ebca-24\n3100\t1.15GB\t/opt/conda/bin/python /opt/conda/lib/python3.6/site-packages/ray/workers/default_worker.py --node-ip\n3093\t0.94GB\t/opt/conda/bin/python /opt/conda/lib/python3.6/site-packages/ray/workers/default_worker.py --node-ip\n\nIn addition, ~0.13 GB of shared memory is currently being used by the Ray object store. You can set the object store size with the `object_store_memory` parameter when starting Ray, and the max Redis size with `redis_max_memory`.\n"
     ]
    }
   ],
   "source": [
    "%%time\n",
    "tt = pd.merge(tt,\n",
    "         closest[['molecule_name','atom_index','closest','2nd_closest','3rd_closest','4th_closest',\n",
    "                  '5th_closest', '6th_closest','7th_closest','8th_closest','9th_closest','10th_closest']],\n",
    "        left_on=['molecule_name','atom_index_1'],\n",
    "        right_on=['molecule_name','atom_index'],\n",
    "        how='left') \\\n",
    "    .drop(['atom_index'], axis=1) \\\n",
    "    .rename(columns={'closest':'closest_to_1',\n",
    "                     '2nd_closest':'2nd_closest_to_1',\n",
    "                     '3rd_closest':'3rd_closest_to_1',\n",
    "                     '4th_closest':'4th_closest_to_1',\n",
    "                     '5th_closest':'5th_closest_to_1',\n",
    "                     '6th_closest':'6th_closest_to_1',\n",
    "                     '7th_closest':'7th_closest_to_1',\n",
    "                     '8th_closest':'8th_closest_to_1',\n",
    "                     '9th_closest':'9th_closest_to_1',\n",
    "                     '10th_closest':'10th_closest_to_1'})"
   ]
  },
  {
   "cell_type": "code",
   "execution_count": 20,
   "metadata": {},
   "outputs": [
    {
     "data": {
      "text/plain": [
       "(7163689, 18)"
      ]
     },
     "execution_count": 20,
     "metadata": {},
     "output_type": "execute_result"
    }
   ],
   "source": [
    "tt.shape"
   ]
  },
  {
   "cell_type": "code",
   "execution_count": 21,
   "metadata": {},
   "outputs": [
    {
     "ename": "KeyError",
     "evalue": "'closest_to_0'",
     "output_type": "error",
     "traceback": [
      "\u001b[0;31m---------------------------------------------------------------------------\u001b[0m",
      "\u001b[0;31mKeyError\u001b[0m                                  Traceback (most recent call last)",
      "\u001b[0;32m<ipython-input-21-833747020e6d>\u001b[0m in \u001b[0;36m<module>\u001b[0;34m()\u001b[0m\n\u001b[0;32m----> 1\u001b[0;31m \u001b[0mtt\u001b[0m\u001b[0;34m[\u001b[0m\u001b[0;34m'is_closest_pair'\u001b[0m\u001b[0;34m]\u001b[0m \u001b[0;34m=\u001b[0m \u001b[0mtt\u001b[0m\u001b[0;34m[\u001b[0m\u001b[0;34m'closest_to_0'\u001b[0m\u001b[0;34m]\u001b[0m \u001b[0;34m==\u001b[0m \u001b[0mtt\u001b[0m\u001b[0;34m[\u001b[0m\u001b[0;34m'atom_index_1'\u001b[0m\u001b[0;34m]\u001b[0m\u001b[0;34m\u001b[0m\u001b[0m\n\u001b[0m\u001b[1;32m      2\u001b[0m \u001b[0mtt\u001b[0m\u001b[0;34m.\u001b[0m\u001b[0mshape\u001b[0m\u001b[0;34m\u001b[0m\u001b[0m\n",
      "\u001b[0;32m/opt/conda/lib/python3.6/site-packages/modin/pandas/base.py\u001b[0m in \u001b[0;36m__getitem__\u001b[0;34m(self, key)\u001b[0m\n\u001b[1;32m   3177\u001b[0m             \u001b[0;32mreturn\u001b[0m \u001b[0mself\u001b[0m\u001b[0;34m.\u001b[0m\u001b[0m_getitem_slice\u001b[0m\u001b[0;34m(\u001b[0m\u001b[0mindexer\u001b[0m\u001b[0;34m)\u001b[0m\u001b[0;34m\u001b[0m\u001b[0m\n\u001b[1;32m   3178\u001b[0m         \u001b[0;32melse\u001b[0m\u001b[0;34m:\u001b[0m\u001b[0;34m\u001b[0m\u001b[0m\n\u001b[0;32m-> 3179\u001b[0;31m             \u001b[0;32mreturn\u001b[0m \u001b[0mself\u001b[0m\u001b[0;34m.\u001b[0m\u001b[0m_getitem\u001b[0m\u001b[0;34m(\u001b[0m\u001b[0mkey\u001b[0m\u001b[0;34m)\u001b[0m\u001b[0;34m\u001b[0m\u001b[0m\n\u001b[0m\u001b[1;32m   3180\u001b[0m \u001b[0;34m\u001b[0m\u001b[0m\n\u001b[1;32m   3181\u001b[0m     \u001b[0;32mdef\u001b[0m \u001b[0m_getitem_slice\u001b[0m\u001b[0;34m(\u001b[0m\u001b[0mself\u001b[0m\u001b[0;34m,\u001b[0m \u001b[0mkey\u001b[0m\u001b[0;34m)\u001b[0m\u001b[0;34m:\u001b[0m\u001b[0;34m\u001b[0m\u001b[0m\n",
      "\u001b[0;32m/opt/conda/lib/python3.6/site-packages/modin/pandas/dataframe.py\u001b[0m in \u001b[0;36m_getitem\u001b[0;34m(self, key)\u001b[0m\n\u001b[1;32m   1834\u001b[0m             \u001b[0;31m# return self._getitem_multilevel(key)\u001b[0m\u001b[0;34m\u001b[0m\u001b[0;34m\u001b[0m\u001b[0m\n\u001b[1;32m   1835\u001b[0m         \u001b[0;32melse\u001b[0m\u001b[0;34m:\u001b[0m\u001b[0;34m\u001b[0m\u001b[0m\n\u001b[0;32m-> 1836\u001b[0;31m             \u001b[0;32mreturn\u001b[0m \u001b[0mself\u001b[0m\u001b[0;34m.\u001b[0m\u001b[0m_getitem_column\u001b[0m\u001b[0;34m(\u001b[0m\u001b[0mkey\u001b[0m\u001b[0;34m)\u001b[0m\u001b[0;34m\u001b[0m\u001b[0m\n\u001b[0m\u001b[1;32m   1837\u001b[0m \u001b[0;34m\u001b[0m\u001b[0m\n\u001b[1;32m   1838\u001b[0m     \u001b[0;32mdef\u001b[0m \u001b[0m_getitem_column\u001b[0m\u001b[0;34m(\u001b[0m\u001b[0mself\u001b[0m\u001b[0;34m,\u001b[0m \u001b[0mkey\u001b[0m\u001b[0;34m)\u001b[0m\u001b[0;34m:\u001b[0m\u001b[0;34m\u001b[0m\u001b[0m\n",
      "\u001b[0;32m/opt/conda/lib/python3.6/site-packages/modin/pandas/dataframe.py\u001b[0m in \u001b[0;36m_getitem_column\u001b[0;34m(self, key)\u001b[0m\n\u001b[1;32m   1838\u001b[0m     \u001b[0;32mdef\u001b[0m \u001b[0m_getitem_column\u001b[0m\u001b[0;34m(\u001b[0m\u001b[0mself\u001b[0m\u001b[0;34m,\u001b[0m \u001b[0mkey\u001b[0m\u001b[0;34m)\u001b[0m\u001b[0;34m:\u001b[0m\u001b[0;34m\u001b[0m\u001b[0m\n\u001b[1;32m   1839\u001b[0m         \u001b[0;32mif\u001b[0m \u001b[0mkey\u001b[0m \u001b[0;32mnot\u001b[0m \u001b[0;32min\u001b[0m \u001b[0mself\u001b[0m\u001b[0;34m.\u001b[0m\u001b[0mkeys\u001b[0m\u001b[0;34m(\u001b[0m\u001b[0;34m)\u001b[0m\u001b[0;34m:\u001b[0m\u001b[0;34m\u001b[0m\u001b[0m\n\u001b[0;32m-> 1840\u001b[0;31m             \u001b[0;32mraise\u001b[0m \u001b[0mKeyError\u001b[0m\u001b[0;34m(\u001b[0m\u001b[0;34m\"{}\"\u001b[0m\u001b[0;34m.\u001b[0m\u001b[0mformat\u001b[0m\u001b[0;34m(\u001b[0m\u001b[0mkey\u001b[0m\u001b[0;34m)\u001b[0m\u001b[0;34m)\u001b[0m\u001b[0;34m\u001b[0m\u001b[0m\n\u001b[0m\u001b[1;32m   1841\u001b[0m         \u001b[0ms\u001b[0m \u001b[0;34m=\u001b[0m \u001b[0mself\u001b[0m\u001b[0;34m.\u001b[0m\u001b[0m_reduce_dimension\u001b[0m\u001b[0;34m(\u001b[0m\u001b[0mself\u001b[0m\u001b[0;34m.\u001b[0m\u001b[0m_query_compiler\u001b[0m\u001b[0;34m.\u001b[0m\u001b[0mgetitem_column_array\u001b[0m\u001b[0;34m(\u001b[0m\u001b[0;34m[\u001b[0m\u001b[0mkey\u001b[0m\u001b[0;34m]\u001b[0m\u001b[0;34m)\u001b[0m\u001b[0;34m)\u001b[0m\u001b[0;34m\u001b[0m\u001b[0m\n\u001b[1;32m   1842\u001b[0m         \u001b[0ms\u001b[0m\u001b[0;34m.\u001b[0m\u001b[0m_parent\u001b[0m \u001b[0;34m=\u001b[0m \u001b[0mself\u001b[0m\u001b[0;34m\u001b[0m\u001b[0m\n",
      "\u001b[0;31mKeyError\u001b[0m: 'closest_to_0'"
     ]
    }
   ],
   "source": [
    "tt['is_closest_pair'] = tt['closest_to_0'] == tt['atom_index_1']\n",
    "tt.shape"
   ]
  },
  {
   "cell_type": "markdown",
   "metadata": {},
   "source": [
    "# Distance to neighbors"
   ]
  },
  {
   "cell_type": "markdown",
   "metadata": {},
   "source": [
    "## To atom0"
   ]
  },
  {
   "cell_type": "code",
   "execution_count": null,
   "metadata": {},
   "outputs": [],
   "source": [
    "%%time\n",
    "tt = pd.merge(tt,\n",
    "        distances,\n",
    "        left_on=['molecule_name','atom_index_0','closest_to_0'],\n",
    "        right_on=['molecule_name','left_atom_idx','right_atom_idx'],\n",
    "        suffixes=('','_closest_to_0'),\n",
    "             how='left') \\\n",
    "    .drop(['left_atom_idx','right_atom_idx'], axis=1)"
   ]
  },
  {
   "cell_type": "code",
   "execution_count": null,
   "metadata": {},
   "outputs": [],
   "source": [
    "%%time\n",
    "tt = pd.merge(tt,\n",
    "        distances,\n",
    "        left_on=['molecule_name','atom_index_0','2nd_closest_to_0'],\n",
    "        right_on=['molecule_name','left_atom_idx','right_atom_idx'],\n",
    "        suffixes=('','_2nd_closest_to_0'),\n",
    "             how='left') \\\n",
    "    .drop(['left_atom_idx','right_atom_idx'], axis=1)"
   ]
  },
  {
   "cell_type": "code",
   "execution_count": null,
   "metadata": {},
   "outputs": [],
   "source": [
    "%%time\n",
    "tt = pd.merge(tt,\n",
    "        distances,\n",
    "        left_on=['molecule_name','atom_index_0','3rd_closest_to_0'],\n",
    "        right_on=['molecule_name','left_atom_idx','right_atom_idx'],\n",
    "        suffixes=('','_3rd_closest_to_0'),\n",
    "             how='left') \\\n",
    "    .drop(['left_atom_idx','right_atom_idx'], axis=1)\n",
    "tt = pd.merge(tt,\n",
    "        distances,\n",
    "        left_on=['molecule_name','atom_index_0','4th_closest_to_0'],\n",
    "        right_on=['molecule_name','left_atom_idx','right_atom_idx'],\n",
    "        suffixes=('','_4th_closest_to_0'),\n",
    "             how='left') \\\n",
    "    .drop(['left_atom_idx','right_atom_idx'], axis=1)\n",
    "tt = pd.merge(tt,\n",
    "        distances,\n",
    "        left_on=['molecule_name','atom_index_0','5th_closest_to_0'],\n",
    "        right_on=['molecule_name','left_atom_idx','right_atom_idx'],\n",
    "        suffixes=('','_5th_closest_to_0'),\n",
    "             how='left') \\\n",
    "    .drop(['left_atom_idx','right_atom_idx'], axis=1)\n",
    "tt = pd.merge(tt,\n",
    "        distances,\n",
    "        left_on=['molecule_name','atom_index_0','6th_closest_to_0'],\n",
    "        right_on=['molecule_name','left_atom_idx','right_atom_idx'],\n",
    "        suffixes=('','_6th_closest_to_0'),\n",
    "             how='left') \\\n",
    "    .drop(['left_atom_idx','right_atom_idx'], axis=1)\n",
    "tt = pd.merge(tt,\n",
    "        distances,\n",
    "        left_on=['molecule_name','atom_index_0','7th_closest_to_0'],\n",
    "        right_on=['molecule_name','left_atom_idx','right_atom_idx'],\n",
    "        suffixes=('','_7th_closest_to_0'),\n",
    "             how='left') \\\n",
    "    .drop(['left_atom_idx','right_atom_idx'], axis=1)"
   ]
  },
  {
   "cell_type": "code",
   "execution_count": null,
   "metadata": {},
   "outputs": [],
   "source": [
    "%%time\n",
    "tt = pd.merge(tt,\n",
    "        distances,\n",
    "        left_on=['molecule_name','atom_index_0','8th_closest_to_0'],\n",
    "        right_on=['molecule_name','left_atom_idx','right_atom_idx'],\n",
    "        suffixes=('','_8th_closest_to_0'),\n",
    "             how='left') \\\n",
    "    .drop(['left_atom_idx','right_atom_idx'], axis=1)\n",
    "tt = pd.merge(tt,\n",
    "        distances,\n",
    "        left_on=['molecule_name','atom_index_0','9th_closest_to_0'],\n",
    "        right_on=['molecule_name','left_atom_idx','right_atom_idx'],\n",
    "        suffixes=('','_9th_closest_to_0'),\n",
    "             how='left') \\\n",
    "    .drop(['left_atom_idx','right_atom_idx'], axis=1)\n",
    "tt = pd.merge(tt,\n",
    "        distances,\n",
    "        left_on=['molecule_name','atom_index_0','10th_closest_to_0'],\n",
    "        right_on=['molecule_name','left_atom_idx','right_atom_idx'],\n",
    "        suffixes=('','_10th_closest_to_0'),\n",
    "             how='left') \\\n",
    "    .drop(['left_atom_idx','right_atom_idx'], axis=1)\n",
    "tt.shape"
   ]
  },
  {
   "cell_type": "markdown",
   "metadata": {},
   "source": [
    "## To atom1"
   ]
  },
  {
   "cell_type": "code",
   "execution_count": null,
   "metadata": {},
   "outputs": [],
   "source": [
    "%%time\n",
    "tt = pd.merge(tt,\n",
    "              distances,\n",
    "              left_on=['molecule_name', 'atom_index_1', 'closest_to_1'],\n",
    "              right_on=['molecule_name', 'left_atom_idx', 'right_atom_idx'],\n",
    "              suffixes=('', '_closest_to_1'),\n",
    "              how='left') \\\n",
    "    .drop(['left_atom_idx', 'right_atom_idx'], axis=1)\n",
    "tt = pd.merge(tt,\n",
    "              distances,\n",
    "              left_on=['molecule_name', 'atom_index_1', '2nd_closest_to_1'],\n",
    "              right_on=['molecule_name', 'left_atom_idx', 'right_atom_idx'],\n",
    "              suffixes=('', '_2nd_closest_to_1'),\n",
    "              how='left') \\\n",
    "    .drop(['left_atom_idx', 'right_atom_idx'], axis=1)\n",
    "tt = pd.merge(tt,\n",
    "              distances,\n",
    "              left_on=['molecule_name', 'atom_index_1', '3rd_closest_to_1'],\n",
    "              right_on=['molecule_name', 'left_atom_idx', 'right_atom_idx'],\n",
    "              suffixes=('', '_3rd_closest_to_1'),\n",
    "              how='left') \\\n",
    "    .drop(['left_atom_idx', 'right_atom_idx'], axis=1)\n",
    "tt = pd.merge(tt,\n",
    "              distances,\n",
    "              left_on=['molecule_name', 'atom_index_1', '4th_closest_to_1'],\n",
    "              right_on=['molecule_name', 'left_atom_idx', 'right_atom_idx'],\n",
    "              suffixes=('', '_4th_closest_to_1'),\n",
    "              how='left') \\\n",
    "    .drop(['left_atom_idx', 'right_atom_idx'], axis=1"
   ]
  },
  {
   "cell_type": "code",
   "execution_count": null,
   "metadata": {},
   "outputs": [],
   "source": [
    "%%time\n",
    "tt = pd.merge(tt,\n",
    "              distances,\n",
    "              left_on=['molecule_name', 'atom_index_1', '5th_closest_to_1'],\n",
    "              right_on=['molecule_name', 'left_atom_idx', 'right_atom_idx'],\n",
    "              suffixes=('', '_5th_closest_to_1'),\n",
    "              how='left') \\\n",
    "    .drop(['left_atom_idx', 'right_atom_idx'], axis=1)\n",
    "tt = pd.merge(tt,\n",
    "              distances,\n",
    "              left_on=['molecule_name', 'atom_index_1', '6th_closest_to_1'],\n",
    "              right_on=['molecule_name', 'left_atom_idx', 'right_atom_idx'],\n",
    "              suffixes=('', '_6th_closest_to_1'),\n",
    "              how='left') \\\n",
    "    .drop(['left_atom_idx', 'right_atom_idx'], axis=1)\n",
    "tt = pd.merge(tt,\n",
    "              distances,\n",
    "              left_on=['molecule_name', 'atom_index_1', '7th_closest_to_1'],\n",
    "              right_on=['molecule_name', 'left_atom_idx', 'right_atom_idx'],\n",
    "              suffixes=('', '_7th_closest_to_1'),\n",
    "              how='left') \\\n",
    "    .drop(['left_atom_idx', 'right_atom_idx'], axis=1)"
   ]
  },
  {
   "cell_type": "code",
   "execution_count": null,
   "metadata": {},
   "outputs": [],
   "source": [
    "%%time\n",
    "tt = pd.merge(tt,\n",
    "              distances,\n",
    "              left_on=['molecule_name', 'atom_index_1', '8th_closest_to_1'],\n",
    "              right_on=['molecule_name', 'left_atom_idx', 'right_atom_idx'],\n",
    "              suffixes=('', '_8th_closest_to_1'),\n",
    "              how='left') \\\n",
    "    .drop(['left_atom_idx', 'right_atom_idx'], axis=1)\n",
    "tt = pd.merge(tt,\n",
    "              distances,\n",
    "              left_on=['molecule_name', 'atom_index_1', '9th_closest_to_1'],\n",
    "              right_on=['molecule_name', 'left_atom_idx', 'right_atom_idx'],\n",
    "              suffixes=('', '_9th_closest_to_1'),\n",
    "              how='left') \\\n",
    "    .drop(['left_atom_idx', 'right_atom_idx'], axis=1)\n",
    "tt = pd.merge(tt,\n",
    "              distances,\n",
    "              left_on=['molecule_name', 'atom_index_1', '10th_closest_to_1'],\n",
    "              right_on=['molecule_name', 'left_atom_idx', 'right_atom_idx'],\n",
    "              suffixes=('', '_10th_closest_to_1'),\n",
    "              how='left') \\\n",
    "    .drop(['left_atom_idx', 'right_atom_idx'], axis=1)\n",
    "tt.shape"
   ]
  },
  {
   "cell_type": "markdown",
   "metadata": {},
   "source": [
    "# Atom Details of Neighbors"
   ]
  },
  {
   "cell_type": "code",
   "execution_count": null,
   "metadata": {},
   "outputs": [],
   "source": [
    "%%time\n",
    "tt = pd.merge(tt,\n",
    "         atom_details,\n",
    "         left_on=['molecule_name','closest_to_0'],\n",
    "         right_on=['molecule_name','atom_idx'],\n",
    "         how='left') \\\n",
    "    .drop(['atom_idx'], axis=1) \\\n",
    "    .rename(columns={'atomic_number':'closest_to_0_atomic_number',\n",
    "                     'atomic_mass':'closest_to_0_atomic_mass',\n",
    "                     'valence':'closest_to_0_valence',\n",
    "                     'spin_multiplicity':'closest_to_0_spin_multiplicity'})\n",
    "tt.shape"
   ]
  },
  {
   "cell_type": "code",
   "execution_count": null,
   "metadata": {},
   "outputs": [],
   "source": [
    "%%time\n",
    "tt = pd.merge(tt,\n",
    "         atom_details,\n",
    "         left_on=['molecule_name','2nd_closest_to_0'],\n",
    "         right_on=['molecule_name','atom_idx'],\n",
    "         how='left') \\\n",
    "    .drop(['atom_idx'], axis=1) \\\n",
    "    .rename(columns={'atomic_number':'2nd_closest_to_0_atomic_number',\n",
    "                     'atomic_mass':'2nd_closest_to_0_atomic_mass',\n",
    "                     'valence':'2nd_closest_to_0_valence',\n",
    "                     'spin_multiplicity':'2nd_closest_to_0_spin_multiplicity'})\n",
    "tt.shape"
   ]
  },
  {
   "cell_type": "code",
   "execution_count": null,
   "metadata": {},
   "outputs": [],
   "source": [
    "%%time\n",
    "tt = pd.merge(tt,\n",
    "         atom_details,\n",
    "         left_on=['molecule_name','3rd_closest_to_0'],\n",
    "         right_on=['molecule_name','atom_idx'],\n",
    "         how='left') \\\n",
    "    .drop(['atom_idx'], axis=1) \\\n",
    "    .rename(columns={'atomic_number':'3rd_closest_to_0_atomic_number',\n",
    "                     'atomic_mass':'3rd_closest_to_0_atomic_mass',\n",
    "                     'valence':'3rd_closest_to_0_valence',\n",
    "                     'spin_multiplicity':'3rd_closest_to_0_spin_multiplicity'})\n",
    "tt.shape"
   ]
  },
  {
   "cell_type": "code",
   "execution_count": null,
   "metadata": {},
   "outputs": [],
   "source": [
    "%%time\n",
    "tt = pd.merge(tt,\n",
    "         atom_details,\n",
    "         left_on=['molecule_name','4th_closest_to_0'],\n",
    "         right_on=['molecule_name','atom_idx'],\n",
    "         how='left') \\\n",
    "    .drop(['atom_idx'], axis=1) \\\n",
    "    .rename(columns={'atomic_number':'4th_closest_to_0_atomic_number',\n",
    "                     'atomic_mass':'4th_closest_to_0_atomic_mass',\n",
    "                     'valence':'4th_closest_to_0_valence',\n",
    "                     'spin_multiplicity':'4th_closest_to_0_spin_multiplicity'})\n",
    "tt.shape"
   ]
  },
  {
   "cell_type": "code",
   "execution_count": null,
   "metadata": {},
   "outputs": [],
   "source": [
    "%%time\n",
    "tt = pd.merge(tt,\n",
    "         atom_details,\n",
    "         left_on=['molecule_name','5th_closest_to_0'],\n",
    "         right_on=['molecule_name','atom_idx'],\n",
    "         how='left') \\\n",
    "    .drop(['atom_idx'], axis=1) \\\n",
    "    .rename(columns={'atomic_number':'5th_closest_to_0_atomic_number',\n",
    "                     'atomic_mass':'5th_closest_to_0_atomic_mass',\n",
    "                     'valence':'5th_closest_to_0_valence',\n",
    "                     'spin_multiplicity':'5th_closest_to_0_spin_multiplicity'})"
   ]
  },
  {
   "cell_type": "code",
   "execution_count": null,
   "metadata": {},
   "outputs": [],
   "source": [
    "%%time\n",
    "tt = pd.merge(tt,\n",
    "         atom_details,\n",
    "         left_on=['molecule_name','6th_closest_to_0'],\n",
    "         right_on=['molecule_name','atom_idx'],\n",
    "         how='left') \\\n",
    "    .drop(['atom_idx'], axis=1) \\\n",
    "    .rename(columns={'atomic_number':'6th_closest_to_0_atomic_number',\n",
    "                     'atomic_mass':'6th_closest_to_0_atomic_mass',\n",
    "                     'valence':'6th_closest_to_0_valence',\n",
    "                     'spin_multiplicity':'6th_closest_to_0_spin_multiplicity'})\n",
    "tt = pd.merge(tt,\n",
    "         atom_details,\n",
    "         left_on=['molecule_name','7th_closest_to_0'],\n",
    "         right_on=['molecule_name','atom_idx'],\n",
    "         how='left') \\\n",
    "    .drop(['atom_idx'], axis=1) \\\n",
    "    .rename(columns={'atomic_number':'7th_closest_to_0_atomic_number',\n",
    "                     'atomic_mass':'7th_closest_to_0_atomic_mass',\n",
    "                     'valence':'7th_closest_to_0_valence',\n",
    "                     'spin_multiplicity':'7th_closest_to_0_spin_multiplicity'})\n",
    "tt = pd.merge(tt,\n",
    "         atom_details,\n",
    "         left_on=['molecule_name','8th_closest_to_0'],\n",
    "         right_on=['molecule_name','atom_idx'],\n",
    "         how='left') \\\n",
    "    .drop(['atom_idx'], axis=1) \\\n",
    "    .rename(columns={'atomic_number':'8th_closest_to_0_atomic_number',\n",
    "                     'atomic_mass':'8th_closest_to_0_atomic_mass',\n",
    "                     'valence':'8th_closest_to_0_valence',\n",
    "                     'spin_multiplicity':'8th_closest_to_0_spin_multiplicity'})\n",
    "tt = pd.merge(tt,\n",
    "         atom_details,\n",
    "         left_on=['molecule_name','9th_closest_to_0'],\n",
    "         right_on=['molecule_name','atom_idx'],\n",
    "         how='left') \\\n",
    "    .drop(['atom_idx'], axis=1) \\\n",
    "    .rename(columns={'atomic_number':'9th_closest_to_0_atomic_number',\n",
    "                     'atomic_mass':'9th_closest_to_0_atomic_mass',\n",
    "                     'valence':'9th_closest_to_0_valence',\n",
    "                     'spin_multiplicity':'9th_closest_to_0_spin_multiplicity'})\n",
    "tt = pd.merge(tt,\n",
    "         atom_details,\n",
    "         left_on=['molecule_name','10th_closest_to_0'],\n",
    "         right_on=['molecule_name','atom_idx'],\n",
    "         how='left') \\\n",
    "    .drop(['atom_idx'], axis=1) \\\n",
    "    .rename(columns={'atomic_number':'10th_closest_to_0_atomic_number',\n",
    "                     'atomic_mass':'10th_closest_to_0_atomic_mass',\n",
    "                     'valence':'10th_closest_to_0_valence',\n",
    "                     'spin_multiplicity':'10th_closest_to_0_spin_multiplicity'})"
   ]
  },
  {
   "cell_type": "code",
   "execution_count": null,
   "metadata": {},
   "outputs": [],
   "source": [
    "%%time\n",
    "tt = pd.merge(tt,\n",
    "         atom_details,\n",
    "         left_on=['molecule_name','closest_to_1'],\n",
    "         right_on=['molecule_name','atom_idx'],\n",
    "         how='left') \\\n",
    "    .drop(['atom_idx'], axis=1) \\\n",
    "    .rename(columns={'atomic_number':'closest_to_1_atomic_number',\n",
    "                     'atomic_mass':'closest_to_1_atomic_mass',\n",
    "                     'valence':'closest_to_1_valence',\n",
    "                     'spin_multiplicity':'closest_to_1_spin_multiplicity'})\n",
    "tt = pd.merge(tt,\n",
    "         atom_details,\n",
    "         left_on=['molecule_name','2nd_closest_to_1'],\n",
    "         right_on=['molecule_name','atom_idx'],\n",
    "         how='left') \\\n",
    "    .drop(['atom_idx'], axis=1) \\\n",
    "    .rename(columns={'atomic_number':'2nd_closest_to_1_atomic_number',\n",
    "                     'atomic_mass':'2nd_closest_to_1_atomic_mass',\n",
    "                     'valence':'2nd_closest_to_1_valence',\n",
    "                     'spin_multiplicity':'2nd_closest_to_1_spin_multiplicity'})\n",
    "tt = pd.merge(tt,\n",
    "         atom_details,\n",
    "         left_on=['molecule_name','3rd_closest_to_1'],\n",
    "         right_on=['molecule_name','atom_idx'],\n",
    "         how='left') \\\n",
    "    .drop(['atom_idx'], axis=1) \\\n",
    "    .rename(columns={'atomic_number':'3rd_closest_to_1_atomic_number',\n",
    "                     'atomic_mass':'3rd_closest_to_1_atomic_mass',\n",
    "                     'valence':'3rd_closest_to_1_valence',\n",
    "                     'spin_multiplicity':'3rd_closest_to_1_spin_multiplicity'})\n",
    "tt = pd.merge(tt,\n",
    "         atom_details,\n",
    "         left_on=['molecule_name','4th_closest_to_1'],\n",
    "         right_on=['molecule_name','atom_idx'],\n",
    "         how='left') \\\n",
    "    .drop(['atom_idx'], axis=1) \\\n",
    "    .rename(columns={'atomic_number':'4th_closest_to_1_atomic_number',\n",
    "                     'atomic_mass':'4th_closest_to_1_atomic_mass',\n",
    "                     'valence':'4th_closest_to_1_valence',\n",
    "                     'spin_multiplicity':'4th_closest_to_1_spin_multiplicity'})\n",
    "tt = pd.merge(tt,\n",
    "         atom_details,\n",
    "         left_on=['molecule_name','5th_closest_to_1'],\n",
    "         right_on=['molecule_name','atom_idx'],\n",
    "         how='left') \\\n",
    "    .drop(['atom_idx'], axis=1) \\\n",
    "    .rename(columns={'atomic_number':'5th_closest_to_1_atomic_number',\n",
    "                     'atomic_mass':'5th_closest_to_1_atomic_mass',\n",
    "                     'valence':'5th_closest_to_1_valence',\n",
    "                     'spin_multiplicity':'5th_closest_to_1_spin_multiplicity'})\n",
    "tt = pd.merge(tt,\n",
    "         atom_details,\n",
    "         left_on=['molecule_name','6th_closest_to_1'],\n",
    "         right_on=['molecule_name','atom_idx'],\n",
    "         how='left') \\\n",
    "    .drop(['atom_idx'], axis=1) \\\n",
    "    .rename(columns={'atomic_number':'6th_closest_to_1_atomic_number',\n",
    "                     'atomic_mass':'6th_closest_to_1_atomic_mass',\n",
    "                     'valence':'6th_closest_to_1_valence',\n",
    "                     'spin_multiplicity':'6th_closest_to_1_spin_multiplicity'})\n",
    "tt = pd.merge(tt,\n",
    "         atom_details,\n",
    "         left_on=['molecule_name','7th_closest_to_1'],\n",
    "         right_on=['molecule_name','atom_idx'],\n",
    "         how='left') \\\n",
    "    .drop(['atom_idx'], axis=1) \\\n",
    "    .rename(columns={'atomic_number':'7th_closest_to_1_atomic_number',\n",
    "                     'atomic_mass':'7th_closest_to_1_atomic_mass',\n",
    "                     'valence':'7th_closest_to_1_valence',\n",
    "                     'spin_multiplicity':'7th_closest_to_1_spin_multiplicity'})\n",
    "tt = pd.merge(tt,\n",
    "         atom_details,\n",
    "         left_on=['molecule_name','8th_closest_to_1'],\n",
    "         right_on=['molecule_name','atom_idx'],\n",
    "         how='left') \\\n",
    "    .drop(['atom_idx'], axis=1) \\\n",
    "    .rename(columns={'atomic_number':'8th_closest_to_1_atomic_number',\n",
    "                     'atomic_mass':'8th_closest_to_1_atomic_mass',\n",
    "                     'valence':'8th_closest_to_1_valence',\n",
    "                     'spin_multiplicity':'8th_closest_to_1_spin_multiplicity'})\n",
    "tt = pd.merge(tt,\n",
    "         atom_details,\n",
    "         left_on=['molecule_name','9th_closest_to_1'],\n",
    "         right_on=['molecule_name','atom_idx'],\n",
    "         how='left') \\\n",
    "    .drop(['atom_idx'], axis=1) \\\n",
    "    .rename(columns={'atomic_number':'9th_closest_to_1_atomic_number',\n",
    "                     'atomic_mass':'9th_closest_to_1_atomic_mass',\n",
    "                     'valence':'9th_closest_to_1_valence',\n",
    "                     'spin_multiplicity':'9th_closest_to_1_spin_multiplicity'})\n",
    "tt = pd.merge(tt,\n",
    "         atom_details,\n",
    "         left_on=['molecule_name','10th_closest_to_1'],\n",
    "         right_on=['molecule_name','atom_idx'],\n",
    "         how='left') \\\n",
    "    .drop(['atom_idx'], axis=1) \\\n",
    "    .rename(columns={'atomic_number':'10th_closest_to_1_atomic_number',\n",
    "                     'atomic_mass':'10th_closest_to_1_atomic_mass',\n",
    "                     'valence':'10th_closest_to_1_valence',\n",
    "                     'spin_multiplicity':'10th_closest_to_1_spin_multiplicity'})"
   ]
  },
  {
   "cell_type": "markdown",
   "metadata": {},
   "source": [
    "## Torsion Details"
   ]
  },
  {
   "cell_type": "code",
   "execution_count": null,
   "metadata": {},
   "outputs": [],
   "source": [
    "%%time\n",
    "tt = pd.merge(tt,\n",
    "        torsion_details.groupby(['molecule_name','2left_atom_idx','left_atom_idx'])['torsion_angle'] \\\n",
    "                  .agg(['mean','min','max','count'])\\\n",
    "                  .reset_index(),\n",
    "        left_on=['molecule_name','atom_index_0','atom_index_1'],\n",
    "         right_on=['molecule_name','2left_atom_idx','left_atom_idx'],\n",
    "         how='left') \\\n",
    "    .drop(['2left_atom_idx','left_atom_idx'], axis=1) \\\n",
    "    .rename(columns={'mean': 'tor_ang_2leftleft_mean',\n",
    "                     'min': 'tor_ang_2leftleft_min',\n",
    "                    'max': 'tor_ang_2leftleft_max',\n",
    "                    'count': 'tor_ang_2leftleft_count'})\n",
    "tt.shape"
   ]
  },
  {
   "cell_type": "code",
   "execution_count": null,
   "metadata": {},
   "outputs": [],
   "source": [
    "%%time\n",
    "tt = pd.merge(tt,\n",
    "         torsion_details.groupby(['molecule_name','2left_atom_idx','right_atom_idx'])['torsion_angle'] \\\n",
    "                  .agg(['mean','min','max','count'])\\\n",
    "                  .reset_index(),\n",
    "         left_on=['molecule_name','atom_index_0','atom_index_1'],\n",
    "         right_on=['molecule_name','2left_atom_idx','right_atom_idx'],\n",
    "         how='left') \\\n",
    "    .drop(['2left_atom_idx','right_atom_idx'], axis=1) \\\n",
    "    .rename(columns={'mean': 'tor_ang_2leftright_mean',\n",
    "                     'min': 'tor_ang_2leftright_min',\n",
    "                     'max': 'tor_ang_2leftright_max',\n",
    "                     'count': 'tor_ang_2leftright_count'})\n",
    "tt.shape"
   ]
  },
  {
   "cell_type": "code",
   "execution_count": null,
   "metadata": {},
   "outputs": [],
   "source": [
    "molecule_details.head()"
   ]
  },
  {
   "cell_type": "code",
   "execution_count": null,
   "metadata": {},
   "outputs": [],
   "source": [
    "%%time\n",
    "tt = pd.merge(tt,\n",
    "        molecule_details.drop('num_residues', axis=1),\n",
    "         left_on=['molecule_name'],\n",
    "         right_on=['molecule_name'],\n",
    "         how='left')"
   ]
  },
  {
   "cell_type": "code",
   "execution_count": null,
   "metadata": {},
   "outputs": [],
   "source": [
    "test.head()"
   ]
  },
  {
   "cell_type": "code",
   "execution_count": null,
   "metadata": {},
   "outputs": [],
   "source": [
    "test_FE009 = tt.sort_values('id').loc[tt['scalar_coupling_constant'].isnull()].reset_index(drop=True)\n",
    "train_FE009 = tt.sort_values('id').loc[~tt['scalar_coupling_constant'].isnull()].reset_index(drop=True)"
   ]
  },
  {
   "cell_type": "code",
   "execution_count": null,
   "metadata": {},
   "outputs": [],
   "source": [
    "test_FE009.shape"
   ]
  },
  {
   "cell_type": "code",
   "execution_count": null,
   "metadata": {},
   "outputs": [],
   "source": [
    "test.shape"
   ]
  },
  {
   "cell_type": "code",
   "execution_count": null,
   "metadata": {},
   "outputs": [],
   "source": [
    "train_FE009.shape"
   ]
  },
  {
   "cell_type": "code",
   "execution_count": null,
   "metadata": {},
   "outputs": [],
   "source": [
    "train.shape"
   ]
  },
  {
   "cell_type": "code",
   "execution_count": null,
   "metadata": {},
   "outputs": [],
   "source": [
    "bool_cols = [col for col in train_FE009.columns if 'is_bond_' in col]\n",
    "test_FE009[bool_cols] = test_FE009[bool_cols].fillna(False)\n",
    "train_FE009[bool_cols] = train_FE009[bool_cols].fillna(False)"
   ]
  },
  {
   "cell_type": "code",
   "execution_count": null,
   "metadata": {},
   "outputs": [],
   "source": [
    "test_FE009.to_parquet('../data/FE009_test.parquet')"
   ]
  },
  {
   "cell_type": "code",
   "execution_count": null,
   "metadata": {},
   "outputs": [],
   "source": [
    "train_FE009.to_parquet('../data/FE009_train.parquet')"
   ]
  },
  {
   "cell_type": "code",
   "execution_count": null,
   "metadata": {},
   "outputs": [],
   "source": [
    "[col for col in test_FE009.columns]"
   ]
  }
 ],
 "metadata": {
  "kernelspec": {
   "display_name": "Python 3",
   "language": "python",
   "name": "python3"
  },
  "language_info": {
   "codemirror_mode": {
    "name": "ipython",
    "version": 3
   },
   "file_extension": ".py",
   "mimetype": "text/x-python",
   "name": "python",
   "nbconvert_exporter": "python",
   "pygments_lexer": "ipython3",
   "version": "3.6.6"
  }
 },
 "nbformat": 4,
 "nbformat_minor": 2
}
