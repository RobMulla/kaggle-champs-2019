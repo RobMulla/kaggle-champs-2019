{
 "cells": [
  {
   "cell_type": "markdown",
   "metadata": {},
   "source": [
    "# FE009 - More OpenBabel Features\n",
    "- Add more neighbors\n",
    "- Add weight of neightbor atoms"
   ]
  },
  {
   "cell_type": "code",
   "execution_count": 1,
   "metadata": {},
   "outputs": [],
   "source": [
    "import pandas as pd\n",
    "import matplotlib.pylab as plt"
   ]
  },
  {
   "cell_type": "code",
   "execution_count": 2,
   "metadata": {},
   "outputs": [],
   "source": [
    "train = pd.read_csv('../input/train.csv')\n",
    "test = pd.read_csv('../input/test.csv')"
   ]
  },
  {
   "cell_type": "code",
   "execution_count": 3,
   "metadata": {},
   "outputs": [
    {
     "name": "stdout",
     "output_type": "stream",
     "text": [
      "CPU times: user 45.1 s, sys: 3.1 s, total: 48.2 s\n",
      "Wall time: 52.7 s\n"
     ]
    }
   ],
   "source": [
    "%%time\n",
    "angle_details = pd.read_csv('../data/openbabel/angle_details.csv')\n",
    "atom_details = pd.read_csv('../data/openbabel/atom_details.csv')\n",
    "bond_details = pd.read_csv('../data/openbabel/bond_details.csv')\n",
    "closest = pd.read_csv('../data/openbabel/closest.csv')\n",
    "distances = pd.read_csv('../data/openbabel/distances.csv')\n",
    "molecule_details = pd.read_csv('../data/openbabel/molecule_details.csv')\n",
    "torsion_details = pd.read_csv('../data/openbabel/torsion_details.csv')"
   ]
  },
  {
   "cell_type": "code",
   "execution_count": 4,
   "metadata": {},
   "outputs": [],
   "source": [
    "tt = pd.concat([train, test], axis=0, sort=False)"
   ]
  },
  {
   "cell_type": "code",
   "execution_count": 5,
   "metadata": {},
   "outputs": [
    {
     "data": {
      "text/plain": [
       "(7163689, 6)"
      ]
     },
     "execution_count": 5,
     "metadata": {},
     "output_type": "execute_result"
    }
   ],
   "source": [
    "tt.shape"
   ]
  },
  {
   "cell_type": "code",
   "execution_count": 6,
   "metadata": {},
   "outputs": [
    {
     "data": {
      "text/html": [
       "<div>\n",
       "<style scoped>\n",
       "    .dataframe tbody tr th:only-of-type {\n",
       "        vertical-align: middle;\n",
       "    }\n",
       "\n",
       "    .dataframe tbody tr th {\n",
       "        vertical-align: top;\n",
       "    }\n",
       "\n",
       "    .dataframe thead th {\n",
       "        text-align: right;\n",
       "    }\n",
       "</style>\n",
       "<table border=\"1\" class=\"dataframe\">\n",
       "  <thead>\n",
       "    <tr style=\"text-align: right;\">\n",
       "      <th></th>\n",
       "      <th>id</th>\n",
       "      <th>molecule_name</th>\n",
       "      <th>atom_index_0</th>\n",
       "      <th>atom_index_1</th>\n",
       "      <th>type</th>\n",
       "      <th>scalar_coupling_constant</th>\n",
       "    </tr>\n",
       "  </thead>\n",
       "  <tbody>\n",
       "    <tr>\n",
       "      <th>0</th>\n",
       "      <td>0</td>\n",
       "      <td>dsgdb9nsd_000001</td>\n",
       "      <td>1</td>\n",
       "      <td>0</td>\n",
       "      <td>1JHC</td>\n",
       "      <td>84.8076</td>\n",
       "    </tr>\n",
       "    <tr>\n",
       "      <th>1</th>\n",
       "      <td>1</td>\n",
       "      <td>dsgdb9nsd_000001</td>\n",
       "      <td>1</td>\n",
       "      <td>2</td>\n",
       "      <td>2JHH</td>\n",
       "      <td>-11.2570</td>\n",
       "    </tr>\n",
       "    <tr>\n",
       "      <th>2</th>\n",
       "      <td>2</td>\n",
       "      <td>dsgdb9nsd_000001</td>\n",
       "      <td>1</td>\n",
       "      <td>3</td>\n",
       "      <td>2JHH</td>\n",
       "      <td>-11.2548</td>\n",
       "    </tr>\n",
       "    <tr>\n",
       "      <th>3</th>\n",
       "      <td>3</td>\n",
       "      <td>dsgdb9nsd_000001</td>\n",
       "      <td>1</td>\n",
       "      <td>4</td>\n",
       "      <td>2JHH</td>\n",
       "      <td>-11.2543</td>\n",
       "    </tr>\n",
       "    <tr>\n",
       "      <th>4</th>\n",
       "      <td>4</td>\n",
       "      <td>dsgdb9nsd_000001</td>\n",
       "      <td>2</td>\n",
       "      <td>0</td>\n",
       "      <td>1JHC</td>\n",
       "      <td>84.8074</td>\n",
       "    </tr>\n",
       "  </tbody>\n",
       "</table>\n",
       "</div>"
      ],
      "text/plain": [
       "   id     molecule_name  atom_index_0  atom_index_1  type  scalar_coupling_constant\n",
       "0   0  dsgdb9nsd_000001             1             0  1JHC                   84.8076\n",
       "1   1  dsgdb9nsd_000001             1             2  2JHH                  -11.2570\n",
       "2   2  dsgdb9nsd_000001             1             3  2JHH                  -11.2548\n",
       "3   3  dsgdb9nsd_000001             1             4  2JHH                  -11.2543\n",
       "4   4  dsgdb9nsd_000001             2             0  1JHC                   84.8074"
      ]
     },
     "execution_count": 6,
     "metadata": {},
     "output_type": "execute_result"
    }
   ],
   "source": [
    "tt.head()"
   ]
  },
  {
   "cell_type": "markdown",
   "metadata": {},
   "source": [
    "# Atom Details"
   ]
  },
  {
   "cell_type": "code",
   "execution_count": 7,
   "metadata": {},
   "outputs": [
    {
     "data": {
      "text/html": [
       "<div>\n",
       "<style scoped>\n",
       "    .dataframe tbody tr th:only-of-type {\n",
       "        vertical-align: middle;\n",
       "    }\n",
       "\n",
       "    .dataframe tbody tr th {\n",
       "        vertical-align: top;\n",
       "    }\n",
       "\n",
       "    .dataframe thead th {\n",
       "        text-align: right;\n",
       "    }\n",
       "</style>\n",
       "<table border=\"1\" class=\"dataframe\">\n",
       "  <thead>\n",
       "    <tr style=\"text-align: right;\">\n",
       "      <th></th>\n",
       "      <th>molecule_name</th>\n",
       "      <th>atom_idx</th>\n",
       "      <th>atomic_mass</th>\n",
       "      <th>atomic_number</th>\n",
       "      <th>exact_mass</th>\n",
       "      <th>valence</th>\n",
       "      <th>spin_multiplicity</th>\n",
       "    </tr>\n",
       "  </thead>\n",
       "  <tbody>\n",
       "    <tr>\n",
       "      <th>0</th>\n",
       "      <td>dsgdb9nsd_033805</td>\n",
       "      <td>0</td>\n",
       "      <td>14.0067</td>\n",
       "      <td>7</td>\n",
       "      <td>14.003074</td>\n",
       "      <td>1</td>\n",
       "      <td>0</td>\n",
       "    </tr>\n",
       "    <tr>\n",
       "      <th>1</th>\n",
       "      <td>dsgdb9nsd_033805</td>\n",
       "      <td>1</td>\n",
       "      <td>12.0107</td>\n",
       "      <td>6</td>\n",
       "      <td>12.000000</td>\n",
       "      <td>2</td>\n",
       "      <td>0</td>\n",
       "    </tr>\n",
       "    <tr>\n",
       "      <th>2</th>\n",
       "      <td>dsgdb9nsd_033805</td>\n",
       "      <td>2</td>\n",
       "      <td>12.0107</td>\n",
       "      <td>6</td>\n",
       "      <td>12.000000</td>\n",
       "      <td>4</td>\n",
       "      <td>0</td>\n",
       "    </tr>\n",
       "    <tr>\n",
       "      <th>3</th>\n",
       "      <td>dsgdb9nsd_033805</td>\n",
       "      <td>3</td>\n",
       "      <td>12.0107</td>\n",
       "      <td>6</td>\n",
       "      <td>12.000000</td>\n",
       "      <td>4</td>\n",
       "      <td>0</td>\n",
       "    </tr>\n",
       "    <tr>\n",
       "      <th>4</th>\n",
       "      <td>dsgdb9nsd_033805</td>\n",
       "      <td>4</td>\n",
       "      <td>12.0107</td>\n",
       "      <td>6</td>\n",
       "      <td>12.000000</td>\n",
       "      <td>4</td>\n",
       "      <td>0</td>\n",
       "    </tr>\n",
       "  </tbody>\n",
       "</table>\n",
       "</div>"
      ],
      "text/plain": [
       "      molecule_name  atom_idx  atomic_mass  atomic_number  exact_mass  valence  spin_multiplicity\n",
       "0  dsgdb9nsd_033805         0      14.0067              7   14.003074        1                  0\n",
       "1  dsgdb9nsd_033805         1      12.0107              6   12.000000        2                  0\n",
       "2  dsgdb9nsd_033805         2      12.0107              6   12.000000        4                  0\n",
       "3  dsgdb9nsd_033805         3      12.0107              6   12.000000        4                  0\n",
       "4  dsgdb9nsd_033805         4      12.0107              6   12.000000        4                  0"
      ]
     },
     "execution_count": 7,
     "metadata": {},
     "output_type": "execute_result"
    }
   ],
   "source": [
    "atom_details.head()"
   ]
  },
  {
   "cell_type": "code",
   "execution_count": 8,
   "metadata": {},
   "outputs": [
    {
     "name": "stdout",
     "output_type": "stream",
     "text": [
      "CPU times: user 5.12 s, sys: 3.6 s, total: 8.73 s\n",
      "Wall time: 8.74 s\n"
     ]
    }
   ],
   "source": [
    "%%time\n",
    "tt = pd.merge(tt,\n",
    "         atom_details,\n",
    "         left_on=['molecule_name','atom_index_0'],\n",
    "         right_on=['molecule_name','atom_idx'],\n",
    "         how='left') \\\n",
    "    .drop(['atom_idx'], axis=1) \\\n",
    "    .rename(columns={'atomic_number':'atom0_atomic_number',\n",
    "                     'atomic_mass':'atom0_atomic_mass',\n",
    "                     'valence':'atom0_valence',\n",
    "                     'spin_multiplicity':'atom0_spin_multiplicity'})\n",
    "tt = pd.merge(tt,\n",
    "         atom_details,\n",
    "         left_on=['molecule_name','atom_index_1'],\n",
    "         right_on=['molecule_name','atom_idx'],\n",
    "         how='left') \\\n",
    "    .drop(['atom_idx'], axis=1) \\\n",
    "    .rename(columns={'atomic_number':'atom1_atomic_number',\n",
    "                     'atomic_mass':'atom1_atomic_mass',\n",
    "                     'valence':'atom1_valence',\n",
    "                     'spin_multiplicity':'atom1_spin_multiplicity'})\n",
    "tt.shape"
   ]
  },
  {
   "cell_type": "markdown",
   "metadata": {},
   "source": [
    "# Angles"
   ]
  },
  {
   "cell_type": "code",
   "execution_count": 9,
   "metadata": {},
   "outputs": [
    {
     "name": "stdout",
     "output_type": "stream",
     "text": [
      "CPU times: user 7.71 s, sys: 3.84 s, total: 11.5 s\n",
      "Wall time: 11.6 s\n"
     ]
    }
   ],
   "source": [
    "%%time\n",
    "tt = pd.merge(tt,\n",
    "         angle_details.groupby(['molecule_name','left_atom_idx','middle_atom_idx']).mean() \\\n",
    "              .reset_index(drop=False),\n",
    "         left_on=['molecule_name','atom_index_0','atom_index_1'],\n",
    "         right_on=['molecule_name','left_atom_idx','middle_atom_idx'],\n",
    "         how='left') \\\n",
    "    .drop(['left_atom_idx','middle_atom_idx','right_atom_idx'], axis=1) \\\n",
    "    .rename(columns={'angle':'left_middle_average_angle'})"
   ]
  },
  {
   "cell_type": "code",
   "execution_count": 10,
   "metadata": {},
   "outputs": [
    {
     "name": "stdout",
     "output_type": "stream",
     "text": [
      "CPU times: user 7.79 s, sys: 3.96 s, total: 11.7 s\n",
      "Wall time: 11.8 s\n"
     ]
    }
   ],
   "source": [
    "%%time\n",
    "tt = pd.merge(tt,\n",
    "         angle_details.groupby(['molecule_name','right_atom_idx','middle_atom_idx']).mean() \\\n",
    "              .reset_index(drop=False),\n",
    "         left_on=['molecule_name','atom_index_0','atom_index_1'],\n",
    "         right_on=['molecule_name','right_atom_idx','middle_atom_idx'],\n",
    "         how='left') \\\n",
    "    .drop(['left_atom_idx','middle_atom_idx','right_atom_idx'], axis=1) \\\n",
    "    .rename(columns={'angle':'right_middle_average_angle'})"
   ]
  },
  {
   "cell_type": "code",
   "execution_count": 11,
   "metadata": {},
   "outputs": [
    {
     "name": "stdout",
     "output_type": "stream",
     "text": [
      "CPU times: user 12 s, sys: 4.37 s, total: 16.4 s\n",
      "Wall time: 16.4 s\n"
     ]
    }
   ],
   "source": [
    "%%time\n",
    "tt = pd.merge(tt,\n",
    "         distances,\n",
    "         left_on=['molecule_name','atom_index_0','atom_index_1'],\n",
    "         right_on=['molecule_name','left_atom_idx','right_atom_idx'],\n",
    "         how='left')\\\n",
    "    .drop(['left_atom_idx','right_atom_idx'], axis=1)\n",
    "tt.shape"
   ]
  },
  {
   "cell_type": "markdown",
   "metadata": {},
   "source": [
    "# Closest Neighbors"
   ]
  },
  {
   "cell_type": "code",
   "execution_count": 12,
   "metadata": {},
   "outputs": [],
   "source": [
    "# Fix bug with the indexes being off by one\n",
    "if closest['closest'].min() == 1:\n",
    "    closest['atom_index'] = closest['atom_index'] - 1\n",
    "    for col in closest.columns:\n",
    "        if 'close' in col:\n",
    "            closest[col] = closest[col] - 1"
   ]
  },
  {
   "cell_type": "code",
   "execution_count": 13,
   "metadata": {},
   "outputs": [
    {
     "name": "stdout",
     "output_type": "stream",
     "text": [
      "CPU times: user 3.68 s, sys: 3.68 s, total: 7.36 s\n",
      "Wall time: 7.38 s\n"
     ]
    }
   ],
   "source": [
    "%%time\n",
    "tt = pd.merge(tt,\n",
    "         closest[['molecule_name','atom_index','closest','2nd_closest','3rd_closest','4th_closest',\n",
    "                  '5th_closest', '6th_closest','7th_closest','8th_closest','9th_closest','10th_closest']],\n",
    "        left_on=['molecule_name','atom_index_0'],\n",
    "        right_on=['molecule_name','atom_index'],\n",
    "        how='left') \\\n",
    "    .drop(['atom_index'], axis=1) \\\n",
    "    .rename(columns={'closest':'closest_to_0',\n",
    "                     '2nd_closest':'2nd_closest_to_0',\n",
    "                     '3rd_closest':'3rd_closest_to_0',\n",
    "                     '4th_closest':'4th_closest_to_0',\n",
    "                     '5th_closest':'5th_closest_to_0',\n",
    "                     '6th_closest':'6th_closest_to_0',\n",
    "                     '7th_closest':'7th_closest_to_0',\n",
    "                     '8th_closest':'8th_closest_to_0',\n",
    "                     '9th_closest':'9th_closest_to_0',\n",
    "                     '10th_closest':'10th_closest_to_0'})"
   ]
  },
  {
   "cell_type": "code",
   "execution_count": 14,
   "metadata": {},
   "outputs": [
    {
     "name": "stdout",
     "output_type": "stream",
     "text": [
      "CPU times: user 4.71 s, sys: 5.55 s, total: 10.3 s\n",
      "Wall time: 10.3 s\n"
     ]
    }
   ],
   "source": [
    "%%time\n",
    "tt = pd.merge(tt,\n",
    "         closest[['molecule_name','atom_index','closest','2nd_closest','3rd_closest','4th_closest',\n",
    "                  '5th_closest', '6th_closest','7th_closest','8th_closest','9th_closest','10th_closest']],\n",
    "        left_on=['molecule_name','atom_index_1'],\n",
    "        right_on=['molecule_name','atom_index'],\n",
    "        how='left') \\\n",
    "    .drop(['atom_index'], axis=1) \\\n",
    "    .rename(columns={'closest':'closest_to_1',\n",
    "                     '2nd_closest':'2nd_closest_to_1',\n",
    "                     '3rd_closest':'3rd_closest_to_1',\n",
    "                     '4th_closest':'4th_closest_to_1',\n",
    "                     '5th_closest':'5th_closest_to_1',\n",
    "                     '6th_closest':'6th_closest_to_1',\n",
    "                     '7th_closest':'7th_closest_to_1',\n",
    "                     '8th_closest':'8th_closest_to_1',\n",
    "                     '9th_closest':'9th_closest_to_1',\n",
    "                     '10th_closest':'10th_closest_to_1'})"
   ]
  },
  {
   "cell_type": "code",
   "execution_count": 15,
   "metadata": {},
   "outputs": [
    {
     "data": {
      "text/plain": [
       "(7163689, 40)"
      ]
     },
     "execution_count": 15,
     "metadata": {},
     "output_type": "execute_result"
    }
   ],
   "source": [
    "tt.shape"
   ]
  },
  {
   "cell_type": "code",
   "execution_count": 16,
   "metadata": {},
   "outputs": [
    {
     "data": {
      "text/plain": [
       "(7163689, 41)"
      ]
     },
     "execution_count": 16,
     "metadata": {},
     "output_type": "execute_result"
    }
   ],
   "source": [
    "tt['is_closest_pair'] = tt['closest_to_0'] == tt['atom_index_1']\n",
    "tt.shape"
   ]
  },
  {
   "cell_type": "markdown",
   "metadata": {},
   "source": [
    "# Distance to neighbors"
   ]
  },
  {
   "cell_type": "markdown",
   "metadata": {},
   "source": [
    "## To atom0"
   ]
  },
  {
   "cell_type": "code",
   "execution_count": 17,
   "metadata": {},
   "outputs": [
    {
     "name": "stdout",
     "output_type": "stream",
     "text": [
      "CPU times: user 13.7 s, sys: 7.56 s, total: 21.3 s\n",
      "Wall time: 21.3 s\n"
     ]
    }
   ],
   "source": [
    "%%time\n",
    "tt = pd.merge(tt,\n",
    "        distances,\n",
    "        left_on=['molecule_name','atom_index_0','closest_to_0'],\n",
    "        right_on=['molecule_name','left_atom_idx','right_atom_idx'],\n",
    "        suffixes=('','_closest_to_0'),\n",
    "             how='left') \\\n",
    "    .drop(['left_atom_idx','right_atom_idx'], axis=1)"
   ]
  },
  {
   "cell_type": "code",
   "execution_count": 18,
   "metadata": {},
   "outputs": [
    {
     "name": "stdout",
     "output_type": "stream",
     "text": [
      "CPU times: user 14.2 s, sys: 7.74 s, total: 22 s\n",
      "Wall time: 22 s\n"
     ]
    }
   ],
   "source": [
    "%%time\n",
    "tt = pd.merge(tt,\n",
    "        distances,\n",
    "        left_on=['molecule_name','atom_index_0','2nd_closest_to_0'],\n",
    "        right_on=['molecule_name','left_atom_idx','right_atom_idx'],\n",
    "        suffixes=('','_2nd_closest_to_0'),\n",
    "             how='left') \\\n",
    "    .drop(['left_atom_idx','right_atom_idx'], axis=1)"
   ]
  },
  {
   "cell_type": "code",
   "execution_count": 19,
   "metadata": {},
   "outputs": [
    {
     "name": "stdout",
     "output_type": "stream",
     "text": [
      "CPU times: user 1min 45s, sys: 53.7 s, total: 2min 38s\n",
      "Wall time: 2min 38s\n"
     ]
    }
   ],
   "source": [
    "%%time\n",
    "tt = pd.merge(tt,\n",
    "        distances,\n",
    "        left_on=['molecule_name','atom_index_0','3rd_closest_to_0'],\n",
    "        right_on=['molecule_name','left_atom_idx','right_atom_idx'],\n",
    "        suffixes=('','_3rd_closest_to_0'),\n",
    "             how='left') \\\n",
    "    .drop(['left_atom_idx','right_atom_idx'], axis=1)\n",
    "tt = pd.merge(tt,\n",
    "        distances,\n",
    "        left_on=['molecule_name','atom_index_0','4th_closest_to_0'],\n",
    "        right_on=['molecule_name','left_atom_idx','right_atom_idx'],\n",
    "        suffixes=('','_4th_closest_to_0'),\n",
    "             how='left') \\\n",
    "    .drop(['left_atom_idx','right_atom_idx'], axis=1)\n",
    "tt = pd.merge(tt,\n",
    "        distances,\n",
    "        left_on=['molecule_name','atom_index_0','5th_closest_to_0'],\n",
    "        right_on=['molecule_name','left_atom_idx','right_atom_idx'],\n",
    "        suffixes=('','_5th_closest_to_0'),\n",
    "             how='left') \\\n",
    "    .drop(['left_atom_idx','right_atom_idx'], axis=1)\n",
    "tt = pd.merge(tt,\n",
    "        distances,\n",
    "        left_on=['molecule_name','atom_index_0','6th_closest_to_0'],\n",
    "        right_on=['molecule_name','left_atom_idx','right_atom_idx'],\n",
    "        suffixes=('','_6th_closest_to_0'),\n",
    "             how='left') \\\n",
    "    .drop(['left_atom_idx','right_atom_idx'], axis=1)\n",
    "tt = pd.merge(tt,\n",
    "        distances,\n",
    "        left_on=['molecule_name','atom_index_0','7th_closest_to_0'],\n",
    "        right_on=['molecule_name','left_atom_idx','right_atom_idx'],\n",
    "        suffixes=('','_7th_closest_to_0'),\n",
    "             how='left') \\\n",
    "    .drop(['left_atom_idx','right_atom_idx'], axis=1)"
   ]
  },
  {
   "cell_type": "code",
   "execution_count": 20,
   "metadata": {},
   "outputs": [
    {
     "name": "stdout",
     "output_type": "stream",
     "text": [
      "CPU times: user 1min 21s, sys: 43.8 s, total: 2min 5s\n",
      "Wall time: 2min 5s\n"
     ]
    }
   ],
   "source": [
    "%%time\n",
    "tt = pd.merge(tt,\n",
    "        distances,\n",
    "        left_on=['molecule_name','atom_index_0','8th_closest_to_0'],\n",
    "        right_on=['molecule_name','left_atom_idx','right_atom_idx'],\n",
    "        suffixes=('','_8th_closest_to_0'),\n",
    "             how='left') \\\n",
    "    .drop(['left_atom_idx','right_atom_idx'], axis=1)\n",
    "tt = pd.merge(tt,\n",
    "        distances,\n",
    "        left_on=['molecule_name','atom_index_0','9th_closest_to_0'],\n",
    "        right_on=['molecule_name','left_atom_idx','right_atom_idx'],\n",
    "        suffixes=('','_9th_closest_to_0'),\n",
    "             how='left') \\\n",
    "    .drop(['left_atom_idx','right_atom_idx'], axis=1)\n",
    "tt = pd.merge(tt,\n",
    "        distances,\n",
    "        left_on=['molecule_name','atom_index_0','10th_closest_to_0'],\n",
    "        right_on=['molecule_name','left_atom_idx','right_atom_idx'],\n",
    "        suffixes=('','_10th_closest_to_0'),\n",
    "             how='left') \\\n",
    "    .drop(['left_atom_idx','right_atom_idx'], axis=1)\n",
    "tt.shape"
   ]
  },
  {
   "cell_type": "markdown",
   "metadata": {},
   "source": [
    "## To atom1"
   ]
  },
  {
   "cell_type": "code",
   "execution_count": 21,
   "metadata": {},
   "outputs": [
    {
     "data": {
      "text/plain": [
       "(7163689, 61)"
      ]
     },
     "execution_count": 21,
     "metadata": {},
     "output_type": "execute_result"
    }
   ],
   "source": [
    "tt.shape"
   ]
  },
  {
   "cell_type": "code",
   "execution_count": 22,
   "metadata": {},
   "outputs": [
    {
     "data": {
      "text/html": [
       "<div>\n",
       "<style scoped>\n",
       "    .dataframe tbody tr th:only-of-type {\n",
       "        vertical-align: middle;\n",
       "    }\n",
       "\n",
       "    .dataframe tbody tr th {\n",
       "        vertical-align: top;\n",
       "    }\n",
       "\n",
       "    .dataframe thead th {\n",
       "        text-align: right;\n",
       "    }\n",
       "</style>\n",
       "<table border=\"1\" class=\"dataframe\">\n",
       "  <thead>\n",
       "    <tr style=\"text-align: right;\">\n",
       "      <th></th>\n",
       "      <th>id</th>\n",
       "      <th>molecule_name</th>\n",
       "      <th>atom_index_0</th>\n",
       "      <th>atom_index_1</th>\n",
       "      <th>type</th>\n",
       "      <th>scalar_coupling_constant</th>\n",
       "      <th>atom0_atomic_mass</th>\n",
       "      <th>atom0_atomic_number</th>\n",
       "      <th>exact_mass_x</th>\n",
       "      <th>atom0_valence</th>\n",
       "      <th>atom0_spin_multiplicity</th>\n",
       "      <th>atom1_atomic_mass</th>\n",
       "      <th>atom1_atomic_number</th>\n",
       "      <th>exact_mass_y</th>\n",
       "      <th>atom1_valence</th>\n",
       "      <th>atom1_spin_multiplicity</th>\n",
       "      <th>left_middle_average_angle</th>\n",
       "      <th>right_middle_average_angle</th>\n",
       "      <th>distance</th>\n",
       "      <th>is_bond</th>\n",
       "      <th>closest_to_0</th>\n",
       "      <th>2nd_closest_to_0</th>\n",
       "      <th>3rd_closest_to_0</th>\n",
       "      <th>4th_closest_to_0</th>\n",
       "      <th>5th_closest_to_0</th>\n",
       "      <th>6th_closest_to_0</th>\n",
       "      <th>7th_closest_to_0</th>\n",
       "      <th>8th_closest_to_0</th>\n",
       "      <th>9th_closest_to_0</th>\n",
       "      <th>10th_closest_to_0</th>\n",
       "      <th>closest_to_1</th>\n",
       "      <th>2nd_closest_to_1</th>\n",
       "      <th>3rd_closest_to_1</th>\n",
       "      <th>4th_closest_to_1</th>\n",
       "      <th>5th_closest_to_1</th>\n",
       "      <th>6th_closest_to_1</th>\n",
       "      <th>7th_closest_to_1</th>\n",
       "      <th>8th_closest_to_1</th>\n",
       "      <th>9th_closest_to_1</th>\n",
       "      <th>10th_closest_to_1</th>\n",
       "      <th>is_closest_pair</th>\n",
       "      <th>distance_closest_to_0</th>\n",
       "      <th>is_bond_closest_to_0</th>\n",
       "      <th>distance_2nd_closest_to_0</th>\n",
       "      <th>is_bond_2nd_closest_to_0</th>\n",
       "      <th>distance_3rd_closest_to_0</th>\n",
       "      <th>is_bond_3rd_closest_to_0</th>\n",
       "      <th>distance_4th_closest_to_0</th>\n",
       "      <th>is_bond_4th_closest_to_0</th>\n",
       "      <th>distance_5th_closest_to_0</th>\n",
       "      <th>is_bond_5th_closest_to_0</th>\n",
       "      <th>distance_6th_closest_to_0</th>\n",
       "      <th>is_bond_6th_closest_to_0</th>\n",
       "      <th>distance_7th_closest_to_0</th>\n",
       "      <th>is_bond_7th_closest_to_0</th>\n",
       "      <th>distance_8th_closest_to_0</th>\n",
       "      <th>is_bond_8th_closest_to_0</th>\n",
       "      <th>distance_9th_closest_to_0</th>\n",
       "      <th>is_bond_9th_closest_to_0</th>\n",
       "      <th>distance_10th_closest_to_0</th>\n",
       "      <th>is_bond_10th_closest_to_0</th>\n",
       "    </tr>\n",
       "  </thead>\n",
       "  <tbody>\n",
       "    <tr>\n",
       "      <th>0</th>\n",
       "      <td>0</td>\n",
       "      <td>dsgdb9nsd_000001</td>\n",
       "      <td>1</td>\n",
       "      <td>0</td>\n",
       "      <td>1JHC</td>\n",
       "      <td>84.8076</td>\n",
       "      <td>1.00794</td>\n",
       "      <td>1</td>\n",
       "      <td>1.007825</td>\n",
       "      <td>1</td>\n",
       "      <td>0</td>\n",
       "      <td>12.01070</td>\n",
       "      <td>6</td>\n",
       "      <td>12.000000</td>\n",
       "      <td>4</td>\n",
       "      <td>0</td>\n",
       "      <td>NaN</td>\n",
       "      <td>NaN</td>\n",
       "      <td>1.091953</td>\n",
       "      <td>True</td>\n",
       "      <td>0</td>\n",
       "      <td>2</td>\n",
       "      <td>3.0</td>\n",
       "      <td>4.0</td>\n",
       "      <td>NaN</td>\n",
       "      <td>NaN</td>\n",
       "      <td>NaN</td>\n",
       "      <td>NaN</td>\n",
       "      <td>NaN</td>\n",
       "      <td>NaN</td>\n",
       "      <td>3</td>\n",
       "      <td>4</td>\n",
       "      <td>2.0</td>\n",
       "      <td>1.0</td>\n",
       "      <td>NaN</td>\n",
       "      <td>NaN</td>\n",
       "      <td>NaN</td>\n",
       "      <td>NaN</td>\n",
       "      <td>NaN</td>\n",
       "      <td>NaN</td>\n",
       "      <td>True</td>\n",
       "      <td>1.091953</td>\n",
       "      <td>True</td>\n",
       "      <td>1.78312</td>\n",
       "      <td>False</td>\n",
       "      <td>1.783147</td>\n",
       "      <td>False</td>\n",
       "      <td>1.783157</td>\n",
       "      <td>False</td>\n",
       "      <td>NaN</td>\n",
       "      <td>NaN</td>\n",
       "      <td>NaN</td>\n",
       "      <td>NaN</td>\n",
       "      <td>NaN</td>\n",
       "      <td>NaN</td>\n",
       "      <td>NaN</td>\n",
       "      <td>NaN</td>\n",
       "      <td>NaN</td>\n",
       "      <td>NaN</td>\n",
       "      <td>NaN</td>\n",
       "      <td>NaN</td>\n",
       "    </tr>\n",
       "    <tr>\n",
       "      <th>1</th>\n",
       "      <td>1</td>\n",
       "      <td>dsgdb9nsd_000001</td>\n",
       "      <td>1</td>\n",
       "      <td>2</td>\n",
       "      <td>2JHH</td>\n",
       "      <td>-11.2570</td>\n",
       "      <td>1.00794</td>\n",
       "      <td>1</td>\n",
       "      <td>1.007825</td>\n",
       "      <td>1</td>\n",
       "      <td>0</td>\n",
       "      <td>1.00794</td>\n",
       "      <td>1</td>\n",
       "      <td>1.007825</td>\n",
       "      <td>1</td>\n",
       "      <td>0</td>\n",
       "      <td>NaN</td>\n",
       "      <td>NaN</td>\n",
       "      <td>1.783120</td>\n",
       "      <td>False</td>\n",
       "      <td>0</td>\n",
       "      <td>2</td>\n",
       "      <td>3.0</td>\n",
       "      <td>4.0</td>\n",
       "      <td>NaN</td>\n",
       "      <td>NaN</td>\n",
       "      <td>NaN</td>\n",
       "      <td>NaN</td>\n",
       "      <td>NaN</td>\n",
       "      <td>NaN</td>\n",
       "      <td>0</td>\n",
       "      <td>1</td>\n",
       "      <td>4.0</td>\n",
       "      <td>3.0</td>\n",
       "      <td>NaN</td>\n",
       "      <td>NaN</td>\n",
       "      <td>NaN</td>\n",
       "      <td>NaN</td>\n",
       "      <td>NaN</td>\n",
       "      <td>NaN</td>\n",
       "      <td>False</td>\n",
       "      <td>1.091953</td>\n",
       "      <td>True</td>\n",
       "      <td>1.78312</td>\n",
       "      <td>False</td>\n",
       "      <td>1.783147</td>\n",
       "      <td>False</td>\n",
       "      <td>1.783157</td>\n",
       "      <td>False</td>\n",
       "      <td>NaN</td>\n",
       "      <td>NaN</td>\n",
       "      <td>NaN</td>\n",
       "      <td>NaN</td>\n",
       "      <td>NaN</td>\n",
       "      <td>NaN</td>\n",
       "      <td>NaN</td>\n",
       "      <td>NaN</td>\n",
       "      <td>NaN</td>\n",
       "      <td>NaN</td>\n",
       "      <td>NaN</td>\n",
       "      <td>NaN</td>\n",
       "    </tr>\n",
       "    <tr>\n",
       "      <th>2</th>\n",
       "      <td>2</td>\n",
       "      <td>dsgdb9nsd_000001</td>\n",
       "      <td>1</td>\n",
       "      <td>3</td>\n",
       "      <td>2JHH</td>\n",
       "      <td>-11.2548</td>\n",
       "      <td>1.00794</td>\n",
       "      <td>1</td>\n",
       "      <td>1.007825</td>\n",
       "      <td>1</td>\n",
       "      <td>0</td>\n",
       "      <td>1.00794</td>\n",
       "      <td>1</td>\n",
       "      <td>1.007825</td>\n",
       "      <td>1</td>\n",
       "      <td>0</td>\n",
       "      <td>NaN</td>\n",
       "      <td>NaN</td>\n",
       "      <td>1.783147</td>\n",
       "      <td>False</td>\n",
       "      <td>0</td>\n",
       "      <td>2</td>\n",
       "      <td>3.0</td>\n",
       "      <td>4.0</td>\n",
       "      <td>NaN</td>\n",
       "      <td>NaN</td>\n",
       "      <td>NaN</td>\n",
       "      <td>NaN</td>\n",
       "      <td>NaN</td>\n",
       "      <td>NaN</td>\n",
       "      <td>0</td>\n",
       "      <td>1</td>\n",
       "      <td>4.0</td>\n",
       "      <td>2.0</td>\n",
       "      <td>NaN</td>\n",
       "      <td>NaN</td>\n",
       "      <td>NaN</td>\n",
       "      <td>NaN</td>\n",
       "      <td>NaN</td>\n",
       "      <td>NaN</td>\n",
       "      <td>False</td>\n",
       "      <td>1.091953</td>\n",
       "      <td>True</td>\n",
       "      <td>1.78312</td>\n",
       "      <td>False</td>\n",
       "      <td>1.783147</td>\n",
       "      <td>False</td>\n",
       "      <td>1.783157</td>\n",
       "      <td>False</td>\n",
       "      <td>NaN</td>\n",
       "      <td>NaN</td>\n",
       "      <td>NaN</td>\n",
       "      <td>NaN</td>\n",
       "      <td>NaN</td>\n",
       "      <td>NaN</td>\n",
       "      <td>NaN</td>\n",
       "      <td>NaN</td>\n",
       "      <td>NaN</td>\n",
       "      <td>NaN</td>\n",
       "      <td>NaN</td>\n",
       "      <td>NaN</td>\n",
       "    </tr>\n",
       "    <tr>\n",
       "      <th>3</th>\n",
       "      <td>3</td>\n",
       "      <td>dsgdb9nsd_000001</td>\n",
       "      <td>1</td>\n",
       "      <td>4</td>\n",
       "      <td>2JHH</td>\n",
       "      <td>-11.2543</td>\n",
       "      <td>1.00794</td>\n",
       "      <td>1</td>\n",
       "      <td>1.007825</td>\n",
       "      <td>1</td>\n",
       "      <td>0</td>\n",
       "      <td>1.00794</td>\n",
       "      <td>1</td>\n",
       "      <td>1.007825</td>\n",
       "      <td>1</td>\n",
       "      <td>0</td>\n",
       "      <td>NaN</td>\n",
       "      <td>NaN</td>\n",
       "      <td>1.783157</td>\n",
       "      <td>False</td>\n",
       "      <td>0</td>\n",
       "      <td>2</td>\n",
       "      <td>3.0</td>\n",
       "      <td>4.0</td>\n",
       "      <td>NaN</td>\n",
       "      <td>NaN</td>\n",
       "      <td>NaN</td>\n",
       "      <td>NaN</td>\n",
       "      <td>NaN</td>\n",
       "      <td>NaN</td>\n",
       "      <td>0</td>\n",
       "      <td>3</td>\n",
       "      <td>2.0</td>\n",
       "      <td>1.0</td>\n",
       "      <td>NaN</td>\n",
       "      <td>NaN</td>\n",
       "      <td>NaN</td>\n",
       "      <td>NaN</td>\n",
       "      <td>NaN</td>\n",
       "      <td>NaN</td>\n",
       "      <td>False</td>\n",
       "      <td>1.091953</td>\n",
       "      <td>True</td>\n",
       "      <td>1.78312</td>\n",
       "      <td>False</td>\n",
       "      <td>1.783147</td>\n",
       "      <td>False</td>\n",
       "      <td>1.783157</td>\n",
       "      <td>False</td>\n",
       "      <td>NaN</td>\n",
       "      <td>NaN</td>\n",
       "      <td>NaN</td>\n",
       "      <td>NaN</td>\n",
       "      <td>NaN</td>\n",
       "      <td>NaN</td>\n",
       "      <td>NaN</td>\n",
       "      <td>NaN</td>\n",
       "      <td>NaN</td>\n",
       "      <td>NaN</td>\n",
       "      <td>NaN</td>\n",
       "      <td>NaN</td>\n",
       "    </tr>\n",
       "    <tr>\n",
       "      <th>4</th>\n",
       "      <td>4</td>\n",
       "      <td>dsgdb9nsd_000001</td>\n",
       "      <td>2</td>\n",
       "      <td>0</td>\n",
       "      <td>1JHC</td>\n",
       "      <td>84.8074</td>\n",
       "      <td>1.00794</td>\n",
       "      <td>1</td>\n",
       "      <td>1.007825</td>\n",
       "      <td>1</td>\n",
       "      <td>0</td>\n",
       "      <td>12.01070</td>\n",
       "      <td>6</td>\n",
       "      <td>12.000000</td>\n",
       "      <td>4</td>\n",
       "      <td>0</td>\n",
       "      <td>NaN</td>\n",
       "      <td>NaN</td>\n",
       "      <td>1.091952</td>\n",
       "      <td>True</td>\n",
       "      <td>0</td>\n",
       "      <td>1</td>\n",
       "      <td>4.0</td>\n",
       "      <td>3.0</td>\n",
       "      <td>NaN</td>\n",
       "      <td>NaN</td>\n",
       "      <td>NaN</td>\n",
       "      <td>NaN</td>\n",
       "      <td>NaN</td>\n",
       "      <td>NaN</td>\n",
       "      <td>3</td>\n",
       "      <td>4</td>\n",
       "      <td>2.0</td>\n",
       "      <td>1.0</td>\n",
       "      <td>NaN</td>\n",
       "      <td>NaN</td>\n",
       "      <td>NaN</td>\n",
       "      <td>NaN</td>\n",
       "      <td>NaN</td>\n",
       "      <td>NaN</td>\n",
       "      <td>True</td>\n",
       "      <td>1.091952</td>\n",
       "      <td>True</td>\n",
       "      <td>1.78312</td>\n",
       "      <td>False</td>\n",
       "      <td>1.783148</td>\n",
       "      <td>False</td>\n",
       "      <td>1.783158</td>\n",
       "      <td>False</td>\n",
       "      <td>NaN</td>\n",
       "      <td>NaN</td>\n",
       "      <td>NaN</td>\n",
       "      <td>NaN</td>\n",
       "      <td>NaN</td>\n",
       "      <td>NaN</td>\n",
       "      <td>NaN</td>\n",
       "      <td>NaN</td>\n",
       "      <td>NaN</td>\n",
       "      <td>NaN</td>\n",
       "      <td>NaN</td>\n",
       "      <td>NaN</td>\n",
       "    </tr>\n",
       "  </tbody>\n",
       "</table>\n",
       "</div>"
      ],
      "text/plain": [
       "   id     molecule_name  atom_index_0  atom_index_1  type  ...  is_bond_8th_closest_to_0  distance_9th_closest_to_0  is_bond_9th_closest_to_0  distance_10th_closest_to_0  is_bond_10th_closest_to_0\n",
       "0   0  dsgdb9nsd_000001             1             0  1JHC  ...                       NaN                        NaN                       NaN                         NaN                        NaN\n",
       "1   1  dsgdb9nsd_000001             1             2  2JHH  ...                       NaN                        NaN                       NaN                         NaN                        NaN\n",
       "2   2  dsgdb9nsd_000001             1             3  2JHH  ...                       NaN                        NaN                       NaN                         NaN                        NaN\n",
       "3   3  dsgdb9nsd_000001             1             4  2JHH  ...                       NaN                        NaN                       NaN                         NaN                        NaN\n",
       "4   4  dsgdb9nsd_000001             2             0  1JHC  ...                       NaN                        NaN                       NaN                         NaN                        NaN\n",
       "\n",
       "[5 rows x 61 columns]"
      ]
     },
     "execution_count": 22,
     "metadata": {},
     "output_type": "execute_result"
    }
   ],
   "source": [
    "tt.head()"
   ]
  },
  {
   "cell_type": "code",
   "execution_count": 23,
   "metadata": {},
   "outputs": [
    {
     "name": "stdout",
     "output_type": "stream",
     "text": [
      "CPU times: user 2min 2s, sys: 1min 7s, total: 3min 10s\n",
      "Wall time: 3min 10s\n"
     ]
    }
   ],
   "source": [
    "%%time\n",
    "tt = pd.merge(tt,\n",
    "              distances,\n",
    "              left_on=['molecule_name', 'atom_index_1', 'closest_to_1'],\n",
    "              right_on=['molecule_name', 'left_atom_idx', 'right_atom_idx'],\n",
    "              suffixes=('', '_closest_to_1'),\n",
    "              how='left') \\\n",
    "    .drop(['left_atom_idx', 'right_atom_idx'], axis=1)\n",
    "tt = pd.merge(tt,\n",
    "              distances,\n",
    "              left_on=['molecule_name', 'atom_index_1', '2nd_closest_to_1'],\n",
    "              right_on=['molecule_name', 'left_atom_idx', 'right_atom_idx'],\n",
    "              suffixes=('', '_2nd_closest_to_1'),\n",
    "              how='left') \\\n",
    "    .drop(['left_atom_idx', 'right_atom_idx'], axis=1)\n",
    "tt = pd.merge(tt,\n",
    "              distances,\n",
    "              left_on=['molecule_name', 'atom_index_1', '3rd_closest_to_1'],\n",
    "              right_on=['molecule_name', 'left_atom_idx', 'right_atom_idx'],\n",
    "              suffixes=('', '_3rd_closest_to_1'),\n",
    "              how='left') \\\n",
    "    .drop(['left_atom_idx', 'right_atom_idx'], axis=1)\n",
    "tt = pd.merge(tt,\n",
    "              distances,\n",
    "              left_on=['molecule_name', 'atom_index_1', '4th_closest_to_1'],\n",
    "              right_on=['molecule_name', 'left_atom_idx', 'right_atom_idx'],\n",
    "              suffixes=('', '_4th_closest_to_1'),\n",
    "              how='left') \\\n",
    "    .drop(['left_atom_idx', 'right_atom_idx'], axis=1)"
   ]
  },
  {
   "cell_type": "code",
   "execution_count": 24,
   "metadata": {},
   "outputs": [
    {
     "name": "stdout",
     "output_type": "stream",
     "text": [
      "CPU times: user 2min, sys: 1min 1s, total: 3min 1s\n",
      "Wall time: 3min 2s\n"
     ]
    }
   ],
   "source": [
    "%%time\n",
    "tt = pd.merge(tt,\n",
    "              distances,\n",
    "              left_on=['molecule_name', 'atom_index_1', '5th_closest_to_1'],\n",
    "              right_on=['molecule_name', 'left_atom_idx', 'right_atom_idx'],\n",
    "              suffixes=('', '_5th_closest_to_1'),\n",
    "              how='left') \\\n",
    "    .drop(['left_atom_idx', 'right_atom_idx'], axis=1)\n",
    "tt = pd.merge(tt,\n",
    "              distances,\n",
    "              left_on=['molecule_name', 'atom_index_1', '6th_closest_to_1'],\n",
    "              right_on=['molecule_name', 'left_atom_idx', 'right_atom_idx'],\n",
    "              suffixes=('', '_6th_closest_to_1'),\n",
    "              how='left') \\\n",
    "    .drop(['left_atom_idx', 'right_atom_idx'], axis=1)\n",
    "tt = pd.merge(tt,\n",
    "              distances,\n",
    "              left_on=['molecule_name', 'atom_index_1', '7th_closest_to_1'],\n",
    "              right_on=['molecule_name', 'left_atom_idx', 'right_atom_idx'],\n",
    "              suffixes=('', '_7th_closest_to_1'),\n",
    "              how='left') \\\n",
    "    .drop(['left_atom_idx', 'right_atom_idx'], axis=1)"
   ]
  },
  {
   "cell_type": "code",
   "execution_count": 25,
   "metadata": {},
   "outputs": [
    {
     "name": "stdout",
     "output_type": "stream",
     "text": [
      "CPU times: user 2min 28s, sys: 1min 11s, total: 3min 39s\n",
      "Wall time: 3min 39s\n"
     ]
    }
   ],
   "source": [
    "%%time\n",
    "tt = pd.merge(tt,\n",
    "              distances,\n",
    "              left_on=['molecule_name', 'atom_index_1', '8th_closest_to_1'],\n",
    "              right_on=['molecule_name', 'left_atom_idx', 'right_atom_idx'],\n",
    "              suffixes=('', '_8th_closest_to_1'),\n",
    "              how='left') \\\n",
    "    .drop(['left_atom_idx', 'right_atom_idx'], axis=1)\n",
    "tt = pd.merge(tt,\n",
    "              distances,\n",
    "              left_on=['molecule_name', 'atom_index_1', '9th_closest_to_1'],\n",
    "              right_on=['molecule_name', 'left_atom_idx', 'right_atom_idx'],\n",
    "              suffixes=('', '_9th_closest_to_1'),\n",
    "              how='left') \\\n",
    "    .drop(['left_atom_idx', 'right_atom_idx'], axis=1)\n",
    "tt = pd.merge(tt,\n",
    "              distances,\n",
    "              left_on=['molecule_name', 'atom_index_1', '10th_closest_to_1'],\n",
    "              right_on=['molecule_name', 'left_atom_idx', 'right_atom_idx'],\n",
    "              suffixes=('', '_10th_closest_to_1'),\n",
    "              how='left') \\\n",
    "    .drop(['left_atom_idx', 'right_atom_idx'], axis=1)\n",
    "tt.shape"
   ]
  },
  {
   "cell_type": "markdown",
   "metadata": {},
   "source": [
    "# Atom Details of Neighbors"
   ]
  },
  {
   "cell_type": "code",
   "execution_count": 26,
   "metadata": {},
   "outputs": [
    {
     "name": "stdout",
     "output_type": "stream",
     "text": [
      "CPU times: user 45.6 s, sys: 26.6 s, total: 1min 12s\n",
      "Wall time: 1min 12s\n"
     ]
    }
   ],
   "source": [
    "%%time\n",
    "tt = pd.merge(tt,\n",
    "         atom_details,\n",
    "         left_on=['molecule_name','closest_to_0'],\n",
    "         right_on=['molecule_name','atom_idx'],\n",
    "         how='left') \\\n",
    "    .drop(['atom_idx'], axis=1) \\\n",
    "    .rename(columns={'atomic_number':'closest_to_0_atomic_number',\n",
    "                     'atomic_mass':'closest_to_0_atomic_mass',\n",
    "                     'valence':'closest_to_0_valence',\n",
    "                     'spin_multiplicity':'closest_to_0_spin_multiplicity',\n",
    "                     'exact_mass': 'closest_to_0_exact_mass'})\n",
    "tt.shape"
   ]
  },
  {
   "cell_type": "code",
   "execution_count": 27,
   "metadata": {},
   "outputs": [
    {
     "name": "stdout",
     "output_type": "stream",
     "text": [
      "CPU times: user 47.3 s, sys: 30.1 s, total: 1min 17s\n",
      "Wall time: 1min 17s\n"
     ]
    }
   ],
   "source": [
    "%%time\n",
    "tt = pd.merge(tt,\n",
    "         atom_details,\n",
    "         left_on=['molecule_name','2nd_closest_to_0'],\n",
    "         right_on=['molecule_name','atom_idx'],\n",
    "         how='left') \\\n",
    "    .drop(['atom_idx'], axis=1) \\\n",
    "    .rename(columns={'atomic_number':'2nd_closest_to_0_atomic_number',\n",
    "                     'atomic_mass':'2nd_closest_to_0_atomic_mass',\n",
    "                     'valence':'2nd_closest_to_0_valence',\n",
    "                     'spin_multiplicity':'2nd_closest_to_0_spin_multiplicity',\n",
    "                     'exact_mass': '2nd_closest_to_0_exact_mass'})\n",
    "tt.shape"
   ]
  },
  {
   "cell_type": "code",
   "execution_count": 28,
   "metadata": {},
   "outputs": [
    {
     "name": "stdout",
     "output_type": "stream",
     "text": [
      "CPU times: user 50.2 s, sys: 34.8 s, total: 1min 24s\n",
      "Wall time: 1min 25s\n"
     ]
    }
   ],
   "source": [
    "%%time\n",
    "tt = pd.merge(tt,\n",
    "         atom_details,\n",
    "         left_on=['molecule_name','3rd_closest_to_0'],\n",
    "         right_on=['molecule_name','atom_idx'],\n",
    "         how='left') \\\n",
    "    .drop(['atom_idx'], axis=1) \\\n",
    "    .rename(columns={'atomic_number':'3rd_closest_to_0_atomic_number',\n",
    "                     'atomic_mass':'3rd_closest_to_0_atomic_mass',\n",
    "                     'valence':'3rd_closest_to_0_valence',\n",
    "                     'spin_multiplicity':'3rd_closest_to_0_spin_multiplicity',\n",
    "                     'exact_mass': '3rd_closest_to_0_exact_mass'})\n",
    "tt.shape"
   ]
  },
  {
   "cell_type": "code",
   "execution_count": 29,
   "metadata": {},
   "outputs": [
    {
     "name": "stdout",
     "output_type": "stream",
     "text": [
      "CPU times: user 52.1 s, sys: 39.6 s, total: 1min 31s\n",
      "Wall time: 1min 31s\n"
     ]
    }
   ],
   "source": [
    "%%time\n",
    "tt = pd.merge(tt,\n",
    "         atom_details,\n",
    "         left_on=['molecule_name','4th_closest_to_0'],\n",
    "         right_on=['molecule_name','atom_idx'],\n",
    "         how='left') \\\n",
    "    .drop(['atom_idx'], axis=1) \\\n",
    "    .rename(columns={'atomic_number':'4th_closest_to_0_atomic_number',\n",
    "                     'atomic_mass':'4th_closest_to_0_atomic_mass',\n",
    "                     'valence':'4th_closest_to_0_valence',\n",
    "                     'spin_multiplicity':'4th_closest_to_0_spin_multiplicity',\n",
    "                     'exact_mass': '4th_closest_to_0_exact_mass'})\n",
    "tt.shape"
   ]
  },
  {
   "cell_type": "code",
   "execution_count": 30,
   "metadata": {},
   "outputs": [
    {
     "name": "stdout",
     "output_type": "stream",
     "text": [
      "CPU times: user 54.9 s, sys: 43.9 s, total: 1min 38s\n",
      "Wall time: 1min 38s\n"
     ]
    }
   ],
   "source": [
    "%%time\n",
    "tt = pd.merge(tt,\n",
    "         atom_details,\n",
    "         left_on=['molecule_name','5th_closest_to_0'],\n",
    "         right_on=['molecule_name','atom_idx'],\n",
    "         how='left') \\\n",
    "    .drop(['atom_idx'], axis=1) \\\n",
    "    .rename(columns={'atomic_number':'5th_closest_to_0_atomic_number',\n",
    "                     'atomic_mass':'5th_closest_to_0_atomic_mass',\n",
    "                     'valence':'5th_closest_to_0_valence',\n",
    "                     'spin_multiplicity':'5th_closest_to_0_spin_multiplicity',\n",
    "                     'exact_mass': '5th_closest_to_0_exact_mass'})"
   ]
  },
  {
   "cell_type": "code",
   "execution_count": null,
   "metadata": {},
   "outputs": [],
   "source": [
    "%%time\n",
    "tt = pd.merge(tt,\n",
    "         atom_details,\n",
    "         left_on=['molecule_name','6th_closest_to_0'],\n",
    "         right_on=['molecule_name','atom_idx'],\n",
    "         how='left') \\\n",
    "    .drop(['atom_idx'], axis=1) \\\n",
    "    .rename(columns={'atomic_number':'6th_closest_to_0_atomic_number',\n",
    "                     'atomic_mass':'6th_closest_to_0_atomic_mass',\n",
    "                     'valence':'6th_closest_to_0_valence',\n",
    "                     'spin_multiplicity':'6th_closest_to_0_spin_multiplicity',\n",
    "                     'exact_mass': '6th_closest_to_0_exact_mass'})\n",
    "tt = pd.merge(tt,\n",
    "         atom_details,\n",
    "         left_on=['molecule_name','7th_closest_to_0'],\n",
    "         right_on=['molecule_name','atom_idx'],\n",
    "         how='left') \\\n",
    "    .drop(['atom_idx'], axis=1) \\\n",
    "    .rename(columns={'atomic_number':'7th_closest_to_0_atomic_number',\n",
    "                     'atomic_mass':'7th_closest_to_0_atomic_mass',\n",
    "                     'valence':'7th_closest_to_0_valence',\n",
    "                     'spin_multiplicity':'7th_closest_to_0_spin_multiplicity',\n",
    "                     'exact_mass': '7th_closest_to_0_exact_mass'})\n",
    "tt = pd.merge(tt,\n",
    "         atom_details,\n",
    "         left_on=['molecule_name','8th_closest_to_0'],\n",
    "         right_on=['molecule_name','atom_idx'],\n",
    "         how='left') \\\n",
    "    .drop(['atom_idx'], axis=1) \\\n",
    "    .rename(columns={'atomic_number':'8th_closest_to_0_atomic_number',\n",
    "                     'atomic_mass':'8th_closest_to_0_atomic_mass',\n",
    "                     'valence':'8th_closest_to_0_valence',\n",
    "                     'spin_multiplicity':'8th_closest_to_0_spin_multiplicity',\n",
    "                     'exact_mass': '8th_closest_to_0_exact_mass'})\n",
    "tt = pd.merge(tt,\n",
    "         atom_details,\n",
    "         left_on=['molecule_name','9th_closest_to_0'],\n",
    "         right_on=['molecule_name','atom_idx'],\n",
    "         how='left') \\\n",
    "    .drop(['atom_idx'], axis=1) \\\n",
    "    .rename(columns={'atomic_number':'9th_closest_to_0_atomic_number',\n",
    "                     'atomic_mass':'9th_closest_to_0_atomic_mass',\n",
    "                     'valence':'9th_closest_to_0_valence',\n",
    "                     'spin_multiplicity':'9th_closest_to_0_spin_multiplicity',\n",
    "                     'exact_mass': '9th_closest_to_0_exact_mass'})\n",
    "tt = pd.merge(tt,\n",
    "         atom_details,\n",
    "         left_on=['molecule_name','10th_closest_to_0'],\n",
    "         right_on=['molecule_name','atom_idx'],\n",
    "         how='left') \\\n",
    "    .drop(['atom_idx'], axis=1) \\\n",
    "    .rename(columns={'atomic_number':'10th_closest_to_0_atomic_number',\n",
    "                     'atomic_mass':'10th_closest_to_0_atomic_mass',\n",
    "                     'valence':'10th_closest_to_0_valence',\n",
    "                     'spin_multiplicity':'10th_closest_to_0_spin_multiplicity',\n",
    "                     'exact_mass': '10th_closest_to_0_exact_mass'})"
   ]
  },
  {
   "cell_type": "code",
   "execution_count": null,
   "metadata": {},
   "outputs": [],
   "source": [
    "%%time\n",
    "tt = pd.merge(tt,\n",
    "         atom_details,\n",
    "         left_on=['molecule_name','closest_to_1'],\n",
    "         right_on=['molecule_name','atom_idx'],\n",
    "         how='left') \\\n",
    "    .drop(['atom_idx'], axis=1) \\\n",
    "    .rename(columns={'atomic_number':'closest_to_1_atomic_number',\n",
    "                     'atomic_mass':'closest_to_1_atomic_mass',\n",
    "                     'valence':'closest_to_1_valence',\n",
    "                     'spin_multiplicity':'closest_to_1_spin_multiplicity',\n",
    "                     'exact_mass': 'closest_to_1_exact_mass'})\n",
    "tt = pd.merge(tt,\n",
    "         atom_details,\n",
    "         left_on=['molecule_name','2nd_closest_to_1'],\n",
    "         right_on=['molecule_name','atom_idx'],\n",
    "         how='left') \\\n",
    "    .drop(['atom_idx'], axis=1) \\\n",
    "    .rename(columns={'atomic_number':'2nd_closest_to_1_atomic_number',\n",
    "                     'atomic_mass':'2nd_closest_to_1_atomic_mass',\n",
    "                     'valence':'2nd_closest_to_1_valence',\n",
    "                     'spin_multiplicity':'2nd_closest_to_1_spin_multiplicity',\n",
    "                     'exact_mass': '2nd_closest_to_1_exact_mass'})\n",
    "tt = pd.merge(tt,\n",
    "         atom_details,\n",
    "         left_on=['molecule_name','3rd_closest_to_1'],\n",
    "         right_on=['molecule_name','atom_idx'],\n",
    "         how='left') \\\n",
    "    .drop(['atom_idx'], axis=1) \\\n",
    "    .rename(columns={'atomic_number':'3rd_closest_to_1_atomic_number',\n",
    "                     'atomic_mass':'3rd_closest_to_1_atomic_mass',\n",
    "                     'valence':'3rd_closest_to_1_valence',\n",
    "                     'spin_multiplicity':'3rd_closest_to_1_spin_multiplicity',\n",
    "                     'exact_mass': '3rd_closest_to_1_exact_mass'})\n",
    "tt = pd.merge(tt,\n",
    "         atom_details,\n",
    "         left_on=['molecule_name','4th_closest_to_1'],\n",
    "         right_on=['molecule_name','atom_idx'],\n",
    "         how='left') \\\n",
    "    .drop(['atom_idx'], axis=1) \\\n",
    "    .rename(columns={'atomic_number':'4th_closest_to_1_atomic_number',\n",
    "                     'atomic_mass':'4th_closest_to_1_atomic_mass',\n",
    "                     'valence':'4th_closest_to_1_valence',\n",
    "                     'spin_multiplicity':'4th_closest_to_1_spin_multiplicity',\n",
    "                     'exact_mass': '4th_closest_to_1_exact_mass'})\n",
    "tt = pd.merge(tt,\n",
    "         atom_details,\n",
    "         left_on=['molecule_name','5th_closest_to_1'],\n",
    "         right_on=['molecule_name','atom_idx'],\n",
    "         how='left') \\\n",
    "    .drop(['atom_idx'], axis=1) \\\n",
    "    .rename(columns={'atomic_number':'5th_closest_to_1_atomic_number',\n",
    "                     'atomic_mass':'5th_closest_to_1_atomic_mass',\n",
    "                     'valence':'5th_closest_to_1_valence',\n",
    "                     'spin_multiplicity':'5th_closest_to_1_spin_multiplicity',\n",
    "                     'exact_mass': '5th_closest_to_1_exact_mass'})\n",
    "tt = pd.merge(tt,\n",
    "         atom_details,\n",
    "         left_on=['molecule_name','6th_closest_to_1'],\n",
    "         right_on=['molecule_name','atom_idx'],\n",
    "         how='left') \\\n",
    "    .drop(['atom_idx'], axis=1) \\\n",
    "    .rename(columns={'atomic_number':'6th_closest_to_1_atomic_number',\n",
    "                     'atomic_mass':'6th_closest_to_1_atomic_mass',\n",
    "                     'valence':'6th_closest_to_1_valence',\n",
    "                     'spin_multiplicity':'6th_closest_to_1_spin_multiplicity',\n",
    "                     'exact_mass': '6th_closest_to_1_exact_mass'})\n",
    "tt = pd.merge(tt,\n",
    "         atom_details,\n",
    "         left_on=['molecule_name','7th_closest_to_1'],\n",
    "         right_on=['molecule_name','atom_idx'],\n",
    "         how='left') \\\n",
    "    .drop(['atom_idx'], axis=1) \\\n",
    "    .rename(columns={'atomic_number':'7th_closest_to_1_atomic_number',\n",
    "                     'atomic_mass':'7th_closest_to_1_atomic_mass',\n",
    "                     'valence':'7th_closest_to_1_valence',\n",
    "                     'spin_multiplicity':'7th_closest_to_1_spin_multiplicity',\n",
    "                     'exact_mass': '7th_closest_to_1_exact_mass'})\n",
    "tt = pd.merge(tt,\n",
    "         atom_details,\n",
    "         left_on=['molecule_name','8th_closest_to_1'],\n",
    "         right_on=['molecule_name','atom_idx'],\n",
    "         how='left') \\\n",
    "    .drop(['atom_idx'], axis=1) \\\n",
    "    .rename(columns={'atomic_number':'8th_closest_to_1_atomic_number',\n",
    "                     'atomic_mass':'8th_closest_to_1_atomic_mass',\n",
    "                     'valence':'8th_closest_to_1_valence',\n",
    "                     'spin_multiplicity':'8th_closest_to_1_spin_multiplicity',\n",
    "                     'exact_mass': '8th_closest_to_1_exact_mass'})\n",
    "tt = pd.merge(tt,\n",
    "         atom_details,\n",
    "         left_on=['molecule_name','9th_closest_to_1'],\n",
    "         right_on=['molecule_name','atom_idx'],\n",
    "         how='left') \\\n",
    "    .drop(['atom_idx'], axis=1) \\\n",
    "    .rename(columns={'atomic_number':'9th_closest_to_1_atomic_number',\n",
    "                     'atomic_mass':'9th_closest_to_1_atomic_mass',\n",
    "                     'valence':'9th_closest_to_1_valence',\n",
    "                     'spin_multiplicity':'9th_closest_to_1_spin_multiplicity',\n",
    "                     'exact_mass': '9th_closest_to_1_exact_mass'})\n",
    "tt = pd.merge(tt,\n",
    "         atom_details,\n",
    "         left_on=['molecule_name','10th_closest_to_1'],\n",
    "         right_on=['molecule_name','atom_idx'],\n",
    "         how='left') \\\n",
    "    .drop(['atom_idx'], axis=1) \\\n",
    "    .rename(columns={'atomic_number':'10th_closest_to_1_atomic_number',\n",
    "                     'atomic_mass':'10th_closest_to_1_atomic_mass',\n",
    "                     'valence':'10th_closest_to_1_valence',\n",
    "                     'spin_multiplicity':'10th_closest_to_1_spin_multiplicity',\n",
    "                     'exact_mass': '10th_closest_to_1_exact_mass'})"
   ]
  },
  {
   "cell_type": "markdown",
   "metadata": {},
   "source": [
    "## Torsion Details"
   ]
  },
  {
   "cell_type": "code",
   "execution_count": null,
   "metadata": {},
   "outputs": [],
   "source": [
    "%%time\n",
    "tt = pd.merge(tt,\n",
    "        torsion_details.groupby(['molecule_name','2left_atom_idx','left_atom_idx'])['torsion_angle'] \\\n",
    "                  .agg(['mean','min','max','count'])\\\n",
    "                  .reset_index(),\n",
    "        left_on=['molecule_name','atom_index_0','atom_index_1'],\n",
    "         right_on=['molecule_name','2left_atom_idx','left_atom_idx'],\n",
    "         how='left') \\\n",
    "    .drop(['2left_atom_idx','left_atom_idx'], axis=1) \\\n",
    "    .rename(columns={'mean': 'tor_ang_2leftleft_mean',\n",
    "                     'min': 'tor_ang_2leftleft_min',\n",
    "                    'max': 'tor_ang_2leftleft_max',\n",
    "                    'count': 'tor_ang_2leftleft_count'})\n",
    "tt.shape"
   ]
  },
  {
   "cell_type": "code",
   "execution_count": null,
   "metadata": {},
   "outputs": [],
   "source": [
    "%%time\n",
    "tt = pd.merge(tt,\n",
    "         torsion_details.groupby(['molecule_name','2left_atom_idx','right_atom_idx'])['torsion_angle'] \\\n",
    "                  .agg(['mean','min','max','count'])\\\n",
    "                  .reset_index(),\n",
    "         left_on=['molecule_name','atom_index_0','atom_index_1'],\n",
    "         right_on=['molecule_name','2left_atom_idx','right_atom_idx'],\n",
    "         how='left') \\\n",
    "    .drop(['2left_atom_idx','right_atom_idx'], axis=1) \\\n",
    "    .rename(columns={'mean': 'tor_ang_2leftright_mean',\n",
    "                     'min': 'tor_ang_2leftright_min',\n",
    "                     'max': 'tor_ang_2leftright_max',\n",
    "                     'count': 'tor_ang_2leftright_count'})\n",
    "tt.shape"
   ]
  },
  {
   "cell_type": "code",
   "execution_count": null,
   "metadata": {},
   "outputs": [],
   "source": [
    "molecule_details.head()"
   ]
  },
  {
   "cell_type": "code",
   "execution_count": null,
   "metadata": {},
   "outputs": [],
   "source": [
    "%%time\n",
    "tt = pd.merge(tt,\n",
    "        molecule_details.drop('num_residues', axis=1),\n",
    "         left_on=['molecule_name'],\n",
    "         right_on=['molecule_name'],\n",
    "         how='left')"
   ]
  },
  {
   "cell_type": "code",
   "execution_count": null,
   "metadata": {},
   "outputs": [],
   "source": [
    "test.head()"
   ]
  },
  {
   "cell_type": "code",
   "execution_count": null,
   "metadata": {},
   "outputs": [],
   "source": [
    "test_FE009 = tt.sort_values('id').loc[tt['scalar_coupling_constant'].isnull()].reset_index(drop=True)\n",
    "train_FE009 = tt.sort_values('id').loc[~tt['scalar_coupling_constant'].isnull()].reset_index(drop=True)"
   ]
  },
  {
   "cell_type": "code",
   "execution_count": null,
   "metadata": {},
   "outputs": [],
   "source": [
    "test_FE009.shape"
   ]
  },
  {
   "cell_type": "code",
   "execution_count": null,
   "metadata": {},
   "outputs": [],
   "source": [
    "test.shape"
   ]
  },
  {
   "cell_type": "code",
   "execution_count": null,
   "metadata": {},
   "outputs": [],
   "source": [
    "train_FE009.shape"
   ]
  },
  {
   "cell_type": "code",
   "execution_count": null,
   "metadata": {},
   "outputs": [],
   "source": [
    "train.shape"
   ]
  },
  {
   "cell_type": "code",
   "execution_count": null,
   "metadata": {},
   "outputs": [],
   "source": [
    "bool_cols = [col for col in train_FE009.columns if 'is_bond_' in col]\n",
    "test_FE009[bool_cols] = test_FE009[bool_cols].fillna(False)\n",
    "train_FE009[bool_cols] = train_FE009[bool_cols].fillna(False)"
   ]
  },
  {
   "cell_type": "code",
   "execution_count": null,
   "metadata": {},
   "outputs": [],
   "source": [
    "test_FE009.to_parquet('../data/FE009_test_pandas.parquet')"
   ]
  },
  {
   "cell_type": "code",
   "execution_count": null,
   "metadata": {},
   "outputs": [],
   "source": [
    "train_FE009.to_parquet('../data/FE009_train_pandas.parquet')"
   ]
  },
  {
   "cell_type": "code",
   "execution_count": null,
   "metadata": {},
   "outputs": [],
   "source": [
    "[col for col in test_FE009.columns]"
   ]
  },
  {
   "cell_type": "code",
   "execution_count": null,
   "metadata": {},
   "outputs": [],
   "source": []
  }
 ],
 "metadata": {
  "kernelspec": {
   "display_name": "Python 3",
   "language": "python",
   "name": "python3"
  },
  "language_info": {
   "codemirror_mode": {
    "name": "ipython",
    "version": 3
   },
   "file_extension": ".py",
   "mimetype": "text/x-python",
   "name": "python",
   "nbconvert_exporter": "python",
   "pygments_lexer": "ipython3",
   "version": "3.6.6"
  }
 },
 "nbformat": 4,
 "nbformat_minor": 2
}
