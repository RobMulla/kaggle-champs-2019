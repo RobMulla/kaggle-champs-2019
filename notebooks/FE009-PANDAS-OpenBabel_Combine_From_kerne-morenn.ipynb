{
 "cells": [
  {
   "cell_type": "markdown",
   "metadata": {},
   "source": [
    "# FE009 - More OpenBabel Features\n",
    "- Add more neighbors\n",
    "- Add weight of neightbor atoms"
   ]
  },
  {
   "cell_type": "code",
   "execution_count": 1,
   "metadata": {},
   "outputs": [],
   "source": [
    "import pandas as pd\n",
    "import matplotlib.pylab as plt"
   ]
  },
  {
   "cell_type": "code",
   "execution_count": 2,
   "metadata": {},
   "outputs": [],
   "source": [
    "import dask.dataframe as dd"
   ]
  },
  {
   "cell_type": "code",
   "execution_count": 3,
   "metadata": {},
   "outputs": [],
   "source": [
    "train = pd.read_csv('../input/train.csv')\n",
    "test = pd.read_csv('../input/test.csv')"
   ]
  },
  {
   "cell_type": "code",
   "execution_count": 4,
   "metadata": {},
   "outputs": [
    {
     "name": "stdout",
     "output_type": "stream",
     "text": [
      "CPU times: user 44.4 s, sys: 2.77 s, total: 47.1 s\n",
      "Wall time: 47.2 s\n"
     ]
    }
   ],
   "source": [
    "%%time\n",
    "angle_details = pd.read_csv('../data/openbabel/angle_details.csv')\n",
    "atom_details = pd.read_csv('../data/openbabel/atom_details.csv')\n",
    "bond_details = pd.read_csv('../data/openbabel/bond_details.csv')\n",
    "closest = pd.read_csv('../data/openbabel/closest.csv')\n",
    "distances = pd.read_csv('../data/openbabel/distances.csv')\n",
    "molecule_details = pd.read_csv('../data/openbabel/molecule_details.csv')\n",
    "torsion_details = pd.read_csv('../data/openbabel/torsion_details.csv')"
   ]
  },
  {
   "cell_type": "code",
   "execution_count": 5,
   "metadata": {},
   "outputs": [],
   "source": [
    "tt = pd.concat([train, test], axis=0, sort=False)"
   ]
  },
  {
   "cell_type": "code",
   "execution_count": 6,
   "metadata": {},
   "outputs": [
    {
     "data": {
      "text/plain": [
       "(7163689, 6)"
      ]
     },
     "execution_count": 6,
     "metadata": {},
     "output_type": "execute_result"
    }
   ],
   "source": [
    "tt.shape"
   ]
  },
  {
   "cell_type": "code",
   "execution_count": 7,
   "metadata": {},
   "outputs": [
    {
     "data": {
      "text/html": [
       "<div>\n",
       "<style scoped>\n",
       "    .dataframe tbody tr th:only-of-type {\n",
       "        vertical-align: middle;\n",
       "    }\n",
       "\n",
       "    .dataframe tbody tr th {\n",
       "        vertical-align: top;\n",
       "    }\n",
       "\n",
       "    .dataframe thead th {\n",
       "        text-align: right;\n",
       "    }\n",
       "</style>\n",
       "<table border=\"1\" class=\"dataframe\">\n",
       "  <thead>\n",
       "    <tr style=\"text-align: right;\">\n",
       "      <th></th>\n",
       "      <th>id</th>\n",
       "      <th>molecule_name</th>\n",
       "      <th>atom_index_0</th>\n",
       "      <th>atom_index_1</th>\n",
       "      <th>type</th>\n",
       "      <th>scalar_coupling_constant</th>\n",
       "    </tr>\n",
       "  </thead>\n",
       "  <tbody>\n",
       "    <tr>\n",
       "      <th>0</th>\n",
       "      <td>0</td>\n",
       "      <td>dsgdb9nsd_000001</td>\n",
       "      <td>1</td>\n",
       "      <td>0</td>\n",
       "      <td>1JHC</td>\n",
       "      <td>84.8076</td>\n",
       "    </tr>\n",
       "    <tr>\n",
       "      <th>1</th>\n",
       "      <td>1</td>\n",
       "      <td>dsgdb9nsd_000001</td>\n",
       "      <td>1</td>\n",
       "      <td>2</td>\n",
       "      <td>2JHH</td>\n",
       "      <td>-11.2570</td>\n",
       "    </tr>\n",
       "    <tr>\n",
       "      <th>2</th>\n",
       "      <td>2</td>\n",
       "      <td>dsgdb9nsd_000001</td>\n",
       "      <td>1</td>\n",
       "      <td>3</td>\n",
       "      <td>2JHH</td>\n",
       "      <td>-11.2548</td>\n",
       "    </tr>\n",
       "    <tr>\n",
       "      <th>3</th>\n",
       "      <td>3</td>\n",
       "      <td>dsgdb9nsd_000001</td>\n",
       "      <td>1</td>\n",
       "      <td>4</td>\n",
       "      <td>2JHH</td>\n",
       "      <td>-11.2543</td>\n",
       "    </tr>\n",
       "    <tr>\n",
       "      <th>4</th>\n",
       "      <td>4</td>\n",
       "      <td>dsgdb9nsd_000001</td>\n",
       "      <td>2</td>\n",
       "      <td>0</td>\n",
       "      <td>1JHC</td>\n",
       "      <td>84.8074</td>\n",
       "    </tr>\n",
       "  </tbody>\n",
       "</table>\n",
       "</div>"
      ],
      "text/plain": [
       "   id     molecule_name  atom_index_0  atom_index_1  type  scalar_coupling_constant\n",
       "0   0  dsgdb9nsd_000001             1             0  1JHC                   84.8076\n",
       "1   1  dsgdb9nsd_000001             1             2  2JHH                  -11.2570\n",
       "2   2  dsgdb9nsd_000001             1             3  2JHH                  -11.2548\n",
       "3   3  dsgdb9nsd_000001             1             4  2JHH                  -11.2543\n",
       "4   4  dsgdb9nsd_000001             2             0  1JHC                   84.8074"
      ]
     },
     "execution_count": 7,
     "metadata": {},
     "output_type": "execute_result"
    }
   ],
   "source": [
    "tt.head()"
   ]
  },
  {
   "cell_type": "markdown",
   "metadata": {},
   "source": [
    "# Atom Details"
   ]
  },
  {
   "cell_type": "code",
   "execution_count": 8,
   "metadata": {},
   "outputs": [
    {
     "data": {
      "text/html": [
       "<div>\n",
       "<style scoped>\n",
       "    .dataframe tbody tr th:only-of-type {\n",
       "        vertical-align: middle;\n",
       "    }\n",
       "\n",
       "    .dataframe tbody tr th {\n",
       "        vertical-align: top;\n",
       "    }\n",
       "\n",
       "    .dataframe thead th {\n",
       "        text-align: right;\n",
       "    }\n",
       "</style>\n",
       "<table border=\"1\" class=\"dataframe\">\n",
       "  <thead>\n",
       "    <tr style=\"text-align: right;\">\n",
       "      <th></th>\n",
       "      <th>molecule_name</th>\n",
       "      <th>atom_idx</th>\n",
       "      <th>atomic_mass</th>\n",
       "      <th>atomic_number</th>\n",
       "      <th>exact_mass</th>\n",
       "      <th>valence</th>\n",
       "      <th>spin_multiplicity</th>\n",
       "    </tr>\n",
       "  </thead>\n",
       "  <tbody>\n",
       "    <tr>\n",
       "      <th>0</th>\n",
       "      <td>dsgdb9nsd_033805</td>\n",
       "      <td>0</td>\n",
       "      <td>14.0067</td>\n",
       "      <td>7</td>\n",
       "      <td>14.003074</td>\n",
       "      <td>1</td>\n",
       "      <td>0</td>\n",
       "    </tr>\n",
       "    <tr>\n",
       "      <th>1</th>\n",
       "      <td>dsgdb9nsd_033805</td>\n",
       "      <td>1</td>\n",
       "      <td>12.0107</td>\n",
       "      <td>6</td>\n",
       "      <td>12.000000</td>\n",
       "      <td>2</td>\n",
       "      <td>0</td>\n",
       "    </tr>\n",
       "    <tr>\n",
       "      <th>2</th>\n",
       "      <td>dsgdb9nsd_033805</td>\n",
       "      <td>2</td>\n",
       "      <td>12.0107</td>\n",
       "      <td>6</td>\n",
       "      <td>12.000000</td>\n",
       "      <td>4</td>\n",
       "      <td>0</td>\n",
       "    </tr>\n",
       "    <tr>\n",
       "      <th>3</th>\n",
       "      <td>dsgdb9nsd_033805</td>\n",
       "      <td>3</td>\n",
       "      <td>12.0107</td>\n",
       "      <td>6</td>\n",
       "      <td>12.000000</td>\n",
       "      <td>4</td>\n",
       "      <td>0</td>\n",
       "    </tr>\n",
       "    <tr>\n",
       "      <th>4</th>\n",
       "      <td>dsgdb9nsd_033805</td>\n",
       "      <td>4</td>\n",
       "      <td>12.0107</td>\n",
       "      <td>6</td>\n",
       "      <td>12.000000</td>\n",
       "      <td>4</td>\n",
       "      <td>0</td>\n",
       "    </tr>\n",
       "  </tbody>\n",
       "</table>\n",
       "</div>"
      ],
      "text/plain": [
       "      molecule_name  atom_idx  atomic_mass  atomic_number  exact_mass  valence  spin_multiplicity\n",
       "0  dsgdb9nsd_033805         0      14.0067              7   14.003074        1                  0\n",
       "1  dsgdb9nsd_033805         1      12.0107              6   12.000000        2                  0\n",
       "2  dsgdb9nsd_033805         2      12.0107              6   12.000000        4                  0\n",
       "3  dsgdb9nsd_033805         3      12.0107              6   12.000000        4                  0\n",
       "4  dsgdb9nsd_033805         4      12.0107              6   12.000000        4                  0"
      ]
     },
     "execution_count": 8,
     "metadata": {},
     "output_type": "execute_result"
    }
   ],
   "source": [
    "atom_details.head()"
   ]
  },
  {
   "cell_type": "code",
   "execution_count": 9,
   "metadata": {},
   "outputs": [
    {
     "name": "stdout",
     "output_type": "stream",
     "text": [
      "CPU times: user 6.01 s, sys: 5.63 s, total: 11.6 s\n",
      "Wall time: 11.7 s\n"
     ]
    }
   ],
   "source": [
    "%%time\n",
    "tt = pd.merge(tt,\n",
    "         atom_details,\n",
    "         left_on=['molecule_name','atom_index_0'],\n",
    "         right_on=['molecule_name','atom_idx'],\n",
    "         how='left') \\\n",
    "    .drop(['atom_idx'], axis=1) \\\n",
    "    .rename(columns={'atomic_number':'atom0_atomic_number',\n",
    "                     'atomic_mass':'atom0_atomic_mass',\n",
    "                     'valence':'atom0_valence',\n",
    "                     'spin_multiplicity':'atom0_spin_multiplicity'})\n",
    "tt = pd.merge(tt,\n",
    "         atom_details,\n",
    "         left_on=['molecule_name','atom_index_1'],\n",
    "         right_on=['molecule_name','atom_idx'],\n",
    "         how='left') \\\n",
    "    .drop(['atom_idx'], axis=1) \\\n",
    "    .rename(columns={'atomic_number':'atom1_atomic_number',\n",
    "                     'atomic_mass':'atom1_atomic_mass',\n",
    "                     'valence':'atom1_valence',\n",
    "                     'spin_multiplicity':'atom1_spin_multiplicity'})\n",
    "tt.shape"
   ]
  },
  {
   "cell_type": "markdown",
   "metadata": {},
   "source": [
    "# Angles"
   ]
  },
  {
   "cell_type": "code",
   "execution_count": 10,
   "metadata": {},
   "outputs": [
    {
     "name": "stdout",
     "output_type": "stream",
     "text": [
      "CPU times: user 9.14 s, sys: 6.16 s, total: 15.3 s\n",
      "Wall time: 15.3 s\n"
     ]
    }
   ],
   "source": [
    "%%time\n",
    "tt = pd.merge(tt,\n",
    "         angle_details.groupby(['molecule_name','left_atom_idx','middle_atom_idx']).mean() \\\n",
    "              .reset_index(drop=False),\n",
    "         left_on=['molecule_name','atom_index_0','atom_index_1'],\n",
    "         right_on=['molecule_name','left_atom_idx','middle_atom_idx'],\n",
    "         how='left') \\\n",
    "    .drop(['left_atom_idx','middle_atom_idx','right_atom_idx'], axis=1) \\\n",
    "    .rename(columns={'angle':'left_middle_average_angle'})"
   ]
  },
  {
   "cell_type": "code",
   "execution_count": 11,
   "metadata": {},
   "outputs": [
    {
     "name": "stdout",
     "output_type": "stream",
     "text": [
      "CPU times: user 8.84 s, sys: 6.33 s, total: 15.2 s\n",
      "Wall time: 15.2 s\n"
     ]
    }
   ],
   "source": [
    "%%time\n",
    "tt = pd.merge(tt,\n",
    "         angle_details.groupby(['molecule_name','right_atom_idx','middle_atom_idx']).mean() \\\n",
    "              .reset_index(drop=False),\n",
    "         left_on=['molecule_name','atom_index_0','atom_index_1'],\n",
    "         right_on=['molecule_name','right_atom_idx','middle_atom_idx'],\n",
    "         how='left') \\\n",
    "    .drop(['left_atom_idx','middle_atom_idx','right_atom_idx'], axis=1) \\\n",
    "    .rename(columns={'angle':'right_middle_average_angle'})"
   ]
  },
  {
   "cell_type": "code",
   "execution_count": 12,
   "metadata": {},
   "outputs": [
    {
     "name": "stdout",
     "output_type": "stream",
     "text": [
      "CPU times: user 14.6 s, sys: 7.68 s, total: 22.3 s\n",
      "Wall time: 22.3 s\n"
     ]
    }
   ],
   "source": [
    "%%time\n",
    "tt = pd.merge(tt,\n",
    "         distances,\n",
    "         left_on=['molecule_name','atom_index_0','atom_index_1'],\n",
    "         right_on=['molecule_name','left_atom_idx','right_atom_idx'],\n",
    "         how='left')\\\n",
    "    .drop(['left_atom_idx','right_atom_idx'], axis=1)\n",
    "tt.shape"
   ]
  },
  {
   "cell_type": "markdown",
   "metadata": {},
   "source": [
    "# Closest Neighbors"
   ]
  },
  {
   "cell_type": "code",
   "execution_count": 13,
   "metadata": {},
   "outputs": [],
   "source": [
    "# Fix bug with the indexes being off by one\n",
    "if closest['closest'].min() == 1:\n",
    "    closest['atom_index'] = closest['atom_index'] - 1\n",
    "    for col in closest.columns:\n",
    "        if 'close' in col:\n",
    "            closest[col] = closest[col] - 1"
   ]
  },
  {
   "cell_type": "code",
   "execution_count": 14,
   "metadata": {},
   "outputs": [
    {
     "name": "stdout",
     "output_type": "stream",
     "text": [
      "CPU times: user 4.33 s, sys: 5.82 s, total: 10.1 s\n",
      "Wall time: 10.2 s\n"
     ]
    }
   ],
   "source": [
    "%%time\n",
    "tt = pd.merge(tt,\n",
    "         closest[['molecule_name','atom_index','closest','2nd_closest','3rd_closest','4th_closest',\n",
    "                  '5th_closest', '6th_closest','7th_closest','8th_closest','9th_closest','10th_closest']],\n",
    "        left_on=['molecule_name','atom_index_0'],\n",
    "        right_on=['molecule_name','atom_index'],\n",
    "        how='left') \\\n",
    "    .drop(['atom_index'], axis=1) \\\n",
    "    .rename(columns={'closest':'closest_to_0',\n",
    "                     '2nd_closest':'2nd_closest_to_0',\n",
    "                     '3rd_closest':'3rd_closest_to_0',\n",
    "                     '4th_closest':'4th_closest_to_0',\n",
    "                     '5th_closest':'5th_closest_to_0',\n",
    "                     '6th_closest':'6th_closest_to_0',\n",
    "                     '7th_closest':'7th_closest_to_0',\n",
    "                     '8th_closest':'8th_closest_to_0',\n",
    "                     '9th_closest':'9th_closest_to_0',\n",
    "                     '10th_closest':'10th_closest_to_0'})"
   ]
  },
  {
   "cell_type": "code",
   "execution_count": 15,
   "metadata": {},
   "outputs": [
    {
     "name": "stdout",
     "output_type": "stream",
     "text": [
      "CPU times: user 6 s, sys: 9.43 s, total: 15.4 s\n",
      "Wall time: 15.5 s\n"
     ]
    }
   ],
   "source": [
    "%%time\n",
    "tt = pd.merge(tt,\n",
    "         closest[['molecule_name','atom_index','closest','2nd_closest','3rd_closest','4th_closest',\n",
    "                  '5th_closest', '6th_closest','7th_closest','8th_closest','9th_closest','10th_closest']],\n",
    "        left_on=['molecule_name','atom_index_1'],\n",
    "        right_on=['molecule_name','atom_index'],\n",
    "        how='left') \\\n",
    "    .drop(['atom_index'], axis=1) \\\n",
    "    .rename(columns={'closest':'closest_to_1',\n",
    "                     '2nd_closest':'2nd_closest_to_1',\n",
    "                     '3rd_closest':'3rd_closest_to_1',\n",
    "                     '4th_closest':'4th_closest_to_1',\n",
    "                     '5th_closest':'5th_closest_to_1',\n",
    "                     '6th_closest':'6th_closest_to_1',\n",
    "                     '7th_closest':'7th_closest_to_1',\n",
    "                     '8th_closest':'8th_closest_to_1',\n",
    "                     '9th_closest':'9th_closest_to_1',\n",
    "                     '10th_closest':'10th_closest_to_1'})"
   ]
  },
  {
   "cell_type": "code",
   "execution_count": 16,
   "metadata": {},
   "outputs": [
    {
     "data": {
      "text/plain": [
       "(7163689, 40)"
      ]
     },
     "execution_count": 16,
     "metadata": {},
     "output_type": "execute_result"
    }
   ],
   "source": [
    "tt.shape"
   ]
  },
  {
   "cell_type": "code",
   "execution_count": 17,
   "metadata": {},
   "outputs": [
    {
     "data": {
      "text/plain": [
       "(7163689, 41)"
      ]
     },
     "execution_count": 17,
     "metadata": {},
     "output_type": "execute_result"
    }
   ],
   "source": [
    "tt['is_closest_pair'] = tt['closest_to_0'] == tt['atom_index_1']\n",
    "tt.shape"
   ]
  },
  {
   "cell_type": "markdown",
   "metadata": {},
   "source": [
    "# Distance to neighbors"
   ]
  },
  {
   "cell_type": "markdown",
   "metadata": {},
   "source": [
    "## To atom0"
   ]
  },
  {
   "cell_type": "code",
   "execution_count": 18,
   "metadata": {},
   "outputs": [
    {
     "name": "stdout",
     "output_type": "stream",
     "text": [
      "CPU times: user 16.9 s, sys: 12.2 s, total: 29.1 s\n",
      "Wall time: 29.2 s\n"
     ]
    }
   ],
   "source": [
    "%%time\n",
    "tt = pd.merge(tt,\n",
    "        distances,\n",
    "        left_on=['molecule_name','atom_index_0','closest_to_0'],\n",
    "        right_on=['molecule_name','left_atom_idx','right_atom_idx'],\n",
    "        suffixes=('','_closest_to_0'),\n",
    "             how='left') \\\n",
    "    .drop(['left_atom_idx','right_atom_idx'], axis=1)"
   ]
  },
  {
   "cell_type": "code",
   "execution_count": 19,
   "metadata": {},
   "outputs": [
    {
     "name": "stdout",
     "output_type": "stream",
     "text": [
      "CPU times: user 17.6 s, sys: 11.6 s, total: 29.1 s\n",
      "Wall time: 29.2 s\n"
     ]
    }
   ],
   "source": [
    "%%time\n",
    "tt = pd.merge(tt,\n",
    "        distances,\n",
    "        left_on=['molecule_name','atom_index_0','2nd_closest_to_0'],\n",
    "        right_on=['molecule_name','left_atom_idx','right_atom_idx'],\n",
    "        suffixes=('','_2nd_closest_to_0'),\n",
    "             how='left') \\\n",
    "    .drop(['left_atom_idx','right_atom_idx'], axis=1)"
   ]
  },
  {
   "cell_type": "code",
   "execution_count": 20,
   "metadata": {},
   "outputs": [
    {
     "name": "stdout",
     "output_type": "stream",
     "text": [
      "CPU times: user 1min 56s, sys: 1min 12s, total: 3min 8s\n",
      "Wall time: 3min 9s\n"
     ]
    }
   ],
   "source": [
    "%%time\n",
    "tt = pd.merge(tt,\n",
    "        distances,\n",
    "        left_on=['molecule_name','atom_index_0','3rd_closest_to_0'],\n",
    "        right_on=['molecule_name','left_atom_idx','right_atom_idx'],\n",
    "        suffixes=('','_3rd_closest_to_0'),\n",
    "             how='left') \\\n",
    "    .drop(['left_atom_idx','right_atom_idx'], axis=1)\n",
    "tt = pd.merge(tt,\n",
    "        distances,\n",
    "        left_on=['molecule_name','atom_index_0','4th_closest_to_0'],\n",
    "        right_on=['molecule_name','left_atom_idx','right_atom_idx'],\n",
    "        suffixes=('','_4th_closest_to_0'),\n",
    "             how='left') \\\n",
    "    .drop(['left_atom_idx','right_atom_idx'], axis=1)\n",
    "tt = pd.merge(tt,\n",
    "        distances,\n",
    "        left_on=['molecule_name','atom_index_0','5th_closest_to_0'],\n",
    "        right_on=['molecule_name','left_atom_idx','right_atom_idx'],\n",
    "        suffixes=('','_5th_closest_to_0'),\n",
    "             how='left') \\\n",
    "    .drop(['left_atom_idx','right_atom_idx'], axis=1)\n",
    "tt = pd.merge(tt,\n",
    "        distances,\n",
    "        left_on=['molecule_name','atom_index_0','6th_closest_to_0'],\n",
    "        right_on=['molecule_name','left_atom_idx','right_atom_idx'],\n",
    "        suffixes=('','_6th_closest_to_0'),\n",
    "             how='left') \\\n",
    "    .drop(['left_atom_idx','right_atom_idx'], axis=1)\n",
    "tt = pd.merge(tt,\n",
    "        distances,\n",
    "        left_on=['molecule_name','atom_index_0','7th_closest_to_0'],\n",
    "        right_on=['molecule_name','left_atom_idx','right_atom_idx'],\n",
    "        suffixes=('','_7th_closest_to_0'),\n",
    "             how='left') \\\n",
    "    .drop(['left_atom_idx','right_atom_idx'], axis=1)"
   ]
  },
  {
   "cell_type": "code",
   "execution_count": 21,
   "metadata": {},
   "outputs": [
    {
     "name": "stdout",
     "output_type": "stream",
     "text": [
      "CPU times: user 1min 27s, sys: 58.8 s, total: 2min 26s\n",
      "Wall time: 2min 32s\n"
     ]
    }
   ],
   "source": [
    "%%time\n",
    "tt = pd.merge(tt,\n",
    "        distances,\n",
    "        left_on=['molecule_name','atom_index_0','8th_closest_to_0'],\n",
    "        right_on=['molecule_name','left_atom_idx','right_atom_idx'],\n",
    "        suffixes=('','_8th_closest_to_0'),\n",
    "             how='left') \\\n",
    "    .drop(['left_atom_idx','right_atom_idx'], axis=1)\n",
    "tt = pd.merge(tt,\n",
    "        distances,\n",
    "        left_on=['molecule_name','atom_index_0','9th_closest_to_0'],\n",
    "        right_on=['molecule_name','left_atom_idx','right_atom_idx'],\n",
    "        suffixes=('','_9th_closest_to_0'),\n",
    "             how='left') \\\n",
    "    .drop(['left_atom_idx','right_atom_idx'], axis=1)\n",
    "tt = pd.merge(tt,\n",
    "        distances,\n",
    "        left_on=['molecule_name','atom_index_0','10th_closest_to_0'],\n",
    "        right_on=['molecule_name','left_atom_idx','right_atom_idx'],\n",
    "        suffixes=('','_10th_closest_to_0'),\n",
    "             how='left') \\\n",
    "    .drop(['left_atom_idx','right_atom_idx'], axis=1)\n",
    "tt.shape"
   ]
  },
  {
   "cell_type": "markdown",
   "metadata": {},
   "source": [
    "## To atom1"
   ]
  },
  {
   "cell_type": "code",
   "execution_count": 23,
   "metadata": {},
   "outputs": [
    {
     "data": {
      "text/plain": [
       "(7163689, 61)"
      ]
     },
     "execution_count": 23,
     "metadata": {},
     "output_type": "execute_result"
    }
   ],
   "source": [
    "tt.shape"
   ]
  },
  {
   "cell_type": "code",
   "execution_count": 24,
   "metadata": {},
   "outputs": [
    {
     "data": {
      "text/html": [
       "<div>\n",
       "<style scoped>\n",
       "    .dataframe tbody tr th:only-of-type {\n",
       "        vertical-align: middle;\n",
       "    }\n",
       "\n",
       "    .dataframe tbody tr th {\n",
       "        vertical-align: top;\n",
       "    }\n",
       "\n",
       "    .dataframe thead th {\n",
       "        text-align: right;\n",
       "    }\n",
       "</style>\n",
       "<table border=\"1\" class=\"dataframe\">\n",
       "  <thead>\n",
       "    <tr style=\"text-align: right;\">\n",
       "      <th></th>\n",
       "      <th>id</th>\n",
       "      <th>molecule_name</th>\n",
       "      <th>atom_index_0</th>\n",
       "      <th>atom_index_1</th>\n",
       "      <th>type</th>\n",
       "      <th>scalar_coupling_constant</th>\n",
       "      <th>atom0_atomic_mass</th>\n",
       "      <th>atom0_atomic_number</th>\n",
       "      <th>exact_mass_x</th>\n",
       "      <th>atom0_valence</th>\n",
       "      <th>atom0_spin_multiplicity</th>\n",
       "      <th>atom1_atomic_mass</th>\n",
       "      <th>atom1_atomic_number</th>\n",
       "      <th>exact_mass_y</th>\n",
       "      <th>atom1_valence</th>\n",
       "      <th>atom1_spin_multiplicity</th>\n",
       "      <th>left_middle_average_angle</th>\n",
       "      <th>right_middle_average_angle</th>\n",
       "      <th>distance</th>\n",
       "      <th>is_bond</th>\n",
       "      <th>closest_to_0</th>\n",
       "      <th>2nd_closest_to_0</th>\n",
       "      <th>3rd_closest_to_0</th>\n",
       "      <th>4th_closest_to_0</th>\n",
       "      <th>5th_closest_to_0</th>\n",
       "      <th>6th_closest_to_0</th>\n",
       "      <th>7th_closest_to_0</th>\n",
       "      <th>8th_closest_to_0</th>\n",
       "      <th>9th_closest_to_0</th>\n",
       "      <th>10th_closest_to_0</th>\n",
       "      <th>closest_to_1</th>\n",
       "      <th>2nd_closest_to_1</th>\n",
       "      <th>3rd_closest_to_1</th>\n",
       "      <th>4th_closest_to_1</th>\n",
       "      <th>5th_closest_to_1</th>\n",
       "      <th>6th_closest_to_1</th>\n",
       "      <th>7th_closest_to_1</th>\n",
       "      <th>8th_closest_to_1</th>\n",
       "      <th>9th_closest_to_1</th>\n",
       "      <th>10th_closest_to_1</th>\n",
       "      <th>is_closest_pair</th>\n",
       "      <th>distance_closest_to_0</th>\n",
       "      <th>is_bond_closest_to_0</th>\n",
       "      <th>distance_2nd_closest_to_0</th>\n",
       "      <th>is_bond_2nd_closest_to_0</th>\n",
       "      <th>distance_3rd_closest_to_0</th>\n",
       "      <th>is_bond_3rd_closest_to_0</th>\n",
       "      <th>distance_4th_closest_to_0</th>\n",
       "      <th>is_bond_4th_closest_to_0</th>\n",
       "      <th>distance_5th_closest_to_0</th>\n",
       "      <th>is_bond_5th_closest_to_0</th>\n",
       "      <th>distance_6th_closest_to_0</th>\n",
       "      <th>is_bond_6th_closest_to_0</th>\n",
       "      <th>distance_7th_closest_to_0</th>\n",
       "      <th>is_bond_7th_closest_to_0</th>\n",
       "      <th>distance_8th_closest_to_0</th>\n",
       "      <th>is_bond_8th_closest_to_0</th>\n",
       "      <th>distance_9th_closest_to_0</th>\n",
       "      <th>is_bond_9th_closest_to_0</th>\n",
       "      <th>distance_10th_closest_to_0</th>\n",
       "      <th>is_bond_10th_closest_to_0</th>\n",
       "    </tr>\n",
       "  </thead>\n",
       "  <tbody>\n",
       "    <tr>\n",
       "      <th>0</th>\n",
       "      <td>0</td>\n",
       "      <td>dsgdb9nsd_000001</td>\n",
       "      <td>1</td>\n",
       "      <td>0</td>\n",
       "      <td>1JHC</td>\n",
       "      <td>84.8076</td>\n",
       "      <td>1.00794</td>\n",
       "      <td>1</td>\n",
       "      <td>1.007825</td>\n",
       "      <td>1</td>\n",
       "      <td>0</td>\n",
       "      <td>12.01070</td>\n",
       "      <td>6</td>\n",
       "      <td>12.000000</td>\n",
       "      <td>4</td>\n",
       "      <td>0</td>\n",
       "      <td>NaN</td>\n",
       "      <td>NaN</td>\n",
       "      <td>1.091953</td>\n",
       "      <td>True</td>\n",
       "      <td>0</td>\n",
       "      <td>2</td>\n",
       "      <td>3.0</td>\n",
       "      <td>4.0</td>\n",
       "      <td>NaN</td>\n",
       "      <td>NaN</td>\n",
       "      <td>NaN</td>\n",
       "      <td>NaN</td>\n",
       "      <td>NaN</td>\n",
       "      <td>NaN</td>\n",
       "      <td>3</td>\n",
       "      <td>4</td>\n",
       "      <td>2.0</td>\n",
       "      <td>1.0</td>\n",
       "      <td>NaN</td>\n",
       "      <td>NaN</td>\n",
       "      <td>NaN</td>\n",
       "      <td>NaN</td>\n",
       "      <td>NaN</td>\n",
       "      <td>NaN</td>\n",
       "      <td>True</td>\n",
       "      <td>1.091953</td>\n",
       "      <td>True</td>\n",
       "      <td>1.78312</td>\n",
       "      <td>False</td>\n",
       "      <td>1.783147</td>\n",
       "      <td>False</td>\n",
       "      <td>1.783157</td>\n",
       "      <td>False</td>\n",
       "      <td>NaN</td>\n",
       "      <td>NaN</td>\n",
       "      <td>NaN</td>\n",
       "      <td>NaN</td>\n",
       "      <td>NaN</td>\n",
       "      <td>NaN</td>\n",
       "      <td>NaN</td>\n",
       "      <td>NaN</td>\n",
       "      <td>NaN</td>\n",
       "      <td>NaN</td>\n",
       "      <td>NaN</td>\n",
       "      <td>NaN</td>\n",
       "    </tr>\n",
       "    <tr>\n",
       "      <th>1</th>\n",
       "      <td>1</td>\n",
       "      <td>dsgdb9nsd_000001</td>\n",
       "      <td>1</td>\n",
       "      <td>2</td>\n",
       "      <td>2JHH</td>\n",
       "      <td>-11.2570</td>\n",
       "      <td>1.00794</td>\n",
       "      <td>1</td>\n",
       "      <td>1.007825</td>\n",
       "      <td>1</td>\n",
       "      <td>0</td>\n",
       "      <td>1.00794</td>\n",
       "      <td>1</td>\n",
       "      <td>1.007825</td>\n",
       "      <td>1</td>\n",
       "      <td>0</td>\n",
       "      <td>NaN</td>\n",
       "      <td>NaN</td>\n",
       "      <td>1.783120</td>\n",
       "      <td>False</td>\n",
       "      <td>0</td>\n",
       "      <td>2</td>\n",
       "      <td>3.0</td>\n",
       "      <td>4.0</td>\n",
       "      <td>NaN</td>\n",
       "      <td>NaN</td>\n",
       "      <td>NaN</td>\n",
       "      <td>NaN</td>\n",
       "      <td>NaN</td>\n",
       "      <td>NaN</td>\n",
       "      <td>0</td>\n",
       "      <td>1</td>\n",
       "      <td>4.0</td>\n",
       "      <td>3.0</td>\n",
       "      <td>NaN</td>\n",
       "      <td>NaN</td>\n",
       "      <td>NaN</td>\n",
       "      <td>NaN</td>\n",
       "      <td>NaN</td>\n",
       "      <td>NaN</td>\n",
       "      <td>False</td>\n",
       "      <td>1.091953</td>\n",
       "      <td>True</td>\n",
       "      <td>1.78312</td>\n",
       "      <td>False</td>\n",
       "      <td>1.783147</td>\n",
       "      <td>False</td>\n",
       "      <td>1.783157</td>\n",
       "      <td>False</td>\n",
       "      <td>NaN</td>\n",
       "      <td>NaN</td>\n",
       "      <td>NaN</td>\n",
       "      <td>NaN</td>\n",
       "      <td>NaN</td>\n",
       "      <td>NaN</td>\n",
       "      <td>NaN</td>\n",
       "      <td>NaN</td>\n",
       "      <td>NaN</td>\n",
       "      <td>NaN</td>\n",
       "      <td>NaN</td>\n",
       "      <td>NaN</td>\n",
       "    </tr>\n",
       "    <tr>\n",
       "      <th>2</th>\n",
       "      <td>2</td>\n",
       "      <td>dsgdb9nsd_000001</td>\n",
       "      <td>1</td>\n",
       "      <td>3</td>\n",
       "      <td>2JHH</td>\n",
       "      <td>-11.2548</td>\n",
       "      <td>1.00794</td>\n",
       "      <td>1</td>\n",
       "      <td>1.007825</td>\n",
       "      <td>1</td>\n",
       "      <td>0</td>\n",
       "      <td>1.00794</td>\n",
       "      <td>1</td>\n",
       "      <td>1.007825</td>\n",
       "      <td>1</td>\n",
       "      <td>0</td>\n",
       "      <td>NaN</td>\n",
       "      <td>NaN</td>\n",
       "      <td>1.783147</td>\n",
       "      <td>False</td>\n",
       "      <td>0</td>\n",
       "      <td>2</td>\n",
       "      <td>3.0</td>\n",
       "      <td>4.0</td>\n",
       "      <td>NaN</td>\n",
       "      <td>NaN</td>\n",
       "      <td>NaN</td>\n",
       "      <td>NaN</td>\n",
       "      <td>NaN</td>\n",
       "      <td>NaN</td>\n",
       "      <td>0</td>\n",
       "      <td>1</td>\n",
       "      <td>4.0</td>\n",
       "      <td>2.0</td>\n",
       "      <td>NaN</td>\n",
       "      <td>NaN</td>\n",
       "      <td>NaN</td>\n",
       "      <td>NaN</td>\n",
       "      <td>NaN</td>\n",
       "      <td>NaN</td>\n",
       "      <td>False</td>\n",
       "      <td>1.091953</td>\n",
       "      <td>True</td>\n",
       "      <td>1.78312</td>\n",
       "      <td>False</td>\n",
       "      <td>1.783147</td>\n",
       "      <td>False</td>\n",
       "      <td>1.783157</td>\n",
       "      <td>False</td>\n",
       "      <td>NaN</td>\n",
       "      <td>NaN</td>\n",
       "      <td>NaN</td>\n",
       "      <td>NaN</td>\n",
       "      <td>NaN</td>\n",
       "      <td>NaN</td>\n",
       "      <td>NaN</td>\n",
       "      <td>NaN</td>\n",
       "      <td>NaN</td>\n",
       "      <td>NaN</td>\n",
       "      <td>NaN</td>\n",
       "      <td>NaN</td>\n",
       "    </tr>\n",
       "    <tr>\n",
       "      <th>3</th>\n",
       "      <td>3</td>\n",
       "      <td>dsgdb9nsd_000001</td>\n",
       "      <td>1</td>\n",
       "      <td>4</td>\n",
       "      <td>2JHH</td>\n",
       "      <td>-11.2543</td>\n",
       "      <td>1.00794</td>\n",
       "      <td>1</td>\n",
       "      <td>1.007825</td>\n",
       "      <td>1</td>\n",
       "      <td>0</td>\n",
       "      <td>1.00794</td>\n",
       "      <td>1</td>\n",
       "      <td>1.007825</td>\n",
       "      <td>1</td>\n",
       "      <td>0</td>\n",
       "      <td>NaN</td>\n",
       "      <td>NaN</td>\n",
       "      <td>1.783157</td>\n",
       "      <td>False</td>\n",
       "      <td>0</td>\n",
       "      <td>2</td>\n",
       "      <td>3.0</td>\n",
       "      <td>4.0</td>\n",
       "      <td>NaN</td>\n",
       "      <td>NaN</td>\n",
       "      <td>NaN</td>\n",
       "      <td>NaN</td>\n",
       "      <td>NaN</td>\n",
       "      <td>NaN</td>\n",
       "      <td>0</td>\n",
       "      <td>3</td>\n",
       "      <td>2.0</td>\n",
       "      <td>1.0</td>\n",
       "      <td>NaN</td>\n",
       "      <td>NaN</td>\n",
       "      <td>NaN</td>\n",
       "      <td>NaN</td>\n",
       "      <td>NaN</td>\n",
       "      <td>NaN</td>\n",
       "      <td>False</td>\n",
       "      <td>1.091953</td>\n",
       "      <td>True</td>\n",
       "      <td>1.78312</td>\n",
       "      <td>False</td>\n",
       "      <td>1.783147</td>\n",
       "      <td>False</td>\n",
       "      <td>1.783157</td>\n",
       "      <td>False</td>\n",
       "      <td>NaN</td>\n",
       "      <td>NaN</td>\n",
       "      <td>NaN</td>\n",
       "      <td>NaN</td>\n",
       "      <td>NaN</td>\n",
       "      <td>NaN</td>\n",
       "      <td>NaN</td>\n",
       "      <td>NaN</td>\n",
       "      <td>NaN</td>\n",
       "      <td>NaN</td>\n",
       "      <td>NaN</td>\n",
       "      <td>NaN</td>\n",
       "    </tr>\n",
       "    <tr>\n",
       "      <th>4</th>\n",
       "      <td>4</td>\n",
       "      <td>dsgdb9nsd_000001</td>\n",
       "      <td>2</td>\n",
       "      <td>0</td>\n",
       "      <td>1JHC</td>\n",
       "      <td>84.8074</td>\n",
       "      <td>1.00794</td>\n",
       "      <td>1</td>\n",
       "      <td>1.007825</td>\n",
       "      <td>1</td>\n",
       "      <td>0</td>\n",
       "      <td>12.01070</td>\n",
       "      <td>6</td>\n",
       "      <td>12.000000</td>\n",
       "      <td>4</td>\n",
       "      <td>0</td>\n",
       "      <td>NaN</td>\n",
       "      <td>NaN</td>\n",
       "      <td>1.091952</td>\n",
       "      <td>True</td>\n",
       "      <td>0</td>\n",
       "      <td>1</td>\n",
       "      <td>4.0</td>\n",
       "      <td>3.0</td>\n",
       "      <td>NaN</td>\n",
       "      <td>NaN</td>\n",
       "      <td>NaN</td>\n",
       "      <td>NaN</td>\n",
       "      <td>NaN</td>\n",
       "      <td>NaN</td>\n",
       "      <td>3</td>\n",
       "      <td>4</td>\n",
       "      <td>2.0</td>\n",
       "      <td>1.0</td>\n",
       "      <td>NaN</td>\n",
       "      <td>NaN</td>\n",
       "      <td>NaN</td>\n",
       "      <td>NaN</td>\n",
       "      <td>NaN</td>\n",
       "      <td>NaN</td>\n",
       "      <td>True</td>\n",
       "      <td>1.091952</td>\n",
       "      <td>True</td>\n",
       "      <td>1.78312</td>\n",
       "      <td>False</td>\n",
       "      <td>1.783148</td>\n",
       "      <td>False</td>\n",
       "      <td>1.783158</td>\n",
       "      <td>False</td>\n",
       "      <td>NaN</td>\n",
       "      <td>NaN</td>\n",
       "      <td>NaN</td>\n",
       "      <td>NaN</td>\n",
       "      <td>NaN</td>\n",
       "      <td>NaN</td>\n",
       "      <td>NaN</td>\n",
       "      <td>NaN</td>\n",
       "      <td>NaN</td>\n",
       "      <td>NaN</td>\n",
       "      <td>NaN</td>\n",
       "      <td>NaN</td>\n",
       "    </tr>\n",
       "  </tbody>\n",
       "</table>\n",
       "</div>"
      ],
      "text/plain": [
       "   id     molecule_name  atom_index_0  atom_index_1  type  ...  is_bond_8th_closest_to_0  distance_9th_closest_to_0  is_bond_9th_closest_to_0  distance_10th_closest_to_0  is_bond_10th_closest_to_0\n",
       "0   0  dsgdb9nsd_000001             1             0  1JHC  ...                       NaN                        NaN                       NaN                         NaN                        NaN\n",
       "1   1  dsgdb9nsd_000001             1             2  2JHH  ...                       NaN                        NaN                       NaN                         NaN                        NaN\n",
       "2   2  dsgdb9nsd_000001             1             3  2JHH  ...                       NaN                        NaN                       NaN                         NaN                        NaN\n",
       "3   3  dsgdb9nsd_000001             1             4  2JHH  ...                       NaN                        NaN                       NaN                         NaN                        NaN\n",
       "4   4  dsgdb9nsd_000001             2             0  1JHC  ...                       NaN                        NaN                       NaN                         NaN                        NaN\n",
       "\n",
       "[5 rows x 61 columns]"
      ]
     },
     "execution_count": 24,
     "metadata": {},
     "output_type": "execute_result"
    }
   ],
   "source": [
    "tt.head()"
   ]
  },
  {
   "cell_type": "code",
   "execution_count": 25,
   "metadata": {},
   "outputs": [
    {
     "name": "stdout",
     "output_type": "stream",
     "text": [
      "CPU times: user 2min 3s, sys: 1min 20s, total: 3min 23s\n",
      "Wall time: 3min 24s\n"
     ]
    }
   ],
   "source": [
    "%%time\n",
    "tt = pd.merge(tt,\n",
    "              distances,\n",
    "              left_on=['molecule_name', 'atom_index_1', 'closest_to_1'],\n",
    "              right_on=['molecule_name', 'left_atom_idx', 'right_atom_idx'],\n",
    "              suffixes=('', '_closest_to_1'),\n",
    "              how='left') \\\n",
    "    .drop(['left_atom_idx', 'right_atom_idx'], axis=1)\n",
    "tt = pd.merge(tt,\n",
    "              distances,\n",
    "              left_on=['molecule_name', 'atom_index_1', '2nd_closest_to_1'],\n",
    "              right_on=['molecule_name', 'left_atom_idx', 'right_atom_idx'],\n",
    "              suffixes=('', '_2nd_closest_to_1'),\n",
    "              how='left') \\\n",
    "    .drop(['left_atom_idx', 'right_atom_idx'], axis=1)\n",
    "tt = pd.merge(tt,\n",
    "              distances,\n",
    "              left_on=['molecule_name', 'atom_index_1', '3rd_closest_to_1'],\n",
    "              right_on=['molecule_name', 'left_atom_idx', 'right_atom_idx'],\n",
    "              suffixes=('', '_3rd_closest_to_1'),\n",
    "              how='left') \\\n",
    "    .drop(['left_atom_idx', 'right_atom_idx'], axis=1)\n",
    "tt = pd.merge(tt,\n",
    "              distances,\n",
    "              left_on=['molecule_name', 'atom_index_1', '4th_closest_to_1'],\n",
    "              right_on=['molecule_name', 'left_atom_idx', 'right_atom_idx'],\n",
    "              suffixes=('', '_4th_closest_to_1'),\n",
    "              how='left') \\\n",
    "    .drop(['left_atom_idx', 'right_atom_idx'], axis=1)"
   ]
  },
  {
   "cell_type": "code",
   "execution_count": 26,
   "metadata": {},
   "outputs": [
    {
     "name": "stdout",
     "output_type": "stream",
     "text": [
      "CPU times: user 2min 3s, sys: 1min 13s, total: 3min 16s\n",
      "Wall time: 3min 16s\n"
     ]
    }
   ],
   "source": [
    "%%time\n",
    "tt = pd.merge(tt,\n",
    "              distances,\n",
    "              left_on=['molecule_name', 'atom_index_1', '5th_closest_to_1'],\n",
    "              right_on=['molecule_name', 'left_atom_idx', 'right_atom_idx'],\n",
    "              suffixes=('', '_5th_closest_to_1'),\n",
    "              how='left') \\\n",
    "    .drop(['left_atom_idx', 'right_atom_idx'], axis=1)\n",
    "tt = pd.merge(tt,\n",
    "              distances,\n",
    "              left_on=['molecule_name', 'atom_index_1', '6th_closest_to_1'],\n",
    "              right_on=['molecule_name', 'left_atom_idx', 'right_atom_idx'],\n",
    "              suffixes=('', '_6th_closest_to_1'),\n",
    "              how='left') \\\n",
    "    .drop(['left_atom_idx', 'right_atom_idx'], axis=1)\n",
    "tt = pd.merge(tt,\n",
    "              distances,\n",
    "              left_on=['molecule_name', 'atom_index_1', '7th_closest_to_1'],\n",
    "              right_on=['molecule_name', 'left_atom_idx', 'right_atom_idx'],\n",
    "              suffixes=('', '_7th_closest_to_1'),\n",
    "              how='left') \\\n",
    "    .drop(['left_atom_idx', 'right_atom_idx'], axis=1)"
   ]
  },
  {
   "cell_type": "code",
   "execution_count": 27,
   "metadata": {},
   "outputs": [
    {
     "name": "stdout",
     "output_type": "stream",
     "text": [
      "CPU times: user 2min 32s, sys: 1min 29s, total: 4min 2s\n",
      "Wall time: 4min 2s\n"
     ]
    }
   ],
   "source": [
    "%%time\n",
    "tt = pd.merge(tt,\n",
    "              distances,\n",
    "              left_on=['molecule_name', 'atom_index_1', '8th_closest_to_1'],\n",
    "              right_on=['molecule_name', 'left_atom_idx', 'right_atom_idx'],\n",
    "              suffixes=('', '_8th_closest_to_1'),\n",
    "              how='left') \\\n",
    "    .drop(['left_atom_idx', 'right_atom_idx'], axis=1)\n",
    "tt = pd.merge(tt,\n",
    "              distances,\n",
    "              left_on=['molecule_name', 'atom_index_1', '9th_closest_to_1'],\n",
    "              right_on=['molecule_name', 'left_atom_idx', 'right_atom_idx'],\n",
    "              suffixes=('', '_9th_closest_to_1'),\n",
    "              how='left') \\\n",
    "    .drop(['left_atom_idx', 'right_atom_idx'], axis=1)\n",
    "tt = pd.merge(tt,\n",
    "              distances,\n",
    "              left_on=['molecule_name', 'atom_index_1', '10th_closest_to_1'],\n",
    "              right_on=['molecule_name', 'left_atom_idx', 'right_atom_idx'],\n",
    "              suffixes=('', '_10th_closest_to_1'),\n",
    "              how='left') \\\n",
    "    .drop(['left_atom_idx', 'right_atom_idx'], axis=1)\n",
    "tt.shape"
   ]
  },
  {
   "cell_type": "markdown",
   "metadata": {},
   "source": [
    "# Atom Details of Neighbors"
   ]
  },
  {
   "cell_type": "code",
   "execution_count": 28,
   "metadata": {},
   "outputs": [
    {
     "name": "stdout",
     "output_type": "stream",
     "text": [
      "CPU times: user 46.4 s, sys: 32.6 s, total: 1min 18s\n",
      "Wall time: 1min 19s\n"
     ]
    }
   ],
   "source": [
    "%%time\n",
    "tt = pd.merge(tt,\n",
    "         atom_details,\n",
    "         left_on=['molecule_name','closest_to_0'],\n",
    "         right_on=['molecule_name','atom_idx'],\n",
    "         how='left') \\\n",
    "    .drop(['atom_idx'], axis=1) \\\n",
    "    .rename(columns={'atomic_number':'closest_to_0_atomic_number',\n",
    "                     'atomic_mass':'closest_to_0_atomic_mass',\n",
    "                     'valence':'closest_to_0_valence',\n",
    "                     'spin_multiplicity':'closest_to_0_spin_multiplicity'})\n",
    "tt.shape"
   ]
  },
  {
   "cell_type": "code",
   "execution_count": 29,
   "metadata": {},
   "outputs": [
    {
     "name": "stdout",
     "output_type": "stream",
     "text": [
      "CPU times: user 48 s, sys: 35.7 s, total: 1min 23s\n",
      "Wall time: 1min 23s\n"
     ]
    }
   ],
   "source": [
    "%%time\n",
    "tt = pd.merge(tt,\n",
    "         atom_details,\n",
    "         left_on=['molecule_name','2nd_closest_to_0'],\n",
    "         right_on=['molecule_name','atom_idx'],\n",
    "         how='left') \\\n",
    "    .drop(['atom_idx'], axis=1) \\\n",
    "    .rename(columns={'atomic_number':'2nd_closest_to_0_atomic_number',\n",
    "                     'atomic_mass':'2nd_closest_to_0_atomic_mass',\n",
    "                     'valence':'2nd_closest_to_0_valence',\n",
    "                     'spin_multiplicity':'2nd_closest_to_0_spin_multiplicity'})\n",
    "tt.shape"
   ]
  },
  {
   "cell_type": "code",
   "execution_count": 30,
   "metadata": {},
   "outputs": [
    {
     "name": "stdout",
     "output_type": "stream",
     "text": [
      "CPU times: user 51.4 s, sys: 39 s, total: 1min 30s\n",
      "Wall time: 1min 30s\n"
     ]
    }
   ],
   "source": [
    "%%time\n",
    "tt = pd.merge(tt,\n",
    "         atom_details,\n",
    "         left_on=['molecule_name','3rd_closest_to_0'],\n",
    "         right_on=['molecule_name','atom_idx'],\n",
    "         how='left') \\\n",
    "    .drop(['atom_idx'], axis=1) \\\n",
    "    .rename(columns={'atomic_number':'3rd_closest_to_0_atomic_number',\n",
    "                     'atomic_mass':'3rd_closest_to_0_atomic_mass',\n",
    "                     'valence':'3rd_closest_to_0_valence',\n",
    "                     'spin_multiplicity':'3rd_closest_to_0_spin_multiplicity'})\n",
    "tt.shape"
   ]
  },
  {
   "cell_type": "code",
   "execution_count": 31,
   "metadata": {},
   "outputs": [
    {
     "name": "stdout",
     "output_type": "stream",
     "text": [
      "CPU times: user 54.2 s, sys: 45.3 s, total: 1min 39s\n",
      "Wall time: 1min 39s\n"
     ]
    }
   ],
   "source": [
    "%%time\n",
    "tt = pd.merge(tt,\n",
    "         atom_details,\n",
    "         left_on=['molecule_name','4th_closest_to_0'],\n",
    "         right_on=['molecule_name','atom_idx'],\n",
    "         how='left') \\\n",
    "    .drop(['atom_idx'], axis=1) \\\n",
    "    .rename(columns={'atomic_number':'4th_closest_to_0_atomic_number',\n",
    "                     'atomic_mass':'4th_closest_to_0_atomic_mass',\n",
    "                     'valence':'4th_closest_to_0_valence',\n",
    "                     'spin_multiplicity':'4th_closest_to_0_spin_multiplicity'})\n",
    "tt.shape"
   ]
  },
  {
   "cell_type": "code",
   "execution_count": 32,
   "metadata": {},
   "outputs": [
    {
     "name": "stdout",
     "output_type": "stream",
     "text": [
      "CPU times: user 56.4 s, sys: 47.2 s, total: 1min 43s\n",
      "Wall time: 1min 43s\n"
     ]
    }
   ],
   "source": [
    "%%time\n",
    "tt = pd.merge(tt,\n",
    "         atom_details,\n",
    "         left_on=['molecule_name','5th_closest_to_0'],\n",
    "         right_on=['molecule_name','atom_idx'],\n",
    "         how='left') \\\n",
    "    .drop(['atom_idx'], axis=1) \\\n",
    "    .rename(columns={'atomic_number':'5th_closest_to_0_atomic_number',\n",
    "                     'atomic_mass':'5th_closest_to_0_atomic_mass',\n",
    "                     'valence':'5th_closest_to_0_valence',\n",
    "                     'spin_multiplicity':'5th_closest_to_0_spin_multiplicity'})"
   ]
  },
  {
   "cell_type": "code",
   "execution_count": 33,
   "metadata": {},
   "outputs": [
    {
     "ename": "MemoryError",
     "evalue": "",
     "output_type": "error",
     "traceback": [
      "\u001b[0;31m---------------------------------------------------------------------------\u001b[0m",
      "\u001b[0;31mMemoryError\u001b[0m                               Traceback (most recent call last)",
      "\u001b[0;32m<timed exec>\u001b[0m in \u001b[0;36m<module>\u001b[0;34m()\u001b[0m\n",
      "\u001b[0;32m/opt/conda/lib/python3.6/site-packages/pandas/util/_decorators.py\u001b[0m in \u001b[0;36mwrapper\u001b[0;34m(*args, **kwargs)\u001b[0m\n\u001b[1;32m    195\u001b[0m         \u001b[0;34m@\u001b[0m\u001b[0mwraps\u001b[0m\u001b[0;34m(\u001b[0m\u001b[0mfunc\u001b[0m\u001b[0;34m)\u001b[0m\u001b[0;34m\u001b[0m\u001b[0m\n\u001b[1;32m    196\u001b[0m         \u001b[0;32mdef\u001b[0m \u001b[0mwrapper\u001b[0m\u001b[0;34m(\u001b[0m\u001b[0;34m*\u001b[0m\u001b[0margs\u001b[0m\u001b[0;34m,\u001b[0m \u001b[0;34m**\u001b[0m\u001b[0mkwargs\u001b[0m\u001b[0;34m)\u001b[0m\u001b[0;34m:\u001b[0m\u001b[0;34m\u001b[0m\u001b[0m\n\u001b[0;32m--> 197\u001b[0;31m             \u001b[0;32mreturn\u001b[0m \u001b[0mfunc\u001b[0m\u001b[0;34m(\u001b[0m\u001b[0;34m*\u001b[0m\u001b[0margs\u001b[0m\u001b[0;34m,\u001b[0m \u001b[0;34m**\u001b[0m\u001b[0mkwargs\u001b[0m\u001b[0;34m)\u001b[0m\u001b[0;34m\u001b[0m\u001b[0m\n\u001b[0m\u001b[1;32m    198\u001b[0m \u001b[0;34m\u001b[0m\u001b[0m\n\u001b[1;32m    199\u001b[0m         \u001b[0;32mif\u001b[0m \u001b[0;32mnot\u001b[0m \u001b[0mPY2\u001b[0m\u001b[0;34m:\u001b[0m\u001b[0;34m\u001b[0m\u001b[0m\n",
      "\u001b[0;32m/opt/conda/lib/python3.6/site-packages/pandas/core/frame.py\u001b[0m in \u001b[0;36mrename\u001b[0;34m(self, *args, **kwargs)\u001b[0m\n\u001b[1;32m   4023\u001b[0m         \u001b[0mkwargs\u001b[0m\u001b[0;34m.\u001b[0m\u001b[0mpop\u001b[0m\u001b[0;34m(\u001b[0m\u001b[0;34m'axis'\u001b[0m\u001b[0;34m,\u001b[0m \u001b[0;32mNone\u001b[0m\u001b[0;34m)\u001b[0m\u001b[0;34m\u001b[0m\u001b[0m\n\u001b[1;32m   4024\u001b[0m         \u001b[0mkwargs\u001b[0m\u001b[0;34m.\u001b[0m\u001b[0mpop\u001b[0m\u001b[0;34m(\u001b[0m\u001b[0;34m'mapper'\u001b[0m\u001b[0;34m,\u001b[0m \u001b[0;32mNone\u001b[0m\u001b[0;34m)\u001b[0m\u001b[0;34m\u001b[0m\u001b[0m\n\u001b[0;32m-> 4025\u001b[0;31m         \u001b[0;32mreturn\u001b[0m \u001b[0msuper\u001b[0m\u001b[0;34m(\u001b[0m\u001b[0mDataFrame\u001b[0m\u001b[0;34m,\u001b[0m \u001b[0mself\u001b[0m\u001b[0;34m)\u001b[0m\u001b[0;34m.\u001b[0m\u001b[0mrename\u001b[0m\u001b[0;34m(\u001b[0m\u001b[0;34m**\u001b[0m\u001b[0mkwargs\u001b[0m\u001b[0;34m)\u001b[0m\u001b[0;34m\u001b[0m\u001b[0m\n\u001b[0m\u001b[1;32m   4026\u001b[0m \u001b[0;34m\u001b[0m\u001b[0m\n\u001b[1;32m   4027\u001b[0m     \u001b[0;34m@\u001b[0m\u001b[0mSubstitution\u001b[0m\u001b[0;34m(\u001b[0m\u001b[0;34m**\u001b[0m\u001b[0m_shared_doc_kwargs\u001b[0m\u001b[0;34m)\u001b[0m\u001b[0;34m\u001b[0m\u001b[0m\n",
      "\u001b[0;32m/opt/conda/lib/python3.6/site-packages/pandas/core/generic.py\u001b[0m in \u001b[0;36mrename\u001b[0;34m(self, *args, **kwargs)\u001b[0m\n\u001b[1;32m   1089\u001b[0m                 \u001b[0mlevel\u001b[0m \u001b[0;34m=\u001b[0m \u001b[0mself\u001b[0m\u001b[0;34m.\u001b[0m\u001b[0maxes\u001b[0m\u001b[0;34m[\u001b[0m\u001b[0maxis\u001b[0m\u001b[0;34m]\u001b[0m\u001b[0;34m.\u001b[0m\u001b[0m_get_level_number\u001b[0m\u001b[0;34m(\u001b[0m\u001b[0mlevel\u001b[0m\u001b[0;34m)\u001b[0m\u001b[0;34m\u001b[0m\u001b[0m\n\u001b[1;32m   1090\u001b[0m             result._data = result._data.rename_axis(f, axis=baxis, copy=copy,\n\u001b[0;32m-> 1091\u001b[0;31m                                                     level=level)\n\u001b[0m\u001b[1;32m   1092\u001b[0m             \u001b[0mresult\u001b[0m\u001b[0;34m.\u001b[0m\u001b[0m_clear_item_cache\u001b[0m\u001b[0;34m(\u001b[0m\u001b[0;34m)\u001b[0m\u001b[0;34m\u001b[0m\u001b[0m\n\u001b[1;32m   1093\u001b[0m \u001b[0;34m\u001b[0m\u001b[0m\n",
      "\u001b[0;32m/opt/conda/lib/python3.6/site-packages/pandas/core/internals/managers.py\u001b[0m in \u001b[0;36mrename_axis\u001b[0;34m(self, mapper, axis, copy, level)\u001b[0m\n\u001b[1;32m    168\u001b[0m         \u001b[0mlevel\u001b[0m \u001b[0;34m:\u001b[0m \u001b[0mint\u001b[0m\u001b[0;34m,\u001b[0m \u001b[0mdefault\u001b[0m \u001b[0;32mNone\u001b[0m\u001b[0;34m\u001b[0m\u001b[0m\n\u001b[1;32m    169\u001b[0m         \"\"\"\n\u001b[0;32m--> 170\u001b[0;31m         \u001b[0mobj\u001b[0m \u001b[0;34m=\u001b[0m \u001b[0mself\u001b[0m\u001b[0;34m.\u001b[0m\u001b[0mcopy\u001b[0m\u001b[0;34m(\u001b[0m\u001b[0mdeep\u001b[0m\u001b[0;34m=\u001b[0m\u001b[0mcopy\u001b[0m\u001b[0;34m)\u001b[0m\u001b[0;34m\u001b[0m\u001b[0m\n\u001b[0m\u001b[1;32m    171\u001b[0m         \u001b[0mobj\u001b[0m\u001b[0;34m.\u001b[0m\u001b[0mset_axis\u001b[0m\u001b[0;34m(\u001b[0m\u001b[0maxis\u001b[0m\u001b[0;34m,\u001b[0m \u001b[0m_transform_index\u001b[0m\u001b[0;34m(\u001b[0m\u001b[0mself\u001b[0m\u001b[0;34m.\u001b[0m\u001b[0maxes\u001b[0m\u001b[0;34m[\u001b[0m\u001b[0maxis\u001b[0m\u001b[0;34m]\u001b[0m\u001b[0;34m,\u001b[0m \u001b[0mmapper\u001b[0m\u001b[0;34m,\u001b[0m \u001b[0mlevel\u001b[0m\u001b[0;34m)\u001b[0m\u001b[0;34m)\u001b[0m\u001b[0;34m\u001b[0m\u001b[0m\n\u001b[1;32m    172\u001b[0m         \u001b[0;32mreturn\u001b[0m \u001b[0mobj\u001b[0m\u001b[0;34m\u001b[0m\u001b[0m\n",
      "\u001b[0;32m/opt/conda/lib/python3.6/site-packages/pandas/core/internals/managers.py\u001b[0m in \u001b[0;36mcopy\u001b[0;34m(self, deep)\u001b[0m\n\u001b[1;32m    732\u001b[0m             \u001b[0mnew_axes\u001b[0m \u001b[0;34m=\u001b[0m \u001b[0mlist\u001b[0m\u001b[0;34m(\u001b[0m\u001b[0mself\u001b[0m\u001b[0;34m.\u001b[0m\u001b[0maxes\u001b[0m\u001b[0;34m)\u001b[0m\u001b[0;34m\u001b[0m\u001b[0m\n\u001b[1;32m    733\u001b[0m         return self.apply('copy', axes=new_axes, deep=deep,\n\u001b[0;32m--> 734\u001b[0;31m                           do_integrity_check=False)\n\u001b[0m\u001b[1;32m    735\u001b[0m \u001b[0;34m\u001b[0m\u001b[0m\n\u001b[1;32m    736\u001b[0m     \u001b[0;32mdef\u001b[0m \u001b[0mas_array\u001b[0m\u001b[0;34m(\u001b[0m\u001b[0mself\u001b[0m\u001b[0;34m,\u001b[0m \u001b[0mtranspose\u001b[0m\u001b[0;34m=\u001b[0m\u001b[0;32mFalse\u001b[0m\u001b[0;34m,\u001b[0m \u001b[0mitems\u001b[0m\u001b[0;34m=\u001b[0m\u001b[0;32mNone\u001b[0m\u001b[0;34m)\u001b[0m\u001b[0;34m:\u001b[0m\u001b[0;34m\u001b[0m\u001b[0m\n",
      "\u001b[0;32m/opt/conda/lib/python3.6/site-packages/pandas/core/internals/managers.py\u001b[0m in \u001b[0;36mapply\u001b[0;34m(self, f, axes, filter, do_integrity_check, consolidate, **kwargs)\u001b[0m\n\u001b[1;32m    393\u001b[0m                                             copy=align_copy)\n\u001b[1;32m    394\u001b[0m \u001b[0;34m\u001b[0m\u001b[0m\n\u001b[0;32m--> 395\u001b[0;31m             \u001b[0mapplied\u001b[0m \u001b[0;34m=\u001b[0m \u001b[0mgetattr\u001b[0m\u001b[0;34m(\u001b[0m\u001b[0mb\u001b[0m\u001b[0;34m,\u001b[0m \u001b[0mf\u001b[0m\u001b[0;34m)\u001b[0m\u001b[0;34m(\u001b[0m\u001b[0;34m**\u001b[0m\u001b[0mkwargs\u001b[0m\u001b[0;34m)\u001b[0m\u001b[0;34m\u001b[0m\u001b[0m\n\u001b[0m\u001b[1;32m    396\u001b[0m             \u001b[0mresult_blocks\u001b[0m \u001b[0;34m=\u001b[0m \u001b[0m_extend_blocks\u001b[0m\u001b[0;34m(\u001b[0m\u001b[0mapplied\u001b[0m\u001b[0;34m,\u001b[0m \u001b[0mresult_blocks\u001b[0m\u001b[0;34m)\u001b[0m\u001b[0;34m\u001b[0m\u001b[0m\n\u001b[1;32m    397\u001b[0m \u001b[0;34m\u001b[0m\u001b[0m\n",
      "\u001b[0;32m/opt/conda/lib/python3.6/site-packages/pandas/core/internals/blocks.py\u001b[0m in \u001b[0;36mcopy\u001b[0;34m(self, deep)\u001b[0m\n\u001b[1;32m    751\u001b[0m         \u001b[0mvalues\u001b[0m \u001b[0;34m=\u001b[0m \u001b[0mself\u001b[0m\u001b[0;34m.\u001b[0m\u001b[0mvalues\u001b[0m\u001b[0;34m\u001b[0m\u001b[0m\n\u001b[1;32m    752\u001b[0m         \u001b[0;32mif\u001b[0m \u001b[0mdeep\u001b[0m\u001b[0;34m:\u001b[0m\u001b[0;34m\u001b[0m\u001b[0m\n\u001b[0;32m--> 753\u001b[0;31m             \u001b[0mvalues\u001b[0m \u001b[0;34m=\u001b[0m \u001b[0mvalues\u001b[0m\u001b[0;34m.\u001b[0m\u001b[0mcopy\u001b[0m\u001b[0;34m(\u001b[0m\u001b[0;34m)\u001b[0m\u001b[0;34m\u001b[0m\u001b[0m\n\u001b[0m\u001b[1;32m    754\u001b[0m         \u001b[0;32mreturn\u001b[0m \u001b[0mself\u001b[0m\u001b[0;34m.\u001b[0m\u001b[0mmake_block_same_class\u001b[0m\u001b[0;34m(\u001b[0m\u001b[0mvalues\u001b[0m\u001b[0;34m)\u001b[0m\u001b[0;34m\u001b[0m\u001b[0m\n\u001b[1;32m    755\u001b[0m \u001b[0;34m\u001b[0m\u001b[0m\n",
      "\u001b[0;31mMemoryError\u001b[0m: "
     ]
    }
   ],
   "source": [
    "%%time\n",
    "tt = pd.merge(tt,\n",
    "         atom_details,\n",
    "         left_on=['molecule_name','6th_closest_to_0'],\n",
    "         right_on=['molecule_name','atom_idx'],\n",
    "         how='left') \\\n",
    "    .drop(['atom_idx'], axis=1) \\\n",
    "    .rename(columns={'atomic_number':'6th_closest_to_0_atomic_number',\n",
    "                     'atomic_mass':'6th_closest_to_0_atomic_mass',\n",
    "                     'valence':'6th_closest_to_0_valence',\n",
    "                     'spin_multiplicity':'6th_closest_to_0_spin_multiplicity'})\n",
    "tt = pd.merge(tt,\n",
    "         atom_details,\n",
    "         left_on=['molecule_name','7th_closest_to_0'],\n",
    "         right_on=['molecule_name','atom_idx'],\n",
    "         how='left') \\\n",
    "    .drop(['atom_idx'], axis=1) \\\n",
    "    .rename(columns={'atomic_number':'7th_closest_to_0_atomic_number',\n",
    "                     'atomic_mass':'7th_closest_to_0_atomic_mass',\n",
    "                     'valence':'7th_closest_to_0_valence',\n",
    "                     'spin_multiplicity':'7th_closest_to_0_spin_multiplicity'})\n",
    "tt = pd.merge(tt,\n",
    "         atom_details,\n",
    "         left_on=['molecule_name','8th_closest_to_0'],\n",
    "         right_on=['molecule_name','atom_idx'],\n",
    "         how='left') \\\n",
    "    .drop(['atom_idx'], axis=1) \\\n",
    "    .rename(columns={'atomic_number':'8th_closest_to_0_atomic_number',\n",
    "                     'atomic_mass':'8th_closest_to_0_atomic_mass',\n",
    "                     'valence':'8th_closest_to_0_valence',\n",
    "                     'spin_multiplicity':'8th_closest_to_0_spin_multiplicity'})\n",
    "tt = pd.merge(tt,\n",
    "         atom_details,\n",
    "         left_on=['molecule_name','9th_closest_to_0'],\n",
    "         right_on=['molecule_name','atom_idx'],\n",
    "         how='left') \\\n",
    "    .drop(['atom_idx'], axis=1) \\\n",
    "    .rename(columns={'atomic_number':'9th_closest_to_0_atomic_number',\n",
    "                     'atomic_mass':'9th_closest_to_0_atomic_mass',\n",
    "                     'valence':'9th_closest_to_0_valence',\n",
    "                     'spin_multiplicity':'9th_closest_to_0_spin_multiplicity'})\n",
    "tt = pd.merge(tt,\n",
    "         atom_details,\n",
    "         left_on=['molecule_name','10th_closest_to_0'],\n",
    "         right_on=['molecule_name','atom_idx'],\n",
    "         how='left') \\\n",
    "    .drop(['atom_idx'], axis=1) \\\n",
    "    .rename(columns={'atomic_number':'10th_closest_to_0_atomic_number',\n",
    "                     'atomic_mass':'10th_closest_to_0_atomic_mass',\n",
    "                     'valence':'10th_closest_to_0_valence',\n",
    "                     'spin_multiplicity':'10th_closest_to_0_spin_multiplicity'})"
   ]
  },
  {
   "cell_type": "code",
   "execution_count": 34,
   "metadata": {},
   "outputs": [
    {
     "ename": "MemoryError",
     "evalue": "",
     "output_type": "error",
     "traceback": [
      "\u001b[0;31m---------------------------------------------------------------------------\u001b[0m",
      "\u001b[0;31mMemoryError\u001b[0m                               Traceback (most recent call last)",
      "\u001b[0;32m<timed exec>\u001b[0m in \u001b[0;36m<module>\u001b[0;34m()\u001b[0m\n",
      "\u001b[0;32m/opt/conda/lib/python3.6/site-packages/pandas/core/reshape/merge.py\u001b[0m in \u001b[0;36mmerge\u001b[0;34m(left, right, how, on, left_on, right_on, left_index, right_index, sort, suffixes, copy, indicator, validate)\u001b[0m\n\u001b[1;32m     46\u001b[0m                          \u001b[0mcopy\u001b[0m\u001b[0;34m=\u001b[0m\u001b[0mcopy\u001b[0m\u001b[0;34m,\u001b[0m \u001b[0mindicator\u001b[0m\u001b[0;34m=\u001b[0m\u001b[0mindicator\u001b[0m\u001b[0;34m,\u001b[0m\u001b[0;34m\u001b[0m\u001b[0m\n\u001b[1;32m     47\u001b[0m                          validate=validate)\n\u001b[0;32m---> 48\u001b[0;31m     \u001b[0;32mreturn\u001b[0m \u001b[0mop\u001b[0m\u001b[0;34m.\u001b[0m\u001b[0mget_result\u001b[0m\u001b[0;34m(\u001b[0m\u001b[0;34m)\u001b[0m\u001b[0;34m\u001b[0m\u001b[0m\n\u001b[0m\u001b[1;32m     49\u001b[0m \u001b[0;34m\u001b[0m\u001b[0m\n\u001b[1;32m     50\u001b[0m \u001b[0;34m\u001b[0m\u001b[0m\n",
      "\u001b[0;32m/opt/conda/lib/python3.6/site-packages/pandas/core/reshape/merge.py\u001b[0m in \u001b[0;36mget_result\u001b[0;34m(self)\u001b[0m\n\u001b[1;32m    558\u001b[0m             \u001b[0;34m[\u001b[0m\u001b[0;34m(\u001b[0m\u001b[0mldata\u001b[0m\u001b[0;34m,\u001b[0m \u001b[0mlindexers\u001b[0m\u001b[0;34m)\u001b[0m\u001b[0;34m,\u001b[0m \u001b[0;34m(\u001b[0m\u001b[0mrdata\u001b[0m\u001b[0;34m,\u001b[0m \u001b[0mrindexers\u001b[0m\u001b[0;34m)\u001b[0m\u001b[0;34m]\u001b[0m\u001b[0;34m,\u001b[0m\u001b[0;34m\u001b[0m\u001b[0m\n\u001b[1;32m    559\u001b[0m             \u001b[0maxes\u001b[0m\u001b[0;34m=\u001b[0m\u001b[0;34m[\u001b[0m\u001b[0mllabels\u001b[0m\u001b[0;34m.\u001b[0m\u001b[0mappend\u001b[0m\u001b[0;34m(\u001b[0m\u001b[0mrlabels\u001b[0m\u001b[0;34m)\u001b[0m\u001b[0;34m,\u001b[0m \u001b[0mjoin_index\u001b[0m\u001b[0;34m]\u001b[0m\u001b[0;34m,\u001b[0m\u001b[0;34m\u001b[0m\u001b[0m\n\u001b[0;32m--> 560\u001b[0;31m             concat_axis=0, copy=self.copy)\n\u001b[0m\u001b[1;32m    561\u001b[0m \u001b[0;34m\u001b[0m\u001b[0m\n\u001b[1;32m    562\u001b[0m         \u001b[0mtyp\u001b[0m \u001b[0;34m=\u001b[0m \u001b[0mself\u001b[0m\u001b[0;34m.\u001b[0m\u001b[0mleft\u001b[0m\u001b[0;34m.\u001b[0m\u001b[0m_constructor\u001b[0m\u001b[0;34m\u001b[0m\u001b[0m\n",
      "\u001b[0;32m/opt/conda/lib/python3.6/site-packages/pandas/core/internals/managers.py\u001b[0m in \u001b[0;36mconcatenate_block_managers\u001b[0;34m(mgrs_indexers, axes, concat_axis, copy)\u001b[0m\n\u001b[1;32m   2059\u001b[0m         \u001b[0;32melse\u001b[0m\u001b[0;34m:\u001b[0m\u001b[0;34m\u001b[0m\u001b[0m\n\u001b[1;32m   2060\u001b[0m             b = make_block(\n\u001b[0;32m-> 2061\u001b[0;31m                 \u001b[0mconcatenate_join_units\u001b[0m\u001b[0;34m(\u001b[0m\u001b[0mjoin_units\u001b[0m\u001b[0;34m,\u001b[0m \u001b[0mconcat_axis\u001b[0m\u001b[0;34m,\u001b[0m \u001b[0mcopy\u001b[0m\u001b[0;34m=\u001b[0m\u001b[0mcopy\u001b[0m\u001b[0;34m)\u001b[0m\u001b[0;34m,\u001b[0m\u001b[0;34m\u001b[0m\u001b[0m\n\u001b[0m\u001b[1;32m   2062\u001b[0m                 placement=placement)\n\u001b[1;32m   2063\u001b[0m         \u001b[0mblocks\u001b[0m\u001b[0;34m.\u001b[0m\u001b[0mappend\u001b[0m\u001b[0;34m(\u001b[0m\u001b[0mb\u001b[0m\u001b[0;34m)\u001b[0m\u001b[0;34m\u001b[0m\u001b[0m\n",
      "\u001b[0;32m/opt/conda/lib/python3.6/site-packages/pandas/core/internals/concat.py\u001b[0m in \u001b[0;36mconcatenate_join_units\u001b[0;34m(join_units, concat_axis, copy)\u001b[0m\n\u001b[1;32m    240\u001b[0m     to_concat = [ju.get_reindexed_values(empty_dtype=empty_dtype,\n\u001b[1;32m    241\u001b[0m                                          upcasted_na=upcasted_na)\n\u001b[0;32m--> 242\u001b[0;31m                  for ju in join_units]\n\u001b[0m\u001b[1;32m    243\u001b[0m \u001b[0;34m\u001b[0m\u001b[0m\n\u001b[1;32m    244\u001b[0m     \u001b[0;32mif\u001b[0m \u001b[0mlen\u001b[0m\u001b[0;34m(\u001b[0m\u001b[0mto_concat\u001b[0m\u001b[0;34m)\u001b[0m \u001b[0;34m==\u001b[0m \u001b[0;36m1\u001b[0m\u001b[0;34m:\u001b[0m\u001b[0;34m\u001b[0m\u001b[0m\n",
      "\u001b[0;32m/opt/conda/lib/python3.6/site-packages/pandas/core/internals/concat.py\u001b[0m in \u001b[0;36m<listcomp>\u001b[0;34m(.0)\u001b[0m\n\u001b[1;32m    240\u001b[0m     to_concat = [ju.get_reindexed_values(empty_dtype=empty_dtype,\n\u001b[1;32m    241\u001b[0m                                          upcasted_na=upcasted_na)\n\u001b[0;32m--> 242\u001b[0;31m                  for ju in join_units]\n\u001b[0m\u001b[1;32m    243\u001b[0m \u001b[0;34m\u001b[0m\u001b[0m\n\u001b[1;32m    244\u001b[0m     \u001b[0;32mif\u001b[0m \u001b[0mlen\u001b[0m\u001b[0;34m(\u001b[0m\u001b[0mto_concat\u001b[0m\u001b[0;34m)\u001b[0m \u001b[0;34m==\u001b[0m \u001b[0;36m1\u001b[0m\u001b[0;34m:\u001b[0m\u001b[0;34m\u001b[0m\u001b[0m\n",
      "\u001b[0;32m/opt/conda/lib/python3.6/site-packages/pandas/core/internals/concat.py\u001b[0m in \u001b[0;36mget_reindexed_values\u001b[0;34m(self, empty_dtype, upcasted_na)\u001b[0m\n\u001b[1;32m    223\u001b[0m             \u001b[0;32mfor\u001b[0m \u001b[0max\u001b[0m\u001b[0;34m,\u001b[0m \u001b[0mindexer\u001b[0m \u001b[0;32min\u001b[0m \u001b[0mself\u001b[0m\u001b[0;34m.\u001b[0m\u001b[0mindexers\u001b[0m\u001b[0;34m.\u001b[0m\u001b[0mitems\u001b[0m\u001b[0;34m(\u001b[0m\u001b[0;34m)\u001b[0m\u001b[0;34m:\u001b[0m\u001b[0;34m\u001b[0m\u001b[0m\n\u001b[1;32m    224\u001b[0m                 values = algos.take_nd(values, indexer, axis=ax,\n\u001b[0;32m--> 225\u001b[0;31m                                        fill_value=fill_value)\n\u001b[0m\u001b[1;32m    226\u001b[0m \u001b[0;34m\u001b[0m\u001b[0m\n\u001b[1;32m    227\u001b[0m         \u001b[0;32mreturn\u001b[0m \u001b[0mvalues\u001b[0m\u001b[0;34m\u001b[0m\u001b[0m\n",
      "\u001b[0;32m/opt/conda/lib/python3.6/site-packages/pandas/core/algorithms.py\u001b[0m in \u001b[0;36mtake_nd\u001b[0;34m(arr, indexer, axis, out, fill_value, mask_info, allow_fill)\u001b[0m\n\u001b[1;32m   1649\u001b[0m             \u001b[0mout\u001b[0m \u001b[0;34m=\u001b[0m \u001b[0mnp\u001b[0m\u001b[0;34m.\u001b[0m\u001b[0mempty\u001b[0m\u001b[0;34m(\u001b[0m\u001b[0mout_shape\u001b[0m\u001b[0;34m,\u001b[0m \u001b[0mdtype\u001b[0m\u001b[0;34m=\u001b[0m\u001b[0mdtype\u001b[0m\u001b[0;34m,\u001b[0m \u001b[0morder\u001b[0m\u001b[0;34m=\u001b[0m\u001b[0;34m'F'\u001b[0m\u001b[0;34m)\u001b[0m\u001b[0;34m\u001b[0m\u001b[0m\n\u001b[1;32m   1650\u001b[0m         \u001b[0;32melse\u001b[0m\u001b[0;34m:\u001b[0m\u001b[0;34m\u001b[0m\u001b[0m\n\u001b[0;32m-> 1651\u001b[0;31m             \u001b[0mout\u001b[0m \u001b[0;34m=\u001b[0m \u001b[0mnp\u001b[0m\u001b[0;34m.\u001b[0m\u001b[0mempty\u001b[0m\u001b[0;34m(\u001b[0m\u001b[0mout_shape\u001b[0m\u001b[0;34m,\u001b[0m \u001b[0mdtype\u001b[0m\u001b[0;34m=\u001b[0m\u001b[0mdtype\u001b[0m\u001b[0;34m)\u001b[0m\u001b[0;34m\u001b[0m\u001b[0m\n\u001b[0m\u001b[1;32m   1652\u001b[0m \u001b[0;34m\u001b[0m\u001b[0m\n\u001b[1;32m   1653\u001b[0m     func = _get_take_nd_function(arr.ndim, arr.dtype, out.dtype, axis=axis,\n",
      "\u001b[0;31mMemoryError\u001b[0m: "
     ]
    }
   ],
   "source": [
    "%%time\n",
    "tt = pd.merge(tt,\n",
    "         atom_details,\n",
    "         left_on=['molecule_name','closest_to_1'],\n",
    "         right_on=['molecule_name','atom_idx'],\n",
    "         how='left') \\\n",
    "    .drop(['atom_idx'], axis=1) \\\n",
    "    .rename(columns={'atomic_number':'closest_to_1_atomic_number',\n",
    "                     'atomic_mass':'closest_to_1_atomic_mass',\n",
    "                     'valence':'closest_to_1_valence',\n",
    "                     'spin_multiplicity':'closest_to_1_spin_multiplicity'})\n",
    "tt = pd.merge(tt,\n",
    "         atom_details,\n",
    "         left_on=['molecule_name','2nd_closest_to_1'],\n",
    "         right_on=['molecule_name','atom_idx'],\n",
    "         how='left') \\\n",
    "    .drop(['atom_idx'], axis=1) \\\n",
    "    .rename(columns={'atomic_number':'2nd_closest_to_1_atomic_number',\n",
    "                     'atomic_mass':'2nd_closest_to_1_atomic_mass',\n",
    "                     'valence':'2nd_closest_to_1_valence',\n",
    "                     'spin_multiplicity':'2nd_closest_to_1_spin_multiplicity'})\n",
    "tt = pd.merge(tt,\n",
    "         atom_details,\n",
    "         left_on=['molecule_name','3rd_closest_to_1'],\n",
    "         right_on=['molecule_name','atom_idx'],\n",
    "         how='left') \\\n",
    "    .drop(['atom_idx'], axis=1) \\\n",
    "    .rename(columns={'atomic_number':'3rd_closest_to_1_atomic_number',\n",
    "                     'atomic_mass':'3rd_closest_to_1_atomic_mass',\n",
    "                     'valence':'3rd_closest_to_1_valence',\n",
    "                     'spin_multiplicity':'3rd_closest_to_1_spin_multiplicity'})\n",
    "tt = pd.merge(tt,\n",
    "         atom_details,\n",
    "         left_on=['molecule_name','4th_closest_to_1'],\n",
    "         right_on=['molecule_name','atom_idx'],\n",
    "         how='left') \\\n",
    "    .drop(['atom_idx'], axis=1) \\\n",
    "    .rename(columns={'atomic_number':'4th_closest_to_1_atomic_number',\n",
    "                     'atomic_mass':'4th_closest_to_1_atomic_mass',\n",
    "                     'valence':'4th_closest_to_1_valence',\n",
    "                     'spin_multiplicity':'4th_closest_to_1_spin_multiplicity'})\n",
    "tt = pd.merge(tt,\n",
    "         atom_details,\n",
    "         left_on=['molecule_name','5th_closest_to_1'],\n",
    "         right_on=['molecule_name','atom_idx'],\n",
    "         how='left') \\\n",
    "    .drop(['atom_idx'], axis=1) \\\n",
    "    .rename(columns={'atomic_number':'5th_closest_to_1_atomic_number',\n",
    "                     'atomic_mass':'5th_closest_to_1_atomic_mass',\n",
    "                     'valence':'5th_closest_to_1_valence',\n",
    "                     'spin_multiplicity':'5th_closest_to_1_spin_multiplicity'})\n",
    "tt = pd.merge(tt,\n",
    "         atom_details,\n",
    "         left_on=['molecule_name','6th_closest_to_1'],\n",
    "         right_on=['molecule_name','atom_idx'],\n",
    "         how='left') \\\n",
    "    .drop(['atom_idx'], axis=1) \\\n",
    "    .rename(columns={'atomic_number':'6th_closest_to_1_atomic_number',\n",
    "                     'atomic_mass':'6th_closest_to_1_atomic_mass',\n",
    "                     'valence':'6th_closest_to_1_valence',\n",
    "                     'spin_multiplicity':'6th_closest_to_1_spin_multiplicity'})\n",
    "tt = pd.merge(tt,\n",
    "         atom_details,\n",
    "         left_on=['molecule_name','7th_closest_to_1'],\n",
    "         right_on=['molecule_name','atom_idx'],\n",
    "         how='left') \\\n",
    "    .drop(['atom_idx'], axis=1) \\\n",
    "    .rename(columns={'atomic_number':'7th_closest_to_1_atomic_number',\n",
    "                     'atomic_mass':'7th_closest_to_1_atomic_mass',\n",
    "                     'valence':'7th_closest_to_1_valence',\n",
    "                     'spin_multiplicity':'7th_closest_to_1_spin_multiplicity'})\n",
    "tt = pd.merge(tt,\n",
    "         atom_details,\n",
    "         left_on=['molecule_name','8th_closest_to_1'],\n",
    "         right_on=['molecule_name','atom_idx'],\n",
    "         how='left') \\\n",
    "    .drop(['atom_idx'], axis=1) \\\n",
    "    .rename(columns={'atomic_number':'8th_closest_to_1_atomic_number',\n",
    "                     'atomic_mass':'8th_closest_to_1_atomic_mass',\n",
    "                     'valence':'8th_closest_to_1_valence',\n",
    "                     'spin_multiplicity':'8th_closest_to_1_spin_multiplicity'})\n",
    "tt = pd.merge(tt,\n",
    "         atom_details,\n",
    "         left_on=['molecule_name','9th_closest_to_1'],\n",
    "         right_on=['molecule_name','atom_idx'],\n",
    "         how='left') \\\n",
    "    .drop(['atom_idx'], axis=1) \\\n",
    "    .rename(columns={'atomic_number':'9th_closest_to_1_atomic_number',\n",
    "                     'atomic_mass':'9th_closest_to_1_atomic_mass',\n",
    "                     'valence':'9th_closest_to_1_valence',\n",
    "                     'spin_multiplicity':'9th_closest_to_1_spin_multiplicity'})\n",
    "tt = pd.merge(tt,\n",
    "         atom_details,\n",
    "         left_on=['molecule_name','10th_closest_to_1'],\n",
    "         right_on=['molecule_name','atom_idx'],\n",
    "         how='left') \\\n",
    "    .drop(['atom_idx'], axis=1) \\\n",
    "    .rename(columns={'atomic_number':'10th_closest_to_1_atomic_number',\n",
    "                     'atomic_mass':'10th_closest_to_1_atomic_mass',\n",
    "                     'valence':'10th_closest_to_1_valence',\n",
    "                     'spin_multiplicity':'10th_closest_to_1_spin_multiplicity'})"
   ]
  },
  {
   "cell_type": "markdown",
   "metadata": {},
   "source": [
    "## Torsion Details"
   ]
  },
  {
   "cell_type": "code",
   "execution_count": null,
   "metadata": {},
   "outputs": [],
   "source": [
    "%%time\n",
    "tt = pd.merge(tt,\n",
    "        torsion_details.groupby(['molecule_name','2left_atom_idx','left_atom_idx'])['torsion_angle'] \\\n",
    "                  .agg(['mean','min','max','count'])\\\n",
    "                  .reset_index(),\n",
    "        left_on=['molecule_name','atom_index_0','atom_index_1'],\n",
    "         right_on=['molecule_name','2left_atom_idx','left_atom_idx'],\n",
    "         how='left') \\\n",
    "    .drop(['2left_atom_idx','left_atom_idx'], axis=1) \\\n",
    "    .rename(columns={'mean': 'tor_ang_2leftleft_mean',\n",
    "                     'min': 'tor_ang_2leftleft_min',\n",
    "                    'max': 'tor_ang_2leftleft_max',\n",
    "                    'count': 'tor_ang_2leftleft_count'})\n",
    "tt.shape"
   ]
  },
  {
   "cell_type": "code",
   "execution_count": null,
   "metadata": {},
   "outputs": [],
   "source": [
    "%%time\n",
    "tt = pd.merge(tt,\n",
    "         torsion_details.groupby(['molecule_name','2left_atom_idx','right_atom_idx'])['torsion_angle'] \\\n",
    "                  .agg(['mean','min','max','count'])\\\n",
    "                  .reset_index(),\n",
    "         left_on=['molecule_name','atom_index_0','atom_index_1'],\n",
    "         right_on=['molecule_name','2left_atom_idx','right_atom_idx'],\n",
    "         how='left') \\\n",
    "    .drop(['2left_atom_idx','right_atom_idx'], axis=1) \\\n",
    "    .rename(columns={'mean': 'tor_ang_2leftright_mean',\n",
    "                     'min': 'tor_ang_2leftright_min',\n",
    "                     'max': 'tor_ang_2leftright_max',\n",
    "                     'count': 'tor_ang_2leftright_count'})\n",
    "tt.shape"
   ]
  },
  {
   "cell_type": "code",
   "execution_count": null,
   "metadata": {},
   "outputs": [],
   "source": [
    "molecule_details.head()"
   ]
  },
  {
   "cell_type": "code",
   "execution_count": null,
   "metadata": {},
   "outputs": [],
   "source": [
    "%%time\n",
    "tt = pd.merge(tt,\n",
    "        molecule_details.drop('num_residues', axis=1),\n",
    "         left_on=['molecule_name'],\n",
    "         right_on=['molecule_name'],\n",
    "         how='left')"
   ]
  },
  {
   "cell_type": "code",
   "execution_count": null,
   "metadata": {},
   "outputs": [],
   "source": [
    "test.head()"
   ]
  },
  {
   "cell_type": "code",
   "execution_count": null,
   "metadata": {},
   "outputs": [],
   "source": [
    "test_FE009 = tt.sort_values('id').loc[tt['scalar_coupling_constant'].isnull()].reset_index(drop=True)\n",
    "train_FE009 = tt.sort_values('id').loc[~tt['scalar_coupling_constant'].isnull()].reset_index(drop=True)"
   ]
  },
  {
   "cell_type": "code",
   "execution_count": null,
   "metadata": {},
   "outputs": [],
   "source": [
    "test_FE009.shape"
   ]
  },
  {
   "cell_type": "code",
   "execution_count": null,
   "metadata": {},
   "outputs": [],
   "source": [
    "test.shape"
   ]
  },
  {
   "cell_type": "code",
   "execution_count": null,
   "metadata": {},
   "outputs": [],
   "source": [
    "train_FE009.shape"
   ]
  },
  {
   "cell_type": "code",
   "execution_count": null,
   "metadata": {},
   "outputs": [],
   "source": [
    "train.shape"
   ]
  },
  {
   "cell_type": "code",
   "execution_count": null,
   "metadata": {},
   "outputs": [],
   "source": [
    "bool_cols = [col for col in train_FE009.columns if 'is_bond_' in col]\n",
    "test_FE009[bool_cols] = test_FE009[bool_cols].fillna(False)\n",
    "train_FE009[bool_cols] = train_FE009[bool_cols].fillna(False)"
   ]
  },
  {
   "cell_type": "code",
   "execution_count": null,
   "metadata": {},
   "outputs": [],
   "source": [
    "test_FE009.to_parquet('../data/FE009_test_pandas.parquet')"
   ]
  },
  {
   "cell_type": "code",
   "execution_count": null,
   "metadata": {},
   "outputs": [],
   "source": [
    "train_FE009.to_parquet('../data/FE009_train_pandas.parquet')"
   ]
  },
  {
   "cell_type": "code",
   "execution_count": null,
   "metadata": {},
   "outputs": [],
   "source": [
    "[col for col in test_FE009.columns]"
   ]
  },
  {
   "cell_type": "code",
   "execution_count": null,
   "metadata": {},
   "outputs": [],
   "source": []
  }
 ],
 "metadata": {
  "kernelspec": {
   "display_name": "Python 3",
   "language": "python",
   "name": "python3"
  },
  "language_info": {
   "codemirror_mode": {
    "name": "ipython",
    "version": 3
   },
   "file_extension": ".py",
   "mimetype": "text/x-python",
   "name": "python",
   "nbconvert_exporter": "python",
   "pygments_lexer": "ipython3",
   "version": "3.6.6"
  }
 },
 "nbformat": 4,
 "nbformat_minor": 2
}
