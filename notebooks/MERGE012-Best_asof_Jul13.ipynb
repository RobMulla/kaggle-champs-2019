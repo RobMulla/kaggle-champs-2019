{
 "cells": [
  {
   "cell_type": "markdown",
   "metadata": {},
   "source": [
    "# MERGE012\n",
    "Best of Each Type as of July 13"
   ]
  },
  {
   "cell_type": "code",
   "execution_count": 2,
   "metadata": {},
   "outputs": [],
   "source": [
    "import pandas as pd\n",
    "import numpy as np\n",
    "import matplotlib.pylab as plt\n",
    "from sklearn.metrics import mean_absolute_error\n",
    "\n",
    "def group_mean_log_mae(y_true, y_pred, groups, floor=1e-9):\n",
    "    maes = (y_true-y_pred).abs().groupby(groups).mean()\n",
    "    return np.log(maes.map(lambda x: max(x, floor))).mean()"
   ]
  },
  {
   "cell_type": "code",
   "execution_count": 3,
   "metadata": {},
   "outputs": [],
   "source": [
    "tracking = pd.read_csv('../tracking/tracking.csv')"
   ]
  },
  {
   "cell_type": "code",
   "execution_count": 4,
   "metadata": {},
   "outputs": [
    {
     "data": {
      "text/html": [
       "<div>\n",
       "<style scoped>\n",
       "    .dataframe tbody tr th:only-of-type {\n",
       "        vertical-align: middle;\n",
       "    }\n",
       "\n",
       "    .dataframe tbody tr th {\n",
       "        vertical-align: top;\n",
       "    }\n",
       "\n",
       "    .dataframe thead th {\n",
       "        text-align: right;\n",
       "    }\n",
       "</style>\n",
       "<table border=\"1\" class=\"dataframe\">\n",
       "  <thead>\n",
       "    <tr style=\"text-align: right;\">\n",
       "      <th></th>\n",
       "      <th>run_id</th>\n",
       "      <th>model_number</th>\n",
       "      <th>eval_metric</th>\n",
       "      <th>n_estimators</th>\n",
       "      <th>early_stopping_rounds</th>\n",
       "      <th>random_state</th>\n",
       "      <th>n_threads</th>\n",
       "      <th>learning_rate</th>\n",
       "      <th>n_fold</th>\n",
       "      <th>model_type</th>\n",
       "      <th>...</th>\n",
       "      <th>2JHC_meta_fc_est</th>\n",
       "      <th>2JHC_meta_fc_metafolds</th>\n",
       "      <th>2JHC_meta_fc_mae_cv_f1</th>\n",
       "      <th>2JHC_meta_fc_mae_cv_f2</th>\n",
       "      <th>3JHC_meta_fc_est</th>\n",
       "      <th>3JHC_meta_fc_metafolds</th>\n",
       "      <th>3JHC_meta_fc_mae_cv_f1</th>\n",
       "      <th>3JHC_meta_fc_mae_cv_f2</th>\n",
       "      <th>1JHN_meta_fc_est</th>\n",
       "      <th>1JHN_meta_fc_metafolds</th>\n",
       "    </tr>\n",
       "  </thead>\n",
       "  <tbody>\n",
       "    <tr>\n",
       "      <th>0</th>\n",
       "      <td>0610_1341</td>\n",
       "      <td>M010</td>\n",
       "      <td>mae</td>\n",
       "      <td>500000.0</td>\n",
       "      <td>500.0</td>\n",
       "      <td>529.0</td>\n",
       "      <td>32.0</td>\n",
       "      <td>0.5</td>\n",
       "      <td>5.0</td>\n",
       "      <td>NaN</td>\n",
       "      <td>...</td>\n",
       "      <td>NaN</td>\n",
       "      <td>NaN</td>\n",
       "      <td>NaN</td>\n",
       "      <td>NaN</td>\n",
       "      <td>NaN</td>\n",
       "      <td>NaN</td>\n",
       "      <td>NaN</td>\n",
       "      <td>NaN</td>\n",
       "      <td>NaN</td>\n",
       "      <td>NaN</td>\n",
       "    </tr>\n",
       "    <tr>\n",
       "      <th>1</th>\n",
       "      <td>0611_0308</td>\n",
       "      <td>M012</td>\n",
       "      <td>mae</td>\n",
       "      <td>500000.0</td>\n",
       "      <td>500.0</td>\n",
       "      <td>529.0</td>\n",
       "      <td>32.0</td>\n",
       "      <td>0.5</td>\n",
       "      <td>5.0</td>\n",
       "      <td>NaN</td>\n",
       "      <td>...</td>\n",
       "      <td>NaN</td>\n",
       "      <td>NaN</td>\n",
       "      <td>NaN</td>\n",
       "      <td>NaN</td>\n",
       "      <td>NaN</td>\n",
       "      <td>NaN</td>\n",
       "      <td>NaN</td>\n",
       "      <td>NaN</td>\n",
       "      <td>NaN</td>\n",
       "      <td>NaN</td>\n",
       "    </tr>\n",
       "    <tr>\n",
       "      <th>2</th>\n",
       "      <td>0611_1250</td>\n",
       "      <td>M013</td>\n",
       "      <td>mae</td>\n",
       "      <td>50000.0</td>\n",
       "      <td>500.0</td>\n",
       "      <td>529.0</td>\n",
       "      <td>32.0</td>\n",
       "      <td>0.5</td>\n",
       "      <td>5.0</td>\n",
       "      <td>catboost</td>\n",
       "      <td>...</td>\n",
       "      <td>NaN</td>\n",
       "      <td>NaN</td>\n",
       "      <td>NaN</td>\n",
       "      <td>NaN</td>\n",
       "      <td>NaN</td>\n",
       "      <td>NaN</td>\n",
       "      <td>NaN</td>\n",
       "      <td>NaN</td>\n",
       "      <td>NaN</td>\n",
       "      <td>NaN</td>\n",
       "    </tr>\n",
       "    <tr>\n",
       "      <th>3</th>\n",
       "      <td>0611_1249</td>\n",
       "      <td>M014</td>\n",
       "      <td>mae</td>\n",
       "      <td>500000.0</td>\n",
       "      <td>500.0</td>\n",
       "      <td>529.0</td>\n",
       "      <td>24.0</td>\n",
       "      <td>0.3</td>\n",
       "      <td>5.0</td>\n",
       "      <td>NaN</td>\n",
       "      <td>...</td>\n",
       "      <td>NaN</td>\n",
       "      <td>NaN</td>\n",
       "      <td>NaN</td>\n",
       "      <td>NaN</td>\n",
       "      <td>NaN</td>\n",
       "      <td>NaN</td>\n",
       "      <td>NaN</td>\n",
       "      <td>NaN</td>\n",
       "      <td>NaN</td>\n",
       "      <td>NaN</td>\n",
       "    </tr>\n",
       "    <tr>\n",
       "      <th>4</th>\n",
       "      <td>0613_0402</td>\n",
       "      <td>M015</td>\n",
       "      <td>mae</td>\n",
       "      <td>500000.0</td>\n",
       "      <td>500.0</td>\n",
       "      <td>529.0</td>\n",
       "      <td>24.0</td>\n",
       "      <td>0.3</td>\n",
       "      <td>5.0</td>\n",
       "      <td>NaN</td>\n",
       "      <td>...</td>\n",
       "      <td>NaN</td>\n",
       "      <td>NaN</td>\n",
       "      <td>NaN</td>\n",
       "      <td>NaN</td>\n",
       "      <td>NaN</td>\n",
       "      <td>NaN</td>\n",
       "      <td>NaN</td>\n",
       "      <td>NaN</td>\n",
       "      <td>NaN</td>\n",
       "      <td>NaN</td>\n",
       "    </tr>\n",
       "  </tbody>\n",
       "</table>\n",
       "<p>5 rows × 147 columns</p>\n",
       "</div>"
      ],
      "text/plain": [
       "      run_id model_number eval_metric  n_estimators  early_stopping_rounds  \\\n",
       "0  0610_1341         M010         mae      500000.0                  500.0   \n",
       "1  0611_0308         M012         mae      500000.0                  500.0   \n",
       "2  0611_1250         M013         mae       50000.0                  500.0   \n",
       "3  0611_1249         M014         mae      500000.0                  500.0   \n",
       "4  0613_0402         M015         mae      500000.0                  500.0   \n",
       "\n",
       "   random_state  n_threads  learning_rate  n_fold model_type  ...  \\\n",
       "0         529.0       32.0            0.5     5.0        NaN  ...   \n",
       "1         529.0       32.0            0.5     5.0        NaN  ...   \n",
       "2         529.0       32.0            0.5     5.0   catboost  ...   \n",
       "3         529.0       24.0            0.3     5.0        NaN  ...   \n",
       "4         529.0       24.0            0.3     5.0        NaN  ...   \n",
       "\n",
       "   2JHC_meta_fc_est  2JHC_meta_fc_metafolds  2JHC_meta_fc_mae_cv_f1  \\\n",
       "0               NaN                     NaN                     NaN   \n",
       "1               NaN                     NaN                     NaN   \n",
       "2               NaN                     NaN                     NaN   \n",
       "3               NaN                     NaN                     NaN   \n",
       "4               NaN                     NaN                     NaN   \n",
       "\n",
       "   2JHC_meta_fc_mae_cv_f2  3JHC_meta_fc_est  3JHC_meta_fc_metafolds  \\\n",
       "0                     NaN               NaN                     NaN   \n",
       "1                     NaN               NaN                     NaN   \n",
       "2                     NaN               NaN                     NaN   \n",
       "3                     NaN               NaN                     NaN   \n",
       "4                     NaN               NaN                     NaN   \n",
       "\n",
       "   3JHC_meta_fc_mae_cv_f1  3JHC_meta_fc_mae_cv_f2  1JHN_meta_fc_est  \\\n",
       "0                     NaN                     NaN               NaN   \n",
       "1                     NaN                     NaN               NaN   \n",
       "2                     NaN                     NaN               NaN   \n",
       "3                     NaN                     NaN               NaN   \n",
       "4                     NaN                     NaN               NaN   \n",
       "\n",
       "   1JHN_meta_fc_metafolds  \n",
       "0                     NaN  \n",
       "1                     NaN  \n",
       "2                     NaN  \n",
       "3                     NaN  \n",
       "4                     NaN  \n",
       "\n",
       "[5 rows x 147 columns]"
      ]
     },
     "execution_count": 4,
     "metadata": {},
     "output_type": "execute_result"
    }
   ],
   "source": [
    "tracking.head()"
   ]
  },
  {
   "cell_type": "code",
   "execution_count": 6,
   "metadata": {},
   "outputs": [
    {
     "name": "stdout",
     "output_type": "stream",
     "text": [
      "----------1JHC_mae_cv----------\n",
      "                 run_id model_type  1JHC_mae_cv\n",
      "model_number                                   \n",
      "M046_1JHC     0712_2026   catboost       0.4976\n",
      "M043          0710_2124   catboost       0.5124\n",
      "M045_1JHC     0711_2313   catboost       0.5244\n",
      "M044          0711_1936   catboost       0.5376\n",
      "M042          0709_1336   catboost       0.5650\n",
      "----------2JHH_mae_cv----------\n",
      "                 run_id model_type  2JHH_mae_cv\n",
      "model_number                                   \n",
      "M043          0710_2124   catboost       0.1382\n",
      "M038          0707_0907   catboost       0.1405\n",
      "M040          0708_1639   catboost       0.1421\n",
      "M042          0709_1336   catboost       0.1428\n",
      "M039          0708_1415   catboost       0.1440\n",
      "----------1JHN_mae_cv----------\n",
      "                 run_id model_type  1JHN_mae_cv\n",
      "model_number                                   \n",
      "M030          0701_1300       lgbm       0.3582\n",
      "M043          0710_2124   catboost       0.3764\n",
      "M035          0704_2344       lgbm       0.3846\n",
      "M042          0709_1336   catboost       0.3860\n",
      "M036          0705_2317   catboost       0.3872\n",
      "----------2JHN_mae_cv----------\n",
      "                 run_id model_type  2JHN_mae_cv\n",
      "model_number                                   \n",
      "M031          0702_0822   catboost       0.1300\n",
      "M038          0707_0907   catboost       0.1382\n",
      "M030          0701_1300       lgbm       0.1396\n",
      "M025          0629_1311   catboost       0.1398\n",
      "M032          0703_2133   catboost       0.1406\n",
      "----------2JHC_mae_cv----------\n",
      "                 run_id model_type  2JHC_mae_cv\n",
      "model_number                                   \n",
      "M046_2JHC     0713_0745   catboost       0.1957\n",
      "M043          0710_2124   catboost       0.2137\n",
      "M040          0708_1639   catboost       0.2191\n",
      "M037          0706_2029   catboost       0.2255\n",
      "M039          0708_1415   catboost       0.2342\n",
      "----------3JHH_mae_cv----------\n",
      "                 run_id model_type  3JHH_mae_cv\n",
      "model_number                                   \n",
      "M038          0707_0907   catboost       0.1498\n",
      "M040          0708_1639   catboost       0.1500\n",
      "M042          0709_1336   catboost       0.1525\n",
      "M037          0706_2029   catboost       0.1537\n",
      "M039          0708_1415   catboost       0.1539\n",
      "----------3JHC_mae_cv----------\n",
      "                 run_id model_type  3JHC_mae_cv\n",
      "model_number                                   \n",
      "M046_3JHC     0713_1412   catboost       0.2216\n",
      "M045_3JHC     0712_0222   catboost       0.2409\n",
      "M042          0709_1336   catboost       0.2458\n",
      "M040          0708_1639   catboost       0.2459\n",
      "M043          0710_2124   catboost       0.2462\n",
      "----------3JHN_mae_cv----------\n",
      "                 run_id model_type  3JHN_mae_cv\n",
      "model_number                                   \n",
      "M038          0707_0907   catboost       0.1147\n",
      "M040          0708_1639   catboost       0.1158\n",
      "M039          0708_1415   catboost       0.1160\n",
      "M037          0706_2029   catboost       0.1176\n",
      "M043          0710_2124   catboost       0.1199\n"
     ]
    }
   ],
   "source": [
    "for cv in ['1JHC_mae_cv', '2JHH_mae_cv', '1JHN_mae_cv',\n",
    "          '2JHN_mae_cv', '2JHC_mae_cv', '3JHH_mae_cv',\n",
    "          '3JHC_mae_cv', '3JHN_mae_cv']:\n",
    "    print(f'----------{cv}----------')\n",
    "    print(tracking[['model_number','run_id','model_type', cv]] \\\n",
    "          .set_index('model_number') \\\n",
    "          .sort_values(cv) \\\n",
    "          .head())"
   ]
  },
  {
   "cell_type": "code",
   "execution_count": 7,
   "metadata": {},
   "outputs": [],
   "source": [
    "# 1JHC - M046_1JHC\n",
    "# 2JHH - M043\n",
    "# 1JHN - M030\n",
    "# 2JHN - M031\n",
    "# 2JHC - M046_2JHC\n",
    "# 3JHH - M038\n",
    "# 3JHC - M046_3JHC\n",
    "# 3JHN - M038\n",
    "\n",
    "sub_M031 = pd.read_csv('../temp/M031/temp4of8_M031_0702_0822_submission_lgb_3folds_5000000iter_0.05lr.csv')\n",
    "oof_M031 = pd.read_csv('../temp/M031/temp4of8_M031_0702_0822_oof_lgb_3folds_5000000iter_0.05lr.csv')\n",
    "sub_M038 = pd.read_csv('../temp/M038/temp6of8_M038_0707_0907_submission_catboost_2folds_500000iter_0.08lr.csv')\n",
    "oof_M038 = pd.read_csv('../temp/M038/temp6of8_M038_0707_0907_oof_catboost_2folds_500000iter_0.08lr.csv')\n",
    "\n",
    "sub_M030_a = pd.read_csv('../temp/M030/temp4of8_M030_0701_1300_submission_lgb_3folds_5000000iter_0.05lr.csv')\n",
    "sub_M030_b = pd.read_csv('../temp/M030/temp4of8_M030_0701_1302_submission_lgb_3folds_5000000iter_0.05lr.csv')\n",
    "sub_M030_c = pd.read_csv('../temp/M030/temp4of8_M030_0701_1304_submission_lgb_3folds_5000000iter_0.05lr.csv')\n",
    "sub_M030 = sub_M030_a.copy()\n",
    "sub_M030['scc_a'] = sub_M030_a['scalar_coupling_constant']\n",
    "sub_M030['scc_b'] = sub_M030_b['scalar_coupling_constant']\n",
    "sub_M030['scc_c'] = sub_M030_c['scalar_coupling_constant']\n",
    "sub_M030['scalar_coupling_constant'] = sub_M030[['scc_a','scc_b','scc_c']].mean(axis=1)\n",
    "sub_M030 = sub_M030.drop(['scc_a','scc_b','scc_c'], axis=1).copy()\n",
    "\n",
    "oof_M030_a = pd.read_csv('../temp/M030/temp4of8_M030_0701_1300_oof_lgb_3folds_5000000iter_0.05lr.csv')\n",
    "oof_M030_b = pd.read_csv('../temp/M030/temp4of8_M030_0701_1302_oof_lgb_3folds_5000000iter_0.05lr.csv')\n",
    "oof_M030_c = pd.read_csv('../temp/M030/temp4of8_M030_0701_1304_oof_lgb_3folds_5000000iter_0.05lr.csv')\n",
    "oof_M030 = oof_M030_a.copy()\n",
    "oof_M030['scc_a'] = oof_M030_a['oof_preds']\n",
    "oof_M030['scc_b'] = oof_M030_b['oof_preds']\n",
    "oof_M030['scc_c'] = oof_M030_c['oof_preds']\n",
    "oof_M030['oof_preds'] = oof_M030[['scc_a','scc_b','scc_c']].sum(axis=1)\n",
    "oof_M030 = oof_M030.drop(['scc_a','scc_b','scc_c'], axis=1).copy()"
   ]
  },
  {
   "cell_type": "code",
   "execution_count": 8,
   "metadata": {},
   "outputs": [],
   "source": [
    "oof_M043 = pd.read_csv('../oof/M043_0710_2124_oof_catboost_2folds_-1.5582CV_500000iter_0.1lr.csv')\n",
    "sub_M043 = pd.read_csv('../submissions/M043_0710_2124_submission_lgb_2folds_-1.5582CV_500000iter_0.1lr.csv')\n",
    "sub_M043 = sub_M043.sort_values('id').reset_index(drop=True)\n",
    "oof_M043 = oof_M043.sort_values('id').reset_index(drop=True)"
   ]
  },
  {
   "cell_type": "code",
   "execution_count": 9,
   "metadata": {},
   "outputs": [],
   "source": [
    "oof_M046_1JHC = pd.read_parquet('../type_results/1JHC/M046_1JHC_0712_2026_oof_0.4976_catboost_2folds_500000iter_0.1lr.parquet')\n",
    "sub_M046_1JHC = pd.read_parquet('../type_results/1JHC/M046_1JHC_0712_2026_sub_0.4976_catboost_2folds_500000iter_0.1lr.parquet')"
   ]
  },
  {
   "cell_type": "code",
   "execution_count": 10,
   "metadata": {},
   "outputs": [],
   "source": [
    "oof_M046_2JHC = pd.read_parquet('../type_results/2JHC/M046_2JHC_0713_0745_oof_0.1957_catboost_2folds_500000iter_0.1lr.parquet')\n",
    "sub_M046_2JHC = pd.read_parquet('../type_results/2JHC/M046_2JHC_0713_0745_sub_0.1957_catboost_2folds_500000iter_0.1lr.parquet')"
   ]
  },
  {
   "cell_type": "code",
   "execution_count": 11,
   "metadata": {},
   "outputs": [],
   "source": [
    "oof_M046_3JHC = pd.read_parquet('../type_results/3JHC/M046_3JHC_0713_1412_oof_0.2216_catboost_2folds_500000iter_0.1lr.parquet')\n",
    "sub_M046_3JHC = pd.read_parquet('../type_results/3JHC/M046_3JHC_0713_1412_sub_0.2216_catboost_2folds_500000iter_0.1lr.parquet')"
   ]
  },
  {
   "cell_type": "code",
   "execution_count": 72,
   "metadata": {},
   "outputs": [
    {
     "data": {
      "text/html": [
       "<div>\n",
       "<style scoped>\n",
       "    .dataframe tbody tr th:only-of-type {\n",
       "        vertical-align: middle;\n",
       "    }\n",
       "\n",
       "    .dataframe tbody tr th {\n",
       "        vertical-align: top;\n",
       "    }\n",
       "\n",
       "    .dataframe thead th {\n",
       "        text-align: right;\n",
       "    }\n",
       "</style>\n",
       "<table border=\"1\" class=\"dataframe\">\n",
       "  <thead>\n",
       "    <tr style=\"text-align: right;\">\n",
       "      <th></th>\n",
       "      <th>id</th>\n",
       "      <th>type</th>\n",
       "      <th>scalar_coupling_constant</th>\n",
       "      <th>oof_preds</th>\n",
       "    </tr>\n",
       "  </thead>\n",
       "  <tbody>\n",
       "    <tr>\n",
       "      <th>10</th>\n",
       "      <td>10</td>\n",
       "      <td>1JHN</td>\n",
       "      <td>32.6889</td>\n",
       "      <td>40.055154</td>\n",
       "    </tr>\n",
       "    <tr>\n",
       "      <th>13</th>\n",
       "      <td>13</td>\n",
       "      <td>1JHN</td>\n",
       "      <td>32.6891</td>\n",
       "      <td>40.054518</td>\n",
       "    </tr>\n",
       "    <tr>\n",
       "      <th>15</th>\n",
       "      <td>15</td>\n",
       "      <td>1JHN</td>\n",
       "      <td>32.6905</td>\n",
       "      <td>40.055154</td>\n",
       "    </tr>\n",
       "    <tr>\n",
       "      <th>97</th>\n",
       "      <td>97</td>\n",
       "      <td>1JHN</td>\n",
       "      <td>55.5252</td>\n",
       "      <td>56.008177</td>\n",
       "    </tr>\n",
       "    <tr>\n",
       "      <th>101</th>\n",
       "      <td>101</td>\n",
       "      <td>1JHN</td>\n",
       "      <td>54.7359</td>\n",
       "      <td>56.825605</td>\n",
       "    </tr>\n",
       "  </tbody>\n",
       "</table>\n",
       "</div>"
      ],
      "text/plain": [
       "      id  type  scalar_coupling_constant  oof_preds\n",
       "10    10  1JHN                   32.6889  40.055154\n",
       "13    13  1JHN                   32.6891  40.054518\n",
       "15    15  1JHN                   32.6905  40.055154\n",
       "97    97  1JHN                   55.5252  56.008177\n",
       "101  101  1JHN                   54.7359  56.825605"
      ]
     },
     "execution_count": 72,
     "metadata": {},
     "output_type": "execute_result"
    }
   ],
   "source": [
    "oof_M030.loc[oof_M030['type'] == '1JHN'].head()"
   ]
  },
  {
   "cell_type": "code",
   "execution_count": 41,
   "metadata": {},
   "outputs": [],
   "source": [
    "# 1JHC - M046_1JHC\n",
    "# 2JHH - M043\n",
    "# 1JHN - M030\n",
    "# 2JHN - M031\n",
    "# 2JHC - M046_2JHC\n",
    "# 3JHH - M038\n",
    "# 3JHC - M046_3JHC\n",
    "# 3JHN - M038\n",
    "oof_final = oof_M031[['id','type','scalar_coupling_constant']].copy()\n",
    "oof_final = oof_final.merge(oof_M046_1JHC[['id','oof_preds']], on='id', how='left', suffixes=('','_1JHC'))\n",
    "oof_final = oof_final.merge(oof_M046_2JHC[['id','oof_preds']], on='id', how='left', suffixes=('','_2JHC'))\n",
    "oof_final = oof_final.merge(oof_M046_3JHC[['id','oof_preds']], on='id', how='left', suffixes=('','_3JHC'))\n",
    "oof_final.loc[oof_final['type'] == '2JHH', 'oof_preds_2JHH'] = oof_M043.loc[oof_M043['type'] == '2JHH']['oof_preds']\n",
    "oof_final.loc[oof_final['type'] == '1JHN', 'oof_preds_1JHN'] = oof_M030.loc[oof_M030['type'] == '1JHN']['oof_preds']\n",
    "oof_final.loc[oof_final['type'] == '2JHN', 'oof_preds_2JHN'] = oof_M031.loc[oof_M031['type'] == '2JHN']['oof_preds']\n",
    "oof_final.loc[oof_final['type'] == '3JHH', 'oof_preds_3JHH'] = oof_M038.loc[oof_M038['type'] == '3JHH']['oof_preds']\n",
    "oof_final.loc[oof_final['type'] == '3JHN', 'oof_preds_3JHN'] = oof_M038.loc[oof_M038['type'] == '3JHN']['oof_preds']"
   ]
  },
  {
   "cell_type": "code",
   "execution_count": 46,
   "metadata": {},
   "outputs": [],
   "source": [
    "oof_final['oof_combined'] = oof_final[['oof_preds', 'oof_preds_2JHC',\n",
    "       'oof_preds_3JHC', 'oof_preds_2JHH', 'oof_preds_1JHN', 'oof_preds_2JHN',\n",
    "       'oof_preds_3JHH', 'oof_preds_3JHN']].sum(axis=1)"
   ]
  },
  {
   "cell_type": "code",
   "execution_count": 63,
   "metadata": {},
   "outputs": [],
   "source": [
    "ss = pd.read_csv('../input/test.csv')\n",
    "ss = ss.merge(sub_M046_1JHC.loc[sub_M046_1JHC['type'] == '1JHC'][['id','prediction']], on='id', how='left', suffixes=('','_1JHC'))\n",
    "ss = ss.merge(sub_M046_2JHC.loc[sub_M046_2JHC['type'] == '2JHC'][['id','prediction']], on='id', how='left', suffixes=('','_2JHC'))\n",
    "ss = ss.merge(sub_M046_3JHC.loc[sub_M046_3JHC['type'] == '3JHC'][['id','prediction']], on='id', how='left', suffixes=('','_3JHC'))\n",
    "ss.loc[ss['type'] == '2JHH', 'preds_2JHH'] = sub_M043.loc[ss['type'] == '2JHH']['scalar_coupling_constant']\n",
    "ss.loc[ss['type'] == '1JHN', 'preds_1JHN'] = sub_M030.loc[ss['type'] == '1JHN']['scalar_coupling_constant']\n",
    "ss.loc[ss['type'] == '2JHN', 'preds_2JHN'] = sub_M031.loc[ss['type'] == '2JHN']['scalar_coupling_constant']\n",
    "ss.loc[ss['type'] == '3JHH', 'preds_3JHH'] = sub_M038.loc[ss['type'] == '3JHH']['scalar_coupling_constant']\n",
    "ss.loc[ss['type'] == '3JHN', 'preds_3JHN'] = sub_M038.loc[ss['type'] == '3JHN']['scalar_coupling_constant']"
   ]
  },
  {
   "cell_type": "code",
   "execution_count": 68,
   "metadata": {},
   "outputs": [],
   "source": [
    "ss['scalar_coupling_constant'] = ss[['prediction', 'prediction_2JHC', 'prediction_3JHC', 'preds_2JHH',\n",
    "       'preds_1JHN', 'preds_2JHN', 'preds_3JHH', 'preds_3JHN']].sum(axis=1)"
   ]
  },
  {
   "cell_type": "code",
   "execution_count": 73,
   "metadata": {},
   "outputs": [
    {
     "name": "stdout",
     "output_type": "stream",
     "text": [
      "1JHC\n",
      "0.49759548437435286\n",
      "1JHN\n",
      "0.35815790678334736\n",
      "2JHC\n",
      "0.1957371996255439\n",
      "2JHH\n",
      "0.13819274540620405\n",
      "2JHN\n",
      "0.13000911360249118\n",
      "3JHC\n",
      "0.2216202227144778\n",
      "3JHH\n",
      "0.14977686316390257\n",
      "3JHN\n",
      "0.11470001176414876\n"
     ]
    }
   ],
   "source": [
    "for i, d in oof_final.groupby('type'):\n",
    "    print(i)\n",
    "    print(mean_absolute_error(d['scalar_coupling_constant'], d['oof_combined']))"
   ]
  },
  {
   "cell_type": "code",
   "execution_count": 76,
   "metadata": {},
   "outputs": [
    {
     "data": {
      "text/plain": [
       "-1.618227742812593"
      ]
     },
     "execution_count": 76,
     "metadata": {},
     "output_type": "execute_result"
    }
   ],
   "source": [
    "group_mean_log_mae(oof_final['scalar_coupling_constant'], oof_final['oof_combined'], oof_final['type'])"
   ]
  },
  {
   "cell_type": "code",
   "execution_count": 77,
   "metadata": {},
   "outputs": [],
   "source": [
    "sub_M025 = pd.read_csv('../submissions/M025_0629_1311_submission_lgb_2folds_-1.3265CV_500000iter_0.1lr.csv')\n",
    "ss['scc_good'] = sub_M025['scalar_coupling_constant']"
   ]
  },
  {
   "cell_type": "code",
   "execution_count": 79,
   "metadata": {},
   "outputs": [
    {
     "data": {
      "text/html": [
       "<div>\n",
       "<style scoped>\n",
       "    .dataframe tbody tr th:only-of-type {\n",
       "        vertical-align: middle;\n",
       "    }\n",
       "\n",
       "    .dataframe tbody tr th {\n",
       "        vertical-align: top;\n",
       "    }\n",
       "\n",
       "    .dataframe thead th {\n",
       "        text-align: right;\n",
       "    }\n",
       "</style>\n",
       "<table border=\"1\" class=\"dataframe\">\n",
       "  <thead>\n",
       "    <tr style=\"text-align: right;\">\n",
       "      <th></th>\n",
       "      <th>scc_good</th>\n",
       "      <th>scalar_coupling_constant</th>\n",
       "    </tr>\n",
       "  </thead>\n",
       "  <tbody>\n",
       "    <tr>\n",
       "      <th>scc_good</th>\n",
       "      <td>1.000000</td>\n",
       "      <td>0.999911</td>\n",
       "    </tr>\n",
       "    <tr>\n",
       "      <th>scalar_coupling_constant</th>\n",
       "      <td>0.999911</td>\n",
       "      <td>1.000000</td>\n",
       "    </tr>\n",
       "  </tbody>\n",
       "</table>\n",
       "</div>"
      ],
      "text/plain": [
       "                          scc_good  scalar_coupling_constant\n",
       "scc_good                  1.000000                  0.999911\n",
       "scalar_coupling_constant  0.999911                  1.000000"
      ]
     },
     "execution_count": 79,
     "metadata": {},
     "output_type": "execute_result"
    }
   ],
   "source": [
    "ss[['scc_good','scalar_coupling_constant']].corr()"
   ]
  },
  {
   "cell_type": "code",
   "execution_count": 80,
   "metadata": {},
   "outputs": [],
   "source": [
    "ss[['id','scalar_coupling_constant']] \\\n",
    "    .to_csv('../submissions/MERGE012_submission_-1.6182.csv', index=False)"
   ]
  },
  {
   "cell_type": "code",
   "execution_count": 81,
   "metadata": {},
   "outputs": [
    {
     "data": {
      "text/html": [
       "<div>\n",
       "<style scoped>\n",
       "    .dataframe tbody tr th:only-of-type {\n",
       "        vertical-align: middle;\n",
       "    }\n",
       "\n",
       "    .dataframe tbody tr th {\n",
       "        vertical-align: top;\n",
       "    }\n",
       "\n",
       "    .dataframe thead th {\n",
       "        text-align: right;\n",
       "    }\n",
       "</style>\n",
       "<table border=\"1\" class=\"dataframe\">\n",
       "  <thead>\n",
       "    <tr style=\"text-align: right;\">\n",
       "      <th></th>\n",
       "      <th>id</th>\n",
       "      <th>type</th>\n",
       "      <th>scalar_coupling_constant</th>\n",
       "      <th>oof_preds</th>\n",
       "      <th>oof_preds_2JHC</th>\n",
       "      <th>oof_preds_3JHC</th>\n",
       "      <th>oof_preds_2JHH</th>\n",
       "      <th>oof_preds_1JHN</th>\n",
       "      <th>oof_preds_2JHN</th>\n",
       "      <th>oof_preds_3JHH</th>\n",
       "      <th>oof_preds_3JHN</th>\n",
       "      <th>oof_combined</th>\n",
       "    </tr>\n",
       "  </thead>\n",
       "  <tbody>\n",
       "    <tr>\n",
       "      <th>0</th>\n",
       "      <td>0</td>\n",
       "      <td>1JHC</td>\n",
       "      <td>84.8076</td>\n",
       "      <td>75.746881</td>\n",
       "      <td>NaN</td>\n",
       "      <td>NaN</td>\n",
       "      <td>NaN</td>\n",
       "      <td>NaN</td>\n",
       "      <td>NaN</td>\n",
       "      <td>NaN</td>\n",
       "      <td>NaN</td>\n",
       "      <td>75.746881</td>\n",
       "    </tr>\n",
       "    <tr>\n",
       "      <th>1</th>\n",
       "      <td>1</td>\n",
       "      <td>2JHH</td>\n",
       "      <td>-11.2570</td>\n",
       "      <td>NaN</td>\n",
       "      <td>NaN</td>\n",
       "      <td>NaN</td>\n",
       "      <td>-10.350698</td>\n",
       "      <td>NaN</td>\n",
       "      <td>NaN</td>\n",
       "      <td>NaN</td>\n",
       "      <td>NaN</td>\n",
       "      <td>-10.350698</td>\n",
       "    </tr>\n",
       "    <tr>\n",
       "      <th>2</th>\n",
       "      <td>2</td>\n",
       "      <td>2JHH</td>\n",
       "      <td>-11.2548</td>\n",
       "      <td>NaN</td>\n",
       "      <td>NaN</td>\n",
       "      <td>NaN</td>\n",
       "      <td>-10.631398</td>\n",
       "      <td>NaN</td>\n",
       "      <td>NaN</td>\n",
       "      <td>NaN</td>\n",
       "      <td>NaN</td>\n",
       "      <td>-10.631398</td>\n",
       "    </tr>\n",
       "    <tr>\n",
       "      <th>3</th>\n",
       "      <td>3</td>\n",
       "      <td>2JHH</td>\n",
       "      <td>-11.2543</td>\n",
       "      <td>NaN</td>\n",
       "      <td>NaN</td>\n",
       "      <td>NaN</td>\n",
       "      <td>-10.805525</td>\n",
       "      <td>NaN</td>\n",
       "      <td>NaN</td>\n",
       "      <td>NaN</td>\n",
       "      <td>NaN</td>\n",
       "      <td>-10.805525</td>\n",
       "    </tr>\n",
       "    <tr>\n",
       "      <th>4</th>\n",
       "      <td>4</td>\n",
       "      <td>1JHC</td>\n",
       "      <td>84.8074</td>\n",
       "      <td>76.001890</td>\n",
       "      <td>NaN</td>\n",
       "      <td>NaN</td>\n",
       "      <td>NaN</td>\n",
       "      <td>NaN</td>\n",
       "      <td>NaN</td>\n",
       "      <td>NaN</td>\n",
       "      <td>NaN</td>\n",
       "      <td>76.001890</td>\n",
       "    </tr>\n",
       "  </tbody>\n",
       "</table>\n",
       "</div>"
      ],
      "text/plain": [
       "   id  type  scalar_coupling_constant  oof_preds  oof_preds_2JHC  \\\n",
       "0   0  1JHC                   84.8076  75.746881             NaN   \n",
       "1   1  2JHH                  -11.2570        NaN             NaN   \n",
       "2   2  2JHH                  -11.2548        NaN             NaN   \n",
       "3   3  2JHH                  -11.2543        NaN             NaN   \n",
       "4   4  1JHC                   84.8074  76.001890             NaN   \n",
       "\n",
       "   oof_preds_3JHC  oof_preds_2JHH  oof_preds_1JHN  oof_preds_2JHN  \\\n",
       "0             NaN             NaN             NaN             NaN   \n",
       "1             NaN      -10.350698             NaN             NaN   \n",
       "2             NaN      -10.631398             NaN             NaN   \n",
       "3             NaN      -10.805525             NaN             NaN   \n",
       "4             NaN             NaN             NaN             NaN   \n",
       "\n",
       "   oof_preds_3JHH  oof_preds_3JHN  oof_combined  \n",
       "0             NaN             NaN     75.746881  \n",
       "1             NaN             NaN    -10.350698  \n",
       "2             NaN             NaN    -10.631398  \n",
       "3             NaN             NaN    -10.805525  \n",
       "4             NaN             NaN     76.001890  "
      ]
     },
     "execution_count": 81,
     "metadata": {},
     "output_type": "execute_result"
    }
   ],
   "source": [
    "oof_final.head()"
   ]
  },
  {
   "cell_type": "code",
   "execution_count": 82,
   "metadata": {},
   "outputs": [],
   "source": [
    "oof_final[['id','type','scalar_coupling_constant','oof_combined']].to_csv('../oof/MERGE011_submission_-1.6182CV.csv', index=False)"
   ]
  },
  {
   "cell_type": "code",
   "execution_count": 84,
   "metadata": {},
   "outputs": [
    {
     "data": {
      "image/png": "[encoded data removed]",
      "text/plain": [
       "<Figure size 432x288 with 1 Axes>"
      ]
     },
     "metadata": {
      "needs_background": "light"
     },
     "output_type": "display_data"
    },
    {
     "data": {
      "image/png": "[encoded data removed]",
      "text/plain": [
       "<Figure size 432x288 with 1 Axes>"
      ]
     },
     "metadata": {
      "needs_background": "light"
     },
     "output_type": "display_data"
    },
    {
     "data": {
      "image/png": "[encoded data removed]",
      "text/plain": [
       "<Figure size 432x288 with 1 Axes>"
      ]
     },
     "metadata": {
      "needs_background": "light"
     },
     "output_type": "display_data"
    },
    {
     "data": {
      "image/png": "[encoded data removed]",
      "text/plain": [
       "<Figure size 432x288 with 1 Axes>"
      ]
     },
     "metadata": {
      "needs_background": "light"
     },
     "output_type": "display_data"
    },
    {
     "data": {
      "image/png": "[encoded data removed]",
      "text/plain": [
       "<Figure size 432x288 with 1 Axes>"
      ]
     },
     "metadata": {
      "needs_background": "light"
     },
     "output_type": "display_data"
    },
    {
     "data": {
      "image/png": "[encoded data removed]",
      "text/plain": [
       "<Figure size 432x288 with 1 Axes>"
      ]
     },
     "metadata": {
      "needs_background": "light"
     },
     "output_type": "display_data"
    },
    {
     "data": {
      "image/png": "[encoded data removed]",
      "text/plain": [
       "<Figure size 432x288 with 1 Axes>"
      ]
     },
     "metadata": {
      "needs_background": "light"
     },
     "output_type": "display_data"
    },
    {
     "data": {
      "image/png": "[encoded data removed]",
      "text/plain": [
       "<Figure size 432x288 with 1 Axes>"
      ]
     },
     "metadata": {
      "needs_background": "light"
     },
     "output_type": "display_data"
    }
   ],
   "source": [
    "for i, d in ss.groupby('type'):\n",
    "    d.plot(x='scc_good', y='scalar_coupling_constant', kind='scatter', title=i)\n",
    "    plt.show()"
   ]
  },
  {
   "cell_type": "code",
   "execution_count": null,
   "metadata": {},
   "outputs": [],
   "source": []
  }
 ],
 "metadata": {
  "kernelspec": {
   "display_name": "Python 3",
   "language": "python",
   "name": "python3"
  },
  "language_info": {
   "codemirror_mode": {
    "name": "ipython",
    "version": 3
   },
   "file_extension": ".py",
   "mimetype": "text/x-python",
   "name": "python",
   "nbconvert_exporter": "python",
   "pygments_lexer": "ipython3",
   "version": "3.6.8"
  }
 },
 "nbformat": 4,
 "nbformat_minor": 4
}
