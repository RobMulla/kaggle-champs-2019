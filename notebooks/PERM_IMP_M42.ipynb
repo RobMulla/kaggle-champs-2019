{
 "cells": [
  {
   "cell_type": "markdown",
   "metadata": {},
   "source": [
    "# Permutation Importance on Model M042\n",
    "- Per Type, find features which do not help the model"
   ]
  },
  {
   "cell_type": "code",
   "execution_count": 1,
   "metadata": {},
   "outputs": [],
   "source": [
    "import pandas as pd\n",
    "import catboost\n",
    "from sklearn.model_selection import GroupKFold\n",
    "from sklearn.metrics import mean_absolute_error\n",
    "from tqdm import tqdm\n",
    "import numpy as np\n",
    "import gc"
   ]
  },
  {
   "cell_type": "code",
   "execution_count": 2,
   "metadata": {},
   "outputs": [],
   "source": [
    "fi = pd.read_csv('../temp/temp4of6_M042_0709_1336_fi_catboost_2folds_500000iter_0.1lr.csv')"
   ]
  },
  {
   "cell_type": "code",
   "execution_count": 3,
   "metadata": {},
   "outputs": [],
   "source": [
    "def permutation_importance(model, X_val, y_val, metric, t, threshold=0.005,\n",
    "                           minimize=True, verbose=True, thread_count=16):\n",
    "    \"\"\"\n",
    "    Reference: https://www.kaggle.com/speedwagon/permutation-importance\n",
    "    \n",
    "    Modified by Rob\n",
    "    \"\"\"\n",
    "    results = {}\n",
    "    \n",
    "    y_pred = model.predict(X_val, thread_count=thread_count)\n",
    "    \n",
    "    results['base_score'] = metric(y_val, y_pred)\n",
    "    if verbose:\n",
    "        print(f'Base score {results[\"base_score\"]:.5}')\n",
    "\n",
    "    feature_list = fi.loc[fi['type'] == t].groupby('feature').mean().sort_values('importance').index.tolist()\n",
    "    for col in tqdm(feature_list):\n",
    "        freezed_col = X_val[col].copy()\n",
    "\n",
    "        X_val[col] = np.random.permutation(X_val[col])\n",
    "        preds = model.predict(X_val, thread_count=thread_count)\n",
    "        results[col] = metric(y_val, preds)\n",
    "\n",
    "        X_val[col] = freezed_col\n",
    "        \n",
    "        if verbose:\n",
    "            print(f'column: {col} - {results[col]:.5}')\n",
    "    \n",
    "    if minimize:\n",
    "        bad_features = [k for k in results if results[k] < results['base_score'] + threshold]\n",
    "    else:\n",
    "        bad_features = [k for k in results if results[k] > results['base_score'] + threshold]\n",
    "    bad_features.remove('base_score')\n",
    "    \n",
    "    return results, bad_features"
   ]
  },
  {
   "cell_type": "code",
   "execution_count": null,
   "metadata": {},
   "outputs": [
    {
     "name": "stdout",
     "output_type": "stream",
     "text": [
      "Running for 3JHC\n",
      "Model loaded\n"
     ]
    },
    {
     "name": "stderr",
     "output_type": "stream",
     "text": [
      "  0%|          | 0/318 [00:00<?, ?it/s]"
     ]
    },
    {
     "name": "stdout",
     "output_type": "stream",
     "text": [
      "Base score 0.24577\n"
     ]
    },
    {
     "name": "stderr",
     "output_type": "stream",
     "text": [
      "  0%|          | 1/318 [01:49<9:40:05, 109.80s/it]"
     ]
    },
    {
     "name": "stdout",
     "output_type": "stream",
     "text": [
      "column: closest_to_0_atomic_mass - 0.24577\n"
     ]
    },
    {
     "name": "stderr",
     "output_type": "stream",
     "text": [
      "  1%|          | 2/318 [03:48<9:51:48, 112.37s/it]"
     ]
    },
    {
     "name": "stdout",
     "output_type": "stream",
     "text": [
      "column: val_not_1_min - 0.24577\n"
     ]
    },
    {
     "name": "stderr",
     "output_type": "stream",
     "text": [
      "  1%|          | 3/318 [05:35<9:42:35, 110.97s/it]"
     ]
    },
    {
     "name": "stdout",
     "output_type": "stream",
     "text": [
      "column: atomic_mass_not_1_min - 0.24577\n"
     ]
    },
    {
     "name": "stderr",
     "output_type": "stream",
     "text": [
      "  1%|▏         | 4/318 [07:16<9:25:13, 108.00s/it]"
     ]
    },
    {
     "name": "stdout",
     "output_type": "stream",
     "text": [
      "column: NF - 0.24577\n"
     ]
    },
    {
     "name": "stderr",
     "output_type": "stream",
     "text": [
      "  2%|▏         | 5/318 [08:57<9:11:42, 105.76s/it]"
     ]
    },
    {
     "name": "stdout",
     "output_type": "stream",
     "text": [
      "column: 10th_closest_to_0_spin_multiplicity - 0.24577\n"
     ]
    },
    {
     "name": "stderr",
     "output_type": "stream",
     "text": [
      "  2%|▏         | 6/318 [10:38<9:03:13, 104.47s/it]"
     ]
    },
    {
     "name": "stdout",
     "output_type": "stream",
     "text": [
      "column: val_not_0_min - 0.24577\n"
     ]
    },
    {
     "name": "stderr",
     "output_type": "stream",
     "text": [
      "  2%|▏         | 7/318 [12:21<8:59:16, 104.04s/it]"
     ]
    },
    {
     "name": "stdout",
     "output_type": "stream",
     "text": [
      "column: 9th_closest_to_1_spin_multiplicity - 0.24577\n"
     ]
    },
    {
     "name": "stderr",
     "output_type": "stream",
     "text": [
      "  3%|▎         | 8/318 [14:00<8:48:38, 102.32s/it]"
     ]
    },
    {
     "name": "stdout",
     "output_type": "stream",
     "text": [
      "column: 8th_closest_to_1_spin_multiplicity - 0.24577\n"
     ]
    },
    {
     "name": "stderr",
     "output_type": "stream",
     "text": [
      "  3%|▎         | 9/318 [15:38<8:41:15, 101.22s/it]"
     ]
    },
    {
     "name": "stdout",
     "output_type": "stream",
     "text": [
      "column: 7th_closest_to_1_spin_multiplicity - 0.24577\n"
     ]
    },
    {
     "name": "stderr",
     "output_type": "stream",
     "text": [
      "  3%|▎         | 10/318 [17:24<8:45:55, 102.45s/it]"
     ]
    },
    {
     "name": "stdout",
     "output_type": "stream",
     "text": [
      "column: atomic_mass_not_0_min - 0.24577\n"
     ]
    }
   ],
   "source": [
    "types = ['3JHC', '2JHN', '1JHN', '3JHN', '2JHH', '2JHC', '3JHH', '1JHC']\n",
    "MODEL_NUMBER = 'M042'\n",
    "FE_NUMBER = 'FE017'\n",
    "results_dict = {}\n",
    "bad_features_dict = {}\n",
    "for t in types:\n",
    "    print(f'Running for {t}')\n",
    "    train = pd.read_parquet(f'../data/{FE_NUMBER}/{FE_NUMBER}-train-{t}.parquet')\n",
    "    x = pd.read_parquet('../data/FE008_train.parquet') # only loading for skeleton not features\n",
    "    model = catboost.CatBoostRegressor()\n",
    "    model.load_model(f'../models/{MODEL_NUMBER}/{MODEL_NUMBER}-0709_1336-{t}-1.model')\n",
    "    print('Model loaded')\n",
    "    mol_group = x[['molecule_name','type']].copy()\n",
    "    N_FOLDS = 2\n",
    "    folds = GroupKFold(n_splits=N_FOLDS)\n",
    "    X = train[model.feature_names_]\n",
    "    y = train['scalar_coupling_constant']\n",
    "    mol_group_type = mol_group.loc[mol_group['type'] == t]['molecule_name']\n",
    "    for fold_n, (train_idx, valid_idx) in enumerate(folds.split(X, groups=mol_group_type)):\n",
    "        X_train, X_valid = X.iloc[train_idx], X.iloc[valid_idx]\n",
    "        y_train, y_valid = y.iloc[train_idx], y.iloc[valid_idx]\n",
    "        X_valid = X_valid.copy()\n",
    "        results, bad_features = permutation_importance(model, X_valid, y_valid, metric=mean_absolute_error, t=t)\n",
    "        results_dict[t] = results\n",
    "        bad_features_dict[t] = bad_features\n",
    "        break # Only run for the first fold\n",
    "    print(f'Bad features for {t}:')\n",
    "    print(bad_features)\n",
    "    del train, x, X, y, mol_group_type\n",
    "    gc.collect()"
   ]
  },
  {
   "cell_type": "code",
   "execution_count": null,
   "metadata": {},
   "outputs": [],
   "source": []
  }
 ],
 "metadata": {
  "kernelspec": {
   "display_name": "Python 3",
   "language": "python",
   "name": "python3"
  },
  "language_info": {
   "codemirror_mode": {
    "name": "ipython",
    "version": 3
   },
   "file_extension": ".py",
   "mimetype": "text/x-python",
   "name": "python",
   "nbconvert_exporter": "python",
   "pygments_lexer": "ipython3",
   "version": "3.6.6"
  }
 },
 "nbformat": 4,
 "nbformat_minor": 2
}
