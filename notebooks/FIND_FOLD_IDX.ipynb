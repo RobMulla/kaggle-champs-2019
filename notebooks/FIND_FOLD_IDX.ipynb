{
 "cells": [
  {
   "cell_type": "code",
   "execution_count": 11,
   "metadata": {},
   "outputs": [],
   "source": [
    "import pandas as pd\n",
    "import numpy as np\n",
    "import gc\n",
    "from sklearn.model_selection import GroupKFold"
   ]
  },
  {
   "cell_type": "code",
   "execution_count": 17,
   "metadata": {},
   "outputs": [
    {
     "data": {
      "text/plain": [
       "array([     10,      13,      15, ..., 4656012, 4656179, 4656569])"
      ]
     },
     "execution_count": 17,
     "metadata": {},
     "output_type": "execute_result"
    }
   ],
   "source": [
    "np.save(X_type.loc[train_idx]['id'].values"
   ]
  },
  {
   "cell_type": "code",
   "execution_count": 22,
   "metadata": {},
   "outputs": [],
   "source": [
    "types = ['3JHN', '2JHH', '1JHN', '3JHH', '1JHC', '2JHN', '2JHC', '3JHC']\n",
    "N_FOLDS = 3\n",
    "FEATURES = ['id']\n",
    "TARGET = 'scalar_coupling_constant'\n",
    "folds = GroupKFold(n_splits=N_FOLDS)\n",
    "train_df = pd.read_csv(\"../input/train.csv\")\n",
    "mol_group = train_df[[\"molecule_name\", \"type\"]].copy()\n",
    "del train_df\n",
    "gc.collect()\n",
    "for bond_type in types:\n",
    "    train_df = pd.read_parquet(\n",
    "        \"../data/FE019/FE019-train-{}.parquet\".format(bond_type)\n",
    "    )\n",
    "    test_df = pd.read_parquet(\n",
    "        \"../data/FE019/FE019-test-{}.parquet\".format(bond_type)\n",
    "    )\n",
    "    X_type = train_df[FEATURES].copy()\n",
    "    X_test_type = test_df[FEATURES].copy()\n",
    "    y_type = train_df[TARGET].copy()\n",
    "    del train_df, test_df\n",
    "    gc.collect()\n",
    "    mol_group_type = mol_group.loc[mol_group[\"type\"] == bond_type][\"molecule_name\"]\n",
    "    for fold_n, (train_idx, valid_idx) in enumerate(\n",
    "        folds.split(X_type, groups=mol_group_type)):\n",
    "            np.save(f'../folds/3FOLD-{bond_type}-fold{fold_n}-train_ids', X_type.loc[train_idx]['id'].values)\n",
    "            np.save(f'../folds/3FOLD-{bond_type}-fold{fold_n}-valid_ids', X_type.loc[valid_idx]['id'].values)"
   ]
  },
  {
   "cell_type": "code",
   "execution_count": 36,
   "metadata": {},
   "outputs": [
    {
     "name": "stdout",
     "output_type": "stream",
     "text": [
      "3JHN - 0\n"
     ]
    }
   ],
   "source": [
    "types = ['3JHN', '2JHH', '1JHN', '3JHH', '1JHC', '2JHN', '2JHC', '3JHC']\n",
    "N_FOLDS = 3\n",
    "FEATURES = ['id']\n",
    "TARGET = 'scalar_coupling_constant'\n",
    "folds = GroupKFold(n_splits=N_FOLDS)\n",
    "train_df = pd.read_csv(\"../input/train.csv\")\n",
    "mol_group = train_df[[\"molecule_name\", \"type\"]].copy()\n",
    "del train_df\n",
    "gc.collect()\n",
    "for bond_type in types:\n",
    "    train_df = pd.read_parquet(\n",
    "        \"../data/FE019/FE019-train-{}.parquet\".format(bond_type)\n",
    "    )\n",
    "    test_df = pd.read_parquet(\n",
    "        \"../data/FE019/FE019-test-{}.parquet\".format(bond_type)\n",
    "    )\n",
    "    X_type = train_df[FEATURES].copy()\n",
    "    X_test_type = test_df[FEATURES].copy()\n",
    "    y_type = train_df[TARGET].copy()\n",
    "    del train_df, test_df\n",
    "    gc.collect()\n",
    "    mol_group_type = mol_group.loc[mol_group[\"type\"] == bond_type][\"molecule_name\"]\n",
    "    for fold_n, (train_idx, valid_idx) in enumerate(\n",
    "        folds.split(X_type, groups=mol_group_type)):\n",
    "            print(f'{bond_type} - {fold_n}')\n",
    "            train_ids = X_type.loc[train_idx]['id'].values\n",
    "            test_ids = X_type.loc[valid_idx]['id'].values\n",
    "        \n",
    "            break\n",
    "    break\n",
    "#             np.save(f'../folds/3FOLD-{bond_type}-fold{fold_n}-train_ids', X_type.loc[train_idx]['id'].values)\n",
    "#             np.save(f'../folds/3FOLD-{bond_type}-fold{fold_n}-valid_ids', X_type.loc[valid_idx]['id'].values)"
   ]
  },
  {
   "cell_type": "code",
   "execution_count": 38,
   "metadata": {},
   "outputs": [
    {
     "data": {
      "text/plain": [
       "array([     73,      78,      82, ..., 4657880, 4658092, 4658139])"
      ]
     },
     "execution_count": 38,
     "metadata": {},
     "output_type": "execute_result"
    }
   ],
   "source": [
    "np.load('../folds/3FOLD-3JHN-fold0-train_ids.npy')"
   ]
  }
 ],
 "metadata": {
  "kernelspec": {
   "display_name": "Python 3",
   "language": "python",
   "name": "python3"
  },
  "language_info": {
   "codemirror_mode": {
    "name": "ipython",
    "version": 3
   },
   "file_extension": ".py",
   "mimetype": "text/x-python",
   "name": "python",
   "nbconvert_exporter": "python",
   "pygments_lexer": "ipython3",
   "version": "3.6.8"
  }
 },
 "nbformat": 4,
 "nbformat_minor": 4
}
