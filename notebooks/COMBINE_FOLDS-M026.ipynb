{
 "cells": [
  {
   "cell_type": "markdown",
   "metadata": {},
   "source": [
    "# M026 - 2 Folds trained seperately\n",
    "## Merge The Results together"
   ]
  },
  {
   "cell_type": "code",
   "execution_count": 8,
   "metadata": {},
   "outputs": [],
   "source": [
    "import pandas as pd\n",
    "import numpy as np\n",
    "from sklearn.metrics import mean_absolute_error\n",
    "\n",
    "def group_mean_log_mae(y_true, y_pred, groups, floor=1e-9):\n",
    "    maes = (y_true-y_pred).abs().groupby(groups).mean()\n",
    "    return np.log(maes.map(lambda x: max(x, floor))).mean()"
   ]
  },
  {
   "cell_type": "code",
   "execution_count": 9,
   "metadata": {},
   "outputs": [],
   "source": [
    "sub_f1 = pd.read_csv('../submissions/M026_0629_1637_submission_lgb_2folds_1.3690CV_500000iter_0.1lr.csv')\n",
    "sub_f2 = pd.read_csv('../submissions/M026_0629_1638_submission_lgb_2folds_1.3679CV_500000iter_0.1lr.csv')"
   ]
  },
  {
   "cell_type": "code",
   "execution_count": 3,
   "metadata": {},
   "outputs": [],
   "source": [
    "oof_f1 = pd.read_csv('../oof/M026_0629_1637_oof_lgb_2folds_1.3690CV_500000iter_0.1lr.csv')\n",
    "oof_f2 = pd.read_csv('../oof/M026_0629_1638_oof_lgb_2folds_1.3679CV_500000iter_0.1lr.csv')"
   ]
  },
  {
   "cell_type": "code",
   "execution_count": 4,
   "metadata": {},
   "outputs": [],
   "source": [
    "fi_f1 = pd.read_csv('../fi/M026_0629_1637_fi_lgb_2folds_1.3690CV_500000iter_0.1lr.csv')\n",
    "fi_f2 = pd.read_csv('../fi/M026_0629_1638_fi_lgb_2folds_1.3679CV_500000iter_0.1lr.csv')"
   ]
  },
  {
   "cell_type": "markdown",
   "metadata": {},
   "source": [
    "# Merge"
   ]
  },
  {
   "cell_type": "code",
   "execution_count": 5,
   "metadata": {},
   "outputs": [],
   "source": [
    "ss = pd.read_csv('../input/sample_submission.csv')"
   ]
  },
  {
   "cell_type": "code",
   "execution_count": 6,
   "metadata": {},
   "outputs": [],
   "source": [
    "ss['f1'] = sub_f1['scalar_coupling_constant']\n",
    "ss['f2'] = sub_f2['scalar_coupling_constant']"
   ]
  },
  {
   "cell_type": "code",
   "execution_count": 10,
   "metadata": {},
   "outputs": [],
   "source": [
    "ss['scalar_coupling_constant'] = ss[['f1','f2']].sum(axis=1) # SUM BECAUSE THEY WERE DIVIDED WHEN CALCULATED RAW"
   ]
  },
  {
   "cell_type": "code",
   "execution_count": 11,
   "metadata": {},
   "outputs": [],
   "source": [
    "ss = ss.drop(['f1','f2'], axis=1)"
   ]
  },
  {
   "cell_type": "code",
   "execution_count": 31,
   "metadata": {},
   "outputs": [],
   "source": [
    "oof = oof_f1[['id','type','scalar_coupling_constant']].copy()"
   ]
  },
  {
   "cell_type": "code",
   "execution_count": 32,
   "metadata": {},
   "outputs": [],
   "source": [
    "oof['oof_f1'] = oof_f1['oof_preds']\n",
    "oof['oof_f2'] = oof_f2['oof_preds']"
   ]
  },
  {
   "cell_type": "code",
   "execution_count": 12,
   "metadata": {},
   "outputs": [],
   "source": [
    "oof['oof'] = oof[['oof_f1','oof_f2']].sum(axis=1)"
   ]
  },
  {
   "cell_type": "code",
   "execution_count": 13,
   "metadata": {},
   "outputs": [
    {
     "name": "stdout",
     "output_type": "stream",
     "text": [
      "Type 1JHC - MAE 0.7054\n",
      "Type 1JHN - MAE 0.4130\n",
      "Type 2JHC - MAE 0.3348\n",
      "Type 2JHH - MAE 0.1883\n",
      "Type 2JHN - MAE 0.1618\n",
      "Type 3JHC - MAE 0.4452\n",
      "Type 3JHH - MAE 0.2295\n",
      "Type 3JHN - MAE 0.1905\n"
     ]
    }
   ],
   "source": [
    "for i, d in oof.groupby('type'):\n",
    "    print('Type {} - MAE {:0.4f}'.format(i, mean_absolute_error(d['scalar_coupling_constant'], d['oof'])))"
   ]
  },
  {
   "cell_type": "code",
   "execution_count": 14,
   "metadata": {},
   "outputs": [
    {
     "data": {
      "text/plain": [
       "-1.2197825237349829"
      ]
     },
     "execution_count": 14,
     "metadata": {},
     "output_type": "execute_result"
    }
   ],
   "source": [
    "group_mean_log_mae(oof['scalar_coupling_constant'], oof['oof'], oof['type'])"
   ]
  },
  {
   "cell_type": "code",
   "execution_count": 15,
   "metadata": {},
   "outputs": [],
   "source": [
    "fi = pd.concat([fi_f1, fi_f2])"
   ]
  },
  {
   "cell_type": "markdown",
   "metadata": {},
   "source": [
    "# Save Results"
   ]
  },
  {
   "cell_type": "code",
   "execution_count": 39,
   "metadata": {},
   "outputs": [],
   "source": [
    "ss.to_csv('../submissions/M026_COMBINED_submission_lgb_2folds_-1.2198CV_500000iter_0.1lr.csv', index=False)\n",
    "oof.to_csv('../oof/M026_COMBINED_oof_lgb_2folds_-1.2198CV_500000iter_0.1lr.csv', index=False)\n",
    "fi.to_csv('../fi/M026_COMBINED_fi_lgb_2folds_-1.2198CV_500000iter_0.1lr.csv', index=False)"
   ]
  }
 ],
 "metadata": {
  "kernelspec": {
   "display_name": "Python 3",
   "language": "python",
   "name": "python3"
  },
  "language_info": {
   "codemirror_mode": {
    "name": "ipython",
    "version": 3
   },
   "file_extension": ".py",
   "mimetype": "text/x-python",
   "name": "python",
   "nbconvert_exporter": "python",
   "pygments_lexer": "ipython3",
   "version": "3.6.6"
  }
 },
 "nbformat": 4,
 "nbformat_minor": 2
}
