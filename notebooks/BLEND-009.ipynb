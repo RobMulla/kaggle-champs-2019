{
 "cells": [
  {
   "cell_type": "markdown",
   "metadata": {},
   "source": [
    "# BLEND009\n",
    "July14th Best"
   ]
  },
  {
   "cell_type": "code",
   "execution_count": 310,
   "metadata": {},
   "outputs": [],
   "source": [
    "import pandas as pd\n",
    "import numpy as np\n",
    "import os\n",
    "\n",
    "from sklearn.metrics import mean_absolute_error\n",
    "\n",
    "def group_mean_log_mae(y_true, y_pred, groups, floor=1e-9):\n",
    "    maes = (y_true-y_pred).abs().groupby(groups).mean()\n",
    "    return np.log(maes.map(lambda x: max(x, floor))).mean()\n",
    "\n",
    "def log_mean_absolute_error(y_true, y_pred):\n",
    "    return np.log(mean_absolute_error(y_true, y_pred))\n",
    "%matplotlib inline"
   ]
  },
  {
   "cell_type": "markdown",
   "metadata": {},
   "source": [
    "# 1JHC"
   ]
  },
  {
   "cell_type": "code",
   "execution_count": 311,
   "metadata": {},
   "outputs": [
    {
     "name": "stdout",
     "output_type": "stream",
     "text": [
      "M037-0.5176\n",
      "M038-0.532\n",
      "M040-0.5477\n",
      "M043-0.6686\n",
      "M044-0.6206\n",
      "M045-0.6455\n",
      "M046-0.698\n"
     ]
    }
   ],
   "source": [
    "types = ['1JHC', '2JHH', '1JHN', '2JHN', '2JHC','3JHH','3JHC', '3JHN']\n",
    "\n",
    "oof_1JHC = []\n",
    "sub_1JHC = []\n",
    "\n",
    "t = '1JHC'\n",
    "for file in sorted(os.listdir(f'../type_results/{t}/')):\n",
    "    if 'submission' in file:\n",
    "        model_id = file[:4] + file.split('MAE_')[1].replace('L','')\n",
    "        print(model_id)\n",
    "        df = pd.read_parquet(f'../type_results/{t}/{file}')\n",
    "        if len(sub_1JHC) == 0:\n",
    "            sub_1JHC = df.rename(columns={'scalar_coupling_constant': model_id})\n",
    "        else:\n",
    "            sub_1JHC[model_id] = df['scalar_coupling_constant']\n",
    "    elif 'oof' in file:\n",
    "        model_id = file[:4] + file.split('MAE_')[1].replace('L','')\n",
    "        #print(model_id)\n",
    "        df = pd.read_parquet(f'../type_results/{t}/{file}')\n",
    "        if len(oof_1JHC) == 0:\n",
    "            oof_1JHC = df.rename(columns={'oof_preds': model_id})\n",
    "        else:\n",
    "            oof_1JHC[model_id] = df['oof_preds']"
   ]
  },
  {
   "cell_type": "code",
   "execution_count": 312,
   "metadata": {},
   "outputs": [
    {
     "name": "stdout",
     "output_type": "stream",
     "text": [
      "-0.7853278647369253\n"
     ]
    }
   ],
   "source": [
    "blend_1JHC = (\\\n",
    "              #oof_1JHC['M037-0.5176'] + \\\n",
    "              oof_1JHC['M038-0.532'] + \\\n",
    "              oof_1JHC['M040-0.5477'] + \\\n",
    "              oof_1JHC['M043-0.6686'] + \\\n",
    "              oof_1JHC['M044-0.6206'] + \\\n",
    "              oof_1JHC['M045-0.6455'] + \\\n",
    "              4 * oof_1JHC['M046-0.698']) / 9\n",
    "\n",
    "sub_1JHC_col = (\\\n",
    "              #oof_1JHC['M037-0.5176'] + \\\n",
    "              sub_1JHC['M038-0.532'] + \\\n",
    "              sub_1JHC['M040-0.5477'] + \\\n",
    "              sub_1JHC['M043-0.6686'] + \\\n",
    "              sub_1JHC['M044-0.6206'] + \\\n",
    "              sub_1JHC['M045-0.6455'] + \\\n",
    "              4 * sub_1JHC['M046-0.698']) / 9\n",
    "\n",
    "print(log_mean_absolute_error(oof_1JHC['scalar_coupling_constant'],\n",
    "                        blend_1JHC))\n",
    "\n",
    "sub_1JHC['scalar_coupling_constant'] = sub_1JHC_col\n",
    "oof_1JHC['oof_blend'] = blend_1JHC"
   ]
  },
  {
   "cell_type": "markdown",
   "metadata": {},
   "source": [
    "# 2JHC"
   ]
  },
  {
   "cell_type": "code",
   "execution_count": 332,
   "metadata": {},
   "outputs": [
    {
     "name": "stdout",
     "output_type": "stream",
     "text": [
      "M037-1.49\n",
      "M039-1.452\n",
      "M040-1.518\n",
      "M041-1.449\n",
      "M043-1.543\n",
      "M046-1.631\n"
     ]
    }
   ],
   "source": [
    "oof_2JHC = []\n",
    "sub_2JHC = []\n",
    "\n",
    "t = '2JHC'\n",
    "for file in sorted(os.listdir(f'../type_results/{t}/')):\n",
    "    if 'submission' in file:\n",
    "        model_id = file[:4] + file.split('MAE_')[1].replace('L','')\n",
    "        print(model_id)\n",
    "        df = pd.read_parquet(f'../type_results/{t}/{file}')\n",
    "        if len(sub_2JHC) == 0:\n",
    "            sub_2JHC = df.rename(columns={'scalar_coupling_constant': model_id})\n",
    "        else:\n",
    "            sub_2JHC[model_id] = df['scalar_coupling_constant']\n",
    "    elif 'oof' in file:\n",
    "        model_id = file[:4] + file.split('MAE_')[1].replace('L','')\n",
    "        #print(model_id)\n",
    "        df = pd.read_parquet(f'../type_results/{t}/{file}')\n",
    "        if len(oof_2JHC) == 0:\n",
    "            oof_2JHC = df.rename(columns={'oof_preds': model_id})\n",
    "        else:\n",
    "            oof_2JHC[model_id] = df['oof_preds']"
   ]
  },
  {
   "cell_type": "code",
   "execution_count": 334,
   "metadata": {},
   "outputs": [
    {
     "data": {
      "text/html": [
       "<div>\n",
       "<style scoped>\n",
       "    .dataframe tbody tr th:only-of-type {\n",
       "        vertical-align: middle;\n",
       "    }\n",
       "\n",
       "    .dataframe tbody tr th {\n",
       "        vertical-align: top;\n",
       "    }\n",
       "\n",
       "    .dataframe thead th {\n",
       "        text-align: right;\n",
       "    }\n",
       "</style>\n",
       "<table border=\"1\" class=\"dataframe\">\n",
       "  <thead>\n",
       "    <tr style=\"text-align: right;\">\n",
       "      <th></th>\n",
       "      <th>id</th>\n",
       "      <th>type</th>\n",
       "      <th>scalar_coupling_constant</th>\n",
       "      <th>M037-1.49</th>\n",
       "      <th>M039-1.452</th>\n",
       "      <th>M040-1.518</th>\n",
       "      <th>M041-1.449</th>\n",
       "      <th>M043-1.543</th>\n",
       "      <th>M046-1.631</th>\n",
       "    </tr>\n",
       "  </thead>\n",
       "  <tbody>\n",
       "    <tr>\n",
       "      <th>20</th>\n",
       "      <td>20</td>\n",
       "      <td>2JHC</td>\n",
       "      <td>-2.37831</td>\n",
       "      <td>-1.967496</td>\n",
       "      <td>-2.531525</td>\n",
       "      <td>-2.502260</td>\n",
       "      <td>-2.452350</td>\n",
       "      <td>NaN</td>\n",
       "      <td>-2.347212</td>\n",
       "    </tr>\n",
       "    <tr>\n",
       "      <th>27</th>\n",
       "      <td>27</td>\n",
       "      <td>2JHC</td>\n",
       "      <td>-2.37862</td>\n",
       "      <td>-2.213375</td>\n",
       "      <td>-2.405425</td>\n",
       "      <td>-2.518072</td>\n",
       "      <td>-2.288780</td>\n",
       "      <td>NaN</td>\n",
       "      <td>-2.274532</td>\n",
       "    </tr>\n",
       "    <tr>\n",
       "      <th>33</th>\n",
       "      <td>33</td>\n",
       "      <td>2JHC</td>\n",
       "      <td>-2.37716</td>\n",
       "      <td>-2.217228</td>\n",
       "      <td>-2.448348</td>\n",
       "      <td>-2.554644</td>\n",
       "      <td>-1.730092</td>\n",
       "      <td>NaN</td>\n",
       "      <td>-2.141038</td>\n",
       "    </tr>\n",
       "    <tr>\n",
       "      <th>37</th>\n",
       "      <td>37</td>\n",
       "      <td>2JHC</td>\n",
       "      <td>-2.37876</td>\n",
       "      <td>-2.094884</td>\n",
       "      <td>-2.472362</td>\n",
       "      <td>-2.430617</td>\n",
       "      <td>-2.128607</td>\n",
       "      <td>NaN</td>\n",
       "      <td>-2.253565</td>\n",
       "    </tr>\n",
       "    <tr>\n",
       "      <th>41</th>\n",
       "      <td>41</td>\n",
       "      <td>2JHC</td>\n",
       "      <td>-2.37852</td>\n",
       "      <td>-2.010456</td>\n",
       "      <td>-2.319888</td>\n",
       "      <td>-2.374249</td>\n",
       "      <td>-2.294424</td>\n",
       "      <td>NaN</td>\n",
       "      <td>-2.224685</td>\n",
       "    </tr>\n",
       "  </tbody>\n",
       "</table>\n",
       "</div>"
      ],
      "text/plain": [
       "    id  type  scalar_coupling_constant  M037-1.49  M039-1.452  M040-1.518  \\\n",
       "20  20  2JHC                  -2.37831  -1.967496   -2.531525   -2.502260   \n",
       "27  27  2JHC                  -2.37862  -2.213375   -2.405425   -2.518072   \n",
       "33  33  2JHC                  -2.37716  -2.217228   -2.448348   -2.554644   \n",
       "37  37  2JHC                  -2.37876  -2.094884   -2.472362   -2.430617   \n",
       "41  41  2JHC                  -2.37852  -2.010456   -2.319888   -2.374249   \n",
       "\n",
       "    M041-1.449  M043-1.543  M046-1.631  \n",
       "20   -2.452350         NaN   -2.347212  \n",
       "27   -2.288780         NaN   -2.274532  \n",
       "33   -1.730092         NaN   -2.141038  \n",
       "37   -2.128607         NaN   -2.253565  \n",
       "41   -2.294424         NaN   -2.224685  "
      ]
     },
     "execution_count": 334,
     "metadata": {},
     "output_type": "execute_result"
    }
   ],
   "source": [
    "oof_2JHC.head()"
   ]
  },
  {
   "cell_type": "code",
   "execution_count": 343,
   "metadata": {},
   "outputs": [
    {
     "name": "stdout",
     "output_type": "stream",
     "text": [
      "-1.7022229486890645\n"
     ]
    }
   ],
   "source": [
    "blend_2JHC = (\\\n",
    "    oof_2JHC['M037-1.49'] + \\\n",
    "    #oof_2JHC['M039-1.452'] + \\\n",
    "    oof_2JHC['M040-1.518'] + \\\n",
    "    oof_2JHC['M041-1.449'] + \\\n",
    "    #oof_2JHC['M043-1.543'] + \\\n",
    "    4 * oof_2JHC['M046-1.631'] ) / 7\n",
    "\n",
    "sub_2JHC_col = (\\\n",
    "    sub_2JHC['M037-1.49'] + \\\n",
    "    #sub_2JHC['M039-1.452'] + \\\n",
    "    sub_2JHC['M040-1.518'] + \\\n",
    "    sub_2JHC['M041-1.449'] + \\\n",
    "    #sub_2JHC['M043-1.543'] + \\\n",
    "    4 * sub_2JHC['M046-1.631'] ) / 7\n",
    "\n",
    "print(log_mean_absolute_error(oof_2JHC['scalar_coupling_constant'],\n",
    "                        blend_2JHC))\n",
    "\n",
    "sub_2JHC['scalar_coupling_constant'] = sub_2JHC_col\n",
    "oof_2JHC['oof_blend'] = blend_2JHC"
   ]
  },
  {
   "cell_type": "markdown",
   "metadata": {},
   "source": [
    "# 1JHN"
   ]
  },
  {
   "cell_type": "code",
   "execution_count": 344,
   "metadata": {},
   "outputs": [
    {
     "name": "stdout",
     "output_type": "stream",
     "text": [
      "M035-0.9231\n",
      "M035-0.9557\n",
      "M036-0.1603\n",
      "M036-0.9489\n",
      "M037-0.8456\n",
      "M038-0.9475\n",
      "M039-0.8116\n",
      "M040-0.9207\n",
      "M042-0.9519\n",
      "M043-0.9771\n",
      "M046-1.031\n"
     ]
    }
   ],
   "source": [
    "types = ['1JHC', '2JHH', '1JHN', '2JHN','3JHH','3JHC', '3JHN']\n",
    "\n",
    "oof_1JHN = []\n",
    "sub_1JHN = []\n",
    "\n",
    "t = '1JHN'\n",
    "for file in sorted(os.listdir(f'../type_results/{t}/')):\n",
    "    if 'submission' in file:\n",
    "        model_id = file[:4] + file.split('MAE_')[1].replace('L','')\n",
    "        print(model_id)\n",
    "        df = pd.read_parquet(f'../type_results/{t}/{file}')\n",
    "        if len(sub_1JHN) == 0:\n",
    "            sub_1JHN = df.rename(columns={'scalar_coupling_constant': model_id})\n",
    "        else:\n",
    "            sub_1JHN[model_id] = df['scalar_coupling_constant']\n",
    "    elif 'oof' in file:\n",
    "        model_id = file[:4] + file.split('MAE_')[1].replace('L','')\n",
    "        #print(model_id)\n",
    "        df = pd.read_parquet(f'../type_results/{t}/{file}')\n",
    "        if len(oof_1JHN) == 0:\n",
    "            oof_1JHN = df.rename(columns={'oof_preds': model_id})\n",
    "        else:\n",
    "            oof_1JHN[model_id] = df['oof_preds']"
   ]
  },
  {
   "cell_type": "code",
   "execution_count": 345,
   "metadata": {},
   "outputs": [
    {
     "name": "stdout",
     "output_type": "stream",
     "text": [
      "-1.2001712316448077\n"
     ]
    }
   ],
   "source": [
    "blend_1JHN = (\\\n",
    "    oof_1JHN['M035-0.9231'] + \\\n",
    "    oof_1JHN['M035-0.9557'] + \\\n",
    "    #oof_1JHN['M036-0.1603'] + \\\n",
    "    oof_1JHN['M036-0.9489'] + \\\n",
    "    # oof_1JHN['M037-0.8456'] + \\\n",
    "    oof_1JHN['M038-0.9475'] + \\\n",
    "    # oof_1JHN['M039-0.8116'] + \\\n",
    "    oof_1JHN['M040-0.9207'] + \\\n",
    "    oof_1JHN['M042-0.9519'] + \\\n",
    "    2 * oof_1JHN['M043-0.9771'] + \\\n",
    "    4 * oof_1JHN['M046-1.031'] ) / 12\n",
    "\n",
    "sub_1JHN_col = (\\\n",
    "    sub_1JHN['M035-0.9231'] + \\\n",
    "    sub_1JHN['M035-0.9557'] + \\\n",
    "    #sub_1JHN['M036-0.1603'] + \\\n",
    "    sub_1JHN['M036-0.9489'] + \\\n",
    "    # sub_1JHN['M037-0.8456'] + \\\n",
    "    sub_1JHN['M038-0.9475'] + \\\n",
    "    # sub_1JHN['M039-0.8116'] + \\\n",
    "    sub_1JHN['M040-0.9207'] + \\\n",
    "    sub_1JHN['M042-0.9519'] + \\\n",
    "    2 * sub_1JHN['M043-0.9771'] + \\\n",
    "    4 * sub_1JHN['M046-1.031'] ) / 12\n",
    "\n",
    "\n",
    "\n",
    "print(log_mean_absolute_error(oof_1JHN['scalar_coupling_constant'],\n",
    "                        blend_1JHN))\n",
    "\n",
    "sub_1JHN['scalar_coupling_constant'] = sub_1JHN_col\n",
    "oof_1JHN['oof_blend'] = blend_1JHN"
   ]
  },
  {
   "cell_type": "markdown",
   "metadata": {},
   "source": [
    "# 2JHN"
   ]
  },
  {
   "cell_type": "code",
   "execution_count": 346,
   "metadata": {},
   "outputs": [
    {
     "name": "stdout",
     "output_type": "stream",
     "text": [
      "M031-2.04\n",
      "M032-1.962\n",
      "M036-1.928\n",
      "M037-1.953\n",
      "M037-1.953\n",
      "M038-1.979\n",
      "M039-1.949\n",
      "M039-1.941\n",
      "M040-1.942\n",
      "M042-1.926\n",
      "M043-1.912\n",
      "M046-2.04\n"
     ]
    }
   ],
   "source": [
    "oof_2JHN = []\n",
    "sub_2JHN = []\n",
    "\n",
    "t = '2JHN'\n",
    "for file in sorted(os.listdir(f'../type_results/{t}/')):\n",
    "    if 'submission' in file:\n",
    "        model_id = file[:4] + file.split('MAE_')[1].replace('L','')\n",
    "        print(model_id)\n",
    "        df = pd.read_parquet(f'../type_results/{t}/{file}')\n",
    "        if len(sub_2JHN) == 0:\n",
    "            sub_2JHN = df.rename(columns={'scalar_coupling_constant': model_id})\n",
    "        else:\n",
    "            sub_2JHN[model_id] = df['scalar_coupling_constant']\n",
    "    elif 'oof' in file:\n",
    "        model_id = file[:4] + file.split('MAE_')[1].replace('L','')\n",
    "        #print(model_id)\n",
    "        df = pd.read_parquet(f'../type_results/{t}/{file}')\n",
    "        if len(oof_2JHN) == 0:\n",
    "            oof_2JHN = df.rename(columns={'oof_preds': model_id})\n",
    "        else:\n",
    "            oof_2JHN[model_id] = df['oof_preds']"
   ]
  },
  {
   "cell_type": "code",
   "execution_count": 347,
   "metadata": {},
   "outputs": [
    {
     "name": "stdout",
     "output_type": "stream",
     "text": [
      "-2.2078780884560563\n"
     ]
    }
   ],
   "source": [
    "blend_2JHN = (\\\n",
    "    3 * oof_2JHN['M031-2.04'] + \\\n",
    "    oof_2JHN['M032-1.962'] + \\\n",
    "    #oof_2JHN['M036-1.928'] + \\\n",
    "    #oof_2JHN['M037-1.953'] + \\\n",
    "    oof_2JHN['M037-1.953'] + \\\n",
    "    oof_2JHN['M038-1.979'] + \\\n",
    "    #oof_2JHN['M039-1.949'] + \\\n",
    "    #oof_2JHN['M039-1.941'] + \\\n",
    "    oof_2JHN['M040-1.942'] + \\\n",
    "    oof_2JHN['M042-1.926'] + \\\n",
    "    #oof_2JHN['M043-1.912'] + \\\n",
    "    4 * oof_2JHN['M046-2.04'] ) / 12\n",
    "\n",
    "sub_2JHN_col = (\\\n",
    "    3 * sub_2JHN['M031-2.04'] + \\\n",
    "    sub_2JHN['M032-1.962'] + \\\n",
    "    #sub_2JHN['M036-1.928'] + \\\n",
    "    #sub_2JHN['M037-1.953'] + \\\n",
    "    sub_2JHN['M037-1.953'] + \\\n",
    "    sub_2JHN['M038-1.979'] + \\\n",
    "    #sub_2JHN['M039-1.949'] + \\\n",
    "    #sub_2JHN['M039-1.941'] + \\\n",
    "    sub_2JHN['M040-1.942'] + \\\n",
    "    sub_2JHN['M042-1.926'] + \\\n",
    "    #sub_2JHN['M043-1.912'] + \\\n",
    "    4 * sub_2JHN['M046-2.04'] ) / 12\n",
    "\n",
    "print(log_mean_absolute_error(oof_2JHN['scalar_coupling_constant'],\n",
    "                        blend_2JHN))\n",
    "\n",
    "sub_2JHN['scalar_coupling_constant'] = sub_2JHN_col\n",
    "oof_2JHN['oof_blend'] = blend_2JHN"
   ]
  },
  {
   "cell_type": "markdown",
   "metadata": {},
   "source": [
    "# 3JHH"
   ]
  },
  {
   "cell_type": "code",
   "execution_count": 348,
   "metadata": {},
   "outputs": [
    {
     "name": "stdout",
     "output_type": "stream",
     "text": [
      "M037-1.873\n",
      "M038-1.899\n",
      "M039-1.872\n",
      "M040-1.897\n",
      "M042-1.881\n",
      "M043-1.863\n",
      "M046-1.978\n"
     ]
    }
   ],
   "source": [
    "oof_3JHH = []\n",
    "sub_3JHH = []\n",
    "\n",
    "t = '3JHH'\n",
    "for file in sorted(os.listdir(f'../type_results/{t}/')):\n",
    "    if 'submission' in file:\n",
    "        model_id = file[:4] + file.split('MAE_')[1].replace('L','')\n",
    "        print(model_id)\n",
    "        df = pd.read_parquet(f'../type_results/{t}/{file}')\n",
    "        if len(sub_3JHH) == 0:\n",
    "            sub_3JHH = df.rename(columns={'scalar_coupling_constant': model_id})\n",
    "        else:\n",
    "            sub_3JHH[model_id] = df['scalar_coupling_constant']\n",
    "    elif 'oof' in file:\n",
    "        model_id = file[:4] + file.split('MAE_')[1].replace('L','')\n",
    "        #print(model_id)\n",
    "        df = pd.read_parquet(f'../type_results/{t}/{file}')\n",
    "        if len(oof_3JHH) == 0:\n",
    "            oof_3JHH = df.rename(columns={'oof_preds': model_id})\n",
    "        else:\n",
    "            oof_3JHH[model_id] = df['oof_preds']"
   ]
  },
  {
   "cell_type": "code",
   "execution_count": 349,
   "metadata": {},
   "outputs": [
    {
     "name": "stdout",
     "output_type": "stream",
     "text": [
      "-2.0818268621013676\n"
     ]
    }
   ],
   "source": [
    "blend_3JHH = (\\\n",
    "    oof_3JHH['M037-1.873'] + \\\n",
    "    oof_3JHH['M038-1.899'] + \\\n",
    "    #oof_3JHH['M039-1.872'] + \\\n",
    "    oof_3JHH['M040-1.897'] + \\\n",
    "    oof_3JHH['M042-1.881'] + \\\n",
    "    oof_3JHH['M043-1.863'] + \\\n",
    "    4 * oof_3JHH['M046-1.978'] ) / 9\n",
    "\n",
    "\n",
    "\n",
    "sub_3JHH_col = (\\\n",
    "    sub_3JHH['M037-1.873'] + \\\n",
    "    sub_3JHH['M038-1.899'] + \\\n",
    "    #sub_3JHH['M039-1.872'] + \\\n",
    "    sub_3JHH['M040-1.897'] + \\\n",
    "    sub_3JHH['M042-1.881'] + \\\n",
    "    sub_3JHH['M043-1.863'] + \\\n",
    "    4 * sub_3JHH['M046-1.978'] ) / 9\n",
    "\n",
    "print(log_mean_absolute_error(oof_3JHH['scalar_coupling_constant'],\n",
    "                        blend_3JHH))\n",
    "\n",
    "sub_3JHH['scalar_coupling_constant'] = sub_3JHH_col\n",
    "oof_3JHH['oof_blend'] = blend_3JHH"
   ]
  },
  {
   "cell_type": "markdown",
   "metadata": {},
   "source": [
    "# 3JHC"
   ]
  },
  {
   "cell_type": "code",
   "execution_count": 350,
   "metadata": {},
   "outputs": [
    {
     "name": "stdout",
     "output_type": "stream",
     "text": [
      "M037-1.328\n",
      "M039-1.32\n",
      "M040-1.403\n",
      "M042-1.403\n",
      "M043-1.402\n",
      "M045-1.423\n",
      "M046-1.507\n"
     ]
    }
   ],
   "source": [
    "oof_3JHC = []\n",
    "sub_3JHC = []\n",
    "\n",
    "t = '3JHC'\n",
    "for file in sorted(os.listdir(f'../type_results/{t}/')):\n",
    "    if 'submission' in file:\n",
    "        model_id = file[:4] + file.split('MAE_')[1].replace('L','')\n",
    "        print(model_id)\n",
    "        df = pd.read_parquet(f'../type_results/{t}/{file}')\n",
    "        if len(sub_3JHC) == 0:\n",
    "            sub_3JHC = df.rename(columns={'scalar_coupling_constant': model_id})\n",
    "        else:\n",
    "            sub_3JHC[model_id] = df['scalar_coupling_constant']\n",
    "    elif 'oof' in file:\n",
    "        model_id = file[:4] + file.split('MAE_')[1].replace('L','')\n",
    "        #print(model_id)\n",
    "        df = pd.read_parquet(f'../type_results/{t}/{file}')\n",
    "        if len(oof_3JHC) == 0:\n",
    "            oof_3JHC = df.rename(columns={'oof_preds': model_id})\n",
    "        else:\n",
    "            oof_3JHC[model_id] = df['oof_preds']"
   ]
  },
  {
   "cell_type": "code",
   "execution_count": 351,
   "metadata": {},
   "outputs": [
    {
     "name": "stdout",
     "output_type": "stream",
     "text": [
      "-1.5990579241424556\n"
     ]
    }
   ],
   "source": [
    "blend_3JHC = (\\\n",
    "    oof_3JHC['M037-1.328'] + \\\n",
    "    #oof_3JHC['M039-1.32'] + \\\n",
    "    oof_3JHC['M040-1.403'] + \\\n",
    "    oof_3JHC['M042-1.403'] + \\\n",
    "    oof_3JHC['M043-1.402'] + \\\n",
    "    2 * oof_3JHC['M045-1.423'] + \\\n",
    "    5 * oof_3JHC['M046-1.507'] ) / 11\n",
    "\n",
    "sub_3JHC_col = (\\\n",
    "    sub_3JHC['M037-1.328'] + \\\n",
    "    #sub_3JHC['M039-1.32'] + \\\n",
    "    sub_3JHC['M040-1.403'] + \\\n",
    "    sub_3JHC['M042-1.403'] + \\\n",
    "    sub_3JHC['M043-1.402'] + \\\n",
    "    2 * sub_3JHC['M045-1.423'] + \\\n",
    "    5 * sub_3JHC['M046-1.507'] ) / 11\n",
    "\n",
    "print(log_mean_absolute_error(oof_3JHC['scalar_coupling_constant'],\n",
    "                        blend_3JHC))\n",
    "\n",
    "sub_3JHC['scalar_coupling_constant'] = sub_3JHC_col\n",
    "oof_3JHC['oof_blend'] = blend_3JHC"
   ]
  },
  {
   "cell_type": "markdown",
   "metadata": {},
   "source": [
    "# 3JHN"
   ]
  },
  {
   "cell_type": "code",
   "execution_count": 352,
   "metadata": {},
   "outputs": [
    {
     "name": "stdout",
     "output_type": "stream",
     "text": [
      "M037-2.14\n",
      "M038-2.165\n",
      "M039-2.152\n",
      "M039-2.155\n",
      "M040-2.156\n",
      "M041-2.087\n",
      "M043-2.121\n",
      "M043-2.121\n",
      "M046-2.25\n"
     ]
    }
   ],
   "source": [
    "oof_3JHN = []\n",
    "sub_3JHN = []\n",
    "\n",
    "t = '3JHN'\n",
    "for file in sorted(os.listdir(f'../type_results/{t}/')):\n",
    "    if 'submission' in file:\n",
    "        model_id = file[:4] + file.split('MAE_')[1].replace('L','')\n",
    "        print(model_id)\n",
    "        df = pd.read_parquet(f'../type_results/{t}/{file}')\n",
    "        if len(sub_3JHN) == 0:\n",
    "            sub_3JHN = df.rename(columns={'scalar_coupling_constant': model_id})\n",
    "        else:\n",
    "            sub_3JHN[model_id] = df['scalar_coupling_constant']\n",
    "    elif 'oof' in file:\n",
    "        model_id = file[:4] + file.split('MAE_')[1].replace('L','')\n",
    "        #print(model_id)\n",
    "        df = pd.read_parquet(f'../type_results/{t}/{file}')\n",
    "        if len(oof_3JHN) == 0:\n",
    "            oof_3JHN = df.rename(columns={'oof_preds': model_id})\n",
    "        else:\n",
    "            oof_3JHN[model_id] = df['oof_preds']"
   ]
  },
  {
   "cell_type": "code",
   "execution_count": 353,
   "metadata": {},
   "outputs": [
    {
     "data": {
      "text/html": [
       "<div>\n",
       "<style scoped>\n",
       "    .dataframe tbody tr th:only-of-type {\n",
       "        vertical-align: middle;\n",
       "    }\n",
       "\n",
       "    .dataframe tbody tr th {\n",
       "        vertical-align: top;\n",
       "    }\n",
       "\n",
       "    .dataframe thead th {\n",
       "        text-align: right;\n",
       "    }\n",
       "</style>\n",
       "<table border=\"1\" class=\"dataframe\">\n",
       "  <thead>\n",
       "    <tr style=\"text-align: right;\">\n",
       "      <th></th>\n",
       "      <th>id</th>\n",
       "      <th>type</th>\n",
       "      <th>scalar_coupling_constant</th>\n",
       "      <th>M037-2.14</th>\n",
       "      <th>M038-2.165</th>\n",
       "      <th>M039-2.152</th>\n",
       "      <th>M039-2.155</th>\n",
       "      <th>M040-2.156</th>\n",
       "      <th>M041-2.087</th>\n",
       "      <th>M043-2.121</th>\n",
       "      <th>M046-2.25</th>\n",
       "    </tr>\n",
       "  </thead>\n",
       "  <tbody>\n",
       "    <tr>\n",
       "      <th>73</th>\n",
       "      <td>73</td>\n",
       "      <td>3JHN</td>\n",
       "      <td>0.880802</td>\n",
       "      <td>0.921788</td>\n",
       "      <td>1.039256</td>\n",
       "      <td>1.026269</td>\n",
       "      <td>1.182937</td>\n",
       "      <td>1.183020</td>\n",
       "      <td>1.129215</td>\n",
       "      <td>NaN</td>\n",
       "      <td>0.988678</td>\n",
       "    </tr>\n",
       "    <tr>\n",
       "      <th>78</th>\n",
       "      <td>78</td>\n",
       "      <td>3JHN</td>\n",
       "      <td>0.880957</td>\n",
       "      <td>0.884167</td>\n",
       "      <td>0.778097</td>\n",
       "      <td>0.715777</td>\n",
       "      <td>0.940359</td>\n",
       "      <td>0.940957</td>\n",
       "      <td>0.802660</td>\n",
       "      <td>NaN</td>\n",
       "      <td>0.902084</td>\n",
       "    </tr>\n",
       "    <tr>\n",
       "      <th>82</th>\n",
       "      <td>82</td>\n",
       "      <td>3JHN</td>\n",
       "      <td>0.880871</td>\n",
       "      <td>0.897688</td>\n",
       "      <td>0.926408</td>\n",
       "      <td>0.903241</td>\n",
       "      <td>1.177897</td>\n",
       "      <td>1.176605</td>\n",
       "      <td>0.961797</td>\n",
       "      <td>NaN</td>\n",
       "      <td>0.865427</td>\n",
       "    </tr>\n",
       "    <tr>\n",
       "      <th>213</th>\n",
       "      <td>213</td>\n",
       "      <td>3JHN</td>\n",
       "      <td>-0.052074</td>\n",
       "      <td>0.031654</td>\n",
       "      <td>0.315460</td>\n",
       "      <td>0.237296</td>\n",
       "      <td>0.182815</td>\n",
       "      <td>0.183411</td>\n",
       "      <td>0.208326</td>\n",
       "      <td>NaN</td>\n",
       "      <td>0.048461</td>\n",
       "    </tr>\n",
       "    <tr>\n",
       "      <th>218</th>\n",
       "      <td>218</td>\n",
       "      <td>3JHN</td>\n",
       "      <td>1.611320</td>\n",
       "      <td>1.819924</td>\n",
       "      <td>1.637768</td>\n",
       "      <td>1.926290</td>\n",
       "      <td>2.172708</td>\n",
       "      <td>2.172613</td>\n",
       "      <td>2.266603</td>\n",
       "      <td>NaN</td>\n",
       "      <td>1.673556</td>\n",
       "    </tr>\n",
       "  </tbody>\n",
       "</table>\n",
       "</div>"
      ],
      "text/plain": [
       "      id  type  scalar_coupling_constant  M037-2.14  M038-2.165  M039-2.152  \\\n",
       "73    73  3JHN                  0.880802   0.921788    1.039256    1.026269   \n",
       "78    78  3JHN                  0.880957   0.884167    0.778097    0.715777   \n",
       "82    82  3JHN                  0.880871   0.897688    0.926408    0.903241   \n",
       "213  213  3JHN                 -0.052074   0.031654    0.315460    0.237296   \n",
       "218  218  3JHN                  1.611320   1.819924    1.637768    1.926290   \n",
       "\n",
       "     M039-2.155  M040-2.156  M041-2.087  M043-2.121  M046-2.25  \n",
       "73     1.182937    1.183020    1.129215         NaN   0.988678  \n",
       "78     0.940359    0.940957    0.802660         NaN   0.902084  \n",
       "82     1.177897    1.176605    0.961797         NaN   0.865427  \n",
       "213    0.182815    0.183411    0.208326         NaN   0.048461  \n",
       "218    2.172708    2.172613    2.266603         NaN   1.673556  "
      ]
     },
     "execution_count": 353,
     "metadata": {},
     "output_type": "execute_result"
    }
   ],
   "source": [
    "oof_3JHN.head()"
   ]
  },
  {
   "cell_type": "code",
   "execution_count": 354,
   "metadata": {},
   "outputs": [
    {
     "name": "stdout",
     "output_type": "stream",
     "text": [
      "-2.334084858877549\n"
     ]
    }
   ],
   "source": [
    "blend_3JHN = (\\\n",
    "    oof_3JHN['M037-2.14'] + \\\n",
    "    2 * oof_3JHN['M038-2.165'] + \\\n",
    "    oof_3JHN['M039-2.152'] + \\\n",
    "    oof_3JHN['M039-2.155'] + \\\n",
    "    oof_3JHN['M040-2.156'] + \\\n",
    "    oof_3JHN['M041-2.087'] + \\\n",
    "    6 * oof_3JHN['M046-2.25'] ) / 13\n",
    "\n",
    "sub_3JHN_col = (\\\n",
    "    sub_3JHN['M037-2.14'] + \\\n",
    "    2 * sub_3JHN['M038-2.165'] + \\\n",
    "    sub_3JHN['M039-2.152'] + \\\n",
    "    sub_3JHN['M039-2.155'] + \\\n",
    "    sub_3JHN['M040-2.156'] + \\\n",
    "    sub_3JHN['M041-2.087'] + \\\n",
    "    6 * sub_3JHN['M046-2.25'] ) / 13\n",
    "\n",
    "print(log_mean_absolute_error(oof_3JHN['scalar_coupling_constant'],\n",
    "                        blend_3JHN))\n",
    "\n",
    "sub_3JHN['scalar_coupling_constant'] = sub_3JHN_col\n",
    "oof_3JHN['oof_blend'] = blend_3JHN"
   ]
  },
  {
   "cell_type": "markdown",
   "metadata": {},
   "source": [
    "# 2JHH"
   ]
  },
  {
   "cell_type": "code",
   "execution_count": 355,
   "metadata": {},
   "outputs": [
    {
     "name": "stdout",
     "output_type": "stream",
     "text": [
      "M031-1.869\n",
      "M032-1.824\n",
      "M032-1.823\n",
      "M036-1.898\n",
      "M037-1.938\n",
      "M038-1.963\n",
      "M039-1.938\n",
      "M040-1.951\n",
      "M042-1.946\n",
      "M043-1.979\n",
      "M046-2.078\n"
     ]
    }
   ],
   "source": [
    "oof_2JHH = []\n",
    "sub_2JHH = []\n",
    "\n",
    "t = '2JHH'\n",
    "for file in sorted(os.listdir(f'../type_results/{t}/')):\n",
    "    if 'submission' in file:\n",
    "        model_id = file[:4] + file.split('MAE_')[1].replace('L','')\n",
    "        print(model_id)\n",
    "        df = pd.read_parquet(f'../type_results/{t}/{file}')\n",
    "        if len(sub_2JHH) == 0:\n",
    "            sub_2JHH = df.rename(columns={'scalar_coupling_constant': model_id})\n",
    "        else:\n",
    "            sub_2JHH[model_id] = df['scalar_coupling_constant']\n",
    "    elif 'oof' in file:\n",
    "        model_id = file[:4] + file.split('MAE_')[1].replace('L','')\n",
    "        #print(model_id)\n",
    "        df = pd.read_parquet(f'../type_results/{t}/{file}')\n",
    "        if len(oof_2JHH) == 0:\n",
    "            oof_2JHH = df.rename(columns={'oof_preds': model_id})\n",
    "        else:\n",
    "            oof_2JHH[model_id] = df['oof_preds']"
   ]
  },
  {
   "cell_type": "code",
   "execution_count": 356,
   "metadata": {},
   "outputs": [
    {
     "data": {
      "text/html": [
       "<div>\n",
       "<style scoped>\n",
       "    .dataframe tbody tr th:only-of-type {\n",
       "        vertical-align: middle;\n",
       "    }\n",
       "\n",
       "    .dataframe tbody tr th {\n",
       "        vertical-align: top;\n",
       "    }\n",
       "\n",
       "    .dataframe thead th {\n",
       "        text-align: right;\n",
       "    }\n",
       "</style>\n",
       "<table border=\"1\" class=\"dataframe\">\n",
       "  <thead>\n",
       "    <tr style=\"text-align: right;\">\n",
       "      <th></th>\n",
       "      <th>id</th>\n",
       "      <th>type</th>\n",
       "      <th>scalar_coupling_constant</th>\n",
       "      <th>M031-1.869</th>\n",
       "      <th>M032-1.824</th>\n",
       "      <th>M032-1.823</th>\n",
       "      <th>M036-1.898</th>\n",
       "      <th>M037-1.938</th>\n",
       "      <th>M038-1.963</th>\n",
       "      <th>M039-1.938</th>\n",
       "      <th>M040-1.951</th>\n",
       "      <th>M042-1.946</th>\n",
       "      <th>M043-1.979</th>\n",
       "      <th>M046-2.078</th>\n",
       "    </tr>\n",
       "  </thead>\n",
       "  <tbody>\n",
       "    <tr>\n",
       "      <th>1</th>\n",
       "      <td>1</td>\n",
       "      <td>2JHH</td>\n",
       "      <td>-11.2570</td>\n",
       "      <td>-10.70328</td>\n",
       "      <td>-10.80047</td>\n",
       "      <td>-10.903419</td>\n",
       "      <td>-12.499546</td>\n",
       "      <td>-11.030386</td>\n",
       "      <td>-11.780753</td>\n",
       "      <td>-11.984023</td>\n",
       "      <td>-11.919923</td>\n",
       "      <td>-12.360606</td>\n",
       "      <td>-10.350698</td>\n",
       "      <td>-10.372103</td>\n",
       "    </tr>\n",
       "    <tr>\n",
       "      <th>2</th>\n",
       "      <td>2</td>\n",
       "      <td>2JHH</td>\n",
       "      <td>-11.2548</td>\n",
       "      <td>-10.70328</td>\n",
       "      <td>-10.80047</td>\n",
       "      <td>-10.903419</td>\n",
       "      <td>-12.898695</td>\n",
       "      <td>-11.062750</td>\n",
       "      <td>-12.094223</td>\n",
       "      <td>-12.229371</td>\n",
       "      <td>-12.186136</td>\n",
       "      <td>-12.527113</td>\n",
       "      <td>-10.631398</td>\n",
       "      <td>-10.539575</td>\n",
       "    </tr>\n",
       "    <tr>\n",
       "      <th>3</th>\n",
       "      <td>3</td>\n",
       "      <td>2JHH</td>\n",
       "      <td>-11.2543</td>\n",
       "      <td>-10.70328</td>\n",
       "      <td>-10.80047</td>\n",
       "      <td>-10.903419</td>\n",
       "      <td>-12.735568</td>\n",
       "      <td>-10.710552</td>\n",
       "      <td>-11.691646</td>\n",
       "      <td>-11.858653</td>\n",
       "      <td>-11.812866</td>\n",
       "      <td>-12.214909</td>\n",
       "      <td>-10.805525</td>\n",
       "      <td>-10.532977</td>\n",
       "    </tr>\n",
       "    <tr>\n",
       "      <th>5</th>\n",
       "      <td>5</td>\n",
       "      <td>2JHH</td>\n",
       "      <td>-11.2541</td>\n",
       "      <td>-10.70328</td>\n",
       "      <td>-10.80047</td>\n",
       "      <td>-10.903419</td>\n",
       "      <td>-12.777221</td>\n",
       "      <td>-10.770546</td>\n",
       "      <td>-11.721333</td>\n",
       "      <td>-12.024421</td>\n",
       "      <td>-11.984557</td>\n",
       "      <td>-12.186262</td>\n",
       "      <td>-10.675867</td>\n",
       "      <td>-10.499827</td>\n",
       "    </tr>\n",
       "    <tr>\n",
       "      <th>6</th>\n",
       "      <td>6</td>\n",
       "      <td>2JHH</td>\n",
       "      <td>-11.2548</td>\n",
       "      <td>-10.70328</td>\n",
       "      <td>-10.80047</td>\n",
       "      <td>-10.903419</td>\n",
       "      <td>-12.672439</td>\n",
       "      <td>-11.281383</td>\n",
       "      <td>-12.047248</td>\n",
       "      <td>-11.943905</td>\n",
       "      <td>-11.902495</td>\n",
       "      <td>-12.318910</td>\n",
       "      <td>-10.739842</td>\n",
       "      <td>-10.558011</td>\n",
       "    </tr>\n",
       "  </tbody>\n",
       "</table>\n",
       "</div>"
      ],
      "text/plain": [
       "   id  type  scalar_coupling_constant  M031-1.869  M032-1.824  M032-1.823  \\\n",
       "1   1  2JHH                  -11.2570   -10.70328   -10.80047  -10.903419   \n",
       "2   2  2JHH                  -11.2548   -10.70328   -10.80047  -10.903419   \n",
       "3   3  2JHH                  -11.2543   -10.70328   -10.80047  -10.903419   \n",
       "5   5  2JHH                  -11.2541   -10.70328   -10.80047  -10.903419   \n",
       "6   6  2JHH                  -11.2548   -10.70328   -10.80047  -10.903419   \n",
       "\n",
       "   M036-1.898  M037-1.938  M038-1.963  M039-1.938  M040-1.951  M042-1.946  \\\n",
       "1  -12.499546  -11.030386  -11.780753  -11.984023  -11.919923  -12.360606   \n",
       "2  -12.898695  -11.062750  -12.094223  -12.229371  -12.186136  -12.527113   \n",
       "3  -12.735568  -10.710552  -11.691646  -11.858653  -11.812866  -12.214909   \n",
       "5  -12.777221  -10.770546  -11.721333  -12.024421  -11.984557  -12.186262   \n",
       "6  -12.672439  -11.281383  -12.047248  -11.943905  -11.902495  -12.318910   \n",
       "\n",
       "   M043-1.979  M046-2.078  \n",
       "1  -10.350698  -10.372103  \n",
       "2  -10.631398  -10.539575  \n",
       "3  -10.805525  -10.532977  \n",
       "5  -10.675867  -10.499827  \n",
       "6  -10.739842  -10.558011  "
      ]
     },
     "execution_count": 356,
     "metadata": {},
     "output_type": "execute_result"
    }
   ],
   "source": [
    "oof_2JHH.head()"
   ]
  },
  {
   "cell_type": "code",
   "execution_count": 357,
   "metadata": {},
   "outputs": [
    {
     "data": {
      "text/plain": [
       "Index(['id', 'type', 'scalar_coupling_constant', 'M031-1.869', 'M032-1.824',\n",
       "       'M032-1.823', 'M036-1.898', 'M037-1.938', 'M038-1.963', 'M039-1.938',\n",
       "       'M040-1.951', 'M042-1.946', 'M043-1.979', 'M046-2.078'],\n",
       "      dtype='object')"
      ]
     },
     "execution_count": 357,
     "metadata": {},
     "output_type": "execute_result"
    }
   ],
   "source": [
    "oof_2JHH.columns"
   ]
  },
  {
   "cell_type": "code",
   "execution_count": 358,
   "metadata": {},
   "outputs": [
    {
     "name": "stdout",
     "output_type": "stream",
     "text": [
      "-2.1902588576180557\n"
     ]
    }
   ],
   "source": [
    "blend_2JHH = (\\\n",
    "    oof_2JHH['M031-1.869'] + \\\n",
    "    oof_2JHH['M032-1.824'] + \\\n",
    "    #oof_2JHH['M032-1.823'] + \\\n",
    "    oof_2JHH['M036-1.898'] + \\\n",
    "    oof_2JHH['M037-1.938'] + \\\n",
    "    #oof_2JHH['M038-1.963'] + \\\n",
    "    #oof_2JHH['M039-1.938'] + \\\n",
    "    oof_2JHH['M040-1.951'] + \\\n",
    "    oof_2JHH['M042-1.946'] + \\\n",
    "    2 * oof_2JHH['M043-1.979'] + \\\n",
    "    5 * oof_2JHH['M046-2.078'] ) / 13\n",
    "\n",
    "sub_2JHH_col = (\\\n",
    "    sub_2JHH['M031-1.869'] + \\\n",
    "    sub_2JHH['M032-1.824'] + \\\n",
    "    #sub_2JHH['M032-1.823'] + \\\n",
    "    sub_2JHH['M036-1.898'] + \\\n",
    "    sub_2JHH['M037-1.938'] + \\\n",
    "    #sub_2JHH['M038-1.963'] + \\\n",
    "    #sub_2JHH['M039-1.938'] + \\\n",
    "    sub_2JHH['M040-1.951'] + \\\n",
    "    sub_2JHH['M042-1.946'] + \\\n",
    "    2 * sub_2JHH['M043-1.979'] + \\\n",
    "    5 * sub_2JHH['M046-2.078'] ) / 13\n",
    "\n",
    "print(log_mean_absolute_error(oof_2JHH['scalar_coupling_constant'],\n",
    "                        blend_2JHH))\n",
    "\n",
    "sub_2JHH['scalar_coupling_constant'] = sub_2JHH_col\n",
    "oof_2JHH['oof_blend'] = blend_2JHH"
   ]
  },
  {
   "cell_type": "markdown",
   "metadata": {},
   "source": [
    "# Combine Results"
   ]
  },
  {
   "cell_type": "code",
   "execution_count": 362,
   "metadata": {},
   "outputs": [],
   "source": [
    "oof = pd.concat([oof_1JHC[['id','type','scalar_coupling_constant','oof_blend']],\n",
    " oof_2JHH[['id','type','scalar_coupling_constant','oof_blend']],\n",
    " oof_1JHN[['id','type','scalar_coupling_constant','oof_blend']],\n",
    " oof_2JHN[['id','type','scalar_coupling_constant','oof_blend']],\n",
    " oof_2JHC[['id','type','scalar_coupling_constant','oof_blend']],\n",
    " oof_3JHH[['id','type','scalar_coupling_constant','oof_blend']],\n",
    " oof_3JHC[['id','type','scalar_coupling_constant','oof_blend']],\n",
    " oof_3JHN[['id','type','scalar_coupling_constant','oof_blend']]]).sort_values('id').reset_index(drop=True)"
   ]
  },
  {
   "cell_type": "code",
   "execution_count": 364,
   "metadata": {},
   "outputs": [
    {
     "data": {
      "text/html": [
       "<div>\n",
       "<style scoped>\n",
       "    .dataframe tbody tr th:only-of-type {\n",
       "        vertical-align: middle;\n",
       "    }\n",
       "\n",
       "    .dataframe tbody tr th {\n",
       "        vertical-align: top;\n",
       "    }\n",
       "\n",
       "    .dataframe thead th {\n",
       "        text-align: right;\n",
       "    }\n",
       "</style>\n",
       "<table border=\"1\" class=\"dataframe\">\n",
       "  <thead>\n",
       "    <tr style=\"text-align: right;\">\n",
       "      <th></th>\n",
       "      <th>id</th>\n",
       "      <th>molecule_name</th>\n",
       "      <th>type</th>\n",
       "      <th>M031-1.869</th>\n",
       "      <th>M032-1.824</th>\n",
       "      <th>M032-1.823</th>\n",
       "      <th>M036-1.898</th>\n",
       "      <th>M037-1.938</th>\n",
       "      <th>M038-1.963</th>\n",
       "      <th>M039-1.938</th>\n",
       "      <th>M040-1.951</th>\n",
       "      <th>M042-1.946</th>\n",
       "      <th>M043-1.979</th>\n",
       "      <th>M046-2.078</th>\n",
       "      <th>scalar_coupling_constant</th>\n",
       "    </tr>\n",
       "  </thead>\n",
       "  <tbody>\n",
       "    <tr>\n",
       "      <th>7</th>\n",
       "      <td>4658154</td>\n",
       "      <td>dsgdb9nsd_000015</td>\n",
       "      <td>2JHH</td>\n",
       "      <td>-7.697291</td>\n",
       "      <td>-7.533245</td>\n",
       "      <td>-7.654470</td>\n",
       "      <td>-7.487459</td>\n",
       "      <td>-7.536011</td>\n",
       "      <td>-7.502079</td>\n",
       "      <td>-7.540522</td>\n",
       "      <td>-7.525169</td>\n",
       "      <td>-7.592822</td>\n",
       "      <td>-7.532983</td>\n",
       "      <td>-7.466548</td>\n",
       "      <td>-7.520823</td>\n",
       "    </tr>\n",
       "    <tr>\n",
       "      <th>8</th>\n",
       "      <td>4658155</td>\n",
       "      <td>dsgdb9nsd_000015</td>\n",
       "      <td>2JHH</td>\n",
       "      <td>-9.798643</td>\n",
       "      <td>-9.991863</td>\n",
       "      <td>-10.039701</td>\n",
       "      <td>-9.717289</td>\n",
       "      <td>-9.475817</td>\n",
       "      <td>-9.446357</td>\n",
       "      <td>-9.560166</td>\n",
       "      <td>-9.592450</td>\n",
       "      <td>-9.552878</td>\n",
       "      <td>-9.732064</td>\n",
       "      <td>-9.478937</td>\n",
       "      <td>-9.614442</td>\n",
       "    </tr>\n",
       "    <tr>\n",
       "      <th>11</th>\n",
       "      <td>4658158</td>\n",
       "      <td>dsgdb9nsd_000015</td>\n",
       "      <td>2JHH</td>\n",
       "      <td>-9.797317</td>\n",
       "      <td>-10.004404</td>\n",
       "      <td>-10.048168</td>\n",
       "      <td>-9.645888</td>\n",
       "      <td>-9.575737</td>\n",
       "      <td>-9.522837</td>\n",
       "      <td>-9.571044</td>\n",
       "      <td>-9.588050</td>\n",
       "      <td>-9.490357</td>\n",
       "      <td>-9.710986</td>\n",
       "      <td>-9.519198</td>\n",
       "      <td>-9.624594</td>\n",
       "    </tr>\n",
       "    <tr>\n",
       "      <th>16</th>\n",
       "      <td>4658163</td>\n",
       "      <td>dsgdb9nsd_000015</td>\n",
       "      <td>2JHH</td>\n",
       "      <td>-7.697291</td>\n",
       "      <td>-7.539679</td>\n",
       "      <td>-7.657130</td>\n",
       "      <td>-7.455351</td>\n",
       "      <td>-7.534992</td>\n",
       "      <td>-7.524546</td>\n",
       "      <td>-7.530716</td>\n",
       "      <td>-7.518845</td>\n",
       "      <td>-7.591573</td>\n",
       "      <td>-7.520543</td>\n",
       "      <td>-7.467101</td>\n",
       "      <td>-7.516487</td>\n",
       "    </tr>\n",
       "    <tr>\n",
       "      <th>17</th>\n",
       "      <td>4658164</td>\n",
       "      <td>dsgdb9nsd_000015</td>\n",
       "      <td>2JHH</td>\n",
       "      <td>-9.798643</td>\n",
       "      <td>-9.996246</td>\n",
       "      <td>-10.041434</td>\n",
       "      <td>-9.718116</td>\n",
       "      <td>-9.464458</td>\n",
       "      <td>-9.453285</td>\n",
       "      <td>-9.539125</td>\n",
       "      <td>-9.564798</td>\n",
       "      <td>-9.568157</td>\n",
       "      <td>-9.735489</td>\n",
       "      <td>-9.441814</td>\n",
       "      <td>-9.599267</td>\n",
       "    </tr>\n",
       "  </tbody>\n",
       "</table>\n",
       "</div>"
      ],
      "text/plain": [
       "         id     molecule_name  type  M031-1.869  M032-1.824  M032-1.823  \\\n",
       "7   4658154  dsgdb9nsd_000015  2JHH   -7.697291   -7.533245   -7.654470   \n",
       "8   4658155  dsgdb9nsd_000015  2JHH   -9.798643   -9.991863  -10.039701   \n",
       "11  4658158  dsgdb9nsd_000015  2JHH   -9.797317  -10.004404  -10.048168   \n",
       "16  4658163  dsgdb9nsd_000015  2JHH   -7.697291   -7.539679   -7.657130   \n",
       "17  4658164  dsgdb9nsd_000015  2JHH   -9.798643   -9.996246  -10.041434   \n",
       "\n",
       "    M036-1.898  M037-1.938  M038-1.963  M039-1.938  M040-1.951  M042-1.946  \\\n",
       "7    -7.487459   -7.536011   -7.502079   -7.540522   -7.525169   -7.592822   \n",
       "8    -9.717289   -9.475817   -9.446357   -9.560166   -9.592450   -9.552878   \n",
       "11   -9.645888   -9.575737   -9.522837   -9.571044   -9.588050   -9.490357   \n",
       "16   -7.455351   -7.534992   -7.524546   -7.530716   -7.518845   -7.591573   \n",
       "17   -9.718116   -9.464458   -9.453285   -9.539125   -9.564798   -9.568157   \n",
       "\n",
       "    M043-1.979  M046-2.078  scalar_coupling_constant  \n",
       "7    -7.532983   -7.466548                 -7.520823  \n",
       "8    -9.732064   -9.478937                 -9.614442  \n",
       "11   -9.710986   -9.519198                 -9.624594  \n",
       "16   -7.520543   -7.467101                 -7.516487  \n",
       "17   -9.735489   -9.441814                 -9.599267  "
      ]
     },
     "execution_count": 364,
     "metadata": {},
     "output_type": "execute_result"
    }
   ],
   "source": [
    "sub_2JHH.head()"
   ]
  },
  {
   "cell_type": "code",
   "execution_count": 365,
   "metadata": {},
   "outputs": [],
   "source": [
    "sub = pd.concat([sub_1JHC[['id','molecule_name','type','scalar_coupling_constant']],\n",
    " sub_2JHH[['id','molecule_name','type','scalar_coupling_constant']],\n",
    " sub_1JHN[['id','molecule_name','type','scalar_coupling_constant']],\n",
    " sub_2JHN[['id','molecule_name','type','scalar_coupling_constant']],\n",
    " sub_2JHC[['id','molecule_name','type','scalar_coupling_constant']],\n",
    " sub_3JHH[['id','molecule_name','type','scalar_coupling_constant']],\n",
    " sub_3JHC[['id','molecule_name','type','scalar_coupling_constant']],\n",
    " sub_3JHN[['id','molecule_name','type','scalar_coupling_constant']]]).sort_values('id').reset_index(drop=True)"
   ]
  },
  {
   "cell_type": "code",
   "execution_count": 368,
   "metadata": {},
   "outputs": [
    {
     "name": "stdout",
     "output_type": "stream",
     "text": [
      "1JHC\n",
      "0.4559701807322867\n",
      "1JHN\n",
      "0.3011426423471866\n",
      "2JHC\n",
      "0.1822778789835566\n",
      "2JHH\n",
      "0.11188778186365543\n",
      "2JHN\n",
      "0.10993367072680263\n",
      "3JHC\n",
      "0.2020868094503999\n",
      "3JHH\n",
      "0.12470219027432405\n",
      "3JHN\n",
      "0.09689911833105345\n",
      "\n",
      "Group LMAE\n",
      "-1.762603579533288\n"
     ]
    }
   ],
   "source": [
    "for i, d in oof.groupby('type'):\n",
    "    print(i)\n",
    "    print(mean_absolute_error(d['scalar_coupling_constant'], d['oof_blend']))\n",
    "    \n",
    "glmae = group_mean_log_mae(oof['scalar_coupling_constant'], oof['oof_blend'], oof['type'])\n",
    "print('\\nGroup LMAE')\n",
    "print(glmae)"
   ]
  },
  {
   "cell_type": "markdown",
   "metadata": {},
   "source": [
    "## Compare with good sub"
   ]
  },
  {
   "cell_type": "code",
   "execution_count": 369,
   "metadata": {},
   "outputs": [
    {
     "data": {
      "text/html": [
       "<div>\n",
       "<style scoped>\n",
       "    .dataframe tbody tr th:only-of-type {\n",
       "        vertical-align: middle;\n",
       "    }\n",
       "\n",
       "    .dataframe tbody tr th {\n",
       "        vertical-align: top;\n",
       "    }\n",
       "\n",
       "    .dataframe thead th {\n",
       "        text-align: right;\n",
       "    }\n",
       "</style>\n",
       "<table border=\"1\" class=\"dataframe\">\n",
       "  <thead>\n",
       "    <tr style=\"text-align: right;\">\n",
       "      <th></th>\n",
       "      <th>scalar_coupling_constant</th>\n",
       "      <th>good_scc</th>\n",
       "    </tr>\n",
       "  </thead>\n",
       "  <tbody>\n",
       "    <tr>\n",
       "      <th>scalar_coupling_constant</th>\n",
       "      <td>1.000000</td>\n",
       "      <td>0.999991</td>\n",
       "    </tr>\n",
       "    <tr>\n",
       "      <th>good_scc</th>\n",
       "      <td>0.999991</td>\n",
       "      <td>1.000000</td>\n",
       "    </tr>\n",
       "  </tbody>\n",
       "</table>\n",
       "</div>"
      ],
      "text/plain": [
       "                          scalar_coupling_constant  good_scc\n",
       "scalar_coupling_constant                  1.000000  0.999991\n",
       "good_scc                                  0.999991  1.000000"
      ]
     },
     "execution_count": 369,
     "metadata": {},
     "output_type": "execute_result"
    }
   ],
   "source": [
    "sub_good = pd.read_csv('../submissions/BLEND008_submission_-1.7087CV_Jul14best.csv')\n",
    "sub['good_scc'] = sub_good['scalar_coupling_constant']\n",
    "sub[['scalar_coupling_constant','good_scc']].corr()"
   ]
  },
  {
   "cell_type": "code",
   "execution_count": 370,
   "metadata": {},
   "outputs": [],
   "source": [
    "# Save Results\n",
    "sub[['id','scalar_coupling_constant']].to_csv('../submissions/BLEND009_sub-1.7626CV.csv', index=False)\n",
    "oof.to_csv('../oof/BLEND009_oof-1.7626CV.csv', index=False)"
   ]
  },
  {
   "cell_type": "code",
   "execution_count": null,
   "metadata": {},
   "outputs": [],
   "source": []
  }
 ],
 "metadata": {
  "kernelspec": {
   "display_name": "Python 3",
   "language": "python",
   "name": "python3"
  },
  "language_info": {
   "codemirror_mode": {
    "name": "ipython",
    "version": 3
   },
   "file_extension": ".py",
   "mimetype": "text/x-python",
   "name": "python",
   "nbconvert_exporter": "python",
   "pygments_lexer": "ipython3",
   "version": "3.6.8"
  }
 },
 "nbformat": 4,
 "nbformat_minor": 4
}
