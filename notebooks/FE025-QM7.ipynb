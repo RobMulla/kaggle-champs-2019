{
 "cells": [
  {
   "cell_type": "markdown",
   "metadata": {},
   "source": [
    "# QM7 Data from\n",
    "- https://www.kaggle.com/scaomath/qm7-coulomb-matrix-eigenvalue-features"
   ]
  },
  {
   "cell_type": "code",
   "execution_count": 1,
   "metadata": {},
   "outputs": [],
   "source": [
    "import pandas as pd\n",
    "import numpy as np\n",
    "from tqdm import tqdm\n",
    "pd.set_option('max_columns', 500)"
   ]
  },
  {
   "cell_type": "code",
   "execution_count": 2,
   "metadata": {},
   "outputs": [],
   "source": [
    "qm = pd.read_csv('../data/qm7_coulomb/struct_eigen.csv')\n",
    "train = pd.read_csv('../input/train.csv')\n",
    "test = pd.read_csv('../input/test.csv')"
   ]
  },
  {
   "cell_type": "code",
   "execution_count": 3,
   "metadata": {},
   "outputs": [],
   "source": [
    "types = ['1JHC', '2JHH', '1JHN', '2JHN', '2JHC','3JHH','3JHC', '3JHN']"
   ]
  },
  {
   "cell_type": "code",
   "execution_count": 9,
   "metadata": {},
   "outputs": [
    {
     "name": "stderr",
     "output_type": "stream",
     "text": [
      "  0%|          | 0/8 [00:00<?, ?it/s]"
     ]
    },
    {
     "name": "stdout",
     "output_type": "stream",
     "text": [
      "before shape (380609, 375)\n",
      "after shape (380609, 403)\n",
      "before shape (709416, 376)\n",
      "after shape (709416, 404)\n"
     ]
    },
    {
     "name": "stderr",
     "output_type": "stream",
     "text": [
      " 12%|█▎        | 1/8 [00:43<05:07, 43.88s/it]"
     ]
    },
    {
     "name": "stdout",
     "output_type": "stream",
     "text": [
      "before shape (203126, 323)\n",
      "after shape (203126, 351)\n",
      "before shape (378036, 324)\n",
      "after shape (378036, 352)\n"
     ]
    },
    {
     "name": "stderr",
     "output_type": "stream",
     "text": [
      " 25%|██▌       | 2/8 [01:08<03:48, 38.10s/it]"
     ]
    },
    {
     "name": "stdout",
     "output_type": "stream",
     "text": [
      "before shape (24195, 299)\n",
      "after shape (24195, 327)\n",
      "before shape (43363, 300)\n",
      "after shape (43363, 328)\n"
     ]
    },
    {
     "name": "stderr",
     "output_type": "stream",
     "text": [
      " 38%|███▊      | 3/8 [01:13<02:21, 28.24s/it]"
     ]
    },
    {
     "name": "stdout",
     "output_type": "stream",
     "text": [
      "before shape (64424, 273)\n",
      "after shape (64424, 301)\n",
      "before shape (119253, 274)\n",
      "after shape (119253, 302)\n"
     ]
    },
    {
     "name": "stderr",
     "output_type": "stream",
     "text": [
      " 50%|█████     | 4/8 [01:23<01:30, 22.71s/it]"
     ]
    },
    {
     "name": "stdout",
     "output_type": "stream",
     "text": [
      "before shape (613138, 360)\n",
      "after shape (613138, 388)\n",
      "before shape (1140674, 361)\n",
      "after shape (1140674, 389)\n"
     ]
    },
    {
     "name": "stderr",
     "output_type": "stream",
     "text": [
      " 62%|██████▎   | 5/8 [02:29<01:47, 35.73s/it]"
     ]
    },
    {
     "name": "stdout",
     "output_type": "stream",
     "text": [
      "before shape (317435, 263)\n",
      "after shape (317435, 291)\n",
      "before shape (590611, 264)\n",
      "after shape (590611, 292)\n"
     ]
    },
    {
     "name": "stderr",
     "output_type": "stream",
     "text": [
      " 75%|███████▌  | 6/8 [03:01<01:09, 34.56s/it]"
     ]
    },
    {
     "name": "stdout",
     "output_type": "stream",
     "text": [
      "before shape (811999, 400)\n",
      "after shape (811999, 428)\n",
      "before shape (1510379, 401)\n",
      "after shape (1510379, 429)\n"
     ]
    },
    {
     "name": "stderr",
     "output_type": "stream",
     "text": [
      " 88%|████████▊ | 7/8 [04:33<00:51, 51.83s/it]"
     ]
    },
    {
     "name": "stdout",
     "output_type": "stream",
     "text": [
      "before shape (90616, 437)\n",
      "after shape (90616, 465)\n",
      "before shape (166415, 438)\n",
      "after shape (166415, 466)\n"
     ]
    },
    {
     "name": "stderr",
     "output_type": "stream",
     "text": [
      "100%|██████████| 8/8 [04:53<00:00, 42.30s/it]\n"
     ]
    }
   ],
   "source": [
    "for t in tqdm(types):\n",
    "    # Test Data\n",
    "    df = pd.read_parquet(f'../data/FE024/FE024-test-{t}.parquet')\n",
    "    print('before shape', df.shape)\n",
    "    df_new = df.merge(test[['id','molecule_name','atom_index_0','atom_index_1']],\n",
    "                      on='id') \\\n",
    "        .merge(qm,\n",
    "               left_on=['molecule_name', 'atom_index_0'],\n",
    "               right_on=['molecule_name','atom_index'],\n",
    "               suffixes=('','_qm7_atom_index_0')) \\\n",
    "        .merge(qm,\n",
    "               left_on=['molecule_name', 'atom_index_1'],\n",
    "               right_on=['molecule_name','atom_index'],\n",
    "               suffixes=('','_qm7_atom_index_1')) \\\n",
    "        .drop(['atom_index_qm7_atom_index_1'], axis=1)\n",
    "    print('after shape', df_new.shape)\n",
    "    df_new.to_parquet(f'../data/FE025/FE025-test-{t}.parquet')\n",
    "    # Test Data\n",
    "    df = pd.read_parquet(f'../data/FE024/FE024-train-{t}.parquet')\n",
    "    print('before shape', df.shape)\n",
    "    df_new = df.merge(train[['id','molecule_name','atom_index_0','atom_index_1']],\n",
    "                      on='id') \\\n",
    "        .merge(qm,\n",
    "               left_on=['molecule_name', 'atom_index_0'],\n",
    "               right_on=['molecule_name','atom_index'],\n",
    "               suffixes=('','_qm7_atom_index_0')) \\\n",
    "        .merge(qm,\n",
    "               left_on=['molecule_name', 'atom_index_1'],\n",
    "               right_on=['molecule_name','atom_index'],\n",
    "               suffixes=('','_qm7_atom_index_1')) \\\n",
    "        .drop(['atom_index_qm7_atom_index_1'], axis=1)\n",
    "    print('after shape', df_new.shape)\n",
    "    df_new.to_parquet(f'../data/FE025/FE025-train-{t}.parquet')"
   ]
  }
 ],
 "metadata": {
  "kernelspec": {
   "display_name": "Python 3",
   "language": "python",
   "name": "python3"
  },
  "language_info": {
   "codemirror_mode": {
    "name": "ipython",
    "version": 3
   },
   "file_extension": ".py",
   "mimetype": "text/x-python",
   "name": "python",
   "nbconvert_exporter": "python",
   "pygments_lexer": "ipython3",
   "version": "3.6.8"
  }
 },
 "nbformat": 4,
 "nbformat_minor": 4
}
