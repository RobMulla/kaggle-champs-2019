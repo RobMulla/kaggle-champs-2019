{
 "cells": [
  {
   "cell_type": "code",
   "execution_count": 1,
   "metadata": {},
   "outputs": [],
   "source": [
    "import pandas as pd"
   ]
  },
  {
   "cell_type": "code",
   "execution_count": 3,
   "metadata": {},
   "outputs": [
    {
     "name": "stdout",
     "output_type": "stream",
     "text": [
      "CPU times: user 50 s, sys: 2.48 s, total: 52.5 s\n",
      "Wall time: 53.9 s\n"
     ]
    }
   ],
   "source": [
    "%%time\n",
    "train_FE001 = pd.read_csv('../data/FE001-train_features.csv')\n",
    "test_FE001 = pd.read_csv('../data/FE001-test_features.csv')"
   ]
  },
  {
   "cell_type": "code",
   "execution_count": 4,
   "metadata": {},
   "outputs": [
    {
     "name": "stdout",
     "output_type": "stream",
     "text": [
      "CPU times: user 58.3 s, sys: 2.99 s, total: 1min 1s\n",
      "Wall time: 1min 4s\n"
     ]
    }
   ],
   "source": [
    "%%time\n",
    "train_FE002 = pd.read_csv('../data/FE002-train_openbabel_features.csv')\n",
    "test_FE002 = pd.read_csv('../data/FE002-test_openbabel_features.csv')"
   ]
  },
  {
   "cell_type": "code",
   "execution_count": 5,
   "metadata": {},
   "outputs": [
    {
     "name": "stdout",
     "output_type": "stream",
     "text": [
      "CPU times: user 8.2 s, sys: 140 ms, total: 8.34 s\n",
      "Wall time: 8.34 s\n"
     ]
    }
   ],
   "source": [
    "%%time\n",
    "test_FE003 = pd.read_csv('../data/FE003-test_geom.csv')\n",
    "train_FE003 = pd.read_csv('../data/FE003-train_geom.csv')"
   ]
  },
  {
   "cell_type": "code",
   "execution_count": 6,
   "metadata": {},
   "outputs": [
    {
     "data": {
      "text/plain": [
       "(4658147, 73)"
      ]
     },
     "execution_count": 6,
     "metadata": {},
     "output_type": "execute_result"
    }
   ],
   "source": [
    "train_FE001.shape"
   ]
  },
  {
   "cell_type": "code",
   "execution_count": 7,
   "metadata": {},
   "outputs": [
    {
     "data": {
      "text/plain": [
       "(4658147, 87)"
      ]
     },
     "execution_count": 7,
     "metadata": {},
     "output_type": "execute_result"
    }
   ],
   "source": [
    "train_FE002.shape"
   ]
  },
  {
   "cell_type": "code",
   "execution_count": 8,
   "metadata": {},
   "outputs": [
    {
     "data": {
      "text/plain": [
       "(4658147, 10)"
      ]
     },
     "execution_count": 8,
     "metadata": {},
     "output_type": "execute_result"
    }
   ],
   "source": [
    "train_FE003.shape"
   ]
  },
  {
   "cell_type": "code",
   "execution_count": 14,
   "metadata": {},
   "outputs": [
    {
     "data": {
      "text/plain": [
       "['dist_x',\n",
       " 'dist_y',\n",
       " 'dist_z',\n",
       " 'type_0',\n",
       " 'molecule_type_0_dist_std',\n",
       " 'molecule_type_0_dist_std_diff']"
      ]
     },
     "execution_count": 14,
     "metadata": {},
     "output_type": "execute_result"
    }
   ],
   "source": [
    "[x for x in train_FE001.columns if x not in train_FE002.columns]"
   ]
  },
  {
   "cell_type": "code",
   "execution_count": 18,
   "metadata": {},
   "outputs": [
    {
     "data": {
      "text/plain": [
       "Index(['id', 'molecule_name', 'atom_index_0', 'atom_index_1', 'type',\n",
       "       'scalar_coupling_constant', 'num_atoms', 'flatness_metric',\n",
       "       'bond_angle_plane', 'bond_angle_axis'],\n",
       "      dtype='object')"
      ]
     },
     "execution_count": 18,
     "metadata": {},
     "output_type": "execute_result"
    }
   ],
   "source": [
    "train_FE003[['num_atoms', 'flatness_metric',\n",
    "       'bond_angle_plane', 'bond_angle_axis']]"
   ]
  },
  {
   "cell_type": "code",
   "execution_count": 23,
   "metadata": {},
   "outputs": [],
   "source": [
    "FE004_train = pd.concat([train_FE002[['id', 'molecule_name', 'atom_index_0', 'atom_index_1',\n",
    "       'type', 'scalar_coupling_constant', 'atom_0', 'x_0', 'y_0', 'z_0',\n",
    "       'atom_1', 'x_1', 'y_1', 'z_1', 'C', 'F', 'H', 'N', 'O', 'bonds', 'dist',\n",
    "       'abs_dist', 'dist_xy', 'abs_dist_xy', 'dist_xz', 'abs_dist_xz',\n",
    "       'dist_yz', 'abs_dist_yz', 'dist_to_type_mean', 'dist_to_type_std',\n",
    "       'dist_to_type_mean_xy', 'dist_to_type_mean_xz', 'dist_to_type_mean_yz',\n",
    "       'molecule_couples', 'molecule_dist_mean', 'molecule_dist_min',\n",
    "       'molecule_dist_max', 'atom_0_couples_count', 'atom_1_couples_count',\n",
    "       'molecule_atom_index_0_x_1_std', 'molecule_atom_index_0_y_1_mean',\n",
    "       'molecule_atom_index_0_y_1_mean_diff',\n",
    "       'molecule_atom_index_0_y_1_mean_div', 'molecule_atom_index_0_y_1_max',\n",
    "       'molecule_atom_index_0_y_1_max_diff', 'molecule_atom_index_0_y_1_std',\n",
    "       'molecule_atom_index_0_z_1_std', 'molecule_atom_index_0_dist_mean',\n",
    "       'molecule_atom_index_0_dist_mean_diff',\n",
    "       'molecule_atom_index_0_dist_mean_div', 'molecule_atom_index_0_dist_max',\n",
    "       'molecule_atom_index_0_dist_max_diff',\n",
    "       'molecule_atom_index_0_dist_max_div', 'molecule_atom_index_0_dist_min',\n",
    "       'molecule_atom_index_0_dist_min_diff',\n",
    "       'molecule_atom_index_0_dist_min_div', 'molecule_atom_index_0_dist_std',\n",
    "       'molecule_atom_index_0_dist_std_diff',\n",
    "       'molecule_atom_index_0_dist_std_div', 'molecule_atom_index_1_dist_mean',\n",
    "       'molecule_atom_index_1_dist_mean_diff',\n",
    "       'molecule_atom_index_1_dist_mean_div', 'molecule_atom_index_1_dist_max',\n",
    "       'molecule_atom_index_1_dist_max_diff',\n",
    "       'molecule_atom_index_1_dist_max_div', 'molecule_atom_index_1_dist_min',\n",
    "       'molecule_atom_index_1_dist_min_diff',\n",
    "       'molecule_atom_index_1_dist_min_div', 'molecule_atom_index_1_dist_std',\n",
    "       'molecule_atom_index_1_dist_std_diff',\n",
    "       'molecule_atom_index_1_dist_std_div', 'molecule_atom_1_dist_mean',\n",
    "       'molecule_atom_1_dist_min', 'molecule_atom_1_dist_min_diff',\n",
    "       'molecule_atom_1_dist_min_div', 'molecule_atom_1_dist_std',\n",
    "       'molecule_atom_1_dist_std_diff', 'molecule_bonds_dist_std',\n",
    "       'molecule_bonds_dist_std_diff', 'molecule_type_dist_mean',\n",
    "       'molecule_type_dist_mean_diff', 'molecule_type_dist_mean_div',\n",
    "       'molecule_type_dist_max', 'molecule_type_dist_min',\n",
    "       'molecule_type_dist_std', 'molecule_type_dist_std_diff']],\n",
    "          train_FE003[['num_atoms', 'flatness_metric',\n",
    "       'bond_angle_plane', 'bond_angle_axis']]],\n",
    "          axis=1)\n",
    "\n",
    "FE004_test = pd.concat([test_FE002[['id', 'molecule_name', 'atom_index_0', 'atom_index_1',\n",
    "       'type', 'atom_0', 'x_0', 'y_0', 'z_0',\n",
    "       'atom_1', 'x_1', 'y_1', 'z_1', 'C', 'F', 'H', 'N', 'O', 'bonds', 'dist',\n",
    "       'abs_dist', 'dist_xy', 'abs_dist_xy', 'dist_xz', 'abs_dist_xz',\n",
    "       'dist_yz', 'abs_dist_yz', 'dist_to_type_mean', 'dist_to_type_std',\n",
    "       'dist_to_type_mean_xy', 'dist_to_type_mean_xz', 'dist_to_type_mean_yz',\n",
    "       'molecule_couples', 'molecule_dist_mean', 'molecule_dist_min',\n",
    "       'molecule_dist_max', 'atom_0_couples_count', 'atom_1_couples_count',\n",
    "       'molecule_atom_index_0_x_1_std', 'molecule_atom_index_0_y_1_mean',\n",
    "       'molecule_atom_index_0_y_1_mean_diff',\n",
    "       'molecule_atom_index_0_y_1_mean_div', 'molecule_atom_index_0_y_1_max',\n",
    "       'molecule_atom_index_0_y_1_max_diff', 'molecule_atom_index_0_y_1_std',\n",
    "       'molecule_atom_index_0_z_1_std', 'molecule_atom_index_0_dist_mean',\n",
    "       'molecule_atom_index_0_dist_mean_diff',\n",
    "       'molecule_atom_index_0_dist_mean_div', 'molecule_atom_index_0_dist_max',\n",
    "       'molecule_atom_index_0_dist_max_diff',\n",
    "       'molecule_atom_index_0_dist_max_div', 'molecule_atom_index_0_dist_min',\n",
    "       'molecule_atom_index_0_dist_min_diff',\n",
    "       'molecule_atom_index_0_dist_min_div', 'molecule_atom_index_0_dist_std',\n",
    "       'molecule_atom_index_0_dist_std_diff',\n",
    "       'molecule_atom_index_0_dist_std_div', 'molecule_atom_index_1_dist_mean',\n",
    "       'molecule_atom_index_1_dist_mean_diff',\n",
    "       'molecule_atom_index_1_dist_mean_div', 'molecule_atom_index_1_dist_max',\n",
    "       'molecule_atom_index_1_dist_max_diff',\n",
    "       'molecule_atom_index_1_dist_max_div', 'molecule_atom_index_1_dist_min',\n",
    "       'molecule_atom_index_1_dist_min_diff',\n",
    "       'molecule_atom_index_1_dist_min_div', 'molecule_atom_index_1_dist_std',\n",
    "       'molecule_atom_index_1_dist_std_diff',\n",
    "       'molecule_atom_index_1_dist_std_div', 'molecule_atom_1_dist_mean',\n",
    "       'molecule_atom_1_dist_min', 'molecule_atom_1_dist_min_diff',\n",
    "       'molecule_atom_1_dist_min_div', 'molecule_atom_1_dist_std',\n",
    "       'molecule_atom_1_dist_std_diff', 'molecule_bonds_dist_std',\n",
    "       'molecule_bonds_dist_std_diff', 'molecule_type_dist_mean',\n",
    "       'molecule_type_dist_mean_diff', 'molecule_type_dist_mean_div',\n",
    "       'molecule_type_dist_max', 'molecule_type_dist_min',\n",
    "       'molecule_type_dist_std', 'molecule_type_dist_std_diff']],\n",
    "          test_FE003[['num_atoms', 'flatness_metric',\n",
    "       'bond_angle_plane', 'bond_angle_axis']]],\n",
    "          axis=1)"
   ]
  },
  {
   "cell_type": "code",
   "execution_count": 24,
   "metadata": {},
   "outputs": [],
   "source": [
    "FE004_train.to_csv('../data/FE004-train.csv', index=False)\n",
    "FE004_test.to_csv('../data/FE004-test.csv', index=False)"
   ]
  }
 ],
 "metadata": {
  "kernelspec": {
   "display_name": "Python 3",
   "language": "python",
   "name": "python3"
  },
  "language_info": {
   "codemirror_mode": {
    "name": "ipython",
    "version": 3
   },
   "file_extension": ".py",
   "mimetype": "text/x-python",
   "name": "python",
   "nbconvert_exporter": "python",
   "pygments_lexer": "ipython3",
   "version": "3.6.6"
  }
 },
 "nbformat": 4,
 "nbformat_minor": 2
}
