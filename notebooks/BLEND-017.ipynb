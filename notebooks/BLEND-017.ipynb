{
 "cells": [
  {
   "cell_type": "markdown",
   "metadata": {},
   "source": [
    "# BLEND017\n",
    "July 21st Best"
   ]
  },
  {
   "cell_type": "code",
   "execution_count": 1,
   "metadata": {},
   "outputs": [],
   "source": [
    "import pandas as pd\n",
    "import numpy as np\n",
    "import os\n",
    "\n",
    "from sklearn.metrics import mean_absolute_error\n",
    "\n",
    "def group_mean_log_mae(y_true, y_pred, groups, floor=1e-9):\n",
    "    maes = (y_true-y_pred).abs().groupby(groups).mean()\n",
    "    return np.log(maes.map(lambda x: max(x, floor))).mean()\n",
    "\n",
    "def log_mean_absolute_error(y_true, y_pred):\n",
    "    return np.log(mean_absolute_error(y_true, y_pred))\n",
    "%matplotlib inline"
   ]
  },
  {
   "cell_type": "markdown",
   "metadata": {},
   "source": [
    "# 1JHC"
   ]
  },
  {
   "cell_type": "code",
   "execution_count": 2,
   "metadata": {},
   "outputs": [
    {
     "name": "stdout",
     "output_type": "stream",
     "text": [
      "M037-0.5176\n",
      "M038-0.532\n",
      "M040-0.5477\n",
      "M044-0.6206\n",
      "M045-0.6455\n",
      "M046-0.698\n",
      "M047-0.7977\n",
      "M048-0.8258\n"
     ]
    }
   ],
   "source": [
    "types = ['1JHC', '2JHH', '1JHN', '2JHN', '2JHC','3JHH','3JHC', '3JHN']\n",
    "\n",
    "oof_1JHC = []\n",
    "sub_1JHC = []\n",
    "\n",
    "t = '1JHC'\n",
    "for file in sorted(os.listdir(f'../type_results/{t}/')):\n",
    "    if 'sub' in file:\n",
    "        model_id = file[:4] + file.split('MAE_')[1].replace('L','')\n",
    "        print(model_id)\n",
    "        df = pd.read_parquet(f'../type_results/{t}/{file}')\n",
    "        if len(sub_1JHC) == 0:\n",
    "            sub_1JHC = df.rename(columns={'scalar_coupling_constant': model_id})\n",
    "        else:\n",
    "            sub_1JHC[model_id] = df['scalar_coupling_constant']\n",
    "    elif 'oof' in file:\n",
    "        model_id = file[:4] + file.split('MAE_')[1].replace('L','')\n",
    "        #print(model_id)\n",
    "        df = pd.read_parquet(f'../type_results/{t}/{file}')\n",
    "        if len(oof_1JHC) == 0:\n",
    "            oof_1JHC = df.rename(columns={'oof_preds': model_id})\n",
    "        else:\n",
    "            oof_1JHC[model_id] = df['oof_preds']"
   ]
  },
  {
   "cell_type": "code",
   "execution_count": 3,
   "metadata": {},
   "outputs": [
    {
     "name": "stdout",
     "output_type": "stream",
     "text": [
      "-0.925053423047008\n"
     ]
    }
   ],
   "source": [
    "blend_1JHC = (\\\n",
    "              oof_1JHC['M046-0.698'] +\n",
    "              1.5 * oof_1JHC['M047-0.7977'] +\n",
    "              2 * oof_1JHC['M048-0.8258']) / 4.5\n",
    "\n",
    "sub_1JHC_col = (\\\n",
    "              sub_1JHC['M046-0.698'] +\n",
    "              1.5 * sub_1JHC['M047-0.7977'] +\n",
    "              2 * sub_1JHC['M048-0.8258']) / 4.5\n",
    "\n",
    "print(log_mean_absolute_error(oof_1JHC['scalar_coupling_constant'],\n",
    "                        blend_1JHC))\n",
    "\n",
    "sub_1JHC['scalar_coupling_constant'] = sub_1JHC_col\n",
    "oof_1JHC['oof_blend'] = blend_1JHC"
   ]
  },
  {
   "cell_type": "markdown",
   "metadata": {},
   "source": [
    "# 2JHC"
   ]
  },
  {
   "cell_type": "code",
   "execution_count": 4,
   "metadata": {},
   "outputs": [
    {
     "name": "stdout",
     "output_type": "stream",
     "text": [
      "M037-1.49\n",
      "M039-1.452\n",
      "M040-1.518\n",
      "M041-1.449\n",
      "M046-1.631\n",
      "M047-1.75\n",
      "M048-1.737\n"
     ]
    }
   ],
   "source": [
    "oof_2JHC = []\n",
    "sub_2JHC = []\n",
    "\n",
    "t = '2JHC'\n",
    "for file in sorted(os.listdir(f'../type_results/{t}/')):\n",
    "    if 'sub' in file:\n",
    "        model_id = file[:4] + file.split('MAE_')[1].replace('L','')\n",
    "        print(model_id)\n",
    "        df = pd.read_parquet(f'../type_results/{t}/{file}')\n",
    "        if len(sub_2JHC) == 0:\n",
    "            sub_2JHC = df.rename(columns={'scalar_coupling_constant': model_id})\n",
    "        else:\n",
    "            sub_2JHC[model_id] = df['scalar_coupling_constant']\n",
    "    elif 'oof' in file:\n",
    "        model_id = file[:4] + file.split('MAE_')[1].replace('L','')\n",
    "        #print(model_id)\n",
    "        df = pd.read_parquet(f'../type_results/{t}/{file}')\n",
    "        if len(oof_2JHC) == 0:\n",
    "            oof_2JHC = df.rename(columns={'oof_preds': model_id})\n",
    "        else:\n",
    "            oof_2JHC[model_id] = df['oof_preds']"
   ]
  },
  {
   "cell_type": "code",
   "execution_count": 12,
   "metadata": {},
   "outputs": [
    {
     "name": "stdout",
     "output_type": "stream",
     "text": [
      "-1.8435278750798785\n"
     ]
    }
   ],
   "source": [
    "blend_2JHC = (\\\n",
    "    oof_2JHC['M046-1.631'] + \\\n",
    "    oof_2JHC['M047-1.75'] + \\\n",
    "    oof_2JHC['M048-1.737']) / 3\n",
    "\n",
    "sub_2JHC_col = (\\\n",
    "    sub_2JHC['M046-1.631'] + \\\n",
    "    sub_2JHC['M047-1.75'] + \\\n",
    "    sub_2JHC['M048-1.737']) / 3\n",
    "\n",
    "print(log_mean_absolute_error(oof_2JHC['scalar_coupling_constant'],\n",
    "                        blend_2JHC))\n",
    "sub_2JHC['scalar_coupling_constant'] = sub_2JHC_col\n",
    "oof_2JHC['oof_blend'] = blend_2JHC"
   ]
  },
  {
   "cell_type": "markdown",
   "metadata": {},
   "source": [
    "# 1JHN"
   ]
  },
  {
   "cell_type": "code",
   "execution_count": 13,
   "metadata": {},
   "outputs": [
    {
     "name": "stdout",
     "output_type": "stream",
     "text": [
      "M035-0.9231\n",
      "M035-0.9557\n",
      "M036-0.1603\n",
      "M036-0.9489\n",
      "M037-0.8456\n",
      "M038-0.9475\n",
      "M039-0.8116\n",
      "M040-0.9207\n",
      "M042-0.9519\n",
      "M046-1.031\n",
      "M047-1.116\n",
      "M048-1.089\n",
      "M049-1.36\n",
      "M049-1.361\n"
     ]
    }
   ],
   "source": [
    "oof_1JHN = []\n",
    "sub_1JHN = []\n",
    "\n",
    "t = '1JHN'\n",
    "for file in sorted(os.listdir(f'../type_results/{t}/')):\n",
    "    if 'sub' in file:\n",
    "        model_id = file[:4] + file.split('MAE_')[1].replace('L','')\n",
    "        print(model_id)\n",
    "        df = pd.read_parquet(f'../type_results/{t}/{file}')\n",
    "        if len(sub_1JHN) == 0:\n",
    "            sub_1JHN = df.rename(columns={'scalar_coupling_constant': model_id})\n",
    "        else:\n",
    "            sub_1JHN[model_id] = df['scalar_coupling_constant']\n",
    "    elif 'oof' in file:\n",
    "        model_id = file[:4] + file.split('MAE_')[1].replace('L','')\n",
    "        #print(model_id)\n",
    "        df = pd.read_parquet(f'../type_results/{t}/{file}')\n",
    "        if len(oof_1JHN) == 0:\n",
    "            oof_1JHN = df.rename(columns={'oof_preds': model_id})\n",
    "        else:\n",
    "            oof_1JHN[model_id] = df['oof_preds']"
   ]
  },
  {
   "cell_type": "code",
   "execution_count": 15,
   "metadata": {},
   "outputs": [
    {
     "name": "stdout",
     "output_type": "stream",
     "text": [
      "-1.468595373112094\n"
     ]
    }
   ],
   "source": [
    "blend_1JHN = (\\\n",
    "    1 * oof_1JHN['M046-1.031'] + \\\n",
    "    1 * oof_1JHN['M047-1.116'] + \\\n",
    "    1 * oof_1JHN['M048-1.089'] + \\\n",
    "    4 * oof_1JHN['M049-1.36'] +\n",
    "    2 * oof_1JHN['M049-1.361']) / 9\n",
    "\n",
    "sub_1JHN_col = (\\\n",
    "    1 * sub_1JHN['M046-1.031'] + \\\n",
    "    1 * sub_1JHN['M047-1.116'] + \\\n",
    "    1 * sub_1JHN['M048-1.089'] + \\\n",
    "    4 * sub_1JHN['M049-1.36'] +\n",
    "    2 * sub_1JHN['M049-1.361']) / 9\n",
    "\n",
    "print(log_mean_absolute_error(oof_1JHN['scalar_coupling_constant'],\n",
    "                        blend_1JHN))\n",
    "\n",
    "sub_1JHN['scalar_coupling_constant'] = sub_1JHN_col\n",
    "oof_1JHN['oof_blend'] = blend_1JHN"
   ]
  },
  {
   "cell_type": "markdown",
   "metadata": {},
   "source": [
    "# 2JHN"
   ]
  },
  {
   "cell_type": "code",
   "execution_count": 16,
   "metadata": {},
   "outputs": [
    {
     "name": "stdout",
     "output_type": "stream",
     "text": [
      "M031-2.04\n",
      "M032-1.962\n",
      "M036-1.928\n",
      "M037-1.953\n",
      "M037-1.953\n",
      "M038-1.979\n",
      "M039-1.949\n",
      "M039-1.941\n",
      "M040-1.942\n",
      "M042-1.926\n",
      "M046-2.04\n",
      "M047-2.12\n",
      "M048-2.082\n",
      "M049-2.117\n"
     ]
    }
   ],
   "source": [
    "oof_2JHN = []\n",
    "sub_2JHN = []\n",
    "\n",
    "t = '2JHN'\n",
    "for file in sorted(os.listdir(f'../type_results/{t}/')):\n",
    "    if 'sub' in file:\n",
    "        model_id = file[:4] + file.split('MAE_')[1].replace('L','')\n",
    "        print(model_id)\n",
    "        df = pd.read_parquet(f'../type_results/{t}/{file}')\n",
    "        if len(sub_2JHN) == 0:\n",
    "            sub_2JHN = df.rename(columns={'scalar_coupling_constant': model_id})\n",
    "        else:\n",
    "            sub_2JHN[model_id] = df['scalar_coupling_constant']\n",
    "    elif 'oof' in file:\n",
    "        model_id = file[:4] + file.split('MAE_')[1].replace('L','')\n",
    "        #print(model_id)\n",
    "        df = pd.read_parquet(f'../type_results/{t}/{file}')\n",
    "        if len(oof_2JHN) == 0:\n",
    "            oof_2JHN = df.rename(columns={'oof_preds': model_id})\n",
    "        else:\n",
    "            oof_2JHN[model_id] = df['oof_preds']"
   ]
  },
  {
   "cell_type": "code",
   "execution_count": 17,
   "metadata": {},
   "outputs": [
    {
     "name": "stdout",
     "output_type": "stream",
     "text": [
      "-2.3015999850828193\n"
     ]
    }
   ],
   "source": [
    "blend_2JHN = (\\\n",
    "    oof_2JHN['M031-2.04'] + \\\n",
    "    oof_2JHN['M047-2.12'] +\n",
    "    oof_2JHN['M048-2.082'] +\n",
    "    oof_2JHN['M049-2.117'] ) / 4\n",
    "\n",
    "sub_2JHN_col = (\\\n",
    "    sub_2JHN['M031-2.04'] + \\\n",
    "    sub_2JHN['M047-2.12'] +\n",
    "    sub_2JHN['M048-2.082'] +\n",
    "    sub_2JHN['M049-2.117'] ) / 4\n",
    "\n",
    "print(log_mean_absolute_error(oof_2JHN['scalar_coupling_constant'],\n",
    "                        blend_2JHN))\n",
    "\n",
    "sub_2JHN['scalar_coupling_constant'] = sub_2JHN_col\n",
    "oof_2JHN['oof_blend'] = blend_2JHN"
   ]
  },
  {
   "cell_type": "markdown",
   "metadata": {},
   "source": [
    "# 3JHH"
   ]
  },
  {
   "cell_type": "code",
   "execution_count": 18,
   "metadata": {},
   "outputs": [
    {
     "name": "stdout",
     "output_type": "stream",
     "text": [
      "M037-1.873\n",
      "M038-1.899\n",
      "M039-1.872\n",
      "M040-1.897\n",
      "M042-1.881\n",
      "M046-1.978\n",
      "M047-2.1\n",
      "M048-2.086\n",
      "M049-2.098\n"
     ]
    }
   ],
   "source": [
    "oof_3JHH = []\n",
    "sub_3JHH = []\n",
    "\n",
    "t = '3JHH'\n",
    "for file in sorted(os.listdir(f'../type_results/{t}/')):\n",
    "    if 'sub' in file:\n",
    "        model_id = file[:4] + file.split('MAE_')[1].replace('L','')\n",
    "        print(model_id)\n",
    "        df = pd.read_parquet(f'../type_results/{t}/{file}')\n",
    "        if len(sub_3JHH) == 0:\n",
    "            sub_3JHH = df.rename(columns={'scalar_coupling_constant': model_id})\n",
    "        else:\n",
    "            sub_3JHH[model_id] = df['scalar_coupling_constant']\n",
    "    elif 'oof' in file:\n",
    "        model_id = file[:4] + file.split('MAE_')[1].replace('L','')\n",
    "        #print(model_id)\n",
    "        df = pd.read_parquet(f'../type_results/{t}/{file}')\n",
    "        if len(oof_3JHH) == 0:\n",
    "            oof_3JHH = df.rename(columns={'oof_preds': model_id})\n",
    "        else:\n",
    "            oof_3JHH[model_id] = df['oof_preds']"
   ]
  },
  {
   "cell_type": "code",
   "execution_count": 29,
   "metadata": {},
   "outputs": [
    {
     "name": "stdout",
     "output_type": "stream",
     "text": [
      "-2.260735705423677\n"
     ]
    }
   ],
   "source": [
    "blend_3JHH = (\\\n",
    "    oof_3JHH['M046-1.978'] + \\\n",
    "    2 * oof_3JHH['M047-2.1'] +\n",
    "    oof_3JHH['M048-2.086'] + \\\n",
    "    2 * oof_3JHH['M049-2.098']\n",
    "             ) / 6\n",
    "\n",
    "sub_3JHH_col = (\\\n",
    "    sub_3JHH['M046-1.978'] + \\\n",
    "    2 * sub_3JHH['M047-2.1'] +\n",
    "    sub_3JHH['M048-2.086'] + \\\n",
    "    2 * sub_3JHH['M049-2.098']\n",
    "             ) / 6\n",
    "\n",
    "print(log_mean_absolute_error(oof_3JHH['scalar_coupling_constant'],\n",
    "                        blend_3JHH))\n",
    "\n",
    "sub_3JHH['scalar_coupling_constant'] = sub_3JHH_col\n",
    "oof_3JHH['oof_blend'] = blend_3JHH"
   ]
  },
  {
   "cell_type": "markdown",
   "metadata": {},
   "source": [
    "# 3JHC"
   ]
  },
  {
   "cell_type": "code",
   "execution_count": 32,
   "metadata": {},
   "outputs": [
    {
     "name": "stdout",
     "output_type": "stream",
     "text": [
      "M037-1.328\n",
      "M039-1.32\n",
      "M040-1.403\n",
      "M042-1.403\n",
      "M045-1.423\n",
      "M046-1.507\n",
      "M047-1.612\n"
     ]
    }
   ],
   "source": [
    "oof_3JHC = []\n",
    "sub_3JHC = []\n",
    "\n",
    "t = '3JHC'\n",
    "for file in sorted(os.listdir(f'../type_results/{t}/')):\n",
    "    if 'sub' in file:\n",
    "        model_id = file[:4] + file.split('MAE_')[1].replace('L','')\n",
    "        print(model_id)\n",
    "        df = pd.read_parquet(f'../type_results/{t}/{file}')\n",
    "        if len(sub_3JHC) == 0:\n",
    "            sub_3JHC = df.rename(columns={'scalar_coupling_constant': model_id})\n",
    "        else:\n",
    "            sub_3JHC[model_id] = df['scalar_coupling_constant']\n",
    "    elif 'oof' in file:\n",
    "        model_id = file[:4] + file.split('MAE_')[1].replace('L','')\n",
    "        #print(model_id)\n",
    "        df = pd.read_parquet(f'../type_results/{t}/{file}')\n",
    "        if len(oof_3JHC) == 0:\n",
    "            oof_3JHC = df.rename(columns={'oof_preds': model_id})\n",
    "        else:\n",
    "            oof_3JHC[model_id] = df['oof_preds']"
   ]
  },
  {
   "cell_type": "code",
   "execution_count": 33,
   "metadata": {},
   "outputs": [
    {
     "name": "stdout",
     "output_type": "stream",
     "text": [
      "-1.6613524924080436\n"
     ]
    }
   ],
   "source": [
    "blend_3JHC = (\\\n",
    "    2 * oof_3JHC['M046-1.507'] + \\\n",
    "    3 * oof_3JHC['M047-1.612']) / 5\n",
    "\n",
    "sub_3JHC_col = (\\\n",
    "    2 * sub_3JHC['M046-1.507'] + \\\n",
    "    3 * sub_3JHC['M047-1.612']) / 5\n",
    "\n",
    "print(log_mean_absolute_error(oof_3JHC['scalar_coupling_constant'],\n",
    "                        blend_3JHC))\n",
    "\n",
    "sub_3JHC['scalar_coupling_constant'] = sub_3JHC_col\n",
    "oof_3JHC['oof_blend'] = blend_3JHC"
   ]
  },
  {
   "cell_type": "markdown",
   "metadata": {},
   "source": [
    "# 3JHN"
   ]
  },
  {
   "cell_type": "code",
   "execution_count": 34,
   "metadata": {},
   "outputs": [
    {
     "name": "stdout",
     "output_type": "stream",
     "text": [
      "M037-2.14\n",
      "M038-2.165\n",
      "M039-2.152\n",
      "M039-2.155\n",
      "M040-2.156\n",
      "M041-2.087\n",
      "M046-2.25\n",
      "M047-2.356\n",
      "M048-2.321\n",
      "M049-2.156\n"
     ]
    }
   ],
   "source": [
    "oof_3JHN = []\n",
    "sub_3JHN = []\n",
    "\n",
    "t = '3JHN'\n",
    "for file in sorted(os.listdir(f'../type_results/{t}/')):\n",
    "    if 'sub' in file:\n",
    "        model_id = file[:4] + file.split('MAE_')[1].replace('L','')\n",
    "        print(model_id)\n",
    "        df = pd.read_parquet(f'../type_results/{t}/{file}')\n",
    "        if len(sub_3JHN) == 0:\n",
    "            sub_3JHN = df.rename(columns={'scalar_coupling_constant': model_id})\n",
    "        else:\n",
    "            sub_3JHN[model_id] = df['scalar_coupling_constant']\n",
    "    elif 'oof' in file:\n",
    "        model_id = file[:4] + file.split('MAE_')[1].replace('L','')\n",
    "        #print(model_id)\n",
    "        df = pd.read_parquet(f'../type_results/{t}/{file}')\n",
    "        if len(oof_3JHN) == 0:\n",
    "            oof_3JHN = df.rename(columns={'oof_preds': model_id})\n",
    "        else:\n",
    "            oof_3JHN[model_id] = df['oof_preds']"
   ]
  },
  {
   "cell_type": "code",
   "execution_count": 35,
   "metadata": {},
   "outputs": [
    {
     "name": "stdout",
     "output_type": "stream",
     "text": [
      "-2.46515072958082\n"
     ]
    }
   ],
   "source": [
    "blend_3JHN = (\\\n",
    "    2 * oof_3JHN['M046-2.25'] + \\\n",
    "    3 * oof_3JHN['M047-2.356'] + \\\n",
    "    2 * oof_3JHN['M048-2.321'] + \\\n",
    "    oof_3JHN['M049-2.156']) / 8\n",
    "\n",
    "sub_3JHN_col = (\\\n",
    "    2 * sub_3JHN['M046-2.25'] + \\\n",
    "    3 * sub_3JHN['M047-2.356'] + \\\n",
    "    2 * sub_3JHN['M048-2.321'] + \\\n",
    "    sub_3JHN['M049-2.156']) / 8\n",
    "\n",
    "print(log_mean_absolute_error(oof_3JHN['scalar_coupling_constant'],\n",
    "                        blend_3JHN))\n",
    "\n",
    "sub_3JHN['scalar_coupling_constant'] = sub_3JHN_col\n",
    "oof_3JHN['oof_blend'] = blend_3JHN"
   ]
  },
  {
   "cell_type": "markdown",
   "metadata": {},
   "source": [
    "# 2JHH"
   ]
  },
  {
   "cell_type": "code",
   "execution_count": 36,
   "metadata": {},
   "outputs": [
    {
     "name": "stdout",
     "output_type": "stream",
     "text": [
      "M031-1.869\n",
      "M032-1.824\n",
      "M032-1.823\n",
      "M036-1.898\n",
      "M037-1.938\n",
      "M038-1.963\n",
      "M039-1.938\n",
      "M040-1.951\n",
      "M042-1.946\n",
      "M046-2.078\n",
      "M047-2.209\n",
      "M048-2.282\n",
      "M049-2.155\n"
     ]
    }
   ],
   "source": [
    "oof_2JHH = []\n",
    "sub_2JHH = []\n",
    "\n",
    "t = '2JHH'\n",
    "for file in sorted(os.listdir(f'../type_results/{t}/')):\n",
    "    if 'sub' in file:\n",
    "        model_id = file[:4] + file.split('MAE_')[1].replace('L','')\n",
    "        print(model_id)\n",
    "        df = pd.read_parquet(f'../type_results/{t}/{file}')\n",
    "        if len(sub_2JHH) == 0:\n",
    "            sub_2JHH = df.rename(columns={'scalar_coupling_constant': model_id})\n",
    "        else:\n",
    "            sub_2JHH[model_id] = df['scalar_coupling_constant']\n",
    "    elif 'oof' in file:\n",
    "        model_id = file[:4] + file.split('MAE_')[1].replace('L','')\n",
    "        #print(model_id)\n",
    "        df = pd.read_parquet(f'../type_results/{t}/{file}')\n",
    "        if len(oof_2JHH) == 0:\n",
    "            oof_2JHH = df.rename(columns={'oof_preds': model_id})\n",
    "        else:\n",
    "            oof_2JHH[model_id] = df['oof_preds']"
   ]
  },
  {
   "cell_type": "code",
   "execution_count": 37,
   "metadata": {},
   "outputs": [
    {
     "name": "stdout",
     "output_type": "stream",
     "text": [
      "-2.419588733663801\n"
     ]
    }
   ],
   "source": [
    "blend_2JHH = (\\\n",
    "    2 * oof_2JHH['M046-2.078'] + \\\n",
    "    3 * oof_2JHH['M047-2.209'] + \\\n",
    "    3 * oof_2JHH['M048-2.282'] + \\\n",
    "    3 * oof_2JHH['M049-2.155']) / 11\n",
    "\n",
    "sub_2JHH_col = (\\\n",
    "    2 * sub_2JHH['M046-2.078'] + \\\n",
    "    3 * sub_2JHH['M047-2.209'] + \\\n",
    "    3 * sub_2JHH['M048-2.282'] + \\\n",
    "    3 * sub_2JHH['M049-2.155']) / 11\n",
    "\n",
    "print(log_mean_absolute_error(oof_2JHH['scalar_coupling_constant'],\n",
    "                        blend_2JHH))\n",
    "\n",
    "sub_2JHH['scalar_coupling_constant'] = sub_2JHH_col\n",
    "oof_2JHH['oof_blend'] = blend_2JHH"
   ]
  },
  {
   "cell_type": "markdown",
   "metadata": {},
   "source": [
    "# Combine Results"
   ]
  },
  {
   "cell_type": "code",
   "execution_count": 38,
   "metadata": {},
   "outputs": [],
   "source": [
    "oof = pd.concat([oof_1JHC[['id','type','scalar_coupling_constant','oof_blend']],\n",
    " oof_2JHH[['id','type','scalar_coupling_constant','oof_blend']],\n",
    " oof_1JHN[['id','type','scalar_coupling_constant','oof_blend']],\n",
    " oof_2JHN[['id','type','scalar_coupling_constant','oof_blend']],\n",
    " oof_2JHC[['id','type','scalar_coupling_constant','oof_blend']],\n",
    " oof_3JHH[['id','type','scalar_coupling_constant','oof_blend']],\n",
    " oof_3JHC[['id','type','scalar_coupling_constant','oof_blend']],\n",
    " oof_3JHN[['id','type','scalar_coupling_constant','oof_blend']]]).sort_values('id').reset_index(drop=True)"
   ]
  },
  {
   "cell_type": "code",
   "execution_count": 39,
   "metadata": {},
   "outputs": [],
   "source": [
    "sub = pd.concat([sub_1JHC[['id','molecule_name','type','scalar_coupling_constant']],\n",
    " sub_2JHH[['id','molecule_name','type','scalar_coupling_constant']],\n",
    " sub_1JHN[['id','molecule_name','type','scalar_coupling_constant']],\n",
    " sub_2JHN[['id','molecule_name','type','scalar_coupling_constant']],\n",
    " sub_2JHC[['id','molecule_name','type','scalar_coupling_constant']],\n",
    " sub_3JHH[['id','molecule_name','type','scalar_coupling_constant']],\n",
    " sub_3JHC[['id','molecule_name','type','scalar_coupling_constant']],\n",
    " sub_3JHN[['id','molecule_name','type','scalar_coupling_constant']]]).sort_values('id').reset_index(drop=True)"
   ]
  },
  {
   "cell_type": "code",
   "execution_count": 40,
   "metadata": {},
   "outputs": [
    {
     "name": "stdout",
     "output_type": "stream",
     "text": [
      "1JHC 0.39651\n",
      "1JHN 0.23025\n",
      "2JHC 0.15826\n",
      "2JHH 0.08896\n",
      "2JHN 0.10010\n",
      "3JHC 0.18988\n",
      "3JHH 0.10427\n",
      "3JHN 0.08500\n",
      "\n",
      "Group LMAE\n",
      "-1.91820\n"
     ]
    }
   ],
   "source": [
    "for i, d in oof.groupby('type'):\n",
    "    print(i, '{:0.5f}'.format(mean_absolute_error(d['scalar_coupling_constant'], d['oof_blend'])))\n",
    "glmae = group_mean_log_mae(oof['scalar_coupling_constant'], oof['oof_blend'], oof['type'])\n",
    "print('\\nGroup LMAE')\n",
    "print('{:0.5f}'.format(glmae))"
   ]
  },
  {
   "cell_type": "markdown",
   "metadata": {},
   "source": [
    "## Compare with good sub"
   ]
  },
  {
   "cell_type": "code",
   "execution_count": 41,
   "metadata": {},
   "outputs": [
    {
     "data": {
      "text/html": [
       "<div>\n",
       "<style scoped>\n",
       "    .dataframe tbody tr th:only-of-type {\n",
       "        vertical-align: middle;\n",
       "    }\n",
       "\n",
       "    .dataframe tbody tr th {\n",
       "        vertical-align: top;\n",
       "    }\n",
       "\n",
       "    .dataframe thead th {\n",
       "        text-align: right;\n",
       "    }\n",
       "</style>\n",
       "<table border=\"1\" class=\"dataframe\">\n",
       "  <thead>\n",
       "    <tr style=\"text-align: right;\">\n",
       "      <th></th>\n",
       "      <th>scalar_coupling_constant</th>\n",
       "      <th>good_scc</th>\n",
       "    </tr>\n",
       "  </thead>\n",
       "  <tbody>\n",
       "    <tr>\n",
       "      <th>scalar_coupling_constant</th>\n",
       "      <td>1.000000</td>\n",
       "      <td>0.999998</td>\n",
       "    </tr>\n",
       "    <tr>\n",
       "      <th>good_scc</th>\n",
       "      <td>0.999998</td>\n",
       "      <td>1.000000</td>\n",
       "    </tr>\n",
       "  </tbody>\n",
       "</table>\n",
       "</div>"
      ],
      "text/plain": [
       "                          scalar_coupling_constant  good_scc\n",
       "scalar_coupling_constant                  1.000000  0.999998\n",
       "good_scc                                  0.999998  1.000000"
      ]
     },
     "execution_count": 41,
     "metadata": {},
     "output_type": "execute_result"
    }
   ],
   "source": [
    "sub_good = pd.read_csv('../submissions/BLEND014_sub_-1.85550CV.csv')\n",
    "sub['good_scc'] = sub_good['scalar_coupling_constant']\n",
    "sub[['scalar_coupling_constant','good_scc']].corr()"
   ]
  },
  {
   "cell_type": "code",
   "execution_count": 42,
   "metadata": {},
   "outputs": [],
   "source": [
    "# for i, d in sub.groupby('type'):\n",
    "#     print(i)\n",
    "#     print(d.corr())"
   ]
  },
  {
   "cell_type": "code",
   "execution_count": 43,
   "metadata": {},
   "outputs": [],
   "source": [
    "# Save Results\n",
    "BLEND_NUMBER = 'BLEND017'\n",
    "sub[['id','scalar_coupling_constant']].to_csv(f'../submissions/{BLEND_NUMBER}_sub_{glmae:0.5f}CV.csv', index=False)\n",
    "oof.to_csv(f'../oof/{BLEND_NUMBER}_oof_{glmae:0.5f}CV.csv', index=False)"
   ]
  },
  {
   "cell_type": "code",
   "execution_count": null,
   "metadata": {},
   "outputs": [],
   "source": []
  }
 ],
 "metadata": {
  "kernelspec": {
   "display_name": "Python 3",
   "language": "python",
   "name": "python3"
  },
  "language_info": {
   "codemirror_mode": {
    "name": "ipython",
    "version": 3
   },
   "file_extension": ".py",
   "mimetype": "text/x-python",
   "name": "python",
   "nbconvert_exporter": "python",
   "pygments_lexer": "ipython3",
   "version": "3.6.8"
  }
 },
 "nbformat": 4,
 "nbformat_minor": 4
}
