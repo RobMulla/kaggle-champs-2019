{
 "cells": [
  {
   "cell_type": "code",
   "execution_count": 1,
   "metadata": {},
   "outputs": [],
   "source": [
    "import pandas as pd"
   ]
  },
  {
   "cell_type": "code",
   "execution_count": 6,
   "metadata": {},
   "outputs": [
    {
     "name": "stdout",
     "output_type": "stream",
     "text": [
      "structure_with_acsf_soap.csv\n"
     ]
    }
   ],
   "source": [
    "!ls ../scripts/hugh/data/"
   ]
  },
  {
   "cell_type": "code",
   "execution_count": 2,
   "metadata": {},
   "outputs": [],
   "source": [
    "df = pd.read_csv('../scripts/hugh/data/structure_with_acsf_soap.csv')"
   ]
  },
  {
   "cell_type": "code",
   "execution_count": 3,
   "metadata": {},
   "outputs": [
    {
     "data": {
      "text/html": [
       "<div>\n",
       "<style scoped>\n",
       "    .dataframe tbody tr th:only-of-type {\n",
       "        vertical-align: middle;\n",
       "    }\n",
       "\n",
       "    .dataframe tbody tr th {\n",
       "        vertical-align: top;\n",
       "    }\n",
       "\n",
       "    .dataframe thead th {\n",
       "        text-align: right;\n",
       "    }\n",
       "</style>\n",
       "<table border=\"1\" class=\"dataframe\">\n",
       "  <thead>\n",
       "    <tr style=\"text-align: right;\">\n",
       "      <th></th>\n",
       "      <th>molecule_name</th>\n",
       "      <th>atom_index</th>\n",
       "      <th>atom</th>\n",
       "      <th>x</th>\n",
       "      <th>y</th>\n",
       "      <th>z</th>\n",
       "      <th>acsf_f0</th>\n",
       "      <th>acsf_f1</th>\n",
       "      <th>acsf_f2</th>\n",
       "      <th>acsf_f3</th>\n",
       "      <th>...</th>\n",
       "      <th>soap_f440</th>\n",
       "      <th>soap_f441</th>\n",
       "      <th>soap_f442</th>\n",
       "      <th>soap_f443</th>\n",
       "      <th>soap_f444</th>\n",
       "      <th>soap_f445</th>\n",
       "      <th>soap_f446</th>\n",
       "      <th>soap_f447</th>\n",
       "      <th>soap_f448</th>\n",
       "      <th>soap_f449</th>\n",
       "    </tr>\n",
       "  </thead>\n",
       "  <tbody>\n",
       "    <tr>\n",
       "      <th>0</th>\n",
       "      <td>dsgdb9nsd_000001</td>\n",
       "      <td>0</td>\n",
       "      <td>C</td>\n",
       "      <td>-0.012698</td>\n",
       "      <td>1.085804</td>\n",
       "      <td>0.008001</td>\n",
       "      <td>3.681918</td>\n",
       "      <td>3.650919</td>\n",
       "      <td>1.614263</td>\n",
       "      <td>0.096596</td>\n",
       "      <td>...</td>\n",
       "      <td>0.0</td>\n",
       "      <td>0.0</td>\n",
       "      <td>0.0</td>\n",
       "      <td>0.0</td>\n",
       "      <td>0.0</td>\n",
       "      <td>0.0</td>\n",
       "      <td>0.0</td>\n",
       "      <td>0.0</td>\n",
       "      <td>0.0</td>\n",
       "      <td>0.0</td>\n",
       "    </tr>\n",
       "    <tr>\n",
       "      <th>1</th>\n",
       "      <td>dsgdb9nsd_000001</td>\n",
       "      <td>1</td>\n",
       "      <td>H</td>\n",
       "      <td>0.002150</td>\n",
       "      <td>-0.006031</td>\n",
       "      <td>0.001976</td>\n",
       "      <td>2.392355</td>\n",
       "      <td>1.295592</td>\n",
       "      <td>2.282453</td>\n",
       "      <td>0.544185</td>\n",
       "      <td>...</td>\n",
       "      <td>0.0</td>\n",
       "      <td>0.0</td>\n",
       "      <td>0.0</td>\n",
       "      <td>0.0</td>\n",
       "      <td>0.0</td>\n",
       "      <td>0.0</td>\n",
       "      <td>0.0</td>\n",
       "      <td>0.0</td>\n",
       "      <td>0.0</td>\n",
       "      <td>0.0</td>\n",
       "    </tr>\n",
       "    <tr>\n",
       "      <th>2</th>\n",
       "      <td>dsgdb9nsd_000001</td>\n",
       "      <td>2</td>\n",
       "      <td>H</td>\n",
       "      <td>1.011731</td>\n",
       "      <td>1.463751</td>\n",
       "      <td>0.000277</td>\n",
       "      <td>2.392355</td>\n",
       "      <td>1.295591</td>\n",
       "      <td>2.282453</td>\n",
       "      <td>0.544185</td>\n",
       "      <td>...</td>\n",
       "      <td>0.0</td>\n",
       "      <td>0.0</td>\n",
       "      <td>0.0</td>\n",
       "      <td>0.0</td>\n",
       "      <td>0.0</td>\n",
       "      <td>0.0</td>\n",
       "      <td>0.0</td>\n",
       "      <td>0.0</td>\n",
       "      <td>0.0</td>\n",
       "      <td>0.0</td>\n",
       "    </tr>\n",
       "    <tr>\n",
       "      <th>3</th>\n",
       "      <td>dsgdb9nsd_000001</td>\n",
       "      <td>3</td>\n",
       "      <td>H</td>\n",
       "      <td>-0.540815</td>\n",
       "      <td>1.447527</td>\n",
       "      <td>-0.876644</td>\n",
       "      <td>2.392349</td>\n",
       "      <td>1.295569</td>\n",
       "      <td>2.282457</td>\n",
       "      <td>0.544196</td>\n",
       "      <td>...</td>\n",
       "      <td>0.0</td>\n",
       "      <td>0.0</td>\n",
       "      <td>0.0</td>\n",
       "      <td>0.0</td>\n",
       "      <td>0.0</td>\n",
       "      <td>0.0</td>\n",
       "      <td>0.0</td>\n",
       "      <td>0.0</td>\n",
       "      <td>0.0</td>\n",
       "      <td>0.0</td>\n",
       "    </tr>\n",
       "    <tr>\n",
       "      <th>4</th>\n",
       "      <td>dsgdb9nsd_000001</td>\n",
       "      <td>4</td>\n",
       "      <td>H</td>\n",
       "      <td>-0.523814</td>\n",
       "      <td>1.437933</td>\n",
       "      <td>0.906397</td>\n",
       "      <td>2.392349</td>\n",
       "      <td>1.295570</td>\n",
       "      <td>2.282457</td>\n",
       "      <td>0.544196</td>\n",
       "      <td>...</td>\n",
       "      <td>0.0</td>\n",
       "      <td>0.0</td>\n",
       "      <td>0.0</td>\n",
       "      <td>0.0</td>\n",
       "      <td>0.0</td>\n",
       "      <td>0.0</td>\n",
       "      <td>0.0</td>\n",
       "      <td>0.0</td>\n",
       "      <td>0.0</td>\n",
       "      <td>0.0</td>\n",
       "    </tr>\n",
       "  </tbody>\n",
       "</table>\n",
       "<p>5 rows × 536 columns</p>\n",
       "</div>"
      ],
      "text/plain": [
       "      molecule_name  atom_index atom         x         y         z   acsf_f0  \\\n",
       "0  dsgdb9nsd_000001           0    C -0.012698  1.085804  0.008001  3.681918   \n",
       "1  dsgdb9nsd_000001           1    H  0.002150 -0.006031  0.001976  2.392355   \n",
       "2  dsgdb9nsd_000001           2    H  1.011731  1.463751  0.000277  2.392355   \n",
       "3  dsgdb9nsd_000001           3    H -0.540815  1.447527 -0.876644  2.392349   \n",
       "4  dsgdb9nsd_000001           4    H -0.523814  1.437933  0.906397  2.392349   \n",
       "\n",
       "    acsf_f1   acsf_f2   acsf_f3  ...  soap_f440  soap_f441  soap_f442  \\\n",
       "0  3.650919  1.614263  0.096596  ...        0.0        0.0        0.0   \n",
       "1  1.295592  2.282453  0.544185  ...        0.0        0.0        0.0   \n",
       "2  1.295591  2.282453  0.544185  ...        0.0        0.0        0.0   \n",
       "3  1.295569  2.282457  0.544196  ...        0.0        0.0        0.0   \n",
       "4  1.295570  2.282457  0.544196  ...        0.0        0.0        0.0   \n",
       "\n",
       "   soap_f443  soap_f444  soap_f445  soap_f446  soap_f447  soap_f448  soap_f449  \n",
       "0        0.0        0.0        0.0        0.0        0.0        0.0        0.0  \n",
       "1        0.0        0.0        0.0        0.0        0.0        0.0        0.0  \n",
       "2        0.0        0.0        0.0        0.0        0.0        0.0        0.0  \n",
       "3        0.0        0.0        0.0        0.0        0.0        0.0        0.0  \n",
       "4        0.0        0.0        0.0        0.0        0.0        0.0        0.0  \n",
       "\n",
       "[5 rows x 536 columns]"
      ]
     },
     "execution_count": 3,
     "metadata": {},
     "output_type": "execute_result"
    }
   ],
   "source": [
    "df.head()"
   ]
  },
  {
   "cell_type": "code",
   "execution_count": 14,
   "metadata": {},
   "outputs": [
    {
     "data": {
      "text/plain": [
       "12"
      ]
     },
     "execution_count": 14,
     "metadata": {},
     "output_type": "execute_result"
    }
   ],
   "source": [
    "548 - 536"
   ]
  },
  {
   "cell_type": "code",
   "execution_count": 4,
   "metadata": {},
   "outputs": [
    {
     "data": {
      "text/plain": [
       "(2358657, 536)"
      ]
     },
     "execution_count": 4,
     "metadata": {},
     "output_type": "execute_result"
    }
   ],
   "source": [
    "df.shape"
   ]
  },
  {
   "cell_type": "code",
   "execution_count": 6,
   "metadata": {},
   "outputs": [],
   "source": [
    "qm7 = pd.read_csv('../data/qm7_coulomb/struct_eigen.csv')"
   ]
  },
  {
   "cell_type": "code",
   "execution_count": 7,
   "metadata": {},
   "outputs": [
    {
     "data": {
      "text/plain": [
       "(2358657, 14)"
      ]
     },
     "execution_count": 7,
     "metadata": {},
     "output_type": "execute_result"
    }
   ],
   "source": [
    "qm7.shape"
   ]
  },
  {
   "cell_type": "code",
   "execution_count": 8,
   "metadata": {},
   "outputs": [
    {
     "data": {
      "text/html": [
       "<div>\n",
       "<style scoped>\n",
       "    .dataframe tbody tr th:only-of-type {\n",
       "        vertical-align: middle;\n",
       "    }\n",
       "\n",
       "    .dataframe tbody tr th {\n",
       "        vertical-align: top;\n",
       "    }\n",
       "\n",
       "    .dataframe thead th {\n",
       "        text-align: right;\n",
       "    }\n",
       "</style>\n",
       "<table border=\"1\" class=\"dataframe\">\n",
       "  <thead>\n",
       "    <tr style=\"text-align: right;\">\n",
       "      <th></th>\n",
       "      <th>atom_index</th>\n",
       "      <th>connectedness</th>\n",
       "      <th>coulomb_mean</th>\n",
       "      <th>eigv_gap</th>\n",
       "      <th>eigv_max</th>\n",
       "      <th>eigv_min</th>\n",
       "      <th>fiedler_eig</th>\n",
       "      <th>molecule_name</th>\n",
       "      <th>sv_0</th>\n",
       "      <th>sv_1</th>\n",
       "      <th>sv_2</th>\n",
       "      <th>sv_3</th>\n",
       "      <th>sv_4</th>\n",
       "      <th>sv_min</th>\n",
       "    </tr>\n",
       "  </thead>\n",
       "  <tbody>\n",
       "    <tr>\n",
       "      <th>0</th>\n",
       "      <td>0</td>\n",
       "      <td>1</td>\n",
       "      <td>11.767428</td>\n",
       "      <td>39.98677</td>\n",
       "      <td>40.047568</td>\n",
       "      <td>0.060799</td>\n",
       "      <td>1.506038</td>\n",
       "      <td>dsgdb9nsd_000001</td>\n",
       "      <td>29.416132</td>\n",
       "      <td>0.060816</td>\n",
       "      <td>0.060805</td>\n",
       "      <td>0.060799</td>\n",
       "      <td>8.946912e-16</td>\n",
       "      <td>0.060799</td>\n",
       "    </tr>\n",
       "    <tr>\n",
       "      <th>1</th>\n",
       "      <td>1</td>\n",
       "      <td>1</td>\n",
       "      <td>1.535433</td>\n",
       "      <td>39.98677</td>\n",
       "      <td>40.047568</td>\n",
       "      <td>0.060799</td>\n",
       "      <td>1.506038</td>\n",
       "      <td>dsgdb9nsd_000001</td>\n",
       "      <td>29.416132</td>\n",
       "      <td>0.060816</td>\n",
       "      <td>0.060805</td>\n",
       "      <td>0.060799</td>\n",
       "      <td>6.410361e-16</td>\n",
       "      <td>0.060799</td>\n",
       "    </tr>\n",
       "    <tr>\n",
       "      <th>2</th>\n",
       "      <td>2</td>\n",
       "      <td>1</td>\n",
       "      <td>1.535434</td>\n",
       "      <td>39.98677</td>\n",
       "      <td>40.047568</td>\n",
       "      <td>0.060799</td>\n",
       "      <td>1.506038</td>\n",
       "      <td>dsgdb9nsd_000001</td>\n",
       "      <td>29.416132</td>\n",
       "      <td>0.060816</td>\n",
       "      <td>0.060805</td>\n",
       "      <td>0.060799</td>\n",
       "      <td>2.030443e-17</td>\n",
       "      <td>0.060799</td>\n",
       "    </tr>\n",
       "    <tr>\n",
       "      <th>3</th>\n",
       "      <td>3</td>\n",
       "      <td>1</td>\n",
       "      <td>1.535438</td>\n",
       "      <td>39.98677</td>\n",
       "      <td>40.047568</td>\n",
       "      <td>0.060799</td>\n",
       "      <td>1.506038</td>\n",
       "      <td>dsgdb9nsd_000001</td>\n",
       "      <td>29.416132</td>\n",
       "      <td>0.060816</td>\n",
       "      <td>0.060805</td>\n",
       "      <td>0.060799</td>\n",
       "      <td>3.549286e-16</td>\n",
       "      <td>0.060799</td>\n",
       "    </tr>\n",
       "    <tr>\n",
       "      <th>4</th>\n",
       "      <td>4</td>\n",
       "      <td>1</td>\n",
       "      <td>1.535437</td>\n",
       "      <td>39.98677</td>\n",
       "      <td>40.047568</td>\n",
       "      <td>0.060799</td>\n",
       "      <td>1.506038</td>\n",
       "      <td>dsgdb9nsd_000001</td>\n",
       "      <td>29.416132</td>\n",
       "      <td>0.060816</td>\n",
       "      <td>0.060805</td>\n",
       "      <td>0.060799</td>\n",
       "      <td>7.166480e-16</td>\n",
       "      <td>0.060799</td>\n",
       "    </tr>\n",
       "  </tbody>\n",
       "</table>\n",
       "</div>"
      ],
      "text/plain": [
       "   atom_index  connectedness  coulomb_mean  eigv_gap   eigv_max  eigv_min  \\\n",
       "0           0              1     11.767428  39.98677  40.047568  0.060799   \n",
       "1           1              1      1.535433  39.98677  40.047568  0.060799   \n",
       "2           2              1      1.535434  39.98677  40.047568  0.060799   \n",
       "3           3              1      1.535438  39.98677  40.047568  0.060799   \n",
       "4           4              1      1.535437  39.98677  40.047568  0.060799   \n",
       "\n",
       "   fiedler_eig     molecule_name       sv_0      sv_1      sv_2      sv_3  \\\n",
       "0     1.506038  dsgdb9nsd_000001  29.416132  0.060816  0.060805  0.060799   \n",
       "1     1.506038  dsgdb9nsd_000001  29.416132  0.060816  0.060805  0.060799   \n",
       "2     1.506038  dsgdb9nsd_000001  29.416132  0.060816  0.060805  0.060799   \n",
       "3     1.506038  dsgdb9nsd_000001  29.416132  0.060816  0.060805  0.060799   \n",
       "4     1.506038  dsgdb9nsd_000001  29.416132  0.060816  0.060805  0.060799   \n",
       "\n",
       "           sv_4    sv_min  \n",
       "0  8.946912e-16  0.060799  \n",
       "1  6.410361e-16  0.060799  \n",
       "2  2.030443e-17  0.060799  \n",
       "3  3.549286e-16  0.060799  \n",
       "4  7.166480e-16  0.060799  "
      ]
     },
     "execution_count": 8,
     "metadata": {},
     "output_type": "execute_result"
    }
   ],
   "source": [
    "qm7.head()"
   ]
  },
  {
   "cell_type": "code",
   "execution_count": 10,
   "metadata": {},
   "outputs": [],
   "source": [
    "df_new = df.merge(qm7, on=['atom_index','molecule_name'])"
   ]
  },
  {
   "cell_type": "code",
   "execution_count": 11,
   "metadata": {},
   "outputs": [
    {
     "data": {
      "text/plain": [
       "(2358657, 548)"
      ]
     },
     "execution_count": 11,
     "metadata": {},
     "output_type": "execute_result"
    }
   ],
   "source": [
    "df_new.shape"
   ]
  },
  {
   "cell_type": "code",
   "execution_count": 12,
   "metadata": {},
   "outputs": [],
   "source": [
    "df_new.to_csv('../scripts/hugh/data/structure_with_acsf_soap_qm7.csv', index=False)"
   ]
  },
  {
   "cell_type": "code",
   "execution_count": 13,
   "metadata": {},
   "outputs": [
    {
     "data": {
      "text/plain": [
       "(2358657, 548)"
      ]
     },
     "execution_count": 13,
     "metadata": {},
     "output_type": "execute_result"
    }
   ],
   "source": [
    "df_new.shape"
   ]
  }
 ],
 "metadata": {
  "kernelspec": {
   "display_name": "Python 3",
   "language": "python",
   "name": "python3"
  },
  "language_info": {
   "codemirror_mode": {
    "name": "ipython",
    "version": 3
   },
   "file_extension": ".py",
   "mimetype": "text/x-python",
   "name": "python",
   "nbconvert_exporter": "python",
   "pygments_lexer": "ipython3",
   "version": "3.6.8"
  }
 },
 "nbformat": 4,
 "nbformat_minor": 4
}
