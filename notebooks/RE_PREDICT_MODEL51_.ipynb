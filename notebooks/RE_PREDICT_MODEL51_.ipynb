{
 "cells": [
  {
   "cell_type": "markdown",
   "metadata": {},
   "source": [
    "# 3JHN"
   ]
  },
  {
   "cell_type": "code",
   "execution_count": 8,
   "metadata": {},
   "outputs": [],
   "source": [
    "import pandas as pd\n",
    "import catboost"
   ]
  },
  {
   "cell_type": "code",
   "execution_count": 17,
   "metadata": {},
   "outputs": [],
   "source": [
    "# Fold 1\n",
    "X_train_f1 = pd.read_parquet('../type_results/3JHN/meta/M051_0723_1037_3JHN_X_train_meta_fc_f1_0.9147MAE_-0.0892LMAE.parquet')\n",
    "X_test_f1 = pd.read_parquet('../type_results/3JHN/meta/M051_0723_1037_3JHN_X_test_meta_fc_f1_0.9147MAE_-0.0892LMAE.parquet')\n",
    "X_valid_f1 = pd.read_parquet('../type_results/3JHN/meta/M051_0723_1037_3JHN_X_valid_meta_fc_f1_0.9147MAE_-0.0892LMAE.parquet')"
   ]
  },
  {
   "cell_type": "code",
   "execution_count": 18,
   "metadata": {},
   "outputs": [],
   "source": [
    "model = catboost.CatBoostRegressor('../models/M051/M051-0723_1037-3JHN-1.model')"
   ]
  },
  {
   "cell_type": "code",
   "execution_count": 19,
   "metadata": {},
   "outputs": [
    {
     "data": {
      "text/plain": [
       "<catboost.core.CatBoostRegressor at 0x7fdbae4b94a8>"
      ]
     },
     "execution_count": 19,
     "metadata": {},
     "output_type": "execute_result"
    }
   ],
   "source": [
    "model.load_model('../models/M051/M051-0723_1037-3JHN-1.model')"
   ]
  },
  {
   "cell_type": "code",
   "execution_count": 20,
   "metadata": {},
   "outputs": [
    {
     "data": {
      "text/plain": [
       "array([0.04693618, 1.06655966, 0.04693618, ..., 0.09399596, 0.02318652,\n",
       "       0.02318652])"
      ]
     },
     "execution_count": 20,
     "metadata": {},
     "output_type": "execute_result"
    }
   ],
   "source": [
    "model.predict(X_test_f1)"
   ]
  },
  {
   "cell_type": "code",
   "execution_count": 22,
   "metadata": {},
   "outputs": [
    {
     "data": {
      "text/plain": [
       "0    0.258519\n",
       "1    0.264564\n",
       "2    0.264564\n",
       "7    0.188116\n",
       "8    0.188116\n",
       "Name: meta_fc, dtype: float64"
      ]
     },
     "execution_count": 22,
     "metadata": {},
     "output_type": "execute_result"
    }
   ],
   "source": [
    "X_train_f1['meta_fc'].head()"
   ]
  },
  {
   "cell_type": "code",
   "execution_count": 23,
   "metadata": {},
   "outputs": [
    {
     "data": {
      "text/plain": [
       "0    0.135368\n",
       "1    0.714028\n",
       "2    0.135368\n",
       "3    0.714028\n",
       "4    0.100733\n",
       "Name: meta_fc, dtype: float64"
      ]
     },
     "execution_count": 23,
     "metadata": {},
     "output_type": "execute_result"
    }
   ],
   "source": [
    "X_test_f1['meta_fc'].head()"
   ]
  },
  {
   "cell_type": "code",
   "execution_count": 24,
   "metadata": {},
   "outputs": [
    {
     "data": {
      "text/plain": [
       "3     0.130086\n",
       "4     0.676934\n",
       "5     0.122912\n",
       "6     0.158785\n",
       "13    0.191257\n",
       "Name: meta_fc, dtype: float64"
      ]
     },
     "execution_count": 24,
     "metadata": {},
     "output_type": "execute_result"
    }
   ],
   "source": [
    "X_valid_f1['meta_fc'].head()"
   ]
  },
  {
   "cell_type": "code",
   "execution_count": null,
   "metadata": {},
   "outputs": [],
   "source": []
  }
 ],
 "metadata": {
  "kernelspec": {
   "display_name": "Python 3",
   "language": "python",
   "name": "python3"
  },
  "language_info": {
   "codemirror_mode": {
    "name": "ipython",
    "version": 3
   },
   "file_extension": ".py",
   "mimetype": "text/x-python",
   "name": "python",
   "nbconvert_exporter": "python",
   "pygments_lexer": "ipython3",
   "version": "3.6.8"
  }
 },
 "nbformat": 4,
 "nbformat_minor": 4
}
