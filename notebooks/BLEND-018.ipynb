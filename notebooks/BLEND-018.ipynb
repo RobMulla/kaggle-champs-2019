{
 "cells": [
  {
   "cell_type": "markdown",
   "metadata": {},
   "source": [
    "# BLEND017\n",
    "July 21st Best"
   ]
  },
  {
   "cell_type": "code",
   "execution_count": 1,
   "metadata": {},
   "outputs": [],
   "source": [
    "import pandas as pd\n",
    "import numpy as np\n",
    "import os\n",
    "import random\n",
    "from tqdm import tqdm\n",
    "from sklearn.metrics import mean_absolute_error\n",
    "\n",
    "def group_mean_log_mae(y_true, y_pred, groups, floor=1e-9):\n",
    "    maes = (y_true-y_pred).abs().groupby(groups).mean()\n",
    "    return np.log(maes.map(lambda x: max(x, floor))).mean()\n",
    "\n",
    "def log_mean_absolute_error(y_true, y_pred):\n",
    "    return np.log(mean_absolute_error(y_true, y_pred))\n",
    "%matplotlib inline"
   ]
  },
  {
   "cell_type": "code",
   "execution_count": 23,
   "metadata": {},
   "outputs": [
    {
     "name": "stdout",
     "output_type": "stream",
     "text": [
      "Running for type 1JHC\n"
     ]
    },
    {
     "name": "stderr",
     "output_type": "stream",
     "text": [
      "  0%|          | 3/1000 [00:00<00:36, 27.20it/s]"
     ]
    },
    {
     "name": "stdout",
     "output_type": "stream",
     "text": [
      "Has model names ['M037-0.5176', 'M038-0.532', 'M040-0.5477', 'M044-0.6206', 'M045-0.6455', 'M046-0.698', 'M047-0.7977', 'M048-0.8258']\n"
     ]
    },
    {
     "name": "stderr",
     "output_type": "stream",
     "text": [
      "100%|██████████| 1000/1000 [00:33<00:00, 29.60it/s]\n"
     ]
    },
    {
     "name": "stdout",
     "output_type": "stream",
     "text": [
      "Best score -0.87014 - with weights 12 10 19 42 2\n",
      "Running for type 2JHH\n"
     ]
    },
    {
     "name": "stderr",
     "output_type": "stream",
     "text": [
      "  0%|          | 5/1000 [00:00<00:23, 42.14it/s]"
     ]
    },
    {
     "name": "stdout",
     "output_type": "stream",
     "text": [
      "Has model names ['M031-1.869', 'M032-1.824', 'M032-1.823', 'M036-1.898', 'M037-1.938', 'M038-1.963', 'M039-1.938', 'M040-1.951', 'M042-1.946', 'M046-2.078', 'M047-2.209', 'M048-2.282', 'M049-2.155']\n"
     ]
    },
    {
     "name": "stderr",
     "output_type": "stream",
     "text": [
      "100%|██████████| 1000/1000 [00:23<00:00, 43.56it/s]\n"
     ]
    },
    {
     "name": "stdout",
     "output_type": "stream",
     "text": [
      "Best score -2.40627 - with weights 18 0 28 43 50\n",
      "Running for type 1JHN\n"
     ]
    },
    {
     "name": "stderr",
     "output_type": "stream",
     "text": [
      "  1%|▏         | 13/1000 [00:00<00:08, 120.16it/s]"
     ]
    },
    {
     "name": "stdout",
     "output_type": "stream",
     "text": [
      "Has model names ['M035-0.9231', 'M035-0.9557', 'M036-0.1603', 'M036-0.9489', 'M037-0.8456', 'M038-0.9475', 'M039-0.8116', 'M040-0.9207', 'M042-0.9519', 'M046-1.031', 'M047-1.116', 'M048-1.089', 'M049-1.36', 'M049-1.361']\n"
     ]
    },
    {
     "name": "stderr",
     "output_type": "stream",
     "text": [
      "100%|██████████| 1000/1000 [00:08<00:00, 120.62it/s]\n"
     ]
    },
    {
     "name": "stdout",
     "output_type": "stream",
     "text": [
      "Best score -1.39648 - with weights 17 23 29 0 25\n",
      "Running for type 2JHN\n"
     ]
    },
    {
     "name": "stderr",
     "output_type": "stream",
     "text": [
      "  1%|          | 8/1000 [00:00<00:12, 78.64it/s]"
     ]
    },
    {
     "name": "stdout",
     "output_type": "stream",
     "text": [
      "Has model names ['M031-2.04', 'M032-1.962', 'M036-1.928', 'M037-1.953', 'M037-1.953', 'M038-1.979', 'M039-1.949', 'M039-1.941', 'M040-1.942', 'M042-1.926', 'M046-2.04', 'M047-2.12', 'M048-2.082', 'M049-2.117']\n"
     ]
    },
    {
     "name": "stderr",
     "output_type": "stream",
     "text": [
      "100%|██████████| 1000/1000 [00:12<00:00, 78.91it/s]\n"
     ]
    },
    {
     "name": "stdout",
     "output_type": "stream",
     "text": [
      "Best score -2.26036 - with weights 3 21 46 46 11\n",
      "Running for type 2JHC\n"
     ]
    },
    {
     "name": "stderr",
     "output_type": "stream",
     "text": [
      "  0%|          | 2/1000 [00:00<00:52, 18.84it/s]"
     ]
    },
    {
     "name": "stdout",
     "output_type": "stream",
     "text": [
      "Has model names ['M037-1.49', 'M039-1.452', 'M040-1.518', 'M041-1.449', 'M046-1.631', 'M047-1.75', 'M048-1.737']\n"
     ]
    },
    {
     "name": "stderr",
     "output_type": "stream",
     "text": [
      "100%|██████████| 1000/1000 [00:49<00:00, 20.08it/s]\n"
     ]
    },
    {
     "name": "stdout",
     "output_type": "stream",
     "text": [
      "Best score -1.77910 - with weights 24 21 16 31 1\n",
      "Running for type 3JHH\n"
     ]
    },
    {
     "name": "stderr",
     "output_type": "stream",
     "text": [
      "  0%|          | 4/1000 [00:00<00:30, 32.18it/s]"
     ]
    },
    {
     "name": "stdout",
     "output_type": "stream",
     "text": [
      "Has model names ['M037-1.873', 'M038-1.899', 'M039-1.872', 'M040-1.897', 'M042-1.881', 'M046-1.978', 'M047-2.1', 'M048-2.086', 'M049-2.098']\n"
     ]
    },
    {
     "name": "stderr",
     "output_type": "stream",
     "text": [
      "100%|██████████| 1000/1000 [00:31<00:00, 32.04it/s]\n"
     ]
    },
    {
     "name": "stdout",
     "output_type": "stream",
     "text": [
      "Best score -2.24877 - with weights 25 2 35 20 39\n",
      "Running for type 3JHC\n"
     ]
    },
    {
     "name": "stderr",
     "output_type": "stream",
     "text": [
      "  0%|          | 2/1000 [00:00<00:58, 17.14it/s]"
     ]
    },
    {
     "name": "stdout",
     "output_type": "stream",
     "text": [
      "Has model names ['M037-1.328', 'M039-1.32', 'M040-1.403', 'M042-1.403', 'M045-1.423', 'M046-1.507', 'M047-1.612']\n"
     ]
    },
    {
     "name": "stderr",
     "output_type": "stream",
     "text": [
      "100%|██████████| 1000/1000 [00:53<00:00, 18.80it/s]\n"
     ]
    },
    {
     "name": "stdout",
     "output_type": "stream",
     "text": [
      "Best score -1.62928 - with weights 38 39 36 43 28\n",
      "Running for type 3JHN\n"
     ]
    },
    {
     "name": "stderr",
     "output_type": "stream",
     "text": [
      "  1%|          | 8/1000 [00:00<00:13, 71.84it/s]"
     ]
    },
    {
     "name": "stdout",
     "output_type": "stream",
     "text": [
      "Has model names ['M037-2.14', 'M038-2.165', 'M039-2.152', 'M039-2.155', 'M040-2.156', 'M041-2.087', 'M046-2.25', 'M047-2.356', 'M048-2.321', 'M049-2.156']\n"
     ]
    },
    {
     "name": "stderr",
     "output_type": "stream",
     "text": [
      "100%|██████████| 1000/1000 [00:14<00:00, 69.00it/s]\n"
     ]
    },
    {
     "name": "stdout",
     "output_type": "stream",
     "text": [
      "Best score -2.37631 - with weights 21 2 7 10 8\n"
     ]
    }
   ],
   "source": [
    "types = ['1JHC', '2JHH', '1JHN', '2JHN', '2JHC','3JHH','3JHC', '3JHN']\n",
    "\n",
    "def get_sub_oof(t):\n",
    "    oof = []\n",
    "    sub = []\n",
    "    model_ids = []\n",
    "    for file in sorted(os.listdir(f'../type_results/{t}/')):\n",
    "        if 'sub' in file:\n",
    "            model_id = file[:4] + file.split('MAE_')[1].replace('L','')\n",
    "            model_ids.append(model_id)\n",
    "            df = pd.read_parquet(f'../type_results/{t}/{file}')\n",
    "            if len(sub) == 0:\n",
    "                sub = df.rename(columns={'scalar_coupling_constant': model_id})\n",
    "            else:\n",
    "                sub[model_id] = df['scalar_coupling_constant']\n",
    "        elif 'oof' in file:\n",
    "            model_id = file[:4] + file.split('MAE_')[1].replace('L','')\n",
    "            #print(model_id)\n",
    "            df = pd.read_parquet(f'../type_results/{t}/{file}')\n",
    "            if len(oof) == 0:\n",
    "                oof = df.rename(columns={'oof_preds': model_id})\n",
    "            else:\n",
    "                oof[model_id] = df['oof_preds']\n",
    "    return sub, oof, model_ids\n",
    "\n",
    "def get_best_weights(oof, l5):\n",
    "    lmae_best = 0\n",
    "    for x in tqdm(range(0, 1000)):\n",
    "        w1 = random.randint(0, 50)\n",
    "        w2 = random.randint(0, 50)\n",
    "        w3 = random.randint(0, 50)\n",
    "        w4 = random.randint(0, 50)\n",
    "        w5 = random.randint(1, 50)\n",
    "        blend = (\\\n",
    "            w1 * oof[l5[0]] + \\\n",
    "            w2 * oof[l5[1]] + \\\n",
    "            w3 * oof[l5[2]] + \\\n",
    "            w4 * oof[l5[3]] + \\\n",
    "            w5 * oof[l5[4]]) / (w1 + w2 + w3 + w4 + w5)\n",
    "        lmae = log_mean_absolute_error(oof['scalar_coupling_constant'],\n",
    "                            blend)\n",
    "        if lmae < lmae_best:\n",
    "            lmae_best = lmae\n",
    "            bw1 = w1\n",
    "            bw2 = w2\n",
    "            bw3 = w3\n",
    "            bw4 = w4\n",
    "            bw5 = w5\n",
    "    print(f'Best score {lmae:0.5f} - with weights {w1} {w2} {w3} {w4} {w5}')\n",
    "    return bw1, bw2, bw3, bw4, bw5 # Return the best weights\n",
    "\n",
    "def create_best_blends():\n",
    "    oofs = []\n",
    "    subs = []\n",
    "    for t in types:\n",
    "        print(f'Running for type {t}')\n",
    "        tsub, toof, tmodel_ids = get_sub_oof(t)\n",
    "        print(f'Has model names {tmodel_ids}')\n",
    "        l5 = tmodel_ids[-5:] # Last 5 models\n",
    "        bw1, bw2, bw3, bw4, bw5 = get_best_weights(toof, l5)\n",
    "        tot_weight = np.sum([bw1, bw2, bw3, bw4, bw5])\n",
    "        tsub['scalar_coupling_constant'] = (bw1 * tsub[l5[0]] + bw2 * tsub[l5[1]]\n",
    "                                           + bw3 * tsub[l5[2]] + bw4 * tsub[l5[3]]\n",
    "                                           + bw5 * tsub[l5[4]]) / tot_weight \n",
    "        toof['oof_blend'] = (bw1 * toof[l5[0]] + bw2 * toof[l5[1]]\n",
    "                                           + bw3 * toof[l5[2]] + bw4 * toof[l5[3]]\n",
    "                                           + bw5 * toof[l5[4]]) / tot_weight\n",
    "        tsub = tsub[['id','molecule_name','type','scalar_coupling_constant']] \n",
    "        toof = toof[['id','type','scalar_coupling_constant','oof_blend']]\n",
    "        subs.append(tsub)\n",
    "        oofs.append(toof)\n",
    "    final_oof = pd.concat(oofs).sort_values('id').reset_index(drop=True)\n",
    "    final_sub = pd.concat(subs).sort_values('id').reset_index(drop=True)\n",
    "    return final_oof, final_sub\n",
    "    \n",
    "final_oof, final_sub = create_best_blends()"
   ]
  },
  {
   "cell_type": "markdown",
   "metadata": {},
   "source": [
    "# Score"
   ]
  },
  {
   "cell_type": "code",
   "execution_count": 26,
   "metadata": {},
   "outputs": [
    {
     "name": "stdout",
     "output_type": "stream",
     "text": [
      "1JHC 0.39598\n",
      "1JHN 0.22932\n",
      "2JHC 0.15638\n",
      "2JHH 0.08843\n",
      "2JHN 0.10080\n",
      "3JHC 0.18470\n",
      "3JHH 0.10389\n",
      "3JHN 0.08475\n",
      "\n",
      "Group LMAE\n",
      "-1.92452\n"
     ]
    }
   ],
   "source": [
    "for i, d in final_oof.groupby('type'):\n",
    "    print(i, '{:0.5f}'.format(mean_absolute_error(d['scalar_coupling_constant'], d['oof_blend'])))\n",
    "glmae = group_mean_log_mae(final_oof['scalar_coupling_constant'], final_oof['oof_blend'], final_oof['type'])\n",
    "print('\\nGroup LMAE')\n",
    "print('{:0.5f}'.format(glmae))"
   ]
  },
  {
   "cell_type": "markdown",
   "metadata": {},
   "source": [
    "# Validate Sub"
   ]
  },
  {
   "cell_type": "code",
   "execution_count": 27,
   "metadata": {},
   "outputs": [
    {
     "data": {
      "text/html": [
       "<div>\n",
       "<style scoped>\n",
       "    .dataframe tbody tr th:only-of-type {\n",
       "        vertical-align: middle;\n",
       "    }\n",
       "\n",
       "    .dataframe tbody tr th {\n",
       "        vertical-align: top;\n",
       "    }\n",
       "\n",
       "    .dataframe thead th {\n",
       "        text-align: right;\n",
       "    }\n",
       "</style>\n",
       "<table border=\"1\" class=\"dataframe\">\n",
       "  <thead>\n",
       "    <tr style=\"text-align: right;\">\n",
       "      <th></th>\n",
       "      <th>scalar_coupling_constant</th>\n",
       "      <th>good_scc</th>\n",
       "    </tr>\n",
       "  </thead>\n",
       "  <tbody>\n",
       "    <tr>\n",
       "      <th>scalar_coupling_constant</th>\n",
       "      <td>1.000000</td>\n",
       "      <td>0.999997</td>\n",
       "    </tr>\n",
       "    <tr>\n",
       "      <th>good_scc</th>\n",
       "      <td>0.999997</td>\n",
       "      <td>1.000000</td>\n",
       "    </tr>\n",
       "  </tbody>\n",
       "</table>\n",
       "</div>"
      ],
      "text/plain": [
       "                          scalar_coupling_constant  good_scc\n",
       "scalar_coupling_constant                  1.000000  0.999997\n",
       "good_scc                                  0.999997  1.000000"
      ]
     },
     "execution_count": 27,
     "metadata": {},
     "output_type": "execute_result"
    }
   ],
   "source": [
    "sub_good = pd.read_csv('../submissions/BLEND014_sub_-1.85550CV.csv')\n",
    "final_sub['good_scc'] = sub_good['scalar_coupling_constant']\n",
    "final_sub[['scalar_coupling_constant','good_scc']].corr()"
   ]
  },
  {
   "cell_type": "code",
   "execution_count": 28,
   "metadata": {},
   "outputs": [
    {
     "data": {
      "application/javascript": [
       "IPython.notebook.kernel.execute(`notebookName = '${window.document.getElementById(\"notebook_name\").innerHTML}'`);\n"
      ],
      "text/plain": [
       "<IPython.core.display.Javascript object>"
      ]
     },
     "metadata": {},
     "output_type": "display_data"
    }
   ],
   "source": [
    "%%javascript\n",
    "IPython.notebook.kernel.execute(`notebookName = '${window.document.getElementById(\"notebook_name\").innerHTML}'`);"
   ]
  },
  {
   "cell_type": "markdown",
   "metadata": {},
   "source": [
    "# Create Submission and OOF Files"
   ]
  },
  {
   "cell_type": "code",
   "execution_count": 34,
   "metadata": {},
   "outputs": [],
   "source": [
    "import json\n",
    "import os.path\n",
    "import re\n",
    "import ipykernel\n",
    "import requests\n",
    "\n",
    "#try:  # Python 3\n",
    "#    from urllib.parse import urljoin\n",
    "#except ImportError:  # Python 2\n",
    "#    from urlparse import urljoin\n",
    "\n",
    "# Alternative that works for both Python 2 and 3:\n",
    "from requests.compat import urljoin\n",
    "\n",
    "try:  # Python 3 (see Edit2 below for why this may not work in Python 2)\n",
    "    from notebook.notebookapp import list_running_servers\n",
    "except ImportError:  # Python 2\n",
    "    import warnings\n",
    "    from IPython.utils.shimmodule import ShimWarning\n",
    "    with warnings.catch_warnings():\n",
    "        warnings.simplefilter(\"ignore\", category=ShimWarning)\n",
    "        from IPython.html.notebookapp import list_running_servers\n",
    "\n",
    "\n",
    "def get_notebook_name():\n",
    "    \"\"\"\n",
    "    Return the full path of the jupyter notebook.\n",
    "    \"\"\"\n",
    "    kernel_id = re.search('kernel-(.*).json',\n",
    "                          ipykernel.connect.get_connection_file()).group(1)\n",
    "    servers = list_running_servers()\n",
    "    for ss in servers:\n",
    "        response = requests.get(urljoin(ss['url'], 'api/sessions'),\n",
    "                                params={'token': ss.get('token', '')})\n",
    "        for nn in json.loads(response.text):\n",
    "            if nn['kernel']['id'] == kernel_id:\n",
    "                relative_path = nn['notebook']['path']\n",
    "                return os.path.join(ss['notebook_dir'], relative_path)"
   ]
  },
  {
   "cell_type": "code",
   "execution_count": 39,
   "metadata": {},
   "outputs": [
    {
     "name": "stdout",
     "output_type": "stream",
     "text": [
      "NAME TO SAVE BLEND018\n"
     ]
    }
   ],
   "source": [
    "BLEND_NUMBER = get_notebook_name().split('/')[-1].replace('.ipynb','').replace('-','')\n",
    "print(f'NAME TO SAVE {BLEND_NUMBER}')"
   ]
  },
  {
   "cell_type": "code",
   "execution_count": 41,
   "metadata": {},
   "outputs": [],
   "source": [
    "# Save the Results\n",
    "final_sub[['id','scalar_coupling_constant']].to_csv(f'../submissions/{BLEND_NUMBER}_sub_{glmae:0.5f}CV.csv', index=False)\n",
    "final_oof.to_csv(f'../oof/{BLEND_NUMBER}_oof_{glmae:0.5f}CV.csv', index=False)"
   ]
  }
 ],
 "metadata": {
  "kernelspec": {
   "display_name": "Python 3",
   "language": "python",
   "name": "python3"
  },
  "language_info": {
   "codemirror_mode": {
    "name": "ipython",
    "version": 3
   },
   "file_extension": ".py",
   "mimetype": "text/x-python",
   "name": "python",
   "nbconvert_exporter": "python",
   "pygments_lexer": "ipython3",
   "version": "3.6.8"
  }
 },
 "nbformat": 4,
 "nbformat_minor": 4
}
