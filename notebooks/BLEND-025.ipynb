{
 "cells": [
  {
   "cell_type": "markdown",
   "metadata": {},
   "source": [
    "# Blend v25\n",
    "5-member team\n",
    "- Blend best NN with best Blend\n",
    "- Weight per type"
   ]
  },
  {
   "cell_type": "code",
   "execution_count": 1,
   "metadata": {},
   "outputs": [],
   "source": [
    "import pandas as pd"
   ]
  },
  {
   "cell_type": "code",
   "execution_count": 2,
   "metadata": {},
   "outputs": [],
   "source": [
    "test = pd.read_csv('../input/test.csv')\n",
    "gnn = pd.read_csv('../submissions/GRAPH_NN_-1.967LB.csv')\n",
    "blend24 = pd.read_csv('../submissions/BLEND024_sub_-1.93787CV.csv')"
   ]
  },
  {
   "cell_type": "markdown",
   "metadata": {},
   "source": [
    "BLEND21\n",
    "```\n",
    "1JHC      0.38888      -0.94447\n",
    "1JHN      0.23374      -1.45353\n",
    "2JHC      0.15515      -1.86339\n",
    "2JHH      0.08927      -2.41613\n",
    "2JHN      0.09968      -2.30575\n",
    "3JHC      0.19953      -1.61178\n",
    "3JHN      0.08742      -2.43704\n",
    "3JHH      0.10607      -2.24364\n",
    "```\n",
    "Single graph-NN model (hold out set)\n",
    "----------------------------\n",
    "```\n",
    "1JHC   -1.165\n",
    "1JHN   -1.219\n",
    "2JHC   -1.888\n",
    "2JHN   -2.110\n",
    "3JHC   -1.592\n",
    "3JHN   -2.107\n",
    "3JHH   -1.948\n",
    "```"
   ]
  },
  {
   "cell_type": "code",
   "execution_count": 23,
   "metadata": {},
   "outputs": [],
   "source": [
    "ss = test.merge(gnn, on='id').rename(columns={'scalar_coupling_constant':'sccgnn'})"
   ]
  },
  {
   "cell_type": "code",
   "execution_count": 24,
   "metadata": {},
   "outputs": [],
   "source": [
    "ss = ss.merge(blend24, on='id').rename(columns={'scalar_coupling_constant':'sccb'})"
   ]
  },
  {
   "cell_type": "code",
   "execution_count": 25,
   "metadata": {},
   "outputs": [],
   "source": [
    "ss.loc[ss['type'] == '1JHC', 'scc_blend'] = (1 * ss.loc[ss['type'] == '1JHC']['sccgnn']\n",
    "                                + 5 * ss.loc[ss['type'] == '1JHC']['sccb']) / 6\n",
    "ss.loc[ss['type'] == '1JHN', 'scc_blend'] = (2 * ss.loc[ss['type'] == '1JHN']['sccgnn']\n",
    "                                + 3 * ss.loc[ss['type'] == '1JHN']['sccb']) / 5\n",
    "ss.loc[ss['type'] == '2JHC', 'scc_blend'] = (2 * ss.loc[ss['type'] == '2JHC']['sccgnn']\n",
    "                                + 2 * ss.loc[ss['type'] == '2JHC']['sccb']) / 4\n",
    "ss.loc[ss['type'] == '2JHH', 'scc_blend'] = (2 * ss.loc[ss['type'] == '2JHH']['sccgnn']\n",
    "                                + 2 * ss.loc[ss['type'] == '2JHH']['sccb']) / 4\n",
    "ss.loc[ss['type'] == '2JHN', 'scc_blend'] = (2 * ss.loc[ss['type'] == '2JHN']['sccgnn']\n",
    "                                + 3 * ss.loc[ss['type'] == '2JHN']['sccb']) / 5\n",
    "ss.loc[ss['type'] == '3JHC', 'scc_blend'] = (2 * ss.loc[ss['type'] == '3JHC']['sccgnn']\n",
    "                                + 2 * ss.loc[ss['type'] == '3JHC']['sccb']) / 4\n",
    "ss.loc[ss['type'] == '3JHN', 'scc_blend'] = (2 * ss.loc[ss['type'] == '3JHN']['sccgnn']\n",
    "                                + 3 * ss.loc[ss['type'] == '3JHN']['sccb']) / 5\n",
    "ss.loc[ss['type'] == '3JHH', 'scc_blend'] = (1 * ss.loc[ss['type'] == '3JHH']['sccgnn']\n",
    "                                + 4 * ss.loc[ss['type'] == '3JHH']['sccb']) / 5"
   ]
  },
  {
   "cell_type": "code",
   "execution_count": 26,
   "metadata": {},
   "outputs": [
    {
     "data": {
      "text/html": [
       "<div>\n",
       "<style scoped>\n",
       "    .dataframe tbody tr th:only-of-type {\n",
       "        vertical-align: middle;\n",
       "    }\n",
       "\n",
       "    .dataframe tbody tr th {\n",
       "        vertical-align: top;\n",
       "    }\n",
       "\n",
       "    .dataframe thead th {\n",
       "        text-align: right;\n",
       "    }\n",
       "</style>\n",
       "<table border=\"1\" class=\"dataframe\">\n",
       "  <thead>\n",
       "    <tr style=\"text-align: right;\">\n",
       "      <th></th>\n",
       "      <th>sccgnn</th>\n",
       "      <th>sccb</th>\n",
       "      <th>scc_blend</th>\n",
       "    </tr>\n",
       "  </thead>\n",
       "  <tbody>\n",
       "    <tr>\n",
       "      <th>sccgnn</th>\n",
       "      <td>1.000000</td>\n",
       "      <td>0.999955</td>\n",
       "      <td>0.999979</td>\n",
       "    </tr>\n",
       "    <tr>\n",
       "      <th>sccb</th>\n",
       "      <td>0.999955</td>\n",
       "      <td>1.000000</td>\n",
       "      <td>0.999994</td>\n",
       "    </tr>\n",
       "    <tr>\n",
       "      <th>scc_blend</th>\n",
       "      <td>0.999979</td>\n",
       "      <td>0.999994</td>\n",
       "      <td>1.000000</td>\n",
       "    </tr>\n",
       "  </tbody>\n",
       "</table>\n",
       "</div>"
      ],
      "text/plain": [
       "             sccgnn      sccb  scc_blend\n",
       "sccgnn     1.000000  0.999955   0.999979\n",
       "sccb       0.999955  1.000000   0.999994\n",
       "scc_blend  0.999979  0.999994   1.000000"
      ]
     },
     "execution_count": 26,
     "metadata": {},
     "output_type": "execute_result"
    }
   ],
   "source": [
    "ss[['sccgnn','sccb','scc_blend']].corr()"
   ]
  },
  {
   "cell_type": "code",
   "execution_count": 27,
   "metadata": {},
   "outputs": [],
   "source": [
    "BLEND_NUMBER = 'BLEND025'"
   ]
  },
  {
   "cell_type": "code",
   "execution_count": 28,
   "metadata": {},
   "outputs": [],
   "source": [
    "ss[['id','scc_blend']] \\\n",
    "    .rename(columns={'scc_blend':'scalar_coupling_constant'}) \\\n",
    "    .to_csv(f'../submissions/{BLEND_NUMBER}_sub-GNN_and_BLEND24.csv', index=False)"
   ]
  },
  {
   "cell_type": "markdown",
   "metadata": {},
   "source": [
    "# MAE"
   ]
  },
  {
   "cell_type": "code",
   "execution_count": 19,
   "metadata": {},
   "outputs": [],
   "source": [
    "from sklearn.metrics import mean_absolute_error"
   ]
  },
  {
   "cell_type": "code",
   "execution_count": 20,
   "metadata": {},
   "outputs": [
    {
     "data": {
      "text/plain": [
       "2.460182099827656"
      ]
     },
     "execution_count": 20,
     "metadata": {},
     "output_type": "execute_result"
    }
   ],
   "source": [
    "mean_absolute_error(ss['scc_blend'], ss['sccb'])"
   ]
  },
  {
   "cell_type": "code",
   "execution_count": 21,
   "metadata": {},
   "outputs": [
    {
     "data": {
      "text/plain": [
       "2.4835062303696525"
      ]
     },
     "execution_count": 21,
     "metadata": {},
     "output_type": "execute_result"
    }
   ],
   "source": [
    "mean_absolute_error(ss['sccgnn'], ss['scc_blend'])"
   ]
  },
  {
   "cell_type": "code",
   "execution_count": 22,
   "metadata": {},
   "outputs": [
    {
     "name": "stdout",
     "output_type": "stream",
     "text": [
      "1JHC - MAE DIFF 0.35231\n",
      "1JHN - MAE DIFF 0.26889\n",
      "2JHC - MAE DIFF 0.14654\n",
      "2JHH - MAE DIFF 0.10857\n",
      "2JHN - MAE DIFF 0.09452\n",
      "3JHC - MAE DIFF 0.19251\n",
      "3JHH - MAE DIFF 0.13186\n",
      "3JHN - MAE DIFF 0.08781\n"
     ]
    }
   ],
   "source": [
    "for i, d in ss.groupby('type'):\n",
    "    print('{} - MAE DIFF {:0.5f}'.format(i, mean_absolute_error(d['sccgnn'], d['sccb'])))"
   ]
  }
 ],
 "metadata": {
  "kernelspec": {
   "display_name": "Python 3",
   "language": "python",
   "name": "python3"
  },
  "language_info": {
   "codemirror_mode": {
    "name": "ipython",
    "version": 3
   },
   "file_extension": ".py",
   "mimetype": "text/x-python",
   "name": "python",
   "nbconvert_exporter": "python",
   "pygments_lexer": "ipython3",
   "version": "3.6.8"
  }
 },
 "nbformat": 4,
 "nbformat_minor": 4
}
