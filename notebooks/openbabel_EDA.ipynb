{
 "cells": [
  {
   "cell_type": "markdown",
   "metadata": {},
   "source": [
    "# Openbabel Features"
   ]
  },
  {
   "cell_type": "code",
   "execution_count": 2,
   "metadata": {},
   "outputs": [
    {
     "name": "stdout",
     "output_type": "stream",
     "text": [
      "Collecting package metadata: done\n",
      "Solving environment: done\n",
      "\n",
      "## Package Plan ##\n",
      "\n",
      "  environment location: /opt/conda\n",
      "\n",
      "  added / updated specs:\n",
      "    - openbabel\n",
      "\n",
      "\n",
      "The following packages will be downloaded:\n",
      "\n",
      "    package                    |            build\n",
      "    ---------------------------|-----------------\n",
      "    ca-certificates-2019.5.15  |                0         133 KB\n",
      "    certifi-2019.6.16          |           py36_0         154 KB\n",
      "    libgcc-7.2.0               |       h69d50b8_2         304 KB\n",
      "    openbabel-2.4.1            |           py36_5         5.1 MB  openbabel\n",
      "    openssl-1.0.2s             |       h7b6447c_0         3.1 MB\n",
      "    ------------------------------------------------------------\n",
      "                                           Total:         8.8 MB\n",
      "\n",
      "The following NEW packages will be INSTALLED:\n",
      "\n",
      "  libgcc             pkgs/main/linux-64::libgcc-7.2.0-h69d50b8_2\n",
      "  openbabel          openbabel/linux-64::openbabel-2.4.1-py36_5\n",
      "\n",
      "The following packages will be UPDATED:\n",
      "\n",
      "  ca-certificates                               2019.1.23-0 --> 2019.5.15-0\n",
      "  certifi                                   2019.3.9-py36_0 --> 2019.6.16-py36_0\n",
      "  openssl                                 1.0.2r-h7b6447c_0 --> 1.0.2s-h7b6447c_0\n",
      "\n",
      "\n",
      "\n",
      "Downloading and Extracting Packages\n",
      "libgcc-7.2.0         | 304 KB    | ##################################### | 100% \n",
      "openssl-1.0.2s       | 3.1 MB    | ##################################### | 100% \n",
      "openbabel-2.4.1      | 5.1 MB    | ##################################### | 100% \n",
      "ca-certificates-2019 | 133 KB    | ##################################### | 100% \n",
      "certifi-2019.6.16    | 154 KB    | ##################################### | 100% \n",
      "Preparing transaction: done\n",
      "Verifying transaction: done\n",
      "Executing transaction: done\n"
     ]
    }
   ],
   "source": [
    "!conda install -c openbabel openbabel -y"
   ]
  },
  {
   "cell_type": "code",
   "execution_count": 3,
   "metadata": {},
   "outputs": [
    {
     "name": "stdout",
     "output_type": "stream",
     "text": [
      "1 molecule converted\n",
      "cat: dsgdb9nsd_101611.report: No such file or directory\n"
     ]
    }
   ],
   "source": [
    "# report\n",
    "!obabel -ixyz -oreport ../input/structures/dsgdb9nsd_033805.xyz -O ./dsgdb9nsd_033805.report\n"
   ]
  },
  {
   "cell_type": "code",
   "execution_count": 5,
   "metadata": {},
   "outputs": [
    {
     "name": "stdout",
     "output_type": "stream",
     "text": [
      "cat: ./dsgdb9nsd_101611.report: No such file or directory\n"
     ]
    }
   ],
   "source": [
    "!cat ./dsgdb9nsd_101611.report"
   ]
  }
 ],
 "metadata": {
  "kernelspec": {
   "display_name": "Python 3",
   "language": "python",
   "name": "python3"
  },
  "language_info": {
   "codemirror_mode": {
    "name": "ipython",
    "version": 3
   },
   "file_extension": ".py",
   "mimetype": "text/x-python",
   "name": "python",
   "nbconvert_exporter": "python",
   "pygments_lexer": "ipython3",
   "version": "3.6.6"
  }
 },
 "nbformat": 4,
 "nbformat_minor": 2
}
