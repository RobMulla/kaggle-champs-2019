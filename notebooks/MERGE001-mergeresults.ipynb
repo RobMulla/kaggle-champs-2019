{
 "cells": [
  {
   "cell_type": "code",
   "execution_count": 1,
   "metadata": {},
   "outputs": [],
   "source": [
    "import pandas as pd"
   ]
  },
  {
   "cell_type": "code",
   "execution_count": 2,
   "metadata": {},
   "outputs": [],
   "source": [
    "sub = pd.read_csv('../submissions/M016_0618_0349_submission_lgb_5folds_0.7409CV_500000iter_0.2lr.csv')"
   ]
  },
  {
   "cell_type": "code",
   "execution_count": 3,
   "metadata": {},
   "outputs": [],
   "source": [
    "import os"
   ]
  },
  {
   "cell_type": "code",
   "execution_count": 6,
   "metadata": {},
   "outputs": [],
   "source": [
    "sub_list = [x for x in os.listdir('../temp/M017/') if 'submission' in x]"
   ]
  },
  {
   "cell_type": "code",
   "execution_count": 8,
   "metadata": {},
   "outputs": [
    {
     "data": {
      "text/plain": [
       "['temp1of8_M017_0621_0331_submission_lgb_3folds_500000iter_0.1lr.csv',\n",
       " 'temp1of8_M017_0621_2221_submission_lgb_3folds_500000iter_0.1lr_fold1.csv',\n",
       " 'temp1of8_M017_0621_2222_submission_lgb_3folds_500000iter_0.1lr_fold0.csv',\n",
       " 'temp1of8_M017_0621_2240_submission_lgb_3folds_500000iter_0.1lr_fold2.csv',\n",
       " 'temp2of8_M017_0621_0331_submission_lgb_3folds_500000iter_0.1lr.csv',\n",
       " 'temp2of8_M017_0621_2221_submission_lgb_3folds_500000iter_0.1lr_fold1.csv',\n",
       " 'temp2of8_M017_0621_2222_submission_lgb_3folds_500000iter_0.1lr_fold0.csv',\n",
       " 'temp2of8_M017_0621_2240_submission_lgb_3folds_500000iter_0.1lr_fold2.csv',\n",
       " 'temp3of8_M017_0621_0331_submission_lgb_3folds_500000iter_0.1lr.csv',\n",
       " 'temp3of8_M017_0621_2222_submission_lgb_3folds_500000iter_0.1lr_fold0.csv',\n",
       " 'temp4of8_M017_0621_0331_submission_lgb_3folds_500000iter_0.1lr.csv',\n",
       " 'temp4of8_M017_0621_2222_submission_lgb_3folds_500000iter_0.1lr_fold0.csv']"
      ]
     },
     "execution_count": 8,
     "metadata": {},
     "output_type": "execute_result"
    }
   ],
   "source": [
    "sub_list.sort()\n",
    "sub_list"
   ]
  },
  {
   "cell_type": "code",
   "execution_count": 9,
   "metadata": {},
   "outputs": [],
   "source": [
    "sub1_M017 = pd.read_csv('../temp/M017/temp1of8_M017_0621_0331_submission_lgb_3folds_500000iter_0.1lr.csv')"
   ]
  },
  {
   "cell_type": "code",
   "execution_count": 12,
   "metadata": {},
   "outputs": [
    {
     "data": {
      "text/html": [
       "<div>\n",
       "<style scoped>\n",
       "    .dataframe tbody tr th:only-of-type {\n",
       "        vertical-align: middle;\n",
       "    }\n",
       "\n",
       "    .dataframe tbody tr th {\n",
       "        vertical-align: top;\n",
       "    }\n",
       "\n",
       "    .dataframe thead th {\n",
       "        text-align: right;\n",
       "    }\n",
       "</style>\n",
       "<table border=\"1\" class=\"dataframe\">\n",
       "  <thead>\n",
       "    <tr style=\"text-align: right;\">\n",
       "      <th></th>\n",
       "      <th>id</th>\n",
       "      <th>scalar_coupling_constant</th>\n",
       "    </tr>\n",
       "  </thead>\n",
       "  <tbody>\n",
       "    <tr>\n",
       "      <th>0</th>\n",
       "      <td>4658147</td>\n",
       "      <td>0.000000</td>\n",
       "    </tr>\n",
       "    <tr>\n",
       "      <th>1</th>\n",
       "      <td>4658148</td>\n",
       "      <td>188.554852</td>\n",
       "    </tr>\n",
       "    <tr>\n",
       "      <th>2</th>\n",
       "      <td>4658149</td>\n",
       "      <td>0.000000</td>\n",
       "    </tr>\n",
       "    <tr>\n",
       "      <th>3</th>\n",
       "      <td>4658150</td>\n",
       "      <td>184.775834</td>\n",
       "    </tr>\n",
       "    <tr>\n",
       "      <th>4</th>\n",
       "      <td>4658151</td>\n",
       "      <td>0.000000</td>\n",
       "    </tr>\n",
       "  </tbody>\n",
       "</table>\n",
       "</div>"
      ],
      "text/plain": [
       "        id  scalar_coupling_constant\n",
       "0  4658147                  0.000000\n",
       "1  4658148                188.554852\n",
       "2  4658149                  0.000000\n",
       "3  4658150                184.775834\n",
       "4  4658151                  0.000000"
      ]
     },
     "execution_count": 12,
     "metadata": {},
     "output_type": "execute_result"
    }
   ],
   "source": [
    "sub1_M017.head()"
   ]
  },
  {
   "cell_type": "code",
   "execution_count": 14,
   "metadata": {},
   "outputs": [],
   "source": [
    "for subf in sub_list:\n",
    "    df = pd.read_csv(f'../temp/M017/{subf}')\n",
    "    sub[subf] = df['scalar_coupling_constant']"
   ]
  },
  {
   "cell_type": "code",
   "execution_count": 25,
   "metadata": {},
   "outputs": [],
   "source": [
    "ss = pd.read_csv('../input/sample_submission.csv')\n",
    "ss['scalar_coupling_constant'] = sub.drop(['id','scalar_coupling_constant'], axis=1).mean(axis=1)"
   ]
  },
  {
   "cell_type": "code",
   "execution_count": 33,
   "metadata": {},
   "outputs": [],
   "source": [
    "ss.to_csv('../submissions/M017_PART_0621_2222_submission_lgb_3folds_500000iter_0.1lr.csv', index=False)"
   ]
  },
  {
   "cell_type": "code",
   "execution_count": null,
   "metadata": {},
   "outputs": [],
   "source": []
  }
 ],
 "metadata": {
  "kernelspec": {
   "display_name": "Python 3",
   "language": "python",
   "name": "python3"
  },
  "language_info": {
   "codemirror_mode": {
    "name": "ipython",
    "version": 3
   },
   "file_extension": ".py",
   "mimetype": "text/x-python",
   "name": "python",
   "nbconvert_exporter": "python",
   "pygments_lexer": "ipython3",
   "version": "3.6.6"
  }
 },
 "nbformat": 4,
 "nbformat_minor": 2
}
