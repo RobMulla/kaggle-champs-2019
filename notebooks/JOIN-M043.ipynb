{
 "cells": [
  {
   "cell_type": "markdown",
   "metadata": {},
   "source": [
    "# Join and Score Model M043"
   ]
  },
  {
   "cell_type": "code",
   "execution_count": 44,
   "metadata": {},
   "outputs": [],
   "source": [
    "import pandas as pd\n",
    "import numpy as np\n",
    "import os\n",
    "from sklearn.metrics import mean_absolute_error\n",
    "def group_mean_log_mae(y_true, y_pred, groups, floor=1e-9):\n",
    "    maes = (y_true-y_pred).abs().groupby(groups).mean()\n",
    "    return np.log(maes.map(lambda x: max(x, floor))).mean()\n",
    "def each_group_score(oof):\n",
    "    for t, d in oof.groupby('type'):\n",
    "        type_mae = mean_absolute_error(d['scalar_coupling_constant'], d['oof_preds'])\n",
    "        print('{} - MAE {:0.4f} - LOG MAE {:0.4f}'.format(t,\n",
    "                                                          type_mae,\n",
    "                                                         np.log(type_mae)))\n",
    "    gmlm_score = group_mean_log_mae(oof['scalar_coupling_constant'],\n",
    "                                    oof['oof_preds'],\n",
    "                                    oof['type'])\n",
    "    print('ALL MAE {:0.4f}'.format(mean_absolute_error(oof['scalar_coupling_constant'],\n",
    "                                                      oof['oof_preds'])))\n",
    "    print('ALL GROUP LOG MAE {:0.4f}'.format(gmlm_score))"
   ]
  },
  {
   "cell_type": "code",
   "execution_count": 18,
   "metadata": {},
   "outputs": [],
   "source": [
    "MODEL_NO = 'M043'\n",
    "oof_type_file = [x for x in os.listdir(f'../type_results/{t}') if MODEL_NO in x and 'oof' in x][-1]\n",
    "sub_type_file = [x for x in os.listdir(f'../type_results/{t}') if MODEL_NO in x and 'sub' in x][-1]"
   ]
  },
  {
   "cell_type": "code",
   "execution_count": 30,
   "metadata": {},
   "outputs": [],
   "source": [
    "types = ['2JHN', '3JHN', '2JHC', '3JHC', '2JHH', '1JHN', '3JHH', '1JHC']\n",
    "oof = pd.DataFrame()\n",
    "sub = pd.DataFrame()\n",
    "for t in types:\n",
    "    oof_type_file = [x for x in os.listdir(f'../type_results/{t}') if MODEL_NO in x and 'oof' in x][-1]\n",
    "    sub_type_file = [x for x in os.listdir(f'../type_results/{t}') if MODEL_NO in x and 'sub' in x][-1]\n",
    "    oof_type = pd.read_parquet(f'../type_results/{t}/{oof_type_file}')\n",
    "    sub_type = pd.read_parquet(f'../type_results/{t}/{sub_type_file}')\n",
    "    sub_type = sub_type.loc[sub_type['type'] == t] # Filter to correct type\n",
    "    \n",
    "    sub = pd.concat([sub, sub_type])\n",
    "    oof = pd.concat([oof, oof_type])"
   ]
  },
  {
   "cell_type": "code",
   "execution_count": 36,
   "metadata": {},
   "outputs": [
    {
     "data": {
      "text/html": [
       "<div>\n",
       "<style scoped>\n",
       "    .dataframe tbody tr th:only-of-type {\n",
       "        vertical-align: middle;\n",
       "    }\n",
       "\n",
       "    .dataframe tbody tr th {\n",
       "        vertical-align: top;\n",
       "    }\n",
       "\n",
       "    .dataframe thead th {\n",
       "        text-align: right;\n",
       "    }\n",
       "</style>\n",
       "<table border=\"1\" class=\"dataframe\">\n",
       "  <thead>\n",
       "    <tr style=\"text-align: right;\">\n",
       "      <th></th>\n",
       "      <th>id</th>\n",
       "      <th>type</th>\n",
       "      <th>molecule_name</th>\n",
       "      <th>prediction</th>\n",
       "    </tr>\n",
       "  </thead>\n",
       "  <tbody>\n",
       "    <tr>\n",
       "      <th>0</th>\n",
       "      <td>4658147</td>\n",
       "      <td>2JHC</td>\n",
       "      <td>dsgdb9nsd_000004</td>\n",
       "      <td>15.570594</td>\n",
       "    </tr>\n",
       "    <tr>\n",
       "      <th>1</th>\n",
       "      <td>4658148</td>\n",
       "      <td>1JHC</td>\n",
       "      <td>dsgdb9nsd_000004</td>\n",
       "      <td>180.471621</td>\n",
       "    </tr>\n",
       "    <tr>\n",
       "      <th>2</th>\n",
       "      <td>4658149</td>\n",
       "      <td>3JHH</td>\n",
       "      <td>dsgdb9nsd_000004</td>\n",
       "      <td>6.703215</td>\n",
       "    </tr>\n",
       "    <tr>\n",
       "      <th>3</th>\n",
       "      <td>4658150</td>\n",
       "      <td>1JHC</td>\n",
       "      <td>dsgdb9nsd_000004</td>\n",
       "      <td>179.013627</td>\n",
       "    </tr>\n",
       "    <tr>\n",
       "      <th>4</th>\n",
       "      <td>4658151</td>\n",
       "      <td>2JHC</td>\n",
       "      <td>dsgdb9nsd_000004</td>\n",
       "      <td>15.137757</td>\n",
       "    </tr>\n",
       "  </tbody>\n",
       "</table>\n",
       "</div>"
      ],
      "text/plain": [
       "        id  type     molecule_name  prediction\n",
       "0  4658147  2JHC  dsgdb9nsd_000004   15.570594\n",
       "1  4658148  1JHC  dsgdb9nsd_000004  180.471621\n",
       "2  4658149  3JHH  dsgdb9nsd_000004    6.703215\n",
       "3  4658150  1JHC  dsgdb9nsd_000004  179.013627\n",
       "4  4658151  2JHC  dsgdb9nsd_000004   15.137757"
      ]
     },
     "execution_count": 36,
     "metadata": {},
     "output_type": "execute_result"
    }
   ],
   "source": [
    "sub.sort_values('id').head()"
   ]
  },
  {
   "cell_type": "code",
   "execution_count": 45,
   "metadata": {},
   "outputs": [
    {
     "name": "stdout",
     "output_type": "stream",
     "text": [
      "1JHC - MAE 0.5124 - LOG MAE -0.6686\n",
      "1JHN - MAE 0.3764 - LOG MAE -0.9771\n",
      "2JHC - MAE 0.2137 - LOG MAE -1.5432\n",
      "2JHH - MAE 0.1382 - LOG MAE -1.9791\n",
      "2JHN - MAE 0.1478 - LOG MAE -1.9119\n",
      "3JHC - MAE 0.2462 - LOG MAE -1.4016\n",
      "3JHH - MAE 0.1552 - LOG MAE -1.8630\n",
      "3JHN - MAE 0.1199 - LOG MAE -2.1209\n",
      "ALL MAE 0.2527\n",
      "ALL GROUP LOG MAE -1.5582\n"
     ]
    }
   ],
   "source": [
    "each_group_score(oof)"
   ]
  },
  {
   "cell_type": "code",
   "execution_count": 37,
   "metadata": {},
   "outputs": [
    {
     "data": {
      "text/html": [
       "<div>\n",
       "<style scoped>\n",
       "    .dataframe tbody tr th:only-of-type {\n",
       "        vertical-align: middle;\n",
       "    }\n",
       "\n",
       "    .dataframe tbody tr th {\n",
       "        vertical-align: top;\n",
       "    }\n",
       "\n",
       "    .dataframe thead th {\n",
       "        text-align: right;\n",
       "    }\n",
       "</style>\n",
       "<table border=\"1\" class=\"dataframe\">\n",
       "  <thead>\n",
       "    <tr style=\"text-align: right;\">\n",
       "      <th></th>\n",
       "      <th>id</th>\n",
       "      <th>type</th>\n",
       "      <th>scalar_coupling_constant</th>\n",
       "      <th>oof_preds</th>\n",
       "    </tr>\n",
       "  </thead>\n",
       "  <tbody>\n",
       "    <tr>\n",
       "      <th>0</th>\n",
       "      <td>0</td>\n",
       "      <td>1JHC</td>\n",
       "      <td>84.8076</td>\n",
       "      <td>87.367459</td>\n",
       "    </tr>\n",
       "    <tr>\n",
       "      <th>1</th>\n",
       "      <td>1</td>\n",
       "      <td>2JHH</td>\n",
       "      <td>-11.2570</td>\n",
       "      <td>-10.350698</td>\n",
       "    </tr>\n",
       "    <tr>\n",
       "      <th>2</th>\n",
       "      <td>2</td>\n",
       "      <td>2JHH</td>\n",
       "      <td>-11.2548</td>\n",
       "      <td>-10.631398</td>\n",
       "    </tr>\n",
       "    <tr>\n",
       "      <th>3</th>\n",
       "      <td>3</td>\n",
       "      <td>2JHH</td>\n",
       "      <td>-11.2543</td>\n",
       "      <td>-10.805525</td>\n",
       "    </tr>\n",
       "    <tr>\n",
       "      <th>4</th>\n",
       "      <td>4</td>\n",
       "      <td>1JHC</td>\n",
       "      <td>84.8074</td>\n",
       "      <td>87.665804</td>\n",
       "    </tr>\n",
       "  </tbody>\n",
       "</table>\n",
       "</div>"
      ],
      "text/plain": [
       "   id  type  scalar_coupling_constant  oof_preds\n",
       "0   0  1JHC                   84.8076  87.367459\n",
       "1   1  2JHH                  -11.2570 -10.350698\n",
       "2   2  2JHH                  -11.2548 -10.631398\n",
       "3   3  2JHH                  -11.2543 -10.805525\n",
       "4   4  1JHC                   84.8074  87.665804"
      ]
     },
     "execution_count": 37,
     "metadata": {},
     "output_type": "execute_result"
    }
   ],
   "source": [
    "oof.sort_values('id').head()"
   ]
  }
 ],
 "metadata": {
  "kernelspec": {
   "display_name": "Python 3",
   "language": "python",
   "name": "python3"
  },
  "language_info": {
   "codemirror_mode": {
    "name": "ipython",
    "version": 3
   },
   "file_extension": ".py",
   "mimetype": "text/x-python",
   "name": "python",
   "nbconvert_exporter": "python",
   "pygments_lexer": "ipython3",
   "version": "3.6.6"
  }
 },
 "nbformat": 4,
 "nbformat_minor": 2
}
