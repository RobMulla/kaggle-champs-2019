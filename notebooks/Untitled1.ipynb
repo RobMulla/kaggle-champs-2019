{
 "cells": [
  {
   "cell_type": "markdown",
   "metadata": {},
   "source": [
    "# FE019 - Reduce Size"
   ]
  },
  {
   "cell_type": "code",
   "execution_count": 1,
   "metadata": {},
   "outputs": [],
   "source": [
    "import pandas as pd"
   ]
  },
  {
   "cell_type": "code",
   "execution_count": 3,
   "metadata": {},
   "outputs": [],
   "source": [
    "gf = pd.read_csv('../fi/Good_Features_By_Type.csv')\n",
    "gf_2jhc = gf.loc[gf['2JHC'] == True]['feature'].tolist()\n",
    "gf_2jhc = [x for x in gf_2jhc if 'meta_fc' not in x]"
   ]
  },
  {
   "cell_type": "code",
   "execution_count": null,
   "metadata": {},
   "outputs": [],
   "source": [
    "tr_2jhc = pd.read_parquet('../data/FE019/FE019-train-2JHC.parquet')\n",
    "# 2JHC Good Features Plus New Features\n",
    "tr_2jhc[gf_2jhc + NEW_FEATURES + ['scalar_coupling_constant']].to_parquet('../data/FE019/FE019-train-2JHC-reduced.parquet')"
   ]
  },
  {
   "cell_type": "code",
   "execution_count": 4,
   "metadata": {},
   "outputs": [],
   "source": [
    "test_2jhc = pd.read_parquet('../data/FE019/FE019-test-2JHC.parquet')\n",
    "test_2jhc[gf_2jhc + NEW_FEATURES].to_parquet('../data/FE019/FE019-test-2JHC-reduced.parquet')\n",
    "test_2jhc = pd.read_parquet('../data/FE019/FE019-test-2JHC.parquet')"
   ]
  },
  {
   "cell_type": "markdown",
   "metadata": {},
   "source": [
    "## 1JHC"
   ]
  },
  {
   "cell_type": "code",
   "execution_count": 3,
   "metadata": {},
   "outputs": [],
   "source": [
    "gf = pd.read_csv('../fi/Good_Features_By_Type.csv')\n",
    "gf_1jhc = gf.loc[gf['1JHC'] == True]['feature'].tolist()\n",
    "gf_1jhc = [x for x in gf_1jhc if 'meta_fc' not in x]"
   ]
  },
  {
   "cell_type": "code",
   "execution_count": 4,
   "metadata": {},
   "outputs": [],
   "source": [
    "# 1JHC Good Features Plus New Features\n",
    "tr_1jhc = pd.read_parquet('../data/FE019/FE019-train-1JHC.parquet')\n",
    "tr_1jhc[gf_1jhc + NEW_FEATURES + ['scalar_coupling_constant']].to_parquet('../data/FE019/FE019-train-1JHC-reduced.parquet')"
   ]
  },
  {
   "cell_type": "code",
   "execution_count": 4,
   "metadata": {},
   "outputs": [],
   "source": [
    "test_1jhc = pd.read_parquet('../data/FE019/FE019-test-1JHC.parquet')\n",
    "test_1jhc[gf_1jhc + NEW_FEATURES].to_parquet('../data/FE019/FE019-test-1JHC-reduced.parquet')"
   ]
  },
  {
   "cell_type": "code",
   "execution_count": 2,
   "metadata": {},
   "outputs": [],
   "source": [
    "NEW_FEATURES = ['dist_C_0_x',\n",
    "                 'dist_C_1_x',\n",
    "                 'dist_C_2_x',\n",
    "                 'dist_C_3_x',\n",
    "                 'dist_C_4_x',\n",
    "                 'dist_F_0_x',\n",
    "                 'dist_F_1_x',\n",
    "                 'dist_F_2_x',\n",
    "                 'dist_F_3_x',\n",
    "                 'dist_F_4_x',\n",
    "                 'dist_H_0_x',\n",
    "                 'dist_H_1_x',\n",
    "                 'dist_H_2_x',\n",
    "                 'dist_H_3_x',\n",
    "                 'dist_H_4_x',\n",
    "                 'dist_N_0_x',\n",
    "                 'dist_N_1_x',\n",
    "                 'dist_N_2_x',\n",
    "                 'dist_N_3_x',\n",
    "                 'dist_N_4_x',\n",
    "                 'dist_O_0_x',\n",
    "                 'dist_O_1_x',\n",
    "                 'dist_O_2_x',\n",
    "                 'dist_O_3_x',\n",
    "                 'dist_O_4_x',\n",
    "                 'dist_C_0_y',\n",
    "                 'dist_C_1_y',\n",
    "                 'dist_C_2_y',\n",
    "                 'dist_C_3_y',\n",
    "                 'dist_C_4_y',\n",
    "                 'dist_F_0_y',\n",
    "                 'dist_F_1_y',\n",
    "                 'dist_F_2_y',\n",
    "                 'dist_F_3_y',\n",
    "                 'dist_F_4_y',\n",
    "                 'dist_H_0_y',\n",
    "                 'dist_H_1_y',\n",
    "                 'dist_H_2_y',\n",
    "                 'dist_H_3_y',\n",
    "                 'dist_H_4_y',\n",
    "                 'dist_N_0_y',\n",
    "                 'dist_N_1_y',\n",
    "                 'dist_N_2_y',\n",
    "                 'dist_N_3_y',\n",
    "                 'dist_N_4_y',\n",
    "                 'dist_O_0_y',\n",
    "                 'dist_O_1_y',\n",
    "                 'dist_O_2_y',\n",
    "                 'dist_O_3_y',\n",
    "                 'dist_O_4_y',\n",
    "                 'dist',\n",
    "                 'dist_inv2',\n",
    "                 'distance_closest_0',\n",
    "                 'distance_closest_1',\n",
    "                 'distance_farthest_0',\n",
    "                 'distance_farthest_1',\n",
    "                 'molecule_atom_index_0_dist_mean',\n",
    "                 'molecule_atom_index_0_dist_mean_diff',\n",
    "                 'molecule_atom_index_0_dist_min',\n",
    "                 'molecule_atom_index_0_dist_min_diff',\n",
    "                 'molecule_atom_index_0_dist_std',\n",
    "                 'molecule_atom_index_1_dist_mean',\n",
    "                 'molecule_atom_index_1_dist_mean_diff',\n",
    "                 'molecule_atom_index_1_dist_min',\n",
    "                 'molecule_atom_index_1_dist_min_diff',\n",
    "                 'molecule_atom_index_1_dist_std',\n",
    "                 'molecule_type_dist_mean',\n",
    "                 'molecule_type_dist_mean_diff',\n",
    "                 'rc_A',\n",
    "                 'rc_B',\n",
    "                 'rc_C',\n",
    "                 'mu',\n",
    "                 'alpha',\n",
    "                 'homo',\n",
    "                 'lumo',\n",
    "                 'gap',\n",
    "                 'zpve',\n",
    "                 'Cv',\n",
    "                 'freqs_min',\n",
    "                 'freqs_max',\n",
    "                 'freqs_mean',\n",
    "                 'mulliken_min',\n",
    "                 'mulliken_max',\n",
    "                 'mulliken_atom_0',\n",
    "                 'mulliken_atom_1']"
   ]
  },
  {
   "cell_type": "code",
   "execution_count": null,
   "metadata": {},
   "outputs": [],
   "source": []
  }
 ],
 "metadata": {
  "kernelspec": {
   "display_name": "Python 3",
   "language": "python",
   "name": "python3"
  },
  "language_info": {
   "codemirror_mode": {
    "name": "ipython",
    "version": 3
   },
   "file_extension": ".py",
   "mimetype": "text/x-python",
   "name": "python",
   "nbconvert_exporter": "python",
   "pygments_lexer": "ipython3",
   "version": "3.6.8"
  }
 },
 "nbformat": 4,
 "nbformat_minor": 4
}
