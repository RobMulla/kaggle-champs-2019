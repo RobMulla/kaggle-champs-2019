{
 "cells": [
  {
   "cell_type": "markdown",
   "metadata": {},
   "source": [
    "# Use RDKit to Make More Features"
   ]
  },
  {
   "cell_type": "code",
   "execution_count": 1,
   "metadata": {},
   "outputs": [],
   "source": [
    "%%bash -e\n",
    "if ! [[ -f ./xyz2mol.py ]]; then\n",
    "  wget https://raw.githubusercontent.com/jensengroup/xyz2mol/master/xyz2mol.py\n",
    "fi"
   ]
  },
  {
   "cell_type": "code",
   "execution_count": 2,
   "metadata": {},
   "outputs": [
    {
     "data": {
      "text/plain": [
       "30"
      ]
     },
     "execution_count": 2,
     "metadata": {},
     "output_type": "execute_result"
    }
   ],
   "source": [
    "# ideas/code from https://www.kaggle.com/sunhwan/using-rdkit-for-atomic-feature-and-visualization\n",
    "import pandas as pd\n",
    "import numpy as np\n",
    "from pathlib import Path\n",
    "import sklearn\n",
    "from sklearn import preprocessing\n",
    "import gc\n",
    "from multiprocessing import Pool\n",
    "from tqdm import tqdm\n",
    "from glob import glob\n",
    "\n",
    "from rdkit import Chem\n",
    "from rdkit.Chem import AllChem\n",
    "from rdkit.Chem.Draw import IPythonConsole #Needed to show molecules\n",
    "from rdkit.Chem import Draw\n",
    "from rdkit.Chem.Draw.MolDrawing import MolDrawing, DrawingOptions #Only needed if modifying defaults\n",
    "DrawingOptions.bondLineWidth=1.8\n",
    "from rdkit.Chem.rdmolops import SanitizeFlags\n",
    "\n",
    "# https://github.com/jensengroup/xyz2mol\n",
    "from xyz2mol import xyz2mol, xyz2AC, AC2mol, read_xyz_file\n",
    "import pickle\n",
    "\n",
    "gc.collect()"
   ]
  },
  {
   "cell_type": "code",
   "execution_count": 3,
   "metadata": {},
   "outputs": [],
   "source": [
    "PATH = Path('../input')\n",
    "\n",
    "# again, only using 5% of data for the committed kernel to work...\n",
    "train = pd.read_csv(PATH/'train.csv')# [::20]\n",
    "test = pd.read_csv(PATH/'test.csv')# [::20]"
   ]
  },
  {
   "cell_type": "code",
   "execution_count": 4,
   "metadata": {},
   "outputs": [],
   "source": [
    "train['atom1'] = train['type'].map(lambda x: str(x)[2])\n",
    "train['atom2'] = train['type'].map(lambda x: str(x)[3])\n",
    "test['atom1'] = test['type'].map(lambda x: str(x)[2])\n",
    "test['atom2'] = test['type'].map(lambda x: str(x)[3])"
   ]
  },
  {
   "cell_type": "code",
   "execution_count": 5,
   "metadata": {},
   "outputs": [],
   "source": [
    "lbl = preprocessing.LabelEncoder()\n",
    "for i in range(4):\n",
    "    train['type'+str(i)] = lbl.fit_transform(train['type'].map(lambda x: str(x)[i]))\n",
    "    test['type'+str(i)] = lbl.transform(test['type'].map(lambda x: str(x)[i]))"
   ]
  },
  {
   "cell_type": "code",
   "execution_count": 6,
   "metadata": {},
   "outputs": [],
   "source": [
    "structures = pd.read_csv(PATH/'structures.csv').rename(columns={'atom_index':'atom_index_0', 'x':'x0', 'y':'y0', 'z':'z0', 'atom':'atom1'})\n",
    "train = pd.merge(train, structures, how='left', on=['molecule_name', 'atom_index_0', 'atom1'])\n",
    "test = pd.merge(test, structures, how='left', on=['molecule_name', 'atom_index_0', 'atom1'])\n",
    "del structures"
   ]
  },
  {
   "cell_type": "code",
   "execution_count": 7,
   "metadata": {},
   "outputs": [],
   "source": [
    "structures = pd.read_csv(PATH/'structures.csv').rename(columns={'atom_index':'atom_index_1', 'x':'x1', 'y':'y1', 'z':'z1', 'atom':'atom2'})\n",
    "train = pd.merge(train, structures, how='left', on=['molecule_name', 'atom_index_1', 'atom2'])\n",
    "test = pd.merge(test, structures, how='left', on=['molecule_name', 'atom_index_1', 'atom2'])\n",
    "del structures"
   ]
  },
  {
   "cell_type": "code",
   "execution_count": 8,
   "metadata": {},
   "outputs": [],
   "source": [
    "def feature_atom(atom):\n",
    "    prop = {}\n",
    "    nb = [a.GetSymbol() for a in atom.GetNeighbors()] # neighbor atom type symbols\n",
    "    nb_h = sum([_ == 'H' for _ in nb]) # number of hydrogen as neighbor\n",
    "    nb_o = sum([_ == 'O' for _ in nb]) # number of oxygen as neighbor\n",
    "    nb_c = sum([_ == 'C' for _ in nb]) # number of carbon as neighbor\n",
    "    nb_n = sum([_ == 'N' for _ in nb]) # number of nitrogen as neighbor\n",
    "    nb_na = len(nb) - nb_h - nb_o - nb_n - nb_c\n",
    "    prop['degree'] = atom.GetDegree()\n",
    "    prop['hybridization'] = int(atom.GetHybridization())\n",
    "    prop['inring'] = int(atom.IsInRing()) # is the atom in a ring?\n",
    "    prop['inring3'] = int(atom.IsInRingSize(3)) # is the atom in a ring size of 3?\n",
    "    prop['inring4'] = int(atom.IsInRingSize(4)) # is the atom in a ring size of 4?\n",
    "    prop['inring5'] = int(atom.IsInRingSize(5)) # ...\n",
    "    prop['inring6'] = int(atom.IsInRingSize(6))\n",
    "    prop['inring7'] = int(atom.IsInRingSize(7))\n",
    "    prop['inring8'] = int(atom.IsInRingSize(8))\n",
    "    prop['nb_h'] = nb_h\n",
    "    prop['nb_o'] = nb_o\n",
    "    prop['nb_c'] = nb_c\n",
    "    prop['nb_n'] = nb_n\n",
    "    prop['nb_na'] = nb_na\n",
    "    return prop"
   ]
  },
  {
   "cell_type": "code",
   "execution_count": 9,
   "metadata": {},
   "outputs": [],
   "source": [
    "def _features(args):\n",
    "    idx, row = args\n",
    "    molecule_name = row.molecule_name\n",
    "    atom_index_0 = int(row.atom_index_0)\n",
    "    atom_index_1 = int(row.atom_index_1)\n",
    "    \n",
    "    prop = {'molecule_name': molecule_name,\n",
    "            'atom_index_0': atom_index_0,\n",
    "            'atom_index_1': atom_index_1}\n",
    "\n",
    "    # atom_0 is always hydrogen\n",
    "    m = MolFromXYZ(PATH/f'structures/{molecule_name}.xyz') # less memory intensive in multiprocessing.Pool\n",
    "    a0 = m.GetAtomWithIdx(atom_index_0)\n",
    "\n",
    "    a1 = m.GetAtomWithIdx(atom_index_1)\n",
    "    a1_prop = feature_atom(a1)\n",
    "    prop.update({'a1_'+k: a1_prop[k] for k in a1_prop.keys()})\n",
    "\n",
    "    # skipping below for time constraint\n",
    "    # neighbor of atom_0\n",
    "    try:\n",
    "        a0_nb_idx = [a.GetIdx() for a in a0.GetNeighbors() if a.GetIdx() != a0].pop()\n",
    "    except:\n",
    "        if molecule_name in nblist and atom_index_0 in nblist[molecule_name]:\n",
    "            a0_nb_idx = nblist[molecule_name][atom_index_0]\n",
    "        else:\n",
    "            print(molecule_name)\n",
    "            print(row)\n",
    "\n",
    "    a0_nb = m.GetAtomWithIdx(a0_nb_idx)\n",
    "    a0_nb_prop = feature_atom(a0_nb)\n",
    "    for k in a0_nb_prop.keys():\n",
    "        prop['a0_nb_'+k] = a0_nb_prop[k]\n",
    "        \n",
    "    c = m.GetConformer()\n",
    "    #prop['dist_a0_a0_nb'] = np.linalg.norm(c.GetAtomPosition(atom_index_0) - c.GetAtomPosition(a0_nb_idx))\n",
    "    prop['x_a0_nb'] = c.GetAtomPosition(a0_nb_idx)[0]\n",
    "    prop['y_a0_nb'] = c.GetAtomPosition(a0_nb_idx)[1]\n",
    "    prop['z_a0_nb'] = c.GetAtomPosition(a0_nb_idx)[2]\n",
    "\n",
    "    # neighbor of atom_1\n",
    "    try:\n",
    "        a1_nb_idx = [a.GetIdx() for a in a1.GetNeighbors() if a.GetIdx() != a1].pop()\n",
    "    except:\n",
    "        if molecule_name in nblist and atom_index_1 in nblist[molecule_name]:\n",
    "            a1_nb_idx = nblist[molecule_name][atom_index_1]\n",
    "        else:\n",
    "            print(molecule_name)\n",
    "            print(row)\n",
    "    a1_nb = m.GetAtomWithIdx(a1_nb_idx)\n",
    "    a1_nb_prop = feature_atom(a1_nb)\n",
    "    for k in a1_nb_prop.keys():\n",
    "        prop['a1_nb_'+k] = a1_nb_prop[k]\n",
    "    prop['x_a1_nb'] = c.GetAtomPosition(a1_nb_idx)[0]\n",
    "    prop['y_a1_nb'] = c.GetAtomPosition(a1_nb_idx)[1]\n",
    "    prop['z_a1_nb'] = c.GetAtomPosition(a1_nb_idx)[2]\n",
    "    #prop['dist_a1_a1_nb'] = np.linalg.norm(c.GetAtomPosition(a1.GetIdx()) - c.GetAtomPosition(a1_nb.GetIdx()))\n",
    "    #prop['dist_a0_a1_nb'] = np.linalg.norm(c.GetAtomPosition(a0.GetIdx()) - c.GetAtomPosition(a1_nb.GetIdx()))\n",
    "    #prop['dist_a1_a0_nb'] = np.linalg.norm(c.GetAtomPosition(a1.GetIdx()) - c.GetAtomPosition(a0_nb.GetIdx()))\n",
    "    return prop\n",
    "\n",
    "def features(df):\n",
    "    prop = []\n",
    "    n_cpu = 4\n",
    "    with Pool(n_cpu) as p:\n",
    "        n = len(df)\n",
    "        res = _features((0, df.iloc[0]))\n",
    "        keys = res.keys()\n",
    "        _df = df[['molecule_name', 'atom_index_0', 'atom_index_1']]\n",
    "        with tqdm(total=n) as pbar:\n",
    "            for res in p.imap_unordered(_features, _df.iterrows()):\n",
    "                # this is faster than using dict\n",
    "                prop.append([res[_] for _ in keys])\n",
    "                pbar.update()\n",
    "        del _df\n",
    "    \n",
    "    prop = pd.DataFrame.from_records(prop, columns=keys)\n",
    "    df = pd.merge(df, prop, how='left', on=['molecule_name', 'atom_index_0', 'atom_index_1'])\n",
    "    return df"
   ]
  },
  {
   "cell_type": "code",
   "execution_count": 10,
   "metadata": {},
   "outputs": [],
   "source": [
    "CACHEDIR = Path('./')\n",
    "\n",
    "def chiral_stereo_check(mol):\n",
    "    # avoid sanitization error e.g., dsgdb9nsd_037900.xyz\n",
    "    Chem.SanitizeMol(mol, SanitizeFlags.SANITIZE_ALL - SanitizeFlags.SANITIZE_PROPERTIES)\n",
    "    Chem.DetectBondStereochemistry(mol,-1)\n",
    "    # ignore stereochemistry for now\n",
    "    #Chem.AssignStereochemistry(mol, flagPossibleStereoCenters=True, force=True)\n",
    "    #Chem.AssignAtomChiralTagsFromStructure(mol,-1)\n",
    "    return mol\n",
    "\n",
    "def xyz2mol(atomicNumList,charge,xyz_coordinates,charged_fragments,quick):\n",
    "    AC,mol = xyz2AC(atomicNumList,xyz_coordinates)\n",
    "    new_mol = AC2mol(mol,AC,atomicNumList,charge,charged_fragments,quick)\n",
    "    new_mol = chiral_stereo_check(new_mol)\n",
    "    return new_mol\n",
    "\n",
    "def MolFromXYZ(filename):\n",
    "    charged_fragments = True\n",
    "    quick = True\n",
    "    cache_filename = CACHEDIR/f'{filename.stem}.pkl'\n",
    "    if cache_filename.exists():\n",
    "        return pickle.load(open(cache_filename, 'rb'))\n",
    "    else:\n",
    "        try:\n",
    "            atomicNumList, charge, xyz_coordinates = read_xyz_file(filename)\n",
    "            mol = xyz2mol(atomicNumList, charge, xyz_coordinates, charged_fragments, quick)\n",
    "            # commenting this out for kernel to work.\n",
    "            # for some reason kernel runs okay interactively, but fails when it is committed.\n",
    "            #pickle.dump(mol, open(cache_filename, 'wb'))\n",
    "        except:\n",
    "            print(filename)\n",
    "    return mol"
   ]
  },
  {
   "cell_type": "code",
   "execution_count": null,
   "metadata": {},
   "outputs": [
    {
     "name": "stderr",
     "output_type": "stream",
     "text": [
      "  3%|▎         | 150912/4658147 [01:24<45:02, 1667.82it/s]  "
     ]
    }
   ],
   "source": [
    "train = features(train)\n",
    "test = features(test)"
   ]
  },
  {
   "cell_type": "code",
   "execution_count": null,
   "metadata": {},
   "outputs": [],
   "source": [
    "train.head()"
   ]
  },
  {
   "cell_type": "code",
   "execution_count": null,
   "metadata": {},
   "outputs": [],
   "source": []
  }
 ],
 "metadata": {
  "kernelspec": {
   "display_name": "Python 3",
   "language": "python",
   "name": "python3"
  },
  "language_info": {
   "codemirror_mode": {
    "name": "ipython",
    "version": 3
   },
   "file_extension": ".py",
   "mimetype": "text/x-python",
   "name": "python",
   "nbconvert_exporter": "python",
   "pygments_lexer": "ipython3",
   "version": "3.6.8"
  }
 },
 "nbformat": 4,
 "nbformat_minor": 4
}
