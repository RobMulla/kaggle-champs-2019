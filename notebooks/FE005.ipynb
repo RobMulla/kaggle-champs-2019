{
 "cells": [
  {
   "cell_type": "markdown",
   "metadata": {},
   "source": [
    "# Join train"
   ]
  },
  {
   "cell_type": "code",
   "execution_count": 8,
   "metadata": {},
   "outputs": [],
   "source": [
    "import pandas as pd\n",
    "import numpy as np"
   ]
  },
  {
   "cell_type": "code",
   "execution_count": 13,
   "metadata": {},
   "outputs": [],
   "source": [
    "train001 = pd.read_csv('../data/FE001-train_features.csv')\n",
    "train004 = pd.read_csv('../data/FE004-train.csv')"
   ]
  },
  {
   "cell_type": "code",
   "execution_count": null,
   "metadata": {},
   "outputs": [],
   "source": [
    "train_merged = pd.merge(train001[['id', 'molecule_name', 'atom_index_0', 'atom_index_1',\n",
    "       'type', 'scalar_coupling_constant', 'atom_0', 'x_0', 'y_0', 'z_0',\n",
    "       'atom_1', 'x_1', 'y_1', 'z_1', 'dist', 'dist_x', 'dist_y', 'dist_z',\n",
    "       'type_0', 'molecule_couples', 'molecule_dist_mean', 'molecule_dist_min',\n",
    "       'molecule_dist_max', 'atom_0_couples_count', 'atom_1_couples_count',\n",
    "       'molecule_atom_index_0_x_1_std', 'molecule_atom_index_0_y_1_mean',\n",
    "       'molecule_atom_index_0_y_1_mean_diff',\n",
    "       'molecule_atom_index_0_y_1_mean_div', 'molecule_atom_index_0_y_1_max',\n",
    "       'molecule_atom_index_0_y_1_max_diff', 'molecule_atom_index_0_y_1_std',\n",
    "       'molecule_atom_index_0_z_1_std', 'molecule_atom_index_0_dist_mean',\n",
    "       'molecule_atom_index_0_dist_mean_diff',\n",
    "       'molecule_atom_index_0_dist_mean_div', 'molecule_atom_index_0_dist_max',\n",
    "       'molecule_atom_index_0_dist_max_diff',\n",
    "       'molecule_atom_index_0_dist_max_div', 'molecule_atom_index_0_dist_min',\n",
    "       'molecule_atom_index_0_dist_min_diff',\n",
    "       'molecule_atom_index_0_dist_min_div', 'molecule_atom_index_0_dist_std',\n",
    "       'molecule_atom_index_0_dist_std_diff',\n",
    "       'molecule_atom_index_0_dist_std_div', 'molecule_atom_index_1_dist_mean',\n",
    "       'molecule_atom_index_1_dist_mean_diff',\n",
    "       'molecule_atom_index_1_dist_mean_div', 'molecule_atom_index_1_dist_max',\n",
    "       'molecule_atom_index_1_dist_max_diff',\n",
    "       'molecule_atom_index_1_dist_max_div', 'molecule_atom_index_1_dist_min',\n",
    "       'molecule_atom_index_1_dist_min_diff',\n",
    "       'molecule_atom_index_1_dist_min_div', 'molecule_atom_index_1_dist_std',\n",
    "       'molecule_atom_index_1_dist_std_diff',\n",
    "       'molecule_atom_index_1_dist_std_div', 'molecule_atom_1_dist_mean',\n",
    "       'molecule_atom_1_dist_min', 'molecule_atom_1_dist_min_diff',\n",
    "       'molecule_atom_1_dist_min_div', 'molecule_atom_1_dist_std',\n",
    "       'molecule_atom_1_dist_std_diff', 'molecule_type_0_dist_std',\n",
    "       'molecule_type_0_dist_std_diff', 'molecule_type_dist_mean',\n",
    "       'molecule_type_dist_mean_diff', 'molecule_type_dist_mean_div',\n",
    "       'molecule_type_dist_max', 'molecule_type_dist_min',\n",
    "       'molecule_type_dist_std', 'molecule_type_dist_std_diff']],\n",
    "         train004[['molecule_name', 'atom_index_0', 'atom_index_1', 'type',\n",
    "       'scalar_coupling_constant', 'atom_0', 'x_0', 'y_0', 'z_0', 'atom_1',\n",
    "       'x_1', 'y_1', 'z_1', 'C', 'F', 'H', 'N', 'O', 'bonds', 'dist',\n",
    "       'abs_dist', 'dist_xy', 'abs_dist_xy', 'dist_xz', 'abs_dist_xz',\n",
    "       'dist_yz', 'abs_dist_yz', 'dist_to_type_mean', 'dist_to_type_std',\n",
    "       'dist_to_type_mean_xy', 'dist_to_type_mean_xz', 'dist_to_type_mean_yz',\n",
    "       'molecule_couples', 'molecule_dist_mean', 'molecule_dist_min',\n",
    "       'molecule_dist_max', 'atom_0_couples_count', 'atom_1_couples_count',\n",
    "       'molecule_atom_index_0_x_1_std', 'molecule_atom_index_0_y_1_mean',\n",
    "       'molecule_atom_index_0_y_1_mean_diff',\n",
    "       'molecule_atom_index_0_y_1_mean_div', 'molecule_atom_index_0_y_1_max',\n",
    "       'molecule_atom_index_0_y_1_max_diff', 'molecule_atom_index_0_y_1_std',\n",
    "       'molecule_atom_index_0_z_1_std', 'molecule_atom_index_0_dist_mean',\n",
    "       'molecule_atom_index_0_dist_mean_diff',\n",
    "       'molecule_atom_index_0_dist_mean_div', 'molecule_atom_index_0_dist_max',\n",
    "       'molecule_atom_index_0_dist_max_diff',\n",
    "       'molecule_atom_index_0_dist_max_div', 'molecule_atom_index_0_dist_min',\n",
    "       'molecule_atom_index_0_dist_min_diff',\n",
    "       'molecule_atom_index_0_dist_min_div', 'molecule_atom_index_0_dist_std',\n",
    "       'molecule_atom_index_0_dist_std_diff',\n",
    "       'molecule_atom_index_0_dist_std_div', 'molecule_atom_index_1_dist_mean',\n",
    "       'molecule_atom_index_1_dist_mean_diff',\n",
    "       'molecule_atom_index_1_dist_mean_div', 'molecule_atom_index_1_dist_max',\n",
    "       'molecule_atom_index_1_dist_max_diff',\n",
    "       'molecule_atom_index_1_dist_max_div', 'molecule_atom_index_1_dist_min',\n",
    "       'molecule_atom_index_1_dist_min_diff',\n",
    "       'molecule_atom_index_1_dist_min_div', 'molecule_atom_index_1_dist_std',\n",
    "       'molecule_atom_index_1_dist_std_diff',\n",
    "       'molecule_atom_index_1_dist_std_div', 'molecule_atom_1_dist_mean',\n",
    "       'molecule_atom_1_dist_min', 'molecule_atom_1_dist_min_diff',\n",
    "       'molecule_atom_1_dist_min_div', 'molecule_atom_1_dist_std',\n",
    "       'molecule_atom_1_dist_std_diff', 'molecule_bonds_dist_std',\n",
    "       'molecule_bonds_dist_std_diff', 'molecule_type_dist_mean',\n",
    "       'molecule_type_dist_mean_diff', 'molecule_type_dist_mean_div',\n",
    "       'molecule_type_dist_max', 'molecule_type_dist_min',\n",
    "       'molecule_type_dist_std', 'molecule_type_dist_std_diff', 'num_atoms',\n",
    "       'flatness_metric', 'bond_angle_plane', 'bond_angle_axis']])"
   ]
  },
  {
   "cell_type": "code",
   "execution_count": null,
   "metadata": {},
   "outputs": [],
   "source": [
    "train_merged.head()"
   ]
  },
  {
   "cell_type": "code",
   "execution_count": 14,
   "metadata": {},
   "outputs": [
    {
     "data": {
      "text/plain": [
       "Index(['Unnamed: 0', 'id', 'molecule_name', 'atom_index_0', 'atom_index_1',\n",
       "       'type', 'scalar_coupling_constant', 'atom_0', 'x_0', 'y_0', 'z_0',\n",
       "       'atom_1', 'x_1', 'y_1', 'z_1', 'dist', 'dist_x', 'dist_y', 'dist_z',\n",
       "       'type_0', 'molecule_couples', 'molecule_dist_mean', 'molecule_dist_min',\n",
       "       'molecule_dist_max', 'atom_0_couples_count', 'atom_1_couples_count',\n",
       "       'molecule_atom_index_0_x_1_std', 'molecule_atom_index_0_y_1_mean',\n",
       "       'molecule_atom_index_0_y_1_mean_diff',\n",
       "       'molecule_atom_index_0_y_1_mean_div', 'molecule_atom_index_0_y_1_max',\n",
       "       'molecule_atom_index_0_y_1_max_diff', 'molecule_atom_index_0_y_1_std',\n",
       "       'molecule_atom_index_0_z_1_std', 'molecule_atom_index_0_dist_mean',\n",
       "       'molecule_atom_index_0_dist_mean_diff',\n",
       "       'molecule_atom_index_0_dist_mean_div', 'molecule_atom_index_0_dist_max',\n",
       "       'molecule_atom_index_0_dist_max_diff',\n",
       "       'molecule_atom_index_0_dist_max_div', 'molecule_atom_index_0_dist_min',\n",
       "       'molecule_atom_index_0_dist_min_diff',\n",
       "       'molecule_atom_index_0_dist_min_div', 'molecule_atom_index_0_dist_std',\n",
       "       'molecule_atom_index_0_dist_std_diff',\n",
       "       'molecule_atom_index_0_dist_std_div', 'molecule_atom_index_1_dist_mean',\n",
       "       'molecule_atom_index_1_dist_mean_diff',\n",
       "       'molecule_atom_index_1_dist_mean_div', 'molecule_atom_index_1_dist_max',\n",
       "       'molecule_atom_index_1_dist_max_diff',\n",
       "       'molecule_atom_index_1_dist_max_div', 'molecule_atom_index_1_dist_min',\n",
       "       'molecule_atom_index_1_dist_min_diff',\n",
       "       'molecule_atom_index_1_dist_min_div', 'molecule_atom_index_1_dist_std',\n",
       "       'molecule_atom_index_1_dist_std_diff',\n",
       "       'molecule_atom_index_1_dist_std_div', 'molecule_atom_1_dist_mean',\n",
       "       'molecule_atom_1_dist_min', 'molecule_atom_1_dist_min_diff',\n",
       "       'molecule_atom_1_dist_min_div', 'molecule_atom_1_dist_std',\n",
       "       'molecule_atom_1_dist_std_diff', 'molecule_type_0_dist_std',\n",
       "       'molecule_type_0_dist_std_diff', 'molecule_type_dist_mean',\n",
       "       'molecule_type_dist_mean_diff', 'molecule_type_dist_mean_div',\n",
       "       'molecule_type_dist_max', 'molecule_type_dist_min',\n",
       "       'molecule_type_dist_std', 'molecule_type_dist_std_diff'],\n",
       "      dtype='object')"
      ]
     },
     "execution_count": 14,
     "metadata": {},
     "output_type": "execute_result"
    }
   ],
   "source": [
    "train001.columns"
   ]
  },
  {
   "cell_type": "code",
   "execution_count": null,
   "metadata": {},
   "outputs": [],
   "source": [
    "train001.drop('Unnamed: 0', axis=1).merge(train004)"
   ]
  },
  {
   "cell_type": "markdown",
   "metadata": {},
   "source": [
    "# Metrics of OOF"
   ]
  },
  {
   "cell_type": "code",
   "execution_count": 3,
   "metadata": {},
   "outputs": [],
   "source": [
    "def group_mean_log_mae(y_true, y_pred, groups, floor=1e-9):\n",
    "    maes = (y_true-y_pred).abs().groupby(groups).mean()\n",
    "    return np.log(maes.map(lambda x: max(x, floor))).mean()"
   ]
  },
  {
   "cell_type": "code",
   "execution_count": 5,
   "metadata": {},
   "outputs": [
    {
     "data": {
      "text/html": [
       "<div>\n",
       "<style scoped>\n",
       "    .dataframe tbody tr th:only-of-type {\n",
       "        vertical-align: middle;\n",
       "    }\n",
       "\n",
       "    .dataframe tbody tr th {\n",
       "        vertical-align: top;\n",
       "    }\n",
       "\n",
       "    .dataframe thead th {\n",
       "        text-align: right;\n",
       "    }\n",
       "</style>\n",
       "<table border=\"1\" class=\"dataframe\">\n",
       "  <thead>\n",
       "    <tr style=\"text-align: right;\">\n",
       "      <th></th>\n",
       "      <th>id</th>\n",
       "      <th>type</th>\n",
       "      <th>scalar_coupling_constant</th>\n",
       "      <th>oof_preds</th>\n",
       "    </tr>\n",
       "  </thead>\n",
       "  <tbody>\n",
       "    <tr>\n",
       "      <th>0</th>\n",
       "      <td>0</td>\n",
       "      <td>1JHC</td>\n",
       "      <td>84.80</td>\n",
       "      <td>85.056405</td>\n",
       "    </tr>\n",
       "    <tr>\n",
       "      <th>1</th>\n",
       "      <td>1</td>\n",
       "      <td>2JHH</td>\n",
       "      <td>-11.26</td>\n",
       "      <td>-8.698851</td>\n",
       "    </tr>\n",
       "    <tr>\n",
       "      <th>2</th>\n",
       "      <td>2</td>\n",
       "      <td>2JHH</td>\n",
       "      <td>-11.26</td>\n",
       "      <td>-11.138891</td>\n",
       "    </tr>\n",
       "    <tr>\n",
       "      <th>3</th>\n",
       "      <td>3</td>\n",
       "      <td>2JHH</td>\n",
       "      <td>-11.26</td>\n",
       "      <td>-11.195450</td>\n",
       "    </tr>\n",
       "    <tr>\n",
       "      <th>4</th>\n",
       "      <td>4</td>\n",
       "      <td>1JHC</td>\n",
       "      <td>84.80</td>\n",
       "      <td>85.145494</td>\n",
       "    </tr>\n",
       "  </tbody>\n",
       "</table>\n",
       "</div>"
      ],
      "text/plain": [
       "   id  type  scalar_coupling_constant  oof_preds\n",
       "0   0  1JHC                     84.80  85.056405\n",
       "1   1  2JHH                    -11.26  -8.698851\n",
       "2   2  2JHH                    -11.26 -11.138891\n",
       "3   3  2JHH                    -11.26 -11.195450\n",
       "4   4  1JHC                     84.80  85.145494"
      ]
     },
     "execution_count": 5,
     "metadata": {},
     "output_type": "execute_result"
    }
   ],
   "source": [
    "oof.head()"
   ]
  },
  {
   "cell_type": "code",
   "execution_count": 9,
   "metadata": {},
   "outputs": [
    {
     "data": {
      "text/plain": [
       "-0.3786624443869653"
      ]
     },
     "execution_count": 9,
     "metadata": {},
     "output_type": "execute_result"
    }
   ],
   "source": [
    "oof = pd.read_csv('../oof/M014_0611_1249_oof_lgb_5folds_0.9142CV_500000iter_0.3lr.csv')\n",
    "group_mean_log_mae(oof['scalar_coupling_constant'], oof['oof_preds'], oof['type'])"
   ]
  },
  {
   "cell_type": "code",
   "execution_count": 10,
   "metadata": {},
   "outputs": [
    {
     "data": {
      "text/plain": [
       "-0.3583365877089535"
      ]
     },
     "execution_count": 10,
     "metadata": {},
     "output_type": "execute_result"
    }
   ],
   "source": [
    "oof = pd.read_csv('../oof/M008_0608_1739_oof_lgb_5folds_0.9044CV_500000iter_0.5lr.csv')\n",
    "group_mean_log_mae(oof['scalar_coupling_constant'], oof['oof_preds'], oof['type'])"
   ]
  },
  {
   "cell_type": "code",
   "execution_count": 12,
   "metadata": {},
   "outputs": [
    {
     "data": {
      "text/plain": [
       "-0.3277353517952617"
      ]
     },
     "execution_count": 12,
     "metadata": {},
     "output_type": "execute_result"
    }
   ],
   "source": [
    "oof = pd.read_csv('../oof/M013_0611_1250_oof_lgb_5folds_0.9488CV_50000iter_0.5lr.csv')\n",
    "group_mean_log_mae(oof['scalar_coupling_constant'], oof['oof_preds'], oof['type'])"
   ]
  },
  {
   "cell_type": "code",
   "execution_count": null,
   "metadata": {},
   "outputs": [],
   "source": [
    "pd.read_"
   ]
  }
 ],
 "metadata": {
  "kernelspec": {
   "display_name": "Python 3",
   "language": "python",
   "name": "python3"
  },
  "language_info": {
   "codemirror_mode": {
    "name": "ipython",
    "version": 3
   },
   "file_extension": ".py",
   "mimetype": "text/x-python",
   "name": "python",
   "nbconvert_exporter": "python",
   "pygments_lexer": "ipython3",
   "version": "3.6.6"
  }
 },
 "nbformat": 4,
 "nbformat_minor": 2
}
