{
 "cells": [
  {
   "cell_type": "markdown",
   "metadata": {},
   "source": [
    "# FE021\n",
    "- Reducing the number of features in FE files"
   ]
  },
  {
   "cell_type": "code",
   "execution_count": 22,
   "metadata": {},
   "outputs": [],
   "source": [
    "import pandas as pd\n",
    "import os\n",
    "from tqdm import tqdm"
   ]
  },
  {
   "cell_type": "code",
   "execution_count": 2,
   "metadata": {},
   "outputs": [],
   "source": [
    "fi = pd.read_csv('../fi/FI_ANALYSIS_M054_GOODFEATS.csv')"
   ]
  },
  {
   "cell_type": "code",
   "execution_count": 21,
   "metadata": {},
   "outputs": [
    {
     "name": "stdout",
     "output_type": "stream",
     "text": [
      "Running for type 1JHC\n",
      "Running for type 2JHH\n",
      "Running for type 1JHN\n",
      "Running for type 2JHN\n",
      "Running for type 2JHC\n",
      "Running for type 3JHH\n",
      "Running for type 3JHC\n",
      "Running for type 3JHN\n"
     ]
    }
   ],
   "source": [
    "types = ['1JHC', '2JHH', '1JHN', '2JHN', '2JHC','3JHH','3JHC', '3JHN']\n",
    "for t in tqdm(types):\n",
    "    print(f'Running for type {t}')\n",
    "    for f in os.listdir('../data/FE020/'):\n",
    "        if t in f:\n",
    "            df = pd.read_parquet(f'../data/FE020/{f}')\n",
    "            features = fi.loc[fi[t] == True]['feature'].tolist()\n",
    "            df = df[features]\n",
    "            f_new = f.replace('FE020','FE021')\n",
    "            df.to_parquet(f'../data/FE021/{f_new}')"
   ]
  },
  {
   "cell_type": "code",
   "execution_count": 18,
   "metadata": {},
   "outputs": [],
   "source": []
  }
 ],
 "metadata": {
  "kernelspec": {
   "display_name": "Python 3",
   "language": "python",
   "name": "python3"
  },
  "language_info": {
   "codemirror_mode": {
    "name": "ipython",
    "version": 3
   },
   "file_extension": ".py",
   "mimetype": "text/x-python",
   "name": "python",
   "nbconvert_exporter": "python",
   "pygments_lexer": "ipython3",
   "version": "3.6.8"
  }
 },
 "nbformat": 4,
 "nbformat_minor": 4
}
