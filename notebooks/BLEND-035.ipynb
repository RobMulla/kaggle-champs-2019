{
 "cells": [
  {
   "cell_type": "markdown",
   "metadata": {},
   "source": [
    "# BLEND035\n",
    "- July 30\n",
    "- Include old models"
   ]
  },
  {
   "cell_type": "code",
   "execution_count": 1,
   "metadata": {},
   "outputs": [],
   "source": [
    "import pandas as pd\n",
    "import numpy as np\n",
    "import os\n",
    "import random\n",
    "from tqdm import tqdm\n",
    "from sklearn.metrics import mean_absolute_error\n",
    "\n",
    "def group_mean_log_mae(y_true, y_pred, groups, floor=1e-9):\n",
    "    maes = (y_true-y_pred).abs().groupby(groups).mean()\n",
    "    return np.log(maes.map(lambda x: max(x, floor))).mean()\n",
    "\n",
    "def log_mean_absolute_error(y_true, y_pred):\n",
    "    return np.log(mean_absolute_error(y_true, y_pred))\n",
    "%matplotlib inline"
   ]
  },
  {
   "cell_type": "code",
   "execution_count": 2,
   "metadata": {},
   "outputs": [],
   "source": [
    "BLEND_NUMBER = 'BLEND035'"
   ]
  },
  {
   "cell_type": "code",
   "execution_count": 3,
   "metadata": {},
   "outputs": [
    {
     "name": "stdout",
     "output_type": "stream",
     "text": [
      "1JHC: Running for type 1JHC\n"
     ]
    },
    {
     "name": "stderr",
     "output_type": "stream",
     "text": [
      "  0%|          | 4/5000 [00:00<02:43, 30.57it/s]"
     ]
    },
    {
     "name": "stdout",
     "output_type": "stream",
     "text": [
      "1JHC: Has model names ['M048-0.8258', 'M053-0.8639', 'M055-0.8641', 'M047-0.7977', 'M049-0.791']\n"
     ]
    },
    {
     "name": "stderr",
     "output_type": "stream",
     "text": [
      "100%|██████████| 5000/5000 [03:08<00:00, 26.51it/s]\n"
     ]
    },
    {
     "name": "stdout",
     "output_type": "stream",
     "text": [
      "1JHC: ===== Best score -0.99256 - with weights [4, 8, 9, 6, 7]\n",
      "1JHN: Running for type 1JHN\n"
     ]
    },
    {
     "name": "stderr",
     "output_type": "stream",
     "text": [
      "  0%|          | 10/5000 [00:00<00:55, 89.29it/s]"
     ]
    },
    {
     "name": "stdout",
     "output_type": "stream",
     "text": [
      "1JHN: Has model names ['M049-1.361', 'M056-1.424', 'M501-1.424', 'M047-1.116', 'M053-1.265', 'M055-1.26']\n"
     ]
    },
    {
     "name": "stderr",
     "output_type": "stream",
     "text": [
      "100%|██████████| 5000/5000 [00:56<00:00, 87.98it/s]\n"
     ]
    },
    {
     "name": "stdout",
     "output_type": "stream",
     "text": [
      "1JHN: ===== Best score -1.60421 - with weights [4, 5, 7, 1, 3, 2]\n",
      "2JHC: Running for type 2JHC\n"
     ]
    },
    {
     "name": "stderr",
     "output_type": "stream",
     "text": [
      "  0%|          | 3/5000 [00:00<03:55, 21.24it/s]"
     ]
    },
    {
     "name": "stdout",
     "output_type": "stream",
     "text": [
      "2JHC: Has model names ['M047-1.75', 'M048-1.737', 'M049-1.723', 'M055-1.803', 'M054-1.443']\n"
     ]
    },
    {
     "name": "stderr",
     "output_type": "stream",
     "text": [
      "100%|██████████| 5000/5000 [04:10<00:00, 19.98it/s]\n"
     ]
    },
    {
     "name": "stdout",
     "output_type": "stream",
     "text": [
      "2JHC: ===== Best score -1.90363 - with weights [6, 4, 6, 9, 1]\n",
      "2JHH: Running for type 2JHH\n"
     ]
    },
    {
     "name": "stderr",
     "output_type": "stream",
     "text": [
      "  0%|          | 4/5000 [00:00<02:37, 31.76it/s]"
     ]
    },
    {
     "name": "stdout",
     "output_type": "stream",
     "text": [
      "2JHH: Has model names ['M048-2.282', 'M052-2.301', 'M055-2.355', 'M031-1.869', 'M032-1.824', 'M032-1.823', 'M047-2.209', 'M054-2.121']\n"
     ]
    },
    {
     "name": "stderr",
     "output_type": "stream",
     "text": [
      "100%|██████████| 5000/5000 [02:37<00:00, 31.58it/s]\n"
     ]
    },
    {
     "name": "stdout",
     "output_type": "stream",
     "text": [
      "2JHH: ===== Best score -2.45965 - with weights [9, 8, 10, 1, 1, 0, 4, 3]\n",
      "2JHN: Running for type 2JHN\n"
     ]
    },
    {
     "name": "stderr",
     "output_type": "stream",
     "text": [
      "  0%|          | 5/5000 [00:00<01:55, 43.36it/s]"
     ]
    },
    {
     "name": "stdout",
     "output_type": "stream",
     "text": [
      "2JHN: Has model names ['M053-2.118', 'M055-2.197', 'M056-2.173', 'M501-2.246', 'M031-2.04', 'M032-1.962', 'M047-2.12', 'M048-2.082', 'M049-2.117', 'M050-2.09', 'M054-2.075']\n"
     ]
    },
    {
     "name": "stderr",
     "output_type": "stream",
     "text": [
      "100%|██████████| 5000/5000 [01:54<00:00, 43.82it/s]\n"
     ]
    },
    {
     "name": "stdout",
     "output_type": "stream",
     "text": [
      "2JHN: ===== Best score -2.40292 - with weights [2, 5, 3, 9, 5, 0, 4, 2, 1, 5, 4]\n",
      "3JHC: Running for type 3JHC\n"
     ]
    },
    {
     "name": "stderr",
     "output_type": "stream",
     "text": [
      "  0%|          | 2/5000 [00:00<04:41, 17.72it/s]"
     ]
    },
    {
     "name": "stdout",
     "output_type": "stream",
     "text": [
      "3JHC: Has model names ['M047-1.612', 'M049-1.606', 'M055-1.7', 'M054-1.322']\n"
     ]
    },
    {
     "name": "stderr",
     "output_type": "stream",
     "text": [
      "100%|██████████| 5000/5000 [04:49<00:00, 17.33it/s]\n"
     ]
    },
    {
     "name": "stdout",
     "output_type": "stream",
     "text": [
      "3JHC: ===== Best score -1.78471 - with weights [5, 6, 10, 1]\n",
      "3JHH: Running for type 3JHH\n"
     ]
    },
    {
     "name": "stderr",
     "output_type": "stream",
     "text": [
      "  0%|          | 3/5000 [00:00<02:57, 28.19it/s]"
     ]
    },
    {
     "name": "stdout",
     "output_type": "stream",
     "text": [
      "3JHH: Has model names ['M047-2.1', 'M053-2.1', 'M055-2.208', 'M048-2.086', 'M049-2.098', 'M054-1.905']\n"
     ]
    },
    {
     "name": "stderr",
     "output_type": "stream",
     "text": [
      "100%|██████████| 5000/5000 [02:58<00:00, 27.95it/s]\n"
     ]
    },
    {
     "name": "stdout",
     "output_type": "stream",
     "text": [
      "3JHH: ===== Best score -2.32009 - with weights [6, 3, 9, 1, 4, 1]\n",
      "3JHN: Running for type 3JHN\n"
     ]
    },
    {
     "name": "stderr",
     "output_type": "stream",
     "text": [
      "  0%|          | 5/5000 [00:00<01:42, 48.81it/s]"
     ]
    },
    {
     "name": "stdout",
     "output_type": "stream",
     "text": [
      "3JHN: Has model names ['M050-2.383', 'M052-2.39', 'M056-2.4', 'M501-2.416', 'M047-2.356', 'M048-2.321', 'M054-2.277', 'M055-2.363']\n"
     ]
    },
    {
     "name": "stderr",
     "output_type": "stream",
     "text": [
      "100%|██████████| 5000/5000 [01:45<00:00, 47.46it/s]\n"
     ]
    },
    {
     "name": "stdout",
     "output_type": "stream",
     "text": [
      "3JHN: ===== Best score -2.57151 - with weights [6, 2, 5, 7, 4, 0, 0, 2]\n",
      "Done\n"
     ]
    }
   ],
   "source": [
    "types = ['1JHC', '1JHN', '2JHC', '2JHH', '2JHN', '3JHC', '3JHH', '3JHN']\n",
    "\n",
    "def get_sub_oof(t):\n",
    "    \"\"\"\n",
    "    Grab the sub and oof files for a give type. \n",
    "    \"\"\"\n",
    "    oof = []\n",
    "    sub = []\n",
    "    model_ids = []\n",
    "    for file in sorted(os.listdir(f'../type_results/{t}/')):\n",
    "        if ('sub' in file) and ('3folds' in file):\n",
    "            model_id = file[:4] + file.split('MAE_')[1].replace('L','')\n",
    "            model_ids.append(model_id)\n",
    "            df = pd.read_parquet(f'../type_results/{t}/{file}')\n",
    "            if len(sub) == 0:\n",
    "                sub = df.rename(columns={'scalar_coupling_constant': model_id})\n",
    "            else:\n",
    "                sub[model_id] = df['scalar_coupling_constant']\n",
    "        elif ('oof' in file) and ('3folds' in file):\n",
    "            model_id = file[:4] + file.split('MAE_')[1].replace('L','')\n",
    "            #print(model_id)\n",
    "            df = pd.read_parquet(f'../type_results/{t}/{file}')\n",
    "            if len(oof) == 0:\n",
    "                oof = df.rename(columns={'oof_preds': model_id})\n",
    "            else:\n",
    "                oof[model_id] = df['oof_preds']\n",
    "    for file in sorted(os.listdir(f'../type_results/{t}/old/')):\n",
    "        if ('sub' in file) and ('3folds' in file):\n",
    "            model_id = file[:4] + file.split('MAE_')[1].replace('L','')\n",
    "            model_ids.append(model_id)\n",
    "            df = pd.read_parquet(f'../type_results/{t}/old/{file}')\n",
    "            if len(sub) == 0:\n",
    "                sub = df.rename(columns={'scalar_coupling_constant': model_id})\n",
    "            else:\n",
    "                sub[model_id] = df['scalar_coupling_constant']\n",
    "        elif ('oof' in file) and ('3folds' in file):\n",
    "            model_id = file[:4] + file.split('MAE_')[1].replace('L','')\n",
    "            #print(model_id)\n",
    "            df = pd.read_parquet(f'../type_results/{t}/old/{file}')\n",
    "            if len(oof) == 0:\n",
    "                oof = df.rename(columns={'oof_preds': model_id})\n",
    "            else:\n",
    "                oof[model_id] = df['oof_preds']\n",
    "\n",
    "    sub = sub.loc[sub['type'] == t]\n",
    "    oof = oof.loc[oof['type'] == t]\n",
    "    return sub, oof, model_ids\n",
    "\n",
    "def get_best_weights(oof, l5, t):\n",
    "    if len(l5) == 1:\n",
    "        return [1]\n",
    "    lmae_best = 0\n",
    "    for x in tqdm(range(0, 5000)):\n",
    "        ws = []\n",
    "        for x in range(0, len(l5)):\n",
    "            if x == len(l5)-1:\n",
    "                ws.append(random.randint(1, 10))\n",
    "            else:\n",
    "                ws.append(random.randint(0, 10))\n",
    "        idx = 0\n",
    "        blend = np.zeros(len(oof[l5[0]]))\n",
    "        for w in ws:\n",
    "            blend += w * oof[l5[idx]]\n",
    "            idx += 1\n",
    "        blend = blend / np.sum(ws)\n",
    "        lmae = log_mean_absolute_error(oof['scalar_coupling_constant'],\n",
    "                            blend)\n",
    "        if lmae < lmae_best:\n",
    "            lmae_best = lmae\n",
    "            bws = ws\n",
    "    print(f'{t}: ===== Best score {lmae_best:0.5f} - with weights {bws}')\n",
    "    return bws # Return the best weights\n",
    "\n",
    "def create_best_blends():\n",
    "    oofs = []\n",
    "    subs = []\n",
    "    for t in types:\n",
    "        print(f'{t}: Running for type {t}')\n",
    "        tsub, toof, tmodel_ids = get_sub_oof(t)\n",
    "        print(f'{t}: Has model names {tmodel_ids}')\n",
    "        #l5 = tmodel_ids[-5:] # Last 5 models\n",
    "        bws = get_best_weights(toof, tmodel_ids, t)\n",
    "        tot_weight = np.sum(bws)\n",
    "        tsub['scalar_coupling_constant'] = 0\n",
    "        toof['oof_blend'] = 0\n",
    "        idx = 0\n",
    "        for w in bws:\n",
    "            tsub['scalar_coupling_constant'] += (w * tsub[tmodel_ids[idx]])\n",
    "            toof['oof_blend'] += (w * toof[tmodel_ids[idx]])\n",
    "            idx += 1\n",
    "        tsub['scalar_coupling_constant'] /= tot_weight\n",
    "        toof['oof_blend'] /= tot_weight\n",
    "        tsub = tsub[['id','molecule_name','type','scalar_coupling_constant']].copy()\n",
    "        toof = toof[['id','type','scalar_coupling_constant','oof_blend']].copy()\n",
    "        subs.append(tsub)\n",
    "        oofs.append(toof)\n",
    "    final_oof = pd.concat(oofs).sort_values('id').reset_index(drop=True)\n",
    "    final_sub = pd.concat(subs).sort_values('id').reset_index(drop=True)\n",
    "    return final_oof, final_sub\n",
    "\n",
    "final_oof, final_sub = create_best_blends()\n",
    "print('Done')"
   ]
  },
  {
   "cell_type": "markdown",
   "metadata": {},
   "source": [
    "# Score"
   ]
  },
  {
   "cell_type": "code",
   "execution_count": 4,
   "metadata": {},
   "outputs": [
    {
     "name": "stdout",
     "output_type": "stream",
     "text": [
      "1JHC \t 0.37063 \t -0.99256\n",
      "1JHN \t 0.20105 \t -1.60421\n",
      "2JHC \t 0.14903 \t -1.90363\n",
      "2JHH \t 0.08546 \t -2.45965\n",
      "2JHN \t 0.09045 \t -2.40292\n",
      "3JHC \t 0.16785 \t -1.78471\n",
      "3JHH \t 0.09827 \t -2.32009\n",
      "3JHN \t 0.07642 \t -2.57151\n",
      "\n",
      "Group LMAE\n",
      "-2.00491\n"
     ]
    }
   ],
   "source": [
    "for i, d in final_oof.groupby('type'):\n",
    "    score = mean_absolute_error(d['scalar_coupling_constant'], d['oof_blend'])\n",
    "    lscore = np.log(mean_absolute_error(d['scalar_coupling_constant'], d['oof_blend']))\n",
    "    print(i,'\\t {:0.5f} \\t {:0.5f}'.format(score, lscore))\n",
    "glmae = group_mean_log_mae(final_oof['scalar_coupling_constant'], final_oof['oof_blend'], final_oof['type'])\n",
    "print('\\nGroup LMAE')\n",
    "print('{:0.5f}'.format(glmae))"
   ]
  },
  {
   "cell_type": "markdown",
   "metadata": {},
   "source": [
    "# Validate Sub"
   ]
  },
  {
   "cell_type": "code",
   "execution_count": 5,
   "metadata": {},
   "outputs": [
    {
     "data": {
      "text/html": [
       "<div>\n",
       "<style scoped>\n",
       "    .dataframe tbody tr th:only-of-type {\n",
       "        vertical-align: middle;\n",
       "    }\n",
       "\n",
       "    .dataframe tbody tr th {\n",
       "        vertical-align: top;\n",
       "    }\n",
       "\n",
       "    .dataframe thead th {\n",
       "        text-align: right;\n",
       "    }\n",
       "</style>\n",
       "<table border=\"1\" class=\"dataframe\">\n",
       "  <thead>\n",
       "    <tr style=\"text-align: right;\">\n",
       "      <th></th>\n",
       "      <th>scalar_coupling_constant</th>\n",
       "      <th>good_scc</th>\n",
       "    </tr>\n",
       "  </thead>\n",
       "  <tbody>\n",
       "    <tr>\n",
       "      <th>scalar_coupling_constant</th>\n",
       "      <td>1.000000</td>\n",
       "      <td>0.999998</td>\n",
       "    </tr>\n",
       "    <tr>\n",
       "      <th>good_scc</th>\n",
       "      <td>0.999998</td>\n",
       "      <td>1.000000</td>\n",
       "    </tr>\n",
       "  </tbody>\n",
       "</table>\n",
       "</div>"
      ],
      "text/plain": [
       "                          scalar_coupling_constant  good_scc\n",
       "scalar_coupling_constant                  1.000000  0.999998\n",
       "good_scc                                  0.999998  1.000000"
      ]
     },
     "execution_count": 5,
     "metadata": {},
     "output_type": "execute_result"
    }
   ],
   "source": [
    "sub_good = pd.read_csv('../submissions/BLEND032_sub_-1.98117CV.csv')\n",
    "final_sub['good_scc'] = sub_good['scalar_coupling_constant']\n",
    "final_sub[['scalar_coupling_constant','good_scc']].corr()"
   ]
  },
  {
   "cell_type": "code",
   "execution_count": 6,
   "metadata": {},
   "outputs": [
    {
     "name": "stdout",
     "output_type": "stream",
     "text": [
      "MAE vs Good Sub\n",
      "1JHC - 0.06951 - 0.99998\n",
      "1JHN - 0.01356 - 1.00000\n",
      "2JHC - 0.00572 - 1.00000\n",
      "2JHH - 0.01283 - 0.99998\n",
      "2JHN - 0.02249 - 0.99995\n",
      "3JHC - 0.05137 - 0.99959\n",
      "3JHH - 0.01500 - 0.99998\n",
      "3JHN - 0.01077 - 0.99991\n"
     ]
    }
   ],
   "source": [
    "print('MAE vs Good Sub')\n",
    "for i, d in final_sub.groupby('type'):\n",
    "    mae_t = mean_absolute_error(d['good_scc'], d['scalar_coupling_constant'])\n",
    "    corr_t = np.corrcoef(d['good_scc'], d['scalar_coupling_constant'])[1][0]\n",
    "    print(f'{i} - {mae_t:0.5f} - {corr_t:0.5f}')"
   ]
  },
  {
   "cell_type": "markdown",
   "metadata": {},
   "source": [
    "# Create Submission and OOF Files"
   ]
  },
  {
   "cell_type": "code",
   "execution_count": 7,
   "metadata": {},
   "outputs": [],
   "source": [
    "import json\n",
    "import os.path\n",
    "import re\n",
    "import ipykernel\n",
    "import requests\n",
    "\n",
    "#try:  # Python 3\n",
    "#    from urllib.parse import urljoin\n",
    "#except ImportError:  # Python 2\n",
    "#    from urlparse import urljoin\n",
    "\n",
    "# Alternative that works for both Python 2 and 3:\n",
    "from requests.compat import urljoin\n",
    "\n",
    "try:  # Python 3 (see Edit2 below for why this may not work in Python 2)\n",
    "    from notebook.notebookapp import list_running_servers\n",
    "except ImportError:  # Python 2\n",
    "    import warnings\n",
    "    from IPython.utils.shimmodule import ShimWarning\n",
    "    with warnings.catch_warnings():\n",
    "        warnings.simplefilter(\"ignore\", category=ShimWarning)\n",
    "        from IPython.html.notebookapp import list_running_servers\n",
    "\n",
    "\n",
    "def get_notebook_name():\n",
    "    \"\"\"\n",
    "    Return the full path of the jupyter notebook.\n",
    "    \"\"\"\n",
    "    kernel_id = re.search('kernel-(.*).json',\n",
    "                          ipykernel.connect.get_connection_file()).group(1)\n",
    "    servers = list_running_servers()\n",
    "    for ss in servers:\n",
    "        response = requests.get(urljoin(ss['url'], 'api/sessions'),\n",
    "                                params={'token': ss.get('token', '')})\n",
    "        for nn in json.loads(response.text):\n",
    "            if nn['kernel']['id'] == kernel_id:\n",
    "                relative_path = nn['notebook']['path']\n",
    "                return os.path.join(ss['notebook_dir'], relative_path)"
   ]
  },
  {
   "cell_type": "code",
   "execution_count": 8,
   "metadata": {},
   "outputs": [
    {
     "name": "stdout",
     "output_type": "stream",
     "text": [
      "NAME TO SAVE BLEND035\n"
     ]
    }
   ],
   "source": [
    "BLEND_NUMBER = get_notebook_name().split('/')[-1].replace('.ipynb','').replace('-','')\n",
    "print(f'NAME TO SAVE {BLEND_NUMBER}')"
   ]
  },
  {
   "cell_type": "code",
   "execution_count": 9,
   "metadata": {},
   "outputs": [],
   "source": [
    "# Save the Results\n",
    "final_sub[['id','scalar_coupling_constant']].to_csv(f'../submissions/{BLEND_NUMBER}_sub_{glmae:0.5f}CV.csv', index=False)\n",
    "final_oof.to_csv(f'../oof/{BLEND_NUMBER}_oof_{glmae:0.5f}CV.csv', index=False)"
   ]
  }
 ],
 "metadata": {
  "kernelspec": {
   "display_name": "Python 3",
   "language": "python",
   "name": "python3"
  },
  "language_info": {
   "codemirror_mode": {
    "name": "ipython",
    "version": 3
   },
   "file_extension": ".py",
   "mimetype": "text/x-python",
   "name": "python",
   "nbconvert_exporter": "python",
   "pygments_lexer": "ipython3",
   "version": "3.6.8"
  }
 },
 "nbformat": 4,
 "nbformat_minor": 4
}
