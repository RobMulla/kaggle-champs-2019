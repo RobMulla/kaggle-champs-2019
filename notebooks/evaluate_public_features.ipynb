{
 "cells": [
  {
   "cell_type": "markdown",
   "metadata": {},
   "source": [
    "# Features from this kernel"
   ]
  },
  {
   "cell_type": "code",
   "execution_count": 1,
   "metadata": {},
   "outputs": [],
   "source": [
    "path = '../data/'\n",
    "import pandas as pd\n",
    "train = pd.read_hdf(f'{path}/train.h5', 'table')\n",
    "#test = pd.read_hdf(f'{path}/test.h5', 'table')"
   ]
  },
  {
   "cell_type": "code",
   "execution_count": 4,
   "metadata": {},
   "outputs": [
    {
     "data": {
      "text/plain": [
       "0           84.812500\n",
       "1          -11.257812\n",
       "2          -11.257812\n",
       "3          -11.257812\n",
       "4           84.812500\n",
       "5          -11.257812\n",
       "6          -11.257812\n",
       "7           84.812500\n",
       "8          -11.257812\n",
       "9           84.812500\n",
       "10          32.687500\n",
       "11         -11.187500\n",
       "12         -11.171875\n",
       "13          32.687500\n",
       "14         -11.179688\n",
       "15          32.687500\n",
       "16          -9.945312\n",
       "17         171.250000\n",
       "18           5.183594\n",
       "19          83.562500\n",
       "20          -2.378906\n",
       "21         -11.703125\n",
       "22         -11.695312\n",
       "23           3.251953\n",
       "24          13.687500\n",
       "25           3.251953\n",
       "26          83.562500\n",
       "27          -2.378906\n",
       "28         -11.703125\n",
       "29          13.695312\n",
       "              ...    \n",
       "4658117     -1.148438\n",
       "4658118      0.445068\n",
       "4658119      0.660645\n",
       "4658120     -9.195312\n",
       "4658121      0.685547\n",
       "4658122      0.445068\n",
       "4658123      0.660645\n",
       "4658124      0.318359\n",
       "4658125     87.875000\n",
       "4658126     -1.148438\n",
       "4658127      6.132812\n",
       "4658128      5.125000\n",
       "4658129      4.921875\n",
       "4658130      3.718750\n",
       "4658131      8.937500\n",
       "4658132      3.544922\n",
       "4658133     -0.244751\n",
       "4658134     -0.184692\n",
       "4658135      1.025391\n",
       "4658136     99.687500\n",
       "4658137      9.117188\n",
       "4658138      0.789551\n",
       "4658139     -0.006538\n",
       "4658140      1.944336\n",
       "4658141      0.861328\n",
       "4658142      3.542969\n",
       "4658143      0.568848\n",
       "4658144      1.173828\n",
       "4658145      4.761719\n",
       "4658146    117.937500\n",
       "Name: scalar_coupling_constant, Length: 4658147, dtype: float16"
      ]
     },
     "execution_count": 4,
     "metadata": {},
     "output_type": "execute_result"
    }
   ],
   "source": [
    "train['scalar_coupling_constant']"
   ]
  }
 ],
 "metadata": {
  "kernelspec": {
   "display_name": "Python 3",
   "language": "python",
   "name": "python3"
  },
  "language_info": {
   "codemirror_mode": {
    "name": "ipython",
    "version": 3
   },
   "file_extension": ".py",
   "mimetype": "text/x-python",
   "name": "python",
   "nbconvert_exporter": "python",
   "pygments_lexer": "ipython3",
   "version": "3.6.6"
  }
 },
 "nbformat": 4,
 "nbformat_minor": 2
}
