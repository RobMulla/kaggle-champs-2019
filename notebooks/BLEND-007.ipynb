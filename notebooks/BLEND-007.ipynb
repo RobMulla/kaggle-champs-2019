{
 "cells": [
  {
   "cell_type": "markdown",
   "metadata": {},
   "source": [
    "# Blend 007\n",
    "July 12th"
   ]
  },
  {
   "cell_type": "code",
   "execution_count": 85,
   "metadata": {},
   "outputs": [],
   "source": [
    "import pandas as pd\n",
    "from sklearn.metrics import mean_absolute_error\n",
    "import numpy as np\n",
    "def group_mean_log_mae(y_true, y_pred, groups, floor=1e-9):\n",
    "    maes = (y_true-y_pred).abs().groupby(groups).mean()\n",
    "    return np.log(maes.map(lambda x: max(x, floor))).mean()\n",
    "%matplotlib inline"
   ]
  },
  {
   "cell_type": "code",
   "execution_count": 2,
   "metadata": {},
   "outputs": [],
   "source": [
    "tracking = pd.read_csv('../tracking/tracking.csv')"
   ]
  },
  {
   "cell_type": "markdown",
   "metadata": {},
   "source": [
    "## 1JHC"
   ]
  },
  {
   "cell_type": "code",
   "execution_count": 3,
   "metadata": {},
   "outputs": [
    {
     "data": {
      "text/html": [
       "<div>\n",
       "<style scoped>\n",
       "    .dataframe tbody tr th:only-of-type {\n",
       "        vertical-align: middle;\n",
       "    }\n",
       "\n",
       "    .dataframe tbody tr th {\n",
       "        vertical-align: top;\n",
       "    }\n",
       "\n",
       "    .dataframe thead th {\n",
       "        text-align: right;\n",
       "    }\n",
       "</style>\n",
       "<table border=\"1\" class=\"dataframe\">\n",
       "  <thead>\n",
       "    <tr style=\"text-align: right;\">\n",
       "      <th></th>\n",
       "      <th>run_id</th>\n",
       "      <th>model_number</th>\n",
       "      <th>model_type</th>\n",
       "      <th>1JHC_mae_cv</th>\n",
       "    </tr>\n",
       "  </thead>\n",
       "  <tbody>\n",
       "    <tr>\n",
       "      <th>38</th>\n",
       "      <td>0712_2026</td>\n",
       "      <td>M046_1JHC</td>\n",
       "      <td>catboost</td>\n",
       "      <td>0.4976</td>\n",
       "    </tr>\n",
       "    <tr>\n",
       "      <th>34</th>\n",
       "      <td>0710_2124</td>\n",
       "      <td>M043</td>\n",
       "      <td>catboost</td>\n",
       "      <td>0.5124</td>\n",
       "    </tr>\n",
       "    <tr>\n",
       "      <th>36</th>\n",
       "      <td>0711_2313</td>\n",
       "      <td>M045_1JHC</td>\n",
       "      <td>catboost</td>\n",
       "      <td>0.5244</td>\n",
       "    </tr>\n",
       "    <tr>\n",
       "      <th>35</th>\n",
       "      <td>0711_1936</td>\n",
       "      <td>M044</td>\n",
       "      <td>catboost</td>\n",
       "      <td>0.5376</td>\n",
       "    </tr>\n",
       "    <tr>\n",
       "      <th>33</th>\n",
       "      <td>0709_1336</td>\n",
       "      <td>M042</td>\n",
       "      <td>catboost</td>\n",
       "      <td>0.5650</td>\n",
       "    </tr>\n",
       "    <tr>\n",
       "      <th>31</th>\n",
       "      <td>0708_1639</td>\n",
       "      <td>M040</td>\n",
       "      <td>catboost</td>\n",
       "      <td>0.5782</td>\n",
       "    </tr>\n",
       "    <tr>\n",
       "      <th>20</th>\n",
       "      <td>0702_0822</td>\n",
       "      <td>M031</td>\n",
       "      <td>catboost</td>\n",
       "      <td>0.5793</td>\n",
       "    </tr>\n",
       "    <tr>\n",
       "      <th>29</th>\n",
       "      <td>0707_0907</td>\n",
       "      <td>M038</td>\n",
       "      <td>catboost</td>\n",
       "      <td>0.5874</td>\n",
       "    </tr>\n",
       "  </tbody>\n",
       "</table>\n",
       "</div>"
      ],
      "text/plain": [
       "       run_id model_number model_type  1JHC_mae_cv\n",
       "38  0712_2026    M046_1JHC   catboost       0.4976\n",
       "34  0710_2124         M043   catboost       0.5124\n",
       "36  0711_2313    M045_1JHC   catboost       0.5244\n",
       "35  0711_1936         M044   catboost       0.5376\n",
       "33  0709_1336         M042   catboost       0.5650\n",
       "31  0708_1639         M040   catboost       0.5782\n",
       "20  0702_0822         M031   catboost       0.5793\n",
       "29  0707_0907         M038   catboost       0.5874"
      ]
     },
     "execution_count": 3,
     "metadata": {},
     "output_type": "execute_result"
    }
   ],
   "source": [
    "# M031\n",
    "# M038\n",
    "# M037\n",
    "# M030\n",
    "tracking.sort_values('1JHC_mae_cv')[['run_id','model_number','model_type','1JHC_mae_cv']].head(8)"
   ]
  },
  {
   "cell_type": "code",
   "execution_count": 7,
   "metadata": {},
   "outputs": [],
   "source": [
    "oofM046 = pd.read_parquet('../type_results/1JHC/M046_1JHC_0712_2026_oof_0.4976_catboost_2folds_500000iter_0.1lr.parquet')\n",
    "oofM045 = pd.read_parquet('../type_results/1JHC/M045_1JHC_0711_2313_oof_0.5244_catboost_2folds_500000iter_0.1lr.parquet')"
   ]
  },
  {
   "cell_type": "code",
   "execution_count": 5,
   "metadata": {},
   "outputs": [],
   "source": [
    "oofM031 = pd.read_csv('../temp/M031/temp4of8_M031_0702_0822_oof_lgb_3folds_5000000iter_0.05lr.csv')\n",
    "oofM038 = pd.read_csv('../temp/M038/temp6of8_M038_0707_0907_oof_catboost_2folds_500000iter_0.08lr.csv')\n",
    "oofM037 = pd.read_csv('../temp/M037/temp7of8_M037_0706_2029_oof_catboost_2folds_500000iter_0.1lr.csv')\n",
    "oofM044 = pd.read_csv('../oof/M044_0711_1936_oof_catboost_2folds_1.3506CV_500000iter_0.1lr.csv')\n",
    "oofM030 = pd.read_csv('../temp/M030/temp4of8_M030_0701_1302_oof_lgb_3folds_5000000iter_0.05lr.csv')\n",
    "oofM030a = pd.read_csv('../temp/M030/temp4of8_M030_0701_1302_oof_lgb_3folds_5000000iter_0.05lr.csv')\n",
    "oofM030b = pd.read_csv('../temp/M030/temp4of8_M030_0701_1304_oof_lgb_3folds_5000000iter_0.05lr.csv')\n",
    "oofM030c = pd.read_csv('../temp/M030/temp4of8_M030_0701_1300_oof_lgb_3folds_5000000iter_0.05lr.csv')"
   ]
  },
  {
   "cell_type": "code",
   "execution_count": 6,
   "metadata": {},
   "outputs": [],
   "source": [
    "oofM030['oof_preds'] = (oofM030a['oof_preds'] + oofM030b['oof_preds'] + oofM030c['oof_preds'])"
   ]
  },
  {
   "cell_type": "code",
   "execution_count": 10,
   "metadata": {},
   "outputs": [],
   "source": [
    "oof_final = oofM031[['id','type','scalar_coupling_constant','oof_preds']].copy()"
   ]
  },
  {
   "cell_type": "code",
   "execution_count": 11,
   "metadata": {},
   "outputs": [],
   "source": [
    "oof_final['oof_preds'] = 0"
   ]
  },
  {
   "cell_type": "code",
   "execution_count": 58,
   "metadata": {},
   "outputs": [],
   "source": [
    "oof_final.loc[oof_final['type'] == '1JHC', 'oof_preds'] = (3 * oofM046['oof_preds']\n",
    "                                                           + oofM031['oof_preds']\n",
    "                                                           + oofM045['oof_preds']\n",
    "                                                          + oofM044.loc[oofM044['type'] == '1JHC']['oof_preds']) / 6"
   ]
  },
  {
   "cell_type": "code",
   "execution_count": 59,
   "metadata": {},
   "outputs": [
    {
     "data": {
      "text/plain": [
       "0.4546840897984628"
      ]
     },
     "execution_count": 59,
     "metadata": {},
     "output_type": "execute_result"
    }
   ],
   "source": [
    "# oof_final = oofM031[['id','type','scalar_coupling_constant','oof_preds']].copy()\n",
    "# temp = (oofM031['oof_preds'] + oofM037['oof_preds'] + oofM038['oof_preds']\n",
    "#         + oofM030['oof_preds'] + 4 * oofM044['oof_preds']) / 8\n",
    "# oof_final.loc[oof_final['type'] == '1JHC', 'oof_preds'] = temp.loc[oof_final['type'] == '1JHC']\n",
    "mean_absolute_error(oof_final.loc[oof_final['type'] == '1JHC']['scalar_coupling_constant'],\n",
    "                    oof_final.loc[oof_final['type'] == '1JHC']['oof_preds'])"
   ]
  },
  {
   "cell_type": "markdown",
   "metadata": {},
   "source": [
    "# 2JHH"
   ]
  },
  {
   "cell_type": "code",
   "execution_count": 27,
   "metadata": {},
   "outputs": [
    {
     "data": {
      "text/html": [
       "<div>\n",
       "<style scoped>\n",
       "    .dataframe tbody tr th:only-of-type {\n",
       "        vertical-align: middle;\n",
       "    }\n",
       "\n",
       "    .dataframe tbody tr th {\n",
       "        vertical-align: top;\n",
       "    }\n",
       "\n",
       "    .dataframe thead th {\n",
       "        text-align: right;\n",
       "    }\n",
       "</style>\n",
       "<table border=\"1\" class=\"dataframe\">\n",
       "  <thead>\n",
       "    <tr style=\"text-align: right;\">\n",
       "      <th></th>\n",
       "      <th>run_id</th>\n",
       "      <th>model_number</th>\n",
       "      <th>model_type</th>\n",
       "      <th>2JHH_mae_cv</th>\n",
       "    </tr>\n",
       "  </thead>\n",
       "  <tbody>\n",
       "    <tr>\n",
       "      <th>34</th>\n",
       "      <td>0710_2124</td>\n",
       "      <td>M043</td>\n",
       "      <td>catboost</td>\n",
       "      <td>0.1382</td>\n",
       "    </tr>\n",
       "    <tr>\n",
       "      <th>29</th>\n",
       "      <td>0707_0907</td>\n",
       "      <td>M038</td>\n",
       "      <td>catboost</td>\n",
       "      <td>0.1405</td>\n",
       "    </tr>\n",
       "    <tr>\n",
       "      <th>31</th>\n",
       "      <td>0708_1639</td>\n",
       "      <td>M040</td>\n",
       "      <td>catboost</td>\n",
       "      <td>0.1421</td>\n",
       "    </tr>\n",
       "    <tr>\n",
       "      <th>33</th>\n",
       "      <td>0709_1336</td>\n",
       "      <td>M042</td>\n",
       "      <td>catboost</td>\n",
       "      <td>0.1428</td>\n",
       "    </tr>\n",
       "    <tr>\n",
       "      <th>30</th>\n",
       "      <td>0708_1415</td>\n",
       "      <td>M039</td>\n",
       "      <td>catboost</td>\n",
       "      <td>0.1440</td>\n",
       "    </tr>\n",
       "    <tr>\n",
       "      <th>28</th>\n",
       "      <td>0706_2029</td>\n",
       "      <td>M037</td>\n",
       "      <td>catboost</td>\n",
       "      <td>0.1440</td>\n",
       "    </tr>\n",
       "    <tr>\n",
       "      <th>27</th>\n",
       "      <td>0705_2317</td>\n",
       "      <td>M036</td>\n",
       "      <td>catboost</td>\n",
       "      <td>0.1499</td>\n",
       "    </tr>\n",
       "    <tr>\n",
       "      <th>20</th>\n",
       "      <td>0702_0822</td>\n",
       "      <td>M031</td>\n",
       "      <td>catboost</td>\n",
       "      <td>0.1543</td>\n",
       "    </tr>\n",
       "  </tbody>\n",
       "</table>\n",
       "</div>"
      ],
      "text/plain": [
       "       run_id model_number model_type  2JHH_mae_cv\n",
       "34  0710_2124         M043   catboost       0.1382\n",
       "29  0707_0907         M038   catboost       0.1405\n",
       "31  0708_1639         M040   catboost       0.1421\n",
       "33  0709_1336         M042   catboost       0.1428\n",
       "30  0708_1415         M039   catboost       0.1440\n",
       "28  0706_2029         M037   catboost       0.1440\n",
       "27  0705_2317         M036   catboost       0.1499\n",
       "20  0702_0822         M031   catboost       0.1543"
      ]
     },
     "execution_count": 27,
     "metadata": {},
     "output_type": "execute_result"
    }
   ],
   "source": [
    "tracking.sort_values('2JHH_mae_cv')[['run_id','model_number','model_type','2JHH_mae_cv']].head(8)"
   ]
  },
  {
   "cell_type": "code",
   "execution_count": 28,
   "metadata": {},
   "outputs": [],
   "source": [
    "oofM039 = pd.read_csv('../temp/M039/temp7of8_M039_0708_1415_oof_catboost_2folds_50000iter_0.1lr.csv')\n",
    "oofM036 = pd.read_csv('../temp/M036/temp7of8_M036_0705_2317_oof_catboost_2folds_300000iter_0.1lr.csv')"
   ]
  },
  {
   "cell_type": "code",
   "execution_count": 29,
   "metadata": {},
   "outputs": [
    {
     "data": {
      "text/plain": [
       "0.12907211077881778"
      ]
     },
     "execution_count": 29,
     "metadata": {},
     "output_type": "execute_result"
    }
   ],
   "source": [
    "#oof_final = oofM031[['id','type','scalar_coupling_constant','oof_preds']].copy()\n",
    "temp = (oofM038['oof_preds'] + oofM039['oof_preds'] + oofM037['oof_preds'] + oofM036['oof_preds']) / 4\n",
    "oof_final.loc[oof_final['type'] == '2JHH', 'oof_preds'] = temp.loc[oof_final['type'] == '2JHH']\n",
    "\n",
    "mean_absolute_error(oof_final.loc[oof_final['type'] == '2JHH']['scalar_coupling_constant'],\n",
    "                    oof_final.loc[oof_final['type'] == '2JHH']['oof_preds'])"
   ]
  },
  {
   "cell_type": "markdown",
   "metadata": {},
   "source": [
    "# 1JHN_mae_cv"
   ]
  },
  {
   "cell_type": "code",
   "execution_count": 30,
   "metadata": {},
   "outputs": [
    {
     "data": {
      "text/html": [
       "<div>\n",
       "<style scoped>\n",
       "    .dataframe tbody tr th:only-of-type {\n",
       "        vertical-align: middle;\n",
       "    }\n",
       "\n",
       "    .dataframe tbody tr th {\n",
       "        vertical-align: top;\n",
       "    }\n",
       "\n",
       "    .dataframe thead th {\n",
       "        text-align: right;\n",
       "    }\n",
       "</style>\n",
       "<table border=\"1\" class=\"dataframe\">\n",
       "  <thead>\n",
       "    <tr style=\"text-align: right;\">\n",
       "      <th></th>\n",
       "      <th>run_id</th>\n",
       "      <th>model_number</th>\n",
       "      <th>model_type</th>\n",
       "      <th>1JHN_mae_cv</th>\n",
       "    </tr>\n",
       "  </thead>\n",
       "  <tbody>\n",
       "    <tr>\n",
       "      <th>19</th>\n",
       "      <td>0701_1300</td>\n",
       "      <td>M030</td>\n",
       "      <td>lgbm</td>\n",
       "      <td>0.3582</td>\n",
       "    </tr>\n",
       "    <tr>\n",
       "      <th>34</th>\n",
       "      <td>0710_2124</td>\n",
       "      <td>M043</td>\n",
       "      <td>catboost</td>\n",
       "      <td>0.3764</td>\n",
       "    </tr>\n",
       "    <tr>\n",
       "      <th>26</th>\n",
       "      <td>0704_2344</td>\n",
       "      <td>M035</td>\n",
       "      <td>lgbm</td>\n",
       "      <td>0.3846</td>\n",
       "    </tr>\n",
       "    <tr>\n",
       "      <th>33</th>\n",
       "      <td>0709_1336</td>\n",
       "      <td>M042</td>\n",
       "      <td>catboost</td>\n",
       "      <td>0.3860</td>\n",
       "    </tr>\n",
       "    <tr>\n",
       "      <th>27</th>\n",
       "      <td>0705_2317</td>\n",
       "      <td>M036</td>\n",
       "      <td>catboost</td>\n",
       "      <td>0.3872</td>\n",
       "    </tr>\n",
       "    <tr>\n",
       "      <th>29</th>\n",
       "      <td>0707_0907</td>\n",
       "      <td>M038</td>\n",
       "      <td>catboost</td>\n",
       "      <td>0.3877</td>\n",
       "    </tr>\n",
       "    <tr>\n",
       "      <th>12</th>\n",
       "      <td>0627_1434</td>\n",
       "      <td>M024</td>\n",
       "      <td>lgbm</td>\n",
       "      <td>0.3909</td>\n",
       "    </tr>\n",
       "    <tr>\n",
       "      <th>31</th>\n",
       "      <td>0708_1639</td>\n",
       "      <td>M040</td>\n",
       "      <td>catboost</td>\n",
       "      <td>0.3983</td>\n",
       "    </tr>\n",
       "  </tbody>\n",
       "</table>\n",
       "</div>"
      ],
      "text/plain": [
       "       run_id model_number model_type  1JHN_mae_cv\n",
       "19  0701_1300         M030       lgbm       0.3582\n",
       "34  0710_2124         M043   catboost       0.3764\n",
       "26  0704_2344         M035       lgbm       0.3846\n",
       "33  0709_1336         M042   catboost       0.3860\n",
       "27  0705_2317         M036   catboost       0.3872\n",
       "29  0707_0907         M038   catboost       0.3877\n",
       "12  0627_1434         M024       lgbm       0.3909\n",
       "31  0708_1639         M040   catboost       0.3983"
      ]
     },
     "execution_count": 30,
     "metadata": {},
     "output_type": "execute_result"
    }
   ],
   "source": [
    "tracking.sort_values('1JHN_mae_cv')[['run_id','model_number','model_type','1JHN_mae_cv']].head(8)"
   ]
  },
  {
   "cell_type": "code",
   "execution_count": 31,
   "metadata": {},
   "outputs": [],
   "source": [
    "oofM024 = pd.read_csv('../oof/M024_0627_1434_oof_lgb_2folds_-1.2826CV_500000iter_0.1lr.csv')\n",
    "oofM035 = pd.read_csv('../temp/M035/temp3of8_M035_0704_2344_oof_lgbm_2folds_500000iter_0.01lr.csv')"
   ]
  },
  {
   "cell_type": "code",
   "execution_count": 32,
   "metadata": {},
   "outputs": [
    {
     "data": {
      "text/html": [
       "<div>\n",
       "<style scoped>\n",
       "    .dataframe tbody tr th:only-of-type {\n",
       "        vertical-align: middle;\n",
       "    }\n",
       "\n",
       "    .dataframe tbody tr th {\n",
       "        vertical-align: top;\n",
       "    }\n",
       "\n",
       "    .dataframe thead th {\n",
       "        text-align: right;\n",
       "    }\n",
       "</style>\n",
       "<table border=\"1\" class=\"dataframe\">\n",
       "  <thead>\n",
       "    <tr style=\"text-align: right;\">\n",
       "      <th></th>\n",
       "      <th>id</th>\n",
       "      <th>type</th>\n",
       "      <th>scalar_coupling_constant</th>\n",
       "      <th>oof_preds</th>\n",
       "    </tr>\n",
       "  </thead>\n",
       "  <tbody>\n",
       "    <tr>\n",
       "      <th>10</th>\n",
       "      <td>10</td>\n",
       "      <td>1JHN</td>\n",
       "      <td>32.6889</td>\n",
       "      <td>25.114521</td>\n",
       "    </tr>\n",
       "    <tr>\n",
       "      <th>13</th>\n",
       "      <td>13</td>\n",
       "      <td>1JHN</td>\n",
       "      <td>32.6891</td>\n",
       "      <td>24.865444</td>\n",
       "    </tr>\n",
       "    <tr>\n",
       "      <th>15</th>\n",
       "      <td>15</td>\n",
       "      <td>1JHN</td>\n",
       "      <td>32.6905</td>\n",
       "      <td>24.938599</td>\n",
       "    </tr>\n",
       "    <tr>\n",
       "      <th>97</th>\n",
       "      <td>97</td>\n",
       "      <td>1JHN</td>\n",
       "      <td>55.5252</td>\n",
       "      <td>51.768184</td>\n",
       "    </tr>\n",
       "    <tr>\n",
       "      <th>101</th>\n",
       "      <td>101</td>\n",
       "      <td>1JHN</td>\n",
       "      <td>54.7359</td>\n",
       "      <td>49.414807</td>\n",
       "    </tr>\n",
       "  </tbody>\n",
       "</table>\n",
       "</div>"
      ],
      "text/plain": [
       "      id  type  scalar_coupling_constant  oof_preds\n",
       "10    10  1JHN                   32.6889  25.114521\n",
       "13    13  1JHN                   32.6891  24.865444\n",
       "15    15  1JHN                   32.6905  24.938599\n",
       "97    97  1JHN                   55.5252  51.768184\n",
       "101  101  1JHN                   54.7359  49.414807"
      ]
     },
     "execution_count": 32,
     "metadata": {},
     "output_type": "execute_result"
    }
   ],
   "source": [
    "oofM036.loc[oofM036['type'] == '1JHN'].head()"
   ]
  },
  {
   "cell_type": "code",
   "execution_count": 33,
   "metadata": {},
   "outputs": [
    {
     "data": {
      "text/plain": [
       "0.3151774321601402"
      ]
     },
     "execution_count": 33,
     "metadata": {},
     "output_type": "execute_result"
    }
   ],
   "source": [
    "#oof_final = oofM031[['id','type','scalar_coupling_constant','oof_preds']].copy()\n",
    "temp = (oofM030['oof_preds'] + oofM035['oof_preds'] + oofM036['oof_preds'] + oofM038['oof_preds']) / 4 # + oofM024['oof_preds']) / 5\n",
    "oof_final.loc[oof_final['type'] == '1JHN', 'oof_preds'] = temp.loc[oof_final['type'] == '1JHN']\n",
    "mean_absolute_error(oof_final.loc[oof_final['type'] == '1JHN']['scalar_coupling_constant'],\n",
    "                    oof_final.loc[oof_final['type'] == '1JHN']['oof_preds'])"
   ]
  },
  {
   "cell_type": "markdown",
   "metadata": {},
   "source": [
    "# 2JHN_mae_cv"
   ]
  },
  {
   "cell_type": "code",
   "execution_count": 34,
   "metadata": {},
   "outputs": [
    {
     "data": {
      "text/html": [
       "<div>\n",
       "<style scoped>\n",
       "    .dataframe tbody tr th:only-of-type {\n",
       "        vertical-align: middle;\n",
       "    }\n",
       "\n",
       "    .dataframe tbody tr th {\n",
       "        vertical-align: top;\n",
       "    }\n",
       "\n",
       "    .dataframe thead th {\n",
       "        text-align: right;\n",
       "    }\n",
       "</style>\n",
       "<table border=\"1\" class=\"dataframe\">\n",
       "  <thead>\n",
       "    <tr style=\"text-align: right;\">\n",
       "      <th></th>\n",
       "      <th>run_id</th>\n",
       "      <th>model_number</th>\n",
       "      <th>model_type</th>\n",
       "      <th>2JHN_mae_cv</th>\n",
       "    </tr>\n",
       "  </thead>\n",
       "  <tbody>\n",
       "    <tr>\n",
       "      <th>20</th>\n",
       "      <td>0702_0822</td>\n",
       "      <td>M031</td>\n",
       "      <td>catboost</td>\n",
       "      <td>0.1300</td>\n",
       "    </tr>\n",
       "    <tr>\n",
       "      <th>29</th>\n",
       "      <td>0707_0907</td>\n",
       "      <td>M038</td>\n",
       "      <td>catboost</td>\n",
       "      <td>0.1382</td>\n",
       "    </tr>\n",
       "    <tr>\n",
       "      <th>19</th>\n",
       "      <td>0701_1300</td>\n",
       "      <td>M030</td>\n",
       "      <td>lgbm</td>\n",
       "      <td>0.1396</td>\n",
       "    </tr>\n",
       "    <tr>\n",
       "      <th>13</th>\n",
       "      <td>0629_1311</td>\n",
       "      <td>M025</td>\n",
       "      <td>catboost</td>\n",
       "      <td>0.1398</td>\n",
       "    </tr>\n",
       "    <tr>\n",
       "      <th>22</th>\n",
       "      <td>0703_2133</td>\n",
       "      <td>M032</td>\n",
       "      <td>catboost</td>\n",
       "      <td>0.1406</td>\n",
       "    </tr>\n",
       "    <tr>\n",
       "      <th>28</th>\n",
       "      <td>0706_2029</td>\n",
       "      <td>M037</td>\n",
       "      <td>catboost</td>\n",
       "      <td>0.1419</td>\n",
       "    </tr>\n",
       "    <tr>\n",
       "      <th>31</th>\n",
       "      <td>0708_1639</td>\n",
       "      <td>M040</td>\n",
       "      <td>catboost</td>\n",
       "      <td>0.1435</td>\n",
       "    </tr>\n",
       "    <tr>\n",
       "      <th>30</th>\n",
       "      <td>0708_1415</td>\n",
       "      <td>M039</td>\n",
       "      <td>catboost</td>\n",
       "      <td>0.1435</td>\n",
       "    </tr>\n",
       "  </tbody>\n",
       "</table>\n",
       "</div>"
      ],
      "text/plain": [
       "       run_id model_number model_type  2JHN_mae_cv\n",
       "20  0702_0822         M031   catboost       0.1300\n",
       "29  0707_0907         M038   catboost       0.1382\n",
       "19  0701_1300         M030       lgbm       0.1396\n",
       "13  0629_1311         M025   catboost       0.1398\n",
       "22  0703_2133         M032   catboost       0.1406\n",
       "28  0706_2029         M037   catboost       0.1419\n",
       "31  0708_1639         M040   catboost       0.1435\n",
       "30  0708_1415         M039   catboost       0.1435"
      ]
     },
     "execution_count": 34,
     "metadata": {},
     "output_type": "execute_result"
    }
   ],
   "source": [
    "tracking.sort_values('2JHN_mae_cv')[['run_id','model_number','model_type','2JHN_mae_cv']].head(8)"
   ]
  },
  {
   "cell_type": "code",
   "execution_count": 35,
   "metadata": {},
   "outputs": [],
   "source": [
    "oofM025 = pd.read_csv('../oof/M025_0629_1311_oof_lgb_2folds_-1.3265CV_500000iter_0.1lr.csv')"
   ]
  },
  {
   "cell_type": "code",
   "execution_count": 36,
   "metadata": {},
   "outputs": [
    {
     "data": {
      "text/plain": [
       "0.11556027662764612"
      ]
     },
     "execution_count": 36,
     "metadata": {},
     "output_type": "execute_result"
    }
   ],
   "source": [
    "#oof_final = oofM031[['id','type','scalar_coupling_constant','oof_preds']].copy()\n",
    "temp = (oofM031['oof_preds'] + oofM038['oof_preds'] + oofM030['oof_preds'] + oofM025['oof_preds']) / 4\n",
    "oof_final.loc[oof_final['type'] == '2JHN', 'oof_preds'] = temp.loc[oof_final['type'] == '2JHN']\n",
    "mean_absolute_error(oof_final.loc[oof_final['type'] == '2JHN']['scalar_coupling_constant'],\n",
    "                    oof_final.loc[oof_final['type'] == '2JHN']['oof_preds'])"
   ]
  },
  {
   "cell_type": "markdown",
   "metadata": {},
   "source": [
    "# 2JHC_mae_cv"
   ]
  },
  {
   "cell_type": "code",
   "execution_count": 37,
   "metadata": {},
   "outputs": [
    {
     "data": {
      "text/html": [
       "<div>\n",
       "<style scoped>\n",
       "    .dataframe tbody tr th:only-of-type {\n",
       "        vertical-align: middle;\n",
       "    }\n",
       "\n",
       "    .dataframe tbody tr th {\n",
       "        vertical-align: top;\n",
       "    }\n",
       "\n",
       "    .dataframe thead th {\n",
       "        text-align: right;\n",
       "    }\n",
       "</style>\n",
       "<table border=\"1\" class=\"dataframe\">\n",
       "  <thead>\n",
       "    <tr style=\"text-align: right;\">\n",
       "      <th></th>\n",
       "      <th>run_id</th>\n",
       "      <th>model_number</th>\n",
       "      <th>model_type</th>\n",
       "      <th>2JHC_mae_cv</th>\n",
       "    </tr>\n",
       "  </thead>\n",
       "  <tbody>\n",
       "    <tr>\n",
       "      <th>34</th>\n",
       "      <td>0710_2124</td>\n",
       "      <td>M043</td>\n",
       "      <td>catboost</td>\n",
       "      <td>0.2137</td>\n",
       "    </tr>\n",
       "    <tr>\n",
       "      <th>31</th>\n",
       "      <td>0708_1639</td>\n",
       "      <td>M040</td>\n",
       "      <td>catboost</td>\n",
       "      <td>0.2191</td>\n",
       "    </tr>\n",
       "    <tr>\n",
       "      <th>28</th>\n",
       "      <td>0706_2029</td>\n",
       "      <td>M037</td>\n",
       "      <td>catboost</td>\n",
       "      <td>0.2255</td>\n",
       "    </tr>\n",
       "    <tr>\n",
       "      <th>30</th>\n",
       "      <td>0708_1415</td>\n",
       "      <td>M039</td>\n",
       "      <td>catboost</td>\n",
       "      <td>0.2342</td>\n",
       "    </tr>\n",
       "    <tr>\n",
       "      <th>32</th>\n",
       "      <td>0708_1847</td>\n",
       "      <td>M041</td>\n",
       "      <td>lgbm</td>\n",
       "      <td>0.2348</td>\n",
       "    </tr>\n",
       "    <tr>\n",
       "      <th>27</th>\n",
       "      <td>0705_2317</td>\n",
       "      <td>M036</td>\n",
       "      <td>catboost</td>\n",
       "      <td>0.2771</td>\n",
       "    </tr>\n",
       "    <tr>\n",
       "      <th>22</th>\n",
       "      <td>0703_2133</td>\n",
       "      <td>M032</td>\n",
       "      <td>catboost</td>\n",
       "      <td>0.2866</td>\n",
       "    </tr>\n",
       "    <tr>\n",
       "      <th>13</th>\n",
       "      <td>0629_1311</td>\n",
       "      <td>M025</td>\n",
       "      <td>catboost</td>\n",
       "      <td>0.3002</td>\n",
       "    </tr>\n",
       "  </tbody>\n",
       "</table>\n",
       "</div>"
      ],
      "text/plain": [
       "       run_id model_number model_type  2JHC_mae_cv\n",
       "34  0710_2124         M043   catboost       0.2137\n",
       "31  0708_1639         M040   catboost       0.2191\n",
       "28  0706_2029         M037   catboost       0.2255\n",
       "30  0708_1415         M039   catboost       0.2342\n",
       "32  0708_1847         M041       lgbm       0.2348\n",
       "27  0705_2317         M036   catboost       0.2771\n",
       "22  0703_2133         M032   catboost       0.2866\n",
       "13  0629_1311         M025   catboost       0.3002"
      ]
     },
     "execution_count": 37,
     "metadata": {},
     "output_type": "execute_result"
    }
   ],
   "source": [
    "tracking.sort_values('2JHC_mae_cv')[['run_id','model_number','model_type','2JHC_mae_cv']].head(8)"
   ]
  },
  {
   "cell_type": "code",
   "execution_count": 38,
   "metadata": {},
   "outputs": [],
   "source": [
    "oofM040 = pd.read_csv('../temp/M040/temp2of8_M040_0708_1639_oof_catboost_2folds_500000iter_0.1lr.csv')"
   ]
  },
  {
   "cell_type": "code",
   "execution_count": 39,
   "metadata": {},
   "outputs": [
    {
     "data": {
      "text/plain": [
       "0.2083669457884323"
      ]
     },
     "execution_count": 39,
     "metadata": {},
     "output_type": "execute_result"
    }
   ],
   "source": [
    "#oof_final = oofM031[['id','type','scalar_coupling_constant','oof_preds']].copy()\n",
    "temp = (oofM040['oof_preds'] + oofM037['oof_preds']) / 2 #+ oofM039['oof_preds'] + oofM036['oof_preds']) / 4\n",
    "oof_final.loc[oof_final['type'] == '2JHC', 'oof_preds'] = temp.loc[oof_final['type'] == '2JHC']\n",
    "mean_absolute_error(oof_final.loc[oof_final['type'] == '2JHC']['scalar_coupling_constant'],\n",
    "                    oof_final.loc[oof_final['type'] == '2JHC']['oof_preds'])"
   ]
  },
  {
   "cell_type": "markdown",
   "metadata": {},
   "source": [
    "# 3JHH_mae_cv"
   ]
  },
  {
   "cell_type": "code",
   "execution_count": 40,
   "metadata": {},
   "outputs": [
    {
     "data": {
      "text/html": [
       "<div>\n",
       "<style scoped>\n",
       "    .dataframe tbody tr th:only-of-type {\n",
       "        vertical-align: middle;\n",
       "    }\n",
       "\n",
       "    .dataframe tbody tr th {\n",
       "        vertical-align: top;\n",
       "    }\n",
       "\n",
       "    .dataframe thead th {\n",
       "        text-align: right;\n",
       "    }\n",
       "</style>\n",
       "<table border=\"1\" class=\"dataframe\">\n",
       "  <thead>\n",
       "    <tr style=\"text-align: right;\">\n",
       "      <th></th>\n",
       "      <th>run_id</th>\n",
       "      <th>model_number</th>\n",
       "      <th>model_type</th>\n",
       "      <th>3JHH_mae_cv</th>\n",
       "    </tr>\n",
       "  </thead>\n",
       "  <tbody>\n",
       "    <tr>\n",
       "      <th>29</th>\n",
       "      <td>0707_0907</td>\n",
       "      <td>M038</td>\n",
       "      <td>catboost</td>\n",
       "      <td>0.1498</td>\n",
       "    </tr>\n",
       "    <tr>\n",
       "      <th>31</th>\n",
       "      <td>0708_1639</td>\n",
       "      <td>M040</td>\n",
       "      <td>catboost</td>\n",
       "      <td>0.1500</td>\n",
       "    </tr>\n",
       "    <tr>\n",
       "      <th>33</th>\n",
       "      <td>0709_1336</td>\n",
       "      <td>M042</td>\n",
       "      <td>catboost</td>\n",
       "      <td>0.1525</td>\n",
       "    </tr>\n",
       "    <tr>\n",
       "      <th>28</th>\n",
       "      <td>0706_2029</td>\n",
       "      <td>M037</td>\n",
       "      <td>catboost</td>\n",
       "      <td>0.1537</td>\n",
       "    </tr>\n",
       "    <tr>\n",
       "      <th>30</th>\n",
       "      <td>0708_1415</td>\n",
       "      <td>M039</td>\n",
       "      <td>catboost</td>\n",
       "      <td>0.1539</td>\n",
       "    </tr>\n",
       "    <tr>\n",
       "      <th>34</th>\n",
       "      <td>0710_2124</td>\n",
       "      <td>M043</td>\n",
       "      <td>catboost</td>\n",
       "      <td>0.1552</td>\n",
       "    </tr>\n",
       "    <tr>\n",
       "      <th>27</th>\n",
       "      <td>0705_2317</td>\n",
       "      <td>M036</td>\n",
       "      <td>catboost</td>\n",
       "      <td>0.1828</td>\n",
       "    </tr>\n",
       "    <tr>\n",
       "      <th>13</th>\n",
       "      <td>0629_1311</td>\n",
       "      <td>M025</td>\n",
       "      <td>catboost</td>\n",
       "      <td>0.1934</td>\n",
       "    </tr>\n",
       "  </tbody>\n",
       "</table>\n",
       "</div>"
      ],
      "text/plain": [
       "       run_id model_number model_type  3JHH_mae_cv\n",
       "29  0707_0907         M038   catboost       0.1498\n",
       "31  0708_1639         M040   catboost       0.1500\n",
       "33  0709_1336         M042   catboost       0.1525\n",
       "28  0706_2029         M037   catboost       0.1537\n",
       "30  0708_1415         M039   catboost       0.1539\n",
       "34  0710_2124         M043   catboost       0.1552\n",
       "27  0705_2317         M036   catboost       0.1828\n",
       "13  0629_1311         M025   catboost       0.1934"
      ]
     },
     "execution_count": 40,
     "metadata": {},
     "output_type": "execute_result"
    }
   ],
   "source": [
    "tracking.sort_values('3JHH_mae_cv')[['run_id','model_number','model_type','3JHH_mae_cv']].head(8)"
   ]
  },
  {
   "cell_type": "code",
   "execution_count": 41,
   "metadata": {},
   "outputs": [
    {
     "data": {
      "text/plain": [
       "0.1367999088241809"
      ]
     },
     "execution_count": 41,
     "metadata": {},
     "output_type": "execute_result"
    }
   ],
   "source": [
    "#oof_final = oofM031[['id','type','scalar_coupling_constant','oof_preds']].copy()\n",
    "temp = (oofM038['oof_preds'] + oofM037['oof_preds'] + oofM039['oof_preds']) / 3 #+ oofM036['oof_preds'] + oofM025['oof_preds']) / 5\n",
    "oof_final.loc[oof_final['type'] == '3JHH', 'oof_preds'] = temp.loc[oof_final['type'] == '3JHH']\n",
    "mean_absolute_error(oof_final.loc[oof_final['type'] == '3JHH']['scalar_coupling_constant'],\n",
    "                    oof_final.loc[oof_final['type'] == '3JHH']['oof_preds'])"
   ]
  },
  {
   "cell_type": "markdown",
   "metadata": {},
   "source": [
    "# 3JHC\n",
    "3JHN_mae_cv"
   ]
  },
  {
   "cell_type": "code",
   "execution_count": 42,
   "metadata": {},
   "outputs": [
    {
     "data": {
      "text/html": [
       "<div>\n",
       "<style scoped>\n",
       "    .dataframe tbody tr th:only-of-type {\n",
       "        vertical-align: middle;\n",
       "    }\n",
       "\n",
       "    .dataframe tbody tr th {\n",
       "        vertical-align: top;\n",
       "    }\n",
       "\n",
       "    .dataframe thead th {\n",
       "        text-align: right;\n",
       "    }\n",
       "</style>\n",
       "<table border=\"1\" class=\"dataframe\">\n",
       "  <thead>\n",
       "    <tr style=\"text-align: right;\">\n",
       "      <th></th>\n",
       "      <th>run_id</th>\n",
       "      <th>model_number</th>\n",
       "      <th>model_type</th>\n",
       "      <th>n_fold</th>\n",
       "      <th>3JHC_mae_cv</th>\n",
       "    </tr>\n",
       "  </thead>\n",
       "  <tbody>\n",
       "    <tr>\n",
       "      <th>37</th>\n",
       "      <td>0712_0222</td>\n",
       "      <td>M045_3JHC</td>\n",
       "      <td>catboost</td>\n",
       "      <td>2.0</td>\n",
       "      <td>0.2409</td>\n",
       "    </tr>\n",
       "    <tr>\n",
       "      <th>33</th>\n",
       "      <td>0709_1336</td>\n",
       "      <td>M042</td>\n",
       "      <td>catboost</td>\n",
       "      <td>2.0</td>\n",
       "      <td>0.2458</td>\n",
       "    </tr>\n",
       "    <tr>\n",
       "      <th>31</th>\n",
       "      <td>0708_1639</td>\n",
       "      <td>M040</td>\n",
       "      <td>catboost</td>\n",
       "      <td>2.0</td>\n",
       "      <td>0.2459</td>\n",
       "    </tr>\n",
       "    <tr>\n",
       "      <th>34</th>\n",
       "      <td>0710_2124</td>\n",
       "      <td>M043</td>\n",
       "      <td>catboost</td>\n",
       "      <td>2.0</td>\n",
       "      <td>0.2462</td>\n",
       "    </tr>\n",
       "    <tr>\n",
       "      <th>28</th>\n",
       "      <td>0706_2029</td>\n",
       "      <td>M037</td>\n",
       "      <td>catboost</td>\n",
       "      <td>2.0</td>\n",
       "      <td>0.2650</td>\n",
       "    </tr>\n",
       "    <tr>\n",
       "      <th>30</th>\n",
       "      <td>0708_1415</td>\n",
       "      <td>M039</td>\n",
       "      <td>catboost</td>\n",
       "      <td>2.0</td>\n",
       "      <td>0.2672</td>\n",
       "    </tr>\n",
       "    <tr>\n",
       "      <th>27</th>\n",
       "      <td>0705_2317</td>\n",
       "      <td>M036</td>\n",
       "      <td>catboost</td>\n",
       "      <td>2.0</td>\n",
       "      <td>0.3759</td>\n",
       "    </tr>\n",
       "    <tr>\n",
       "      <th>22</th>\n",
       "      <td>0703_2133</td>\n",
       "      <td>M032</td>\n",
       "      <td>catboost</td>\n",
       "      <td>3.0</td>\n",
       "      <td>0.3838</td>\n",
       "    </tr>\n",
       "  </tbody>\n",
       "</table>\n",
       "</div>"
      ],
      "text/plain": [
       "       run_id model_number model_type  n_fold  3JHC_mae_cv\n",
       "37  0712_0222    M045_3JHC   catboost     2.0       0.2409\n",
       "33  0709_1336         M042   catboost     2.0       0.2458\n",
       "31  0708_1639         M040   catboost     2.0       0.2459\n",
       "34  0710_2124         M043   catboost     2.0       0.2462\n",
       "28  0706_2029         M037   catboost     2.0       0.2650\n",
       "30  0708_1415         M039   catboost     2.0       0.2672\n",
       "27  0705_2317         M036   catboost     2.0       0.3759\n",
       "22  0703_2133         M032   catboost     3.0       0.3838"
      ]
     },
     "execution_count": 42,
     "metadata": {},
     "output_type": "execute_result"
    }
   ],
   "source": [
    "tracking.sort_values('3JHC_mae_cv')[['run_id','model_number','model_type','n_fold','3JHC_mae_cv']].head(8)"
   ]
  },
  {
   "cell_type": "code",
   "execution_count": 43,
   "metadata": {},
   "outputs": [],
   "source": [
    "oofM032 = pd.read_csv('../oof/M032_0703_2133_oof_lgb_3folds_-1.3405CV_5000000iter_0.1lr.csv')\n",
    "oofM027 = pd.read_csv('../oof/M027_0629_2221_oof_lgb_2folds_-1.2683CV_500000iter_0.1lr.csv')"
   ]
  },
  {
   "cell_type": "code",
   "execution_count": 44,
   "metadata": {},
   "outputs": [],
   "source": [
    "oofM039 = pd.read_csv('../temp/M039/temp7of8_M039_0708_1415_oof_catboost_2folds_50000iter_0.1lr.csv')"
   ]
  },
  {
   "cell_type": "code",
   "execution_count": 45,
   "metadata": {},
   "outputs": [],
   "source": [
    "oofM037 = pd.read_csv('../oof/M037_0706_2029_oof_catboost_2folds_-1.5106CV_500000iter_0.1lr.csv')"
   ]
  },
  {
   "cell_type": "code",
   "execution_count": 46,
   "metadata": {},
   "outputs": [],
   "source": [
    "oofM028 = pd.read_csv('../temp/M028/temp7of8_M028_0630_1258_oof_lgb_2folds_5000000iter_0.1lr.csv')"
   ]
  },
  {
   "cell_type": "code",
   "execution_count": 47,
   "metadata": {},
   "outputs": [],
   "source": [
    "oofM026 = pd.read_csv('../temp/M026/temp7of8_M026_0629_1638_oof_lgb_2folds_500000iter_0.1lr.csv')\n",
    "oofM026a = pd.read_csv('../temp/M026/temp7of8_M026_0629_1638_oof_lgb_2folds_500000iter_0.1lr.csv')\n",
    "oofM026b = pd.read_csv('../temp/M026/temp7of8_M026_0629_1637_oof_lgb_2folds_500000iter_0.1lr.csv')"
   ]
  },
  {
   "cell_type": "code",
   "execution_count": 48,
   "metadata": {},
   "outputs": [],
   "source": [
    "oofM026['oof_preds'] = (oofM026a['oof_preds'] + oofM026b['oof_preds']) / 2"
   ]
  },
  {
   "cell_type": "code",
   "execution_count": 49,
   "metadata": {},
   "outputs": [],
   "source": [
    "oofM036['oof_preds'] = pd.read_csv('../oof/M036_0705_2317_oof_catboost_2folds_-1.3767CV_300000iter_0.1lr.csv')"
   ]
  },
  {
   "cell_type": "code",
   "execution_count": 50,
   "metadata": {},
   "outputs": [
    {
     "data": {
      "text/plain": [
       "0.24526480764462527"
      ]
     },
     "execution_count": 50,
     "metadata": {},
     "output_type": "execute_result"
    }
   ],
   "source": [
    "#oof_final = oofM031[['id','type','scalar_coupling_constant','oof_preds']].copy()\n",
    "temp = (oofM037['oof_preds'] + oofM039['oof_preds']) / 2 # + oofM036['oof_preds']) / 3 # + oofM027['oof_preds'] + oofM028['oof_preds'] + oofM024['oof_preds'] + oofM026['oof_preds']) / 6\n",
    "oof_final.loc[oof_final['type'] == '3JHC', 'oof_preds'] = temp.loc[oof_final['type'] == '3JHC']\n",
    "mean_absolute_error(oof_final.loc[oof_final['type'] == '3JHC']['scalar_coupling_constant'],\n",
    "                    oof_final.loc[oof_final['type'] == '3JHC']['oof_preds'])"
   ]
  },
  {
   "cell_type": "markdown",
   "metadata": {},
   "source": [
    "# 3JHN_mae_cv"
   ]
  },
  {
   "cell_type": "code",
   "execution_count": 51,
   "metadata": {},
   "outputs": [
    {
     "data": {
      "text/html": [
       "<div>\n",
       "<style scoped>\n",
       "    .dataframe tbody tr th:only-of-type {\n",
       "        vertical-align: middle;\n",
       "    }\n",
       "\n",
       "    .dataframe tbody tr th {\n",
       "        vertical-align: top;\n",
       "    }\n",
       "\n",
       "    .dataframe thead th {\n",
       "        text-align: right;\n",
       "    }\n",
       "</style>\n",
       "<table border=\"1\" class=\"dataframe\">\n",
       "  <thead>\n",
       "    <tr style=\"text-align: right;\">\n",
       "      <th></th>\n",
       "      <th>run_id</th>\n",
       "      <th>model_number</th>\n",
       "      <th>model_type</th>\n",
       "      <th>3JHN_mae_cv</th>\n",
       "    </tr>\n",
       "  </thead>\n",
       "  <tbody>\n",
       "    <tr>\n",
       "      <th>29</th>\n",
       "      <td>0707_0907</td>\n",
       "      <td>M038</td>\n",
       "      <td>catboost</td>\n",
       "      <td>0.1147</td>\n",
       "    </tr>\n",
       "    <tr>\n",
       "      <th>31</th>\n",
       "      <td>0708_1639</td>\n",
       "      <td>M040</td>\n",
       "      <td>catboost</td>\n",
       "      <td>0.1158</td>\n",
       "    </tr>\n",
       "    <tr>\n",
       "      <th>30</th>\n",
       "      <td>0708_1415</td>\n",
       "      <td>M039</td>\n",
       "      <td>catboost</td>\n",
       "      <td>0.1160</td>\n",
       "    </tr>\n",
       "    <tr>\n",
       "      <th>28</th>\n",
       "      <td>0706_2029</td>\n",
       "      <td>M037</td>\n",
       "      <td>catboost</td>\n",
       "      <td>0.1176</td>\n",
       "    </tr>\n",
       "    <tr>\n",
       "      <th>34</th>\n",
       "      <td>0710_2124</td>\n",
       "      <td>M043</td>\n",
       "      <td>catboost</td>\n",
       "      <td>0.1199</td>\n",
       "    </tr>\n",
       "    <tr>\n",
       "      <th>32</th>\n",
       "      <td>0708_1847</td>\n",
       "      <td>M041</td>\n",
       "      <td>lgbm</td>\n",
       "      <td>0.1241</td>\n",
       "    </tr>\n",
       "    <tr>\n",
       "      <th>13</th>\n",
       "      <td>0629_1311</td>\n",
       "      <td>M025</td>\n",
       "      <td>catboost</td>\n",
       "      <td>0.1627</td>\n",
       "    </tr>\n",
       "    <tr>\n",
       "      <th>22</th>\n",
       "      <td>0703_2133</td>\n",
       "      <td>M032</td>\n",
       "      <td>catboost</td>\n",
       "      <td>0.1647</td>\n",
       "    </tr>\n",
       "  </tbody>\n",
       "</table>\n",
       "</div>"
      ],
      "text/plain": [
       "       run_id model_number model_type  3JHN_mae_cv\n",
       "29  0707_0907         M038   catboost       0.1147\n",
       "31  0708_1639         M040   catboost       0.1158\n",
       "30  0708_1415         M039   catboost       0.1160\n",
       "28  0706_2029         M037   catboost       0.1176\n",
       "34  0710_2124         M043   catboost       0.1199\n",
       "32  0708_1847         M041       lgbm       0.1241\n",
       "13  0629_1311         M025   catboost       0.1627\n",
       "22  0703_2133         M032   catboost       0.1647"
      ]
     },
     "execution_count": 51,
     "metadata": {},
     "output_type": "execute_result"
    }
   ],
   "source": [
    "tracking.sort_values('3JHN_mae_cv')[['run_id','model_number','model_type','3JHN_mae_cv']].head(8)"
   ]
  },
  {
   "cell_type": "code",
   "execution_count": 52,
   "metadata": {},
   "outputs": [],
   "source": [
    "oofM041 = pd.read_csv('../temp/M041/temp1of8_M041_0708_1847_oof_lgbm_2folds_300000iter_0.1lr.csv')"
   ]
  },
  {
   "cell_type": "code",
   "execution_count": 53,
   "metadata": {},
   "outputs": [
    {
     "data": {
      "text/plain": [
       "0.10460838260197436"
      ]
     },
     "execution_count": 53,
     "metadata": {},
     "output_type": "execute_result"
    }
   ],
   "source": [
    "#oof_final = oofM031[['id','type','scalar_coupling_constant','oof_preds']].copy()\n",
    "temp = (oofM038['oof_preds'] + oofM040['oof_preds'] + oofM039['oof_preds'] + oofM037['oof_preds'] + oofM041['oof_preds']) / 5\n",
    "oof_final.loc[oof_final['type'] == '3JHN', 'oof_preds'] = temp.loc[oof_final['type'] == '3JHN']\n",
    "mean_absolute_error(oof_final.loc[oof_final['type'] == '3JHN']['scalar_coupling_constant'],\n",
    "                    oof_final.loc[oof_final['type'] == '3JHN']['oof_preds'])"
   ]
  },
  {
   "cell_type": "markdown",
   "metadata": {},
   "source": [
    "# OVERALL OOF SCORE"
   ]
  },
  {
   "cell_type": "code",
   "execution_count": 60,
   "metadata": {},
   "outputs": [
    {
     "name": "stdout",
     "output_type": "stream",
     "text": [
      "1JHC\n",
      "0.4546840897984628\n",
      "1JHN\n",
      "0.3151774321601402\n",
      "2JHC\n",
      "0.2083669457884323\n",
      "2JHH\n",
      "0.12907211077881778\n",
      "2JHN\n",
      "0.11556027662764612\n",
      "3JHC\n",
      "0.24526480764462527\n",
      "3JHH\n",
      "0.1367999088241809\n",
      "3JHN\n",
      "0.10460838260197436\n"
     ]
    }
   ],
   "source": [
    "for i, d in oof_final.groupby('type'):\n",
    "    print(i)\n",
    "    print(mean_absolute_error(d['scalar_coupling_constant'], d['oof_preds']))"
   ]
  },
  {
   "cell_type": "code",
   "execution_count": 64,
   "metadata": {},
   "outputs": [],
   "source": [
    "oof_final['oof_preds'] = pd.to_numeric(oof_final['oof_preds'])"
   ]
  },
  {
   "cell_type": "code",
   "execution_count": 65,
   "metadata": {},
   "outputs": [
    {
     "data": {
      "text/plain": [
       "-1.6710947375556646"
      ]
     },
     "execution_count": 65,
     "metadata": {},
     "output_type": "execute_result"
    }
   ],
   "source": [
    "group_mean_log_mae(oof_final['scalar_coupling_constant'], oof_final['oof_preds'], oof_final['type'])"
   ]
  },
  {
   "cell_type": "markdown",
   "metadata": {},
   "source": [
    "# Read Submission files"
   ]
  },
  {
   "cell_type": "code",
   "execution_count": 66,
   "metadata": {},
   "outputs": [],
   "source": [
    "test = pd.read_csv('../input/test.csv')"
   ]
  },
  {
   "cell_type": "code",
   "execution_count": 67,
   "metadata": {},
   "outputs": [
    {
     "data": {
      "text/html": [
       "<div>\n",
       "<style scoped>\n",
       "    .dataframe tbody tr th:only-of-type {\n",
       "        vertical-align: middle;\n",
       "    }\n",
       "\n",
       "    .dataframe tbody tr th {\n",
       "        vertical-align: top;\n",
       "    }\n",
       "\n",
       "    .dataframe thead th {\n",
       "        text-align: right;\n",
       "    }\n",
       "</style>\n",
       "<table border=\"1\" class=\"dataframe\">\n",
       "  <thead>\n",
       "    <tr style=\"text-align: right;\">\n",
       "      <th></th>\n",
       "      <th>id</th>\n",
       "      <th>molecule_name</th>\n",
       "      <th>atom_index_0</th>\n",
       "      <th>atom_index_1</th>\n",
       "      <th>type</th>\n",
       "    </tr>\n",
       "  </thead>\n",
       "  <tbody>\n",
       "    <tr>\n",
       "      <th>0</th>\n",
       "      <td>4658147</td>\n",
       "      <td>dsgdb9nsd_000004</td>\n",
       "      <td>2</td>\n",
       "      <td>0</td>\n",
       "      <td>2JHC</td>\n",
       "    </tr>\n",
       "    <tr>\n",
       "      <th>1</th>\n",
       "      <td>4658148</td>\n",
       "      <td>dsgdb9nsd_000004</td>\n",
       "      <td>2</td>\n",
       "      <td>1</td>\n",
       "      <td>1JHC</td>\n",
       "    </tr>\n",
       "    <tr>\n",
       "      <th>2</th>\n",
       "      <td>4658149</td>\n",
       "      <td>dsgdb9nsd_000004</td>\n",
       "      <td>2</td>\n",
       "      <td>3</td>\n",
       "      <td>3JHH</td>\n",
       "    </tr>\n",
       "    <tr>\n",
       "      <th>3</th>\n",
       "      <td>4658150</td>\n",
       "      <td>dsgdb9nsd_000004</td>\n",
       "      <td>3</td>\n",
       "      <td>0</td>\n",
       "      <td>1JHC</td>\n",
       "    </tr>\n",
       "    <tr>\n",
       "      <th>4</th>\n",
       "      <td>4658151</td>\n",
       "      <td>dsgdb9nsd_000004</td>\n",
       "      <td>3</td>\n",
       "      <td>1</td>\n",
       "      <td>2JHC</td>\n",
       "    </tr>\n",
       "  </tbody>\n",
       "</table>\n",
       "</div>"
      ],
      "text/plain": [
       "        id     molecule_name  atom_index_0  atom_index_1  type\n",
       "0  4658147  dsgdb9nsd_000004             2             0  2JHC\n",
       "1  4658148  dsgdb9nsd_000004             2             1  1JHC\n",
       "2  4658149  dsgdb9nsd_000004             2             3  3JHH\n",
       "3  4658150  dsgdb9nsd_000004             3             0  1JHC\n",
       "4  4658151  dsgdb9nsd_000004             3             1  2JHC"
      ]
     },
     "execution_count": 67,
     "metadata": {},
     "output_type": "execute_result"
    }
   ],
   "source": [
    "test.head()"
   ]
  },
  {
   "cell_type": "code",
   "execution_count": 68,
   "metadata": {},
   "outputs": [],
   "source": [
    "ss = test[['id','type']].copy()\n",
    "ss['scalar_coupling_constant'] = 0"
   ]
  },
  {
   "cell_type": "code",
   "execution_count": 69,
   "metadata": {},
   "outputs": [],
   "source": [
    "subM024 = pd.read_csv('../submissions/M024_0627_1434_submission_lgb_2folds_-1.2826CV_500000iter_0.1lr.csv')\n",
    "subM025 = pd.read_csv('../submissions/M025_0629_1311_submission_lgb_2folds_-1.3265CV_500000iter_0.1lr.csv')\n",
    "subM026 = pd.read_csv('../submissions/M026_COMBINED_submission_lgb_2folds_-1.2198CV_500000iter_0.1lr.csv')\n",
    "subM027 = pd.read_csv('../submissions/M027_0629_2221_submission_lgb_2folds_-1.2683CV_500000iter_0.1lr.csv')\n",
    "subM028 = pd.read_csv('../submissions/M028_0630_1258_submission_lgb_2folds_-1.2487CV_5000000iter_0.1lr.csv')\n",
    "subM029 = pd.read_csv('../submissions/M029_0701_0819_submission_lgb_2folds_-1.2437CV_5000000iter_0.1lr.csv')\n",
    "subM030a = pd.read_csv('../temp/M030/temp4of8_M030_0701_1302_submission_lgb_3folds_5000000iter_0.05lr.csv')\n",
    "subM030b = pd.read_csv('../temp/M030/temp4of8_M030_0701_1304_submission_lgb_3folds_5000000iter_0.05lr.csv')\n",
    "subM030c = pd.read_csv('../temp/M030/temp4of8_M030_0701_1300_submission_lgb_3folds_5000000iter_0.05lr.csv')\n",
    "subM044 = pd.read_csv('../submissions/M044_0711_1936_submission_lgb_2folds_1.3506CV_500000iter_0.1lr.csv')\n",
    "subM030 = subM030a.copy()\n",
    "subM030['scalar_coupling_constant'] = (subM030a['scalar_coupling_constant'] + subM030b['scalar_coupling_constant'] + subM030c['scalar_coupling_constant']) / 3\n",
    "subM031 = pd.read_csv('../temp/M031/temp4of8_M031_0702_0822_submission_lgb_3folds_5000000iter_0.05lr.csv')\n",
    "subM032 = pd.read_csv('../temp/M032/temp7of8_M032_0703_2133_submission_lgb_3folds_5000000iter_0.1lr.csv')\n",
    "subM035 = pd.read_csv('../temp/M035/temp3of8_M035_0704_2344_submission_lgbm_2folds_500000iter_0.01lr.csv')\n",
    "\n",
    "subM031 = pd.read_csv('../temp/M031/temp4of8_M031_0702_0822_submission_lgb_3folds_5000000iter_0.05lr.csv')\n",
    "subM037 = pd.read_csv('../submissions/M037_0706_2029_submission_lgb_2folds_-1.5106CV_500000iter_0.1lr.csv')\n",
    "subM038 = pd.read_csv('../temp/M038/temp6of8_M038_0707_0907_submission_catboost_2folds_500000iter_0.08lr.csv')\n",
    "subM039 = pd.read_csv('../submissions/M039_0708_1415_submission_lgb_2folds_-1.4994CV_50000iter_0.1lr.csv')\n",
    "subM036 = pd.read_csv('../submissions/M036_0705_2317_submission_lgb_2folds_-1.3767CV_300000iter_0.1lr.csv')\n",
    "\n",
    "subM040 = pd.read_csv('../temp/M040/temp2of8_M040_0708_1639_submission_catboost_2folds_500000iter_0.1lr.csv')\n",
    "subM041 = pd.read_csv('../temp/M041/temp1of8_M041_0708_1847_submission_lgbm_2folds_300000iter_0.1lr.csv')"
   ]
  },
  {
   "cell_type": "code",
   "execution_count": 74,
   "metadata": {},
   "outputs": [],
   "source": [
    "subM046 = pd.read_parquet('../type_results/1JHC/M046_1JHC_0712_2026_sub_0.4976_catboost_2folds_500000iter_0.1lr.parquet')"
   ]
  },
  {
   "cell_type": "code",
   "execution_count": 77,
   "metadata": {},
   "outputs": [],
   "source": [
    "subM044 = pd.read_parquet('../type_results/1JHC/M044_0711_1936_sub_0.5376_catboost_2folds_500000iter_0.1lr.parquet')"
   ]
  },
  {
   "cell_type": "code",
   "execution_count": 79,
   "metadata": {},
   "outputs": [],
   "source": [
    "subM045 = pd.read_parquet('../type_results/1JHC/M045_1JHC_0711_2313_sub_0.5244_catboost_2folds_500000iter_0.1lr.parquet')"
   ]
  },
  {
   "cell_type": "code",
   "execution_count": 81,
   "metadata": {},
   "outputs": [],
   "source": [
    "# 1JHC\n",
    "ss.loc[ss['type'] == '1JHC', 'scalar_coupling_constant'] = (3 * subM046['prediction']\n",
    "                                                           + subM031['scalar_coupling_constant']\n",
    "                                                           + subM045['prediction']\n",
    "                                                          + subM044.loc[subM044['type'] == '1JHC']['prediction']) / 6\n",
    "\n",
    "# 2JHH\n",
    "#temp = (oofM038['oof_preds'] + oofM039['oof_preds'] + oofM037['oof_preds'] + oofM036['oof_preds']) / 4\n",
    "temp = (subM038['scalar_coupling_constant'] + subM039['scalar_coupling_constant'] + subM037['scalar_coupling_constant'] + subM036['scalar_coupling_constant']) / 4\n",
    "ss.loc[ss['type'] == '2JHH', 'scalar_coupling_constant'] = temp.loc[ss['type'] == '2JHH']\n",
    "# 1JHN\n",
    "#temp = (oofM030['oof_preds'] + oofM035['oof_preds'] + oofM036['oof_preds'] + oofM038['oof_preds']) / 4\n",
    "temp = (subM030['scalar_coupling_constant'] + subM035['scalar_coupling_constant'] + subM036['scalar_coupling_constant'] + subM038['scalar_coupling_constant']) / 4\n",
    "ss.loc[ss['type'] == '1JHN', 'scalar_coupling_constant'] = temp.loc[ss['type'] == '1JHN']\n",
    "# 2JHN\n",
    "#temp = (oofM031['oof_preds'] + oofM038['oof_preds'] + oofM030['oof_preds'] + oofM025['oof_preds']) / 4\n",
    "temp = (subM031['scalar_coupling_constant'] + subM038['scalar_coupling_constant'] + subM030['scalar_coupling_constant'] + subM025['scalar_coupling_constant']) / 4\n",
    "ss.loc[ss['type'] == '2JHN', 'scalar_coupling_constant'] = temp.loc[ss['type'] == '2JHN']\n",
    "# 2JHC\n",
    "#temp = (oofM040['oof_preds'] + oofM037['oof_preds']) / 2\n",
    "temp = (subM040['scalar_coupling_constant'] + subM037['scalar_coupling_constant']) / 2\n",
    "ss.loc[ss['type'] == '2JHC', 'scalar_coupling_constant'] = temp.loc[ss['type'] == '2JHC']\n",
    "# 3JHH\n",
    "#temp = (oofM038['oof_preds'] + oofM037['oof_preds'] + oofM039['oof_preds']) / 3\n",
    "temp = (subM038['scalar_coupling_constant'] + subM037['scalar_coupling_constant'] + subM039['scalar_coupling_constant']) / 3\n",
    "ss.loc[ss['type'] == '3JHH', 'scalar_coupling_constant'] = temp.loc[ss['type'] == '3JHH']\n",
    "# 3JHC\n",
    "# temp = (oofM037['oof_preds'] + oofM039['oof_preds']) / 2 # + oofM036['oof_preds']) / 3\n",
    "temp = (subM037['scalar_coupling_constant'] + subM039['scalar_coupling_constant'] + subM036['scalar_coupling_constant']) / 3\n",
    "ss.loc[ss['type'] == '3JHC', 'scalar_coupling_constant'] = temp.loc[ss['type'] == '3JHC']\n",
    "# 3JHN\n",
    "#temp = (oofM038['oof_preds'] + oofM040['oof_preds'] + oofM039['oof_preds'] + oofM037['oof_preds'] + oofM041['oof_preds']) / 5\n",
    "temp = (subM038['scalar_coupling_constant'] + subM040['scalar_coupling_constant'] + subM039['scalar_coupling_constant'] + subM037['scalar_coupling_constant'] + subM041['scalar_coupling_constant']) / 5\n",
    "ss.loc[ss['type'] == '3JHN', 'scalar_coupling_constant'] = temp.loc[ss['type'] == '3JHN']\n"
   ]
  },
  {
   "cell_type": "code",
   "execution_count": 82,
   "metadata": {},
   "outputs": [],
   "source": [
    "ss['scalar_coupling_constant_good'] = subM025['scalar_coupling_constant']"
   ]
  },
  {
   "cell_type": "code",
   "execution_count": 83,
   "metadata": {},
   "outputs": [
    {
     "data": {
      "text/html": [
       "<div>\n",
       "<style scoped>\n",
       "    .dataframe tbody tr th:only-of-type {\n",
       "        vertical-align: middle;\n",
       "    }\n",
       "\n",
       "    .dataframe tbody tr th {\n",
       "        vertical-align: top;\n",
       "    }\n",
       "\n",
       "    .dataframe thead th {\n",
       "        text-align: right;\n",
       "    }\n",
       "</style>\n",
       "<table border=\"1\" class=\"dataframe\">\n",
       "  <thead>\n",
       "    <tr style=\"text-align: right;\">\n",
       "      <th></th>\n",
       "      <th>scalar_coupling_constant</th>\n",
       "      <th>scalar_coupling_constant_good</th>\n",
       "    </tr>\n",
       "  </thead>\n",
       "  <tbody>\n",
       "    <tr>\n",
       "      <th>scalar_coupling_constant</th>\n",
       "      <td>1.000000</td>\n",
       "      <td>0.999938</td>\n",
       "    </tr>\n",
       "    <tr>\n",
       "      <th>scalar_coupling_constant_good</th>\n",
       "      <td>0.999938</td>\n",
       "      <td>1.000000</td>\n",
       "    </tr>\n",
       "  </tbody>\n",
       "</table>\n",
       "</div>"
      ],
      "text/plain": [
       "                               scalar_coupling_constant  \\\n",
       "scalar_coupling_constant                       1.000000   \n",
       "scalar_coupling_constant_good                  0.999938   \n",
       "\n",
       "                               scalar_coupling_constant_good  \n",
       "scalar_coupling_constant                            0.999938  \n",
       "scalar_coupling_constant_good                       1.000000  "
      ]
     },
     "execution_count": 83,
     "metadata": {},
     "output_type": "execute_result"
    }
   ],
   "source": [
    "ss[['scalar_coupling_constant','scalar_coupling_constant_good']].corr()"
   ]
  },
  {
   "cell_type": "code",
   "execution_count": 86,
   "metadata": {},
   "outputs": [
    {
     "data": {
      "image/png": "[encoded data removed]",
      "text/plain": [
       "<Figure size 360x360 with 1 Axes>"
      ]
     },
     "metadata": {
      "needs_background": "light"
     },
     "output_type": "display_data"
    },
    {
     "data": {
      "image/png": "[encoded data removed]",
      "text/plain": [
       "<Figure size 360x360 with 1 Axes>"
      ]
     },
     "metadata": {
      "needs_background": "light"
     },
     "output_type": "display_data"
    },
    {
     "data": {
      "image/png": "[encoded data removed]",
      "text/plain": [
       "<Figure size 360x360 with 1 Axes>"
      ]
     },
     "metadata": {
      "needs_background": "light"
     },
     "output_type": "display_data"
    },
    {
     "data": {
      "image/png": "[encoded data removed]",
      "text/plain": [
       "<Figure size 360x360 with 1 Axes>"
      ]
     },
     "metadata": {
      "needs_background": "light"
     },
     "output_type": "display_data"
    },
    {
     "data": {
      "image/png": "[encoded data removed]",
      "text/plain": [
       "<Figure size 360x360 with 1 Axes>"
      ]
     },
     "metadata": {
      "needs_background": "light"
     },
     "output_type": "display_data"
    },
    {
     "data": {
      "image/png": "[encoded data removed]",
      "text/plain": [
       "<Figure size 360x360 with 1 Axes>"
      ]
     },
     "metadata": {
      "needs_background": "light"
     },
     "output_type": "display_data"
    },
    {
     "data": {
      "image/png": "[encoded data removed]",
      "text/plain": [
       "<Figure size 360x360 with 1 Axes>"
      ]
     },
     "metadata": {
      "needs_background": "light"
     },
     "output_type": "display_data"
    },
    {
     "data": {
      "image/png": "[encoded data removed]",
      "text/plain": [
       "<Figure size 360x360 with 1 Axes>"
      ]
     },
     "metadata": {
      "needs_background": "light"
     },
     "output_type": "display_data"
    }
   ],
   "source": [
    "import matplotlib.pylab as plt\n",
    "for i, d in ss.groupby('type'):\n",
    "    d.plot(x='scalar_coupling_constant', y='scalar_coupling_constant_good', kind='scatter', figsize=(5, 5), title=i)\n",
    "    plt.show()"
   ]
  },
  {
   "cell_type": "code",
   "execution_count": 87,
   "metadata": {},
   "outputs": [],
   "source": [
    "ss[['id','scalar_coupling_constant']].to_csv('../submissions/BLEND007_submission_-1.6710CV_Jul12best.csv', index=False)"
   ]
  },
  {
   "cell_type": "code",
   "execution_count": 88,
   "metadata": {},
   "outputs": [
    {
     "data": {
      "text/html": [
       "<div>\n",
       "<style scoped>\n",
       "    .dataframe tbody tr th:only-of-type {\n",
       "        vertical-align: middle;\n",
       "    }\n",
       "\n",
       "    .dataframe tbody tr th {\n",
       "        vertical-align: top;\n",
       "    }\n",
       "\n",
       "    .dataframe thead th {\n",
       "        text-align: right;\n",
       "    }\n",
       "</style>\n",
       "<table border=\"1\" class=\"dataframe\">\n",
       "  <thead>\n",
       "    <tr style=\"text-align: right;\">\n",
       "      <th></th>\n",
       "      <th>id</th>\n",
       "      <th>type</th>\n",
       "      <th>scalar_coupling_constant</th>\n",
       "      <th>scalar_coupling_constant_good</th>\n",
       "    </tr>\n",
       "  </thead>\n",
       "  <tbody>\n",
       "    <tr>\n",
       "      <th>0</th>\n",
       "      <td>4658147</td>\n",
       "      <td>2JHC</td>\n",
       "      <td>14.523820</td>\n",
       "      <td>8.873624</td>\n",
       "    </tr>\n",
       "    <tr>\n",
       "      <th>1</th>\n",
       "      <td>4658148</td>\n",
       "      <td>1JHC</td>\n",
       "      <td>177.894415</td>\n",
       "      <td>134.914493</td>\n",
       "    </tr>\n",
       "    <tr>\n",
       "      <th>2</th>\n",
       "      <td>4658149</td>\n",
       "      <td>3JHH</td>\n",
       "      <td>7.272819</td>\n",
       "      <td>3.716820</td>\n",
       "    </tr>\n",
       "    <tr>\n",
       "      <th>3</th>\n",
       "      <td>4658150</td>\n",
       "      <td>1JHC</td>\n",
       "      <td>177.320175</td>\n",
       "      <td>134.914493</td>\n",
       "    </tr>\n",
       "    <tr>\n",
       "      <th>4</th>\n",
       "      <td>4658151</td>\n",
       "      <td>2JHC</td>\n",
       "      <td>14.029738</td>\n",
       "      <td>8.873624</td>\n",
       "    </tr>\n",
       "  </tbody>\n",
       "</table>\n",
       "</div>"
      ],
      "text/plain": [
       "        id  type  scalar_coupling_constant  scalar_coupling_constant_good\n",
       "0  4658147  2JHC                 14.523820                       8.873624\n",
       "1  4658148  1JHC                177.894415                     134.914493\n",
       "2  4658149  3JHH                  7.272819                       3.716820\n",
       "3  4658150  1JHC                177.320175                     134.914493\n",
       "4  4658151  2JHC                 14.029738                       8.873624"
      ]
     },
     "execution_count": 88,
     "metadata": {},
     "output_type": "execute_result"
    }
   ],
   "source": [
    "ss.head()"
   ]
  },
  {
   "cell_type": "code",
   "execution_count": 89,
   "metadata": {},
   "outputs": [],
   "source": [
    "oof_final.to_csv('../oof/BLEND007_oof_-1.6710CV_Jul11best.csv')"
   ]
  }
 ],
 "metadata": {
  "kernelspec": {
   "display_name": "Python 3",
   "language": "python",
   "name": "python3"
  },
  "language_info": {
   "codemirror_mode": {
    "name": "ipython",
    "version": 3
   },
   "file_extension": ".py",
   "mimetype": "text/x-python",
   "name": "python",
   "nbconvert_exporter": "python",
   "pygments_lexer": "ipython3",
   "version": "3.6.8"
  }
 },
 "nbformat": 4,
 "nbformat_minor": 4
}
