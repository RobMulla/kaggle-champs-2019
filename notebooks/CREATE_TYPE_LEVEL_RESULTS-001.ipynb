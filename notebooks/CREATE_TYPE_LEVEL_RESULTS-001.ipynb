{
 "cells": [
  {
   "cell_type": "code",
   "execution_count": 1,
   "metadata": {},
   "outputs": [],
   "source": [
    "import pandas as pd\n",
    "import os\n",
    "from tqdm import tqdm\n",
    "from sklearn.metrics import mean_absolute_error\n",
    "import numpy as np\n",
    "def group_mean_log_mae(y_true, y_pred, groups, floor=1e-9):\n",
    "    maes = (y_true-y_pred).abs().groupby(groups).mean()\n",
    "    return np.log(maes.map(lambda x: max(x, floor))).mean()\n",
    "%matplotlib inline\n",
    "\n",
    "test = pd.read_csv('../input/test.csv')"
   ]
  },
  {
   "cell_type": "code",
   "execution_count": 13,
   "metadata": {},
   "outputs": [],
   "source": [
    "# # Loop through each file. Make sure it's only the type that is saved in the results file\n",
    "# for fold in tqdm(os.listdir('../type_results/')):\n",
    "#     for file in os.listdir(f'../type_results/{fold}'):\n",
    "#         if 'sub' in file:\n",
    "#             df = df.loc[df['type'] == fold]\n",
    "#             df.to_parquet(f'../type_results/{fold}/{file}')"
   ]
  },
  {
   "cell_type": "code",
   "execution_count": 14,
   "metadata": {},
   "outputs": [],
   "source": [
    "def save_res_types_folder(type_, oof, sub, fi, file):\n",
    "    \"\"\"\n",
    "    Saves the oof, sub, and fi files int he type_results folder with correct naming convention\n",
    "    \"\"\"\n",
    "    model_name_runid = file.split('_oof')[0]\n",
    "    for exist_file in os.listdir(f'../type_results/{type_}/'):\n",
    "        # Check to see if results already list\n",
    "        if model_name_runid in exist_file:\n",
    "            if 'LMAE' is exist_file:\n",
    "                print('file {exist_file} already exists')\n",
    "                return\n",
    "\n",
    "    oof_type = oof.loc[oof['type'] == type_]\n",
    "    score = mean_absolute_error(oof_type['scalar_coupling_constant'],oof_type['oof_preds'])\n",
    "    logscore = np.log(score)\n",
    "    if score > 1:\n",
    "        print(f'No predictions for {type_}')\n",
    "        return\n",
    "    print(f'===== running for type {type_} - mae {score} - log mae {logscore}')\n",
    "    \n",
    "    oof_type = oof.loc[oof['type'] == type_]\n",
    "    \n",
    "    sub_type = test[['id','molecule_name','type']].merge(sub, on='id')\n",
    "    sub_type = sub_type.loc[sub_type['type'] == type_]\n",
    "    if np.sum(sub_type['scalar_coupling_constant'] == 0) > 10:\n",
    "        print('ERROR! Sub has to many zero predictions')\n",
    "        return\n",
    "    expected_len = len(test.loc[test['type'] == type_])\n",
    "    if expected_len != len(sub_type):\n",
    "        print(\"ERRROR LENGTHS NOT THE SAME\")\n",
    "        return\n",
    "        \n",
    "    # Name Files and save\n",
    "    model_type = file.split('_oof')[1].split('_')[1]\n",
    "    nfolds = [x for x in file.split('_oof')[1].split('_') if 'fold' in x][0]\n",
    "    niter = [x for x in file.split('_oof')[1].split('_') if 'iter' in x][0]\n",
    "    lr = [x for x in file.split('_oof')[1].split('_') if 'lr' in x][0].replace('.csv','')\n",
    "    fn_template = '../type_results/{}/{}_{}_XXXXXXX_{:0.4f}MAE_{:0.4}LMAE_{}_{}_{}_{}.parquet'.format(type_,\n",
    "                                                                                                      model_name_runid,\n",
    "                                                                                                      type_,\n",
    "                                                                                                      score,\n",
    "                                                                                                      logscore,\n",
    "                                                                                                      model_type,\n",
    "                                                                                                      nfolds,\n",
    "                                                                                                       niter,\n",
    "                                                                                                       lr)\n",
    "    sub_name = fn_template.replace('XXXXXXX','submission')\n",
    "    oof_name = fn_template.replace('XXXXXXX','oof')\n",
    "\n",
    "    print(sub_name)\n",
    "    print(oof_name)\n",
    "    sub_type.to_parquet(sub_name)\n",
    "    oof_type.to_parquet(oof_name)\n",
    "\n",
    "    if fi is not None:\n",
    "        fi_type = fi.loc[fi['type'] == type_]\n",
    "        fi_name = fn_template.replace('XXXXXXX','fi')\n",
    "        print(fi_name)\n",
    "        fi_type.to_parquet(fi_name)"
   ]
  },
  {
   "cell_type": "code",
   "execution_count": 17,
   "metadata": {},
   "outputs": [
    {
     "name": "stderr",
     "output_type": "stream",
     "text": [
      "\n",
      "  0%|          | 0/72 [00:00<?, ?it/s]\u001b[A"
     ]
    },
    {
     "name": "stdout",
     "output_type": "stream",
     "text": [
      "====== Running for file M047_0714_2226_oof_catboost_3folds_-1.7577CV_500000iter_0.1lr.csv\n",
      "M047_0714_2226_oof_catboost_3folds_-1.7577CV_500000iter_0.1lr.csv\n",
      "===== running for type 1JHC - mae 0.4503699367015481 - log mae -0.7976859523827422\n",
      "../type_results/1JHC/M047_0714_2226_1JHC_submission_0.4504MAE_-0.7977LMAE_catboost_3folds_500000iter_0.1lr.parquet\n",
      "../type_results/1JHC/M047_0714_2226_1JHC_oof_0.4504MAE_-0.7977LMAE_catboost_3folds_500000iter_0.1lr.parquet\n",
      "../type_results/1JHC/M047_0714_2226_1JHC_fi_0.4504MAE_-0.7977LMAE_catboost_3folds_500000iter_0.1lr.parquet\n",
      "===== running for type 2JHH - mae 0.10975865602221349 - log mae -2.2094713597751054\n",
      "../type_results/2JHH/M047_0714_2226_2JHH_submission_0.1098MAE_-2.209LMAE_catboost_3folds_500000iter_0.1lr.parquet\n",
      "../type_results/2JHH/M047_0714_2226_2JHH_oof_0.1098MAE_-2.209LMAE_catboost_3folds_500000iter_0.1lr.parquet\n",
      "../type_results/2JHH/M047_0714_2226_2JHH_fi_0.1098MAE_-2.209LMAE_catboost_3folds_500000iter_0.1lr.parquet\n",
      "===== running for type 1JHN - mae 0.3275648329377529 - log mae -1.1160692803302417\n",
      "../type_results/1JHN/M047_0714_2226_1JHN_submission_0.3276MAE_-1.116LMAE_catboost_3folds_500000iter_0.1lr.parquet\n",
      "../type_results/1JHN/M047_0714_2226_1JHN_oof_0.3276MAE_-1.116LMAE_catboost_3folds_500000iter_0.1lr.parquet\n",
      "../type_results/1JHN/M047_0714_2226_1JHN_fi_0.3276MAE_-1.116LMAE_catboost_3folds_500000iter_0.1lr.parquet\n",
      "===== running for type 2JHN - mae 0.11998399872086996 - log mae -2.120396889083942\n",
      "../type_results/2JHN/M047_0714_2226_2JHN_submission_0.1200MAE_-2.12LMAE_catboost_3folds_500000iter_0.1lr.parquet\n",
      "../type_results/2JHN/M047_0714_2226_2JHN_oof_0.1200MAE_-2.12LMAE_catboost_3folds_500000iter_0.1lr.parquet\n",
      "../type_results/2JHN/M047_0714_2226_2JHN_fi_0.1200MAE_-2.12LMAE_catboost_3folds_500000iter_0.1lr.parquet\n",
      "===== running for type 2JHC - mae 0.17372169526194634 - log mae -1.7503007127749062\n",
      "../type_results/2JHC/M047_0714_2226_2JHC_submission_0.1737MAE_-1.75LMAE_catboost_3folds_500000iter_0.1lr.parquet\n",
      "../type_results/2JHC/M047_0714_2226_2JHC_oof_0.1737MAE_-1.75LMAE_catboost_3folds_500000iter_0.1lr.parquet\n",
      "../type_results/2JHC/M047_0714_2226_2JHC_fi_0.1737MAE_-1.75LMAE_catboost_3folds_500000iter_0.1lr.parquet\n",
      "===== running for type 3JHH - mae 0.12251207685277472 - log mae -2.099545667303427\n",
      "../type_results/3JHH/M047_0714_2226_3JHH_submission_0.1225MAE_-2.1LMAE_catboost_3folds_500000iter_0.1lr.parquet\n",
      "../type_results/3JHH/M047_0714_2226_3JHH_oof_0.1225MAE_-2.1LMAE_catboost_3folds_500000iter_0.1lr.parquet\n",
      "../type_results/3JHH/M047_0714_2226_3JHH_fi_0.1225MAE_-2.1LMAE_catboost_3folds_500000iter_0.1lr.parquet\n",
      "===== running for type 3JHC - mae 0.1995325354909728 - log mae -1.6117779707813757\n",
      "../type_results/3JHC/M047_0714_2226_3JHC_submission_0.1995MAE_-1.612LMAE_catboost_3folds_500000iter_0.1lr.parquet\n",
      "../type_results/3JHC/M047_0714_2226_3JHC_oof_0.1995MAE_-1.612LMAE_catboost_3folds_500000iter_0.1lr.parquet\n",
      "../type_results/3JHC/M047_0714_2226_3JHC_fi_0.1995MAE_-1.612LMAE_catboost_3folds_500000iter_0.1lr.parquet\n",
      "===== running for type 3JHN - mae 0.09479424117630902 - log mae -2.3560466186516877\n"
     ]
    },
    {
     "name": "stderr",
     "output_type": "stream",
     "text": [
      "\n",
      "  6%|▌         | 4/72 [00:15<04:29,  3.96s/it]\u001b[A\n",
      "100%|██████████| 72/72 [00:15<00:00,  4.55it/s]\u001b[A"
     ]
    },
    {
     "name": "stdout",
     "output_type": "stream",
     "text": [
      "../type_results/3JHN/M047_0714_2226_3JHN_submission_0.0948MAE_-2.356LMAE_catboost_3folds_500000iter_0.1lr.parquet\n",
      "../type_results/3JHN/M047_0714_2226_3JHN_oof_0.0948MAE_-2.356LMAE_catboost_3folds_500000iter_0.1lr.parquet\n",
      "../type_results/3JHN/M047_0714_2226_3JHN_fi_0.0948MAE_-2.356LMAE_catboost_3folds_500000iter_0.1lr.parquet\n",
      "====== Running for file MERGE014_oof_M046_M047_-1.7313CV.csv\n"
     ]
    }
   ],
   "source": [
    "types = ['1JHC', '2JHH', '1JHN', '2JHN', '2JHC','3JHH','3JHC', '3JHN']\n",
    "\n",
    "for file in tqdm(os.listdir('../oof/')):\n",
    "    if 'M047' in file:\n",
    "        print(f'====== Running for file {file}')\n",
    "        if 'MERGE' not in file:\n",
    "            print(file)\n",
    "            oof = pd.read_csv(f'../oof/{file}')\n",
    "            sub = pd.read_csv('../submissions/{}'.format(file.replace('oof','submission').replace('catboost','lgb')))\n",
    "            for fi_file in os.listdir('../fi/'):\n",
    "                if file.split('_oof')[0] in fi_file:\n",
    "                    #print(f'found it {fi_file}')\n",
    "                    try:\n",
    "                        fi = pd.read_csv(f'../fi/{fi_file}')\n",
    "                    except:\n",
    "                        print(f'Cant read fi file {fi_file}')\n",
    "            for type_ in types:\n",
    "                save_res_types_folder(type_, oof, sub, fi, file)"
   ]
  },
  {
   "cell_type": "code",
   "execution_count": null,
   "metadata": {},
   "outputs": [],
   "source": [
    "# for folder in tqdm(os.listdir('../temp/')):\n",
    "#     for file in os.listdir(f'../temp/{folder}/'):\n",
    "#         if 'M047' in file:\n",
    "#             if 'oof' in file:\n",
    "#                 for type_ in types:\n",
    "#                     oof = pd.read_csv(f'../temp/{folder}/{file}') \n",
    "#                     sub = pd.read_csv('../temp/{}/{}'.format(folder, file.replace('oof','submission')))\n",
    "#                     try:\n",
    "#                         fi = pd.read_csv('../temp/{}/{}'.format(folder, file.replace('oof','fi'))) \n",
    "#                     except:\n",
    "#                         print('No feature importance')\n",
    "#                         fi = None\n",
    "#                     file_new = '_'.join(file.split('_')[1:])\n",
    "#                     save_res_types_folder(type_, oof, sub, fi, file_new)"
   ]
  },
  {
   "cell_type": "code",
   "execution_count": 15,
   "metadata": {},
   "outputs": [
    {
     "name": "stderr",
     "output_type": "stream",
     "text": [
      "  0%|          | 0/44 [00:00<?, ?it/s]"
     ]
    },
    {
     "name": "stdout",
     "output_type": "stream",
     "text": [
      "No predictions for 3JHN\n",
      "No predictions for 3JHN\n",
      "No predictions for 3JHN\n",
      "No predictions for 3JHN\n",
      "No predictions for 3JHN\n",
      "No predictions for 3JHN\n"
     ]
    },
    {
     "name": "stderr",
     "output_type": "stream",
     "text": [
      "100%|██████████| 44/44 [00:18<00:00,  2.37it/s]"
     ]
    },
    {
     "name": "stdout",
     "output_type": "stream",
     "text": [
      "No predictions for 3JHN\n"
     ]
    },
    {
     "name": "stderr",
     "output_type": "stream",
     "text": [
      "\n"
     ]
    }
   ],
   "source": [
    "# # types = ['1JHC', '2JHH', '1JHN', '2JHN', '2JHC','3JHH','3JHC', '3JHN']\n",
    "# types = ['3JHN']\n",
    "# # Pick up where we left off\n",
    "# for folder in tqdm(os.listdir('../temp/')):\n",
    "#     for file in os.listdir(f'../temp/{folder}/'):\n",
    "#         if 'M047' in file:\n",
    "#             if 'oof' in file:\n",
    "#                 for type_ in types:\n",
    "#                     oof = pd.read_csv(f'../temp/{folder}/{file}') \n",
    "#                     sub = pd.read_csv('../temp/{}/{}'.format(folder, file.replace('oof','submission')))\n",
    "#                     try:\n",
    "#                         fi = pd.read_csv('../temp/{}/{}'.format(folder, file.replace('oof','fi'))) \n",
    "#                     except:\n",
    "#                         print('No feature importance')\n",
    "#                         fi = None\n",
    "#                     file_new = '_'.join(file.split('_')[1:])\n",
    "#                     save_res_types_folder(type_, oof, sub, fi, file_new)"
   ]
  },
  {
   "cell_type": "code",
   "execution_count": 6,
   "metadata": {},
   "outputs": [],
   "source": [
    "# types = ['1JHC', '2JHH', '1JHN', '2JHN', '2JHC','3JHH','3JHC', '3JHN']\n",
    "\n",
    "# for file in tqdm(os.listdir('../oof/')):\n",
    "#     if 'M046' in file:\n",
    "#         print(f'====== Running for file {file}')\n",
    "#         if 'MERGE' not in file:\n",
    "#             print(file)\n",
    "#             oof = pd.read_csv(f'../oof/{file}')\n",
    "#             sub = pd.read_csv('../submissions/{}'.format(file.replace('oof','submission').replace('catboost','lgb')))\n",
    "#             for fi_file in os.listdir('../fi/'):\n",
    "#                 if file.split('_oof')[0] in fi_file:\n",
    "#                     #print(f'found it {fi_file}')\n",
    "#                     try:\n",
    "#                         fi = pd.read_csv(f'../fi/{fi_file}')\n",
    "#                     except:\n",
    "#                         print(f'Cant read fi file {fi_file}')\n",
    "#             for type_ in types:\n",
    "#                 save_res_types_folder(type_, oof, sub, fi, file)"
   ]
  },
  {
   "cell_type": "code",
   "execution_count": null,
   "metadata": {},
   "outputs": [],
   "source": []
  }
 ],
 "metadata": {
  "kernelspec": {
   "display_name": "Python 3",
   "language": "python",
   "name": "python3"
  },
  "language_info": {
   "codemirror_mode": {
    "name": "ipython",
    "version": 3
   },
   "file_extension": ".py",
   "mimetype": "text/x-python",
   "name": "python",
   "nbconvert_exporter": "python",
   "pygments_lexer": "ipython3",
   "version": "3.6.8"
  }
 },
 "nbformat": 4,
 "nbformat_minor": 4
}
