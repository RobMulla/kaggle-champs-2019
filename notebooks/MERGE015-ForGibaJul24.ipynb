{
 "cells": [
  {
   "cell_type": "markdown",
   "metadata": {},
   "source": [
    "# Merge Predictions and OOF for Giba"
   ]
  },
  {
   "cell_type": "code",
   "execution_count": 2,
   "metadata": {},
   "outputs": [],
   "source": [
    "import pandas as pd\n",
    "import os"
   ]
  },
  {
   "cell_type": "code",
   "execution_count": 4,
   "metadata": {},
   "outputs": [
    {
     "name": "stdout",
     "output_type": "stream",
     "text": [
      "====== Running for type 1JHC ========\n",
      "M048_0718_1745_1JHC_sub_0.4379MAE_-0.8258LMAE_catboost_3folds_500000iter_0.1lr.parquet\n",
      "M049_0721_0839_1JHC_sub_0.4534MAE_-0.791LMAE_xgboost_3folds_500000iter_0.05lr.parquet\n",
      "M047_0714_2226_1JHC_submission_0.4504MAE_-0.7977LMAE_catboost_3folds_500000iter_0.1lr.parquet\n",
      "====== Running for type 2JHH ========\n",
      "M047_0714_2226_2JHH_submission_0.1098MAE_-2.209LMAE_catboost_3folds_500000iter_0.1lr.parquet\n",
      "M049_0719_1817_2JHH_sub_0.1159MAE_-2.155LMAE_xgboost_3folds_100000iter_0.1lr.parquet\n",
      "M050_0721_2252_2JHH_sub_0.1190MAE_-2.129LMAE_xgboost_3folds_500000iter_0.005lr.parquet\n",
      "M048_0717_2239_2JHH_sub_0.1020MAE_-2.282LMAE_catboost_3folds_500000iter_0.1lr.parquet\n",
      "====== Running for type 1JHN ========\n",
      "M049_0719_2005_1JHN_sub_0.2565MAE_-1.361LMAE_xgboost_3folds_100000iter_0.005lr.parquet\n",
      "M047_0714_2226_1JHN_submission_0.3276MAE_-1.116LMAE_catboost_3folds_500000iter_0.1lr.parquet\n",
      "M048_0717_2239_1JHN_sub_0.3367MAE_-1.089LMAE_catboost_3folds_500000iter_0.1lr.parquet\n",
      "M050_0721_2252_1JHN_sub_0.3351MAE_-1.093LMAE_xgboost_3folds_500000iter_0.005lr.parquet\n",
      "====== Running for type 2JHN ========\n",
      "M048_0718_1745_2JHN_sub_0.1246MAE_-2.082LMAE_catboost_3folds_500000iter_0.1lr.parquet\n",
      "M047_0714_2226_2JHN_submission_0.1200MAE_-2.12LMAE_catboost_3folds_500000iter_0.1lr.parquet\n",
      "M050_0721_2252_2JHN_sub_0.1237MAE_-2.09LMAE_xgboost_3folds_500000iter_0.005lr.parquet\n",
      "M049_0720_0044_2JHN_sub_0.1204MAE_-2.117LMAE_xgboost_3folds_50000iter_0.01lr.parquet\n",
      "====== Running for type 2JHC ========\n",
      "M047_0714_2226_2JHC_submission_0.1737MAE_-1.75LMAE_catboost_3folds_500000iter_0.1lr.parquet\n",
      "M049_0721_0838_2JHC_sub_0.1785MAE_-1.723LMAE_xgboost_3folds_500000iter_0.05lr.parquet\n",
      "M048_0720_0646_2JHC_sub_0.1761MAE_-1.737LMAE_catboost_3folds_500000iter_0.1lr.parquet\n",
      "====== Running for type 3JHH ========\n",
      "M047_0714_2226_3JHH_submission_0.1225MAE_-2.1LMAE_catboost_3folds_500000iter_0.1lr.parquet\n",
      "M048_0718_1745_3JHH_sub_0.1242MAE_-2.086LMAE_catboost_3folds_500000iter_0.1lr.parquet\n",
      "M049_0721_0839_3JHH_sub_0.1227MAE_-2.098LMAE_xgboost_3folds_500000iter_0.05lr.parquet\n",
      "M050_0721_2252_3JHH_sub_0.1319MAE_-2.025LMAE_xgboost_3folds_500000iter_0.005lr.parquet\n",
      "====== Running for type 3JHC ========\n",
      "M049_0721_2030_3JHC_sub_0.2007MAE_-1.606LMAE_xgboost_3folds_500000iter_0.05lr.parquet\n",
      "M047_0714_2226_3JHC_submission_0.1995MAE_-1.612LMAE_catboost_3folds_500000iter_0.1lr.parquet\n",
      "====== Running for type 3JHN ========\n",
      "M049_0719_1622_3JHN_sub_0.1158MAE_-2.156LMAE_xgboost_3folds_10000iter_0.1lr.parquet\n",
      "M048_0717_2239_3JHN_sub_0.0981MAE_-2.321LMAE_catboost_3folds_500000iter_0.1lr.parquet\n",
      "M047_0714_2226_3JHN_submission_0.0948MAE_-2.356LMAE_catboost_3folds_500000iter_0.1lr.parquet\n",
      "M050_0721_2252_3JHN_sub_0.0923MAE_-2.383LMAE_xgboost_3folds_500000iter_0.005lr.parquet\n",
      "M052_0723_1745_3JHN_sub_0.0916MAE_-2.39LMAE_catboost_3folds_500000iter_0.01lr.parquet\n"
     ]
    }
   ],
   "source": [
    "types = ['1JHC', '2JHH', '1JHN', '2JHN', '2JHC','3JHH','3JHC', '3JHN']\n",
    "oof = pd.read_csv('../input/train.csv')\n",
    "sub = pd.read_csv('../input/test.csv')\n",
    "sub_final = pd.DataFrame()\n",
    "oof_final = pd.DataFrame()\n",
    "sub = sub.drop(['molecule_name','atom_index_0','atom_index_1'], axis=1)\n",
    "oof = oof.drop(['molecule_name','atom_index_0','atom_index_1'], axis=1)\n",
    "\n",
    "for t in types:\n",
    "    subt = sub.loc[sub['type'] == t].copy()\n",
    "    ooft = oof.loc[oof['type'] == t].copy()\n",
    "    print(f'====== Running for type {t} ========')\n",
    "    for file in os.listdir(f'../type_results/{t}/'):\n",
    "        if '3folds' in file:\n",
    "    #        print(file)\n",
    "            if 'oof' in file:\n",
    "                df = pd.read_parquet(f'../type_results/{t}/{file}')\n",
    "                ooft = ooft.merge(df[['id','oof_preds']] \\\n",
    "                              .rename(columns={'oof_preds': file[:4]}),\n",
    "                          on='id')\n",
    "            if 'sub' in file:\n",
    "                df = pd.read_parquet(f'../type_results/{t}/{file}')\n",
    "                subt = subt.merge(df[['id','scalar_coupling_constant']] \\\n",
    "                              .rename(columns={'scalar_coupling_constant': file[:4]}),\n",
    "                          on='id')\n",
    "                print(file)\n",
    "    #             df = pd.read_parquet(f'../type_results/{t}/{file}')\n",
    "    #             sub = pd.concat([sub, df])\n",
    "    sub_final = pd.concat([subt, sub_final], sort=False)\n",
    "    oof_final = pd.concat([ooft, oof_final], sort=False)"
   ]
  },
  {
   "cell_type": "code",
   "execution_count": 5,
   "metadata": {},
   "outputs": [
    {
     "data": {
      "text/plain": [
       "(4658147, 8)"
      ]
     },
     "execution_count": 5,
     "metadata": {},
     "output_type": "execute_result"
    }
   ],
   "source": [
    "oof_final.shape"
   ]
  },
  {
   "cell_type": "code",
   "execution_count": 6,
   "metadata": {},
   "outputs": [
    {
     "data": {
      "text/plain": [
       "(2505542, 7)"
      ]
     },
     "execution_count": 6,
     "metadata": {},
     "output_type": "execute_result"
    }
   ],
   "source": [
    "sub_final.shape"
   ]
  },
  {
   "cell_type": "code",
   "execution_count": 7,
   "metadata": {},
   "outputs": [
    {
     "data": {
      "text/plain": [
       "(4658147, 3)"
      ]
     },
     "execution_count": 7,
     "metadata": {},
     "output_type": "execute_result"
    }
   ],
   "source": [
    "oof.shape"
   ]
  },
  {
   "cell_type": "code",
   "execution_count": 8,
   "metadata": {},
   "outputs": [
    {
     "data": {
      "text/plain": [
       "(2505542, 2)"
      ]
     },
     "execution_count": 8,
     "metadata": {},
     "output_type": "execute_result"
    }
   ],
   "source": [
    "sub.shape"
   ]
  },
  {
   "cell_type": "code",
   "execution_count": 9,
   "metadata": {},
   "outputs": [
    {
     "data": {
      "text/html": [
       "<div>\n",
       "<style scoped>\n",
       "    .dataframe tbody tr th:only-of-type {\n",
       "        vertical-align: middle;\n",
       "    }\n",
       "\n",
       "    .dataframe tbody tr th {\n",
       "        vertical-align: top;\n",
       "    }\n",
       "\n",
       "    .dataframe thead th {\n",
       "        text-align: right;\n",
       "    }\n",
       "</style>\n",
       "<table border=\"1\" class=\"dataframe\">\n",
       "  <thead>\n",
       "    <tr style=\"text-align: right;\">\n",
       "      <th></th>\n",
       "      <th>id</th>\n",
       "      <th>type</th>\n",
       "      <th>scalar_coupling_constant</th>\n",
       "      <th>M047</th>\n",
       "      <th>M049</th>\n",
       "      <th>M052</th>\n",
       "      <th>M050</th>\n",
       "      <th>M048</th>\n",
       "    </tr>\n",
       "  </thead>\n",
       "  <tbody>\n",
       "    <tr>\n",
       "      <th>0</th>\n",
       "      <td>73</td>\n",
       "      <td>3JHN</td>\n",
       "      <td>0.880802</td>\n",
       "      <td>1.217714</td>\n",
       "      <td>1.085314</td>\n",
       "      <td>0.907007</td>\n",
       "      <td>0.871911</td>\n",
       "      <td>1.006925</td>\n",
       "    </tr>\n",
       "    <tr>\n",
       "      <th>1</th>\n",
       "      <td>78</td>\n",
       "      <td>3JHN</td>\n",
       "      <td>0.880957</td>\n",
       "      <td>1.199598</td>\n",
       "      <td>1.082283</td>\n",
       "      <td>0.908139</td>\n",
       "      <td>0.873156</td>\n",
       "      <td>0.948375</td>\n",
       "    </tr>\n",
       "    <tr>\n",
       "      <th>2</th>\n",
       "      <td>82</td>\n",
       "      <td>3JHN</td>\n",
       "      <td>0.880871</td>\n",
       "      <td>1.196354</td>\n",
       "      <td>1.063929</td>\n",
       "      <td>0.863326</td>\n",
       "      <td>0.876223</td>\n",
       "      <td>1.054770</td>\n",
       "    </tr>\n",
       "    <tr>\n",
       "      <th>3</th>\n",
       "      <td>213</td>\n",
       "      <td>3JHN</td>\n",
       "      <td>-0.052074</td>\n",
       "      <td>0.028468</td>\n",
       "      <td>0.154375</td>\n",
       "      <td>0.037855</td>\n",
       "      <td>-0.135423</td>\n",
       "      <td>-0.046810</td>\n",
       "    </tr>\n",
       "    <tr>\n",
       "      <th>4</th>\n",
       "      <td>218</td>\n",
       "      <td>3JHN</td>\n",
       "      <td>1.611320</td>\n",
       "      <td>2.005109</td>\n",
       "      <td>1.473568</td>\n",
       "      <td>1.819162</td>\n",
       "      <td>2.285958</td>\n",
       "      <td>1.669883</td>\n",
       "    </tr>\n",
       "  </tbody>\n",
       "</table>\n",
       "</div>"
      ],
      "text/plain": [
       "    id  type  scalar_coupling_constant      M047      M049      M052  \\\n",
       "0   73  3JHN                  0.880802  1.217714  1.085314  0.907007   \n",
       "1   78  3JHN                  0.880957  1.199598  1.082283  0.908139   \n",
       "2   82  3JHN                  0.880871  1.196354  1.063929  0.863326   \n",
       "3  213  3JHN                 -0.052074  0.028468  0.154375  0.037855   \n",
       "4  218  3JHN                  1.611320  2.005109  1.473568  1.819162   \n",
       "\n",
       "       M050      M048  \n",
       "0  0.871911  1.006925  \n",
       "1  0.873156  0.948375  \n",
       "2  0.876223  1.054770  \n",
       "3 -0.135423 -0.046810  \n",
       "4  2.285958  1.669883  "
      ]
     },
     "execution_count": 9,
     "metadata": {},
     "output_type": "execute_result"
    }
   ],
   "source": [
    "oof_final.loc[oof_final['type'] == '3JHN'].head()"
   ]
  },
  {
   "cell_type": "code",
   "execution_count": 10,
   "metadata": {},
   "outputs": [
    {
     "data": {
      "text/html": [
       "<div>\n",
       "<style scoped>\n",
       "    .dataframe tbody tr th:only-of-type {\n",
       "        vertical-align: middle;\n",
       "    }\n",
       "\n",
       "    .dataframe tbody tr th {\n",
       "        vertical-align: top;\n",
       "    }\n",
       "\n",
       "    .dataframe thead th {\n",
       "        text-align: right;\n",
       "    }\n",
       "</style>\n",
       "<table border=\"1\" class=\"dataframe\">\n",
       "  <thead>\n",
       "    <tr style=\"text-align: right;\">\n",
       "      <th></th>\n",
       "      <th>id</th>\n",
       "      <th>type</th>\n",
       "      <th>M049</th>\n",
       "      <th>M048</th>\n",
       "      <th>M047</th>\n",
       "      <th>M050</th>\n",
       "      <th>M052</th>\n",
       "    </tr>\n",
       "  </thead>\n",
       "  <tbody>\n",
       "    <tr>\n",
       "      <th>0</th>\n",
       "      <td>4658205</td>\n",
       "      <td>3JHN</td>\n",
       "      <td>0.160267</td>\n",
       "      <td>-0.176915</td>\n",
       "      <td>-0.237696</td>\n",
       "      <td>-0.060738</td>\n",
       "      <td>-0.268147</td>\n",
       "    </tr>\n",
       "    <tr>\n",
       "      <th>1</th>\n",
       "      <td>4658209</td>\n",
       "      <td>3JHN</td>\n",
       "      <td>1.995038</td>\n",
       "      <td>2.426134</td>\n",
       "      <td>2.484086</td>\n",
       "      <td>2.678819</td>\n",
       "      <td>6.613277</td>\n",
       "    </tr>\n",
       "    <tr>\n",
       "      <th>2</th>\n",
       "      <td>4658210</td>\n",
       "      <td>3JHN</td>\n",
       "      <td>0.146129</td>\n",
       "      <td>-0.199509</td>\n",
       "      <td>-0.256149</td>\n",
       "      <td>-0.060738</td>\n",
       "      <td>-0.291760</td>\n",
       "    </tr>\n",
       "    <tr>\n",
       "      <th>3</th>\n",
       "      <td>4658214</td>\n",
       "      <td>3JHN</td>\n",
       "      <td>2.005161</td>\n",
       "      <td>2.425806</td>\n",
       "      <td>2.537887</td>\n",
       "      <td>2.678819</td>\n",
       "      <td>6.625949</td>\n",
       "    </tr>\n",
       "    <tr>\n",
       "      <th>4</th>\n",
       "      <td>4658555</td>\n",
       "      <td>3JHN</td>\n",
       "      <td>-0.010291</td>\n",
       "      <td>-0.242351</td>\n",
       "      <td>-0.275497</td>\n",
       "      <td>-0.317335</td>\n",
       "      <td>-0.785255</td>\n",
       "    </tr>\n",
       "  </tbody>\n",
       "</table>\n",
       "</div>"
      ],
      "text/plain": [
       "        id  type      M049      M048      M047      M050      M052\n",
       "0  4658205  3JHN  0.160267 -0.176915 -0.237696 -0.060738 -0.268147\n",
       "1  4658209  3JHN  1.995038  2.426134  2.484086  2.678819  6.613277\n",
       "2  4658210  3JHN  0.146129 -0.199509 -0.256149 -0.060738 -0.291760\n",
       "3  4658214  3JHN  2.005161  2.425806  2.537887  2.678819  6.625949\n",
       "4  4658555  3JHN -0.010291 -0.242351 -0.275497 -0.317335 -0.785255"
      ]
     },
     "execution_count": 10,
     "metadata": {},
     "output_type": "execute_result"
    }
   ],
   "source": [
    "sub_final.loc[sub_final['type'] == '3JHN'].head()"
   ]
  },
  {
   "cell_type": "code",
   "execution_count": 98,
   "metadata": {},
   "outputs": [
    {
     "data": {
      "text/plain": [
       "Index(['id', 'type', 'scalar_coupling_constant', 'M047', 'M049', 'M052',\n",
       "       'M050', 'M048'],\n",
       "      dtype='object')"
      ]
     },
     "execution_count": 98,
     "metadata": {},
     "output_type": "execute_result"
    }
   ],
   "source": [
    "oof_final.columns"
   ]
  },
  {
   "cell_type": "code",
   "execution_count": 100,
   "metadata": {},
   "outputs": [],
   "source": [
    "oof_final = oof_final[['id', 'type', 'scalar_coupling_constant', 'M047', 'M048', 'M049', 'M050', 'M052']]"
   ]
  },
  {
   "cell_type": "code",
   "execution_count": 101,
   "metadata": {},
   "outputs": [
    {
     "data": {
      "text/plain": [
       "Index(['id', 'type', 'M049', 'M048', 'M047', 'M050', 'M052'], dtype='object')"
      ]
     },
     "execution_count": 101,
     "metadata": {},
     "output_type": "execute_result"
    }
   ],
   "source": [
    "sub_final.columns"
   ]
  },
  {
   "cell_type": "code",
   "execution_count": 103,
   "metadata": {},
   "outputs": [],
   "source": [
    "sub_final = sub_final[['id', 'type', 'M047', 'M048', 'M049', 'M050', 'M052']]"
   ]
  },
  {
   "cell_type": "code",
   "execution_count": null,
   "metadata": {},
   "outputs": [],
   "source": [
    "sub_final.to_csv('../submissions/MERGE015-sub-ROB_BestModels_Jul24.csv', index=False)\n",
    "oof_final.to_csv('../oof/MERGE015-oof-ROB_BestModels_Jul24.csv', index=False)"
   ]
  },
  {
   "cell_type": "code",
   "execution_count": null,
   "metadata": {},
   "outputs": [],
   "source": []
  }
 ],
 "metadata": {
  "kernelspec": {
   "display_name": "Python 3",
   "language": "python",
   "name": "python3"
  },
  "language_info": {
   "codemirror_mode": {
    "name": "ipython",
    "version": 3
   },
   "file_extension": ".py",
   "mimetype": "text/x-python",
   "name": "python",
   "nbconvert_exporter": "python",
   "pygments_lexer": "ipython3",
   "version": "3.6.8"
  }
 },
 "nbformat": 4,
 "nbformat_minor": 4
}
