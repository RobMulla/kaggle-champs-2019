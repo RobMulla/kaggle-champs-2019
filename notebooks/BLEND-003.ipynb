{
 "cells": [
  {
   "cell_type": "code",
   "execution_count": 3,
   "metadata": {},
   "outputs": [],
   "source": [
    "import pandas as pd\n",
    "from sklearn.metrics import mean_absolute_error\n",
    "import numpy as np\n",
    "def group_mean_log_mae(y_true, y_pred, groups, floor=1e-9):\n",
    "    maes = (y_true-y_pred).abs().groupby(groups).mean()\n",
    "    return np.log(maes.map(lambda x: max(x, floor))).mean()"
   ]
  },
  {
   "cell_type": "code",
   "execution_count": 4,
   "metadata": {},
   "outputs": [],
   "source": [
    "tracking = pd.read_csv('../tracking/tracking.csv')"
   ]
  },
  {
   "cell_type": "markdown",
   "metadata": {},
   "source": [
    "## 1JHC"
   ]
  },
  {
   "cell_type": "code",
   "execution_count": 91,
   "metadata": {},
   "outputs": [
    {
     "data": {
      "text/html": [
       "<div>\n",
       "<style scoped>\n",
       "    .dataframe tbody tr th:only-of-type {\n",
       "        vertical-align: middle;\n",
       "    }\n",
       "\n",
       "    .dataframe tbody tr th {\n",
       "        vertical-align: top;\n",
       "    }\n",
       "\n",
       "    .dataframe thead th {\n",
       "        text-align: right;\n",
       "    }\n",
       "</style>\n",
       "<table border=\"1\" class=\"dataframe\">\n",
       "  <thead>\n",
       "    <tr style=\"text-align: right;\">\n",
       "      <th></th>\n",
       "      <th>run_id</th>\n",
       "      <th>model_number</th>\n",
       "      <th>1JHC_mae_cv</th>\n",
       "    </tr>\n",
       "  </thead>\n",
       "  <tbody>\n",
       "    <tr>\n",
       "      <th>22</th>\n",
       "      <td>0702_0822</td>\n",
       "      <td>M031</td>\n",
       "      <td>0.5793</td>\n",
       "    </tr>\n",
       "    <tr>\n",
       "      <th>24</th>\n",
       "      <td>0703_2133</td>\n",
       "      <td>M032</td>\n",
       "      <td>0.6068</td>\n",
       "    </tr>\n",
       "    <tr>\n",
       "      <th>19</th>\n",
       "      <td>0701_1300</td>\n",
       "      <td>M030</td>\n",
       "      <td>0.6196</td>\n",
       "    </tr>\n",
       "    <tr>\n",
       "      <th>21</th>\n",
       "      <td>0701_1304</td>\n",
       "      <td>M030</td>\n",
       "      <td>0.6211</td>\n",
       "    </tr>\n",
       "    <tr>\n",
       "      <th>20</th>\n",
       "      <td>0701_1302</td>\n",
       "      <td>M030</td>\n",
       "      <td>0.6211</td>\n",
       "    </tr>\n",
       "    <tr>\n",
       "      <th>17</th>\n",
       "      <td>0630_1258</td>\n",
       "      <td>M028</td>\n",
       "      <td>0.6569</td>\n",
       "    </tr>\n",
       "    <tr>\n",
       "      <th>18</th>\n",
       "      <td>0701_0819</td>\n",
       "      <td>M029</td>\n",
       "      <td>0.6583</td>\n",
       "    </tr>\n",
       "    <tr>\n",
       "      <th>16</th>\n",
       "      <td>0629_2221</td>\n",
       "      <td>M027</td>\n",
       "      <td>0.6594</td>\n",
       "    </tr>\n",
       "  </tbody>\n",
       "</table>\n",
       "</div>"
      ],
      "text/plain": [
       "       run_id model_number  1JHC_mae_cv\n",
       "22  0702_0822         M031       0.5793\n",
       "24  0703_2133         M032       0.6068\n",
       "19  0701_1300         M030       0.6196\n",
       "21  0701_1304         M030       0.6211\n",
       "20  0701_1302         M030       0.6211\n",
       "17  0630_1258         M028       0.6569\n",
       "18  0701_0819         M029       0.6583\n",
       "16  0629_2221         M027       0.6594"
      ]
     },
     "execution_count": 91,
     "metadata": {},
     "output_type": "execute_result"
    }
   ],
   "source": [
    "# M031\n",
    "# M032\n",
    "# M030\n",
    "tracking.sort_values('1JHC_mae_cv')[['run_id','model_number','1JHC_mae_cv']].head(8)"
   ]
  },
  {
   "cell_type": "code",
   "execution_count": 92,
   "metadata": {},
   "outputs": [],
   "source": [
    "oofM031 = pd.read_csv('../temp/M031/temp4of8_M031_0702_0822_oof_lgb_3folds_5000000iter_0.05lr.csv')\n",
    "oofM032 = pd.read_csv('../temp/M032/temp7of8_M032_0703_2133_oof_lgb_3folds_5000000iter_0.1lr.csv')\n",
    "oofM030a = pd.read_csv('../temp/M030/temp4of8_M030_0701_1302_oof_lgb_3folds_5000000iter_0.05lr.csv')\n",
    "oofM030b = pd.read_csv('../temp/M030/temp4of8_M030_0701_1304_oof_lgb_3folds_5000000iter_0.05lr.csv')\n",
    "oofM030c = pd.read_csv('../temp/M030/temp4of8_M030_0701_1300_oof_lgb_3folds_5000000iter_0.05lr.csv')"
   ]
  },
  {
   "cell_type": "code",
   "execution_count": 93,
   "metadata": {},
   "outputs": [],
   "source": [
    "oofM030['oof_preds'] = (oofM030a['oof_preds'] + oofM030b['oof_preds'] + oofM030c['oof_preds'])"
   ]
  },
  {
   "cell_type": "code",
   "execution_count": 94,
   "metadata": {},
   "outputs": [],
   "source": [
    "oof_final = oofM031[['id','type','scalar_coupling_constant','oof_preds']].copy()\n",
    "temp = (oofM030['oof_preds'] + oofM031['oof_preds'] + oofM032['oof_preds']) / 3\n",
    "oof_final.loc[oof_final['type'] == '1JHC', 'oof_preds'] = temp.loc[oof_final['type'] == '1JHC']"
   ]
  },
  {
   "cell_type": "code",
   "execution_count": 95,
   "metadata": {},
   "outputs": [
    {
     "data": {
      "text/plain": [
       "0.5585689312945809"
      ]
     },
     "execution_count": 95,
     "metadata": {},
     "output_type": "execute_result"
    }
   ],
   "source": [
    "mean_absolute_error(oof_final.loc[oof_final['type'] == '1JHC']['scalar_coupling_constant'],\n",
    "                    oof_final.loc[oof_final['type'] == '1JHC']['oof_preds'])"
   ]
  },
  {
   "cell_type": "markdown",
   "metadata": {},
   "source": [
    "# 2JHH"
   ]
  },
  {
   "cell_type": "code",
   "execution_count": 96,
   "metadata": {},
   "outputs": [
    {
     "data": {
      "text/html": [
       "<div>\n",
       "<style scoped>\n",
       "    .dataframe tbody tr th:only-of-type {\n",
       "        vertical-align: middle;\n",
       "    }\n",
       "\n",
       "    .dataframe tbody tr th {\n",
       "        vertical-align: top;\n",
       "    }\n",
       "\n",
       "    .dataframe thead th {\n",
       "        text-align: right;\n",
       "    }\n",
       "</style>\n",
       "<table border=\"1\" class=\"dataframe\">\n",
       "  <thead>\n",
       "    <tr style=\"text-align: right;\">\n",
       "      <th></th>\n",
       "      <th>run_id</th>\n",
       "      <th>model_number</th>\n",
       "      <th>model_type</th>\n",
       "      <th>2JHH_mae_cv</th>\n",
       "    </tr>\n",
       "  </thead>\n",
       "  <tbody>\n",
       "    <tr>\n",
       "      <th>22</th>\n",
       "      <td>0702_0822</td>\n",
       "      <td>M031</td>\n",
       "      <td>catboost</td>\n",
       "      <td>0.1543</td>\n",
       "    </tr>\n",
       "    <tr>\n",
       "      <th>23</th>\n",
       "      <td>0703_1733</td>\n",
       "      <td>M032</td>\n",
       "      <td>catboost</td>\n",
       "      <td>0.1614</td>\n",
       "    </tr>\n",
       "    <tr>\n",
       "      <th>24</th>\n",
       "      <td>0703_2133</td>\n",
       "      <td>M032</td>\n",
       "      <td>catboost</td>\n",
       "      <td>0.1615</td>\n",
       "    </tr>\n",
       "    <tr>\n",
       "      <th>19</th>\n",
       "      <td>0701_1300</td>\n",
       "      <td>M030</td>\n",
       "      <td>lgbm</td>\n",
       "      <td>0.1639</td>\n",
       "    </tr>\n",
       "    <tr>\n",
       "      <th>13</th>\n",
       "      <td>0629_1311</td>\n",
       "      <td>M025</td>\n",
       "      <td>catboost</td>\n",
       "      <td>0.1640</td>\n",
       "    </tr>\n",
       "    <tr>\n",
       "      <th>20</th>\n",
       "      <td>0701_1302</td>\n",
       "      <td>M030</td>\n",
       "      <td>lgbm</td>\n",
       "      <td>0.1641</td>\n",
       "    </tr>\n",
       "    <tr>\n",
       "      <th>21</th>\n",
       "      <td>0701_1304</td>\n",
       "      <td>M030</td>\n",
       "      <td>lgbm</td>\n",
       "      <td>0.1659</td>\n",
       "    </tr>\n",
       "    <tr>\n",
       "      <th>33</th>\n",
       "      <td>0704_2344</td>\n",
       "      <td>M035</td>\n",
       "      <td>lgbm</td>\n",
       "      <td>0.1704</td>\n",
       "    </tr>\n",
       "  </tbody>\n",
       "</table>\n",
       "</div>"
      ],
      "text/plain": [
       "       run_id model_number model_type  2JHH_mae_cv\n",
       "22  0702_0822         M031   catboost       0.1543\n",
       "23  0703_1733         M032   catboost       0.1614\n",
       "24  0703_2133         M032   catboost       0.1615\n",
       "19  0701_1300         M030       lgbm       0.1639\n",
       "13  0629_1311         M025   catboost       0.1640\n",
       "20  0701_1302         M030       lgbm       0.1641\n",
       "21  0701_1304         M030       lgbm       0.1659\n",
       "33  0704_2344         M035       lgbm       0.1704"
      ]
     },
     "execution_count": 96,
     "metadata": {},
     "output_type": "execute_result"
    }
   ],
   "source": [
    "tracking.sort_values('2JHH_mae_cv')[['run_id','model_number','model_type','2JHH_mae_cv']].head(8)"
   ]
  },
  {
   "cell_type": "code",
   "execution_count": 97,
   "metadata": {},
   "outputs": [],
   "source": [
    "oofM025 = pd.read_csv('../oof/M025_0629_1311_oof_lgb_2folds_-1.3265CV_500000iter_0.1lr.csv')\n",
    "oofM031 = pd.read_csv('../temp/M031/temp4of8_M031_0702_0822_oof_lgb_3folds_5000000iter_0.05lr.csv')\n",
    "oofM032 = pd.read_csv('../temp/M032/temp7of8_M032_0703_2133_oof_lgb_3folds_5000000iter_0.1lr.csv')\n",
    "oofM030a = pd.read_csv('../temp/M030/temp4of8_M030_0701_1302_oof_lgb_3folds_5000000iter_0.05lr.csv')\n",
    "oofM030b = pd.read_csv('../temp/M030/temp4of8_M030_0701_1304_oof_lgb_3folds_5000000iter_0.05lr.csv')\n",
    "oofM030c = pd.read_csv('../temp/M030/temp4of8_M030_0701_1300_oof_lgb_3folds_5000000iter_0.05lr.csv')\n",
    "oofM030['oof_preds'] = (oofM030a['oof_preds'] + oofM030b['oof_preds'] + oofM030c['oof_preds'])"
   ]
  },
  {
   "cell_type": "code",
   "execution_count": 98,
   "metadata": {},
   "outputs": [],
   "source": [
    "#oof_final = oofM031[['id','type','scalar_coupling_constant','oof_preds']].copy()\n",
    "temp = (oofM030['oof_preds'] + oofM031['oof_preds'] + oofM032['oof_preds'] + oofM025['oof_preds']) / 4\n",
    "oof_final.loc[oof_final['type'] == '2JHH', 'oof_preds'] = temp.loc[oof_final['type'] == '2JHH']"
   ]
  },
  {
   "cell_type": "code",
   "execution_count": 99,
   "metadata": {},
   "outputs": [
    {
     "data": {
      "text/plain": [
       "0.14141356382524184"
      ]
     },
     "execution_count": 99,
     "metadata": {},
     "output_type": "execute_result"
    }
   ],
   "source": [
    "mean_absolute_error(oof_final.loc[oof_final['type'] == '2JHH']['scalar_coupling_constant'],\n",
    "                    oof_final.loc[oof_final['type'] == '2JHH']['oof_preds'])"
   ]
  },
  {
   "cell_type": "markdown",
   "metadata": {},
   "source": [
    "# 1JHN_mae_cv"
   ]
  },
  {
   "cell_type": "code",
   "execution_count": 100,
   "metadata": {},
   "outputs": [
    {
     "data": {
      "text/html": [
       "<div>\n",
       "<style scoped>\n",
       "    .dataframe tbody tr th:only-of-type {\n",
       "        vertical-align: middle;\n",
       "    }\n",
       "\n",
       "    .dataframe tbody tr th {\n",
       "        vertical-align: top;\n",
       "    }\n",
       "\n",
       "    .dataframe thead th {\n",
       "        text-align: right;\n",
       "    }\n",
       "</style>\n",
       "<table border=\"1\" class=\"dataframe\">\n",
       "  <thead>\n",
       "    <tr style=\"text-align: right;\">\n",
       "      <th></th>\n",
       "      <th>run_id</th>\n",
       "      <th>model_number</th>\n",
       "      <th>model_type</th>\n",
       "      <th>1JHN_mae_cv</th>\n",
       "    </tr>\n",
       "  </thead>\n",
       "  <tbody>\n",
       "    <tr>\n",
       "      <th>21</th>\n",
       "      <td>0701_1304</td>\n",
       "      <td>M030</td>\n",
       "      <td>lgbm</td>\n",
       "      <td>0.3504</td>\n",
       "    </tr>\n",
       "    <tr>\n",
       "      <th>19</th>\n",
       "      <td>0701_1300</td>\n",
       "      <td>M030</td>\n",
       "      <td>lgbm</td>\n",
       "      <td>0.3609</td>\n",
       "    </tr>\n",
       "    <tr>\n",
       "      <th>20</th>\n",
       "      <td>0701_1302</td>\n",
       "      <td>M030</td>\n",
       "      <td>lgbm</td>\n",
       "      <td>0.3632</td>\n",
       "    </tr>\n",
       "    <tr>\n",
       "      <th>33</th>\n",
       "      <td>0704_2344</td>\n",
       "      <td>M035</td>\n",
       "      <td>lgbm</td>\n",
       "      <td>0.3846</td>\n",
       "    </tr>\n",
       "    <tr>\n",
       "      <th>12</th>\n",
       "      <td>0627_1434</td>\n",
       "      <td>M024</td>\n",
       "      <td>lgbm</td>\n",
       "      <td>0.3909</td>\n",
       "    </tr>\n",
       "    <tr>\n",
       "      <th>32</th>\n",
       "      <td>0704_2337</td>\n",
       "      <td>M035</td>\n",
       "      <td>lgbm</td>\n",
       "      <td>0.3973</td>\n",
       "    </tr>\n",
       "    <tr>\n",
       "      <th>18</th>\n",
       "      <td>0701_0819</td>\n",
       "      <td>M029</td>\n",
       "      <td>catboost</td>\n",
       "      <td>0.4007</td>\n",
       "    </tr>\n",
       "    <tr>\n",
       "      <th>15</th>\n",
       "      <td>0629_1638</td>\n",
       "      <td>M026</td>\n",
       "      <td>lgbm</td>\n",
       "      <td>0.4063</td>\n",
       "    </tr>\n",
       "  </tbody>\n",
       "</table>\n",
       "</div>"
      ],
      "text/plain": [
       "       run_id model_number model_type  1JHN_mae_cv\n",
       "21  0701_1304         M030       lgbm       0.3504\n",
       "19  0701_1300         M030       lgbm       0.3609\n",
       "20  0701_1302         M030       lgbm       0.3632\n",
       "33  0704_2344         M035       lgbm       0.3846\n",
       "12  0627_1434         M024       lgbm       0.3909\n",
       "32  0704_2337         M035       lgbm       0.3973\n",
       "18  0701_0819         M029   catboost       0.4007\n",
       "15  0629_1638         M026       lgbm       0.4063"
      ]
     },
     "execution_count": 100,
     "metadata": {},
     "output_type": "execute_result"
    }
   ],
   "source": [
    "tracking.sort_values('1JHN_mae_cv')[['run_id','model_number','model_type','1JHN_mae_cv']].head(8)"
   ]
  },
  {
   "cell_type": "code",
   "execution_count": 101,
   "metadata": {},
   "outputs": [],
   "source": [
    "oofM035 = pd.read_csv('../temp/M035/temp3of8_M035_0704_2344_oof_lgbm_2folds_500000iter_0.01lr.csv')\n",
    "oofM024 = pd.read_csv('../oof/M024_0627_1434_oof_lgb_2folds_-1.2826CV_500000iter_0.1lr.csv')\n",
    "oofM029 = pd.read_csv('../oof/M029_0701_0819_oof_lgb_2folds_-1.2437CV_5000000iter_0.1lr.csv')\n",
    "oofM026 = pd.read_csv('../oof/M026_COMBINED_oof_lgb_2folds_-1.2198CV_500000iter_0.1lr.csv')"
   ]
  },
  {
   "cell_type": "code",
   "execution_count": 102,
   "metadata": {},
   "outputs": [
    {
     "data": {
      "text/plain": [
       "0.33390003595789225"
      ]
     },
     "execution_count": 102,
     "metadata": {},
     "output_type": "execute_result"
    }
   ],
   "source": [
    "#oof_final = oofM031[['id','type','scalar_coupling_constant','oof_preds']].copy()\n",
    "temp = (oofM030['oof_preds'] + oofM035['oof_preds'] + oofM024['oof_preds'] + oofM029['oof_preds']) / 4\n",
    "oof_final.loc[oof_final['type'] == '1JHN', 'oof_preds'] = temp.loc[oof_final['type'] == '1JHN']\n",
    "mean_absolute_error(oof_final.loc[oof_final['type'] == '1JHN']['scalar_coupling_constant'],\n",
    "                    oof_final.loc[oof_final['type'] == '1JHN']['oof_preds'])"
   ]
  },
  {
   "cell_type": "markdown",
   "metadata": {},
   "source": [
    "# 2JHN_mae_cv"
   ]
  },
  {
   "cell_type": "code",
   "execution_count": 103,
   "metadata": {},
   "outputs": [
    {
     "data": {
      "text/html": [
       "<div>\n",
       "<style scoped>\n",
       "    .dataframe tbody tr th:only-of-type {\n",
       "        vertical-align: middle;\n",
       "    }\n",
       "\n",
       "    .dataframe tbody tr th {\n",
       "        vertical-align: top;\n",
       "    }\n",
       "\n",
       "    .dataframe thead th {\n",
       "        text-align: right;\n",
       "    }\n",
       "</style>\n",
       "<table border=\"1\" class=\"dataframe\">\n",
       "  <thead>\n",
       "    <tr style=\"text-align: right;\">\n",
       "      <th></th>\n",
       "      <th>run_id</th>\n",
       "      <th>model_number</th>\n",
       "      <th>model_type</th>\n",
       "      <th>2JHN_mae_cv</th>\n",
       "    </tr>\n",
       "  </thead>\n",
       "  <tbody>\n",
       "    <tr>\n",
       "      <th>22</th>\n",
       "      <td>0702_0822</td>\n",
       "      <td>M031</td>\n",
       "      <td>catboost</td>\n",
       "      <td>0.1300</td>\n",
       "    </tr>\n",
       "    <tr>\n",
       "      <th>20</th>\n",
       "      <td>0701_1302</td>\n",
       "      <td>M030</td>\n",
       "      <td>lgbm</td>\n",
       "      <td>0.1391</td>\n",
       "    </tr>\n",
       "    <tr>\n",
       "      <th>19</th>\n",
       "      <td>0701_1300</td>\n",
       "      <td>M030</td>\n",
       "      <td>lgbm</td>\n",
       "      <td>0.1396</td>\n",
       "    </tr>\n",
       "    <tr>\n",
       "      <th>13</th>\n",
       "      <td>0629_1311</td>\n",
       "      <td>M025</td>\n",
       "      <td>catboost</td>\n",
       "      <td>0.1398</td>\n",
       "    </tr>\n",
       "    <tr>\n",
       "      <th>21</th>\n",
       "      <td>0701_1304</td>\n",
       "      <td>M030</td>\n",
       "      <td>lgbm</td>\n",
       "      <td>0.1402</td>\n",
       "    </tr>\n",
       "    <tr>\n",
       "      <th>24</th>\n",
       "      <td>0703_2133</td>\n",
       "      <td>M032</td>\n",
       "      <td>catboost</td>\n",
       "      <td>0.1406</td>\n",
       "    </tr>\n",
       "    <tr>\n",
       "      <th>40</th>\n",
       "      <td>0705_2317</td>\n",
       "      <td>M036</td>\n",
       "      <td>catboost</td>\n",
       "      <td>0.1454</td>\n",
       "    </tr>\n",
       "    <tr>\n",
       "      <th>12</th>\n",
       "      <td>0627_1434</td>\n",
       "      <td>M024</td>\n",
       "      <td>lgbm</td>\n",
       "      <td>0.1478</td>\n",
       "    </tr>\n",
       "  </tbody>\n",
       "</table>\n",
       "</div>"
      ],
      "text/plain": [
       "       run_id model_number model_type  2JHN_mae_cv\n",
       "22  0702_0822         M031   catboost       0.1300\n",
       "20  0701_1302         M030       lgbm       0.1391\n",
       "19  0701_1300         M030       lgbm       0.1396\n",
       "13  0629_1311         M025   catboost       0.1398\n",
       "21  0701_1304         M030       lgbm       0.1402\n",
       "24  0703_2133         M032   catboost       0.1406\n",
       "40  0705_2317         M036   catboost       0.1454\n",
       "12  0627_1434         M024       lgbm       0.1478"
      ]
     },
     "execution_count": 103,
     "metadata": {},
     "output_type": "execute_result"
    }
   ],
   "source": [
    "tracking.sort_values('2JHN_mae_cv')[['run_id','model_number','model_type','2JHN_mae_cv']].head(8)"
   ]
  },
  {
   "cell_type": "code",
   "execution_count": 104,
   "metadata": {},
   "outputs": [
    {
     "data": {
      "text/plain": [
       "0.11982119253201608"
      ]
     },
     "execution_count": 104,
     "metadata": {},
     "output_type": "execute_result"
    }
   ],
   "source": [
    "#oof_final = oofM031[['id','type','scalar_coupling_constant','oof_preds']].copy()\n",
    "temp = (oofM031['oof_preds'] + oofM030['oof_preds'] + oofM025['oof_preds'] + oofM032['oof_preds']) / 4\n",
    "oof_final.loc[oof_final['type'] == '2JHN', 'oof_preds'] = temp.loc[oof_final['type'] == '2JHN']\n",
    "mean_absolute_error(oof_final.loc[oof_final['type'] == '2JHN']['scalar_coupling_constant'],\n",
    "                    oof_final.loc[oof_final['type'] == '2JHN']['oof_preds'])"
   ]
  },
  {
   "cell_type": "markdown",
   "metadata": {},
   "source": [
    "# 2JHC_mae_cv"
   ]
  },
  {
   "cell_type": "code",
   "execution_count": 105,
   "metadata": {},
   "outputs": [
    {
     "data": {
      "text/html": [
       "<div>\n",
       "<style scoped>\n",
       "    .dataframe tbody tr th:only-of-type {\n",
       "        vertical-align: middle;\n",
       "    }\n",
       "\n",
       "    .dataframe tbody tr th {\n",
       "        vertical-align: top;\n",
       "    }\n",
       "\n",
       "    .dataframe thead th {\n",
       "        text-align: right;\n",
       "    }\n",
       "</style>\n",
       "<table border=\"1\" class=\"dataframe\">\n",
       "  <thead>\n",
       "    <tr style=\"text-align: right;\">\n",
       "      <th></th>\n",
       "      <th>run_id</th>\n",
       "      <th>model_number</th>\n",
       "      <th>model_type</th>\n",
       "      <th>2JHC_mae_cv</th>\n",
       "    </tr>\n",
       "  </thead>\n",
       "  <tbody>\n",
       "    <tr>\n",
       "      <th>24</th>\n",
       "      <td>0703_2133</td>\n",
       "      <td>M032</td>\n",
       "      <td>catboost</td>\n",
       "      <td>0.2866</td>\n",
       "    </tr>\n",
       "    <tr>\n",
       "      <th>13</th>\n",
       "      <td>0629_1311</td>\n",
       "      <td>M025</td>\n",
       "      <td>catboost</td>\n",
       "      <td>0.3002</td>\n",
       "    </tr>\n",
       "    <tr>\n",
       "      <th>16</th>\n",
       "      <td>0629_2221</td>\n",
       "      <td>M027</td>\n",
       "      <td>catboost</td>\n",
       "      <td>0.3143</td>\n",
       "    </tr>\n",
       "    <tr>\n",
       "      <th>17</th>\n",
       "      <td>0630_1258</td>\n",
       "      <td>M028</td>\n",
       "      <td>catboost</td>\n",
       "      <td>0.3145</td>\n",
       "    </tr>\n",
       "    <tr>\n",
       "      <th>12</th>\n",
       "      <td>0627_1434</td>\n",
       "      <td>M024</td>\n",
       "      <td>lgbm</td>\n",
       "      <td>0.3198</td>\n",
       "    </tr>\n",
       "    <tr>\n",
       "      <th>18</th>\n",
       "      <td>0701_0819</td>\n",
       "      <td>M029</td>\n",
       "      <td>catboost</td>\n",
       "      <td>0.3309</td>\n",
       "    </tr>\n",
       "    <tr>\n",
       "      <th>15</th>\n",
       "      <td>0629_1638</td>\n",
       "      <td>M026</td>\n",
       "      <td>lgbm</td>\n",
       "      <td>0.3340</td>\n",
       "    </tr>\n",
       "    <tr>\n",
       "      <th>30</th>\n",
       "      <td>0704_1133</td>\n",
       "      <td>M033</td>\n",
       "      <td>lgbm</td>\n",
       "      <td>0.3342</td>\n",
       "    </tr>\n",
       "  </tbody>\n",
       "</table>\n",
       "</div>"
      ],
      "text/plain": [
       "       run_id model_number model_type  2JHC_mae_cv\n",
       "24  0703_2133         M032   catboost       0.2866\n",
       "13  0629_1311         M025   catboost       0.3002\n",
       "16  0629_2221         M027   catboost       0.3143\n",
       "17  0630_1258         M028   catboost       0.3145\n",
       "12  0627_1434         M024       lgbm       0.3198\n",
       "18  0701_0819         M029   catboost       0.3309\n",
       "15  0629_1638         M026       lgbm       0.3340\n",
       "30  0704_1133         M033       lgbm       0.3342"
      ]
     },
     "execution_count": 105,
     "metadata": {},
     "output_type": "execute_result"
    }
   ],
   "source": [
    "tracking.sort_values('2JHC_mae_cv')[['run_id','model_number','model_type','2JHC_mae_cv']].head(8)"
   ]
  },
  {
   "cell_type": "code",
   "execution_count": 106,
   "metadata": {},
   "outputs": [],
   "source": [
    "oofM027 = pd.read_csv('../oof/M027_0629_2221_oof_lgb_2folds_-1.2683CV_500000iter_0.1lr.csv')\n",
    "oofM028 = pd.read_csv('../oof/M028_0630_1258_oof_lgb_2folds_-1.2487CV_5000000iter_0.1lr.csv')"
   ]
  },
  {
   "cell_type": "code",
   "execution_count": 107,
   "metadata": {},
   "outputs": [
    {
     "data": {
      "text/plain": [
       "0.2705931232613277"
      ]
     },
     "execution_count": 107,
     "metadata": {},
     "output_type": "execute_result"
    }
   ],
   "source": [
    "#oof_final = oofM031[['id','type','scalar_coupling_constant','oof_preds']].copy()\n",
    "temp = (oofM032['oof_preds'] + oofM025['oof_preds'] + oofM027['oof_preds'] + oofM028['oof_preds'] + oofM024['oof_preds']) / 5\n",
    "oof_final.loc[oof_final['type'] == '2JHC', 'oof_preds'] = temp.loc[oof_final['type'] == '2JHC']\n",
    "mean_absolute_error(oof_final.loc[oof_final['type'] == '2JHC']['scalar_coupling_constant'],\n",
    "                    oof_final.loc[oof_final['type'] == '2JHC']['oof_preds'])"
   ]
  },
  {
   "cell_type": "markdown",
   "metadata": {},
   "source": [
    "# 3JHH_mae_cv"
   ]
  },
  {
   "cell_type": "code",
   "execution_count": 108,
   "metadata": {},
   "outputs": [
    {
     "data": {
      "text/html": [
       "<div>\n",
       "<style scoped>\n",
       "    .dataframe tbody tr th:only-of-type {\n",
       "        vertical-align: middle;\n",
       "    }\n",
       "\n",
       "    .dataframe tbody tr th {\n",
       "        vertical-align: top;\n",
       "    }\n",
       "\n",
       "    .dataframe thead th {\n",
       "        text-align: right;\n",
       "    }\n",
       "</style>\n",
       "<table border=\"1\" class=\"dataframe\">\n",
       "  <thead>\n",
       "    <tr style=\"text-align: right;\">\n",
       "      <th></th>\n",
       "      <th>run_id</th>\n",
       "      <th>model_number</th>\n",
       "      <th>model_type</th>\n",
       "      <th>3JHH_mae_cv</th>\n",
       "    </tr>\n",
       "  </thead>\n",
       "  <tbody>\n",
       "    <tr>\n",
       "      <th>13</th>\n",
       "      <td>0629_1311</td>\n",
       "      <td>M025</td>\n",
       "      <td>catboost</td>\n",
       "      <td>0.1934</td>\n",
       "    </tr>\n",
       "    <tr>\n",
       "      <th>24</th>\n",
       "      <td>0703_2133</td>\n",
       "      <td>M032</td>\n",
       "      <td>catboost</td>\n",
       "      <td>0.1990</td>\n",
       "    </tr>\n",
       "    <tr>\n",
       "      <th>12</th>\n",
       "      <td>0627_1434</td>\n",
       "      <td>M024</td>\n",
       "      <td>lgbm</td>\n",
       "      <td>0.2082</td>\n",
       "    </tr>\n",
       "    <tr>\n",
       "      <th>16</th>\n",
       "      <td>0629_2221</td>\n",
       "      <td>M027</td>\n",
       "      <td>catboost</td>\n",
       "      <td>0.2135</td>\n",
       "    </tr>\n",
       "    <tr>\n",
       "      <th>17</th>\n",
       "      <td>0630_1258</td>\n",
       "      <td>M028</td>\n",
       "      <td>catboost</td>\n",
       "      <td>0.2143</td>\n",
       "    </tr>\n",
       "    <tr>\n",
       "      <th>18</th>\n",
       "      <td>0701_0819</td>\n",
       "      <td>M029</td>\n",
       "      <td>catboost</td>\n",
       "      <td>0.2280</td>\n",
       "    </tr>\n",
       "    <tr>\n",
       "      <th>15</th>\n",
       "      <td>0629_1638</td>\n",
       "      <td>M026</td>\n",
       "      <td>lgbm</td>\n",
       "      <td>0.2283</td>\n",
       "    </tr>\n",
       "    <tr>\n",
       "      <th>14</th>\n",
       "      <td>0629_1637</td>\n",
       "      <td>M026</td>\n",
       "      <td>lgbm</td>\n",
       "      <td>0.2307</td>\n",
       "    </tr>\n",
       "  </tbody>\n",
       "</table>\n",
       "</div>"
      ],
      "text/plain": [
       "       run_id model_number model_type  3JHH_mae_cv\n",
       "13  0629_1311         M025   catboost       0.1934\n",
       "24  0703_2133         M032   catboost       0.1990\n",
       "12  0627_1434         M024       lgbm       0.2082\n",
       "16  0629_2221         M027   catboost       0.2135\n",
       "17  0630_1258         M028   catboost       0.2143\n",
       "18  0701_0819         M029   catboost       0.2280\n",
       "15  0629_1638         M026       lgbm       0.2283\n",
       "14  0629_1637         M026       lgbm       0.2307"
      ]
     },
     "execution_count": 108,
     "metadata": {},
     "output_type": "execute_result"
    }
   ],
   "source": [
    "tracking.sort_values('3JHH_mae_cv')[['run_id','model_number','model_type','3JHH_mae_cv']].head(8)"
   ]
  },
  {
   "cell_type": "code",
   "execution_count": 109,
   "metadata": {},
   "outputs": [
    {
     "data": {
      "text/plain": [
       "0.17763778987058434"
      ]
     },
     "execution_count": 109,
     "metadata": {},
     "output_type": "execute_result"
    }
   ],
   "source": [
    "#oof_final = oofM031[['id','type','scalar_coupling_constant','oof_preds']].copy()\n",
    "temp = (oofM025['oof_preds'] + oofM032['oof_preds'] + oofM024['oof_preds'] + oofM027['oof_preds'] + oofM028['oof_preds']) / 5\n",
    "oof_final.loc[oof_final['type'] == '3JHH', 'oof_preds'] = temp.loc[oof_final['type'] == '3JHH']\n",
    "mean_absolute_error(oof_final.loc[oof_final['type'] == '3JHH']['scalar_coupling_constant'],\n",
    "                    oof_final.loc[oof_final['type'] == '3JHH']['oof_preds'])"
   ]
  },
  {
   "cell_type": "markdown",
   "metadata": {},
   "source": [
    "# 3JHC\n",
    "3JHN_mae_cv"
   ]
  },
  {
   "cell_type": "code",
   "execution_count": 110,
   "metadata": {},
   "outputs": [
    {
     "data": {
      "text/html": [
       "<div>\n",
       "<style scoped>\n",
       "    .dataframe tbody tr th:only-of-type {\n",
       "        vertical-align: middle;\n",
       "    }\n",
       "\n",
       "    .dataframe tbody tr th {\n",
       "        vertical-align: top;\n",
       "    }\n",
       "\n",
       "    .dataframe thead th {\n",
       "        text-align: right;\n",
       "    }\n",
       "</style>\n",
       "<table border=\"1\" class=\"dataframe\">\n",
       "  <thead>\n",
       "    <tr style=\"text-align: right;\">\n",
       "      <th></th>\n",
       "      <th>run_id</th>\n",
       "      <th>model_number</th>\n",
       "      <th>model_type</th>\n",
       "      <th>3JHC_mae_cv</th>\n",
       "    </tr>\n",
       "  </thead>\n",
       "  <tbody>\n",
       "    <tr>\n",
       "      <th>24</th>\n",
       "      <td>0703_2133</td>\n",
       "      <td>M032</td>\n",
       "      <td>catboost</td>\n",
       "      <td>0.3838</td>\n",
       "    </tr>\n",
       "    <tr>\n",
       "      <th>13</th>\n",
       "      <td>0629_1311</td>\n",
       "      <td>M025</td>\n",
       "      <td>catboost</td>\n",
       "      <td>0.3905</td>\n",
       "    </tr>\n",
       "    <tr>\n",
       "      <th>16</th>\n",
       "      <td>0629_2221</td>\n",
       "      <td>M027</td>\n",
       "      <td>catboost</td>\n",
       "      <td>0.4148</td>\n",
       "    </tr>\n",
       "    <tr>\n",
       "      <th>17</th>\n",
       "      <td>0630_1258</td>\n",
       "      <td>M028</td>\n",
       "      <td>catboost</td>\n",
       "      <td>0.4156</td>\n",
       "    </tr>\n",
       "    <tr>\n",
       "      <th>12</th>\n",
       "      <td>0627_1434</td>\n",
       "      <td>M024</td>\n",
       "      <td>lgbm</td>\n",
       "      <td>0.4221</td>\n",
       "    </tr>\n",
       "    <tr>\n",
       "      <th>15</th>\n",
       "      <td>0629_1638</td>\n",
       "      <td>M026</td>\n",
       "      <td>lgbm</td>\n",
       "      <td>0.4451</td>\n",
       "    </tr>\n",
       "    <tr>\n",
       "      <th>14</th>\n",
       "      <td>0629_1637</td>\n",
       "      <td>M026</td>\n",
       "      <td>lgbm</td>\n",
       "      <td>0.4453</td>\n",
       "    </tr>\n",
       "    <tr>\n",
       "      <th>18</th>\n",
       "      <td>0701_0819</td>\n",
       "      <td>M029</td>\n",
       "      <td>catboost</td>\n",
       "      <td>0.4490</td>\n",
       "    </tr>\n",
       "  </tbody>\n",
       "</table>\n",
       "</div>"
      ],
      "text/plain": [
       "       run_id model_number model_type  3JHC_mae_cv\n",
       "24  0703_2133         M032   catboost       0.3838\n",
       "13  0629_1311         M025   catboost       0.3905\n",
       "16  0629_2221         M027   catboost       0.4148\n",
       "17  0630_1258         M028   catboost       0.4156\n",
       "12  0627_1434         M024       lgbm       0.4221\n",
       "15  0629_1638         M026       lgbm       0.4451\n",
       "14  0629_1637         M026       lgbm       0.4453\n",
       "18  0701_0819         M029   catboost       0.4490"
      ]
     },
     "execution_count": 110,
     "metadata": {},
     "output_type": "execute_result"
    }
   ],
   "source": [
    "tracking.sort_values('3JHC_mae_cv')[['run_id','model_number','model_type','3JHC_mae_cv']].head(8)"
   ]
  },
  {
   "cell_type": "code",
   "execution_count": 111,
   "metadata": {},
   "outputs": [
    {
     "data": {
      "text/plain": [
       "0.3597301362805249"
      ]
     },
     "execution_count": 111,
     "metadata": {},
     "output_type": "execute_result"
    }
   ],
   "source": [
    "#oof_final = oofM031[['id','type','scalar_coupling_constant','oof_preds']].copy()\n",
    "temp = (oofM032['oof_preds'] + oofM025['oof_preds'] + oofM027['oof_preds'] + oofM028['oof_preds'] + oofM024['oof_preds'] + oofM026['oof']) / 6\n",
    "oof_final.loc[oof_final['type'] == '3JHC', 'oof_preds'] = temp.loc[oof_final['type'] == '3JHC']\n",
    "mean_absolute_error(oof_final.loc[oof_final['type'] == '3JHC']['scalar_coupling_constant'],\n",
    "                    oof_final.loc[oof_final['type'] == '3JHC']['oof_preds'])"
   ]
  },
  {
   "cell_type": "markdown",
   "metadata": {},
   "source": [
    "# 3JHN_mae_cv"
   ]
  },
  {
   "cell_type": "code",
   "execution_count": 112,
   "metadata": {},
   "outputs": [
    {
     "data": {
      "text/html": [
       "<div>\n",
       "<style scoped>\n",
       "    .dataframe tbody tr th:only-of-type {\n",
       "        vertical-align: middle;\n",
       "    }\n",
       "\n",
       "    .dataframe tbody tr th {\n",
       "        vertical-align: top;\n",
       "    }\n",
       "\n",
       "    .dataframe thead th {\n",
       "        text-align: right;\n",
       "    }\n",
       "</style>\n",
       "<table border=\"1\" class=\"dataframe\">\n",
       "  <thead>\n",
       "    <tr style=\"text-align: right;\">\n",
       "      <th></th>\n",
       "      <th>run_id</th>\n",
       "      <th>model_number</th>\n",
       "      <th>model_type</th>\n",
       "      <th>3JHN_mae_cv</th>\n",
       "    </tr>\n",
       "  </thead>\n",
       "  <tbody>\n",
       "    <tr>\n",
       "      <th>13</th>\n",
       "      <td>0629_1311</td>\n",
       "      <td>M025</td>\n",
       "      <td>catboost</td>\n",
       "      <td>0.1627</td>\n",
       "    </tr>\n",
       "    <tr>\n",
       "      <th>24</th>\n",
       "      <td>0703_2133</td>\n",
       "      <td>M032</td>\n",
       "      <td>catboost</td>\n",
       "      <td>0.1647</td>\n",
       "    </tr>\n",
       "    <tr>\n",
       "      <th>12</th>\n",
       "      <td>0627_1434</td>\n",
       "      <td>M024</td>\n",
       "      <td>lgbm</td>\n",
       "      <td>0.1750</td>\n",
       "    </tr>\n",
       "    <tr>\n",
       "      <th>17</th>\n",
       "      <td>0630_1258</td>\n",
       "      <td>M028</td>\n",
       "      <td>catboost</td>\n",
       "      <td>0.1782</td>\n",
       "    </tr>\n",
       "    <tr>\n",
       "      <th>16</th>\n",
       "      <td>0629_2221</td>\n",
       "      <td>M027</td>\n",
       "      <td>catboost</td>\n",
       "      <td>0.1786</td>\n",
       "    </tr>\n",
       "    <tr>\n",
       "      <th>14</th>\n",
       "      <td>0629_1637</td>\n",
       "      <td>M026</td>\n",
       "      <td>lgbm</td>\n",
       "      <td>0.1890</td>\n",
       "    </tr>\n",
       "    <tr>\n",
       "      <th>18</th>\n",
       "      <td>0701_0819</td>\n",
       "      <td>M029</td>\n",
       "      <td>catboost</td>\n",
       "      <td>0.1911</td>\n",
       "    </tr>\n",
       "    <tr>\n",
       "      <th>15</th>\n",
       "      <td>0629_1638</td>\n",
       "      <td>M026</td>\n",
       "      <td>lgbm</td>\n",
       "      <td>0.1920</td>\n",
       "    </tr>\n",
       "  </tbody>\n",
       "</table>\n",
       "</div>"
      ],
      "text/plain": [
       "       run_id model_number model_type  3JHN_mae_cv\n",
       "13  0629_1311         M025   catboost       0.1627\n",
       "24  0703_2133         M032   catboost       0.1647\n",
       "12  0627_1434         M024       lgbm       0.1750\n",
       "17  0630_1258         M028   catboost       0.1782\n",
       "16  0629_2221         M027   catboost       0.1786\n",
       "14  0629_1637         M026       lgbm       0.1890\n",
       "18  0701_0819         M029   catboost       0.1911\n",
       "15  0629_1638         M026       lgbm       0.1920"
      ]
     },
     "execution_count": 112,
     "metadata": {},
     "output_type": "execute_result"
    }
   ],
   "source": [
    "tracking.sort_values('3JHN_mae_cv')[['run_id','model_number','model_type','3JHN_mae_cv']].head(8)"
   ]
  },
  {
   "cell_type": "code",
   "execution_count": 113,
   "metadata": {},
   "outputs": [
    {
     "data": {
      "text/plain": [
       "0.15824777887814534"
      ]
     },
     "execution_count": 113,
     "metadata": {},
     "output_type": "execute_result"
    }
   ],
   "source": [
    "#oof_final = oofM031[['id','type','scalar_coupling_constant','oof_preds']].copy()\n",
    "temp = (oofM025['oof_preds'] + oofM024['oof_preds'] + oofM028['oof_preds'] + oofM027['oof_preds'] + oofM026['oof']) / 5\n",
    "oof_final.loc[oof_final['type'] == '3JHN', 'oof_preds'] = temp.loc[oof_final['type'] == '3JHN']\n",
    "mean_absolute_error(oof_final.loc[oof_final['type'] == '3JHN']['scalar_coupling_constant'],\n",
    "                    oof_final.loc[oof_final['type'] == '3JHN']['oof_preds'])"
   ]
  },
  {
   "cell_type": "markdown",
   "metadata": {},
   "source": [
    "# OVERALL OOF SCORE"
   ]
  },
  {
   "cell_type": "code",
   "execution_count": 26,
   "metadata": {},
   "outputs": [
    {
     "ename": "NameError",
     "evalue": "name 'oof_final' is not defined",
     "output_type": "error",
     "traceback": [
      "\u001b[0;31m---------------------------------------------------------------------------\u001b[0m",
      "\u001b[0;31mNameError\u001b[0m                                 Traceback (most recent call last)",
      "\u001b[0;32m<ipython-input-26-6fa47eb01458>\u001b[0m in \u001b[0;36m<module>\u001b[0;34m()\u001b[0m\n\u001b[0;32m----> 1\u001b[0;31m \u001b[0;32mfor\u001b[0m \u001b[0mi\u001b[0m\u001b[0;34m,\u001b[0m \u001b[0md\u001b[0m \u001b[0;32min\u001b[0m \u001b[0moof_final\u001b[0m\u001b[0;34m.\u001b[0m\u001b[0mgroupby\u001b[0m\u001b[0;34m(\u001b[0m\u001b[0;34m'type'\u001b[0m\u001b[0;34m)\u001b[0m\u001b[0;34m:\u001b[0m\u001b[0;34m\u001b[0m\u001b[0m\n\u001b[0m\u001b[1;32m      2\u001b[0m     \u001b[0mprint\u001b[0m\u001b[0;34m(\u001b[0m\u001b[0mi\u001b[0m\u001b[0;34m)\u001b[0m\u001b[0;34m\u001b[0m\u001b[0m\n\u001b[1;32m      3\u001b[0m     \u001b[0mprint\u001b[0m\u001b[0;34m(\u001b[0m\u001b[0mmean_absolute_error\u001b[0m\u001b[0;34m(\u001b[0m\u001b[0md\u001b[0m\u001b[0;34m[\u001b[0m\u001b[0;34m'scalar_coupling_constant'\u001b[0m\u001b[0;34m]\u001b[0m\u001b[0;34m,\u001b[0m \u001b[0md\u001b[0m\u001b[0;34m[\u001b[0m\u001b[0;34m'oof_preds'\u001b[0m\u001b[0;34m]\u001b[0m\u001b[0;34m)\u001b[0m\u001b[0;34m)\u001b[0m\u001b[0;34m\u001b[0m\u001b[0m\n",
      "\u001b[0;31mNameError\u001b[0m: name 'oof_final' is not defined"
     ]
    }
   ],
   "source": [
    "for i, d in oof_final.groupby('type'):\n",
    "    print(i)\n",
    "    print(mean_absolute_error(d['scalar_coupling_constant'], d['oof_preds']))"
   ]
  },
  {
   "cell_type": "code",
   "execution_count": 118,
   "metadata": {},
   "outputs": [
    {
     "data": {
      "text/plain": [
       "-1.4572817819051431"
      ]
     },
     "execution_count": 118,
     "metadata": {},
     "output_type": "execute_result"
    }
   ],
   "source": [
    "group_mean_log_mae(oof_final['scalar_coupling_constant'], oof_final['oof_preds'], oof_final['type'])"
   ]
  },
  {
   "cell_type": "markdown",
   "metadata": {},
   "source": [
    "# Read Submission files"
   ]
  },
  {
   "cell_type": "code",
   "execution_count": 6,
   "metadata": {},
   "outputs": [],
   "source": [
    "test = pd.read_csv('../input/test.csv')"
   ]
  },
  {
   "cell_type": "code",
   "execution_count": 7,
   "metadata": {},
   "outputs": [
    {
     "data": {
      "text/html": [
       "<div>\n",
       "<style scoped>\n",
       "    .dataframe tbody tr th:only-of-type {\n",
       "        vertical-align: middle;\n",
       "    }\n",
       "\n",
       "    .dataframe tbody tr th {\n",
       "        vertical-align: top;\n",
       "    }\n",
       "\n",
       "    .dataframe thead th {\n",
       "        text-align: right;\n",
       "    }\n",
       "</style>\n",
       "<table border=\"1\" class=\"dataframe\">\n",
       "  <thead>\n",
       "    <tr style=\"text-align: right;\">\n",
       "      <th></th>\n",
       "      <th>id</th>\n",
       "      <th>molecule_name</th>\n",
       "      <th>atom_index_0</th>\n",
       "      <th>atom_index_1</th>\n",
       "      <th>type</th>\n",
       "    </tr>\n",
       "  </thead>\n",
       "  <tbody>\n",
       "    <tr>\n",
       "      <th>0</th>\n",
       "      <td>4658147</td>\n",
       "      <td>dsgdb9nsd_000004</td>\n",
       "      <td>2</td>\n",
       "      <td>0</td>\n",
       "      <td>2JHC</td>\n",
       "    </tr>\n",
       "    <tr>\n",
       "      <th>1</th>\n",
       "      <td>4658148</td>\n",
       "      <td>dsgdb9nsd_000004</td>\n",
       "      <td>2</td>\n",
       "      <td>1</td>\n",
       "      <td>1JHC</td>\n",
       "    </tr>\n",
       "    <tr>\n",
       "      <th>2</th>\n",
       "      <td>4658149</td>\n",
       "      <td>dsgdb9nsd_000004</td>\n",
       "      <td>2</td>\n",
       "      <td>3</td>\n",
       "      <td>3JHH</td>\n",
       "    </tr>\n",
       "    <tr>\n",
       "      <th>3</th>\n",
       "      <td>4658150</td>\n",
       "      <td>dsgdb9nsd_000004</td>\n",
       "      <td>3</td>\n",
       "      <td>0</td>\n",
       "      <td>1JHC</td>\n",
       "    </tr>\n",
       "    <tr>\n",
       "      <th>4</th>\n",
       "      <td>4658151</td>\n",
       "      <td>dsgdb9nsd_000004</td>\n",
       "      <td>3</td>\n",
       "      <td>1</td>\n",
       "      <td>2JHC</td>\n",
       "    </tr>\n",
       "  </tbody>\n",
       "</table>\n",
       "</div>"
      ],
      "text/plain": [
       "        id     molecule_name  atom_index_0  atom_index_1  type\n",
       "0  4658147  dsgdb9nsd_000004             2             0  2JHC\n",
       "1  4658148  dsgdb9nsd_000004             2             1  1JHC\n",
       "2  4658149  dsgdb9nsd_000004             2             3  3JHH\n",
       "3  4658150  dsgdb9nsd_000004             3             0  1JHC\n",
       "4  4658151  dsgdb9nsd_000004             3             1  2JHC"
      ]
     },
     "execution_count": 7,
     "metadata": {},
     "output_type": "execute_result"
    }
   ],
   "source": [
    "test.head()"
   ]
  },
  {
   "cell_type": "code",
   "execution_count": 8,
   "metadata": {},
   "outputs": [],
   "source": [
    "ss = test[['id','type']].copy()\n",
    "ss['scalar_coupling_constant'] = 0"
   ]
  },
  {
   "cell_type": "code",
   "execution_count": 19,
   "metadata": {},
   "outputs": [],
   "source": [
    "subM024 = pd.read_csv('../submissions/M024_0627_1434_submission_lgb_2folds_-1.2826CV_500000iter_0.1lr.csv')\n",
    "subM025 = pd.read_csv('../submissions/M025_0629_1311_submission_lgb_2folds_-1.3265CV_500000iter_0.1lr.csv')\n",
    "subM026 = pd.read_csv('../submissions/M026_COMBINED_submission_lgb_2folds_-1.2198CV_500000iter_0.1lr.csv')\n",
    "subM027 = pd.read_csv('../submissions/M027_0629_2221_submission_lgb_2folds_-1.2683CV_500000iter_0.1lr.csv')\n",
    "subM028 = pd.read_csv('../submissions/M028_0630_1258_submission_lgb_2folds_-1.2487CV_5000000iter_0.1lr.csv')\n",
    "subM029 = pd.read_csv('../submissions/M029_0701_0819_submission_lgb_2folds_-1.2437CV_5000000iter_0.1lr.csv')\n",
    "subM030a = pd.read_csv('../temp/M030/temp4of8_M030_0701_1302_submission_lgb_3folds_5000000iter_0.05lr.csv')\n",
    "subM030b = pd.read_csv('../temp/M030/temp4of8_M030_0701_1304_submission_lgb_3folds_5000000iter_0.05lr.csv')\n",
    "subM030c = pd.read_csv('../temp/M030/temp4of8_M030_0701_1300_submission_lgb_3folds_5000000iter_0.05lr.csv')\n",
    "subM030 = subM030a.copy()\n",
    "subM030['scalar_coupling_constant'] = (subM030a['scalar_coupling_constant'] + subM030b['scalar_coupling_constant'] + subM030c['scalar_coupling_constant']) / 3\n",
    "subM031 = pd.read_csv('../temp/M031/temp4of8_M031_0702_0822_submission_lgb_3folds_5000000iter_0.05lr.csv')\n",
    "subM032 = pd.read_csv('../temp/M032/temp7of8_M032_0703_2133_submission_lgb_3folds_5000000iter_0.1lr.csv')\n",
    "subM035 = pd.read_csv('../temp/M035/temp3of8_M035_0704_2344_submission_lgbm_2folds_500000iter_0.01lr.csv')"
   ]
  },
  {
   "cell_type": "code",
   "execution_count": 20,
   "metadata": {},
   "outputs": [],
   "source": [
    "# 1JHC\n",
    "temp = (subM030['scalar_coupling_constant'] + subM031['scalar_coupling_constant'] + subM032['scalar_coupling_constant']) / 3\n",
    "ss.loc[ss['type'] == '1JHC', 'scalar_coupling_constant'] = temp.loc[ss['type'] == '1JHC']\n",
    "# 2JHH\n",
    "temp = (subM030['scalar_coupling_constant'] + subM031['scalar_coupling_constant'] + subM032['scalar_coupling_constant'] + subM025['scalar_coupling_constant']) / 4\n",
    "ss.loc[ss['type'] == '2JHH', 'scalar_coupling_constant'] = temp.loc[ss['type'] == '2JHH']\n",
    "# 1JHN\n",
    "temp = (subM030['scalar_coupling_constant'] + subM035['scalar_coupling_constant'] + subM024['scalar_coupling_constant'] + subM029['scalar_coupling_constant']) / 4\n",
    "ss.loc[ss['type'] == '1JHN', 'scalar_coupling_constant'] = temp.loc[ss['type'] == '1JHN']\n",
    "# 2JHN\n",
    "temp = (subM031['scalar_coupling_constant'] + subM030['scalar_coupling_constant'] + subM025['scalar_coupling_constant'] + subM032['scalar_coupling_constant']) / 4\n",
    "ss.loc[ss['type'] == '2JHN', 'scalar_coupling_constant'] = temp.loc[ss['type'] == '2JHN']\n",
    "# 2JHC\n",
    "temp = (subM032['scalar_coupling_constant'] + subM025['scalar_coupling_constant'] + subM027['scalar_coupling_constant'] + subM028['scalar_coupling_constant'] + subM024['scalar_coupling_constant']) / 5\n",
    "ss.loc[ss['type'] == '2JHC', 'scalar_coupling_constant'] = temp.loc[ss['type'] == '2JHC']\n",
    "# 3JHH\n",
    "temp = (subM025['scalar_coupling_constant'] + subM032['scalar_coupling_constant'] + subM024['scalar_coupling_constant'] + subM027['scalar_coupling_constant'] + subM028['scalar_coupling_constant']) / 5\n",
    "ss.loc[ss['type'] == '3JHH', 'scalar_coupling_constant'] = temp.loc[ss['type'] == '3JHH']\n",
    "# 3JHC\n",
    "temp = (subM032['scalar_coupling_constant'] + subM025['scalar_coupling_constant'] + subM027['scalar_coupling_constant'] + subM028['scalar_coupling_constant'] + subM024['scalar_coupling_constant'] + subM026['scalar_coupling_constant']) / 6\n",
    "ss.loc[ss['type'] == '3JHC', 'scalar_coupling_constant'] = temp.loc[ss['type'] == '3JHC']\n",
    "# 3JHN\n",
    "temp = (subM025['scalar_coupling_constant'] + subM024['scalar_coupling_constant'] + subM028['scalar_coupling_constant'] + subM027['scalar_coupling_constant'] + subM026['scalar_coupling_constant']) / 5\n",
    "ss.loc[ss['type'] == '3JHN', 'scalar_coupling_constant'] = temp.loc[ss['type'] == '3JHN']\n"
   ]
  },
  {
   "cell_type": "code",
   "execution_count": 21,
   "metadata": {},
   "outputs": [],
   "source": [
    "ss['scalar_coupling_constant_good'] = subM025['scalar_coupling_constant']"
   ]
  },
  {
   "cell_type": "code",
   "execution_count": 22,
   "metadata": {},
   "outputs": [
    {
     "data": {
      "text/html": [
       "<div>\n",
       "<style scoped>\n",
       "    .dataframe tbody tr th:only-of-type {\n",
       "        vertical-align: middle;\n",
       "    }\n",
       "\n",
       "    .dataframe tbody tr th {\n",
       "        vertical-align: top;\n",
       "    }\n",
       "\n",
       "    .dataframe thead th {\n",
       "        text-align: right;\n",
       "    }\n",
       "</style>\n",
       "<table border=\"1\" class=\"dataframe\">\n",
       "  <thead>\n",
       "    <tr style=\"text-align: right;\">\n",
       "      <th></th>\n",
       "      <th>id</th>\n",
       "      <th>scalar_coupling_constant</th>\n",
       "      <th>scalar_coupling_constant_good</th>\n",
       "    </tr>\n",
       "  </thead>\n",
       "  <tbody>\n",
       "    <tr>\n",
       "      <th>id</th>\n",
       "      <td>1.000000</td>\n",
       "      <td>-0.006562</td>\n",
       "      <td>-0.006585</td>\n",
       "    </tr>\n",
       "    <tr>\n",
       "      <th>scalar_coupling_constant</th>\n",
       "      <td>-0.006562</td>\n",
       "      <td>1.000000</td>\n",
       "      <td>0.999974</td>\n",
       "    </tr>\n",
       "    <tr>\n",
       "      <th>scalar_coupling_constant_good</th>\n",
       "      <td>-0.006585</td>\n",
       "      <td>0.999974</td>\n",
       "      <td>1.000000</td>\n",
       "    </tr>\n",
       "  </tbody>\n",
       "</table>\n",
       "</div>"
      ],
      "text/plain": [
       "                                     id  scalar_coupling_constant  scalar_coupling_constant_good\n",
       "id                             1.000000                 -0.006562                      -0.006585\n",
       "scalar_coupling_constant      -0.006562                  1.000000                       0.999974\n",
       "scalar_coupling_constant_good -0.006585                  0.999974                       1.000000"
      ]
     },
     "execution_count": 22,
     "metadata": {},
     "output_type": "execute_result"
    }
   ],
   "source": [
    "ss.corr()"
   ]
  },
  {
   "cell_type": "code",
   "execution_count": 23,
   "metadata": {},
   "outputs": [
    {
     "data": {
      "image/png": "[encoded data removed]",
      "text/plain": [
       "<Figure size 360x360 with 1 Axes>"
      ]
     },
     "metadata": {},
     "output_type": "display_data"
    },
    {
     "data": {
      "image/png": "[encoded data removed]",
      "text/plain": [
       "<Figure size 360x360 with 1 Axes>"
      ]
     },
     "metadata": {},
     "output_type": "display_data"
    },
    {
     "data": {
      "image/png": "[encoded data removed]",
      "text/plain": [
       "<Figure size 360x360 with 1 Axes>"
      ]
     },
     "metadata": {},
     "output_type": "display_data"
    },
    {
     "data": {
      "image/png": "[encoded data removed]",
      "text/plain": [
       "<Figure size 360x360 with 1 Axes>"
      ]
     },
     "metadata": {},
     "output_type": "display_data"
    },
    {
     "data": {
      "image/png": "[encoded data removed]",
      "text/plain": [
       "<Figure size 360x360 with 1 Axes>"
      ]
     },
     "metadata": {},
     "output_type": "display_data"
    },
    {
     "data": {
      "image/png": "[encoded data removed]",
      "text/plain": [
       "<Figure size 360x360 with 1 Axes>"
      ]
     },
     "metadata": {},
     "output_type": "display_data"
    },
    {
     "data": {
      "image/png": "[encoded data removed]",
      "text/plain": [
       "<Figure size 360x360 with 1 Axes>"
      ]
     },
     "metadata": {},
     "output_type": "display_data"
    },
    {
     "data": {
      "image/png": "[encoded data removed]",
      "text/plain": [
       "<Figure size 360x360 with 1 Axes>"
      ]
     },
     "metadata": {},
     "output_type": "display_data"
    }
   ],
   "source": [
    "import matplotlib.pylab as plt\n",
    "for i, d in ss.groupby('type'):\n",
    "    d.plot(x='scalar_coupling_constant', y='scalar_coupling_constant_good', kind='scatter', figsize=(5, 5), title=i)\n",
    "    plt.show()"
   ]
  },
  {
   "cell_type": "code",
   "execution_count": 24,
   "metadata": {},
   "outputs": [],
   "source": [
    "ss[['id','scalar_coupling_constant']].to_csv('../submissions/BLEND003-CV-1.4572_Jul6best.csv', index=False)"
   ]
  },
  {
   "cell_type": "code",
   "execution_count": 25,
   "metadata": {},
   "outputs": [
    {
     "data": {
      "text/html": [
       "<div>\n",
       "<style scoped>\n",
       "    .dataframe tbody tr th:only-of-type {\n",
       "        vertical-align: middle;\n",
       "    }\n",
       "\n",
       "    .dataframe tbody tr th {\n",
       "        vertical-align: top;\n",
       "    }\n",
       "\n",
       "    .dataframe thead th {\n",
       "        text-align: right;\n",
       "    }\n",
       "</style>\n",
       "<table border=\"1\" class=\"dataframe\">\n",
       "  <thead>\n",
       "    <tr style=\"text-align: right;\">\n",
       "      <th></th>\n",
       "      <th>id</th>\n",
       "      <th>type</th>\n",
       "      <th>scalar_coupling_constant</th>\n",
       "      <th>scalar_coupling_constant_good</th>\n",
       "    </tr>\n",
       "  </thead>\n",
       "  <tbody>\n",
       "    <tr>\n",
       "      <th>0</th>\n",
       "      <td>4658147</td>\n",
       "      <td>2JHC</td>\n",
       "      <td>10.255468</td>\n",
       "      <td>8.873624</td>\n",
       "    </tr>\n",
       "    <tr>\n",
       "      <th>1</th>\n",
       "      <td>4658148</td>\n",
       "      <td>1JHC</td>\n",
       "      <td>156.287614</td>\n",
       "      <td>134.914493</td>\n",
       "    </tr>\n",
       "    <tr>\n",
       "      <th>2</th>\n",
       "      <td>4658149</td>\n",
       "      <td>3JHH</td>\n",
       "      <td>4.949016</td>\n",
       "      <td>3.716820</td>\n",
       "    </tr>\n",
       "    <tr>\n",
       "      <th>3</th>\n",
       "      <td>4658150</td>\n",
       "      <td>1JHC</td>\n",
       "      <td>156.287614</td>\n",
       "      <td>134.914493</td>\n",
       "    </tr>\n",
       "    <tr>\n",
       "      <th>4</th>\n",
       "      <td>4658151</td>\n",
       "      <td>2JHC</td>\n",
       "      <td>10.255468</td>\n",
       "      <td>8.873624</td>\n",
       "    </tr>\n",
       "  </tbody>\n",
       "</table>\n",
       "</div>"
      ],
      "text/plain": [
       "        id  type  scalar_coupling_constant  scalar_coupling_constant_good\n",
       "0  4658147  2JHC                 10.255468                       8.873624\n",
       "1  4658148  1JHC                156.287614                     134.914493\n",
       "2  4658149  3JHH                  4.949016                       3.716820\n",
       "3  4658150  1JHC                156.287614                     134.914493\n",
       "4  4658151  2JHC                 10.255468                       8.873624"
      ]
     },
     "execution_count": 25,
     "metadata": {},
     "output_type": "execute_result"
    }
   ],
   "source": [
    "ss.head()"
   ]
  }
 ],
 "metadata": {
  "kernelspec": {
   "display_name": "Python 3",
   "language": "python",
   "name": "python3"
  },
  "language_info": {
   "codemirror_mode": {
    "name": "ipython",
    "version": 3
   },
   "file_extension": ".py",
   "mimetype": "text/x-python",
   "name": "python",
   "nbconvert_exporter": "python",
   "pygments_lexer": "ipython3",
   "version": "3.6.6"
  }
 },
 "nbformat": 4,
 "nbformat_minor": 2
}
