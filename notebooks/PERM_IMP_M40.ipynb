{
 "cells": [
  {
   "cell_type": "markdown",
   "metadata": {},
   "source": [
    "# Permutation Importance on Model M040\n",
    "- Per Type, find features which do not help the model"
   ]
  },
  {
   "cell_type": "code",
   "execution_count": 2,
   "metadata": {},
   "outputs": [],
   "source": [
    "import pandas as pd\n",
    "import catboost\n",
    "from sklearn.model_selection import GroupKFold\n",
    "from sklearn.metrics import mean_absolute_error\n",
    "from tqdm import tqdm\n",
    "import numpy as np\n",
    "import gc"
   ]
  },
  {
   "cell_type": "code",
   "execution_count": 3,
   "metadata": {},
   "outputs": [],
   "source": [
    "def permutation_importance(model, X_val, y_val, metric, threshold=0.005,\n",
    "                           minimize=True, verbose=True):\n",
    "    \"\"\"\n",
    "    Reference: https://www.kaggle.com/speedwagon/permutation-importance\n",
    "    \n",
    "    Modified by Rob\n",
    "    \"\"\"\n",
    "    results = {}\n",
    "    \n",
    "    y_pred = model.predict(X_val)\n",
    "    \n",
    "    results['base_score'] = metric(y_val, y_pred)\n",
    "    if verbose:\n",
    "        print(f'Base score {results[\"base_score\"]:.5}')\n",
    "\n",
    "    \n",
    "    for col in tqdm(X_val.columns):\n",
    "        freezed_col = X_val[col].copy()\n",
    "\n",
    "        X_val[col] = np.random.permutation(X_val[col])\n",
    "        preds = model.predict(X_val, thread_count=20)\n",
    "        results[col] = metric(y_val, preds)\n",
    "\n",
    "        X_val[col] = freezed_col\n",
    "        \n",
    "        if verbose:\n",
    "            print(f'column: {col} - {results[col]:.5}')\n",
    "    \n",
    "    if minimize:\n",
    "        bad_features = [k for k in results if results[k] < results['base_score'] + threshold]\n",
    "    else:\n",
    "        bad_features = [k for k in results if results[k] > results['base_score'] + threshold]\n",
    "    bad_features.remove('base_score')\n",
    "    \n",
    "    return results, bad_features"
   ]
  },
  {
   "cell_type": "code",
   "execution_count": 12,
   "metadata": {},
   "outputs": [
    {
     "name": "stderr",
     "output_type": "stream",
     "text": [
      "  0%|          | 0/214 [00:00<?, ?it/s]"
     ]
    },
    {
     "name": "stdout",
     "output_type": "stream",
     "text": [
      "Base score 0.11625\n"
     ]
    },
    {
     "name": "stderr",
     "output_type": "stream",
     "text": [
      "  0%|          | 1/214 [00:08<30:08,  8.49s/it]"
     ]
    },
    {
     "name": "stdout",
     "output_type": "stream",
     "text": [
      "column: atom1_valence - 0.13909\n"
     ]
    },
    {
     "name": "stderr",
     "output_type": "stream",
     "text": [
      "  1%|          | 2/214 [00:17<30:37,  8.67s/it]"
     ]
    },
    {
     "name": "stdout",
     "output_type": "stream",
     "text": [
      "column: distance - 0.3041\n"
     ]
    },
    {
     "name": "stderr",
     "output_type": "stream",
     "text": [
      "  1%|▏         | 3/214 [00:26<30:46,  8.75s/it]"
     ]
    },
    {
     "name": "stdout",
     "output_type": "stream",
     "text": [
      "column: distance_closest_to_0 - 0.13149\n"
     ]
    },
    {
     "name": "stderr",
     "output_type": "stream",
     "text": [
      "  2%|▏         | 4/214 [00:33<28:43,  8.21s/it]"
     ]
    },
    {
     "name": "stdout",
     "output_type": "stream",
     "text": [
      "column: distance_2nd_closest_to_0 - 0.20351\n"
     ]
    },
    {
     "name": "stderr",
     "output_type": "stream",
     "text": [
      "  2%|▏         | 5/214 [00:42<29:28,  8.46s/it]"
     ]
    },
    {
     "name": "stdout",
     "output_type": "stream",
     "text": [
      "column: distance_3rd_closest_to_0 - 0.13593\n"
     ]
    },
    {
     "name": "stderr",
     "output_type": "stream",
     "text": [
      "  3%|▎         | 6/214 [00:51<29:40,  8.56s/it]"
     ]
    },
    {
     "name": "stdout",
     "output_type": "stream",
     "text": [
      "column: distance_4th_closest_to_0 - 0.13593\n"
     ]
    },
    {
     "name": "stderr",
     "output_type": "stream",
     "text": [
      "  3%|▎         | 7/214 [00:57<27:36,  8.00s/it]"
     ]
    },
    {
     "name": "stdout",
     "output_type": "stream",
     "text": [
      "column: distance_5th_closest_to_0 - 0.12419\n"
     ]
    },
    {
     "name": "stderr",
     "output_type": "stream",
     "text": [
      "  4%|▎         | 8/214 [01:04<25:58,  7.57s/it]"
     ]
    },
    {
     "name": "stdout",
     "output_type": "stream",
     "text": [
      "column: distance_6th_closest_to_0 - 0.12048\n"
     ]
    },
    {
     "name": "stderr",
     "output_type": "stream",
     "text": [
      "  4%|▍         | 9/214 [01:12<26:33,  7.77s/it]"
     ]
    },
    {
     "name": "stdout",
     "output_type": "stream",
     "text": [
      "column: distance_7th_closest_to_0 - 0.11972\n"
     ]
    },
    {
     "name": "stderr",
     "output_type": "stream",
     "text": [
      "  5%|▍         | 10/214 [01:19<25:38,  7.54s/it]"
     ]
    },
    {
     "name": "stdout",
     "output_type": "stream",
     "text": [
      "column: distance_8th_closest_to_0 - 0.11868\n"
     ]
    },
    {
     "name": "stderr",
     "output_type": "stream",
     "text": [
      "  5%|▌         | 11/214 [01:26<24:28,  7.23s/it]"
     ]
    },
    {
     "name": "stdout",
     "output_type": "stream",
     "text": [
      "column: distance_9th_closest_to_0 - 0.11977\n"
     ]
    },
    {
     "name": "stderr",
     "output_type": "stream",
     "text": [
      "  6%|▌         | 12/214 [01:32<23:28,  6.97s/it]"
     ]
    },
    {
     "name": "stdout",
     "output_type": "stream",
     "text": [
      "column: distance_10th_closest_to_0 - 0.11788\n"
     ]
    },
    {
     "name": "stderr",
     "output_type": "stream",
     "text": [
      "  6%|▌         | 13/214 [01:39<23:33,  7.03s/it]"
     ]
    },
    {
     "name": "stdout",
     "output_type": "stream",
     "text": [
      "column: distance_closest_to_1 - 0.12886\n"
     ]
    },
    {
     "name": "stderr",
     "output_type": "stream",
     "text": [
      "  7%|▋         | 14/214 [01:46<23:01,  6.91s/it]"
     ]
    },
    {
     "name": "stdout",
     "output_type": "stream",
     "text": [
      "column: distance_2nd_closest_to_1 - 0.12686\n"
     ]
    },
    {
     "name": "stderr",
     "output_type": "stream",
     "text": [
      "  7%|▋         | 15/214 [01:53<23:00,  6.94s/it]"
     ]
    },
    {
     "name": "stdout",
     "output_type": "stream",
     "text": [
      "column: distance_3rd_closest_to_1 - 0.20133\n"
     ]
    },
    {
     "name": "stderr",
     "output_type": "stream",
     "text": [
      "  7%|▋         | 16/214 [02:02<24:57,  7.57s/it]"
     ]
    },
    {
     "name": "stdout",
     "output_type": "stream",
     "text": [
      "column: distance_4th_closest_to_1 - 0.12765\n"
     ]
    },
    {
     "name": "stderr",
     "output_type": "stream",
     "text": [
      "  8%|▊         | 17/214 [02:10<25:33,  7.78s/it]"
     ]
    },
    {
     "name": "stdout",
     "output_type": "stream",
     "text": [
      "column: distance_5th_closest_to_1 - 0.1375\n"
     ]
    },
    {
     "name": "stderr",
     "output_type": "stream",
     "text": [
      "  8%|▊         | 18/214 [02:17<24:07,  7.39s/it]"
     ]
    },
    {
     "name": "stdout",
     "output_type": "stream",
     "text": [
      "column: distance_6th_closest_to_1 - 0.12152\n"
     ]
    },
    {
     "name": "stderr",
     "output_type": "stream",
     "text": [
      "  9%|▉         | 19/214 [02:25<24:38,  7.58s/it]"
     ]
    },
    {
     "name": "stdout",
     "output_type": "stream",
     "text": [
      "column: distance_7th_closest_to_1 - 0.12805\n"
     ]
    },
    {
     "name": "stderr",
     "output_type": "stream",
     "text": [
      "  9%|▉         | 20/214 [02:33<24:44,  7.65s/it]"
     ]
    },
    {
     "name": "stdout",
     "output_type": "stream",
     "text": [
      "column: distance_8th_closest_to_1 - 0.12095\n"
     ]
    },
    {
     "name": "stderr",
     "output_type": "stream",
     "text": [
      " 10%|▉         | 21/214 [02:39<23:29,  7.30s/it]"
     ]
    },
    {
     "name": "stdout",
     "output_type": "stream",
     "text": [
      "column: distance_9th_closest_to_1 - 0.11988\n"
     ]
    },
    {
     "name": "stderr",
     "output_type": "stream",
     "text": [
      " 10%|█         | 22/214 [02:47<23:31,  7.35s/it]"
     ]
    },
    {
     "name": "stdout",
     "output_type": "stream",
     "text": [
      "column: distance_10th_closest_to_1 - 0.11946\n"
     ]
    },
    {
     "name": "stderr",
     "output_type": "stream",
     "text": [
      " 11%|█         | 23/214 [02:55<24:17,  7.63s/it]"
     ]
    },
    {
     "name": "stdout",
     "output_type": "stream",
     "text": [
      "column: closest_to_0_atomic_mass - 0.11625\n"
     ]
    },
    {
     "name": "stderr",
     "output_type": "stream",
     "text": [
      " 11%|█         | 24/214 [03:02<23:28,  7.42s/it]"
     ]
    },
    {
     "name": "stdout",
     "output_type": "stream",
     "text": [
      "column: closest_to_0_valence - 0.14161\n"
     ]
    },
    {
     "name": "stderr",
     "output_type": "stream",
     "text": [
      " 12%|█▏        | 25/214 [03:09<23:34,  7.49s/it]"
     ]
    },
    {
     "name": "stdout",
     "output_type": "stream",
     "text": [
      "column: closest_to_0_spin_multiplicity - 0.11658\n"
     ]
    },
    {
     "name": "stderr",
     "output_type": "stream",
     "text": [
      " 12%|█▏        | 26/214 [03:16<23:02,  7.35s/it]"
     ]
    },
    {
     "name": "stdout",
     "output_type": "stream",
     "text": [
      "column: 2nd_closest_to_0_atomic_mass - 0.118\n"
     ]
    },
    {
     "name": "stderr",
     "output_type": "stream",
     "text": [
      " 13%|█▎        | 27/214 [03:23<22:08,  7.10s/it]"
     ]
    },
    {
     "name": "stdout",
     "output_type": "stream",
     "text": [
      "column: 2nd_closest_to_0_valence - 0.12872\n"
     ]
    },
    {
     "name": "stderr",
     "output_type": "stream",
     "text": [
      " 13%|█▎        | 28/214 [03:30<22:13,  7.17s/it]"
     ]
    },
    {
     "name": "stdout",
     "output_type": "stream",
     "text": [
      "column: 2nd_closest_to_0_spin_multiplicity - 0.11652\n"
     ]
    },
    {
     "name": "stderr",
     "output_type": "stream",
     "text": [
      " 14%|█▎        | 29/214 [03:36<21:06,  6.85s/it]"
     ]
    },
    {
     "name": "stdout",
     "output_type": "stream",
     "text": [
      "column: 3rd_closest_to_0_atomic_mass - 0.12057\n"
     ]
    },
    {
     "name": "stderr",
     "output_type": "stream",
     "text": [
      " 14%|█▍        | 30/214 [03:43<20:29,  6.68s/it]"
     ]
    },
    {
     "name": "stdout",
     "output_type": "stream",
     "text": [
      "column: 3rd_closest_to_0_valence - 0.12802\n"
     ]
    },
    {
     "name": "stderr",
     "output_type": "stream",
     "text": [
      " 14%|█▍        | 31/214 [03:49<19:40,  6.45s/it]"
     ]
    },
    {
     "name": "stdout",
     "output_type": "stream",
     "text": [
      "column: 3rd_closest_to_0_spin_multiplicity - 0.11644\n"
     ]
    },
    {
     "name": "stderr",
     "output_type": "stream",
     "text": [
      " 15%|█▍        | 32/214 [03:54<18:50,  6.21s/it]"
     ]
    },
    {
     "name": "stdout",
     "output_type": "stream",
     "text": [
      "column: 4th_closest_to_0_atomic_mass - 0.11678\n"
     ]
    },
    {
     "name": "stderr",
     "output_type": "stream",
     "text": [
      " 15%|█▌        | 33/214 [04:00<18:15,  6.05s/it]"
     ]
    },
    {
     "name": "stdout",
     "output_type": "stream",
     "text": [
      "column: 4th_closest_to_0_valence - 0.12205\n"
     ]
    },
    {
     "name": "stderr",
     "output_type": "stream",
     "text": [
      " 16%|█▌        | 34/214 [04:05<17:34,  5.86s/it]"
     ]
    },
    {
     "name": "stdout",
     "output_type": "stream",
     "text": [
      "column: 4th_closest_to_0_spin_multiplicity - 0.1167\n"
     ]
    },
    {
     "name": "stderr",
     "output_type": "stream",
     "text": [
      " 16%|█▋        | 35/214 [04:10<16:47,  5.63s/it]"
     ]
    },
    {
     "name": "stdout",
     "output_type": "stream",
     "text": [
      "column: 5th_closest_to_0_atomic_mass - 0.11672\n"
     ]
    },
    {
     "name": "stderr",
     "output_type": "stream",
     "text": [
      " 17%|█▋        | 36/214 [04:15<15:30,  5.23s/it]"
     ]
    },
    {
     "name": "stdout",
     "output_type": "stream",
     "text": [
      "column: 5th_closest_to_0_valence - 0.11645\n"
     ]
    },
    {
     "name": "stderr",
     "output_type": "stream",
     "text": [
      " 17%|█▋        | 37/214 [04:19<14:38,  4.97s/it]"
     ]
    },
    {
     "name": "stdout",
     "output_type": "stream",
     "text": [
      "column: 5th_closest_to_0_spin_multiplicity - 0.11625\n"
     ]
    },
    {
     "name": "stderr",
     "output_type": "stream",
     "text": [
      " 18%|█▊        | 38/214 [04:24<14:05,  4.80s/it]"
     ]
    },
    {
     "name": "stdout",
     "output_type": "stream",
     "text": [
      "column: 6th_closest_to_0_atomic_mass - 0.1164\n"
     ]
    },
    {
     "name": "stderr",
     "output_type": "stream",
     "text": [
      " 18%|█▊        | 39/214 [04:31<16:46,  5.75s/it]"
     ]
    },
    {
     "name": "stdout",
     "output_type": "stream",
     "text": [
      "column: 6th_closest_to_0_valence - 0.11649\n"
     ]
    },
    {
     "name": "stderr",
     "output_type": "stream",
     "text": [
      " 19%|█▊        | 40/214 [04:38<17:30,  6.04s/it]"
     ]
    },
    {
     "name": "stdout",
     "output_type": "stream",
     "text": [
      "column: 6th_closest_to_0_spin_multiplicity - 0.11645\n"
     ]
    },
    {
     "name": "stderr",
     "output_type": "stream",
     "text": [
      " 19%|█▉        | 41/214 [04:45<18:16,  6.34s/it]"
     ]
    },
    {
     "name": "stdout",
     "output_type": "stream",
     "text": [
      "column: 7th_closest_to_0_atomic_mass - 0.11634\n"
     ]
    },
    {
     "name": "stderr",
     "output_type": "stream",
     "text": [
      " 20%|█▉        | 42/214 [04:52<18:55,  6.60s/it]"
     ]
    },
    {
     "name": "stdout",
     "output_type": "stream",
     "text": [
      "column: 7th_closest_to_0_valence - 0.11651\n"
     ]
    },
    {
     "name": "stderr",
     "output_type": "stream",
     "text": [
      " 20%|██        | 43/214 [05:01<20:23,  7.15s/it]"
     ]
    },
    {
     "name": "stdout",
     "output_type": "stream",
     "text": [
      "column: 7th_closest_to_0_spin_multiplicity - 0.11631\n"
     ]
    },
    {
     "name": "stderr",
     "output_type": "stream",
     "text": [
      " 21%|██        | 44/214 [05:08<20:08,  7.11s/it]"
     ]
    },
    {
     "name": "stdout",
     "output_type": "stream",
     "text": [
      "column: 8th_closest_to_0_atomic_mass - 0.11636\n"
     ]
    },
    {
     "name": "stderr",
     "output_type": "stream",
     "text": [
      " 21%|██        | 45/214 [05:15<20:23,  7.24s/it]"
     ]
    },
    {
     "name": "stdout",
     "output_type": "stream",
     "text": [
      "column: 8th_closest_to_0_valence - 0.11646\n"
     ]
    },
    {
     "name": "stderr",
     "output_type": "stream",
     "text": [
      " 21%|██▏       | 46/214 [05:23<20:37,  7.37s/it]"
     ]
    },
    {
     "name": "stdout",
     "output_type": "stream",
     "text": [
      "column: 8th_closest_to_0_spin_multiplicity - 0.11631\n"
     ]
    },
    {
     "name": "stderr",
     "output_type": "stream",
     "text": [
      " 22%|██▏       | 47/214 [05:31<20:44,  7.45s/it]"
     ]
    },
    {
     "name": "stdout",
     "output_type": "stream",
     "text": [
      "column: 9th_closest_to_0_atomic_mass - 0.11631\n"
     ]
    },
    {
     "name": "stderr",
     "output_type": "stream",
     "text": [
      " 22%|██▏       | 48/214 [05:39<21:16,  7.69s/it]"
     ]
    },
    {
     "name": "stdout",
     "output_type": "stream",
     "text": [
      "column: 9th_closest_to_0_valence - 0.11651\n"
     ]
    },
    {
     "name": "stderr",
     "output_type": "stream",
     "text": [
      " 23%|██▎       | 49/214 [05:47<21:44,  7.90s/it]"
     ]
    },
    {
     "name": "stdout",
     "output_type": "stream",
     "text": [
      "column: 9th_closest_to_0_spin_multiplicity - 0.11629\n"
     ]
    },
    {
     "name": "stderr",
     "output_type": "stream",
     "text": [
      " 23%|██▎       | 50/214 [05:56<22:19,  8.17s/it]"
     ]
    },
    {
     "name": "stdout",
     "output_type": "stream",
     "text": [
      "column: 10th_closest_to_0_atomic_mass - 0.11628\n"
     ]
    },
    {
     "name": "stderr",
     "output_type": "stream",
     "text": [
      " 24%|██▍       | 51/214 [06:04<22:19,  8.22s/it]"
     ]
    },
    {
     "name": "stdout",
     "output_type": "stream",
     "text": [
      "column: 10th_closest_to_0_valence - 0.11654\n"
     ]
    },
    {
     "name": "stderr",
     "output_type": "stream",
     "text": [
      " 24%|██▍       | 52/214 [06:12<21:50,  8.09s/it]"
     ]
    },
    {
     "name": "stdout",
     "output_type": "stream",
     "text": [
      "column: 10th_closest_to_0_spin_multiplicity - 0.11628\n"
     ]
    },
    {
     "name": "stderr",
     "output_type": "stream",
     "text": [
      " 25%|██▍       | 53/214 [06:21<21:50,  8.14s/it]"
     ]
    },
    {
     "name": "stdout",
     "output_type": "stream",
     "text": [
      "column: closest_to_1_atomic_mass - 0.11642\n"
     ]
    },
    {
     "name": "stderr",
     "output_type": "stream",
     "text": [
      " 25%|██▌       | 54/214 [06:29<21:47,  8.17s/it]"
     ]
    },
    {
     "name": "stdout",
     "output_type": "stream",
     "text": [
      "column: closest_to_1_valence - 0.12362\n"
     ]
    },
    {
     "name": "stderr",
     "output_type": "stream",
     "text": [
      " 26%|██▌       | 55/214 [06:37<21:37,  8.16s/it]"
     ]
    },
    {
     "name": "stdout",
     "output_type": "stream",
     "text": [
      "column: closest_to_1_spin_multiplicity - 0.11702\n"
     ]
    },
    {
     "name": "stderr",
     "output_type": "stream",
     "text": [
      " 26%|██▌       | 56/214 [06:45<21:44,  8.26s/it]"
     ]
    },
    {
     "name": "stdout",
     "output_type": "stream",
     "text": [
      "column: 2nd_closest_to_1_atomic_mass - 0.11952\n"
     ]
    },
    {
     "name": "stderr",
     "output_type": "stream",
     "text": [
      " 27%|██▋       | 57/214 [06:53<20:41,  7.91s/it]"
     ]
    },
    {
     "name": "stdout",
     "output_type": "stream",
     "text": [
      "column: 2nd_closest_to_1_valence - 0.12439\n"
     ]
    },
    {
     "name": "stderr",
     "output_type": "stream",
     "text": [
      " 27%|██▋       | 58/214 [06:59<19:31,  7.51s/it]"
     ]
    },
    {
     "name": "stdout",
     "output_type": "stream",
     "text": [
      "column: 2nd_closest_to_1_spin_multiplicity - 0.11666\n"
     ]
    },
    {
     "name": "stderr",
     "output_type": "stream",
     "text": [
      " 28%|██▊       | 59/214 [07:07<19:51,  7.68s/it]"
     ]
    },
    {
     "name": "stdout",
     "output_type": "stream",
     "text": [
      "column: 3rd_closest_to_1_atomic_mass - 0.11628\n"
     ]
    },
    {
     "name": "stderr",
     "output_type": "stream",
     "text": [
      " 28%|██▊       | 60/214 [07:14<19:17,  7.52s/it]"
     ]
    },
    {
     "name": "stdout",
     "output_type": "stream",
     "text": [
      "column: 3rd_closest_to_1_valence - 0.11685\n"
     ]
    },
    {
     "name": "stderr",
     "output_type": "stream",
     "text": [
      " 29%|██▊       | 61/214 [07:21<18:21,  7.20s/it]"
     ]
    },
    {
     "name": "stdout",
     "output_type": "stream",
     "text": [
      "column: 3rd_closest_to_1_spin_multiplicity - 0.11631\n"
     ]
    },
    {
     "name": "stderr",
     "output_type": "stream",
     "text": [
      " 29%|██▉       | 62/214 [07:28<18:08,  7.16s/it]"
     ]
    },
    {
     "name": "stdout",
     "output_type": "stream",
     "text": [
      "column: 4th_closest_to_1_atomic_mass - 0.11759\n"
     ]
    },
    {
     "name": "stderr",
     "output_type": "stream",
     "text": [
      " 29%|██▉       | 63/214 [07:35<17:46,  7.07s/it]"
     ]
    },
    {
     "name": "stdout",
     "output_type": "stream",
     "text": [
      "column: 4th_closest_to_1_valence - 0.12591\n"
     ]
    },
    {
     "name": "stderr",
     "output_type": "stream",
     "text": [
      " 30%|██▉       | 64/214 [07:42<17:52,  7.15s/it]"
     ]
    },
    {
     "name": "stdout",
     "output_type": "stream",
     "text": [
      "column: 4th_closest_to_1_spin_multiplicity - 0.11627\n"
     ]
    },
    {
     "name": "stderr",
     "output_type": "stream",
     "text": [
      " 30%|███       | 65/214 [07:49<17:22,  7.00s/it]"
     ]
    },
    {
     "name": "stdout",
     "output_type": "stream",
     "text": [
      "column: 5th_closest_to_1_atomic_mass - 0.11792\n"
     ]
    },
    {
     "name": "stderr",
     "output_type": "stream",
     "text": [
      " 31%|███       | 66/214 [07:55<16:47,  6.81s/it]"
     ]
    },
    {
     "name": "stdout",
     "output_type": "stream",
     "text": [
      "column: 5th_closest_to_1_valence - 0.1178\n"
     ]
    },
    {
     "name": "stderr",
     "output_type": "stream",
     "text": [
      " 31%|███▏      | 67/214 [08:02<16:49,  6.87s/it]"
     ]
    },
    {
     "name": "stdout",
     "output_type": "stream",
     "text": [
      "column: 5th_closest_to_1_spin_multiplicity - 0.11631\n"
     ]
    },
    {
     "name": "stderr",
     "output_type": "stream",
     "text": [
      " 32%|███▏      | 68/214 [08:10<17:28,  7.18s/it]"
     ]
    },
    {
     "name": "stdout",
     "output_type": "stream",
     "text": [
      "column: 6th_closest_to_1_atomic_mass - 0.1167\n"
     ]
    },
    {
     "name": "stderr",
     "output_type": "stream",
     "text": [
      " 32%|███▏      | 69/214 [08:18<18:08,  7.50s/it]"
     ]
    },
    {
     "name": "stdout",
     "output_type": "stream",
     "text": [
      "column: 6th_closest_to_1_valence - 0.11687\n"
     ]
    },
    {
     "name": "stderr",
     "output_type": "stream",
     "text": [
      " 33%|███▎      | 70/214 [08:24<17:02,  7.10s/it]"
     ]
    },
    {
     "name": "stdout",
     "output_type": "stream",
     "text": [
      "column: 6th_closest_to_1_spin_multiplicity - 0.11637\n"
     ]
    },
    {
     "name": "stderr",
     "output_type": "stream",
     "text": [
      " 33%|███▎      | 71/214 [08:32<17:22,  7.29s/it]"
     ]
    },
    {
     "name": "stdout",
     "output_type": "stream",
     "text": [
      "column: 7th_closest_to_1_atomic_mass - 0.11662\n"
     ]
    },
    {
     "name": "stderr",
     "output_type": "stream",
     "text": [
      " 34%|███▎      | 72/214 [08:39<16:43,  7.07s/it]"
     ]
    },
    {
     "name": "stdout",
     "output_type": "stream",
     "text": [
      "column: 7th_closest_to_1_valence - 0.11676\n"
     ]
    },
    {
     "name": "stderr",
     "output_type": "stream",
     "text": [
      " 34%|███▍      | 73/214 [08:46<16:50,  7.17s/it]"
     ]
    },
    {
     "name": "stdout",
     "output_type": "stream",
     "text": [
      "column: 7th_closest_to_1_spin_multiplicity - 0.1163\n"
     ]
    },
    {
     "name": "stderr",
     "output_type": "stream",
     "text": [
      " 35%|███▍      | 74/214 [08:53<16:18,  6.99s/it]"
     ]
    },
    {
     "name": "stdout",
     "output_type": "stream",
     "text": [
      "column: 8th_closest_to_1_atomic_mass - 0.11659\n"
     ]
    },
    {
     "name": "stderr",
     "output_type": "stream",
     "text": [
      " 35%|███▌      | 75/214 [09:00<16:23,  7.08s/it]"
     ]
    },
    {
     "name": "stdout",
     "output_type": "stream",
     "text": [
      "column: 8th_closest_to_1_valence - 0.11645\n"
     ]
    },
    {
     "name": "stderr",
     "output_type": "stream",
     "text": [
      " 36%|███▌      | 76/214 [09:07<15:57,  6.94s/it]"
     ]
    },
    {
     "name": "stdout",
     "output_type": "stream",
     "text": [
      "column: 8th_closest_to_1_spin_multiplicity - 0.11631\n"
     ]
    },
    {
     "name": "stderr",
     "output_type": "stream",
     "text": [
      " 36%|███▌      | 77/214 [09:14<16:31,  7.24s/it]"
     ]
    },
    {
     "name": "stdout",
     "output_type": "stream",
     "text": [
      "column: 9th_closest_to_1_atomic_mass - 0.11635\n"
     ]
    },
    {
     "name": "stderr",
     "output_type": "stream",
     "text": [
      " 36%|███▋      | 78/214 [09:21<16:09,  7.13s/it]"
     ]
    },
    {
     "name": "stdout",
     "output_type": "stream",
     "text": [
      "column: 9th_closest_to_1_valence - 0.11632\n"
     ]
    },
    {
     "name": "stderr",
     "output_type": "stream",
     "text": [
      " 37%|███▋      | 79/214 [09:29<16:36,  7.38s/it]"
     ]
    },
    {
     "name": "stdout",
     "output_type": "stream",
     "text": [
      "column: 9th_closest_to_1_spin_multiplicity - 0.11629\n"
     ]
    },
    {
     "name": "stderr",
     "output_type": "stream",
     "text": [
      " 37%|███▋      | 80/214 [09:37<16:35,  7.43s/it]"
     ]
    },
    {
     "name": "stdout",
     "output_type": "stream",
     "text": [
      "column: 10th_closest_to_1_atomic_mass - 0.11637\n"
     ]
    },
    {
     "name": "stderr",
     "output_type": "stream",
     "text": [
      " 38%|███▊      | 81/214 [09:44<16:32,  7.46s/it]"
     ]
    },
    {
     "name": "stdout",
     "output_type": "stream",
     "text": [
      "column: 10th_closest_to_1_valence - 0.11633\n"
     ]
    },
    {
     "name": "stderr",
     "output_type": "stream",
     "text": [
      " 38%|███▊      | 82/214 [09:51<15:48,  7.19s/it]"
     ]
    },
    {
     "name": "stdout",
     "output_type": "stream",
     "text": [
      "column: 10th_closest_to_1_spin_multiplicity - 0.11627\n"
     ]
    },
    {
     "name": "stderr",
     "output_type": "stream",
     "text": [
      " 39%|███▉      | 83/214 [09:59<16:20,  7.48s/it]"
     ]
    },
    {
     "name": "stdout",
     "output_type": "stream",
     "text": [
      "column: mol_wt - 0.11687\n"
     ]
    },
    {
     "name": "stderr",
     "output_type": "stream",
     "text": [
      " 39%|███▉      | 84/214 [10:05<15:15,  7.04s/it]"
     ]
    },
    {
     "name": "stdout",
     "output_type": "stream",
     "text": [
      "column: num_atoms - 0.11643\n"
     ]
    },
    {
     "name": "stderr",
     "output_type": "stream",
     "text": [
      " 40%|███▉      | 85/214 [10:12<15:01,  6.99s/it]"
     ]
    },
    {
     "name": "stdout",
     "output_type": "stream",
     "text": [
      "column: num_bonds - 0.1164\n"
     ]
    },
    {
     "name": "stderr",
     "output_type": "stream",
     "text": [
      " 40%|████      | 86/214 [10:19<15:05,  7.08s/it]"
     ]
    },
    {
     "name": "stdout",
     "output_type": "stream",
     "text": [
      "column: closest_to_0_dist_x_atomic_mass - 0.13449\n"
     ]
    },
    {
     "name": "stderr",
     "output_type": "stream",
     "text": [
      " 41%|████      | 87/214 [10:27<15:31,  7.34s/it]"
     ]
    },
    {
     "name": "stdout",
     "output_type": "stream",
     "text": [
      "column: 2nd_closest_to_0_dist_x_atomic_mass - 0.23125\n"
     ]
    },
    {
     "name": "stderr",
     "output_type": "stream",
     "text": [
      " 41%|████      | 88/214 [10:34<15:11,  7.24s/it]"
     ]
    },
    {
     "name": "stdout",
     "output_type": "stream",
     "text": [
      "column: 3rd_closest_to_0_dist_x_atomic_mass - 0.2054\n"
     ]
    },
    {
     "name": "stderr",
     "output_type": "stream",
     "text": [
      " 42%|████▏     | 89/214 [10:42<15:32,  7.46s/it]"
     ]
    },
    {
     "name": "stdout",
     "output_type": "stream",
     "text": [
      "column: 4th_closest_to_0_dist_x_atomic_mass - 0.13315\n"
     ]
    },
    {
     "name": "stderr",
     "output_type": "stream",
     "text": [
      " 42%|████▏     | 90/214 [10:51<16:11,  7.84s/it]"
     ]
    },
    {
     "name": "stdout",
     "output_type": "stream",
     "text": [
      "column: 5th_closest_to_0_dist_x_atomic_mass - 0.11989\n"
     ]
    },
    {
     "name": "stderr",
     "output_type": "stream",
     "text": [
      " 43%|████▎     | 91/214 [10:57<15:15,  7.44s/it]"
     ]
    },
    {
     "name": "stdout",
     "output_type": "stream",
     "text": [
      "column: 6th_closest_to_0_dist_x_atomic_mass - 0.11874\n"
     ]
    },
    {
     "name": "stderr",
     "output_type": "stream",
     "text": [
      " 43%|████▎     | 92/214 [11:04<14:52,  7.31s/it]"
     ]
    },
    {
     "name": "stdout",
     "output_type": "stream",
     "text": [
      "column: 7th_closest_to_0_dist_x_atomic_mass - 0.1184\n"
     ]
    },
    {
     "name": "stderr",
     "output_type": "stream",
     "text": [
      " 43%|████▎     | 93/214 [11:12<14:48,  7.34s/it]"
     ]
    },
    {
     "name": "stdout",
     "output_type": "stream",
     "text": [
      "column: 8th_closest_to_0_dist_x_atomic_mass - 0.11806\n"
     ]
    },
    {
     "name": "stderr",
     "output_type": "stream",
     "text": [
      " 44%|████▍     | 94/214 [11:20<14:55,  7.46s/it]"
     ]
    },
    {
     "name": "stdout",
     "output_type": "stream",
     "text": [
      "column: 9th_closest_to_0_dist_x_atomic_mass - 0.11767\n"
     ]
    },
    {
     "name": "stderr",
     "output_type": "stream",
     "text": [
      " 44%|████▍     | 95/214 [11:26<14:16,  7.19s/it]"
     ]
    },
    {
     "name": "stdout",
     "output_type": "stream",
     "text": [
      "column: 10th_closest_to_0_dist_x_atomic_mass - 0.11753\n"
     ]
    },
    {
     "name": "stderr",
     "output_type": "stream",
     "text": [
      " 45%|████▍     | 96/214 [11:33<13:57,  7.09s/it]"
     ]
    },
    {
     "name": "stdout",
     "output_type": "stream",
     "text": [
      "column: closest_to_1_dist_x_atomic_mass - 0.12097\n"
     ]
    },
    {
     "name": "stderr",
     "output_type": "stream",
     "text": [
      " 45%|████▌     | 97/214 [11:41<14:06,  7.23s/it]"
     ]
    },
    {
     "name": "stdout",
     "output_type": "stream",
     "text": [
      "column: 2nd_closest_to_1_dist_x_atomic_mass - 0.13344\n"
     ]
    },
    {
     "name": "stderr",
     "output_type": "stream",
     "text": [
      " 46%|████▌     | 98/214 [11:48<14:03,  7.27s/it]"
     ]
    },
    {
     "name": "stdout",
     "output_type": "stream",
     "text": [
      "column: 3rd_closest_to_1_dist_x_atomic_mass - 0.12698\n"
     ]
    },
    {
     "name": "stderr",
     "output_type": "stream",
     "text": [
      " 46%|████▋     | 99/214 [11:56<14:21,  7.49s/it]"
     ]
    },
    {
     "name": "stdout",
     "output_type": "stream",
     "text": [
      "column: 4th_closest_to_1_dist_x_atomic_mass - 0.12312\n"
     ]
    },
    {
     "name": "stderr",
     "output_type": "stream",
     "text": [
      " 47%|████▋     | 100/214 [12:04<14:35,  7.68s/it]"
     ]
    },
    {
     "name": "stdout",
     "output_type": "stream",
     "text": [
      "column: 5th_closest_to_1_dist_x_atomic_mass - 0.12303\n"
     ]
    },
    {
     "name": "stderr",
     "output_type": "stream",
     "text": [
      " 47%|████▋     | 101/214 [12:11<14:02,  7.46s/it]"
     ]
    },
    {
     "name": "stdout",
     "output_type": "stream",
     "text": [
      "column: 6th_closest_to_1_dist_x_atomic_mass - 0.12095\n"
     ]
    },
    {
     "name": "stderr",
     "output_type": "stream",
     "text": [
      " 48%|████▊     | 102/214 [12:20<14:31,  7.78s/it]"
     ]
    },
    {
     "name": "stdout",
     "output_type": "stream",
     "text": [
      "column: 7th_closest_to_1_dist_x_atomic_mass - 0.11897\n"
     ]
    },
    {
     "name": "stderr",
     "output_type": "stream",
     "text": [
      " 48%|████▊     | 103/214 [12:27<14:10,  7.66s/it]"
     ]
    },
    {
     "name": "stdout",
     "output_type": "stream",
     "text": [
      "column: 8th_closest_to_1_dist_x_atomic_mass - 0.11847\n"
     ]
    },
    {
     "name": "stderr",
     "output_type": "stream",
     "text": [
      " 49%|████▊     | 104/214 [12:35<14:24,  7.86s/it]"
     ]
    },
    {
     "name": "stdout",
     "output_type": "stream",
     "text": [
      "column: 9th_closest_to_1_dist_x_atomic_mass - 0.11812\n"
     ]
    },
    {
     "name": "stderr",
     "output_type": "stream",
     "text": [
      " 49%|████▉     | 105/214 [12:42<13:39,  7.52s/it]"
     ]
    },
    {
     "name": "stdout",
     "output_type": "stream",
     "text": [
      "column: 10th_closest_to_1_dist_x_atomic_mass - 0.11784\n"
     ]
    },
    {
     "name": "stderr",
     "output_type": "stream",
     "text": [
      " 50%|████▉     | 106/214 [12:49<13:31,  7.52s/it]"
     ]
    },
    {
     "name": "stdout",
     "output_type": "stream",
     "text": [
      "column: angle_clos_0_2nd - 0.13609\n"
     ]
    },
    {
     "name": "stderr",
     "output_type": "stream",
     "text": [
      " 50%|█████     | 107/214 [12:58<13:49,  7.75s/it]"
     ]
    },
    {
     "name": "stdout",
     "output_type": "stream",
     "text": [
      "column: angle_clos_1_2nd - 0.13391\n"
     ]
    },
    {
     "name": "stderr",
     "output_type": "stream",
     "text": [
      " 50%|█████     | 108/214 [13:04<13:06,  7.42s/it]"
     ]
    },
    {
     "name": "stdout",
     "output_type": "stream",
     "text": [
      "column: N1 - 0.11698\n"
     ]
    },
    {
     "name": "stderr",
     "output_type": "stream",
     "text": [
      " 51%|█████     | 109/214 [13:11<12:33,  7.17s/it]"
     ]
    },
    {
     "name": "stdout",
     "output_type": "stream",
     "text": [
      "column: N2 - 0.11643\n"
     ]
    },
    {
     "name": "stderr",
     "output_type": "stream",
     "text": [
      " 51%|█████▏    | 110/214 [13:18<12:12,  7.04s/it]"
     ]
    },
    {
     "name": "stdout",
     "output_type": "stream",
     "text": [
      "column: link0 - 0.11836\n"
     ]
    },
    {
     "name": "stderr",
     "output_type": "stream",
     "text": [
      " 52%|█████▏    | 111/214 [13:25<12:17,  7.16s/it]"
     ]
    },
    {
     "name": "stdout",
     "output_type": "stream",
     "text": [
      "column: link1 - 0.11831\n"
     ]
    },
    {
     "name": "stderr",
     "output_type": "stream",
     "text": [
      " 52%|█████▏    | 112/214 [13:31<11:37,  6.84s/it]"
     ]
    },
    {
     "name": "stdout",
     "output_type": "stream",
     "text": [
      "column: linkN - 0.11749\n"
     ]
    },
    {
     "name": "stderr",
     "output_type": "stream",
     "text": [
      " 53%|█████▎    | 113/214 [13:38<11:41,  6.94s/it]"
     ]
    },
    {
     "name": "stdout",
     "output_type": "stream",
     "text": [
      "column: inv_dist0 - 0.12033\n"
     ]
    },
    {
     "name": "stderr",
     "output_type": "stream",
     "text": [
      " 53%|█████▎    | 114/214 [13:46<11:43,  7.03s/it]"
     ]
    },
    {
     "name": "stdout",
     "output_type": "stream",
     "text": [
      "column: inv_dist1 - 0.11959\n"
     ]
    },
    {
     "name": "stderr",
     "output_type": "stream",
     "text": [
      " 54%|█████▎    | 115/214 [13:52<11:25,  6.93s/it]"
     ]
    },
    {
     "name": "stdout",
     "output_type": "stream",
     "text": [
      "column: inv_distP - 0.11775\n"
     ]
    },
    {
     "name": "stderr",
     "output_type": "stream",
     "text": [
      " 54%|█████▍    | 116/214 [14:00<11:28,  7.02s/it]"
     ]
    },
    {
     "name": "stdout",
     "output_type": "stream",
     "text": [
      "column: inv_dist0R - 0.12785\n"
     ]
    },
    {
     "name": "stderr",
     "output_type": "stream",
     "text": [
      " 55%|█████▍    | 117/214 [14:07<11:33,  7.15s/it]"
     ]
    },
    {
     "name": "stdout",
     "output_type": "stream",
     "text": [
      "column: inv_dist1R - 0.13523\n"
     ]
    },
    {
     "name": "stderr",
     "output_type": "stream",
     "text": [
      " 55%|█████▌    | 118/214 [14:15<11:45,  7.35s/it]"
     ]
    },
    {
     "name": "stdout",
     "output_type": "stream",
     "text": [
      "column: inv_distPR - 0.12789\n"
     ]
    },
    {
     "name": "stderr",
     "output_type": "stream",
     "text": [
      " 56%|█████▌    | 119/214 [14:22<11:19,  7.15s/it]"
     ]
    },
    {
     "name": "stdout",
     "output_type": "stream",
     "text": [
      "column: inv_dist0E - 0.11817\n"
     ]
    },
    {
     "name": "stderr",
     "output_type": "stream",
     "text": [
      " 56%|█████▌    | 120/214 [14:30<11:36,  7.41s/it]"
     ]
    },
    {
     "name": "stdout",
     "output_type": "stream",
     "text": [
      "column: inv_dist1E - 0.11844\n"
     ]
    },
    {
     "name": "stderr",
     "output_type": "stream",
     "text": [
      " 57%|█████▋    | 121/214 [14:37<11:27,  7.40s/it]"
     ]
    },
    {
     "name": "stdout",
     "output_type": "stream",
     "text": [
      "column: inv_distPE - 0.11802\n"
     ]
    },
    {
     "name": "stderr",
     "output_type": "stream",
     "text": [
      " 57%|█████▋    | 122/214 [14:45<11:43,  7.64s/it]"
     ]
    },
    {
     "name": "stdout",
     "output_type": "stream",
     "text": [
      "column: linkM0 - 0.11927\n"
     ]
    },
    {
     "name": "stderr",
     "output_type": "stream",
     "text": [
      " 57%|█████▋    | 123/214 [14:54<11:54,  7.85s/it]"
     ]
    },
    {
     "name": "stdout",
     "output_type": "stream",
     "text": [
      "column: linkM1 - 0.12002\n"
     ]
    },
    {
     "name": "stderr",
     "output_type": "stream",
     "text": [
      " 58%|█████▊    | 124/214 [15:00<11:21,  7.57s/it]"
     ]
    },
    {
     "name": "stdout",
     "output_type": "stream",
     "text": [
      "column: min_molecule_atom_0_dist_xyz - 0.13782\n"
     ]
    },
    {
     "name": "stderr",
     "output_type": "stream",
     "text": [
      " 58%|█████▊    | 125/214 [15:08<11:04,  7.46s/it]"
     ]
    },
    {
     "name": "stdout",
     "output_type": "stream",
     "text": [
      "column: mean_molecule_atom_0_dist_xyz - 0.12398\n"
     ]
    },
    {
     "name": "stderr",
     "output_type": "stream",
     "text": [
      " 59%|█████▉    | 126/214 [15:16<11:14,  7.66s/it]"
     ]
    },
    {
     "name": "stdout",
     "output_type": "stream",
     "text": [
      "column: max_molecule_atom_0_dist_xyz - 0.14451\n"
     ]
    },
    {
     "name": "stderr",
     "output_type": "stream",
     "text": [
      " 59%|█████▉    | 127/214 [15:24<11:18,  7.79s/it]"
     ]
    },
    {
     "name": "stdout",
     "output_type": "stream",
     "text": [
      "column: sd_molecule_atom_0_dist_xyz - 0.11767\n"
     ]
    },
    {
     "name": "stderr",
     "output_type": "stream",
     "text": [
      " 60%|█████▉    | 128/214 [15:32<11:25,  7.98s/it]"
     ]
    },
    {
     "name": "stdout",
     "output_type": "stream",
     "text": [
      "column: min_molecule_atom_1_dist_xyz - 0.12118\n"
     ]
    },
    {
     "name": "stderr",
     "output_type": "stream",
     "text": [
      " 60%|██████    | 129/214 [15:40<11:22,  8.03s/it]"
     ]
    },
    {
     "name": "stdout",
     "output_type": "stream",
     "text": [
      "column: mean_molecule_atom_1_dist_xyz - 0.11783\n"
     ]
    },
    {
     "name": "stderr",
     "output_type": "stream",
     "text": [
      " 61%|██████    | 130/214 [15:49<11:32,  8.25s/it]"
     ]
    },
    {
     "name": "stdout",
     "output_type": "stream",
     "text": [
      "column: max_molecule_atom_1_dist_xyz - 0.12216\n"
     ]
    },
    {
     "name": "stderr",
     "output_type": "stream",
     "text": [
      " 61%|██████    | 131/214 [15:56<10:40,  7.71s/it]"
     ]
    },
    {
     "name": "stdout",
     "output_type": "stream",
     "text": [
      "column: sd_molecule_atom_1_dist_xyz - 0.11922\n"
     ]
    },
    {
     "name": "stderr",
     "output_type": "stream",
     "text": [
      " 62%|██████▏   | 132/214 [16:03<10:33,  7.72s/it]"
     ]
    },
    {
     "name": "stdout",
     "output_type": "stream",
     "text": [
      "column: coulomb_C.x - 0.11685\n"
     ]
    },
    {
     "name": "stderr",
     "output_type": "stream",
     "text": [
      " 62%|██████▏   | 133/214 [16:11<10:18,  7.64s/it]"
     ]
    },
    {
     "name": "stdout",
     "output_type": "stream",
     "text": [
      "column: coulomb_F.x - 0.11627\n"
     ]
    },
    {
     "name": "stderr",
     "output_type": "stream",
     "text": [
      " 63%|██████▎   | 134/214 [16:19<10:19,  7.75s/it]"
     ]
    },
    {
     "name": "stdout",
     "output_type": "stream",
     "text": [
      "column: coulomb_H.x - 0.11743\n"
     ]
    },
    {
     "name": "stderr",
     "output_type": "stream",
     "text": [
      " 63%|██████▎   | 135/214 [16:27<10:10,  7.73s/it]"
     ]
    },
    {
     "name": "stdout",
     "output_type": "stream",
     "text": [
      "column: coulomb_N.x - 0.11842\n"
     ]
    },
    {
     "name": "stderr",
     "output_type": "stream",
     "text": [
      " 64%|██████▎   | 136/214 [16:35<10:10,  7.83s/it]"
     ]
    },
    {
     "name": "stdout",
     "output_type": "stream",
     "text": [
      "column: coulomb_O.x - 0.11777\n"
     ]
    },
    {
     "name": "stderr",
     "output_type": "stream",
     "text": [
      " 64%|██████▍   | 137/214 [16:43<10:12,  7.95s/it]"
     ]
    },
    {
     "name": "stdout",
     "output_type": "stream",
     "text": [
      "column: yukawa_C.x - 0.12836\n"
     ]
    },
    {
     "name": "stderr",
     "output_type": "stream",
     "text": [
      " 64%|██████▍   | 138/214 [16:50<09:54,  7.82s/it]"
     ]
    },
    {
     "name": "stdout",
     "output_type": "stream",
     "text": [
      "column: yukawa_F.x - 0.11667\n"
     ]
    },
    {
     "name": "stderr",
     "output_type": "stream",
     "text": [
      " 65%|██████▍   | 139/214 [16:57<09:26,  7.56s/it]"
     ]
    },
    {
     "name": "stdout",
     "output_type": "stream",
     "text": [
      "column: yukawa_H.x - 0.11874\n"
     ]
    },
    {
     "name": "stderr",
     "output_type": "stream",
     "text": [
      " 65%|██████▌   | 140/214 [17:04<09:05,  7.37s/it]"
     ]
    },
    {
     "name": "stdout",
     "output_type": "stream",
     "text": [
      "column: yukawa_N.x - 0.12345\n"
     ]
    },
    {
     "name": "stderr",
     "output_type": "stream",
     "text": [
      " 66%|██████▌   | 141/214 [17:11<08:48,  7.24s/it]"
     ]
    },
    {
     "name": "stdout",
     "output_type": "stream",
     "text": [
      "column: yukawa_O.x - 0.1246\n"
     ]
    },
    {
     "name": "stderr",
     "output_type": "stream",
     "text": [
      " 66%|██████▋   | 142/214 [17:17<08:09,  6.79s/it]"
     ]
    },
    {
     "name": "stdout",
     "output_type": "stream",
     "text": [
      "column: coulomb_C.y - 0.117\n"
     ]
    },
    {
     "name": "stderr",
     "output_type": "stream",
     "text": [
      " 67%|██████▋   | 143/214 [17:23<07:41,  6.50s/it]"
     ]
    },
    {
     "name": "stdout",
     "output_type": "stream",
     "text": [
      "column: coulomb_F.y - 0.11628\n"
     ]
    },
    {
     "name": "stderr",
     "output_type": "stream",
     "text": [
      " 67%|██████▋   | 144/214 [17:30<07:43,  6.63s/it]"
     ]
    },
    {
     "name": "stdout",
     "output_type": "stream",
     "text": [
      "column: coulomb_H.y - 0.11715\n"
     ]
    },
    {
     "name": "stderr",
     "output_type": "stream",
     "text": [
      " 68%|██████▊   | 145/214 [17:37<07:53,  6.86s/it]"
     ]
    },
    {
     "name": "stdout",
     "output_type": "stream",
     "text": [
      "column: coulomb_N.y - 0.11804\n"
     ]
    },
    {
     "name": "stderr",
     "output_type": "stream",
     "text": [
      " 68%|██████▊   | 146/214 [17:43<07:29,  6.61s/it]"
     ]
    },
    {
     "name": "stdout",
     "output_type": "stream",
     "text": [
      "column: coulomb_O.y - 0.11799\n"
     ]
    },
    {
     "name": "stderr",
     "output_type": "stream",
     "text": [
      " 69%|██████▊   | 147/214 [17:49<07:07,  6.39s/it]"
     ]
    },
    {
     "name": "stdout",
     "output_type": "stream",
     "text": [
      "column: yukawa_C.y - 0.12231\n"
     ]
    },
    {
     "name": "stderr",
     "output_type": "stream",
     "text": [
      " 69%|██████▉   | 148/214 [17:55<07:00,  6.37s/it]"
     ]
    },
    {
     "name": "stdout",
     "output_type": "stream",
     "text": [
      "column: yukawa_F.y - 0.11663\n"
     ]
    },
    {
     "name": "stderr",
     "output_type": "stream",
     "text": [
      " 70%|██████▉   | 149/214 [18:01<06:51,  6.33s/it]"
     ]
    },
    {
     "name": "stdout",
     "output_type": "stream",
     "text": [
      "column: yukawa_H.y - 0.12095\n"
     ]
    },
    {
     "name": "stderr",
     "output_type": "stream",
     "text": [
      " 70%|███████   | 150/214 [18:07<06:24,  6.00s/it]"
     ]
    },
    {
     "name": "stdout",
     "output_type": "stream",
     "text": [
      "column: yukawa_N.y - 0.11964\n"
     ]
    },
    {
     "name": "stderr",
     "output_type": "stream",
     "text": [
      " 71%|███████   | 151/214 [18:12<06:01,  5.73s/it]"
     ]
    },
    {
     "name": "stdout",
     "output_type": "stream",
     "text": [
      "column: yukawa_O.y - 0.126\n"
     ]
    },
    {
     "name": "stderr",
     "output_type": "stream",
     "text": [
      " 71%|███████   | 152/214 [18:16<05:35,  5.41s/it]"
     ]
    },
    {
     "name": "stdout",
     "output_type": "stream",
     "text": [
      "column: distN0 - 0.12919\n"
     ]
    },
    {
     "name": "stderr",
     "output_type": "stream",
     "text": [
      " 71%|███████▏  | 153/214 [18:21<05:19,  5.23s/it]"
     ]
    },
    {
     "name": "stdout",
     "output_type": "stream",
     "text": [
      "column: distN1 - 0.11763\n"
     ]
    },
    {
     "name": "stderr",
     "output_type": "stream",
     "text": [
      " 72%|███████▏  | 154/214 [18:26<05:01,  5.02s/it]"
     ]
    },
    {
     "name": "stdout",
     "output_type": "stream",
     "text": [
      "column: adH1 - 0.11805\n"
     ]
    },
    {
     "name": "stderr",
     "output_type": "stream",
     "text": [
      " 72%|███████▏  | 155/214 [18:30<04:45,  4.83s/it]"
     ]
    },
    {
     "name": "stdout",
     "output_type": "stream",
     "text": [
      "column: adH2 - 0.11734\n"
     ]
    },
    {
     "name": "stderr",
     "output_type": "stream",
     "text": [
      " 73%|███████▎  | 156/214 [18:35<04:32,  4.69s/it]"
     ]
    },
    {
     "name": "stdout",
     "output_type": "stream",
     "text": [
      "column: adH3 - 0.11647\n"
     ]
    },
    {
     "name": "stderr",
     "output_type": "stream",
     "text": [
      " 73%|███████▎  | 157/214 [18:39<04:23,  4.62s/it]"
     ]
    },
    {
     "name": "stdout",
     "output_type": "stream",
     "text": [
      "column: adH4 - 0.11632\n"
     ]
    },
    {
     "name": "stderr",
     "output_type": "stream",
     "text": [
      " 74%|███████▍  | 158/214 [18:43<04:11,  4.49s/it]"
     ]
    },
    {
     "name": "stdout",
     "output_type": "stream",
     "text": [
      "column: adC1 - 0.12824\n"
     ]
    },
    {
     "name": "stderr",
     "output_type": "stream",
     "text": [
      " 74%|███████▍  | 159/214 [18:47<03:59,  4.36s/it]"
     ]
    },
    {
     "name": "stdout",
     "output_type": "stream",
     "text": [
      "column: adC2 - 0.16828\n"
     ]
    },
    {
     "name": "stderr",
     "output_type": "stream",
     "text": [
      " 75%|███████▍  | 160/214 [18:51<03:52,  4.31s/it]"
     ]
    },
    {
     "name": "stdout",
     "output_type": "stream",
     "text": [
      "column: adC3 - 0.12755\n"
     ]
    },
    {
     "name": "stderr",
     "output_type": "stream",
     "text": [
      " 75%|███████▌  | 161/214 [18:56<03:45,  4.26s/it]"
     ]
    },
    {
     "name": "stdout",
     "output_type": "stream",
     "text": [
      "column: adC4 - 0.11969\n"
     ]
    },
    {
     "name": "stderr",
     "output_type": "stream",
     "text": [
      " 76%|███████▌  | 162/214 [19:00<03:37,  4.19s/it]"
     ]
    },
    {
     "name": "stdout",
     "output_type": "stream",
     "text": [
      "column: adN1 - 0.11832\n"
     ]
    },
    {
     "name": "stderr",
     "output_type": "stream",
     "text": [
      " 76%|███████▌  | 163/214 [19:04<03:34,  4.20s/it]"
     ]
    },
    {
     "name": "stdout",
     "output_type": "stream",
     "text": [
      "column: adN2 - 0.11671\n"
     ]
    },
    {
     "name": "stderr",
     "output_type": "stream",
     "text": [
      " 77%|███████▋  | 164/214 [19:08<03:35,  4.31s/it]"
     ]
    },
    {
     "name": "stdout",
     "output_type": "stream",
     "text": [
      "column: adN3 - 0.11628\n"
     ]
    },
    {
     "name": "stderr",
     "output_type": "stream",
     "text": [
      " 77%|███████▋  | 165/214 [19:13<03:29,  4.27s/it]"
     ]
    },
    {
     "name": "stdout",
     "output_type": "stream",
     "text": [
      "column: adN4 - 0.11625\n"
     ]
    },
    {
     "name": "stderr",
     "output_type": "stream",
     "text": [
      " 78%|███████▊  | 166/214 [19:17<03:29,  4.36s/it]"
     ]
    },
    {
     "name": "stdout",
     "output_type": "stream",
     "text": [
      "column: NC - 0.11631\n"
     ]
    },
    {
     "name": "stderr",
     "output_type": "stream",
     "text": [
      " 78%|███████▊  | 167/214 [19:22<03:25,  4.37s/it]"
     ]
    },
    {
     "name": "stdout",
     "output_type": "stream",
     "text": [
      "column: NH - 0.11688\n"
     ]
    },
    {
     "name": "stderr",
     "output_type": "stream",
     "text": [
      " 79%|███████▊  | 168/214 [19:26<03:24,  4.45s/it]"
     ]
    },
    {
     "name": "stdout",
     "output_type": "stream",
     "text": [
      "column: NN - 0.11635\n"
     ]
    },
    {
     "name": "stderr",
     "output_type": "stream",
     "text": [
      " 79%|███████▉  | 169/214 [19:31<03:23,  4.52s/it]"
     ]
    },
    {
     "name": "stdout",
     "output_type": "stream",
     "text": [
      "column: NF - 0.11625\n"
     ]
    },
    {
     "name": "stderr",
     "output_type": "stream",
     "text": [
      " 79%|███████▉  | 170/214 [19:36<03:24,  4.64s/it]"
     ]
    },
    {
     "name": "stdout",
     "output_type": "stream",
     "text": [
      "column: NO - 0.11718\n"
     ]
    },
    {
     "name": "stderr",
     "output_type": "stream",
     "text": [
      " 80%|███████▉  | 171/214 [19:40<03:19,  4.64s/it]"
     ]
    },
    {
     "name": "stdout",
     "output_type": "stream",
     "text": [
      "column: angle_1_0_closest0 - 0.19627\n"
     ]
    },
    {
     "name": "stderr",
     "output_type": "stream",
     "text": [
      " 80%|████████  | 172/214 [19:45<03:14,  4.63s/it]"
     ]
    },
    {
     "name": "stdout",
     "output_type": "stream",
     "text": [
      "column: angle_1_0_2nd0 - 0.16104\n"
     ]
    },
    {
     "name": "stderr",
     "output_type": "stream",
     "text": [
      " 81%|████████  | 173/214 [19:50<03:08,  4.61s/it]"
     ]
    },
    {
     "name": "stdout",
     "output_type": "stream",
     "text": [
      "column: angle_1_0_3rd0 - 0.1548\n"
     ]
    },
    {
     "name": "stderr",
     "output_type": "stream",
     "text": [
      " 81%|████████▏ | 174/214 [19:54<03:06,  4.66s/it]"
     ]
    },
    {
     "name": "stdout",
     "output_type": "stream",
     "text": [
      "column: angle_1_0_4th0 - 0.12268\n"
     ]
    },
    {
     "name": "stderr",
     "output_type": "stream",
     "text": [
      " 82%|████████▏ | 175/214 [19:59<03:01,  4.65s/it]"
     ]
    },
    {
     "name": "stdout",
     "output_type": "stream",
     "text": [
      "column: angle_1_0_5th0 - 0.11938\n"
     ]
    },
    {
     "name": "stderr",
     "output_type": "stream",
     "text": [
      " 82%|████████▏ | 176/214 [20:04<02:57,  4.66s/it]"
     ]
    },
    {
     "name": "stdout",
     "output_type": "stream",
     "text": [
      "column: angle_0_1_closest1 - 0.25552\n"
     ]
    },
    {
     "name": "stderr",
     "output_type": "stream",
     "text": [
      " 83%|████████▎ | 177/214 [20:08<02:49,  4.57s/it]"
     ]
    },
    {
     "name": "stdout",
     "output_type": "stream",
     "text": [
      "column: angle_0_1_2nd1 - 0.18178\n"
     ]
    },
    {
     "name": "stderr",
     "output_type": "stream",
     "text": [
      " 83%|████████▎ | 178/214 [20:13<02:43,  4.55s/it]"
     ]
    },
    {
     "name": "stdout",
     "output_type": "stream",
     "text": [
      "column: angle_0_1_3rd1 - 0.15624\n"
     ]
    },
    {
     "name": "stderr",
     "output_type": "stream",
     "text": [
      " 84%|████████▎ | 179/214 [20:17<02:38,  4.52s/it]"
     ]
    },
    {
     "name": "stdout",
     "output_type": "stream",
     "text": [
      "column: angle_0_1_4th1 - 0.12526\n"
     ]
    },
    {
     "name": "stderr",
     "output_type": "stream",
     "text": [
      " 84%|████████▍ | 180/214 [20:21<02:30,  4.43s/it]"
     ]
    },
    {
     "name": "stdout",
     "output_type": "stream",
     "text": [
      "column: angle_0_1_5th1 - 0.12218\n"
     ]
    },
    {
     "name": "stderr",
     "output_type": "stream",
     "text": [
      " 85%|████████▍ | 181/214 [20:26<02:30,  4.55s/it]"
     ]
    },
    {
     "name": "stdout",
     "output_type": "stream",
     "text": [
      "column: angle_1_0_6th0 - 0.11837\n"
     ]
    },
    {
     "name": "stderr",
     "output_type": "stream",
     "text": [
      " 85%|████████▌ | 182/214 [20:31<02:25,  4.54s/it]"
     ]
    },
    {
     "name": "stdout",
     "output_type": "stream",
     "text": [
      "column: angle_1_0_7th0 - 0.11772\n"
     ]
    },
    {
     "name": "stderr",
     "output_type": "stream",
     "text": [
      " 86%|████████▌ | 183/214 [20:35<02:20,  4.54s/it]"
     ]
    },
    {
     "name": "stdout",
     "output_type": "stream",
     "text": [
      "column: angle_1_0_8th0 - 0.11872\n"
     ]
    },
    {
     "name": "stderr",
     "output_type": "stream",
     "text": [
      " 86%|████████▌ | 184/214 [20:40<02:15,  4.50s/it]"
     ]
    },
    {
     "name": "stdout",
     "output_type": "stream",
     "text": [
      "column: angle_1_0_9th0 - 0.11729\n"
     ]
    },
    {
     "name": "stderr",
     "output_type": "stream",
     "text": [
      " 86%|████████▋ | 185/214 [20:44<02:08,  4.45s/it]"
     ]
    },
    {
     "name": "stdout",
     "output_type": "stream",
     "text": [
      "column: angle_1_0_10th0 - 0.11735\n"
     ]
    },
    {
     "name": "stderr",
     "output_type": "stream",
     "text": [
      " 87%|████████▋ | 186/214 [20:48<02:05,  4.47s/it]"
     ]
    },
    {
     "name": "stdout",
     "output_type": "stream",
     "text": [
      "column: angle_1_0_11th0 - 0.11763\n"
     ]
    },
    {
     "name": "stderr",
     "output_type": "stream",
     "text": [
      " 87%|████████▋ | 187/214 [20:53<02:02,  4.52s/it]"
     ]
    },
    {
     "name": "stdout",
     "output_type": "stream",
     "text": [
      "column: angle_1_0_6th1 - 0.11999\n"
     ]
    },
    {
     "name": "stderr",
     "output_type": "stream",
     "text": [
      " 88%|████████▊ | 188/214 [20:58<01:57,  4.54s/it]"
     ]
    },
    {
     "name": "stdout",
     "output_type": "stream",
     "text": [
      "column: angle_1_0_7th1 - 0.11817\n"
     ]
    },
    {
     "name": "stderr",
     "output_type": "stream",
     "text": [
      " 88%|████████▊ | 189/214 [21:02<01:50,  4.42s/it]"
     ]
    },
    {
     "name": "stdout",
     "output_type": "stream",
     "text": [
      "column: angle_1_0_8th1 - 0.11859\n"
     ]
    },
    {
     "name": "stderr",
     "output_type": "stream",
     "text": [
      " 89%|████████▉ | 190/214 [21:06<01:44,  4.34s/it]"
     ]
    },
    {
     "name": "stdout",
     "output_type": "stream",
     "text": [
      "column: angle_1_0_9th1 - 0.11816\n"
     ]
    },
    {
     "name": "stderr",
     "output_type": "stream",
     "text": [
      " 89%|████████▉ | 191/214 [21:10<01:39,  4.31s/it]"
     ]
    },
    {
     "name": "stdout",
     "output_type": "stream",
     "text": [
      "column: angle_1_0_10th1 - 0.11782\n"
     ]
    },
    {
     "name": "stderr",
     "output_type": "stream",
     "text": [
      " 90%|████████▉ | 192/214 [21:15<01:37,  4.41s/it]"
     ]
    },
    {
     "name": "stdout",
     "output_type": "stream",
     "text": [
      "column: angle_1_0_11th1 - 0.11703\n"
     ]
    },
    {
     "name": "stderr",
     "output_type": "stream",
     "text": [
      " 90%|█████████ | 193/214 [21:19<01:32,  4.40s/it]"
     ]
    },
    {
     "name": "stdout",
     "output_type": "stream",
     "text": [
      "column: angle_0_closest0_1 - 0.79014\n"
     ]
    },
    {
     "name": "stderr",
     "output_type": "stream",
     "text": [
      " 91%|█████████ | 194/214 [21:23<01:26,  4.34s/it]"
     ]
    },
    {
     "name": "stdout",
     "output_type": "stream",
     "text": [
      "column: angle_0_2nd0_1 - 0.23741\n"
     ]
    },
    {
     "name": "stderr",
     "output_type": "stream",
     "text": [
      " 91%|█████████ | 195/214 [21:27<01:21,  4.26s/it]"
     ]
    },
    {
     "name": "stdout",
     "output_type": "stream",
     "text": [
      "column: angle_0_3rd0_1 - 0.1536\n"
     ]
    },
    {
     "name": "stderr",
     "output_type": "stream",
     "text": [
      " 92%|█████████▏| 196/214 [21:32<01:17,  4.31s/it]"
     ]
    },
    {
     "name": "stdout",
     "output_type": "stream",
     "text": [
      "column: angle_0_4th0_1 - 0.13117\n"
     ]
    },
    {
     "name": "stderr",
     "output_type": "stream",
     "text": [
      " 92%|█████████▏| 197/214 [21:36<01:14,  4.38s/it]"
     ]
    },
    {
     "name": "stdout",
     "output_type": "stream",
     "text": [
      "column: angle_0_5th0_1 - 0.12212\n"
     ]
    },
    {
     "name": "stderr",
     "output_type": "stream",
     "text": [
      " 93%|█████████▎| 198/214 [21:41<01:11,  4.50s/it]"
     ]
    },
    {
     "name": "stdout",
     "output_type": "stream",
     "text": [
      "column: angle_0_6th0_1 - 0.11902\n"
     ]
    },
    {
     "name": "stderr",
     "output_type": "stream",
     "text": [
      " 93%|█████████▎| 199/214 [21:46<01:07,  4.52s/it]"
     ]
    },
    {
     "name": "stdout",
     "output_type": "stream",
     "text": [
      "column: angle_0_7th0_1 - 0.11757\n"
     ]
    },
    {
     "name": "stderr",
     "output_type": "stream",
     "text": [
      " 93%|█████████▎| 200/214 [21:50<01:03,  4.52s/it]"
     ]
    },
    {
     "name": "stdout",
     "output_type": "stream",
     "text": [
      "column: angle_0_8th0_1 - 0.11746\n"
     ]
    },
    {
     "name": "stderr",
     "output_type": "stream",
     "text": [
      " 94%|█████████▍| 201/214 [21:55<00:57,  4.45s/it]"
     ]
    },
    {
     "name": "stdout",
     "output_type": "stream",
     "text": [
      "column: angle_0_9th0_1 - 0.11708\n"
     ]
    },
    {
     "name": "stderr",
     "output_type": "stream",
     "text": [
      " 94%|█████████▍| 202/214 [21:59<00:52,  4.36s/it]"
     ]
    },
    {
     "name": "stdout",
     "output_type": "stream",
     "text": [
      "column: angle_0_10th0_1 - 0.11716\n"
     ]
    },
    {
     "name": "stderr",
     "output_type": "stream",
     "text": [
      " 95%|█████████▍| 203/214 [22:03<00:47,  4.29s/it]"
     ]
    },
    {
     "name": "stdout",
     "output_type": "stream",
     "text": [
      "column: angle_0_11th0_1 - 0.11702\n"
     ]
    },
    {
     "name": "stderr",
     "output_type": "stream",
     "text": [
      " 95%|█████████▌| 204/214 [22:07<00:42,  4.20s/it]"
     ]
    },
    {
     "name": "stdout",
     "output_type": "stream",
     "text": [
      "column: angle_0_closest1_1 - 0.19606\n"
     ]
    },
    {
     "name": "stderr",
     "output_type": "stream",
     "text": [
      " 96%|█████████▌| 205/214 [22:11<00:38,  4.29s/it]"
     ]
    },
    {
     "name": "stdout",
     "output_type": "stream",
     "text": [
      "column: angle_0_2nd1_1 - 0.1735\n"
     ]
    },
    {
     "name": "stderr",
     "output_type": "stream",
     "text": [
      " 96%|█████████▋| 206/214 [22:16<00:34,  4.35s/it]"
     ]
    },
    {
     "name": "stdout",
     "output_type": "stream",
     "text": [
      "column: angle_0_3rd1_1 - 0.1312\n"
     ]
    },
    {
     "name": "stderr",
     "output_type": "stream",
     "text": [
      " 97%|█████████▋| 207/214 [22:20<00:30,  4.39s/it]"
     ]
    },
    {
     "name": "stdout",
     "output_type": "stream",
     "text": [
      "column: angle_0_4th1_1 - 0.12001\n"
     ]
    },
    {
     "name": "stderr",
     "output_type": "stream",
     "text": [
      " 97%|█████████▋| 208/214 [22:25<00:26,  4.46s/it]"
     ]
    },
    {
     "name": "stdout",
     "output_type": "stream",
     "text": [
      "column: angle_0_5th1_1 - 0.11855\n"
     ]
    },
    {
     "name": "stderr",
     "output_type": "stream",
     "text": [
      " 98%|█████████▊| 209/214 [22:29<00:22,  4.47s/it]"
     ]
    },
    {
     "name": "stdout",
     "output_type": "stream",
     "text": [
      "column: angle_0_6th1_1 - 0.12119\n"
     ]
    },
    {
     "name": "stderr",
     "output_type": "stream",
     "text": [
      " 98%|█████████▊| 210/214 [22:34<00:17,  4.37s/it]"
     ]
    },
    {
     "name": "stdout",
     "output_type": "stream",
     "text": [
      "column: angle_0_7th1_1 - 0.1196\n"
     ]
    },
    {
     "name": "stderr",
     "output_type": "stream",
     "text": [
      " 99%|█████████▊| 211/214 [22:38<00:13,  4.40s/it]"
     ]
    },
    {
     "name": "stdout",
     "output_type": "stream",
     "text": [
      "column: angle_0_8th1_1 - 0.1178\n"
     ]
    },
    {
     "name": "stderr",
     "output_type": "stream",
     "text": [
      " 99%|█████████▉| 212/214 [22:42<00:08,  4.36s/it]"
     ]
    },
    {
     "name": "stdout",
     "output_type": "stream",
     "text": [
      "column: angle_0_9th1_1 - 0.11665\n"
     ]
    },
    {
     "name": "stderr",
     "output_type": "stream",
     "text": [
      "100%|█████████▉| 213/214 [22:47<00:04,  4.37s/it]"
     ]
    },
    {
     "name": "stdout",
     "output_type": "stream",
     "text": [
      "column: angle_0_10th1_1 - 0.11644\n"
     ]
    },
    {
     "name": "stderr",
     "output_type": "stream",
     "text": [
      "100%|██████████| 214/214 [22:51<00:00,  4.37s/it]"
     ]
    },
    {
     "name": "stdout",
     "output_type": "stream",
     "text": [
      "column: angle_0_11th1_1 - 0.1163\n"
     ]
    },
    {
     "name": "stderr",
     "output_type": "stream",
     "text": [
      "\n"
     ]
    },
    {
     "ename": "NameError",
     "evalue": "name 'f' is not defined",
     "output_type": "error",
     "traceback": [
      "\u001b[0;31m---------------------------------------------------------------------------\u001b[0m",
      "\u001b[0;31mNameError\u001b[0m                                 Traceback (most recent call last)",
      "\u001b[0;32m<ipython-input-12-8d54ec5e55a0>\u001b[0m in \u001b[0;36m<module>\u001b[0;34m()\u001b[0m\n\u001b[1;32m     18\u001b[0m         \u001b[0mX_valid\u001b[0m \u001b[0;34m=\u001b[0m \u001b[0mX_valid\u001b[0m\u001b[0;34m.\u001b[0m\u001b[0mcopy\u001b[0m\u001b[0;34m(\u001b[0m\u001b[0;34m)\u001b[0m\u001b[0;34m\u001b[0m\u001b[0m\n\u001b[1;32m     19\u001b[0m         \u001b[0mresults\u001b[0m\u001b[0;34m,\u001b[0m \u001b[0mbad_features\u001b[0m \u001b[0;34m=\u001b[0m \u001b[0mpermutation_importance\u001b[0m\u001b[0;34m(\u001b[0m\u001b[0mmodel\u001b[0m\u001b[0;34m,\u001b[0m \u001b[0mX_valid\u001b[0m\u001b[0;34m,\u001b[0m \u001b[0my_valid\u001b[0m\u001b[0;34m,\u001b[0m \u001b[0mmetric\u001b[0m\u001b[0;34m=\u001b[0m\u001b[0mmean_absolute_error\u001b[0m\u001b[0;34m)\u001b[0m\u001b[0;34m\u001b[0m\u001b[0m\n\u001b[0;32m---> 20\u001b[0;31m         \u001b[0mresults_dict\u001b[0m\u001b[0;34m[\u001b[0m\u001b[0mf\u001b[0m\u001b[0;34m]\u001b[0m \u001b[0;34m=\u001b[0m \u001b[0mresults\u001b[0m\u001b[0;34m\u001b[0m\u001b[0m\n\u001b[0m\u001b[1;32m     21\u001b[0m         \u001b[0mbad_features_dict\u001b[0m\u001b[0;34m[\u001b[0m\u001b[0mf\u001b[0m\u001b[0;34m]\u001b[0m \u001b[0;34m=\u001b[0m \u001b[0mbad_features\u001b[0m\u001b[0;34m\u001b[0m\u001b[0m\n\u001b[1;32m     22\u001b[0m         \u001b[0;32mbreak\u001b[0m \u001b[0;31m# Only run for the first fold\u001b[0m\u001b[0;34m\u001b[0m\u001b[0m\n",
      "\u001b[0;31mNameError\u001b[0m: name 'f' is not defined"
     ]
    }
   ],
   "source": [
    "types = ['3JHN', '2JHC', '3JHC', '2JHH', '2JHN', '1JHN', '3JHH', '1JHC']\n",
    "results_dict = {}\n",
    "bad_features_dict = {}\n",
    "for t in types:\n",
    "    train = pd.read_parquet(f'../data/FE016/FE016-train-{t}.parquet')\n",
    "    x = pd.read_parquet('../data/FE008_train.parquet') # only loading for skeleton not features\n",
    "    model = catboost.CatBoostRegressor()\n",
    "    model.load_model('../models/M040/M040-0708_1639-{}-{}.model'.format(t, 1))\n",
    "    mol_group = x[['molecule_name','type']].copy()\n",
    "    N_FOLDS = 2\n",
    "    folds = GroupKFold(n_splits=N_FOLDS)\n",
    "    X = train[model.feature_names_]\n",
    "    y = train['scalar_coupling_constant']\n",
    "    mol_group_type = mol_group.loc[mol_group['type'] == t]['molecule_name']\n",
    "    for fold_n, (train_idx, valid_idx) in enumerate(folds.split(X, groups=mol_group_type)):\n",
    "        X_train, X_valid = X.iloc[train_idx], X.iloc[valid_idx]\n",
    "        y_train, y_valid = y.iloc[train_idx], y.iloc[valid_idx]\n",
    "        X_valid = X_valid.copy()\n",
    "        results, bad_features = permutation_importance(model, X_valid, y_valid, metric=mean_absolute_error)\n",
    "        results_dict[f] = results\n",
    "        bad_features_dict[f] = bad_features\n",
    "        break # Only run for the first fold\n",
    "    print(f'Bad features for {t}:')\n",
    "    print(bad_features)\n",
    "    del train, x, X, y, mol_group_type\n",
    "    gc.collect()"
   ]
  },
  {
   "cell_type": "code",
   "execution_count": 13,
   "metadata": {},
   "outputs": [],
   "source": [
    "results_dict[t] = results\n",
    "bad_features_dict[t] = bad_features"
   ]
  },
  {
   "cell_type": "code",
   "execution_count": 14,
   "metadata": {},
   "outputs": [
    {
     "name": "stdout",
     "output_type": "stream",
     "text": [
      "Bad features for 3JHN:\n",
      "['distance_6th_closest_to_0', 'distance_7th_closest_to_0', 'distance_8th_closest_to_0', 'distance_9th_closest_to_0', 'distance_10th_closest_to_0', 'distance_8th_closest_to_1', 'distance_9th_closest_to_1', 'distance_10th_closest_to_1', 'closest_to_0_atomic_mass', 'closest_to_0_spin_multiplicity', '2nd_closest_to_0_atomic_mass', '2nd_closest_to_0_spin_multiplicity', '3rd_closest_to_0_atomic_mass', '3rd_closest_to_0_spin_multiplicity', '4th_closest_to_0_atomic_mass', '4th_closest_to_0_spin_multiplicity', '5th_closest_to_0_atomic_mass', '5th_closest_to_0_valence', '5th_closest_to_0_spin_multiplicity', '6th_closest_to_0_atomic_mass', '6th_closest_to_0_valence', '6th_closest_to_0_spin_multiplicity', '7th_closest_to_0_atomic_mass', '7th_closest_to_0_valence', '7th_closest_to_0_spin_multiplicity', '8th_closest_to_0_atomic_mass', '8th_closest_to_0_valence', '8th_closest_to_0_spin_multiplicity', '9th_closest_to_0_atomic_mass', '9th_closest_to_0_valence', '9th_closest_to_0_spin_multiplicity', '10th_closest_to_0_atomic_mass', '10th_closest_to_0_valence', '10th_closest_to_0_spin_multiplicity', 'closest_to_1_atomic_mass', 'closest_to_1_spin_multiplicity', '2nd_closest_to_1_atomic_mass', '2nd_closest_to_1_spin_multiplicity', '3rd_closest_to_1_atomic_mass', '3rd_closest_to_1_valence', '3rd_closest_to_1_spin_multiplicity', '4th_closest_to_1_atomic_mass', '4th_closest_to_1_spin_multiplicity', '5th_closest_to_1_atomic_mass', '5th_closest_to_1_valence', '5th_closest_to_1_spin_multiplicity', '6th_closest_to_1_atomic_mass', '6th_closest_to_1_valence', '6th_closest_to_1_spin_multiplicity', '7th_closest_to_1_atomic_mass', '7th_closest_to_1_valence', '7th_closest_to_1_spin_multiplicity', '8th_closest_to_1_atomic_mass', '8th_closest_to_1_valence', '8th_closest_to_1_spin_multiplicity', '9th_closest_to_1_atomic_mass', '9th_closest_to_1_valence', '9th_closest_to_1_spin_multiplicity', '10th_closest_to_1_atomic_mass', '10th_closest_to_1_valence', '10th_closest_to_1_spin_multiplicity', 'mol_wt', 'num_atoms', 'num_bonds', '5th_closest_to_0_dist_x_atomic_mass', '6th_closest_to_0_dist_x_atomic_mass', '7th_closest_to_0_dist_x_atomic_mass', '8th_closest_to_0_dist_x_atomic_mass', '9th_closest_to_0_dist_x_atomic_mass', '10th_closest_to_0_dist_x_atomic_mass', 'closest_to_1_dist_x_atomic_mass', '6th_closest_to_1_dist_x_atomic_mass', '7th_closest_to_1_dist_x_atomic_mass', '8th_closest_to_1_dist_x_atomic_mass', '9th_closest_to_1_dist_x_atomic_mass', '10th_closest_to_1_dist_x_atomic_mass', 'N1', 'N2', 'link0', 'link1', 'linkN', 'inv_dist0', 'inv_dist1', 'inv_distP', 'inv_dist0E', 'inv_dist1E', 'inv_distPE', 'linkM0', 'linkM1', 'sd_molecule_atom_0_dist_xyz', 'min_molecule_atom_1_dist_xyz', 'mean_molecule_atom_1_dist_xyz', 'sd_molecule_atom_1_dist_xyz', 'coulomb_C.x', 'coulomb_F.x', 'coulomb_H.x', 'coulomb_N.x', 'coulomb_O.x', 'yukawa_F.x', 'yukawa_H.x', 'coulomb_C.y', 'coulomb_F.y', 'coulomb_H.y', 'coulomb_N.y', 'coulomb_O.y', 'yukawa_F.y', 'yukawa_H.y', 'yukawa_N.y', 'distN1', 'adH1', 'adH2', 'adH3', 'adH4', 'adC4', 'adN1', 'adN2', 'adN3', 'adN4', 'NC', 'NH', 'NN', 'NF', 'NO', 'angle_1_0_5th0', 'angle_1_0_6th0', 'angle_1_0_7th0', 'angle_1_0_8th0', 'angle_1_0_9th0', 'angle_1_0_10th0', 'angle_1_0_11th0', 'angle_1_0_6th1', 'angle_1_0_7th1', 'angle_1_0_8th1', 'angle_1_0_9th1', 'angle_1_0_10th1', 'angle_1_0_11th1', 'angle_0_6th0_1', 'angle_0_7th0_1', 'angle_0_8th0_1', 'angle_0_9th0_1', 'angle_0_10th0_1', 'angle_0_11th0_1', 'angle_0_4th1_1', 'angle_0_5th1_1', 'angle_0_6th1_1', 'angle_0_7th1_1', 'angle_0_8th1_1', 'angle_0_9th1_1', 'angle_0_10th1_1', 'angle_0_11th1_1']\n"
     ]
    }
   ],
   "source": [
    "print(f'Bad features for {t}:')\n",
    "print(bad_features)"
   ]
  },
  {
   "cell_type": "code",
   "execution_count": 15,
   "metadata": {},
   "outputs": [
    {
     "data": {
      "text/plain": [
       "{'base_score': 0.11624966229611856,\n",
       " 'atom1_valence': 0.13908507750474156,\n",
       " 'distance': 0.30409684102762097,\n",
       " 'distance_closest_to_0': 0.1314930921257668,\n",
       " 'distance_2nd_closest_to_0': 0.2035061385958581,\n",
       " 'distance_3rd_closest_to_0': 0.13593251497072856,\n",
       " 'distance_4th_closest_to_0': 0.13592902237180302,\n",
       " 'distance_5th_closest_to_0': 0.12418844171562442,\n",
       " 'distance_6th_closest_to_0': 0.12048359490026912,\n",
       " 'distance_7th_closest_to_0': 0.1197150686224358,\n",
       " 'distance_8th_closest_to_0': 0.11867837399979411,\n",
       " 'distance_9th_closest_to_0': 0.11976977457551821,\n",
       " 'distance_10th_closest_to_0': 0.11788356951574526,\n",
       " 'distance_closest_to_1': 0.12886166641921612,\n",
       " 'distance_2nd_closest_to_1': 0.1268584643965523,\n",
       " 'distance_3rd_closest_to_1': 0.2013288641931263,\n",
       " 'distance_4th_closest_to_1': 0.1276491289447391,\n",
       " 'distance_5th_closest_to_1': 0.137498661570282,\n",
       " 'distance_6th_closest_to_1': 0.12151785667805233,\n",
       " 'distance_7th_closest_to_1': 0.12805490765777391,\n",
       " 'distance_8th_closest_to_1': 0.12094696293237216,\n",
       " 'distance_9th_closest_to_1': 0.1198841098464745,\n",
       " 'distance_10th_closest_to_1': 0.11945692846962201,\n",
       " 'closest_to_0_atomic_mass': 0.11624966229611856,\n",
       " 'closest_to_0_valence': 0.14160660888958482,\n",
       " 'closest_to_0_spin_multiplicity': 0.11657719267204135,\n",
       " '2nd_closest_to_0_atomic_mass': 0.1180001406303128,\n",
       " '2nd_closest_to_0_valence': 0.12871847813477705,\n",
       " '2nd_closest_to_0_spin_multiplicity': 0.11651708116506523,\n",
       " '3rd_closest_to_0_atomic_mass': 0.12056821972253971,\n",
       " '3rd_closest_to_0_valence': 0.12801811401865024,\n",
       " '3rd_closest_to_0_spin_multiplicity': 0.11643942383828196,\n",
       " '4th_closest_to_0_atomic_mass': 0.11677751356572298,\n",
       " '4th_closest_to_0_valence': 0.12204960498189538,\n",
       " '4th_closest_to_0_spin_multiplicity': 0.1166968020025835,\n",
       " '5th_closest_to_0_atomic_mass': 0.11672340779864414,\n",
       " '5th_closest_to_0_valence': 0.11644774542239877,\n",
       " '5th_closest_to_0_spin_multiplicity': 0.1162537227129688,\n",
       " '6th_closest_to_0_atomic_mass': 0.11640351535479532,\n",
       " '6th_closest_to_0_valence': 0.1164900017290896,\n",
       " '6th_closest_to_0_spin_multiplicity': 0.11644513467835726,\n",
       " '7th_closest_to_0_atomic_mass': 0.11633758816972291,\n",
       " '7th_closest_to_0_valence': 0.11650807419799662,\n",
       " '7th_closest_to_0_spin_multiplicity': 0.11630872475143984,\n",
       " '8th_closest_to_0_atomic_mass': 0.11636360849682197,\n",
       " '8th_closest_to_0_valence': 0.11646150740772805,\n",
       " '8th_closest_to_0_spin_multiplicity': 0.11631170186926054,\n",
       " '9th_closest_to_0_atomic_mass': 0.11631462684652229,\n",
       " '9th_closest_to_0_valence': 0.11651023669518934,\n",
       " '9th_closest_to_0_spin_multiplicity': 0.11629236061922195,\n",
       " '10th_closest_to_0_atomic_mass': 0.11627868161602317,\n",
       " '10th_closest_to_0_valence': 0.11653693970101625,\n",
       " '10th_closest_to_0_spin_multiplicity': 0.1162760834306313,\n",
       " 'closest_to_1_atomic_mass': 0.11642135415875371,\n",
       " 'closest_to_1_valence': 0.12362079550640374,\n",
       " 'closest_to_1_spin_multiplicity': 0.11701514626307422,\n",
       " '2nd_closest_to_1_atomic_mass': 0.11952471504267063,\n",
       " '2nd_closest_to_1_valence': 0.12438624046471429,\n",
       " '2nd_closest_to_1_spin_multiplicity': 0.11665904053437705,\n",
       " '3rd_closest_to_1_atomic_mass': 0.11627771508988753,\n",
       " '3rd_closest_to_1_valence': 0.11685151801712038,\n",
       " '3rd_closest_to_1_spin_multiplicity': 0.11630889458138458,\n",
       " '4th_closest_to_1_atomic_mass': 0.11758946053409502,\n",
       " '4th_closest_to_1_valence': 0.12591383343489299,\n",
       " '4th_closest_to_1_spin_multiplicity': 0.11626605326291195,\n",
       " '5th_closest_to_1_atomic_mass': 0.11791921832346056,\n",
       " '5th_closest_to_1_valence': 0.11779931316657444,\n",
       " '5th_closest_to_1_spin_multiplicity': 0.11631311561275566,\n",
       " '6th_closest_to_1_atomic_mass': 0.11669953679963839,\n",
       " '6th_closest_to_1_valence': 0.11686584130739454,\n",
       " '6th_closest_to_1_spin_multiplicity': 0.116370062130135,\n",
       " '7th_closest_to_1_atomic_mass': 0.11661596806860365,\n",
       " '7th_closest_to_1_valence': 0.11676438405023726,\n",
       " '7th_closest_to_1_spin_multiplicity': 0.11629946955064793,\n",
       " '8th_closest_to_1_atomic_mass': 0.11658901315999477,\n",
       " '8th_closest_to_1_valence': 0.11645079737277335,\n",
       " '8th_closest_to_1_spin_multiplicity': 0.11631196373055444,\n",
       " '9th_closest_to_1_atomic_mass': 0.11634817775142359,\n",
       " '9th_closest_to_1_valence': 0.11632050757416018,\n",
       " '9th_closest_to_1_spin_multiplicity': 0.11628849959036539,\n",
       " '10th_closest_to_1_atomic_mass': 0.11636702508254292,\n",
       " '10th_closest_to_1_valence': 0.11633103101124134,\n",
       " '10th_closest_to_1_spin_multiplicity': 0.11626880055592022,\n",
       " 'mol_wt': 0.11687412610555144,\n",
       " 'num_atoms': 0.11643345588597331,\n",
       " 'num_bonds': 0.11640076767138366,\n",
       " 'closest_to_0_dist_x_atomic_mass': 0.13448920800186875,\n",
       " '2nd_closest_to_0_dist_x_atomic_mass': 0.23125232542578275,\n",
       " '3rd_closest_to_0_dist_x_atomic_mass': 0.20539636052244822,\n",
       " '4th_closest_to_0_dist_x_atomic_mass': 0.13315168413107817,\n",
       " '5th_closest_to_0_dist_x_atomic_mass': 0.11989313181202448,\n",
       " '6th_closest_to_0_dist_x_atomic_mass': 0.11874333336977781,\n",
       " '7th_closest_to_0_dist_x_atomic_mass': 0.11840168726843148,\n",
       " '8th_closest_to_0_dist_x_atomic_mass': 0.11805537803317949,\n",
       " '9th_closest_to_0_dist_x_atomic_mass': 0.1176672770084829,\n",
       " '10th_closest_to_0_dist_x_atomic_mass': 0.11753189522600098,\n",
       " 'closest_to_1_dist_x_atomic_mass': 0.12097399165603502,\n",
       " '2nd_closest_to_1_dist_x_atomic_mass': 0.13343629139035962,\n",
       " '3rd_closest_to_1_dist_x_atomic_mass': 0.12698066185824378,\n",
       " '4th_closest_to_1_dist_x_atomic_mass': 0.1231229918304537,\n",
       " '5th_closest_to_1_dist_x_atomic_mass': 0.1230273296920177,\n",
       " '6th_closest_to_1_dist_x_atomic_mass': 0.12095020114634181,\n",
       " '7th_closest_to_1_dist_x_atomic_mass': 0.11897223304029994,\n",
       " '8th_closest_to_1_dist_x_atomic_mass': 0.11847244507587756,\n",
       " '9th_closest_to_1_dist_x_atomic_mass': 0.1181206668703641,\n",
       " '10th_closest_to_1_dist_x_atomic_mass': 0.1178431109073462,\n",
       " 'angle_clos_0_2nd': 0.13609110038355138,\n",
       " 'angle_clos_1_2nd': 0.13390597453436387,\n",
       " 'N1': 0.11698356115813116,\n",
       " 'N2': 0.11643243886350993,\n",
       " 'link0': 0.11835522223603692,\n",
       " 'link1': 0.11830962904681037,\n",
       " 'linkN': 0.11748921536226281,\n",
       " 'inv_dist0': 0.12032934199437469,\n",
       " 'inv_dist1': 0.11959240366569078,\n",
       " 'inv_distP': 0.11775091809873565,\n",
       " 'inv_dist0R': 0.12784765218895816,\n",
       " 'inv_dist1R': 0.13523179375494299,\n",
       " 'inv_distPR': 0.12788709497338935,\n",
       " 'inv_dist0E': 0.11816732865092021,\n",
       " 'inv_dist1E': 0.11844474144731364,\n",
       " 'inv_distPE': 0.1180195930368485,\n",
       " 'linkM0': 0.11927411616211253,\n",
       " 'linkM1': 0.12002170928170353,\n",
       " 'min_molecule_atom_0_dist_xyz': 0.13782189796802577,\n",
       " 'mean_molecule_atom_0_dist_xyz': 0.12397979440054119,\n",
       " 'max_molecule_atom_0_dist_xyz': 0.14450901067548408,\n",
       " 'sd_molecule_atom_0_dist_xyz': 0.11767150241532744,\n",
       " 'min_molecule_atom_1_dist_xyz': 0.12117711020081162,\n",
       " 'mean_molecule_atom_1_dist_xyz': 0.1178305510826348,\n",
       " 'max_molecule_atom_1_dist_xyz': 0.1221597037126046,\n",
       " 'sd_molecule_atom_1_dist_xyz': 0.11922102340177446,\n",
       " 'coulomb_C.x': 0.11685249917175103,\n",
       " 'coulomb_F.x': 0.11626680993441688,\n",
       " 'coulomb_H.x': 0.11742887567555821,\n",
       " 'coulomb_N.x': 0.11841944963454368,\n",
       " 'coulomb_O.x': 0.1177731061999342,\n",
       " 'yukawa_C.x': 0.128356337079566,\n",
       " 'yukawa_F.x': 0.11666588467901985,\n",
       " 'yukawa_H.x': 0.118740989678946,\n",
       " 'yukawa_N.x': 0.12345232505511643,\n",
       " 'yukawa_O.x': 0.124601137802996,\n",
       " 'coulomb_C.y': 0.11699524442417975,\n",
       " 'coulomb_F.y': 0.11628038252941902,\n",
       " 'coulomb_H.y': 0.11714784606543428,\n",
       " 'coulomb_N.y': 0.1180377861585794,\n",
       " 'coulomb_O.y': 0.1179915810677469,\n",
       " 'yukawa_C.y': 0.1223138494946304,\n",
       " 'yukawa_F.y': 0.11663219058216981,\n",
       " 'yukawa_H.y': 0.12094862425983299,\n",
       " 'yukawa_N.y': 0.11963990462140657,\n",
       " 'yukawa_O.y': 0.12600294813560645,\n",
       " 'distN0': 0.1291857285034647,\n",
       " 'distN1': 0.11762689285909057,\n",
       " 'adH1': 0.11805348007024526,\n",
       " 'adH2': 0.11733678282204259,\n",
       " 'adH3': 0.11647161283946435,\n",
       " 'adH4': 0.11632300466828582,\n",
       " 'adC1': 0.12824343028193705,\n",
       " 'adC2': 0.1682784060677234,\n",
       " 'adC3': 0.12755302177658517,\n",
       " 'adC4': 0.11969458588589306,\n",
       " 'adN1': 0.11831757741448552,\n",
       " 'adN2': 0.1167128826396026,\n",
       " 'adN3': 0.11627734852205274,\n",
       " 'adN4': 0.11624901734345768,\n",
       " 'NC': 0.11631235065200402,\n",
       " 'NH': 0.11687845170360042,\n",
       " 'NN': 0.11635483448177221,\n",
       " 'NF': 0.11624966229611856,\n",
       " 'NO': 0.11717857196734235,\n",
       " 'angle_1_0_closest0': 0.19626885110758943,\n",
       " 'angle_1_0_2nd0': 0.1610427952415605,\n",
       " 'angle_1_0_3rd0': 0.15480452151335025,\n",
       " 'angle_1_0_4th0': 0.12268076708661622,\n",
       " 'angle_1_0_5th0': 0.11937939124332654,\n",
       " 'angle_0_1_closest1': 0.2555188902952551,\n",
       " 'angle_0_1_2nd1': 0.1817781798954352,\n",
       " 'angle_0_1_3rd1': 0.15623664504266693,\n",
       " 'angle_0_1_4th1': 0.12526212567685208,\n",
       " 'angle_0_1_5th1': 0.1221834562941922,\n",
       " 'angle_1_0_6th0': 0.11836612233448195,\n",
       " 'angle_1_0_7th0': 0.11771898022704938,\n",
       " 'angle_1_0_8th0': 0.11872318952331039,\n",
       " 'angle_1_0_9th0': 0.117286776553896,\n",
       " 'angle_1_0_10th0': 0.11734735395975826,\n",
       " 'angle_1_0_11th0': 0.1176255982457406,\n",
       " 'angle_1_0_6th1': 0.11999269424722112,\n",
       " 'angle_1_0_7th1': 0.11817067219889664,\n",
       " 'angle_1_0_8th1': 0.11859116768551084,\n",
       " 'angle_1_0_9th1': 0.1181582594482173,\n",
       " 'angle_1_0_10th1': 0.117824438350534,\n",
       " 'angle_1_0_11th1': 0.11702705045332305,\n",
       " 'angle_0_closest0_1': 0.7901358139579956,\n",
       " 'angle_0_2nd0_1': 0.23741159605093604,\n",
       " 'angle_0_3rd0_1': 0.15359838793177163,\n",
       " 'angle_0_4th0_1': 0.13117322554907943,\n",
       " 'angle_0_5th0_1': 0.12211705337602022,\n",
       " 'angle_0_6th0_1': 0.11902466673234566,\n",
       " 'angle_0_7th0_1': 0.1175657755628658,\n",
       " 'angle_0_8th0_1': 0.11746248243421484,\n",
       " 'angle_0_9th0_1': 0.11708197016241817,\n",
       " 'angle_0_10th0_1': 0.11716061047532511,\n",
       " 'angle_0_11th0_1': 0.11701995478677729,\n",
       " 'angle_0_closest1_1': 0.19605929732643623,\n",
       " 'angle_0_2nd1_1': 0.17350426720018658,\n",
       " 'angle_0_3rd1_1': 0.13120286585921268,\n",
       " 'angle_0_4th1_1': 0.12001493871913939,\n",
       " 'angle_0_5th1_1': 0.11855496970856337,\n",
       " 'angle_0_6th1_1': 0.12119427939980257,\n",
       " 'angle_0_7th1_1': 0.11960116901887984,\n",
       " 'angle_0_8th1_1': 0.11779626474861266,\n",
       " 'angle_0_9th1_1': 0.11665225235442675,\n",
       " 'angle_0_10th1_1': 0.11643779752822174,\n",
       " 'angle_0_11th1_1': 0.1163022796975494}"
      ]
     },
     "execution_count": 15,
     "metadata": {},
     "output_type": "execute_result"
    }
   ],
   "source": [
    "results"
   ]
  },
  {
   "cell_type": "code",
   "execution_count": null,
   "metadata": {},
   "outputs": [
    {
     "name": "stderr",
     "output_type": "stream",
     "text": [
      "  0%|          | 0/220 [00:00<?, ?it/s]"
     ]
    },
    {
     "name": "stdout",
     "output_type": "stream",
     "text": [
      "Base score 0.2185\n"
     ]
    },
    {
     "name": "stderr",
     "output_type": "stream",
     "text": [
      "  0%|          | 1/220 [01:21<4:56:49, 81.32s/it]"
     ]
    },
    {
     "name": "stdout",
     "output_type": "stream",
     "text": [
      "column: atom1_valence - 0.72811\n"
     ]
    },
    {
     "name": "stderr",
     "output_type": "stream",
     "text": [
      "  1%|          | 2/220 [02:43<4:56:14, 81.53s/it]"
     ]
    },
    {
     "name": "stdout",
     "output_type": "stream",
     "text": [
      "column: left_middle_average_angle - 0.2488\n"
     ]
    },
    {
     "name": "stderr",
     "output_type": "stream",
     "text": [
      "  1%|▏         | 3/220 [04:06<4:56:25, 81.96s/it]"
     ]
    },
    {
     "name": "stdout",
     "output_type": "stream",
     "text": [
      "column: right_middle_average_angle - 0.28633\n"
     ]
    },
    {
     "name": "stderr",
     "output_type": "stream",
     "text": [
      "  2%|▏         | 4/220 [05:26<4:53:12, 81.45s/it]"
     ]
    },
    {
     "name": "stdout",
     "output_type": "stream",
     "text": [
      "column: distance - 0.37925\n"
     ]
    },
    {
     "name": "stderr",
     "output_type": "stream",
     "text": [
      "  2%|▏         | 5/220 [06:45<4:49:39, 80.84s/it]"
     ]
    },
    {
     "name": "stdout",
     "output_type": "stream",
     "text": [
      "column: distance_closest_to_0 - 0.27509\n"
     ]
    },
    {
     "name": "stderr",
     "output_type": "stream",
     "text": [
      "  3%|▎         | 6/220 [08:05<4:46:59, 80.47s/it]"
     ]
    },
    {
     "name": "stdout",
     "output_type": "stream",
     "text": [
      "column: distance_2nd_closest_to_0 - 0.3058\n"
     ]
    },
    {
     "name": "stderr",
     "output_type": "stream",
     "text": [
      "  3%|▎         | 7/220 [09:23<4:43:19, 79.81s/it]"
     ]
    },
    {
     "name": "stdout",
     "output_type": "stream",
     "text": [
      "column: distance_3rd_closest_to_0 - 0.283\n"
     ]
    },
    {
     "name": "stderr",
     "output_type": "stream",
     "text": [
      "  4%|▎         | 8/220 [10:40<4:38:17, 78.76s/it]"
     ]
    },
    {
     "name": "stdout",
     "output_type": "stream",
     "text": [
      "column: distance_4th_closest_to_0 - 0.26887\n"
     ]
    },
    {
     "name": "stderr",
     "output_type": "stream",
     "text": [
      "  4%|▍         | 9/220 [12:00<4:38:22, 79.16s/it]"
     ]
    },
    {
     "name": "stdout",
     "output_type": "stream",
     "text": [
      "column: distance_5th_closest_to_0 - 0.24611\n"
     ]
    },
    {
     "name": "stderr",
     "output_type": "stream",
     "text": [
      "  5%|▍         | 10/220 [13:21<4:38:55, 79.69s/it]"
     ]
    },
    {
     "name": "stdout",
     "output_type": "stream",
     "text": [
      "column: distance_6th_closest_to_0 - 0.23454\n"
     ]
    },
    {
     "name": "stderr",
     "output_type": "stream",
     "text": [
      "  5%|▌         | 11/220 [14:36<4:33:27, 78.50s/it]"
     ]
    },
    {
     "name": "stdout",
     "output_type": "stream",
     "text": [
      "column: distance_7th_closest_to_0 - 0.23964\n"
     ]
    },
    {
     "name": "stderr",
     "output_type": "stream",
     "text": [
      "  5%|▌         | 12/220 [15:55<4:31:54, 78.44s/it]"
     ]
    },
    {
     "name": "stdout",
     "output_type": "stream",
     "text": [
      "column: distance_8th_closest_to_0 - 0.23404\n"
     ]
    },
    {
     "name": "stderr",
     "output_type": "stream",
     "text": [
      "  6%|▌         | 13/220 [17:19<4:36:34, 80.17s/it]"
     ]
    },
    {
     "name": "stdout",
     "output_type": "stream",
     "text": [
      "column: distance_9th_closest_to_0 - 0.22677\n"
     ]
    },
    {
     "name": "stderr",
     "output_type": "stream",
     "text": [
      "  6%|▋         | 14/220 [18:38<4:33:52, 79.77s/it]"
     ]
    },
    {
     "name": "stdout",
     "output_type": "stream",
     "text": [
      "column: distance_10th_closest_to_0 - 0.22592\n"
     ]
    },
    {
     "name": "stderr",
     "output_type": "stream",
     "text": [
      "  7%|▋         | 15/220 [19:58<4:33:11, 79.96s/it]"
     ]
    },
    {
     "name": "stdout",
     "output_type": "stream",
     "text": [
      "column: distance_closest_to_1 - 0.27569\n"
     ]
    },
    {
     "name": "stderr",
     "output_type": "stream",
     "text": [
      "  7%|▋         | 16/220 [21:19<4:32:37, 80.18s/it]"
     ]
    },
    {
     "name": "stdout",
     "output_type": "stream",
     "text": [
      "column: distance_2nd_closest_to_1 - 0.30652\n"
     ]
    },
    {
     "name": "stderr",
     "output_type": "stream",
     "text": [
      "  8%|▊         | 17/220 [22:37<4:29:28, 79.65s/it]"
     ]
    },
    {
     "name": "stdout",
     "output_type": "stream",
     "text": [
      "column: distance_3rd_closest_to_1 - 0.26993\n"
     ]
    },
    {
     "name": "stderr",
     "output_type": "stream",
     "text": [
      "  8%|▊         | 18/220 [23:57<4:28:39, 79.80s/it]"
     ]
    },
    {
     "name": "stdout",
     "output_type": "stream",
     "text": [
      "column: distance_4th_closest_to_1 - 0.2877\n"
     ]
    },
    {
     "name": "stderr",
     "output_type": "stream",
     "text": [
      "  9%|▊         | 19/220 [25:15<4:25:18, 79.20s/it]"
     ]
    },
    {
     "name": "stdout",
     "output_type": "stream",
     "text": [
      "column: distance_5th_closest_to_1 - 0.24876\n"
     ]
    },
    {
     "name": "stderr",
     "output_type": "stream",
     "text": [
      "  9%|▉         | 20/220 [26:37<4:27:00, 80.10s/it]"
     ]
    },
    {
     "name": "stdout",
     "output_type": "stream",
     "text": [
      "column: distance_6th_closest_to_1 - 0.23154\n"
     ]
    },
    {
     "name": "stderr",
     "output_type": "stream",
     "text": [
      " 10%|▉         | 21/220 [28:01<4:29:29, 81.25s/it]"
     ]
    },
    {
     "name": "stdout",
     "output_type": "stream",
     "text": [
      "column: distance_7th_closest_to_1 - 0.22864\n"
     ]
    },
    {
     "name": "stderr",
     "output_type": "stream",
     "text": [
      " 10%|█         | 22/220 [29:23<4:28:41, 81.42s/it]"
     ]
    },
    {
     "name": "stdout",
     "output_type": "stream",
     "text": [
      "column: distance_8th_closest_to_1 - 0.23046\n"
     ]
    },
    {
     "name": "stderr",
     "output_type": "stream",
     "text": [
      " 10%|█         | 23/220 [30:43<4:25:46, 80.95s/it]"
     ]
    },
    {
     "name": "stdout",
     "output_type": "stream",
     "text": [
      "column: distance_9th_closest_to_1 - 0.22797\n"
     ]
    },
    {
     "name": "stderr",
     "output_type": "stream",
     "text": [
      " 11%|█         | 24/220 [32:05<4:25:28, 81.27s/it]"
     ]
    },
    {
     "name": "stdout",
     "output_type": "stream",
     "text": [
      "column: distance_10th_closest_to_1 - 0.22939\n"
     ]
    },
    {
     "name": "stderr",
     "output_type": "stream",
     "text": [
      " 11%|█▏        | 25/220 [33:25<4:22:29, 80.77s/it]"
     ]
    },
    {
     "name": "stdout",
     "output_type": "stream",
     "text": [
      "column: closest_to_0_atomic_mass - 0.2185\n"
     ]
    },
    {
     "name": "stderr",
     "output_type": "stream",
     "text": [
      " 12%|█▏        | 26/220 [34:45<4:20:27, 80.55s/it]"
     ]
    },
    {
     "name": "stdout",
     "output_type": "stream",
     "text": [
      "column: closest_to_0_valence - 0.79999\n"
     ]
    },
    {
     "name": "stderr",
     "output_type": "stream",
     "text": [
      " 12%|█▏        | 27/220 [36:03<4:16:55, 79.87s/it]"
     ]
    },
    {
     "name": "stdout",
     "output_type": "stream",
     "text": [
      "column: closest_to_0_spin_multiplicity - 0.22107\n"
     ]
    },
    {
     "name": "stderr",
     "output_type": "stream",
     "text": [
      " 13%|█▎        | 28/220 [37:21<4:13:30, 79.22s/it]"
     ]
    },
    {
     "name": "stdout",
     "output_type": "stream",
     "text": [
      "column: 2nd_closest_to_0_atomic_mass - 0.39773\n"
     ]
    },
    {
     "name": "stderr",
     "output_type": "stream",
     "text": [
      " 13%|█▎        | 29/220 [38:42<4:13:56, 79.77s/it]"
     ]
    },
    {
     "name": "stdout",
     "output_type": "stream",
     "text": [
      "column: 2nd_closest_to_0_valence - 0.91053\n"
     ]
    },
    {
     "name": "stderr",
     "output_type": "stream",
     "text": [
      " 14%|█▎        | 30/220 [40:03<4:13:39, 80.10s/it]"
     ]
    },
    {
     "name": "stdout",
     "output_type": "stream",
     "text": [
      "column: 2nd_closest_to_0_spin_multiplicity - 0.21912\n"
     ]
    },
    {
     "name": "stderr",
     "output_type": "stream",
     "text": [
      " 14%|█▍        | 31/220 [41:22<4:11:37, 79.88s/it]"
     ]
    },
    {
     "name": "stdout",
     "output_type": "stream",
     "text": [
      "column: 3rd_closest_to_0_atomic_mass - 0.23961\n"
     ]
    },
    {
     "name": "stderr",
     "output_type": "stream",
     "text": [
      " 15%|█▍        | 32/220 [42:41<4:09:54, 79.76s/it]"
     ]
    },
    {
     "name": "stdout",
     "output_type": "stream",
     "text": [
      "column: 3rd_closest_to_0_valence - 0.26071\n"
     ]
    },
    {
     "name": "stderr",
     "output_type": "stream",
     "text": [
      " 15%|█▌        | 33/220 [44:05<4:12:23, 80.98s/it]"
     ]
    },
    {
     "name": "stdout",
     "output_type": "stream",
     "text": [
      "column: 3rd_closest_to_0_spin_multiplicity - 0.21921\n"
     ]
    },
    {
     "name": "stderr",
     "output_type": "stream",
     "text": [
      " 15%|█▌        | 34/220 [45:24<4:08:54, 80.29s/it]"
     ]
    },
    {
     "name": "stdout",
     "output_type": "stream",
     "text": [
      "column: 4th_closest_to_0_atomic_mass - 0.22221\n"
     ]
    },
    {
     "name": "stderr",
     "output_type": "stream",
     "text": [
      " 16%|█▌        | 35/220 [46:43<4:06:34, 79.97s/it]"
     ]
    },
    {
     "name": "stdout",
     "output_type": "stream",
     "text": [
      "column: 4th_closest_to_0_valence - 0.23851\n"
     ]
    },
    {
     "name": "stderr",
     "output_type": "stream",
     "text": [
      " 16%|█▋        | 36/220 [48:04<4:06:19, 80.33s/it]"
     ]
    },
    {
     "name": "stdout",
     "output_type": "stream",
     "text": [
      "column: 4th_closest_to_0_spin_multiplicity - 0.22143\n"
     ]
    },
    {
     "name": "stderr",
     "output_type": "stream",
     "text": [
      " 17%|█▋        | 37/220 [49:25<4:05:44, 80.57s/it]"
     ]
    },
    {
     "name": "stdout",
     "output_type": "stream",
     "text": [
      "column: 5th_closest_to_0_atomic_mass - 0.2394\n"
     ]
    },
    {
     "name": "stderr",
     "output_type": "stream",
     "text": [
      " 17%|█▋        | 38/220 [50:47<4:05:38, 80.98s/it]"
     ]
    },
    {
     "name": "stdout",
     "output_type": "stream",
     "text": [
      "column: 5th_closest_to_0_valence - 0.22211\n"
     ]
    },
    {
     "name": "stderr",
     "output_type": "stream",
     "text": [
      " 18%|█▊        | 39/220 [52:07<4:03:08, 80.60s/it]"
     ]
    },
    {
     "name": "stdout",
     "output_type": "stream",
     "text": [
      "column: 5th_closest_to_0_spin_multiplicity - 0.21858\n"
     ]
    },
    {
     "name": "stderr",
     "output_type": "stream",
     "text": [
      " 18%|█▊        | 40/220 [53:28<4:02:22, 80.79s/it]"
     ]
    },
    {
     "name": "stdout",
     "output_type": "stream",
     "text": [
      "column: 6th_closest_to_0_atomic_mass - 0.22826\n"
     ]
    },
    {
     "name": "stderr",
     "output_type": "stream",
     "text": [
      " 19%|█▊        | 41/220 [54:51<4:02:17, 81.21s/it]"
     ]
    },
    {
     "name": "stdout",
     "output_type": "stream",
     "text": [
      "column: 6th_closest_to_0_valence - 0.23448\n"
     ]
    },
    {
     "name": "stderr",
     "output_type": "stream",
     "text": [
      " 19%|█▉        | 42/220 [56:13<4:02:09, 81.62s/it]"
     ]
    },
    {
     "name": "stdout",
     "output_type": "stream",
     "text": [
      "column: 6th_closest_to_0_spin_multiplicity - 0.21866\n"
     ]
    },
    {
     "name": "stderr",
     "output_type": "stream",
     "text": [
      " 20%|█▉        | 43/220 [57:38<4:03:56, 82.69s/it]"
     ]
    },
    {
     "name": "stdout",
     "output_type": "stream",
     "text": [
      "column: 7th_closest_to_0_atomic_mass - 0.22704\n"
     ]
    },
    {
     "name": "stderr",
     "output_type": "stream",
     "text": [
      " 20%|██        | 44/220 [58:57<3:58:38, 81.35s/it]"
     ]
    },
    {
     "name": "stdout",
     "output_type": "stream",
     "text": [
      "column: 7th_closest_to_0_valence - 0.22634\n"
     ]
    },
    {
     "name": "stderr",
     "output_type": "stream",
     "text": [
      " 20%|██        | 45/220 [1:00:17<3:56:54, 81.22s/it]"
     ]
    },
    {
     "name": "stdout",
     "output_type": "stream",
     "text": [
      "column: 7th_closest_to_0_spin_multiplicity - 0.21865\n"
     ]
    },
    {
     "name": "stderr",
     "output_type": "stream",
     "text": [
      " 21%|██        | 46/220 [1:01:41<3:57:25, 81.87s/it]"
     ]
    },
    {
     "name": "stdout",
     "output_type": "stream",
     "text": [
      "column: 8th_closest_to_0_atomic_mass - 0.22245\n"
     ]
    },
    {
     "name": "stderr",
     "output_type": "stream",
     "text": [
      " 21%|██▏       | 47/220 [1:03:03<3:56:35, 82.06s/it]"
     ]
    },
    {
     "name": "stdout",
     "output_type": "stream",
     "text": [
      "column: 8th_closest_to_0_valence - 0.22179\n"
     ]
    },
    {
     "name": "stderr",
     "output_type": "stream",
     "text": [
      " 22%|██▏       | 48/220 [1:04:25<3:54:46, 81.90s/it]"
     ]
    },
    {
     "name": "stdout",
     "output_type": "stream",
     "text": [
      "column: 8th_closest_to_0_spin_multiplicity - 0.21871\n"
     ]
    },
    {
     "name": "stderr",
     "output_type": "stream",
     "text": [
      " 22%|██▏       | 49/220 [1:05:45<3:52:17, 81.51s/it]"
     ]
    },
    {
     "name": "stdout",
     "output_type": "stream",
     "text": [
      "column: 9th_closest_to_0_atomic_mass - 0.22618\n"
     ]
    },
    {
     "name": "stderr",
     "output_type": "stream",
     "text": [
      " 23%|██▎       | 50/220 [1:07:09<3:53:03, 82.26s/it]"
     ]
    },
    {
     "name": "stdout",
     "output_type": "stream",
     "text": [
      "column: 9th_closest_to_0_valence - 0.22734\n"
     ]
    },
    {
     "name": "stderr",
     "output_type": "stream",
     "text": [
      " 23%|██▎       | 51/220 [1:08:30<3:49:50, 81.60s/it]"
     ]
    },
    {
     "name": "stdout",
     "output_type": "stream",
     "text": [
      "column: 9th_closest_to_0_spin_multiplicity - 0.21866\n"
     ]
    },
    {
     "name": "stderr",
     "output_type": "stream",
     "text": [
      " 24%|██▎       | 52/220 [1:09:52<3:48:52, 81.74s/it]"
     ]
    },
    {
     "name": "stdout",
     "output_type": "stream",
     "text": [
      "column: 10th_closest_to_0_atomic_mass - 0.21942\n"
     ]
    },
    {
     "name": "stderr",
     "output_type": "stream",
     "text": [
      " 24%|██▍       | 53/220 [1:11:12<3:46:02, 81.21s/it]"
     ]
    },
    {
     "name": "stdout",
     "output_type": "stream",
     "text": [
      "column: 10th_closest_to_0_valence - 0.22007\n"
     ]
    },
    {
     "name": "stderr",
     "output_type": "stream",
     "text": [
      " 25%|██▍       | 54/220 [1:12:34<3:45:32, 81.52s/it]"
     ]
    },
    {
     "name": "stdout",
     "output_type": "stream",
     "text": [
      "column: 10th_closest_to_0_spin_multiplicity - 0.21869\n"
     ]
    }
   ],
   "source": [
    "types = ['2JHC', '3JHC', '2JHH', '2JHN', '1JHN', '3JHH', '1JHC']\n",
    "# results_dict = {}\n",
    "# bad_features_dict = {}\n",
    "for t in types:\n",
    "    train = pd.read_parquet(f'../data/FE016/FE016-train-{t}.parquet')\n",
    "    x = pd.read_parquet('../data/FE008_train.parquet') # only loading for skeleton not features\n",
    "    model = catboost.CatBoostRegressor()\n",
    "    model.load_model('../models/M040/M040-0708_1639-{}-{}.model'.format(t, 1))\n",
    "    mol_group = x[['molecule_name','type']].copy()\n",
    "    N_FOLDS = 2\n",
    "    folds = GroupKFold(n_splits=N_FOLDS)\n",
    "    X = train[model.feature_names_]\n",
    "    y = train['scalar_coupling_constant']\n",
    "    mol_group_type = mol_group.loc[mol_group['type'] == t]['molecule_name']\n",
    "    for fold_n, (train_idx, valid_idx) in enumerate(folds.split(X, groups=mol_group_type)):\n",
    "        X_train, X_valid = X.iloc[train_idx], X.iloc[valid_idx]\n",
    "        y_train, y_valid = y.iloc[train_idx], y.iloc[valid_idx]\n",
    "        X_valid = X_valid.copy()\n",
    "        results, bad_features = permutation_importance(model, X_valid, y_valid, metric=mean_absolute_error)\n",
    "        results_dict[t] = results\n",
    "        bad_features_dict[t] = bad_features\n",
    "        break # Only run for the first fold\n",
    "    print(f'Bad features for {t}:')\n",
    "    print(bad_features)\n",
    "    del train, x, X, y, mol_group_type\n",
    "    gc.collect()"
   ]
  },
  {
   "cell_type": "code",
   "execution_count": null,
   "metadata": {},
   "outputs": [],
   "source": []
  }
 ],
 "metadata": {
  "kernelspec": {
   "display_name": "Python 3",
   "language": "python",
   "name": "python3"
  },
  "language_info": {
   "codemirror_mode": {
    "name": "ipython",
    "version": 3
   },
   "file_extension": ".py",
   "mimetype": "text/x-python",
   "name": "python",
   "nbconvert_exporter": "python",
   "pygments_lexer": "ipython3",
   "version": "3.6.6"
  }
 },
 "nbformat": 4,
 "nbformat_minor": 2
}
